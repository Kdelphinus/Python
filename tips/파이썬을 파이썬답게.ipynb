{
 "cells": [
  {
   "cell_type": "markdown",
   "source": [
    "# 파이썬을 파이썬답게\n",
    "- 프로그래머스 무료 강의\n",
    "- 파이썬에 있는 여러 기능들을 소개해주는 강의"
   ],
   "metadata": {
    "collapsed": false,
    "pycharm": {
     "name": "#%% md\n"
    }
   }
  },
  {
   "cell_type": "markdown",
   "source": [
    "## 몫과 나머지 - divmod"
   ],
   "metadata": {
    "collapsed": false,
    "pycharm": {
     "name": "#%% md\n"
    }
   }
  },
  {
   "cell_type": "code",
   "execution_count": 4,
   "outputs": [
    {
     "name": "stdout",
     "output_type": "stream",
     "text": [
      "1 2\n",
      "1 2\n"
     ]
    }
   ],
   "source": [
    "a, b = 7, 5\n",
    "print(a // b, a % b)\n",
    "print(*divmod(a, b))"
   ],
   "metadata": {
    "collapsed": false,
    "pycharm": {
     "name": "#%%\n"
    }
   }
  },
  {
   "cell_type": "markdown",
   "source": [
    "```divmod```는 위와 같이 몫과 나머지를 출력해주는 함수이다. 프로젝트에 따라 직접 몫과 나머지를 구하는 것이 가독성이 좋을 수 있기에 합의하여 사용하면 된다.\n",
    "\n",
    "또한 작은 숫자를 다룰 때는 ```divmod```보다 직접 구하는 것이 빠르고 큰 숫자에선 ```divmod```가 더 빠르다. 이에 대해선 [Stack Overflow](https://stackoverflow.com/questions/30079879/is-divmod-faster-than-using-the-and-operators)를 참고하면 된다."
   ],
   "metadata": {
    "collapsed": false,
    "pycharm": {
     "name": "#%% md\n"
    }
   }
  },
  {
   "cell_type": "markdown",
   "source": [
    "## n진법으로 표기된 string을 10진법 숫자로 변환하기 - int 함수"
   ],
   "metadata": {
    "collapsed": false,
    "pycharm": {
     "name": "#%% md\n"
    }
   }
  },
  {
   "cell_type": "code",
   "execution_count": 6,
   "outputs": [
    {
     "name": "stdout",
     "output_type": "stream",
     "text": [
      "for문을 이용한 방법: 432\n",
      "int를 이용한 방법: 432\n"
     ]
    }
   ],
   "source": [
    "num = \"3212\"\n",
    "base = 5\n",
    "\n",
    "# for문을 이용해 구하는 방법\n",
    "ans = 0\n",
    "for idx, number in enumerate(num[::-1]):\n",
    "\tans += int(number) * (base ** idx)\n",
    "print(f\"for문을 이용한 방법: {ans}\")\n",
    "\n",
    "# int를 이용해 구하는 방법\n",
    "ans = int(num, base)\n",
    "print(f\"int를 이용한 방법: {ans}\")"
   ],
   "metadata": {
    "collapsed": false,
    "pycharm": {
     "name": "#%%\n"
    }
   }
  },
  {
   "cell_type": "markdown",
   "source": [
    "파이썬에선 ```int```라는 정수로 변환하는 함수가 존재한다. 대부분 ```int(num)```의 형태로 사용하지만 실제론 ```int(num, base=10)```로 10진법이 기본 변수로 지정되어 있다. 그렇기에 다른 진수를 넣으면 다른 진수들도 10진법으로 변환할 수 있다."
   ],
   "metadata": {
    "collapsed": false,
    "pycharm": {
     "name": "#%% md\n"
    }
   }
  },
  {
   "cell_type": "code",
   "execution_count": 8,
   "outputs": [
    {
     "name": "stdout",
     "output_type": "stream",
     "text": [
      "42\n"
     ]
    }
   ],
   "source": [
    "num = \"0x2a\"\n",
    "print(int(num, 16))"
   ],
   "metadata": {
    "collapsed": false,
    "pycharm": {
     "name": "#%%\n"
    }
   }
  },
  {
   "cell_type": "markdown",
   "source": [
    "## 문자열 정렬하기 - ljust, center, rjust"
   ],
   "metadata": {
    "collapsed": false,
    "pycharm": {
     "name": "#%% md\n"
    }
   }
  },
  {
   "cell_type": "markdown",
   "source": [
    "우측 정렬을 예시로 코드를 보자면 다음과 같다."
   ],
   "metadata": {
    "collapsed": false,
    "pycharm": {
     "name": "#%% md\n"
    }
   }
  },
  {
   "cell_type": "code",
   "execution_count": 12,
   "outputs": [
    {
     "name": "stdout",
     "output_type": "stream",
     "text": [
      "          Kdelphinus\n",
      "          Kdelphinus\n"
     ]
    }
   ],
   "source": [
    "s = \"Kdelphinus\"\n",
    "n = 20\n",
    "\n",
    "# for문을 이용한 우측 정렬\n",
    "ans = \"\"\n",
    "for i in range(n - len(s)):\n",
    "\tans += \" \"\n",
    "ans += s\n",
    "print(ans)\n",
    "\n",
    "# rjust를 이용한 우측 정렬\n",
    "ans = s.rjust(n)\n",
    "print(ans)"
   ],
   "metadata": {
    "collapsed": false,
    "pycharm": {
     "name": "#%%\n"
    }
   }
  },
  {
   "cell_type": "markdown",
   "source": [
    "이외에도 왼쪽 정렬은 ```ljust```, 가운데 정렬은 ```center```를 이용하면 된다."
   ],
   "metadata": {
    "collapsed": false,
    "pycharm": {
     "name": "#%% md\n"
    }
   }
  },
  {
   "cell_type": "code",
   "execution_count": 13,
   "outputs": [
    {
     "name": "stdout",
     "output_type": "stream",
     "text": [
      "Kdelphinus          \n",
      "     Kdelphinus     \n",
      "          Kdelphinus\n"
     ]
    }
   ],
   "source": [
    "s = \"Kdelphinus\"\n",
    "n = 20\n",
    "\n",
    "print(s.ljust(n))\n",
    "print(s.center(n))\n",
    "print(s.rjust(n))"
   ],
   "metadata": {
    "collapsed": false,
    "pycharm": {
     "name": "#%%\n"
    }
   }
  },
  {
   "cell_type": "markdown",
   "source": [
    "## 알파벳 출력하기 - string 모듈"
   ],
   "metadata": {
    "collapsed": false,
    "pycharm": {
     "name": "#%% md\n"
    }
   }
  },
  {
   "cell_type": "code",
   "execution_count": 14,
   "outputs": [
    {
     "name": "stdout",
     "output_type": "stream",
     "text": [
      "abcdefghijklmnopqrstuvwxyz\n",
      "abcdefghijklmnopqrstuvwxyz\n"
     ]
    }
   ],
   "source": [
    "# 직접 입력하기\n",
    "ans = \"abcdefghijklmnopqrstuvwxyz\"\n",
    "print(ans)\n",
    "\n",
    "# string 모듈 이용하기\n",
    "import string\n",
    "\n",
    "\n",
    "ans = string.ascii_lowercase\n",
    "print(ans)"
   ],
   "metadata": {
    "collapsed": false,
    "pycharm": {
     "name": "#%%\n"
    }
   }
  },
  {
   "cell_type": "markdown",
   "source": [
    "string모듈에 저장된 글자를 사용하면 직접 입력하지 않아도 된다. 그 외에도 대문자, 소문자와 대문자, 숫자 등을 불러올 수 있다."
   ],
   "metadata": {
    "collapsed": false,
    "pycharm": {
     "name": "#%% md\n"
    }
   }
  },
  {
   "cell_type": "code",
   "execution_count": 20,
   "outputs": [
    {
     "name": "stdout",
     "output_type": "stream",
     "text": [
      "abcdefghijklmnopqrstuvwxyz\n",
      "ABCDEFGHIJKLMNOPQRSTUVWXYZ\n",
      "abcdefghijklmnopqrstuvwxyzABCDEFGHIJKLMNOPQRSTUVWXYZ\n",
      "0123456789\n",
      "01234567\n",
      "0123456789abcdefABCDEF\n",
      "!\"#$%&'()*+,-./:;<=>?@[\\]^_`{|}~\n",
      "0123456789abcdefghijklmnopqrstuvwxyzABCDEFGHIJKLMNOPQRSTUVWXYZ!\"#$%&'()*+,-./:;<=>?@[\\]^_`{|}~ \t\n",
      "\u000B\f\n",
      "['ascii_letters', 'ascii_lowercase', 'ascii_uppercase', 'capwords', 'digits', 'hexdigits', 'octdigits', 'printable', 'punctuation', 'whitespace', 'Formatter', 'Template']\n"
     ]
    }
   ],
   "source": [
    "import string\n",
    "\n",
    "\n",
    "print(string.ascii_lowercase) # 소문자\n",
    "print(string.ascii_uppercase) # 대문자\n",
    "print(string.ascii_letters) # 소문자와 대문자\n",
    "print(string.digits) # 10진수\n",
    "print(string.octdigits) # 8진수\n",
    "print(string.hexdigits) # 16진수\n",
    "print(string.punctuation) # 특수 문자\n",
    "print(string.printable) # 숫자 + 소문자 + 대문자 + 특수 문자\n",
    "print(string.__all__) # string에 있는 목록들"
   ],
   "metadata": {
    "collapsed": false,
    "pycharm": {
     "name": "#%%\n"
    }
   }
  },
  {
   "cell_type": "markdown",
   "source": [
    "## 2차원 리스트 뒤집기(행과 열 바꾸기) - zip"
   ],
   "metadata": {
    "collapsed": false,
    "pycharm": {
     "name": "#%% md\n"
    }
   }
  },
  {
   "cell_type": "code",
   "execution_count": 22,
   "outputs": [
    {
     "name": "stdout",
     "output_type": "stream",
     "text": [
      "[[1, 4, 7], [2, 5, 8], [3, 6, 9]]\n",
      "[[1, 4, 7], [2, 5, 8], [3, 6, 9]]\n"
     ]
    }
   ],
   "source": [
    "lst = [[1, 2, 3], [4, 5, 6], [7, 8, 9]]\n",
    "new_lst = [[], [], []]\n",
    "\n",
    "# for문을 사용해 뒤집기\n",
    "for i in range(len(lst)):\n",
    "\tfor j in range(len(lst[i])):\n",
    "\t\tnew_lst[i].append(lst[j][i])\n",
    "print(new_lst)\n",
    "\n",
    "# zip을 사용해 뒤집기\n",
    "new_lst = list(map(list, zip(*lst)))\n",
    "print(new_lst)"
   ],
   "metadata": {
    "collapsed": false,
    "pycharm": {
     "name": "#%%\n"
    }
   }
  },
  {
   "cell_type": "markdown",
   "source": [
    "파이썬 공식 문서에서 ```zip```의 설명은 다음과 같다.\n",
    "\n",
    "> zip(*iterables)는 각 iterables 의 요소들을 모으는 이터레이터를 만듭니다.\n",
    "튜플의 이터레이터를 돌려주는데, i 번째 튜플은 각 인자로 전달된 시퀀스나 이터러블의 i 번째 요소를 포함합니다.\n",
    "\n",
    "> Returns an iterator of tuples, where the i-th tuple contains the i-th element from each of the argument sequences or iterables."
   ],
   "metadata": {
    "collapsed": false,
    "pycharm": {
     "name": "#%% md\n"
    }
   }
  },
  {
   "cell_type": "code",
   "execution_count": 24,
   "outputs": [
    {
     "name": "stdout",
     "output_type": "stream",
     "text": [
      "(1, 10)\n",
      "(2, 20)\n",
      "(3, 30)\n"
     ]
    }
   ],
   "source": [
    "lst = [1, 2, 3]\n",
    "lst2 = [10, 20, 30]\n",
    "for i in zip(lst, lst2):\n",
    "\tprint(i)"
   ],
   "metadata": {
    "collapsed": false,
    "pycharm": {
     "name": "#%%\n"
    }
   }
  },
  {
   "cell_type": "markdown",
   "source": [
    "이를 이용해 dict을 간단하게 만들 수도 있다."
   ],
   "metadata": {
    "collapsed": false,
    "pycharm": {
     "name": "#%% md\n"
    }
   }
  },
  {
   "cell_type": "code",
   "execution_count": 26,
   "outputs": [
    {
     "name": "stdout",
     "output_type": "stream",
     "text": [
      "{'cat': 'meow', 'dog': 'woof', 'lion': 'roar'}\n"
     ]
    }
   ],
   "source": [
    "animals = ['cat', 'dog', 'lion']\n",
    "sounds = ['meow', 'woof', 'roar']\n",
    "answer = dict(zip(animals, sounds))\n",
    "print(answer)"
   ],
   "metadata": {
    "collapsed": false,
    "pycharm": {
     "name": "#%%\n"
    }
   }
  },
  {
   "cell_type": "markdown",
   "source": [
    "## i번째 원소와 i + 1번째 원소 - zip"
   ],
   "metadata": {
    "collapsed": false,
    "pycharm": {
     "name": "#%% md\n"
    }
   }
  },
  {
   "cell_type": "code",
   "execution_count": 27,
   "outputs": [
    {
     "name": "stdout",
     "output_type": "stream",
     "text": [
      "[35, 35, 9, 67, 60]\n",
      "[35, 35, 9, 67, 60]\n"
     ]
    }
   ],
   "source": [
    "lst = [83, 48, 13, 4, 71, 11]\n",
    "\n",
    "# for문을 이용\n",
    "ans = []\n",
    "for i in range(len(lst) - 1):\n",
    "\tans.append(abs(lst[i] - lst[i + 1]))\n",
    "print(ans)\n",
    "\n",
    "# zip을 이용\n",
    "ans = []\n",
    "for i, j in zip(lst, lst[1:]):\n",
    "\tans.append(abs(i - j))\n",
    "print(ans)"
   ],
   "metadata": {
    "collapsed": false,
    "pycharm": {
     "name": "#%%\n"
    }
   }
  },
  {
   "cell_type": "markdown",
   "source": [
    "```zip```은 들어온 iterable 중 가장 짧은 것을 기준으로만 돈다.\n",
    "\n",
    "> Returns an iterator of tuples, where the i-th tuple contains the i-th element from each of the argument sequences or iterables. The iterator stops when the shortest input iterable is exhausted."
   ],
   "metadata": {
    "collapsed": false,
    "pycharm": {
     "name": "#%% md\n"
    }
   }
  },
  {
   "cell_type": "markdown",
   "source": [
    "## 모든 멤버의 type 변환하기 - map"
   ],
   "metadata": {
    "collapsed": false,
    "pycharm": {
     "name": "#%% md\n"
    }
   }
  },
  {
   "cell_type": "code",
   "execution_count": 28,
   "outputs": [
    {
     "name": "stdout",
     "output_type": "stream",
     "text": [
      "[1, 100, 33]\n",
      "[1, 100, 33]\n"
     ]
    }
   ],
   "source": [
    "lst = ['1', '100', '33']\n",
    "\n",
    "# for문을 사용\n",
    "lst2 = []\n",
    "for i in lst:\n",
    "\tlst2.append(int(i))\n",
    "print(lst2)\n",
    "\n",
    "# map을 사용\n",
    "lst2 = list(map(int, lst))\n",
    "print(lst2)"
   ],
   "metadata": {
    "collapsed": false,
    "pycharm": {
     "name": "#%%\n"
    }
   }
  },
  {
   "cell_type": "markdown",
   "source": [
    "## sequence 멤버를 하나로 이어붙이기 - join"
   ],
   "metadata": {
    "collapsed": false,
    "pycharm": {
     "name": "#%% md\n"
    }
   }
  },
  {
   "cell_type": "code",
   "execution_count": 30,
   "outputs": [
    {
     "name": "stdout",
     "output_type": "stream",
     "text": [
      "Kdelphinus\n",
      "Kdelphinus\n"
     ]
    }
   ],
   "source": [
    "lst = [\"K\", \"del\", \"phinus\"]\n",
    "\n",
    "# for문을 이용\n",
    "ans = \"\"\n",
    "for i in lst:\n",
    "\tans += i\n",
    "print(ans)\n",
    "\n",
    "# join을 사용\n",
    "ans = ''.join(lst)\n",
    "print(ans)"
   ],
   "metadata": {
    "collapsed": false,
    "pycharm": {
     "name": "#%%\n"
    }
   }
  },
  {
   "cell_type": "markdown",
   "source": [
    "```str.join(iterable)```은 iterable의 원소들을 str로 이어 붙이는 역할을 한다."
   ],
   "metadata": {
    "collapsed": false,
    "pycharm": {
     "name": "#%% md\n"
    }
   }
  },
  {
   "cell_type": "markdown",
   "source": [
    "## 곱집합(Cartesian product) 구하기 - product"
   ],
   "metadata": {
    "collapsed": false,
    "pycharm": {
     "name": "#%% md\n"
    }
   }
  },
  {
   "cell_type": "code",
   "execution_count": 31,
   "outputs": [
    {
     "name": "stdout",
     "output_type": "stream",
     "text": [
      "A x 1\n",
      "A x 2\n",
      "A x 3\n",
      "A x 4\n",
      "A y 1\n",
      "A y 2\n",
      "A y 3\n",
      "A y 4\n",
      "B x 1\n",
      "B x 2\n",
      "B x 3\n",
      "B x 4\n",
      "B y 1\n",
      "B y 2\n",
      "B y 3\n",
      "B y 4\n",
      "C x 1\n",
      "C x 2\n",
      "C x 3\n",
      "C x 4\n",
      "C y 1\n",
      "C y 2\n",
      "C y 3\n",
      "C y 4\n",
      "D x 1\n",
      "D x 2\n",
      "D x 3\n",
      "D x 4\n",
      "D y 1\n",
      "D y 2\n",
      "D y 3\n",
      "D y 4\n",
      "\n",
      "[('A', 'x', '1'), ('A', 'x', '2'), ('A', 'x', '3'), ('A', 'x', '4'), ('A', 'y', '1'), ('A', 'y', '2'), ('A', 'y', '3'), ('A', 'y', '4'), ('B', 'x', '1'), ('B', 'x', '2'), ('B', 'x', '3'), ('B', 'x', '4'), ('B', 'y', '1'), ('B', 'y', '2'), ('B', 'y', '3'), ('B', 'y', '4'), ('C', 'x', '1'), ('C', 'x', '2'), ('C', 'x', '3'), ('C', 'x', '4'), ('C', 'y', '1'), ('C', 'y', '2'), ('C', 'y', '3'), ('C', 'y', '4'), ('D', 'x', '1'), ('D', 'x', '2'), ('D', 'x', '3'), ('D', 'x', '4'), ('D', 'y', '1'), ('D', 'y', '2'), ('D', 'y', '3'), ('D', 'y', '4')]\n"
     ]
    }
   ],
   "source": [
    "iter1 = \"ABCD\"\n",
    "iter2 = \"xy\"\n",
    "iter3 = \"1234\"\n",
    "for i in iter1:\n",
    "\tfor j in iter2:\n",
    "\t\tfor k in iter3:\n",
    "\t\t\tprint(i, j, k)\n",
    "\n",
    "print()\n",
    "\n",
    "import itertools\n",
    "\n",
    "\n",
    "print(list(itertools.product(iter1, iter2, iter3)))"
   ],
   "metadata": {
    "collapsed": false,
    "pycharm": {
     "name": "#%%\n"
    }
   }
  },
  {
   "cell_type": "markdown",
   "source": [
    "itertools.product를 사용하면 곱집합을 구할 수 있다."
   ],
   "metadata": {
    "collapsed": false,
    "pycharm": {
     "name": "#%% md\n"
    }
   }
  },
  {
   "cell_type": "markdown",
   "source": [
    "## 2차원 리스트를 1차원 리스트로 만들기 - from_iterable"
   ],
   "metadata": {
    "collapsed": false,
    "pycharm": {
     "name": "#%% md\n"
    }
   }
  },
  {
   "cell_type": "code",
   "execution_count": 35,
   "outputs": [
    {
     "name": "stdout",
     "output_type": "stream",
     "text": [
      "[1, 2, 3, 4, 5, 6]\n",
      "[1, 2, 3, 4, 5, 6]\n",
      "<itertools.chain object at 0x0000016371E4AF40>\n",
      "[1, 2, 3, 4, 5, 6]\n",
      "[1, 2, 3, 4, 5, 6]\n",
      "[1, 2, 3, 4, 5, 6]\n"
     ]
    }
   ],
   "source": [
    "lst = [[1, 2], [3, 4], [5, 6]]\n",
    "\n",
    "# for문을 사용\n",
    "ans = []\n",
    "for i in lst:\n",
    "\tans += i\n",
    "print(ans)\n",
    "\n",
    "# sum 사용\n",
    "print(sum(lst, []))\n",
    "\n",
    "# itertools.chain 사용\n",
    "import itertools\n",
    "print(itertools.chain(*lst))\n",
    "\n",
    "# list comprehension 사용\n",
    "print([element for lstay in lst for element in lstay])\n",
    "\n",
    "# reduce 사용\n",
    "from functools import reduce\n",
    "print(list(reduce(lambda x, y: x+y, lst)))\n",
    "\n",
    "# reduce와 operator 사용\n",
    "from functools import reduce\n",
    "import operator\n",
    "print(list(reduce(operator.add, lst)))"
   ],
   "metadata": {
    "collapsed": false,
    "pycharm": {
     "name": "#%%\n"
    }
   }
  },
  {
   "cell_type": "markdown",
   "source": [
    "이외에도 각 원소의 길이가 동일한 경우에만 사용 가능한 기능들도 있다."
   ],
   "metadata": {
    "collapsed": false,
    "pycharm": {
     "name": "#%% md\n"
    }
   }
  },
  {
   "cell_type": "code",
   "execution_count": 36,
   "outputs": [
    {
     "data": {
      "text/plain": "[1, 2, 3, 4, 5, 6]"
     },
     "execution_count": 36,
     "metadata": {},
     "output_type": "execute_result"
    }
   ],
   "source": [
    "# numpy의 flatten 사용\n",
    "import numpy as np\n",
    "np.lstay(lst).flatten().tolist()"
   ],
   "metadata": {
    "collapsed": false,
    "pycharm": {
     "name": "#%%\n"
    }
   }
  },
  {
   "cell_type": "markdown",
   "source": [
    "## 순열과 조합 - combinations, permutations"
   ],
   "metadata": {
    "collapsed": false,
    "pycharm": {
     "name": "#%% md\n"
    }
   }
  },
  {
   "cell_type": "code",
   "execution_count": 43,
   "outputs": [
    {
     "name": "stdout",
     "output_type": "stream",
     "text": [
      "[['1', '2', '3'], ['2', '1', '3'], ['3', '1', '2'], ['1', '3', '2'], ['2', '3', '1'], ['3', '2', '1']]\n",
      "['321', '312', '231', '213', '132', '123']\n",
      "['32', '31', '23', '21', '13', '12']\n"
     ]
    }
   ],
   "source": [
    "lst = ['1', '2', '3']\n",
    "\n",
    "# for문을 이용\n",
    "ans = [lst[:]]\n",
    "c = [0] * len(lst)\n",
    "i = 0\n",
    "while i < len(lst):\n",
    "    if c[i] < i:\n",
    "        if i % 2 == 0:\n",
    "            lst[0], lst[i] = lst[i], lst[0]\n",
    "        else:\n",
    "            lst[c[i]], lst[i] = lst[i], lst[c[i]]\n",
    "        ans.append(lst[:])\n",
    "        c[i] += 1\n",
    "        i = 0\n",
    "    else:\n",
    "        c[i] = 0\n",
    "        i += 1\n",
    "print(ans)\n",
    "\n",
    "# itertools.permutation 이용\n",
    "import itertools\n",
    "print(list(map(''.join, itertools.permutations(lst))))\n",
    "print(list(map(''.join, itertools.permutations(lst, 2)))) # 2개의 원소로 수열 만들기"
   ],
   "metadata": {
    "collapsed": false,
    "pycharm": {
     "name": "#%%\n"
    }
   }
  },
  {
   "cell_type": "markdown",
   "source": [
    "## 가장 많이 등장하는 알파벳 찾기 - Counter"
   ],
   "metadata": {
    "collapsed": false,
    "pycharm": {
     "name": "#%% md\n"
    }
   }
  },
  {
   "cell_type": "code",
   "execution_count": 49,
   "outputs": [
    {
     "name": "stdout",
     "output_type": "stream",
     "text": [
      "4\n",
      "3\n",
      "4\n",
      "3\n",
      "0\n"
     ]
    }
   ],
   "source": [
    "# for문을 사용\n",
    "my_list = [1, 2, 3, 4, 5, 6, 7, 8, 7, 9, 1, 2, 3, 3, 5, 2, 6, 8, 9, 0, 1, 1, 4, 7, 0]\n",
    "answer = {}\n",
    "for number in my_list:\n",
    "    try:\n",
    "        answer[number] += 1\n",
    "    except KeyError:\n",
    "        answer[number] = 1\n",
    "\n",
    "print(answer[1]) # = 4\n",
    "print(answer[3])  # = 3\n",
    "\n",
    "# Counter를 사용\n",
    "import collections\n",
    "my_list = [1, 2, 3, 4, 5, 6, 7, 8, 7, 9, 1, 2, 3, 3, 5, 2, 6, 8, 9, 0, 1, 1, 4, 7, 0]\n",
    "answer = collections.Counter(my_list)\n",
    "\n",
    "print(answer[1]) # = 4\n",
    "print(answer[3])  # = 3\n",
    "print(answer[100]) # = 0"
   ],
   "metadata": {
    "collapsed": false,
    "pycharm": {
     "name": "#%%\n"
    }
   }
  },
  {
   "cell_type": "markdown",
   "source": [
    "## for문과 if문을 한번에 - List comprehension의 if문"
   ],
   "metadata": {
    "collapsed": false,
    "pycharm": {
     "name": "#%% md\n"
    }
   }
  },
  {
   "cell_type": "code",
   "execution_count": 50,
   "outputs": [
    {
     "name": "stdout",
     "output_type": "stream",
     "text": [
      "[4, 36]\n",
      "[4, 36]\n"
     ]
    }
   ],
   "source": [
    "lst = [3, 2, 6, 7]\n",
    "\n",
    "# for문을 사용\n",
    "ans = []\n",
    "for n in lst:\n",
    "\tif n % 2 == 0:\n",
    "\t\tans.append(n ** 2)\n",
    "print(ans)\n",
    "\n",
    "# list comprehension을 사용\n",
    "print([i ** 2 for i in lst if i % 2 == 0])"
   ],
   "metadata": {
    "collapsed": false,
    "pycharm": {
     "name": "#%%\n"
    }
   }
  },
  {
   "cell_type": "markdown",
   "source": [
    "## flag대신 for-else 사용하기"
   ],
   "metadata": {
    "collapsed": false,
    "pycharm": {
     "name": "#%% md\n"
    }
   }
  },
  {
   "cell_type": "code",
   "execution_count": 55,
   "outputs": [
    {
     "name": "stdout",
     "output_type": "stream",
     "text": [
      "not found\n"
     ]
    }
   ],
   "source": [
    "num = [5, 2, 3, 1, 2]\n",
    "\n",
    "# flag 사용\n",
    "multi = 1\n",
    "flag = True\n",
    "for n in num:\n",
    "\tmulti *= n\n",
    "\tif multi ** 0.5 == int(multi ** 0.5):\n",
    "\t\tflag = False\n",
    "\t\tprint(\"found\")\n",
    "\t\tbreak\n",
    "if flag:\n",
    "\tprint(\"not found\")\n",
    "\n",
    "# for-else 사용\n",
    "multi = 1\n",
    "for n in num:\n",
    "\tmulti *= n\n",
    "\tif multi ** 0.5 == int(multi ** 0.5):\n",
    "\t\tprint(\"found\")\n",
    "\t\tbreak\n",
    "else:\n",
    "\tprint(\"not found\")"
   ],
   "metadata": {
    "collapsed": false,
    "pycharm": {
     "name": "#%%\n"
    }
   }
  },
  {
   "cell_type": "markdown",
   "source": [
    "for-else문은 for문을 돌 동안 break로 빠져나오면 else문을 지나가고 for문이 다 돌아서 나오면 else문을 들어간다."
   ],
   "metadata": {
    "collapsed": false,
    "pycharm": {
     "name": "#%% md\n"
    }
   }
  },
  {
   "cell_type": "markdown",
   "source": [
    "## 두 변수의 값 바꾸기 - swap"
   ],
   "metadata": {
    "collapsed": false,
    "pycharm": {
     "name": "#%% md\n"
    }
   }
  },
  {
   "cell_type": "code",
   "execution_count": 56,
   "outputs": [
    {
     "name": "stdout",
     "output_type": "stream",
     "text": [
      "abc 3\n",
      "abc 3\n"
     ]
    }
   ],
   "source": [
    "a, b = 3, \"abc\"\n",
    "\n",
    "# tmp를 사용\n",
    "tmp = a\n",
    "a = b\n",
    "b = tmp\n",
    "print(a, b)\n",
    "\n",
    "\n",
    "a, b = 3, \"abc\"\n",
    "\n",
    "# swap을 사용\n",
    "a, b = b, a\n",
    "print(a, b)"
   ],
   "metadata": {
    "collapsed": false,
    "pycharm": {
     "name": "#%%\n"
    }
   }
  },
  {
   "cell_type": "markdown",
   "source": [
    "## 이진 탐색하기 - binary search"
   ],
   "metadata": {
    "collapsed": false,
    "pycharm": {
     "name": "#%% md\n"
    }
   }
  },
  {
   "cell_type": "code",
   "execution_count": 75,
   "outputs": [
    {
     "name": "stdout",
     "output_type": "stream",
     "text": [
      "3\n"
     ]
    }
   ],
   "source": [
    "import bisect\n",
    "\n",
    "lst = [1, 2, 3, 7, 9, 11, 33]\n",
    "print(bisect.bisect(lst, 3))"
   ],
   "metadata": {
    "collapsed": false,
    "pycharm": {
     "name": "#%%\n"
    }
   }
  },
  {
   "cell_type": "markdown",
   "source": [
    "이때 결과값은 원하는 숫자나 원하는 숫자보다 바로 직전의 작은 수의 다음 인덱스를 반환한다."
   ],
   "metadata": {
    "collapsed": false,
    "pycharm": {
     "name": "#%% md\n"
    }
   }
  },
  {
   "cell_type": "markdown",
   "source": [
    "## 클래스 인스턴스 출력하기 - class의 자동 string casting"
   ],
   "metadata": {
    "collapsed": false,
    "pycharm": {
     "name": "#%% md\n"
    }
   }
  },
  {
   "cell_type": "code",
   "execution_count": 76,
   "outputs": [
    {
     "name": "stdout",
     "output_type": "stream",
     "text": [
      "( 1, 2 )\n",
      "( 1, 2 )\n"
     ]
    }
   ],
   "source": [
    "# 기존\n",
    "class Coord(object):\n",
    "\tdef __init__(self, x, y):\n",
    "\t\tself.x, self.y = x, y\n",
    "\n",
    "point = Coord(1, 2)\n",
    "print(f\"( {point.x}, {point.y} )\")\n",
    "\n",
    "# __str__ 메소드 사용\n",
    "class Coord(object):\n",
    "\tdef __init__(self, x, y):\n",
    "\t\tself.x, self.y = x, y\n",
    "\tdef __str__(self):\n",
    "\t\treturn f\"( {self.x}, {self.y} )\"\n",
    "\n",
    "point = Coord(1, 2)\n",
    "print(point)"
   ],
   "metadata": {
    "collapsed": false,
    "pycharm": {
     "name": "#%%\n"
    }
   }
  }
 ],
 "metadata": {
  "kernelspec": {
   "display_name": "Python 3",
   "language": "python",
   "name": "python3"
  },
  "language_info": {
   "codemirror_mode": {
    "name": "ipython",
    "version": 2
   },
   "file_extension": ".py",
   "mimetype": "text/x-python",
   "name": "python",
   "nbconvert_exporter": "python",
   "pygments_lexer": "ipython2",
   "version": "2.7.6"
  }
 },
 "nbformat": 4,
 "nbformat_minor": 0
}