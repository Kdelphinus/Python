{
 "cells": [
  {
   "cell_type": "markdown",
   "source": [
    "# 파이썬을 파이썬답게\n",
    "- 프로그래머스 무료 강의\n",
    "- 파이썬에 있는 여러 기능들을 소개해주는 강의"
   ],
   "metadata": {
    "collapsed": false,
    "pycharm": {
     "name": "#%% md\n"
    }
   }
  },
  {
   "cell_type": "markdown",
   "source": [
    "index\n",
    "\n",
    "- [Part 2. 정수 다루기](#Part-2.-정수-다루기)\n",
    "- [Part 3. str 다루기](#Part-3.-str-다루기)"
   ],
   "metadata": {
    "collapsed": false,
    "pycharm": {
     "name": "#%% md\n"
    }
   }
  },
  {
   "cell_type": "markdown",
   "source": [
    "# Part 2. 정수 다루기"
   ],
   "metadata": {
    "collapsed": false,
    "pycharm": {
     "name": "#%% md\n"
    }
   }
  },
  {
   "cell_type": "markdown",
   "source": [
    "## 몫과 나머지 - divmod"
   ],
   "metadata": {
    "collapsed": false,
    "pycharm": {
     "name": "#%% md\n"
    }
   }
  },
  {
   "cell_type": "code",
   "execution_count": 4,
   "outputs": [
    {
     "name": "stdout",
     "output_type": "stream",
     "text": [
      "1 2\n",
      "1 2\n"
     ]
    }
   ],
   "source": [
    "a, b = 7, 5\n",
    "print(a // b, a % b)\n",
    "print(*divmod(a, b))"
   ],
   "metadata": {
    "collapsed": false,
    "pycharm": {
     "name": "#%%\n"
    }
   }
  },
  {
   "cell_type": "markdown",
   "source": [
    "```divmod```는 위와 같이 몫과 나머지를 출력해주는 함수이다. 프로젝트에 따라 직접 몫과 나머지를 구하는 것이 가독성이 좋을 수 있기에 합의하여 사용하면 된다.\n",
    "\n",
    "또한 작은 숫자를 다룰 때는 ```divmod```보다 직접 구하는 것이 빠르고 큰 숫자에선 ```divmod```가 더 빠르다. 이에 대해선 [Stack Overflow](https://stackoverflow.com/questions/30079879/is-divmod-faster-than-using-the-and-operators)를 참고하면 된다."
   ],
   "metadata": {
    "collapsed": false,
    "pycharm": {
     "name": "#%% md\n"
    }
   }
  },
  {
   "cell_type": "markdown",
   "source": [
    "## n진법으로 표기된 string을 10진법 숫자로 변환하기 - int 함수"
   ],
   "metadata": {
    "collapsed": false,
    "pycharm": {
     "name": "#%% md\n"
    }
   }
  },
  {
   "cell_type": "code",
   "execution_count": 6,
   "outputs": [
    {
     "name": "stdout",
     "output_type": "stream",
     "text": [
      "for문을 이용한 방법: 432\n",
      "int를 이용한 방법: 432\n"
     ]
    }
   ],
   "source": [
    "num = \"3212\"\n",
    "base = 5\n",
    "\n",
    "# for문을 이용해 구하는 방법\n",
    "ans = 0\n",
    "for idx, number in enumerate(num[::-1]):\n",
    "\tans += int(number) * (base ** idx)\n",
    "print(f\"for문을 이용한 방법: {ans}\")\n",
    "\n",
    "# int를 이용해 구하는 방법\n",
    "ans = int(num, base)\n",
    "print(f\"int를 이용한 방법: {ans}\")"
   ],
   "metadata": {
    "collapsed": false,
    "pycharm": {
     "name": "#%%\n"
    }
   }
  },
  {
   "cell_type": "markdown",
   "source": [
    "파이썬에선 ```int```라는 정수로 변환하는 함수가 존재한다. 대부분 ```int(num)```의 형태로 사용하지만 실제론 ```int(num, base=10)```로 10진법이 기본 변수로 지정되어 있다. 그렇기에 다른 진수를 넣으면 다른 진수들도 10진법으로 변환할 수 있다."
   ],
   "metadata": {
    "collapsed": false,
    "pycharm": {
     "name": "#%% md\n"
    }
   }
  },
  {
   "cell_type": "code",
   "execution_count": 8,
   "outputs": [
    {
     "name": "stdout",
     "output_type": "stream",
     "text": [
      "42\n"
     ]
    }
   ],
   "source": [
    "num = \"0x2a\"\n",
    "print(int(num, 16))"
   ],
   "metadata": {
    "collapsed": false,
    "pycharm": {
     "name": "#%%\n"
    }
   }
  },
  {
   "cell_type": "markdown",
   "source": [
    "# Part 3. str 다루기"
   ],
   "metadata": {
    "collapsed": false,
    "pycharm": {
     "name": "#%% md\n"
    }
   }
  },
  {
   "cell_type": "markdown",
   "source": [
    "## 문자열 정렬하기 - ljust, center, rjust"
   ],
   "metadata": {
    "collapsed": false,
    "pycharm": {
     "name": "#%% md\n"
    }
   }
  },
  {
   "cell_type": "markdown",
   "source": [
    "우측 정렬을 예시로 코드를 보자면 다음과 같다."
   ],
   "metadata": {
    "collapsed": false,
    "pycharm": {
     "name": "#%% md\n"
    }
   }
  },
  {
   "cell_type": "code",
   "execution_count": 12,
   "outputs": [
    {
     "name": "stdout",
     "output_type": "stream",
     "text": [
      "          Kdelphinus\n",
      "          Kdelphinus\n"
     ]
    }
   ],
   "source": [
    "s = \"Kdelphinus\"\n",
    "n = 20\n",
    "\n",
    "# for문을 이용한 우측 정렬\n",
    "ans = \"\"\n",
    "for i in range(n - len(s)):\n",
    "\tans += \" \"\n",
    "ans += s\n",
    "print(ans)\n",
    "\n",
    "# rjust를 이용한 우측 정렬\n",
    "ans = s.rjust(n)\n",
    "print(ans)"
   ],
   "metadata": {
    "collapsed": false,
    "pycharm": {
     "name": "#%%\n"
    }
   }
  },
  {
   "cell_type": "markdown",
   "source": [
    "이외에도 왼쪽 정렬은 ```ljust```, 가운데 정렬은 ```center```를 이용하면 된다."
   ],
   "metadata": {
    "collapsed": false,
    "pycharm": {
     "name": "#%% md\n"
    }
   }
  },
  {
   "cell_type": "code",
   "execution_count": 13,
   "outputs": [
    {
     "name": "stdout",
     "output_type": "stream",
     "text": [
      "Kdelphinus          \n",
      "     Kdelphinus     \n",
      "          Kdelphinus\n"
     ]
    }
   ],
   "source": [
    "s = \"Kdelphinus\"\n",
    "n = 20\n",
    "\n",
    "print(s.ljust(n))\n",
    "print(s.center(n))\n",
    "print(s.rjust(n))"
   ],
   "metadata": {
    "collapsed": false,
    "pycharm": {
     "name": "#%%\n"
    }
   }
  },
  {
   "cell_type": "markdown",
   "source": [
    "## 알파벳 출력하기 - string 모듈"
   ],
   "metadata": {
    "collapsed": false,
    "pycharm": {
     "name": "#%% md\n"
    }
   }
  },
  {
   "cell_type": "code",
   "execution_count": 14,
   "outputs": [
    {
     "name": "stdout",
     "output_type": "stream",
     "text": [
      "abcdefghijklmnopqrstuvwxyz\n",
      "abcdefghijklmnopqrstuvwxyz\n"
     ]
    }
   ],
   "source": [
    "# 직접 입력하기\n",
    "ans = \"abcdefghijklmnopqrstuvwxyz\"\n",
    "print(ans)\n",
    "\n",
    "# string 모듈 이용하기\n",
    "import string\n",
    "\n",
    "\n",
    "ans = string.ascii_lowercase\n",
    "print(ans)"
   ],
   "metadata": {
    "collapsed": false,
    "pycharm": {
     "name": "#%%\n"
    }
   }
  },
  {
   "cell_type": "markdown",
   "source": [
    "string모듈에 저장된 글자를 사용하면 직접 입력하지 않아도 된다. 그 외에도 대문자, 소문자와 대문자, 숫자 등을 불러올 수 있다."
   ],
   "metadata": {
    "collapsed": false,
    "pycharm": {
     "name": "#%% md\n"
    }
   }
  },
  {
   "cell_type": "code",
   "execution_count": 20,
   "outputs": [
    {
     "name": "stdout",
     "output_type": "stream",
     "text": [
      "abcdefghijklmnopqrstuvwxyz\n",
      "ABCDEFGHIJKLMNOPQRSTUVWXYZ\n",
      "abcdefghijklmnopqrstuvwxyzABCDEFGHIJKLMNOPQRSTUVWXYZ\n",
      "0123456789\n",
      "01234567\n",
      "0123456789abcdefABCDEF\n",
      "!\"#$%&'()*+,-./:;<=>?@[\\]^_`{|}~\n",
      "0123456789abcdefghijklmnopqrstuvwxyzABCDEFGHIJKLMNOPQRSTUVWXYZ!\"#$%&'()*+,-./:;<=>?@[\\]^_`{|}~ \t\n",
      "\u000B\f\n",
      "['ascii_letters', 'ascii_lowercase', 'ascii_uppercase', 'capwords', 'digits', 'hexdigits', 'octdigits', 'printable', 'punctuation', 'whitespace', 'Formatter', 'Template']\n"
     ]
    }
   ],
   "source": [
    "import string\n",
    "\n",
    "\n",
    "print(string.ascii_lowercase) # 소문자\n",
    "print(string.ascii_uppercase) # 대문자\n",
    "print(string.ascii_letters) # 소문자와 대문자\n",
    "print(string.digits) # 10진수\n",
    "print(string.octdigits) # 8진수\n",
    "print(string.hexdigits) # 16진수\n",
    "print(string.punctuation) # 특수 문자\n",
    "print(string.printable) # 숫자 + 소문자 + 대문자 + 특수 문자\n",
    "print(string.__all__) # string에 있는 목록들"
   ],
   "metadata": {
    "collapsed": false,
    "pycharm": {
     "name": "#%%\n"
    }
   }
  },
  {
   "cell_type": "markdown",
   "source": [
    "# Part 4. iterable 다루기"
   ],
   "metadata": {
    "collapsed": false,
    "pycharm": {
     "name": "#%% md\n"
    }
   }
  },
  {
   "cell_type": "markdown",
   "source": [
    "## 2차원 리스트 뒤집기(행과 열 바꾸기) - zip"
   ],
   "metadata": {
    "collapsed": false,
    "pycharm": {
     "name": "#%% md\n"
    }
   }
  },
  {
   "cell_type": "code",
   "execution_count": 22,
   "outputs": [
    {
     "name": "stdout",
     "output_type": "stream",
     "text": [
      "[[1, 4, 7], [2, 5, 8], [3, 6, 9]]\n",
      "[[1, 4, 7], [2, 5, 8], [3, 6, 9]]\n"
     ]
    }
   ],
   "source": [
    "lst = [[1, 2, 3], [4, 5, 6], [7, 8, 9]]\n",
    "new_lst = [[], [], []]\n",
    "\n",
    "# for문을 사용해 뒤집기\n",
    "for i in range(len(lst)):\n",
    "\tfor j in range(len(lst[i])):\n",
    "\t\tnew_lst[i].append(lst[j][i])\n",
    "print(new_lst)\n",
    "\n",
    "# zip을 사용해 뒤집기\n",
    "new_lst = list(map(list, zip(*lst)))\n",
    "print(new_lst)"
   ],
   "metadata": {
    "collapsed": false,
    "pycharm": {
     "name": "#%%\n"
    }
   }
  },
  {
   "cell_type": "markdown",
   "source": [
    "파이썬 공식 문서에서 zip의 설명은 다음과 같다.\n",
    "\n",
    "> zip(*iterables)는 각 iterables 의 요소들을 모으는 이터레이터를 만듭니다.\n",
    "튜플의 이터레이터를 돌려주는데, i 번째 튜플은 각 인자로 전달된 시퀀스나 이터러블의 i 번째 요소를 포함합니다.\n",
    "\n",
    "> Returns an iterator of tuples, where the i-th tuple contains the i-th element from each of the argument sequences or iterables."
   ],
   "metadata": {
    "collapsed": false,
    "pycharm": {
     "name": "#%% md\n"
    }
   }
  },
  {
   "cell_type": "code",
   "execution_count": 24,
   "outputs": [
    {
     "name": "stdout",
     "output_type": "stream",
     "text": [
      "(1, 10)\n",
      "(2, 20)\n",
      "(3, 30)\n"
     ]
    }
   ],
   "source": [
    "lst = [1, 2, 3]\n",
    "lst2 = [10, 20, 30]\n",
    "for i in zip(lst, lst2):\n",
    "\tprint(i)"
   ],
   "metadata": {
    "collapsed": false,
    "pycharm": {
     "name": "#%%\n"
    }
   }
  },
  {
   "cell_type": "markdown",
   "source": [
    "이를 이용해 dict을 간단하게 만들 수도 있다."
   ],
   "metadata": {
    "collapsed": false,
    "pycharm": {
     "name": "#%% md\n"
    }
   }
  },
  {
   "cell_type": "code",
   "execution_count": 26,
   "outputs": [
    {
     "name": "stdout",
     "output_type": "stream",
     "text": [
      "{'cat': 'meow', 'dog': 'woof', 'lion': 'roar'}\n"
     ]
    }
   ],
   "source": [
    "animals = ['cat', 'dog', 'lion']\n",
    "sounds = ['meow', 'woof', 'roar']\n",
    "answer = dict(zip(animals, sounds))\n",
    "print(answer)"
   ],
   "metadata": {
    "collapsed": false,
    "pycharm": {
     "name": "#%%\n"
    }
   }
  },
  {
   "cell_type": "code",
   "execution_count": null,
   "outputs": [],
   "source": [],
   "metadata": {
    "collapsed": false,
    "pycharm": {
     "name": "#%%\n"
    }
   }
  }
 ],
 "metadata": {
  "kernelspec": {
   "display_name": "Python 3",
   "language": "python",
   "name": "python3"
  },
  "language_info": {
   "codemirror_mode": {
    "name": "ipython",
    "version": 2
   },
   "file_extension": ".py",
   "mimetype": "text/x-python",
   "name": "python",
   "nbconvert_exporter": "python",
   "pygments_lexer": "ipython2",
   "version": "2.7.6"
  }
 },
 "nbformat": 4,
 "nbformat_minor": 0
}