{
 "cells": [
  {
   "cell_type": "markdown",
   "metadata": {},
   "source": [
    "# **Natural Language Processing**"
   ]
  },
  {
   "cell_type": "markdown",
   "metadata": {},
   "source": [
    "0. Intro\n",
    "1. Bag-of-Words\n",
    "2. Topic Modeling\n",
    "3. Word Embedding\n",
    "4. RNNs with Attention\n",
    "5. Preprocessing\n",
    "6. Transformer\n",
    "7. Tokenization\n",
    "8. Byte-Pair Encoding\n",
    "9. BERT\n",
    "10. GPT\n",
    "11. "
   ]
  },
  {
   "cell_type": "markdown",
   "metadata": {},
   "source": [
    "# **0. Intro**"
   ]
  },
  {
   "cell_type": "markdown",
   "metadata": {},
   "source": [
    "## **0.1 NLP란?**"
   ]
  },
  {
   "cell_type": "markdown",
   "metadata": {},
   "source": [
    "NLP(Natural Language Processing)란 자연어를 컴퓨터와 같은 기계를 이용해서 묘사하도록 연구하는 인공지능 분야입니다. 이는 다시 NLU(Natural Language Understanding)과 NLG(Natural Language Generation)으로 나뉩니다. \n",
    "\n",
    "NLU는 문장이나 문단이 주어졌을 때, 이를 이해하고 질의응답이 가능하도록 만드는 분야입니다. NLG는 자동 번역 등 자연스럽게 말이 이어지도록 생성하는 과정입니다. 현재 NLU는 어느 정도 연구가 진행되었다고 여겨지고 NLG에 대한 연구가 더 활발하게 이루어지고 있습니다. "
   ]
  },
  {
   "cell_type": "markdown",
   "metadata": {},
   "source": [
    "## **0.2 NLP Applications**"
   ]
  },
  {
   "cell_type": "markdown",
   "metadata": {},
   "source": [
    "NLP를 사용하는 분야는 많이 있습니다. 이를 하나씩 살펴보겠습니다. "
   ]
  },
  {
   "cell_type": "markdown",
   "metadata": {},
   "source": [
    "### **1) Text Classification**"
   ]
  },
  {
   "cell_type": "markdown",
   "metadata": {},
   "source": [
    "Spam detection, sentiment analysis 등 받은 자연어들로 분류하는 분야입니다. 스팸 메일을 분류하거나 평점을 가지고 긍부정을 나누는 등에 사용됩니다. \n",
    "\n",
    "![text_classification](_image/text_classification.PNG)"
   ]
  },
  {
   "cell_type": "markdown",
   "metadata": {},
   "source": [
    "### **2) QA**"
   ]
  },
  {
   "cell_type": "markdown",
   "metadata": {},
   "source": [
    "QA(Question Answering)는 말 그대로 질문과 context(위키 등 웹페이지들)가 input으로 주어졌을 때, output으로 답을 내보내는 것입니다. 대표적으로 search engine 등이 있습니다. 밑에서 구글을 보면 질문에 대해 위키에 답을 진하게 표현한 것을 볼 수 있습니다.\n",
    "\n",
    "![QA](_image/QA.PNG)\n",
    "\n",
    "이때 답을 찾는 방법은 크게 세 가지가 있습니다.\n",
    "\n",
    "1. Context 내에서 뽑아냄(위 이미지가 그 예시)\n",
    "2. 직접 문장을 생성하여 출력\n",
    "3. 객관식(Multi-Choice)를 사용하여 출력\n",
    "\n",
    "2번 같은 경우는 context가 주어지지 않고 질문만 주어지는 common sense reasoning입니다."
   ]
  },
  {
   "cell_type": "markdown",
   "metadata": {},
   "source": [
    "### **3) Macine Translation**"
   ]
  },
  {
   "cell_type": "markdown",
   "metadata": {},
   "source": [
    "Machine Translation은 기존 언어(source language)를 번역할 언어(target language)로 바꿔주는 것입니다. 현재 연구, 실무 분야에서 가장 활발하게 진행되고 있습니다. 파파고, 구글 번역 등이 그 예시입니다.\n",
    "\n",
    "1. pair 사용(같은 의미, 다른 언어의 쌍)\n",
    "2. unsupervised learning(pair가 없이 학습)\n",
    "\n",
    "학습 방법은 위에 두 가지 방법이 있습니다. pair는 직관적이지만 하나하나 학습 데이터를 만들기 어렵고 데이터가 너무 커집니다. 그래서 최근 비지도 학습을 이용한 학습이 새로운 방법으로 나오고 있습니다. "
   ]
  },
  {
   "cell_type": "markdown",
   "metadata": {},
   "source": [
    "### **4) Chatbot**"
   ]
  },
  {
   "cell_type": "markdown",
   "metadata": {},
   "source": [
    "Chatbot은 자연어가 input으로 주어졌을 때, 대화가 이어지도록 output이 이어서 주어지는 프로그램입니다. 대화가 계속 이어지기 때문에 맥락을 잘 보는 것이 필요합니다. 그렇기에 직전 한 문장만 input으로 받지 않고 어느 정도 문단을 같이 가져옵니다. input을 template와 generation 중 어떤 것으로 받을지 선택할 수 있습니다. "
   ]
  },
  {
   "cell_type": "markdown",
   "metadata": {},
   "source": [
    "### **5) Personal Assistant**"
   ]
  },
  {
   "cell_type": "markdown",
   "metadata": {},
   "source": [
    "Personal Assistant는 빅스비, 시리와 같이 특정 요청을 수행하는 것들을 말합니다. 아직은 노래 요청, 날씨 등 제한적인 사용만 가능하지만 점차 개발되어지고 있습니다. 음성으로 작동하기 때문에 특정 음성(하이 빅스비, 시리야 등)을 들어야 음성 모드로 들어가게 만들어서 여러 소음에 작동하지 않도록 하고 있습니다."
   ]
  },
  {
   "cell_type": "markdown",
   "metadata": {},
   "source": [
    "### **6) Text Summarization**"
   ]
  },
  {
   "cell_type": "markdown",
   "metadata": {},
   "source": [
    "Text Summarization은 말그대로 글들을 요약해주는 것입니다. 예를 들어 뉴스가 있다면 제목과 내용을 보고 요약해주는 것을 말합니다. \n",
    "\n",
    "![text_summarization](_image/text_summarization.PNG)\n",
    "\n",
    "요약하는 방식은 extractive와 generative로 나뉩니다. extractive는 주어진 내용들을 통해 요약을 해주는 반면 generative는 본문에 없는 말로도 요약할 수 있습니다. "
   ]
  },
  {
   "cell_type": "markdown",
   "metadata": {},
   "source": [
    "## **0.3 NLP 연구 필드**"
   ]
  },
  {
   "cell_type": "markdown",
   "metadata": {},
   "source": [
    "NLP 분야는 ACL, EMNLP, NAACL 등 유력한 컨퍼런스들이 있습니다. (AI는 급변하는 분야이기에 저널을 잘 보지 않습니다.) 이를 더욱 세분화하여 분야를 나눌 수 있습니다.\n",
    "\n",
    "#### **Low-level parsing**\n",
    "- Tokenization, stemming(과거형이나 미래형을 기본형으로 바꾸는 것)\n",
    "\n",
    "#### **Word and pharse level**\n",
    "- Named entity recognition(NER), part-of-speech(POS) tagging, noun-phrase chunking, dependency parsing, coreference resolution $\\Rightarrow$ (언어학자가 만든 체계가 컴퓨터에게는 도움이 되지 않음이 확인되면서 연구가 사그라듬)\n",
    "- Semantic relation extraction\n",
    "\n",
    "#### **Sentence level**\n",
    "- Sentiment analysis, machine translation\n",
    "\n",
    "#### **Multi-sentence and paragraph level**\n",
    "- Entailment prediction, question answering, dialog systems, summarization"
   ]
  },
  {
   "cell_type": "markdown",
   "metadata": {},
   "source": [
    "그 외에도 text mining, information retrieval 등이 있습니다.(PDF 참고)"
   ]
  },
  {
   "cell_type": "markdown",
   "metadata": {},
   "source": [
    "# **1. Bag-of-Words**"
   ]
  },
  {
   "cell_type": "markdown",
   "metadata": {},
   "source": [
    "## **1.1 Word Embedding**"
   ]
  },
  {
   "cell_type": "markdown",
   "metadata": {},
   "source": [
    "Word embedding이란 단어들을 embedding이란 과정을 거쳐 컴퓨터가 이해할 수 있는 숫자로 바꾸는 과정을 말합니다. 이러면 단어들은 벡터가 되는데 이 벡터를 embedding vector라고 합니다.\n",
    "\n",
    "|구분|Bag-of_Words|언어 모델|분포 가정|\n",
    "|:---:|:---:|:---:|:---:|\n",
    "|내용|어떤 단어가 많이 쓰였는가|단어가 어떤 순서로 쓰였는가|어떤 단어가 같이 쓰였는가|\n",
    "|대표 통계량|TF-IDF|-|PMI|\n",
    "|대표 모델|Deep Averaging Network|ELMO, GPT|Word2Vec|\n",
    "\n",
    "단어를 임베딩하여 나오는 벡터들은 어떤 가정을 따르냐에 따라서 위와 같이 구분됩니다. 이를 더 자세히 살펴보면 다음과 같습니다."
   ]
  },
  {
   "cell_type": "markdown",
   "metadata": {},
   "source": [
    "### **1) 백 오브 워즈 가정**"
   ]
  },
  {
   "cell_type": "markdown",
   "metadata": {},
   "source": [
    "백 오브 워즈는 저자의 의도가 단어 사용 여부나 그 빈도에서 드러난다고 보는 과정입니다. 그렇기에 단어의 순서는 고려대상이 아닙니다. 순서에 상관없이 하나의 가방에 단어들을 모두 넣고 빈도수를 확인하는 것입니다. 이때 대표적으로 TF-IDF가 사용됩니다. \n",
    "\n",
    "#### **TF-IDF(Term Frequency-Inverse Document Frequency)**\n",
    "어떤 단어의 주제 예측 능력이 강할수록 가중치가 커지고 반대의 경우 작아집니다. w는 단어, N은 문서의 개수, TF(Term Frequency)는 단락에서의 빈도, DF(Document Frequency)는 문서에서의 빈도입니다. \n",
    "\n",
    "$$TF - IDF(w) = TF(w) \\times log(\\frac{N}{DF(w)})$$\n",
    "\n",
    "그렇기에 문서 전체에서 빈도가 높은 조사들은 가중치가 줄어들고 특정 문장에서 빈번하게 나오는 단어들은 가중치가 증가합니다. 이에 대해 뒤에서 더 자세히 알아보겠습니다.\n",
    "\n",
    "\n",
    "#### **Deep Averaging Network(lyyer et al. 2015)**\n",
    "문장에 속한 단어의 임베딩의 평균을 구해 문장의 임베딩을 만드는 방법입니다."
   ]
  },
  {
   "cell_type": "markdown",
   "metadata": {},
   "source": [
    "### **2) 언어 모델**"
   ]
  },
  {
   "cell_type": "markdown",
   "metadata": {},
   "source": [
    "단어의 등장 순서를 학습해 주어진 단어 시퀀스가 얼마나 자연스러운지 확률을 부여하는 방법입니다. 백 오브 워즈와 달리 등장 순서에 영향을 받기에 '나는 밥을 먹었다'와 '나는 먹었다 밥을'을 다른 문장으로 해석합니다. \n",
    "\n",
    "$$P(w_i) \\Rightarrow P(w_i|w_{i-1}, w_{i-2}, \\cdots, w_0)$$"
   ]
  },
  {
   "cell_type": "markdown",
   "metadata": {},
   "source": [
    "### **3) 분포 가정**"
   ]
  },
  {
   "cell_type": "markdown",
   "metadata": {},
   "source": [
    "단어의 의미를 주변 문맥을 통해 유추하는 방법입니다. 가까운 단어들을 통해 의미를 유추합니다.\n",
    "\n",
    "#### **PMI(Pointwise Mutual Information)**\n",
    "두 단어 A, B가 얼마나 자주 같이 등장하는지 정보를 수치화하여 유추합니다.\n",
    "\n",
    "$$ PMI(A, B) = log \\frac{P(A, B)}{P(A) \\times P(B)}$$\n",
    "\n",
    "#### **Word2Vec**\n",
    "특정 단어 주변의 문맥, 즉 분포 정보를 함축하며 벡터로 만들어 사용하는 방법입니다."
   ]
  },
  {
   "cell_type": "markdown",
   "metadata": {},
   "source": [
    "## **1.2 Bag-of-Words Representation**"
   ]
  },
  {
   "cell_type": "markdown",
   "metadata": {},
   "source": [
    "BoW는 문법과 어순은 무시하지만 다중성을 유지하면서 단어의 가방에 단어들을 집어넣습니다. 그리고 이를 고유한 단어의 vocabulary를 만들거나 각 단어들을 one-hot vector로 만들어 사용하게 됩니다. "
   ]
  },
  {
   "cell_type": "markdown",
   "metadata": {},
   "source": [
    "## **1.3 Naïve Bayes Classifier**"
   ]
  },
  {
   "cell_type": "markdown",
   "metadata": {},
   "source": [
    "Naïve Bayes Classifier은 Bayes' theorem을 이용하여 간단한 분류를 하는 classifier입니다. \n",
    "\n",
    "$$P(A|B) = \\frac{P(B|A)P(A)}{P(B)} \\; (\\text{Bayes'\\, theorem})$$\n",
    "\n",
    "이제 이를 이용해 Naïve Bayes Classifier을 유추해보겠습니다. 각 document d는 class c를 가지고 있습니다. P(c|d)가 d가 c에 속할 확률입니다. Bayes' theorem을 적용하면 아래와 같은 식이 나옵니다.\n",
    "\n",
    "$$P(c|d) = \\frac{P(d|c)P(c)}{P(d)}$$\n",
    "\n",
    "근데 여기서 분모는 항상 같기 때문에 분모를 제거해도 괜찮습니다. 그렇기에 아래와 같은 식이 나옵니다.\n",
    "\n",
    "$$P(c|d) = P(d|c)P(c)$$\n",
    "\n",
    "$d$는 $words w_1, w_2, \\cdots, w_n$로 이루어져 있습니다. 그렇기에 위의 식은 다시 쓰면 다음과 같습니다.\n",
    "\n",
    "$$P(d|c)P(c) = P(w_1, w_2, \\cdots, w_n|c)P(c)$$\n",
    "\n",
    "이때 우리가 관심이 있는 것은 $P(c|d) = P(c|w_1, w_2, \\cdots, w_n)$이다. 이제 여기에 chain rule까지 적용하면 다음과 같이 나옵니다. 이때 확률에 관한 chain rule은 다음과 같습니다.\n",
    "\n",
    "$$\\begin{aligned} P(X_4, X_3, X_2, X_1) &= P(X_4|X_3, X_2, x_1) \\cdot P(X_3, X_2, X_1) \\\\\n",
    "&= P(X_4|X_3, X_2, X_1) \\cdot P(X_3|X_2, X_1) \\cdot P(X_2, X_1) \\\\\n",
    "&= P(X_4|X_3, X_2, X_1) \\cdot P(X_3|X_2, X_1) \\cdot P(X_2|X_1) \\cdot P(X_1) \\end{aligned}$$\n",
    "\n",
    "$$P(c|d) = P(d|c)P(c) = P(c) \\prod_{w_i \\in W} P(w_i|c)$$\n",
    "\n",
    "예시를 통해 알아보겠습니다. 밑에처럼 주어진 document와 word, class가 있습니다.\n",
    "\n",
    "||No.|Document($d$)|Class($c$)|\n",
    "|:---:|:---:|:---:|:---:|\n",
    "|Training|1|me free lottery|Spam|\n",
    "||2|free get free you|Spam|\n",
    "||3|you free scholarship|Inbox|\n",
    "||4|free to contact me|Inbox|\n",
    "||5|you won award|Inbox|\n",
    "||6|you ticket loterry|Spam|\n",
    "|<span style=\"color:skyblue\">Test</span>|<span style=\"color:skyblue\">7</span>|<span style=\"color:skyblue\">you free loterry</span>|<span style=\"color:skyblue\">?</span>|\n",
    "\n",
    "위와 같이 샘플이 주어져 있고 7번의 문장이 spam인지 아닌지 확인해야 합니다. 우리가 구한 식을 이용하여 식을 세워보겠습니다.\n",
    "\n",
    "$$P(c_{spam}|d_7) = P(c_{spam})P(w_{you}|c_{spam})P(w_{free}|c_{spam})P(w_{lottery}|c_{spam})$$\n",
    "$$P(c_{Inbox}|d_7) = P(c_{Inbox})P(w_{you}|c_{Inbox})P(w_{free}|c_{Inbox})P(w_{lottery}|c_{Inbox})$$\n",
    "\n",
    "만약 $P(c_{spam}|d_7) > P(c_{inbox}|d_7)$이면 스팸이고 $P(c_{spam}|d_7) < P(c_{inbox}|d_7)$이면 inbox로 분류될 것이다. 각 단어의 개수와 클래스 개수를 통해 결과를 보면 다음과 같습니다. \n",
    "\n",
    "![spam_result](_image/spam_result.PNG)\n",
    "\n",
    "이제 결과를 통해 종합적으로 계산하면 다음과 같습니다.\n",
    "\n",
    "$$P(c_{spam}|d_7) \n",
    "= P(c_{spam})P(w_{you}|c_{spam})P(w_{free}|c_{spam})P(w_{lottery}|c_{spam})\n",
    "= \\frac{1}{2} \\times \\frac{2}{10} \\times \\frac{3}{10} \\times \\frac{2}{10} = \\frac{6}{1000}$$\n",
    "$$P(c_{Inbox}|d_7) \n",
    "= P(c_{Inbox})P(w_{you}|c_{Inbox})P(w_{free}|c_{Inbox})P(w_{lottery}|c_{Inbox})\n",
    "= \\frac{1}{2} \\times \\frac{2}{10} \\times \\frac{2}{10} \\times \\frac{0}{10} = 0$$\n",
    "\n",
    "그러므로 7번 문장은 spam입니다.\n",
    "\n",
    "||No.|Document($d$)|Class($c$)|\n",
    "|:---:|:---:|:---:|:---:|\n",
    "|Training|1|me free lottery|Spam|\n",
    "||2|free get free you|Spam|\n",
    "||3|you free scholarship|Inbox|\n",
    "||4|free to contact me|Inbox|\n",
    "||5|you won award|Inbox|\n",
    "||6|you ticket loterry|Spam|\n",
    "|<span style=\"color:skyblue\">Test</span>|<span style=\"color:skyblue\">7</span>|<span style=\"color:skyblue\">you free loterry</span>|<span style=\"color:red\">Spam</span>|"
   ]
  },
  {
   "cell_type": "markdown",
   "metadata": {},
   "source": [
    "## **실습1. Naïve Bayes Classifier**"
   ]
  },
  {
   "cell_type": "markdown",
   "metadata": {},
   "source": [
    "### **1) Requirements**"
   ]
  },
  {
   "cell_type": "markdown",
   "metadata": {},
   "source": [
    "먼저 필요한 라이브러리들을 불러옵니다."
   ]
  },
  {
   "cell_type": "code",
   "execution_count": 25,
   "metadata": {},
   "outputs": [],
   "source": [
    "from tqdm import tqdm\n",
    "from collections import defaultdict\n",
    "import math\n",
    "\n",
    "# POS(Part of Speech) tagger\n",
    "from konlpy import tag"
   ]
  },
  {
   "cell_type": "markdown",
   "metadata": {},
   "source": [
    "Train data와 test data를 준비하겠습니다."
   ]
  },
  {
   "cell_type": "code",
   "execution_count": 26,
   "metadata": {},
   "outputs": [],
   "source": [
    "data = {}\n",
    "\n",
    "# training data. input text와 정답 label (긍정(1), 부정(0))으로 구성\n",
    "data['train'] = [{'text': \"정말 재미있습니다. 추천합니다.\"},\n",
    "                {'text': \"기대했던 것보단 별로였네요.\"},\n",
    "                {'text': \"지루해서 다시 보고 싶다는 생각이 안 드네요.\"},\n",
    "                {'text': \"완전 최고입니다 ! 다시 보고 싶습니다.\"},\n",
    "                {'text': \"연기도 연출도 다 만족스러웠습니다.\"},\n",
    "                {'text': \"연기가 좀 별로였습니다.\"},\n",
    "                {'text': \"연출도 좋았고 배우분들 연기도 최고입니다.\"},\n",
    "                {'text': \"기념일에 방문했는데 연기도 연출도 다 좋았습니다.\"},\n",
    "                {'text': \"전반적으로 지루했습니다. 저는 별로였네요.\"},\n",
    "                {'text': \"CG에 조금 더 신경 썼으면 좋겠습니다.\"}\n",
    "                ]\n",
    "# test data\n",
    "data['test'] = [{'text': \"최고입니다. 또 보고 싶네요.\"},\n",
    "                {'text': \"별로였습니다. 되도록 보지 마세요.\"},\n",
    "                {'text': \"다른 분들께 추천드릴 수 있을 만큼 연출도 연기도 만족했습니다.\"},\n",
    "                {'text': \"연기가 좀 더 개선되었으면 좋겠습니다.\"}\n",
    "                ]\n",
    "\n",
    "train_labels = [1, 0, 0, 1, 1, 0, 1, 1, 0, 0]\n",
    "test_labels = [1, 0, 1, 0]"
   ]
  },
  {
   "cell_type": "markdown",
   "metadata": {},
   "source": [
    "### **2) Data Preprocessing**"
   ]
  },
  {
   "cell_type": "markdown",
   "metadata": {},
   "source": [
    "KoNLPy에서 제공하는 [꼬꼬마(Kkma) 형태소 분석기](https://konlpy.org/en/v0.5.2/api/konlpy.tag/#module-konlpy.tag._kkma)를 이용하여 tokenize 합니다."
   ]
  },
  {
   "cell_type": "code",
   "execution_count": 27,
   "metadata": {},
   "outputs": [],
   "source": [
    "# 형태소 분석기 선언\n",
    "morph_analyzer = tag.Kkma()"
   ]
  },
  {
   "cell_type": "code",
   "execution_count": 28,
   "metadata": {},
   "outputs": [],
   "source": [
    "# tokenization 함수 정의\n",
    "def tokenization(data, morph_analyzer):\n",
    "    \"\"\"tokenization \n",
    "\n",
    "    Args:\n",
    "        data (list): list of data examples.\n",
    "        morph_analyzer (konlpy.tag._kkma.Kkma): morphological analyzer.\n",
    "\n",
    "    Returns:\n",
    "        tokenized_data (list): list of tokenized data examples.\n",
    "    \"\"\"\n",
    "    tokenized_data = []\n",
    "    \n",
    "    for example in tqdm(data):\n",
    "        tokens = morph_analyzer.morphs(example['text'])\n",
    "        tokenized_data.append(tokens)\n",
    "    \n",
    "    return tokenized_data"
   ]
  },
  {
   "cell_type": "code",
   "execution_count": 29,
   "metadata": {},
   "outputs": [
    {
     "name": "stderr",
     "output_type": "stream",
     "text": [
      "100%|██████████| 10/10 [00:10<00:00,  1.03s/it]\n",
      "100%|██████████| 4/4 [00:00<00:00, 15.00it/s]\n"
     ]
    }
   ],
   "source": [
    "# tokenization 함수를 이용한 데이터 tokenization\n",
    "tokenized_data = {}\n",
    "\n",
    "tokenized_data['train'] = tokenization(data['train'], morph_analyzer)\n",
    "tokenized_data['test'] = tokenization(data['test'], morph_analyzer)"
   ]
  },
  {
   "cell_type": "code",
   "execution_count": 30,
   "metadata": {},
   "outputs": [
    {
     "data": {
      "text/plain": [
       "[['정말', '재미있', '습니다', '.', '추천', '하', 'ㅂ니다', '.'],\n",
       " ['기대', '하', '었', '더', 'ㄴ', '것', '보다', 'ㄴ', '별', '로', '이', '었', '네요', '.'],\n",
       " ['지루', '하', '어서', '다시', '보', '고', '싶', '다는', '생각', '이', '안', '들', '네요', '.'],\n",
       " ['완전', '최고', '이', 'ㅂ니다', '!', '다시', '보', '고', '싶', '습니다', '.'],\n",
       " ['연기', '도', '연출', '도', '다', '만족', '스럽', '었', '습니다', '.'],\n",
       " ['연기', '가', '좀', '별', '로', '이', '었', '습니다', '.'],\n",
       " ['연출', '도', '좋', '았', '고', '배우', '분', '들', '연기', '도', '최고', '이', 'ㅂ니다', '.'],\n",
       " ['기념일',\n",
       "  '에',\n",
       "  '방문',\n",
       "  '하',\n",
       "  '었',\n",
       "  '는데',\n",
       "  '연기',\n",
       "  '도',\n",
       "  '연출',\n",
       "  '도',\n",
       "  '다',\n",
       "  '좋',\n",
       "  '았',\n",
       "  '습니다',\n",
       "  '.'],\n",
       " ['전반적',\n",
       "  '으로',\n",
       "  '지루',\n",
       "  '하',\n",
       "  '었',\n",
       "  '습니다',\n",
       "  '.',\n",
       "  '저',\n",
       "  '는',\n",
       "  '별',\n",
       "  '로',\n",
       "  '이',\n",
       "  '었',\n",
       "  '네요',\n",
       "  '.'],\n",
       " ['CG', '에', '조금', '더', '신경', '쓰', '었', '으면', '좋', '겠', '습니다', '.']]"
      ]
     },
     "execution_count": 30,
     "metadata": {},
     "output_type": "execute_result"
    }
   ],
   "source": [
    "# tokenized_data 확인\n",
    "tokenized_data['train']"
   ]
  },
  {
   "cell_type": "markdown",
   "metadata": {},
   "source": [
    "이제 tokenization 결과를 이용해서 word to index dictionary를 생성합니다."
   ]
  },
  {
   "cell_type": "code",
   "execution_count": 31,
   "metadata": {},
   "outputs": [
    {
     "name": "stderr",
     "output_type": "stream",
     "text": [
      "100%|██████████| 56/56 [00:00<00:00, 55964.03it/s]\n"
     ]
    }
   ],
   "source": [
    "# train data의 tokenization 결과에서 unique token만 남긴 set으로 변환\n",
    "tokens = [token for i in range(len(tokenized_data['train'])) for token in tokenized_data['train'][i]]\n",
    "unique_train_tokens = set(tokens)\n",
    "\n",
    "# Naïve Bayes Classifier의 input에 들어갈 word의 index를 반환해주는 dictionary를 생성\n",
    "word2index = defaultdict() # key: word, value: index of word\n",
    "idx = 0\n",
    "for token in tqdm(unique_train_tokens):\n",
    "    word2index[token] = idx\n",
    "    idx += 1"
   ]
  },
  {
   "cell_type": "markdown",
   "metadata": {},
   "source": [
    "### **3) Model Training**"
   ]
  },
  {
   "cell_type": "markdown",
   "metadata": {},
   "source": [
    "이제 Naïve Bayes Classifier 모델 클래스를 구현하겠습니다."
   ]
  },
  {
   "cell_type": "code",
   "execution_count": 48,
   "metadata": {},
   "outputs": [],
   "source": [
    "class NaiveBayesClassifier():\n",
    "    def __init__(self, word2index, k=0.1):\n",
    "        \"\"\"\n",
    "        Args:\n",
    "            word2index (dict): mapping a word to a pre-assigned index.\n",
    "            k (float, optional): constant for smoothing. Defaults to 0.1.\n",
    "        \"\"\"\n",
    "        self.k = k # for smoothing\n",
    "        self.word2index = word2index\n",
    "        self.priors = {} # Prior probability for each class, P(c)\n",
    "        self.likelihoods = {} # Likelihood for each token, P(d|c)\n",
    "    \n",
    "    def _set_priors(self, labels):\n",
    "        \"\"\"\n",
    "        Set prior probability for each class, P(c).\n",
    "        Count the number of each class and caculate P(c) for each class.\n",
    "        \"\"\"\n",
    "        # Count the number of each class\n",
    "        class_counts = defaultdict(int)\n",
    "        for label in tqdm(labels):\n",
    "            class_counts[label] += 1\n",
    "        \n",
    "        # For each class, calcuate P(c)\n",
    "        for label, count in class_counts.items():\n",
    "            self.priors[label] = class_counts[label] / len(labels)\n",
    "    \n",
    "    def _set_likelihoods(self, tokens, labels):\n",
    "        \"\"\"\n",
    "        Set likelihood for each token, P(d|c).\n",
    "        First, count the number of each class for each token.\n",
    "        Then, calculate P(d|c) for a given class and token.\n",
    "        \"\"\"\n",
    "        token_dists = {}\n",
    "        number_of_token_for_class = defaultdict(int)\n",
    "        \n",
    "        # Count the number of each class for each token\n",
    "        for i, label in enumerate(tqdm(labels)):\n",
    "            count = 0\n",
    "            for token in tokens[i]:\n",
    "                # 'token in self.word2index'부분은 안 들어가도 되지 않는가?\n",
    "                if token not in token_dists and token in self.word2index:\n",
    "                    token_dists[token] = {0:0, 1:0}\n",
    "                token_dists[token][label] += 1\n",
    "                count += 1\n",
    "            number_of_token_for_class[label] += count\n",
    "\n",
    "        for token, dist in tqdm(token_dists.items()):\n",
    "            if token not in self.likelihoods:\n",
    "                self.likelihoods[token] = {\n",
    "                    0: (token_dists[token][0] + self.k) / (number_of_token_for_class[0] + len(self.word2index) * self.k),\n",
    "                    1: (token_dists[token][1] + self.k) / (number_of_token_for_class[1] + len(self.word2index) * self.k),\n",
    "                }\n",
    "    \n",
    "    def train(self, input_tokens, labels):\n",
    "        \"\"\"\n",
    "        Args:\n",
    "            input_tokens (list): list of tokenized train data.\n",
    "            labels (): train labels for each sentence/document.\n",
    "        \"\"\"\n",
    "        self._set_priors(labels)\n",
    "        self._set_likelihoods(input_tokens, labels)\n",
    "    \n",
    "    def inference(self, input_tokens):\n",
    "        \"\"\"\n",
    "        Args:\n",
    "            input_tokens (list): list of tokenized test data.\n",
    "        \"\"\"\n",
    "        log_prob_0 = 0.0\n",
    "        log_prob_1 = 0.0\n",
    "        \n",
    "        for token in input_tokens:\n",
    "            if token in self.likelihoods:\n",
    "                log_prob_0 += math.log(self.likelihoods[token][0])\n",
    "                log_prob_1 += math.log(self.likelihoods[token][1])\n",
    "        \n",
    "        log_prob_0 += math.log(self.priors[0])\n",
    "        log_prob_1 += math.log(self.priors[1])\n",
    "        \n",
    "        if log_prob_0 >= log_prob_1:\n",
    "            return 0\n",
    "        else:\n",
    "            return 1"
   ]
  },
  {
   "cell_type": "markdown",
   "metadata": {},
   "source": [
    "주어진 학습 데이터에 대해 문장 분류 모델을 학습시키겠습니다."
   ]
  },
  {
   "cell_type": "code",
   "execution_count": 49,
   "metadata": {},
   "outputs": [
    {
     "name": "stderr",
     "output_type": "stream",
     "text": [
      "100%|██████████| 10/10 [00:00<?, ?it/s]\n",
      "100%|██████████| 10/10 [00:00<?, ?it/s]\n",
      "100%|██████████| 56/56 [00:00<00:00, 56258.93it/s]\n"
     ]
    }
   ],
   "source": [
    "# 문장 분류 모델 선언 및 학습\n",
    "classifier = NaiveBayesClassifier(word2index)\n",
    "classifier.train(tokenized_data['train'], train_labels)"
   ]
  },
  {
   "cell_type": "markdown",
   "metadata": {},
   "source": [
    "### **4) Evaluation**"
   ]
  },
  {
   "cell_type": "markdown",
   "metadata": {},
   "source": [
    "각각의 test 데이터에 대해 정답값을 예측하고 Accuracy를 구합니다."
   ]
  },
  {
   "cell_type": "code",
   "execution_count": 50,
   "metadata": {},
   "outputs": [
    {
     "name": "stderr",
     "output_type": "stream",
     "text": [
      "100%|██████████| 4/4 [00:00<00:00, 4164.11it/s]\n"
     ]
    }
   ],
   "source": [
    "# Test data inference\n",
    "preds = []\n",
    "for test_tokens in tqdm(tokenized_data['test']):\n",
    "    pred = classifier.inference(test_tokens)\n",
    "    preds.append(pred)"
   ]
  },
  {
   "cell_type": "code",
   "execution_count": 51,
   "metadata": {},
   "outputs": [
    {
     "name": "stdout",
     "output_type": "stream",
     "text": [
      "1.0\n"
     ]
    }
   ],
   "source": [
    "# Accuracy 측정\n",
    "from sklearn.metrics import accuracy_score\n",
    "\n",
    "print(accuracy_score(test_labels, preds))"
   ]
  },
  {
   "cell_type": "markdown",
   "metadata": {},
   "source": [
    "# **2. Topic Modeling**"
   ]
  },
  {
   "cell_type": "markdown",
   "metadata": {},
   "source": [
    "## **2.1 Bag-of-Words Encoding of Text Documents**"
   ]
  },
  {
   "cell_type": "markdown",
   "metadata": {},
   "source": [
    "저번 챕터에서 본 Bag-of-Words를 다시 보겠습니다. \"John likes movies. Mary likes too.\"와 \"John also likes football.\"이란 두 문장이 주어졌을 때 각각 bag-of-words vector는 다음과 같습니다.\n",
    "\n",
    "![4-2-1](_image/4-2-1.PNG)\n",
    "\n",
    "각 단어를 사전으로 만들고 나타난 빈도수를 저장합니다. 그렇기에 행렬은 (키워드 개수) x (document 개수)의 형태로 나타납니다. 이 행렬을 term-document matrix(TDM)이라고 합니다. 순서 정보는 무시되는 단점이 있지만 많이 사용되고 있습니다."
   ]
  },
  {
   "cell_type": "markdown",
   "metadata": {},
   "source": [
    "## **2.2 Topic Modeling**"
   ]
  },
  {
   "cell_type": "markdown",
   "metadata": {},
   "source": [
    "우선 topic은 가상의 document의 백 오브 워즈 벡터입니다. 그리고 백 오브 워즈 벡터의 값들을 정규화하면 합이 1이 되는 확률분포로 나타낼 수 있습니다. 그렇기에 토픽은 키워드들의 확률분포이자 키워드들의 가중치 조합이라고 할 수 있습니다. \n",
    "\n",
    "![4-2-2](_image/4-2-2.PNG)\n",
    "\n",
    "위 그림을 보면 맨 윗줄은 topic이고 밑에 있는 단어들은 그 topic에 속한 단어들입니다. topic의 제목은 프로그램이 자동으로 정해지며 군집에 속한 단어의 개수가 많으면 topic과 관련된 document라고 추측할 수 있습니다. 그리고 이를 바탕으로 document도 topic에 대해 군집을 만들 수 있습니다. \n",
    "\n",
    "밑의 그림은 topic modeling의 전반적 동작을 표현한 것입니다.\n",
    "\n",
    "<img src = \"https://iq.opengenus.org/content/images/2020/01/1_taTOiaCpd_CzGugx_PticQ.png\">"
   ]
  },
  {
   "cell_type": "markdown",
   "metadata": {},
   "source": [
    "## **2.3 Topic Modeling Algorithm**"
   ]
  },
  {
   "cell_type": "markdown",
   "metadata": {},
   "source": [
    "이제 동작하는 과정들을 상세히 보겠습니다.\n",
    "\n",
    "먼저 input document들을 bag-of-words vector들로 만듭니다. 이를 열벡터로 합쳐서 단어의 개수 x 문서의 개수 크기의 행렬 $A$를 만듭니다. 그리고 주어진 topic의 개수만큼 열벡터를 임의로 만듭니다. 이를 단어의 개수 x 토픽의 개수 크기의 행렬 $W$라고 하겠습니다. 이제 A를 잘 표현하도록 W에 곱할 행렬 H를 찾습니다. $H$는 토픽의 개수 x 문서의 개수 크기의 행렬일 것입니다. 이를 통해 H를 찾았다면 이제 H를 고정하고 W를 학습합니다. 이를 반복하며 최적의 W와 H를 찾는 것입니다. 이를 통해 행렬 W는 행렬 A가 가진 패턴들 중 빈도가 높은 패턴들로 학습되고 그 패턴들을 topic으로 가져가게 됩니다. \n",
    "\n",
    "이때 loss는 프로베니우스 놈으로 구합니다. \n",
    "\n",
    "$$\\lVert x \\rVert_F = (x_1^F + x_2^F + \\cdots + x_n^F)^{\\frac{1}{f}}$$\n",
    "\n",
    "벡터의 크기를 구할 때 자주 봤던 식입니다. 이를 통해 각 문서별 loss를 구하고 이것이 최소화되도록 H 안에 각 요소들을 바꿔줍니다. 이때 우리는 대체로 F = 2인 2놈을 자주 사용합니다. 이를 식으로 나타내면 다음과 같습니다. 이때 n은 단어의 개수입니다.\n",
    "\n",
    "$$\\underset{W, H \\geq 0}{arg \\; min} \\lVert A - WH \\rVert_2 = (A_1^2 - (W_1 H_1)^2 + \\cdots + A_n^2 - (W_nH_n)^2)^{\\frac{1}{2}}$$\n",
    "\n",
    "이제 구해진 topic을 가지고 document를 분류합니다. 여러 topic들의 선형 결합으로 가장 잘 표현할 수 있는 document의 가중치를 찾고 가중치가 가장 높은 topic으로 분류합니다.\n",
    "\n",
    "밑의 그림은 이를 간단하게 표현한 것입니다.\n",
    "\n",
    "<img src = \"https://iq.opengenus.org/content/images/2020/01/1_2uj6t3gNv76SpHrWf5-z-A.jpeg\">"
   ]
  },
  {
   "cell_type": "markdown",
   "metadata": {},
   "source": [
    "## 실습1. 크롤링한 뉴스 데이터로 Topic Modeling하기"
   ]
  },
  {
   "cell_type": "markdown",
   "metadata": {},
   "source": [
    "이번 실습은 직접 크롤링한 뉴스 데이터에 대해서 topic modeling을 해보겠습니다. \n",
    "\n",
    "간단하게 전 과정을 살펴보면 먼저 네이버에서 뉴스 기사를 간단하게 크롤링합니다.  \n",
    "기본적인 전처리 이후, Term-Document Matrix를 만들고 이를 non-negative factorization을 이용해 행렬 분해 하여 topic modeling을 수행합니다.   \n",
    "\n",
    "그 후, t-distributed stochastic neighbor embedding(T-SNE) 기법을 통해 topic별 시각화를 진행합니다."
   ]
  },
  {
   "cell_type": "markdown",
   "metadata": {},
   "source": [
    "### **1) Crawiling News**"
   ]
  },
  {
   "cell_type": "code",
   "execution_count": 1,
   "metadata": {},
   "outputs": [],
   "source": [
    "# 크롤링에 필요한 패키지 불러오기\n",
    "from bs4 import BeautifulSoup\n",
    "from newspaper import article\n",
    "from time import sleep, time\n",
    "from dateutil.relativedelta import relativedelta\n",
    "from datetime import datetime\n",
    "from multiprocessing import Pool\n",
    "import json\n",
    "import requests\n",
    "import re\n",
    "import sys"
   ]
  },
  {
   "cell_type": "markdown",
   "metadata": {},
   "source": [
    "이번 실습은 정적 페이지인 네이버 뉴스 신문 기사 웹페이지를 크롤링합니다. 정적 페이지와 HTML에 대해선 [자](https://ko.wikipedia.org/wiki/%EC%A0%95%EC%A0%81_%EC%9B%B9_%ED%8E%98%EC%9D%B4%EC%A7%80)[료](https://opentutorials.org/course/2039)들을 참고해주세요."
   ]
  },
  {
   "cell_type": "code",
   "execution_count": 2,
   "metadata": {},
   "outputs": [],
   "source": [
    "def crawl_news(query: str=None, crawl_num: int=1000, workers: int=4):\n",
    "    \"\"\"crawl_news 뉴스 기사 텍스트가 담긴 list를 반환합니다.\n",
    "\n",
    "    Args:\n",
    "        query (str, optional): 검색어. Defaults to None.\n",
    "        crawl_num (int, optional): 수집할 뉴스 기사의 개수. Defaults to 1000.\n",
    "        workers (int, optional): multi-processing 시, 사용할 thread의 개수. Defaults to 4.\n",
    "    \"\"\"\n",
    "    url = 'https://search.naver.com/search.naver?where=news&sm=tab_jum&query={}'\n",
    "    articleList = []\n",
    "    crawled_url = set()\n",
    "    keyboard_interrupt = False\n",
    "    t = time()\n",
    "    idx = 0\n",
    "    page = 1\n",
    "    \n",
    "    # 서버에 url 요청 결과를 선언\n",
    "    res = requests.get(url.format(query))\n",
    "    sleep(0.5)\n",
    "    # res를 parsing할 parser를 선언\n",
    "    bs = BeautifulSoup(res.text, 'html.parser')\n",
    "    \n",
    "    with Pool(workers) as p:\n",
    "        while idx < crawl_num:\n",
    "            table = bs.find('ul', {'class': 'list_news'})\n",
    "            li_list = table.find_all('li', {'id': re.compile('sp_nws.*')})\n",
    "            area_list = [li.find('div', {'class':'news_area'}) for li in li_list]\n",
    "            a_list = [area.find('a', {'class':'news_tit'}) for area in area_list]\n",
    "            \n",
    "            for n in a_list[:min(len(a_list), crawl_num - idx)]:\n",
    "                articleList.append(n.get('title'))\n",
    "                idx += 1\n",
    "            page += 1\n",
    "            \n",
    "            pages = bs.find('div', {'class':'sc_page_inner'})\n",
    "            next_page_url = [p for p in pages.find_all('a') if p.text == str(page)][0].get('href')\n",
    "            \n",
    "            req = requests.get('https://search.naver.com/search.naver' + next_page_url)\n",
    "            bs = BeautifulSoup(req.text, 'html.parser')\n",
    "    return articleList"
   ]
  },
  {
   "cell_type": "code",
   "execution_count": 14,
   "metadata": {},
   "outputs": [],
   "source": [
    "query = '구글'\n",
    "articleList = crawl_news(query)"
   ]
  },
  {
   "cell_type": "code",
   "execution_count": 15,
   "metadata": {},
   "outputs": [
    {
     "data": {
      "text/plain": [
       "[\"공정위 새해도 '플랫폼 갑질' 겨눈다…구글·카카오·쿠팡 사정권\",\n",
       " '[신간] 구글은 어떻게 디자인하는가',\n",
       " \"구글, 인터넷뉴스서비스사업자 등록할까…여야 '법안 추진' 논의\",\n",
       " '비트코인도 뚫는 ‘무한대 성능’… 구글 “2029년 상업용 출시”',\n",
       " \"구글·카카오 등 플랫폼기업 '갑질' 칼빼든다\",\n",
       " '[CES 2022] MS·구글·아마존·메타도 안 나온다… 韓 독무대 된 세계 최대 IT쇼',\n",
       " '거친 운전에 차멀미가...구글 완전 자율주행차 타보니 [김성민의 실밸 레이더]',\n",
       " \"구글, UDC 스마트폰 특허 출원.. 차기 '픽셀7' 탑재될까?\",\n",
       " '구글 트렌드로 본 경제 키워드…‘블루 이코노미’에 주목하라',\n",
       " \"'적중률 70%' 미라클레터 올해도 10대기술 예측…구글 AR안경·테슬라 로봇\"]"
      ]
     },
     "execution_count": 15,
     "metadata": {},
     "output_type": "execute_result"
    }
   ],
   "source": [
    "articleList[:10]"
   ]
  },
  {
   "cell_type": "markdown",
   "metadata": {},
   "source": [
    "### **2) Preprocessing**"
   ]
  },
  {
   "cell_type": "markdown",
   "metadata": {},
   "source": [
    "이제 tagger를 이용해 한글 명사와 알파벳만 추출해서 tdm을 만들겠습니다."
   ]
  },
  {
   "cell_type": "code",
   "execution_count": 16,
   "metadata": {},
   "outputs": [
    {
     "name": "stdout",
     "output_type": "stream",
     "text": [
      "0\n",
      "100\n",
      "200\n",
      "300\n",
      "400\n",
      "500\n",
      "600\n",
      "700\n",
      "800\n",
      "900\n"
     ]
    }
   ],
   "source": [
    "from konlpy.tag import Okt\n",
    "from collections import Counter\n",
    "import json\n",
    "\n",
    "# Okt 형태소 분석기 선언\n",
    "t = Okt()\n",
    "\n",
    "words_list_ = []\n",
    "vocab = Counter()\n",
    "tag_set = set(['Noun', 'Alpha'])\n",
    "stopwords = set(['글자'])\n",
    "\n",
    "for i, article in enumerate(articleList):\n",
    "    if i % 100 == 0:\n",
    "        print(i)\n",
    "    \n",
    "    # tagger를 이용한 품사 태깅\n",
    "    words = t.pos(article, norm=True, stem=True)\n",
    "    \n",
    "    # 명사와 알파벳 tag를 가지며 철자 길이가 2이상이고 stopwords에 포함되지 않는 단어들로 리스트 생성\n",
    "    words = [w for w, t in words if t in tag_set and len(w) > 1 and w not in stopwords]\n",
    "    \n",
    "    vocab.update(words)\n",
    "    words_list_.append((words, article))\n",
    "    \n",
    "vocab = sorted([w for w, freq in vocab.most_common(10000)])\n",
    "word2id = {w: i for i, w in enumerate(vocab)}\n",
    "words_list = []\n",
    "for words, article in words_list_:\n",
    "    words = [w for w in words if w in word2id]\n",
    "    if len(words) > 10:\n",
    "        words_list.append((words, article))\n",
    "\n",
    "del words_list_"
   ]
  },
  {
   "cell_type": "markdown",
   "metadata": {},
   "source": [
    "### **3) Build document-term matrix**"
   ]
  },
  {
   "cell_type": "markdown",
   "metadata": {},
   "source": [
    "이제 document-term matrix를 만들어보겠습니다. 문서 개수 x 단어 개수의 형태를 가집니다. "
   ]
  },
  {
   "cell_type": "code",
   "execution_count": 17,
   "metadata": {},
   "outputs": [],
   "source": [
    "from sklearn.feature_extraction.text import TfidfTransformer\n",
    "import numpy as np\n",
    "\n",
    "dtm = np.zeros((len(words_list), len(vocab)), dtype=np.float32)\n",
    "for i, (words, article) in enumerate(words_list):\n",
    "    for word in words:\n",
    "        dtm[i, word2id[word]] += 1\n",
    "\n",
    "dtm = TfidfTransformer().fit_transform(dtm)"
   ]
  },
  {
   "cell_type": "markdown",
   "metadata": {},
   "source": [
    "### **4) Topic Modeling**"
   ]
  },
  {
   "cell_type": "markdown",
   "metadata": {},
   "source": [
    "이제 document-term matrix를 non-negative factorization(NMF)을 이용해 행렬 분해를 해보겠습니다. \n",
    "\n",
    "이때 NMF는 주어진 행렬 non-negative matrix X를 non-negative matrix W와 H로 행렬 분해하는 알고리즘입니다. 이어지는 코드를 통해 W와 H의 의미에 대해 파악하겠습니다. \n",
    "\n",
    "참고: [Non-negative Matrix Factorization](https://angeloyeo.github.io/2020/10/15/NMF.html)"
   ]
  },
  {
   "cell_type": "code",
   "execution_count": 18,
   "metadata": {},
   "outputs": [],
   "source": [
    "# Non-negative Matrix Factorization\n",
    "from sklearn.decomposition import NMF\n",
    "\n",
    "K = 5\n",
    "nmf = NMF(n_components=K, alpha=0.1)"
   ]
  },
  {
   "cell_type": "markdown",
   "metadata": {},
   "source": [
    "sklearn의 NMF를 이용해 W와 H matrix를 구했습니다. \n",
    "\n",
    "W는 document length x K, H는 K x term length의 차원을 갖고 있습니다.  \n",
    "W 하나의 row는 각각의 feature에 얼만큼의 가중치를 줄 지에 대한 weight입니다.  \n",
    "H 하나의 row는 하나의 feature를 나타냅니다.  "
   ]
  },
  {
   "cell_type": "code",
   "execution_count": 19,
   "metadata": {},
   "outputs": [
    {
     "name": "stderr",
     "output_type": "stream",
     "text": [
      "C:\\Users\\delphinus\\anaconda3\\envs\\nlp\\lib\\site-packages\\sklearn\\decomposition\\_nmf.py:1422: FutureWarning: `alpha` was deprecated in version 1.0 and will be removed in 1.2. Use `alpha_W` and `alpha_H` instead\n",
      "  warnings.warn(\n",
      "C:\\Users\\delphinus\\anaconda3\\envs\\nlp\\lib\\site-packages\\sklearn\\decomposition\\_nmf.py:289: FutureWarning: The 'init' value, when 'init=None' and n_components is less than n_samples and n_features, will be changed from 'nndsvd' to 'nndsvda' in 1.1 (renaming of 0.26).\n",
      "  warnings.warn(\n"
     ]
    }
   ],
   "source": [
    "W = nmf.fit_transform(dtm)\n",
    "H = nmf.components_"
   ]
  },
  {
   "cell_type": "markdown",
   "metadata": {},
   "source": [
    "우선 하나의 Topic(H의 n번째 row)에 접근해서 해당 topic에 대해 값이 가장 높은 20개의 단어를 출력해보겠습니다."
   ]
  },
  {
   "cell_type": "code",
   "execution_count": 20,
   "metadata": {},
   "outputs": [
    {
     "name": "stdout",
     "output_type": "stream",
     "text": [
      "0th topic\n",
      "결제 인앱 강제 금지법 정책 꼼수 애플 시간 겉도 제출 추가 요구 자료 허용 계획 이행 연내 구글 방통위 방지법 \n",
      "1th topic\n",
      "사전 레볼루션 사이트 넷마블 실시 공식 나이 세븐 등록 신작 대작 구글 게임 급등 최소 NFT 론칭 내년 오리진 이상 \n",
      "2th topic\n",
      "삼성 미국 전자 픽셀 모뎀 기관 조사 탑재 처음 마이크로소프트 부회장 영진 확인 동맹 이재용 아마존 시장 구글 사운드 공개 \n",
      "3th topic\n",
      "애플 규제 경쟁 위원장 저승사자 EU 규칙 촉구 플랫폼 시행 구글 공룡 방지 강화 엄격 적용 테크 넷플릭스 방통위 시급 \n",
      "4th topic\n",
      "검색 도전 시장 아마존 클라우드 비즈 확대 과감 위해 글로벌 투자 vs 전쟁 점화 사용자 국내 네이버 테크 구글 메타 \n"
     ]
    }
   ],
   "source": [
    "for k in range(K):\n",
    "    print(f\"{k}th topic\")\n",
    "    for index in H[k].argsort()[::-1][:20]:\n",
    "        print(vocab[index], end=' ')\n",
    "    print()"
   ]
  },
  {
   "cell_type": "markdown",
   "metadata": {},
   "source": [
    "이번에는 W에서 하나의 topic (W의 n번째 column)에 접근해서 해당 topic에 대해 값이 가장 높은 3개의 뉴스 기사 제목을 출력해보겠습니다."
   ]
  },
  {
   "cell_type": "code",
   "execution_count": 21,
   "metadata": {},
   "outputs": [
    {
     "name": "stdout",
     "output_type": "stream",
     "text": [
      "===0th topic===\n",
      "겉도는 인앱결제 강제금지법… 구글은 결제정책 꼼수, 애플은 시간끌기\n",
      "겉도는 인앱결제 강제금지법… 구글은 결제정책 꼼수, 애플은 시간끌기\n",
      "구글은 결제정책 꼼수, 애플은 모르쇠… 힘못쓰는 갑질방지법 [인앱결제강제 금지법 시행 100일]\n",
      "\n",
      "===1th topic===\n",
      "넷마블, 기대신작 세븐나이츠 레볼루션...'구글·공식 사이트 사전등록 실시'\n",
      "넷마블, 기대신작 '세븐나이츠 레볼루션' 구글/공식 사이트 사전등록 실시\n",
      "넷마블, 기대작 세븐나이츠 레볼루션 구글·공식 사이트 사전등록 실시\n",
      "\n",
      "===2th topic===\n",
      "이재용 삼성전자 부회장, 미국에서 '뉴삼성' 동맹 확인..마이크로소프트·아마존·구글 경영진 잇따라 만나\n",
      "이재용 삼성전자 부회장, 미국에서 '뉴삼성' 동맹 확인..마이크로소프트·아마존·구글 경영진 잇따라 만나\n",
      "조사기관 “구글 픽셀6에 삼성전자 5G모뎀 탑재, 미국시장에서 처음\"\n",
      "\n",
      "===3th topic===\n",
      "'구글‧애플 저승사자' EU경쟁위원장, 빅테크 규제 위한 규칙 시행 촉구\n",
      "'구글‧애플 저승사자' EU경쟁위원장, 빅테크 규제 위한 규칙 시행 촉구\n",
      "구글·애플·넷플릭스 ‘플랫폼 공룡’ 갑질 방지 강화… 방통위, 규제 엄격 적용\n",
      "\n",
      "===4th topic===\n",
      "구글 vs 네이버… 빅테크 ‘검색전쟁’ 재점화 국내시장 1위에 ‘사용자 친화 검색’으로 도전장\n",
      "구글 vs 네이버… 빅테크 ‘검색전쟁’ 재점화 국내시장 1위에 ‘사용자 친화 검색’으로 도전장\n",
      "[글로벌 비즈] 구글 클라우드, 시장 확대 위해 과감한 투자…아마존에 도전장\n",
      "\n"
     ]
    }
   ],
   "source": [
    "for k in range(K):\n",
    "    print(f\"==={k}th topic===\")\n",
    "    for index in W[:, k].argsort()[::-1][:3]:\n",
    "        print(words_list[index][1])\n",
    "    print()"
   ]
  },
  {
   "cell_type": "markdown",
   "metadata": {},
   "source": [
    "2번째 topic에 대해 가장 높은 가중치를 갖는 제목 5개를 출력하면 다음과 같습니다."
   ]
  },
  {
   "cell_type": "code",
   "execution_count": 22,
   "metadata": {},
   "outputs": [
    {
     "name": "stdout",
     "output_type": "stream",
     "text": [
      "이재용 삼성전자 부회장, 미국에서 '뉴삼성' 동맹 확인..마이크로소프트·아마존·구글 경영진 잇따라 만나\n",
      "이재용 삼성전자 부회장, 미국에서 '뉴삼성' 동맹 확인..마이크로소프트·아마존·구글 경영진 잇따라 만나\n",
      "조사기관 “구글 픽셀6에 삼성전자 5G모뎀 탑재, 미국시장에서 처음\"\n",
      "조사기관 “구글 픽셀6에 삼성전자 5G모뎀 탑재, 미국시장에서 처음\"\n",
      "[더벨][뉴삼성 차세대 리더십]소프트웨어 경쟁력 높인다…구글·MS출신 발탁승진\n"
     ]
    }
   ],
   "source": [
    "for index in W[:, 2].argsort()[::-1][:5]:\n",
    "    print(words_list[index][1])"
   ]
  },
  {
   "cell_type": "markdown",
   "metadata": {},
   "source": [
    "### **5) Visualization**"
   ]
  },
  {
   "cell_type": "markdown",
   "metadata": {},
   "source": [
    "이제 t-SNE를 이용해 topic별 시각화를 진행하겠습니다. \n",
    "\n",
    "t-SNE(t-Stochastic Neighbor Embedding)은 고차원의 벡터를 데이터간 구조적 특징을 유지한 상태로 저차원(2~3차원) 벡터로 축소하는 방법 중 하나입니다. 주로 고차원 데이터의 시각화를 위해 사용됩니다.\n",
    "\n",
    "참고: [lovit: t-SNE](https://lovit.github.io/nlp/representation/2018/09/28/tsne/#:~:text=t%2DSNE%20%EB%8A%94%20%EA%B3%A0%EC%B0%A8%EC%9B%90%EC%9D%98,%EC%9D%98%20%EC%A7%80%EB%8F%84%EB%A1%9C%20%ED%91%9C%ED%98%84%ED%95%A9%EB%8B%88%EB%8B%A4.)\n",
    "\n",
    "참고: [ratsgo: t-SNE](https://ratsgo.github.io/machine%20learning/2017/04/28/tSNE/)"
   ]
  },
  {
   "cell_type": "code",
   "execution_count": 23,
   "metadata": {},
   "outputs": [
    {
     "name": "stderr",
     "output_type": "stream",
     "text": [
      "C:\\Users\\delphinus\\anaconda3\\envs\\nlp\\lib\\site-packages\\sklearn\\manifold\\_t_sne.py:790: FutureWarning: The default learning rate in TSNE will change from 200.0 to 'auto' in 1.2.\n",
      "  warnings.warn(\n",
      "C:\\Users\\delphinus\\anaconda3\\envs\\nlp\\lib\\site-packages\\sklearn\\manifold\\_t_sne.py:982: FutureWarning: The PCA initialization in TSNE will change to have the standard deviation of PC1 equal to 1e-4 in 1.2. This will ensure better convergence.\n",
      "  warnings.warn(\n"
     ]
    },
    {
     "name": "stdout",
     "output_type": "stream",
     "text": [
      "[t-SNE] Computing 63 nearest neighbors...\n",
      "[t-SNE] Indexed 64 samples in 0.000s...\n",
      "[t-SNE] Computed neighbors for 64 samples in 0.003s...\n",
      "[t-SNE] Computed conditional probabilities for sample 64 / 64\n",
      "[t-SNE] Mean sigma: 0.107609\n",
      "[t-SNE] KL divergence after 250 iterations with early exaggeration: 47.561291\n",
      "[t-SNE] KL divergence after 1000 iterations: -0.062155\n"
     ]
    }
   ],
   "source": [
    "from sklearn.manifold import TSNE\n",
    "\n",
    "# n_components = 차원 수\n",
    "tsne = TSNE(n_components=2, init='pca', verbose=1)\n",
    "\n",
    "# W matrix에 대해 t-sne를 수행합니다.\n",
    "W2d = tsne.fit_transform(W)\n",
    "\n",
    "# 각 뉴스 기사 제목마다 가중치가 가장 높은 topic을 저장합니다.\n",
    "topicIndex = [v.argmax() for v in W]"
   ]
  },
  {
   "cell_type": "code",
   "execution_count": 24,
   "metadata": {},
   "outputs": [
    {
     "data": {
      "text/html": [
       "\n",
       "    <div class=\"bk-root\">\n",
       "        <a href=\"https://bokeh.org\" target=\"_blank\" class=\"bk-logo bk-logo-small bk-logo-notebook\"></a>\n",
       "        <span id=\"1131\">Loading BokehJS ...</span>\n",
       "    </div>"
      ]
     },
     "metadata": {},
     "output_type": "display_data"
    },
    {
     "data": {
      "application/javascript": [
       "\n",
       "(function(root) {\n",
       "  function now() {\n",
       "    return new Date();\n",
       "  }\n",
       "\n",
       "  const force = true;\n",
       "\n",
       "  if (typeof root._bokeh_onload_callbacks === \"undefined\" || force === true) {\n",
       "    root._bokeh_onload_callbacks = [];\n",
       "    root._bokeh_is_loading = undefined;\n",
       "  }\n",
       "\n",
       "  const JS_MIME_TYPE = 'application/javascript';\n",
       "  const HTML_MIME_TYPE = 'text/html';\n",
       "  const EXEC_MIME_TYPE = 'application/vnd.bokehjs_exec.v0+json';\n",
       "  const CLASS_NAME = 'output_bokeh rendered_html';\n",
       "\n",
       "  /**\n",
       "   * Render data to the DOM node\n",
       "   */\n",
       "  function render(props, node) {\n",
       "    const script = document.createElement(\"script\");\n",
       "    node.appendChild(script);\n",
       "  }\n",
       "\n",
       "  /**\n",
       "   * Handle when an output is cleared or removed\n",
       "   */\n",
       "  function handleClearOutput(event, handle) {\n",
       "    const cell = handle.cell;\n",
       "\n",
       "    const id = cell.output_area._bokeh_element_id;\n",
       "    const server_id = cell.output_area._bokeh_server_id;\n",
       "    // Clean up Bokeh references\n",
       "    if (id != null && id in Bokeh.index) {\n",
       "      Bokeh.index[id].model.document.clear();\n",
       "      delete Bokeh.index[id];\n",
       "    }\n",
       "\n",
       "    if (server_id !== undefined) {\n",
       "      // Clean up Bokeh references\n",
       "      const cmd_clean = \"from bokeh.io.state import curstate; print(curstate().uuid_to_server['\" + server_id + \"'].get_sessions()[0].document.roots[0]._id)\";\n",
       "      cell.notebook.kernel.execute(cmd_clean, {\n",
       "        iopub: {\n",
       "          output: function(msg) {\n",
       "            const id = msg.content.text.trim();\n",
       "            if (id in Bokeh.index) {\n",
       "              Bokeh.index[id].model.document.clear();\n",
       "              delete Bokeh.index[id];\n",
       "            }\n",
       "          }\n",
       "        }\n",
       "      });\n",
       "      // Destroy server and session\n",
       "      const cmd_destroy = \"import bokeh.io.notebook as ion; ion.destroy_server('\" + server_id + \"')\";\n",
       "      cell.notebook.kernel.execute(cmd_destroy);\n",
       "    }\n",
       "  }\n",
       "\n",
       "  /**\n",
       "   * Handle when a new output is added\n",
       "   */\n",
       "  function handleAddOutput(event, handle) {\n",
       "    const output_area = handle.output_area;\n",
       "    const output = handle.output;\n",
       "\n",
       "    // limit handleAddOutput to display_data with EXEC_MIME_TYPE content only\n",
       "    if ((output.output_type != \"display_data\") || (!Object.prototype.hasOwnProperty.call(output.data, EXEC_MIME_TYPE))) {\n",
       "      return\n",
       "    }\n",
       "\n",
       "    const toinsert = output_area.element.find(\".\" + CLASS_NAME.split(' ')[0]);\n",
       "\n",
       "    if (output.metadata[EXEC_MIME_TYPE][\"id\"] !== undefined) {\n",
       "      toinsert[toinsert.length - 1].firstChild.textContent = output.data[JS_MIME_TYPE];\n",
       "      // store reference to embed id on output_area\n",
       "      output_area._bokeh_element_id = output.metadata[EXEC_MIME_TYPE][\"id\"];\n",
       "    }\n",
       "    if (output.metadata[EXEC_MIME_TYPE][\"server_id\"] !== undefined) {\n",
       "      const bk_div = document.createElement(\"div\");\n",
       "      bk_div.innerHTML = output.data[HTML_MIME_TYPE];\n",
       "      const script_attrs = bk_div.children[0].attributes;\n",
       "      for (let i = 0; i < script_attrs.length; i++) {\n",
       "        toinsert[toinsert.length - 1].firstChild.setAttribute(script_attrs[i].name, script_attrs[i].value);\n",
       "        toinsert[toinsert.length - 1].firstChild.textContent = bk_div.children[0].textContent\n",
       "      }\n",
       "      // store reference to server id on output_area\n",
       "      output_area._bokeh_server_id = output.metadata[EXEC_MIME_TYPE][\"server_id\"];\n",
       "    }\n",
       "  }\n",
       "\n",
       "  function register_renderer(events, OutputArea) {\n",
       "\n",
       "    function append_mime(data, metadata, element) {\n",
       "      // create a DOM node to render to\n",
       "      const toinsert = this.create_output_subarea(\n",
       "        metadata,\n",
       "        CLASS_NAME,\n",
       "        EXEC_MIME_TYPE\n",
       "      );\n",
       "      this.keyboard_manager.register_events(toinsert);\n",
       "      // Render to node\n",
       "      const props = {data: data, metadata: metadata[EXEC_MIME_TYPE]};\n",
       "      render(props, toinsert[toinsert.length - 1]);\n",
       "      element.append(toinsert);\n",
       "      return toinsert\n",
       "    }\n",
       "\n",
       "    /* Handle when an output is cleared or removed */\n",
       "    events.on('clear_output.CodeCell', handleClearOutput);\n",
       "    events.on('delete.Cell', handleClearOutput);\n",
       "\n",
       "    /* Handle when a new output is added */\n",
       "    events.on('output_added.OutputArea', handleAddOutput);\n",
       "\n",
       "    /**\n",
       "     * Register the mime type and append_mime function with output_area\n",
       "     */\n",
       "    OutputArea.prototype.register_mime_type(EXEC_MIME_TYPE, append_mime, {\n",
       "      /* Is output safe? */\n",
       "      safe: true,\n",
       "      /* Index of renderer in `output_area.display_order` */\n",
       "      index: 0\n",
       "    });\n",
       "  }\n",
       "\n",
       "  // register the mime type if in Jupyter Notebook environment and previously unregistered\n",
       "  if (root.Jupyter !== undefined) {\n",
       "    const events = require('base/js/events');\n",
       "    const OutputArea = require('notebook/js/outputarea').OutputArea;\n",
       "\n",
       "    if (OutputArea.prototype.mime_types().indexOf(EXEC_MIME_TYPE) == -1) {\n",
       "      register_renderer(events, OutputArea);\n",
       "    }\n",
       "  }\n",
       "\n",
       "  \n",
       "  if (typeof (root._bokeh_timeout) === \"undefined\" || force === true) {\n",
       "    root._bokeh_timeout = Date.now() + 5000;\n",
       "    root._bokeh_failed_load = false;\n",
       "  }\n",
       "\n",
       "  const NB_LOAD_WARNING = {'data': {'text/html':\n",
       "     \"<div style='background-color: #fdd'>\\n\"+\n",
       "     \"<p>\\n\"+\n",
       "     \"BokehJS does not appear to have successfully loaded. If loading BokehJS from CDN, this \\n\"+\n",
       "     \"may be due to a slow or bad network connection. Possible fixes:\\n\"+\n",
       "     \"</p>\\n\"+\n",
       "     \"<ul>\\n\"+\n",
       "     \"<li>re-rerun `output_notebook()` to attempt to load from CDN again, or</li>\\n\"+\n",
       "     \"<li>use INLINE resources instead, as so:</li>\\n\"+\n",
       "     \"</ul>\\n\"+\n",
       "     \"<code>\\n\"+\n",
       "     \"from bokeh.resources import INLINE\\n\"+\n",
       "     \"output_notebook(resources=INLINE)\\n\"+\n",
       "     \"</code>\\n\"+\n",
       "     \"</div>\"}};\n",
       "\n",
       "  function display_loaded() {\n",
       "    const el = document.getElementById(\"1131\");\n",
       "    if (el != null) {\n",
       "      el.textContent = \"BokehJS is loading...\";\n",
       "    }\n",
       "    if (root.Bokeh !== undefined) {\n",
       "      if (el != null) {\n",
       "        el.textContent = \"BokehJS \" + root.Bokeh.version + \" successfully loaded.\";\n",
       "      }\n",
       "    } else if (Date.now() < root._bokeh_timeout) {\n",
       "      setTimeout(display_loaded, 100)\n",
       "    }\n",
       "  }\n",
       "\n",
       "\n",
       "  function run_callbacks() {\n",
       "    try {\n",
       "      root._bokeh_onload_callbacks.forEach(function(callback) {\n",
       "        if (callback != null)\n",
       "          callback();\n",
       "      });\n",
       "    } finally {\n",
       "      delete root._bokeh_onload_callbacks\n",
       "    }\n",
       "    console.debug(\"Bokeh: all callbacks have finished\");\n",
       "  }\n",
       "\n",
       "  function load_libs(css_urls, js_urls, callback) {\n",
       "    if (css_urls == null) css_urls = [];\n",
       "    if (js_urls == null) js_urls = [];\n",
       "\n",
       "    root._bokeh_onload_callbacks.push(callback);\n",
       "    if (root._bokeh_is_loading > 0) {\n",
       "      console.debug(\"Bokeh: BokehJS is being loaded, scheduling callback at\", now());\n",
       "      return null;\n",
       "    }\n",
       "    if (js_urls == null || js_urls.length === 0) {\n",
       "      run_callbacks();\n",
       "      return null;\n",
       "    }\n",
       "    console.debug(\"Bokeh: BokehJS not loaded, scheduling load and callback at\", now());\n",
       "    root._bokeh_is_loading = css_urls.length + js_urls.length;\n",
       "\n",
       "    function on_load() {\n",
       "      root._bokeh_is_loading--;\n",
       "      if (root._bokeh_is_loading === 0) {\n",
       "        console.debug(\"Bokeh: all BokehJS libraries/stylesheets loaded\");\n",
       "        run_callbacks()\n",
       "      }\n",
       "    }\n",
       "\n",
       "    function on_error(url) {\n",
       "      console.error(\"failed to load \" + url);\n",
       "    }\n",
       "\n",
       "    for (let i = 0; i < css_urls.length; i++) {\n",
       "      const url = css_urls[i];\n",
       "      const element = document.createElement(\"link\");\n",
       "      element.onload = on_load;\n",
       "      element.onerror = on_error.bind(null, url);\n",
       "      element.rel = \"stylesheet\";\n",
       "      element.type = \"text/css\";\n",
       "      element.href = url;\n",
       "      console.debug(\"Bokeh: injecting link tag for BokehJS stylesheet: \", url);\n",
       "      document.body.appendChild(element);\n",
       "    }\n",
       "\n",
       "    for (let i = 0; i < js_urls.length; i++) {\n",
       "      const url = js_urls[i];\n",
       "      const element = document.createElement('script');\n",
       "      element.onload = on_load;\n",
       "      element.onerror = on_error.bind(null, url);\n",
       "      element.async = false;\n",
       "      element.src = url;\n",
       "      console.debug(\"Bokeh: injecting script tag for BokehJS library: \", url);\n",
       "      document.head.appendChild(element);\n",
       "    }\n",
       "  };\n",
       "\n",
       "  function inject_raw_css(css) {\n",
       "    const element = document.createElement(\"style\");\n",
       "    element.appendChild(document.createTextNode(css));\n",
       "    document.body.appendChild(element);\n",
       "  }\n",
       "\n",
       "  \n",
       "  const js_urls = [\"https://cdn.bokeh.org/bokeh/release/bokeh-2.4.2.min.js\", \"https://cdn.bokeh.org/bokeh/release/bokeh-gl-2.4.2.min.js\", \"https://cdn.bokeh.org/bokeh/release/bokeh-widgets-2.4.2.min.js\", \"https://cdn.bokeh.org/bokeh/release/bokeh-tables-2.4.2.min.js\", \"https://cdn.bokeh.org/bokeh/release/bokeh-mathjax-2.4.2.min.js\"];\n",
       "  const css_urls = [];\n",
       "  \n",
       "\n",
       "  const inline_js = [\n",
       "    function(Bokeh) {\n",
       "      Bokeh.set_log_level(\"info\");\n",
       "    },\n",
       "    function(Bokeh) {\n",
       "    \n",
       "    \n",
       "    }\n",
       "  ];\n",
       "\n",
       "  function run_inline_js() {\n",
       "    \n",
       "    if (root.Bokeh !== undefined || force === true) {\n",
       "      \n",
       "    for (let i = 0; i < inline_js.length; i++) {\n",
       "      inline_js[i].call(root, root.Bokeh);\n",
       "    }\n",
       "    if (force === true) {\n",
       "        display_loaded();\n",
       "      }} else if (Date.now() < root._bokeh_timeout) {\n",
       "      setTimeout(run_inline_js, 100);\n",
       "    } else if (!root._bokeh_failed_load) {\n",
       "      console.log(\"Bokeh: BokehJS failed to load within specified timeout.\");\n",
       "      root._bokeh_failed_load = true;\n",
       "    } else if (force !== true) {\n",
       "      const cell = $(document.getElementById(\"1131\")).parents('.cell').data().cell;\n",
       "      cell.output_area.append_execute_result(NB_LOAD_WARNING)\n",
       "    }\n",
       "\n",
       "  }\n",
       "\n",
       "  if (root._bokeh_is_loading === 0) {\n",
       "    console.debug(\"Bokeh: BokehJS loaded, going straight to plotting\");\n",
       "    run_inline_js();\n",
       "  } else {\n",
       "    load_libs(css_urls, js_urls, function() {\n",
       "      console.debug(\"Bokeh: BokehJS plotting callback run at\", now());\n",
       "      run_inline_js();\n",
       "    });\n",
       "  }\n",
       "}(window));"
      ],
      "application/vnd.bokehjs_load.v0+json": ""
     },
     "metadata": {},
     "output_type": "display_data"
    },
    {
     "data": {
      "text/html": [
       "\n",
       "\n",
       "\n",
       "\n",
       "\n",
       "\n",
       "  <div class=\"bk-root\" id=\"5a684a58-54da-4364-ac07-102665a18197\" data-root-id=\"1132\"></div>\n"
      ]
     },
     "metadata": {},
     "output_type": "display_data"
    },
    {
     "data": {
      "application/javascript": [
       "(function(root) {\n",
       "  function embed_document(root) {\n",
       "    \n",
       "  const docs_json = {\"b4682a68-fa0e-4e7d-8772-58b06cbc8579\":{\"defs\":[],\"roots\":{\"references\":[{\"attributes\":{\"below\":[{\"id\":\"1141\"}],\"center\":[{\"id\":\"1144\"},{\"id\":\"1148\"},{\"id\":\"1181\"}],\"height\":580,\"left\":[{\"id\":\"1145\"}],\"renderers\":[{\"id\":\"1168\"}],\"title\":{\"id\":\"1170\"},\"toolbar\":{\"id\":\"1156\"},\"width\":720,\"x_range\":{\"id\":\"1133\"},\"x_scale\":{\"id\":\"1137\"},\"y_range\":{\"id\":\"1135\"},\"y_scale\":{\"id\":\"1139\"}},\"id\":\"1132\",\"subtype\":\"Figure\",\"type\":\"Plot\"},{\"attributes\":{\"label\":{\"field\":\"topic\"},\"renderers\":[{\"id\":\"1168\"}]},\"id\":\"1182\",\"type\":\"LegendItem\"},{\"attributes\":{\"source\":{\"id\":\"1163\"}},\"id\":\"1169\",\"type\":\"CDSView\"},{\"attributes\":{\"coordinates\":null,\"formatter\":{\"id\":\"1173\"},\"group\":null,\"major_label_policy\":{\"id\":\"1174\"},\"ticker\":{\"id\":\"1146\"}},\"id\":\"1145\",\"type\":\"LinearAxis\"},{\"attributes\":{\"data\":{\"color\":[\"#ffbb78\",\"#ffbb78\",\"#ffbb78\",\"#ffbb78\",\"#2ca02c\",\"#1f77b4\",\"#ffbb78\",\"#2ca02c\",\"#1f77b4\",\"#ffbb78\",\"#2ca02c\",\"#1f77b4\",\"#2ca02c\",\"#2ca02c\",\"#ffbb78\",\"#2ca02c\",\"#2ca02c\",\"#ffbb78\",\"#1f77b4\",\"#1f77b4\",\"#1f77b4\",\"#1f77b4\",\"#ffbb78\",\"#2ca02c\",\"#2ca02c\",\"#ffbb78\",\"#ffbb78\",\"#ff7f0e\",\"#ffbb78\",\"#2ca02c\",\"#ffbb78\",\"#ffbb78\",\"#2ca02c\",\"#2ca02c\",\"#ffbb78\",\"#ffbb78\",\"#aec7e8\",\"#aec7e8\",\"#ffbb78\",\"#2ca02c\",\"#aec7e8\",\"#ffbb78\",\"#2ca02c\",\"#aec7e8\",\"#ff7f0e\",\"#2ca02c\",\"#ffbb78\",\"#aec7e8\",\"#ffbb78\",\"#aec7e8\",\"#ffbb78\",\"#ff7f0e\",\"#ff7f0e\",\"#ff7f0e\",\"#ffbb78\",\"#ffbb78\",\"#ffbb78\",\"#ffbb78\",\"#2ca02c\",\"#2ca02c\",\"#ff7f0e\",\"#ff7f0e\",\"#ffbb78\",\"#ffbb78\"],\"document\":[\"'\\uc801\\uc911\\ub960 70%' \\ubbf8\\ub77c\\ud074\\ub808\\ud130 \\uc62c\\ud574\\ub3c4 10\\ub300\\uae30\\uc220 \\uc608\\uce21\\u2026\\uad6c\\uae00 AR\\uc548\\uacbd\\u00b7\\ud14c\\uc2ac\\ub77c \\ub85c\\ubd07\",\"\\\"\\uc62c\\ud574 \\uba54\\ud0c0\\ubc84\\uc2a4 \\uacbd\\uc7c1 \\ubcf8\\uaca9\\ud654\\\"...\\uba54\\ud0c0\\uac00 \\uc120\\ub450, \\uc560\\ud50c\\u00b7MS\\u00b7\\uad6c\\uae00\\uc774 \\ucd94\\uaca9\",\"\\uacf5\\uc815\\uc704\\uc6d0\\uc7a5 \\\"\\uad6c\\uae00 \\uc571\\ub9c8\\ucf13\\uc2dc\\uc7a5 \\uacbd\\uc7c1\\uc81c\\ud55c\\ud589\\uc704 \\uc804\\uc6d0\\ud68c\\uc758 \\uc2ec\\uc758 \\uc608\\uc815\\\"\",\"\\ud2f0\\uc564\\ucf00\\uc774\\ud329\\ud1a0\\ub9ac '\\uac80\\uc740\\uc655\\uad00:\\uba54\\uae30\\uc655\\uc758 \\ubd84\\ub178' \\uad6c\\uae00 \\ud50c\\ub808\\uc774 \\uc778\\uae30 \\uc21c\\uc704 1\\uc704 \\ub2ec\\uc131\",\"[\\uae00\\ub85c\\ubc8c \\ube44\\uc988] \\uad6c\\uae00 \\ud074\\ub77c\\uc6b0\\ub4dc, \\uc2dc\\uc7a5 \\ud655\\ub300 \\uc704\\ud574 \\uacfc\\uac10\\ud55c \\ud22c\\uc790\\u2026\\uc544\\ub9c8\\uc874\\uc5d0 \\ub3c4\\uc804\\uc7a5\",\"\\uc560\\ud50c, \\uc5f0\\ub0b4 \\uc778\\uc571\\uacb0\\uc81c\\uac15\\uc81c\\uae08\\uc9c0\\ubc95 \\uc774\\ud589\\uacc4\\ud68d \\uc81c\\ucd9c\\ud560\\uae4c?\\u2026\\ubc29\\ud1b5\\uc704, \\uad6c\\uae00\\uc5d0\\ub3c4 '\\uc81c3\\uc790 \\uacb0\\uc81c \\ud5c8\\uc6a9' \\ucd94\\uac00\\uc790\\ub8cc \\uc694\\uad6c\",\"\\uad6c\\uae00\\u00b7\\uc560\\ud50c\\u00b7\\ub137\\ud50c\\ub9ad\\uc2a4 \\u2018\\ud50c\\ub7ab\\ud3fc \\uacf5\\ub8e1\\u2019 \\uac11\\uc9c8 \\ubc29\\uc9c0 \\uac15\\ud654\\u2026 \\ubc29\\ud1b5\\uc704, \\uaddc\\uc81c \\uc5c4\\uaca9 \\uc801\\uc6a9\",\"[\\uae00\\ub85c\\ubc8c \\ube44\\uc988] \\uad6c\\uae00 \\ud074\\ub77c\\uc6b0\\ub4dc, \\uc2dc\\uc7a5 \\ud655\\ub300 \\uc704\\ud574 \\uacfc\\uac10\\ud55c \\ud22c\\uc790\\u2026\\uc544\\ub9c8\\uc874\\uc5d0 \\ub3c4\\uc804\\uc7a5\",\"\\uc560\\ud50c, \\uc5f0\\ub0b4 \\uc778\\uc571\\uacb0\\uc81c\\uac15\\uc81c\\uae08\\uc9c0\\ubc95 \\uc774\\ud589\\uacc4\\ud68d \\uc81c\\ucd9c\\ud560\\uae4c?\\u2026\\ubc29\\ud1b5\\uc704, \\uad6c\\uae00\\uc5d0\\ub3c4 '\\uc81c3\\uc790 \\uacb0\\uc81c \\ud5c8\\uc6a9' \\ucd94\\uac00\\uc790\\ub8cc \\uc694\\uad6c\",\"\\uad6c\\uae00\\u00b7\\uc560\\ud50c\\u00b7\\ub137\\ud50c\\ub9ad\\uc2a4 \\u2018\\ud50c\\ub7ab\\ud3fc \\uacf5\\ub8e1\\u2019 \\uac11\\uc9c8 \\ubc29\\uc9c0 \\uac15\\ud654\\u2026 \\ubc29\\ud1b5\\uc704, \\uaddc\\uc81c \\uc5c4\\uaca9 \\uc801\\uc6a9\",\"\\uad6c\\uae00 \\uacf5\\uc778 \\uad50\\uc721\\uc804\\ubb38\\uac00 \\uae40\\ub3d9\\uc6d0 \\ub300\\ud45c\\uc758 'Google \\ud65c\\uc6a9\\ubc95' \\ub124\\uc774\\ubc84 \\uc5d1\\uc2a4\\ud37c\\ud2b8 \\uc624\\ud508\",\"\\\"\\uc720\\ud29c\\ube0c\\ub3c4 \\ud1a0\\uc2a4\\ud398\\uc774\\ub85c\\\"\\u2026 \\ud1a0\\uc2a4\\ud398\\uc774\\uba3c\\uce20, \\uad6c\\uae00 \\uc81c\\ud734\\ub85c \\uac04\\ud3b8\\uacb0\\uc81c \\ud655\\uc7a5\",\"\\uc624\\ubbf8\\ud06c\\ub860 \\ud655\\uc0b0\\uc5d0 CES \\ube68\\uac04\\ubd88\\u2026\\ucd5c\\ud0dc\\uc6d0\\u00b7\\uc815\\uc758\\uc120 \\ucd9c\\uc7a5 \\uc7ac\\uac80\\ud1a0, \\uad6c\\uae00\\u00b7\\uba54\\ud0c0\\u00b7MS \\ubd88\\ucc38\",\"LG CNS, \\uad6c\\uae00 \\ud504\\ub9ac\\ubbf8\\uc5b4 \\ud30c\\ud2b8\\ub108 \\uc5b4\\uc6cc\\uc988\\uc11c \\ub9ac\\ub4dc \\uc0dd\\uc131\\uacfc \\ubca0\\uc2a4\\ud2b8\\ud300 2\\uac1c\\ubd80\\ubb38 \\uc218\\uc0c1\",\"\\ubbf8\\ub974\\uc758 \\uc804\\uc1242: MOM, \\uad6c\\uae00 \\ub9e4\\ucd9c \\uc21c\\uc704 \\uc0c1\\uc2b9\\uc138, \\uc0c1\\uc704\\uad8c \\uc9c4\\uc785 \\ubc1c\\ud310 \\ub9c8\\ub828\",\"LG CNS, \\u2018\\uad6c\\uae00 \\ud504\\ub9ac\\ubbf8\\uc5b4 \\ud30c\\ud2b8\\ub108 \\uc5b4\\uc6cc\\uc988\\u2019 3\\ud68c \\uc5f0\\uc18d \\uc218\\uc0c1\\u2026\\uc720\\uc77c 2\\uac1c\\ubd80\\ubb38 \\uc120\\uc815\",\"\\uc544\\ub9c8\\uc874. \\uba54\\ud0c0. \\ud2b8\\uc704\\ud130 \\uc774\\uc5b4 GM. \\uad6c\\uae00 \\uc6e8\\uc774\\ubaa8\\ub3c4 \\uc624\\ubbf8\\ud06c\\ub860 \\ud655\\uc0b0\\uc73c\\ub85c 'CES 2022' \\ucc38\\uac00 \\ucde8\\uc18c\",\"\\ud574\\ud53c\\uba38\\ub2c8, \\uad6c\\uae00\\uae30\\ud504\\ud2b8\\ucf54\\ub4dc \\uad6c\\ub9e4\\uace0\\uac1d \\ub300\\uc0c1 \\ub9ac\\ub2c8\\uc9c0W \\uc544\\uc774\\ud15c \\uc774\\ubca4\\ud2b8 \\uc9c4\\ud589\",\"\\uad6c\\uae00\\uc740 \\uacb0\\uc81c\\uc815\\ucc45 \\uaf3c\\uc218, \\uc560\\ud50c\\uc740 \\ubaa8\\ub974\\uc1e0\\u2026 \\ud798\\ubabb\\uc4f0\\ub294 \\uac11\\uc9c8\\ubc29\\uc9c0\\ubc95 [\\uc778\\uc571\\uacb0\\uc81c\\uac15\\uc81c \\uae08\\uc9c0\\ubc95 \\uc2dc\\ud589 100\\uc77c]\",\"\\ud1a0\\uc2a4\\ud398\\uc774\\uba3c\\uce20 \\uad6c\\uae00\\uacfc \\ud1a0\\uc2a4\\ud398\\uc774 \\uc81c\\ud734, \\uae40\\ubbfc\\ud45c \\\"\\uac04\\ud3b8\\ud55c \\uacb0\\uc81c\\uacbd\\ud5d8 \\uc9c0\\uc6d0\\\"\",\"\\uac89\\ub3c4\\ub294 \\uc778\\uc571\\uacb0\\uc81c \\uac15\\uc81c\\uae08\\uc9c0\\ubc95\\u2026 \\uad6c\\uae00\\uc740 \\uacb0\\uc81c\\uc815\\ucc45 \\uaf3c\\uc218, \\uc560\\ud50c\\uc740 \\uc2dc\\uac04\\ub04c\\uae30\",\"\\uac89\\ub3c4\\ub294 \\uc778\\uc571\\uacb0\\uc81c \\uac15\\uc81c\\uae08\\uc9c0\\ubc95\\u2026 \\uad6c\\uae00\\uc740 \\uacb0\\uc81c\\uc815\\ucc45 \\uaf3c\\uc218, \\uc560\\ud50c\\uc740 \\uc2dc\\uac04\\ub04c\\uae30\",\"[\\ud2b9\\uc9d5\\uc8fc] FSN, '\\ud2f1\\ud1a1' \\uad6c\\uae00 \\ub204\\ub974\\uace0 \\uc804\\uc138\\uacc41\\uc704 \\uae30\\ub85d\\u2026 \\uc804\\uc138\\uacc4 \\ud2f1\\ud1a1 \\uad11\\uace0\\ub300\\ud589 \\uad8c\\ud55c \\ubd80\\uac01\",\"[\\uc9d1\\uc911\\ucde8\\uc7acM] MS \\uad6c\\uae00 A\\ud559\\uc810, \\ub124\\uc774\\ubc84 \\uce74\\uce74\\uc624 F\\ud559\\uc810\\u2025IT\\uae30\\uc5c5\\ub4e4\\uc758 \\ud0c4\\uc18c \\uc131\\uc801\\ud45c\",\"[\\uae08\\uc77c \\uc0b0\\uc5c5\\uacc4 \\uc8fc\\uc694\\uae30\\uc0ac] \\\"\\uc624\\ubbf8\\ud06c\\ub860 \\ubcc0\\uc774 \\ud655\\uc0b0\\\" \\uad6c\\uae00\\u00b7\\uc544\\ub9c8\\uc874\\u00b7\\uba54\\ud0c0\\u00b7\\ud2f1\\ud1a1 CES \\ubd88\\ucc38\\u2026 \\\"8K \\uc0dd\\ud0dc\\uacc4 \\ud655\\uc7a5 \\uac00\\uc18d\\ud654\\\" \\uc544\\ub9c8\\uc874, '8K \\ud611\\ud68c' \\ud569\\ub958 \\u5916\",\"[\\ub274\\uc2a4\\ud574\\uc124]\\uc560\\ud50c\\u00b7\\uad6c\\uae00 \\uc790\\uccb4\\ub4f1\\uae09\\ubd84\\ub958 \\ub0a8\\uc6a9...\\uae30\\uc900 \\uc815\\ube44 \\uc2dc\\uae09\",\"[\\ub274\\uc2a4\\ud574\\uc124]\\uc560\\ud50c\\u00b7\\uad6c\\uae00 \\uc790\\uccb4\\ub4f1\\uae09\\ubd84\\ub958 \\ub0a8\\uc6a9...\\uae30\\uc900 \\uc815\\ube44 \\uc2dc\\uae09\",\"LG\\uc804\\uc790, 2022\\ub144\\ud615 \\uc0ac\\uc6b4\\ub4dc \\ubc14 \\uacf5\\uac1c...\\uad6c\\uae00\\u00b7\\uc544\\ub9c8\\uc874, \\uc778\\uacf5\\uc9c0\\ub2a5 \\uc2a4\\ud53c\\ucee4 \\uc5f0\\ub3d9 \\ud1b5\\ud574 \\uc74c\\uc131\\ub9cc\\uc73c\\ub85c \\uc0ac\\uc6b4\\ub4dc \\ubc14 \\uc870\\uc791\",\"[AICON \\uad11\\uc8fc 2021] \\uad6c\\uae00 \\ucf54\\ub9ac\\uc544 \\uae40\\ud0dc\\uc6d0 \\uc804\\ubb34 \\\"\\ub514\\uc9c0\\ud138 \\uae30\\uc220\\uc740 \\uc138\\uc0c1\\uc758 \\ubb38\\uc81c\\ub97c \\ud574\\uacb0\\ud55c\\ub2e4\\\"\",\"\\uc120\\uc6b0\\uc724 \\uc640\\uadf8 \\ub300\\ud45c \\\"\\uad6c\\uae00 \\ud611\\uc5c5 \\uccab \\uad6d\\ub0b4 OTA\\u2026\\uc678\\uad6d\\uc778\\ub3c4 \\uc774\\uc81c \\uc6b0\\ub9ac \\uace0\\uac1d\\\" [\\uc778\\ud130\\ubdf0]\",\"\\uad11\\uc9c4\\uc708\\ud14d, 3D\\uc0ac\\uc6b4\\ub4dc \\ucd2c\\uc601 \\uc2e0\\uae30\\uc220 \\uac1c\\ubc1c...\\uad6c\\uae00 \\ub4f1 \\uc2a4\\ub9c8\\ud2b8\\ub514\\ubc14\\uc774\\uc2a4 \\uacb0\\ud569 1\\ucc28 \\uc0c1\\uc6a9\\ubaa8\\ub378 \\uc591\\uc0b0 \\ubaa9\\ud45c\",\"'\\uad6c\\uae00\\u00b7\\ub137\\ud50c\\ub9ad\\uc2a4' \\ub300\\uc0c1 \\ub9dd \\uc548\\uc815\\uc131 \\ud655\\ubcf4 \\uac00\\uc774\\ub4dc\\ub77c\\uc778 \\ub9c8\\ub828\\u2026 \\uc778\\ud130\\ub137 \\ud68c\\uc120 \\uc6a9\\ub7c9 \\ud655\\ubcf4 \\uc758\\ubb34\\ud654\",\"\\uad6c\\uae00 vs \\ub124\\uc774\\ubc84\\u2026 \\ube45\\ud14c\\ud06c \\u2018\\uac80\\uc0c9\\uc804\\uc7c1\\u2019 \\uc7ac\\uc810\\ud654 \\uad6d\\ub0b4\\uc2dc\\uc7a5 1\\uc704\\uc5d0 \\u2018\\uc0ac\\uc6a9\\uc790 \\uce5c\\ud654 \\uac80\\uc0c9\\u2019\\uc73c\\ub85c \\ub3c4\\uc804\\uc7a5\",\"\\uad6c\\uae00 vs \\ub124\\uc774\\ubc84\\u2026 \\ube45\\ud14c\\ud06c \\u2018\\uac80\\uc0c9\\uc804\\uc7c1\\u2019 \\uc7ac\\uc810\\ud654 \\uad6d\\ub0b4\\uc2dc\\uc7a5 1\\uc704\\uc5d0 \\u2018\\uc0ac\\uc6a9\\uc790 \\uce5c\\ud654 \\uac80\\uc0c9\\u2019\\uc73c\\ub85c \\ub3c4\\uc804\\uc7a5\",\"[\\uc704\\ud074\\ub9ac\\ub9ac\\ud3ec\\ud2b8 60\\ud638] '\\uc62c\\ud574 \\ud55c\\uad6d\\uc778\\uc774 \\uad6c\\uae00\\uc11c \\uac00\\uc7a5 \\ub9ce\\uc774 \\ucc3e\\uc740 \\uac80\\uc0c9\\uc5b4' 3\\uc704 \\uc624\\uc9d5\\uc5b4\\uac8c\\uc784, 2\\uc704 \\ubc31\\uc2e0\\uc608\\uc57d, 1\\uc704\\ub294\\u2026\",\"[\\uc704\\ud074\\ub9ac\\ub9ac\\ud3ec\\ud2b8 60\\ud638] '\\uc62c\\ud574 \\ud55c\\uad6d\\uc778\\uc774 \\uad6c\\uae00\\uc11c \\uac00\\uc7a5 \\ub9ce\\uc774 \\ucc3e\\uc740 \\uac80\\uc0c9\\uc5b4' 3\\uc704 \\uc624\\uc9d5\\uc5b4\\uac8c\\uc784, 2\\uc704 \\ubc31\\uc2e0\\uc608\\uc57d, 1\\uc704\\ub294\\u2026\",\"\\ub137\\ub9c8\\ube14, \\uae30\\ub300\\uc791 \\uc138\\ube10\\ub098\\uc774\\uce20 \\ub808\\ubcfc\\ub8e8\\uc158 \\uad6c\\uae00\\u00b7\\uacf5\\uc2dd \\uc0ac\\uc774\\ud2b8 \\uc0ac\\uc804\\ub4f1\\ub85d \\uc2e4\\uc2dc\",\"\\uc5d4\\ub3cc\\ud540\\ucee4\\ub125\\ud2b8 \\uc2e0\\uc791 '\\uc2a4\\ud0d1 \\ubc14\\uc774: \\uc0b0\\ud0c0 \\ub808\\uc774\\uc2a4' \\uad6c\\uae00 \\ud50c\\ub808\\uc774 \\uc2a4\\ud1a0\\uc5b4 \\ucd9c\\uc2dc\",\"\\ubbf8, \\uad6c\\uae00\\u00b7\\uba54\\ud0c0 '\\ud0dc\\ud3c9\\uc591 \\uad11\\ucf00\\uc774\\ube14' \\uc0ac\\uc6a9\\uc2b9\\uc778 \\uad8c\\uace0\\u2026\\\"\\uc548\\ubcf4 \\uc6b0\\ub824\\ub85c \\ud64d\\ucf69 \\uad6c\\uac04\\uc740 \\uc81c\\uc678\\\"\",\"\\uc2e4\\uc801 \\uc804\\ub9dd \\uc5c7\\uac08\\ub9ac\\ub294 \\u7f8e \\ube45\\ud14c\\ud06c, MS\\u00b7\\uad6c\\uae00\\u00b7\\uba54\\ud0c0 \\u2018\\ub9d1\\uc74c\\u2019 vs \\uc560\\ud50c\\u00b7\\uc544\\ub9c8\\uc874 \\u2018\\uae00\\uc384\\u2019\",\"\\ub137\\ub9c8\\ube14, \\uae30\\ub300\\uc2e0\\uc791 \\uc138\\ube10\\ub098\\uc774\\uce20 \\ub808\\ubcfc\\ub8e8\\uc158...'\\uad6c\\uae00\\u00b7\\uacf5\\uc2dd \\uc0ac\\uc774\\ud2b8 \\uc0ac\\uc804\\ub4f1\\ub85d \\uc2e4\\uc2dc'\",\"\\uc544\\uc774\\uc2a4\\ubc84\\ub4dc \\uac8c\\uc784\\uc988 '\\ubbf8\\ub974\\uc758 \\uc804\\uc1242: MOM', \\uad6c\\uae00 \\ubb34\\ub8cc \\uc778\\uae30 \\uc21c\\uc704 2\\uc704 \\ub2ec\\uc131\",\"\\ud55c\\uad6d\\uacf5\\uc608\\ub514\\uc790\\uc778\\ubb38\\ud654\\uc9c4\\ud765\\uc6d0, \\uad6c\\uae00 \\uc544\\ud2b8 \\uc564 \\uceec\\ucc98\\uc640 \\ud611\\uc5c5...\\ud55c\\uad6d\\uc758 \\uacf5\\uc608\\ubb38\\ud654 \\uc120\\ubcf4\\uc5ec\",\"\\ub137\\ub9c8\\ube14, \\uae30\\ub300\\uc2e0\\uc791 '\\uc138\\ube10\\ub098\\uc774\\uce20 \\ub808\\ubcfc\\ub8e8\\uc158' \\uad6c\\uae00/\\uacf5\\uc2dd \\uc0ac\\uc774\\ud2b8 \\uc0ac\\uc804\\ub4f1\\ub85d \\uc2e4\\uc2dc\",\"[\\ub354\\ubca8][\\ub274\\uc0bc\\uc131 \\ucc28\\uc138\\ub300 \\ub9ac\\ub354\\uc2ed]\\uc18c\\ud504\\ud2b8\\uc6e8\\uc5b4 \\uacbd\\uc7c1\\ub825 \\ub192\\uc778\\ub2e4\\u2026\\uad6c\\uae00\\u00b7MS\\ucd9c\\uc2e0 \\ubc1c\\ud0c1\\uc2b9\\uc9c4\",\"\\ud3ec\\uc2a4\\ud14d, \\uc2a4\\ud3ec\\uce20 \\uc778\\uacf5\\uc9c0\\ub2a5(AI) \\ubd84\\uc57c...\\uad6c\\uae00 \\ud074\\ub77c\\uc6b0\\ub4dc \\uc544\\u2027\\ud0dc \\uacf5\\uacf5\\ubd80\\ubb38 \\ud30c\\ud2b8\\ub108 \\uc120\\uc815\",\"[\\uc810\\uc2ec \\ube0c\\ub9ac\\ud551]\\uc554\\ud638\\ud654\\ud3d0 \\ud558\\ub77d\\uc138\\u00b7\\u00b7\\u00b7\\uc5d0\\ub9ad \\uc288\\ubbf8\\ud2b8 \\uad6c\\uae00 \\uc804 \\ud68c\\uc7a5, \\uccb4\\uc778\\ub9c1\\ud06c \\ud504\\ub85c\\uc81d\\ud2b8 \\ud569\\ub958\",\"\\ub124\\uc624\\ub9ac\\uc9c4, \\uc2e0\\uc791 \\uac8c\\uc784 \\uad6c\\uae00 \\ub4f1 3\\ub300 \\uc571 \\ub9c8\\ucf13\\ub860\\uce6d\\u2026\\u201c\\ub0b4\\ub144 \\ucd5c\\uc18c 2\\uac1c \\uc774\\uc0c1 \\uc2e0\\uc791\\uacfc NFT\\uac8c\\uc784 \\uacf5\\uac1c \\uc608\\uc815\\u201d\",\"[AICON \\uad11\\uc8fc 2021] \\uad6c\\uae00 \\ucf54\\ub9ac\\uc544 \\uae40\\ud0dc\\uc6d0 \\uc804\\ubb34 \\uae30\\uc870 \\uac15\\uc5f0 \\ub098\\uc11c... \\\"\\ub514\\uc9c0\\ud138 \\uae30\\uc220 \\ud1b5\\ud574 \\ub2f9\\ub300\\uc758 \\uad00\\uc2ec\\uc0ac\\uc640 \\ubcc0\\ud654 \\ud30c\\uc545\\ud560 \\uc218 \\uc788\\uc5b4!\\\"\",\"\\uc601\\uc6c5 \\uc218\\uc9d1 \\ud30c\\ud2f0 \\ubc29\\uce58\\ud615 RPG '\\ub9d0\\ub2e8 \\ubcd1\\uc0ac\\uc5d0\\uc11c \\uad70\\uc8fc\\uae4c\\uc9c0 - \\uad70\\uc8fc \\ud0a4\\uc6b0\\uae30' \\uad6c\\uae00\\ud50c\\ub808\\uc774 \\ucd9c\\uc2dc\",\"[\\ud2b9\\uc9d5\\uc8fc]NHN\\ubc85\\uc2a4, \\uad6c\\uae00\\u00b7\\uc560\\ud50c\\uc5d0 \\uc2f8\\uc774\\uc6d4\\ub4dc \\uc571 \\uc2e0\\uccad\\u2026\\ub124\\uc774\\ubc84\\u00b7\\uce74\\uce74\\uc624 \\uc787\\ub294 K-\\ud50c\\ub7ab\\ud3fc \\ucd9c\\uc0ac\\ud45c\",\"\\uad6c\\uae00, 12\\uc6d4 '\\ud53d\\uc140 \\ud53c\\ucc98 \\ub4dc\\ub86d' \\uc5c5\\ub370\\uc774\\ud2b8 \\uacf5\\uac1c.. '\\ud53d\\uc1406' \\uc9c0\\ubb38 \\uc13c\\uc11c \\uc131\\ub2a5 \\uac1c\\uc120\",\"\\uc870\\uc0ac\\uae30\\uad00 \\u201c\\uad6c\\uae00 \\ud53d\\uc1406\\uc5d0 \\uc0bc\\uc131\\uc804\\uc790 5G\\ubaa8\\ub380 \\ud0d1\\uc7ac, \\ubbf8\\uad6d\\uc2dc\\uc7a5\\uc5d0\\uc11c \\ucc98\\uc74c\\\"\",\"\\uc870\\uc0ac\\uae30\\uad00 \\u201c\\uad6c\\uae00 \\ud53d\\uc1406\\uc5d0 \\uc0bc\\uc131\\uc804\\uc790 5G\\ubaa8\\ub380 \\ud0d1\\uc7ac, \\ubbf8\\uad6d\\uc2dc\\uc7a5\\uc5d0\\uc11c \\ucc98\\uc74c\\\"\",\"[\\uae09\\ub4f1\\uc655\\uc758 '\\uae09\\ub4f1\\ub9e5 \\ud544\\uc0b4\\uae30'] NHN\\ubc85\\uc2a4, \\uad6c\\uae00\\u00b7\\uc560\\ud50c \\uc571 \\ub4f1\\ub85d \\uc2ec\\uc0ac \\uc2e0\\uccad \\uc18c\\uc2dd\\uc5d0 \\uc0c1\\uc2b9! GO? STOP?!\",\"\\uad6c\\uae00 \\uc790\\uccb4 \\uac1c\\ubc1c \\uc571\\ud50c\\ub808\\uc774\\uc5b4 'Google Play Games' \\uacf5\\uac1c, \\uc571 \\ud50c\\ub808\\uc774\\uc5b4 \\uc0dd\\ud0dc\\uacc4 \\uc9c0\\uac01\\ubcc0\\ub3d9 \\uc62c\\uae4c\",\"\\uc5d0\\ub9ad \\uc288\\ubbf8\\ud2b8 \\uc804 \\uad6c\\uae00 CEO, \\ube14\\ub85d\\uccb4\\uc778 \\uc624\\ub77c\\ud074 \\uc194\\ub8e8\\uc158 \\uac1c\\ubc1c\\uc0ac '\\uccb4\\uc778\\ub9c1\\ud06c' \\ud569\\ub958\",\"[\\uc5ec\\uc758\\uc625] \\uc5d0\\ub9ad \\uc288\\ubbf8\\ud2b8 \\uc804 \\uad6c\\uae00 CEO, \\ube14\\ub85d\\uccb4\\uc778 \\uc624\\ub77c\\ud074 \\uc194\\ub8e8\\uc158 \\uac1c\\ubc1c\\uc0ac \\uc804\\uaca9 \\ud569\\ub958\",\"\\ub098\\uc2a4\\ubbf8\\ub514\\uc5b4, '\\uad6c\\uae00 \\ud504\\ub9ac\\ubbf8\\uc5b4 \\ud30c\\ud2b8\\ub108 \\uc5b4\\uc6cc\\uc988 2021' \\uc218\\uc0c1\\u2026\\ube0c\\ub79c\\ub4dc \\uc9c0\\uc18d\\uac00\\ub2a5 \\uc131\\uc7a5\\uc5d0 \\uae30\\uc5ec\",\"[\\uc0bc\\uc815KPMG \\ubcf4\\uace0\\uc11c] \\ud14c\\ud06c \\uae30\\uc5c5, ESG \\ub9ac\\uc2a4\\ud06c \\uc9c1\\uba74\\u2026 \\\"\\uc6b0\\uc120 \\uacfc\\uc81c \\ub3c4\\ucd9c\\ud574\\uc57c\\\"\",\"\\uc774\\uc7ac\\uc6a9 \\uc0bc\\uc131\\uc804\\uc790 \\ubd80\\ud68c\\uc7a5, \\ubbf8\\uad6d\\uc5d0\\uc11c '\\ub274\\uc0bc\\uc131' \\ub3d9\\ub9f9 \\ud655\\uc778..\\ub9c8\\uc774\\ud06c\\ub85c\\uc18c\\ud504\\ud2b8\\u00b7\\uc544\\ub9c8\\uc874\\u00b7\\uad6c\\uae00 \\uacbd\\uc601\\uc9c4 \\uc787\\ub530\\ub77c \\ub9cc\\ub098\",\"\\uc774\\uc7ac\\uc6a9 \\uc0bc\\uc131\\uc804\\uc790 \\ubd80\\ud68c\\uc7a5, \\ubbf8\\uad6d\\uc5d0\\uc11c '\\ub274\\uc0bc\\uc131' \\ub3d9\\ub9f9 \\ud655\\uc778..\\ub9c8\\uc774\\ud06c\\ub85c\\uc18c\\ud504\\ud2b8\\u00b7\\uc544\\ub9c8\\uc874\\u00b7\\uad6c\\uae00 \\uacbd\\uc601\\uc9c4 \\uc787\\ub530\\ub77c \\ub9cc\\ub098\",\"'\\uad6c\\uae00\\u2027\\uc560\\ud50c \\uc800\\uc2b9\\uc0ac\\uc790' EU\\uacbd\\uc7c1\\uc704\\uc6d0\\uc7a5, \\ube45\\ud14c\\ud06c \\uaddc\\uc81c \\uc704\\ud55c \\uaddc\\uce59 \\uc2dc\\ud589 \\ucd09\\uad6c\",\"'\\uad6c\\uae00\\u2027\\uc560\\ud50c \\uc800\\uc2b9\\uc0ac\\uc790' EU\\uacbd\\uc7c1\\uc704\\uc6d0\\uc7a5, \\ube45\\ud14c\\ud06c \\uaddc\\uc81c \\uc704\\ud55c \\uaddc\\uce59 \\uc2dc\\ud589 \\ucd09\\uad6c\"],\"id\":[0,1,2,3,4,5,6,7,8,9,10,11,12,13,14,15,16,17,18,19,20,21,22,23,24,25,26,27,28,29,30,31,32,33,34,35,36,37,38,39,40,41,42,43,44,45,46,47,48,49,50,51,52,53,54,55,56,57,58,59,60,61,62,63],\"topic\":[\"3\",\"3\",\"3\",\"3\",\"4\",\"0\",\"3\",\"4\",\"0\",\"3\",\"4\",\"0\",\"4\",\"4\",\"3\",\"4\",\"4\",\"3\",\"0\",\"0\",\"0\",\"0\",\"3\",\"4\",\"4\",\"3\",\"3\",\"2\",\"3\",\"4\",\"3\",\"3\",\"4\",\"4\",\"3\",\"3\",\"1\",\"1\",\"3\",\"4\",\"1\",\"3\",\"4\",\"1\",\"2\",\"4\",\"3\",\"1\",\"3\",\"1\",\"3\",\"2\",\"2\",\"2\",\"3\",\"3\",\"3\",\"3\",\"4\",\"4\",\"2\",\"2\",\"3\",\"3\"],\"x\":{\"__ndarray__\":\"UUTfQvR4IMNRyKnCwjTvQkkeQsPhb6zD6XBBw0keQsPhb6zD6XBBwwXJ+0GEqkfD6mQ+wlJo40G/IBZDFX+JQcrbJcKNS0BD3UTPwwmrG8NxhLzDcYS8w5Qzd0OsNApDX9wLwr9lZ8O/ZWfD9GJhQya9LEP8qKNCQ65XQ630wkGkAAvDpAALw95jXsLeY17CigIwQqyuk0MKNZ1CUkDJwih+w0J/Z2ZDDDgFQyh+w0I2apRDgvLWwglboEIld5RDy845QwVsQ0OalyDDPPCMQ0Tg1UNE4NVDx9TkQvPYA0NBqHBCyM4EQVRIo0IESaFB9OHUQ/Th1EM7ToTDO06Eww==\",\"dtype\":\"float32\",\"order\":\"little\",\"shape\":[64]},\"y\":{\"__ndarray__\":\"0JeTQkGdF8OK0S3DfpkvQ+YfZ0OaZgdCaDOGw+YfZ0OaZgdCaDOGw9teMEM0s3pC//+QQm+60cIb+O9Cdy8twyU5E0Oc9HbCBC/qQajNBEKEpu7BhKbuwdCrjcFsItzCktm/wivJGMMryRjD7F0fw5Q8gELu1Q3DeIXbQu9Y18Hb+oVD2/qFQ16pW8FeqVvBvkusQzd8k0L/ePJCgW3SwoLOpENspDZCD0S3QYLOpEM1kSXDh6/1QllyKMC4/RRDIxuPP5a0MEO7KJrCf5zSwkjb/MFI2/zBzLBZw8IQDsLsDUdCAYPuQQ+XkcILj8ZCvwjBwr8IwcLZuYHD2bmBww==\",\"dtype\":\"float32\",\"order\":\"little\",\"shape\":[64]}},\"selected\":{\"id\":\"1179\"},\"selection_policy\":{\"id\":\"1178\"}},\"id\":\"1163\",\"type\":\"ColumnDataSource\"},{\"attributes\":{},\"id\":\"1177\",\"type\":\"AllLabels\"},{\"attributes\":{},\"id\":\"1152\",\"type\":\"SaveTool\"},{\"attributes\":{},\"id\":\"1153\",\"type\":\"ResetTool\"},{\"attributes\":{\"overlay\":{\"id\":\"1155\"}},\"id\":\"1150\",\"type\":\"BoxZoomTool\"},{\"attributes\":{},\"id\":\"1151\",\"type\":\"PanTool\"},{\"attributes\":{},\"id\":\"1133\",\"type\":\"DataRange1d\"},{\"attributes\":{\"axis\":{\"id\":\"1141\"},\"coordinates\":null,\"group\":null,\"ticker\":null},\"id\":\"1144\",\"type\":\"Grid\"},{\"attributes\":{\"coordinates\":null,\"formatter\":{\"id\":\"1176\"},\"group\":null,\"major_label_policy\":{\"id\":\"1177\"},\"ticker\":{\"id\":\"1142\"}},\"id\":\"1141\",\"type\":\"LinearAxis\"},{\"attributes\":{\"callback\":null,\"tooltips\":[[\"Topic\",\"@topic\"],[\"id\",\"@id\"],[\"Article\",\"@document\"]]},\"id\":\"1149\",\"type\":\"HoverTool\"},{\"attributes\":{\"fill_alpha\":{\"value\":0.2},\"fill_color\":{\"field\":\"color\"},\"hatch_alpha\":{\"value\":0.2},\"hatch_color\":{\"field\":\"color\"},\"line_alpha\":{\"value\":0.2},\"line_color\":{\"field\":\"color\"},\"x\":{\"field\":\"x\"},\"y\":{\"field\":\"y\"}},\"id\":\"1167\",\"type\":\"Circle\"},{\"attributes\":{\"coordinates\":null,\"data_source\":{\"id\":\"1163\"},\"glyph\":{\"id\":\"1165\"},\"group\":null,\"hover_glyph\":null,\"muted_glyph\":{\"id\":\"1167\"},\"nonselection_glyph\":{\"id\":\"1166\"},\"view\":{\"id\":\"1169\"}},\"id\":\"1168\",\"type\":\"GlyphRenderer\"},{\"attributes\":{\"bottom_units\":\"screen\",\"coordinates\":null,\"fill_alpha\":0.5,\"fill_color\":\"lightgrey\",\"group\":null,\"left_units\":\"screen\",\"level\":\"overlay\",\"line_alpha\":1.0,\"line_color\":\"black\",\"line_dash\":[4,4],\"line_width\":2,\"right_units\":\"screen\",\"syncable\":false,\"top_units\":\"screen\"},\"id\":\"1155\",\"type\":\"BoxAnnotation\"},{\"attributes\":{},\"id\":\"1146\",\"type\":\"BasicTicker\"},{\"attributes\":{},\"id\":\"1154\",\"type\":\"WheelZoomTool\"},{\"attributes\":{\"coordinates\":null,\"group\":null,\"items\":[{\"id\":\"1182\"}],\"location\":\"top_left\"},\"id\":\"1181\",\"type\":\"Legend\"},{\"attributes\":{},\"id\":\"1137\",\"type\":\"LinearScale\"},{\"attributes\":{},\"id\":\"1135\",\"type\":\"DataRange1d\"},{\"attributes\":{},\"id\":\"1173\",\"type\":\"BasicTickFormatter\"},{\"attributes\":{},\"id\":\"1139\",\"type\":\"LinearScale\"},{\"attributes\":{\"fill_color\":{\"field\":\"color\"},\"hatch_color\":{\"field\":\"color\"},\"line_color\":{\"field\":\"color\"},\"x\":{\"field\":\"x\"},\"y\":{\"field\":\"y\"}},\"id\":\"1165\",\"type\":\"Circle\"},{\"attributes\":{},\"id\":\"1178\",\"type\":\"UnionRenderers\"},{\"attributes\":{},\"id\":\"1174\",\"type\":\"AllLabels\"},{\"attributes\":{},\"id\":\"1142\",\"type\":\"BasicTicker\"},{\"attributes\":{},\"id\":\"1176\",\"type\":\"BasicTickFormatter\"},{\"attributes\":{},\"id\":\"1179\",\"type\":\"Selection\"},{\"attributes\":{\"tools\":[{\"id\":\"1149\"},{\"id\":\"1150\"},{\"id\":\"1151\"},{\"id\":\"1152\"},{\"id\":\"1153\"},{\"id\":\"1154\"}]},\"id\":\"1156\",\"type\":\"Toolbar\"},{\"attributes\":{\"axis\":{\"id\":\"1145\"},\"coordinates\":null,\"dimension\":1,\"group\":null,\"ticker\":null},\"id\":\"1148\",\"type\":\"Grid\"},{\"attributes\":{\"coordinates\":null,\"group\":null},\"id\":\"1170\",\"type\":\"Title\"},{\"attributes\":{\"fill_alpha\":{\"value\":0.1},\"fill_color\":{\"field\":\"color\"},\"hatch_alpha\":{\"value\":0.1},\"hatch_color\":{\"field\":\"color\"},\"line_alpha\":{\"value\":0.1},\"line_color\":{\"field\":\"color\"},\"x\":{\"field\":\"x\"},\"y\":{\"field\":\"y\"}},\"id\":\"1166\",\"type\":\"Circle\"}],\"root_ids\":[\"1132\"]},\"title\":\"Bokeh Application\",\"version\":\"2.4.2\"}};\n",
       "  const render_items = [{\"docid\":\"b4682a68-fa0e-4e7d-8772-58b06cbc8579\",\"root_ids\":[\"1132\"],\"roots\":{\"1132\":\"5a684a58-54da-4364-ac07-102665a18197\"}}];\n",
       "  root.Bokeh.embed.embed_items_notebook(docs_json, render_items);\n",
       "\n",
       "  }\n",
       "  if (root.Bokeh !== undefined) {\n",
       "    embed_document(root);\n",
       "  } else {\n",
       "    let attempts = 0;\n",
       "    const timer = setInterval(function(root) {\n",
       "      if (root.Bokeh !== undefined) {\n",
       "        clearInterval(timer);\n",
       "        embed_document(root);\n",
       "      } else {\n",
       "        attempts++;\n",
       "        if (attempts > 100) {\n",
       "          clearInterval(timer);\n",
       "          console.log(\"Bokeh: ERROR: Unable to run BokehJS code because BokehJS library is missing\");\n",
       "        }\n",
       "      }\n",
       "    }, 10, root)\n",
       "  }\n",
       "})(window);"
      ],
      "application/vnd.bokehjs_exec.v0+json": ""
     },
     "metadata": {
      "application/vnd.bokehjs_exec.v0+json": {
       "id": "1132"
      }
     },
     "output_type": "display_data"
    }
   ],
   "source": [
    "from bokeh.models import HoverTool\n",
    "from bokeh.palettes import Category20\n",
    "from bokeh.io import show, output_notebook\n",
    "from bokeh.plotting import figure, ColumnDataSource\n",
    "output_notebook()\n",
    "\n",
    "# 사용할 툴들\n",
    "tools_to_show = 'hover, box_zoom, pan, save, reset, wheel_zoom'\n",
    "p = figure(plot_width=720, plot_height=580, tools=tools_to_show)\n",
    "\n",
    "source = ColumnDataSource(data={\n",
    "    'x': W2d[:, 0],\n",
    "    'y': W2d[:, 1],\n",
    "    'id': [i for i in range(W.shape[0])],\n",
    "    'document': [article for words, article in words_list],\n",
    "    'topic': [str(i) for i in topicIndex],  # 토픽 번호\n",
    "    'color': [Category20[K][i] for i in topicIndex]\n",
    "})\n",
    "p.circle(\n",
    "    'x', 'y',\n",
    "    source=source,\n",
    "    legend='topic',\n",
    "    color='color'\n",
    ")\n",
    "\n",
    "# interaction\n",
    "p.legend.location = \"top_left\"\n",
    "hover = p.select({'type': HoverTool})\n",
    "hover.tooltips = [(\"Topic\", \"@topic\"), ('id', '@id'), (\"Article\", \"@document\")]\n",
    "hover.mode = 'mouse'\n",
    "\n",
    "show(p)"
   ]
  },
  {
   "cell_type": "markdown",
   "metadata": {},
   "source": [
    "# **3. Word Embedding**"
   ]
  },
  {
   "cell_type": "markdown",
   "metadata": {},
   "source": [
    "Word Embedding은 단어가 가지는 고유한 벡터를 가지고 의미가 유사하면 유사도가 높도록(내적값이 커지도록) 의미가 작아지면 유사도가 작아지도록(내적값이 작아지도록) 해주는 것입니다."
   ]
  },
  {
   "cell_type": "markdown",
   "metadata": {},
   "source": [
    "## **3.1 Word2Vec**"
   ]
  },
  {
   "cell_type": "markdown",
   "metadata": {},
   "source": [
    "Word2Vec에는 CBOW와 Skip-Grad 두 가지 방식이 있습니다. CBOW는 주변에 있는 단어들을 가지고, 중간에 있는 단어들을 예측하는 방법입니다. 반대로, Skip-Gram은 중간에 있는 단어로 주변 단어들을 예측하는 방법입니다. 매커니즘 자체는 거의 비슷합니다. 우선 CBOW에 대해서 알아보겠습니다. 이해를 위해 매우 간소화된 형태의 CBOW로 설명합니다.\n",
    "\n",
    "**예문: \"The fat cat sat on the mat\"**"
   ]
  },
  {
   "cell_type": "markdown",
   "metadata": {},
   "source": [
    "### **1) CBOW**"
   ]
  },
  {
   "cell_type": "markdown",
   "metadata": {},
   "source": [
    "예를 들어 코퍼스에 위와 같은 문장이 있습니다. {\"The\", \"fat\", \"cat\", \"on\", \"the\", \"mat\"}으로부터 \"sat\"을 예측하는 것이 CBOW가 할 일입니다. 이 때 예측하는 단어 sat을 중심 단어(center word)라고 하고, 예측에 사용되는 단어들을 주변 단어(context word)라고 합니다.\n",
    "\n",
    "중심 단어를 예측하기 위해 앞, 뒤로 몇 개의 단어를 볼지 결정했다면 이 범위를 윈도우(window)라고 합니다. 예를 들어 윈도우 크기가 2이고 예측하고자 하는 중심 단어가 sat이라고 한다면 앞의 두 단어인 fat과 cat, 그리고 뒤의 두 단어인 on, the를 참고합니다. 윈도우의 크기가 n이라고 한다면, 실제 중심 단어를 예측하기 위해 참고하려고 하는 주변 단어의 개수는 2n이 됩니다.\n",
    "\n",
    "<img src = \"https://wikidocs.net/images/page/22660/%EB%8B%A8%EC%96%B4.PNG\">\n",
    "\n",
    "윈도우 크기를 정했다면, 윈도우를 계속 움직여서 주변 단어와 중심 단어 선택을 바꿔가며 학습을 위한 데이터 셋을 만들 수 있는데, 이 방법을 슬라이딩 윈도우(sliding window)라고 합니다. \n",
    "\n",
    "위 그림에서 좌측의 중심 단어와 주변 단어의 변화는 윈도우 크기가 2일 때, 슬라이딩 윈도우가 어떤 식으로 이루어지면서 데이터 셋을 만드는지 보여줍니다. 또한 Word2Vec에서 입력은 원-핫 벡터가 되어야 하는데, 우측 그림은 중심 단어와 주변 단어를 어떻게 선택했을 때에 따라서 각각 어떤 원-핫 벡터가 되는지를 보여줍니다. 밑의 그림은 결국 CBOW를 위한 전체 데이터 셋을 보여주는 것입니다.\n",
    "\n",
    "<img src = \"https://wikidocs.net/images/page/22660/word2vec_renew_1.PNG\">\n",
    "\n",
    "CBOW의 인공 신경망을 간단히 도식화하면 위와 같습니다. 입력층(Input layer)의 입력으로서 앞, 뒤로 사용자가 정한 윈도우 크기 범위 안에 있는 주변 단어들의 원-핫 벡터가 들어가게 되고, 출력층(Output layer)에서 예측하고자 하는 중간 단어의 원-핫 벡터가 필요합니다. \n",
    "\n",
    "또한 위 그림에서 알 수 있는 사실은, Word2Vec은 딥 러닝 모델(Deep Learning Model)은 아니라는 점입니다. 보통 딥 러닝이라함은, 입력층과 출력층 사이의 은닉층의 개수가 충분히 쌓인 신경망을 학습할 때를 말하는데 Word2Vec는 입력층과 출력층 사이에 하나의 은닉층만이 존재합니다. 이렇게 은닉층이 1개인 경우에는 일반적으로 심층신경망(Deep Neural Network)이 아니라 얕은신경망(Shallow Neural Network)이라고 부릅니다. 또한 Word2Vec의 은닉층은 일반적인 은닉층과 달리 활성화 함수가 존재하지 않으며 룩업 테이블이라는 연산을 담당하는 층으로 일반적인 은닉층과 구분하기 위해 투사층(projection layer)이라고 부르기도 합니다.\n",
    "\n",
    "<img src = \"https://wikidocs.net/images/page/22660/word2vec_renew_2.PNG\">\n",
    "\n",
    "CBOW의 인공신경망을 더 확대하여 알아보겠습니다. 이 그림에서 투사층의 크기가 M이라는 것과 입력층과 투사층 사이의 가중치 W는 V x M이고 투사층과 출력층 사이 가중치 W'의 크기는 M x V임을 주목해야 합니다.\n",
    "\n",
    "먼저 CBOW에서 투사층의 크기 M은 임베딩하고 난 벡터의 차원이 됩니다. 다시 말해, 위 그림에서 투사층의 크기는 M = 5이기 때문에 CBOW를 수행하고 나서 얻는 각 단어의 임베딩 벡터의 차원은 5입니다.\n",
    "\n",
    "두번째로 V는 단어 집합의 크기를 의미합니다. 즉, 위의 그림처럼 원-핫 벡터의 차원이 7이고, M은 5라면 가중치 W는 7 x 5 행렬이고, W'는 5 x 7 행렬이 될 것입니다. 이때 W와 W'는 동일한 행렬을 전치한 것이 아니라 서로 다른 행렬입니다. 인공 신경망의 훈련 전에 이 가중치 행렬 W와 W'는 대게 굉장히 작은 랜덤 값을 가지게 됩니다. CBOW는 주변 단어로 중심 단어를 더 정확히 맞추기 위해서 W와 W'를 학습해가는 구조입니다.\n",
    "\n",
    "<img src = \"https://wikidocs.net/images/page/22660/word2vec_renew_3.PNG\">\n",
    "\n",
    "입력으로 들어오는 주변 단어의 원-핫 벡터와 가중치 W 행렬의 곱이 어떻게 이루어지는지 보겠습니다. 위 그림에서 각 주변 단어의 원-핫 벡터를 $x$로 표기했습니다. 입력 데이터는 원-핫 벡터입니다. 입력 벡터와 가중치 W 행렬의 곱은 사실 W행렬의 i번째 행을 그대로 읽어오는 것(lookup)과 같기에 이 작업을 룩업 테이블(lookup table)이라고 합니다. 여기서 lookup해온 W의 각 행벡터가 사실 Word2Vec을 수행한 후의 각 단어의 M차원 크기를 갖는 임베딩 벡터들입니다.\n",
    "\n",
    "<img src = \"https://wikidocs.net/images/page/22660/word2vec_renew_4.PNG\">\n",
    "\n",
    "이렇게 각 주변 단어의 원-핫 벡터에 대해서 가중치 W가 곱해서 생겨진 결과 벡터들은 투사층에서 만나 이들의 평균인 벡터를 구합니다. CBOW는 투사층에서 벡터의 평균을 구하지만 뒤에서 볼 Skip-Gram은 입력이 중심 단어 하나이기에 투사층에서 벡터의 평균을 구하지 않습니다.\n",
    "\n",
    "<img src = \"https://wikidocs.net/images/page/22660/word2vec_renew_5.PNG\">\n",
    "\n",
    "이제 투사층에서 구해진 평균 벡터는 두번째 가중치 행렬 W'와 곱해집니다. 곱셈의 결과는 원-핫 벡터들과 동일한 차원을 가진 벡터로 나옵니다. \n",
    "\n",
    "이 벡터에서 CBOW는 소프트맥스 함수를 사용합니다. 출력된 벡터의 총 합은 1이고 이렇게 나온 벡터를 스코어 벡터(score vector)라고 합니다. 스코어 벡터는 각 인덱스번째 단어가 중심 단어일 확률을 나타냅니다. 그리고 스코어 벡터가 우리가 가진 답의 원-핫 벡터와 가까워져야 합니다. \n",
    "\n",
    "스코어 벡터를 $\\hat{y}$, 중심 단어를 $y$라고 했을 때, CBOW의 손실 함수로 cross-entropy 함수를 사용합니다.\n",
    "\n",
    "$$H(\\hat{y}, y) = -\\sum_{j=1}^{\\lvert V \\rvert} y_j log(\\hat{y}_j)$$\n",
    "\n",
    "cross-entropy 함수에 실제 중심 단어인 원-핫 벡터와 스코어 벡터를 입력값으로 넣고, 이를 식으로 표현하면 위와 같습니다. \n",
    "\n",
    "$$H(\\hat{y}, y) = -y_i log(\\hat{y_i})$$\n",
    "\n",
    "그런데 y가 원-핫 벡터임을 고려하면, 식을 위와 같이 간소화할 수 있습니다. c를 중심 단어에서 1을 가진 차원의 값의 인덱스라고 한다면 $\\hat{y}_c = 1$는 $\\hat{y}$가 $y$를 정확하게 예측한 경우가 됩니다. 이를 식에 대입하면 $-1log(1) = 0$이기에 결과적으로 정확히 예측한 경우의 cross-entropy 값은 0이 됩니다. 따라서 위 식을 최소화하는 방향으로 학습해야 하며 loss function으로 사용해도 됩니다.\n",
    "\n",
    "이제 역전파를 수행하면 W와 W'가 학습되는데, 학습이 다 되었다면 M차원의 크기를 갖는 W의 행이나 W'의 열로부터 어떤 것을 임베딩 벡터로 사용할지 결정하면 됩니다. 떄로는 W와 W'의 평균치를 가지고 임베딩 벡터를 선택하기도 합니다.\n",
    "\n",
    "Word2Vec의 알고리즘을 다시 요약해보면 다음과 같습니다.\n",
    "\n",
    "![4-3-1](_image/4-3-1.PNG)"
   ]
  },
  {
   "cell_type": "markdown",
   "metadata": {},
   "source": [
    "### **2) Skip-Gram**"
   ]
  },
  {
   "cell_type": "markdown",
   "metadata": {},
   "source": [
    "Skip-gram은 CBOW를 이해했다면, 매커니즘 자체는 동일하기 때문에 쉽게 이해할 수 있습니다. 앞서 CBOW에선 주변 단어를 통해 중심 단어를 예측했다면, skip-gram은 중심 단어에서 주변 단어를 예측하겠습니다.\n",
    "\n",
    "<img src = \"https://wikidocs.net/images/page/22660/word2vec_renew_6.PNG\">\n",
    "\n",
    "앞서 언급한 동일한 예문에 대해서 인공 신경망을 도식화해보면 위와 같습니다. 이제 중심 단어에 대해서 주변 단어를 예측하기 때문에, 투사층에서 벡터들의 평균을 구하는 과정은 없습니다. \n",
    "\n",
    "여러 논문에서 성능 비교를 진행했을 때, 전반적으로 skip-gram이 CBOW보다 성능이 좋다고 알려져 있습니다."
   ]
  },
  {
   "cell_type": "markdown",
   "metadata": {},
   "source": [
    "### **3) Negative Sampling**"
   ]
  },
  {
   "cell_type": "markdown",
   "metadata": {},
   "source": [
    "대체적으로 Word2Vec를 사용한다고 하면 SGNS(Skip-Gram with Negative Sampling)을 사용합니다. 이는 skip-gram 방법에, 네거티브 샘플링이란 방법까지 추가로 사용하는 것입니다. 그렇기에 skip-gram을 전제로 네거티브 샘플링에 대해서 알아보겠습니다.\n",
    "\n",
    "위에서 배운 Word2Vec 모델은 속도가 문제입니다. 마지막 단계를 봅시다. 출력층에 있는 소프트맥스 함수는 단어 집합 크기의 벡터 내의 모든 값을 0과 1 사이의 값이면서 모두 더하면 1이 되도록 바꾸는 작업을 수행합니다. 그리고 이에 대한 오차를 구하고 모든 단어에 대한 임베딩을 조정합니다. 그 단어가 중심 단어나 주변 단어와 전혀 상관없는 단어라도 마찬가지입니다. 그런데 만약 단어 집합의 크기가 수백만에 달한다면 이 작업은 굉장히 무거워집니다.\n",
    "\n",
    "여기서 핵심은 모든 단어 집합에 대해서 소프트맥스 함수를 수행하고, 역전파를 수행하므로 주변 단어와 상관 없는 모든 단어까지 워드 임베딩 조정 작업을 수행한다는 것입니다. 만약 '강아지'와 '고양이'와 같은 단어에 집중한다면 '돈가스'나 '컴퓨터'와 같은 연관 관계가 없는 수많은 단어의 임베딩을 조정할 필요가 없습니다. \n",
    "\n",
    "그렇다면 전체 단어 집합이 아니라 일부 단어 집합에 대해서만 고려할 수는 없을까요? '강아지', '고양이' 같은 주변 단어들로 일부 단어 집합을 만듭니다. 그리고 여기에 '돈가스', '컴퓨터', '회의실' 같은 무작위로 선택된 주변 단어가 아닌 상관없는 단어들을 일부만 갖고옵니다. 이렇게 전체 단어 집합보다 훨씬 작은 단어 집합을 만들어놓고 마지막 단께를 이진 분류 문제로 바꿔버립니다. 즉, Word2Vec은 주변 단어들을 긍정(positive)으로 두고 무작위로 샘플링 된 단어들을 부정(negative)으로 둔 다음에 이진 분류 문제를 수행합니다. \n",
    "\n",
    "이는 기존의 다중 클래스 분류 문제를 이진 분류 문제로 바꾸면서도 연산량에 있어서 훨씬 효율적입니다. "
   ]
  },
  {
   "cell_type": "markdown",
   "metadata": {},
   "source": [
    "### **4) Word2Vec Property**"
   ]
  },
  {
   "cell_type": "markdown",
   "metadata": {},
   "source": [
    "![4-3-2](_image/4-3-2.PNG)\n",
    "링크: https://ronxin.github.io/wevi/\n",
    "\n",
    "위 그림은 Word2Vec이 동작하는 것을 보여주는 페이지에 결과입니다. apple과 juice는 관계가 있기에 apple input vector와 juice output vector의 값이 모두 양수가 되는 것을 확인할 수 있습니다. 반대로 rice input vector와 juice output vector는 음수가 많이 나오는 것을 확인할 수 있습니다. \n",
    "\n",
    "또한 이렇게 구해진 embedding vector들은 유사한 관계를 가진 벡터쌍끼리 비슷한 관계를 가집니다. 예를 들어 (대한민국, 서울)과 (일본, 도쿄)는 (나라, 수도)의 관계를 가지고 있습니다. 그렇기에 대한민국 - 서울 = 일본 - 도쿄의 식이 성립됩니다. 그 외에도 여러 유사 관계를 밑의 그림에서 확인할 수 있습니다.\n",
    "\n",
    "![4-3-3](_image/4-3-3.PNG)\n",
    "\n",
    "이외에도 거의 대부분의 NLP분야에서 사용됩니다."
   ]
  },
  {
   "cell_type": "markdown",
   "metadata": {},
   "source": [
    "참고 자료: https://shuuki4.wordpress.com/2016/01/27/word2vec-%EA%B4%80%EB%A0%A8-%EC%9D%B4%EB%A1%A0-%EC%A0%95%EB%A6%AC/  \n",
    "참고 자료: https://simonezz.tistory.com/35"
   ]
  },
  {
   "cell_type": "markdown",
   "metadata": {},
   "source": [
    "## **3.2 GloVe**"
   ]
  },
  {
   "cell_type": "markdown",
   "metadata": {},
   "source": [
    "LSA(Latent Semantic Analysis)는 각 단어의 빈도수를 카운트 한 행렬이라는 전체적인 통계 정보를 입력 받아 차원을 축소(Truncated SVD)하여 잠재된 의미를 끌어내는 방법론입니다. 반면, Word2Vec는 실제값과 예측값에 대한 오차를 손실 함수를 통해 줄여나가며 학습하는 예측 기반의 방법론입니다. \n",
    "\n",
    "LSA는 카운트 기반이기에 전체적인 통계 정보를 고려하기는 하지만, '왕:남자 = 여왕:?'과 같은 단어 의미의 유추 작업(Analogy task)에는 성능이 떨어집니다. Word2Vec는 예측 기반으로 단어 간 유추 작업에는 LSA보다 뛰어나지만, 임베딩 벡터가 윈도우 크기 내에서만 주변 단어를 고려하기 때문에 코퍼스의 전체적인 통계 정보를 반영하지 못합니다. GloVe는 이러한 기존 방법론들의 각각의 한계를 지적하며 LSA의 매커니즘이었던 카운트 기반의 방법과 Word2Vec의 매커니즘이었던 예측 기반의 방법론을 두 가지 모두 사용합니다. "
   ]
  },
  {
   "cell_type": "markdown",
   "metadata": {},
   "source": [
    "### **1) Introduction**"
   ]
  },
  {
   "cell_type": "markdown",
   "metadata": {},
   "source": [
    "먼저 GloVe에 대해 간단하게 살펴보겠습니다. GloVe는 위에서 이야기했듯 Word2Vec에 카운터 기반의 방법을 합친 것입니다. 그렇기에 단어들의 쌍들이 나오는 개수를 먼저 count하여 행렬로 만듭니다. 그리고 $W_1 \\cdot W_2$가 구한 행렬과 같아지도록 학습시키는 것입니다. 이때 the 등의 관사는 빈도수가 너무 높기에 이를 억제하기 위해 log항을 추가합니다. 또한 빈도수에 따라 가중치를 주지만 이 역시 너무 커지지 않도록 f라는 함수를 사용합니다. 임베딩 벡터로는 Word2Vec과 마찬가지로 $W_1$을 사용하거나 두 개의 평균을 임베딩 벡터로 사용합니다. \n",
    "\n",
    "밑의 그림은 loss function(bias = 0)과 f함수를 보여줍니다.\n",
    "\n",
    "![4-3-4](_image/4-3-4.PNG)\n",
    "\n",
    "이제 구체적으로 GloVe의 동작을 살펴보겠습니다."
   ]
  },
  {
   "cell_type": "markdown",
   "metadata": {},
   "source": [
    "### **2) Windoe based Co-occurrence Matrix**"
   ]
  },
  {
   "cell_type": "markdown",
   "metadata": {},
   "source": [
    "먼저 단어 쌍의 빈도수의 정보를 가지는 윈도우 기반 동시 등장 행렬에 대해 보겠습니다.\n",
    "\n",
    "단어의 동시 등장 행렬은 행과 열을 전체 단어 집합의 단어들을 구성하고, i 단어의 윈도우 크기(Window Size) 내에서 k 단어가 등장한 횟수를 i행 k열에 기재한 행렬을 말합니다. 예제를 보겠습니다.\n",
    "\n",
    "Ex)  \n",
    "I like deep learning  \n",
    "I like NLP  \n",
    "I enjoy flying  \n",
    "\n",
    "윈도우 크기가 N일 때는 좌, 우에 존재하는 N개의 단어만 참고하게 됩니다. 윈도우 크기가 1일 때, 위 텍스트를 가지고 동시 등장 행렬은 다음과 같습니다.\n",
    "\n",
    "|카운트|I|like|enjoy|deep|learning|NLP|flying|\n",
    "|:---:|:---:|:---:|:---:|:---:|:---:|:---:|:---:|\n",
    "|I|0|2|1|0|0|0|0|\n",
    "|like|2|0|0|1|0|1|0|\n",
    "|enjoy|1|0|0|0|0|0|1|\n",
    "|deep|0|1|0|0|1|0|0|\n",
    "|learning|0|0|0|1|0|0|0|\n",
    "|NLP|0|1|0|0|0|0|0|\n",
    "|flying|0|0|1|0|0|0|0|\n",
    "\n",
    "위 행렬은 행렬을 전치(Transpose)해도 동일한 행렬이 된다는 특징이 있습니다. 그 이유는 i 단어의 윈도우 크기 내에서 k 단어가 등장한 빈도는 반대로 k 단어의 윈도우 크기 내에서 i 단어가 등장한 빈도와 동일하기 때문입니다. \n",
    "\n",
    "참고 자료: http://web.stanford.edu/class/cs224n/slides/cs224n-2019-lecture02-wordvecs2.pdf"
   ]
  },
  {
   "cell_type": "markdown",
   "metadata": {},
   "source": [
    "### **3) Co-occurrence Probability**"
   ]
  },
  {
   "cell_type": "markdown",
   "metadata": {},
   "source": [
    "이제 동시 등장 확률에 대해서 알아보겠습니다. 아래의 표는 어떤 동시 등장 행렬을 가지고 정리한 동시 등장 확률(Co-occurrence Probability)을 보여줍니다. 여기서 이야기하는 동시 등장 확률 $P(k|i)$는 동시 등장 행렬로부터 특정 단어 i의 전체 등장 횟수를 카운트하고, 특정 단어 i가 등장했을 때 어떤 단어 k가 등장한 횟수를 카운트하여 계산한 조건부 확률입니다. \n",
    "\n",
    "$P(k|i)$에서 i를 중심 단어(Center word), k를 주변 단어(Context word)라고 했을 때, 위에서 배운 동시 등장 행렬에서 중심 단어 i의 행의 모든 값을 더한 값을 분모로 하고 i행 k열의 값을 분자로 한 값이라고 볼 수 있겠습니다. 다음은 GloVe의 제안 논문에서 가져온 동시 등장 확률을 표로 정리한 하나의 예입니다.\n",
    "\n",
    "|동시 등장 확률과 크기 관계 비(ratio)|k=solid|k=gas|k=water|k=fasion|\n",
    "|:---:|:---:|:---:|:---:|:---:|\n",
    "|$P(k \\vert ice)$|0.00019|0.000066|0.003|0.000017|\n",
    "|$P(k \\vert steam)$|0.000022|0.00078|0.0022|0.000018|\n",
    "|$\\frac{P(k \\vert ice)}{P(k \\vert steam)}$|8.9|0.085|1.36|0.96|\n",
    "\n",
    "위의 표를 통해 알 수 있는 사실은 solid가 등장했을 때, ice가 등장할 확률은 0.00019은 solid가 등장했을 때 steam이 등장할 확률인 0.000022보다 약 8.9배 크다는 사실입니다. 그도 그럴 것이 solid는 '단단한'이라는 의미를 가졌으니까 '증기'라는 의미를 가지는 steam보다는 당연히 '얼음'이라는 의미를 가지는 ice라는 단어와 더 자주 등장할 겁니다.\n",
    "\n",
    "수식적으로 다시 정리하면 k가 solid일 때, $\\frac{P(solid \\vert ice)}{P(solid \\vert steam)}$를 계산한 값은 8.9가 나옵니다. 이는 1보다 매우 큰 값입니다. 왜냐면 $P(solid \\vert ice)$의 값은 크고, $P(solid \\vert steam)$의 값은 작기 때문입니다.\n",
    "\n",
    "그런데 k를 solid가 아니라 gas로 바꾸면 이야기는 완전히 달라집니다. gas는 ice보다는 steam과 더 자주 등장하므로, $\\frac{P(gas \\vert ice)}{P(gas \\vert steam)}$를 계산한 값은 1보다 훨씬 작은 값인 0.085가 나옵니다. 반면, k가 water인 경우에는 solid와 steam 두 단어 모두와 동시 등장하는 경우가 많으므로 1에 가까운 값이 나오고, k가 fasion인 경우에는 solid와 steam 두 단어 모두와 동시 등장하는 경우가 적으므로 1에 가까운 값이 나옵니다. 보기 쉽도록 조금 단순화해서 표현한 표는 다음과 같습니다.\n",
    "\n",
    "|동시 등장 확률과 크기 관계 비(ratio)|k=solid|k=gas|k=water|k=fasion|\n",
    "|:---:|:---:|:---:|:---:|:---:|\n",
    "|$P(k \\vert ice)$|큰 값|작은 값|큰 값|작은 값|\n",
    "|$P(k \\vert steam)$|작은 값|큰 값|큰 값|작은 값|\n",
    "|$\\frac{P(k \\vert ice)}{P(k \\vert steam)}$|큰 값|작은 값|1에 가까움|1에 가까움|"
   ]
  },
  {
   "cell_type": "markdown",
   "metadata": {},
   "source": [
    "### **4) Loss Function**"
   ]
  },
  {
   "cell_type": "markdown",
   "metadata": {},
   "source": [
    "우선 손실 함수를 설명하기 전에 각 용어를 정리하겠습니다.\n",
    "\n",
    "- $X$: 동시 등장 행렬(Co-occurrence Matrix)\n",
    "- $X_{ij}$: 중심 단어 i가 등장했을 때, 윈도우 내 주변 단어 j가 등장하는 횟수\n",
    "- $X_i$: $\\sum_j X_{ij}$: 동시 등장 행렬에서 i행의 값을 모두 더한 값\n",
    "- $P_{ik}$: $P(k \\vert i) = \\frac{X_{ik}}{X_i}$: 중심 단어 i가 등장했을 때, 윈도우 내 주변 단어 k가 등장할 확률  \n",
    "    Ex) $P(solid \\vert ice)$ = 단어 ice가 등장했을 때, 단어 solid가 등장할 확률\n",
    "- $\\frac{P_{ik}}{P_{jk}}$: $P_{ik}$를 $P_{jk}$로 나눠준 값  \n",
    "    Ex) $\\frac{P(solid \\vert ice)}{P(solid \\vert steam)}$ = 8.9\n",
    "- $w_i$: 중심 단어 i의 임베딩 벡터\n",
    "- $\\bar{w_k}$: 주변 단어 k의 임베딩 벡터\n"
   ]
  },
  {
   "cell_type": "markdown",
   "metadata": {},
   "source": [
    "GloVe의 아이디어를 한 줄로 요약하면 **'임베딩 된 중심 단어와 주변 단어 벡터의 내적이 전체 코퍼스에서의 동시 등장 확률이 되도록 만드는 것'** 입니다. 즉, 이를 만족하도록 임베딩 벡터를 만드는 것이 목표입니다. 이를 식으로 표현하면 다음과 같습니다.\n",
    "\n",
    "$dot product(w_i, \\bar{w_k}) \\approx P(k \\vert i) = P_{ik}$\n",
    "\n",
    "뒤에서 보겠지만, 더 정확히는 GloVe는 아래와 같은 관계를 가지도록 임베딩 벡터를 설계합니다.\n",
    "\n",
    "$dot product(w_i, \\bar{w_k}) \\approx log P(k \\vert i) = log P_{ik}$\n",
    "\n",
    "임베딩 벡터들을 만들기 위한 손실 함수를 처음부터 차근차근 설계해보겠습니다. 가장 중요한 것은 단어 간의 관계를 잘 표현하는 함수여야 한다는 것입니다. 이를 위해 앞서 배운 개념인 $P_{ik}/P_{jk}$를 식에 사용합니다. GloVe의 연구진들은 벡터 $w_i, w_j, \\bar{w_k}$를 가지고 어떤 함수 $F$를 수행하면 $P_{ik}/P_{jk}$가 나온다는 초기 식으로부터 전개를 시작합니다.\n",
    "\n",
    "$$F(w_i, w_j, \\bar{w_k}) = \\frac{P_{ik}}{P_{jk}}$$\n",
    "\n",
    "아직 이 함수가 $F$가 어떤 식을 가지고 있는지는 정해진 것이 없습니다. 위의 목적에 맞게 근사할 수 있는 함수식은 무수히 많겠으나 최적의 식에 다가가기 위해서 단계별로 디테일을 추가하겠습니다. 함수 $F$는 두 단어 사이의 동시 등장 확률의 크기 관계 비(ratio) 정보를 벡터 공간에 인코딩하는 것이 목적입니다. 이를 위해 GloVe 연구진들은 $w_i$와 $w_j$라는 두 벡터의 차이를 함수 $F$의 입력으로 사용하는 것을 제안합니다.\n",
    "\n",
    "$$F(w_i - w_j, \\bar{w_k}) = \\frac{P_{ik}}{P_{jk}}$$\n",
    "\n",
    "그런데 우변은 스칼라값이고 좌변은 벡터값입니다. 이를 성립하기 위해서 함수 $F$의 두 입력에 내적(dot product)을 수행합니다.\n",
    "\n",
    "$$F((w_i - w_j)^T \\bar{w_k}) = \\frac{P_{ik}}{P_{jk}}$$\n",
    "\n",
    "정리하면, 선형 공간(Linear space)에서 단어의 의미 관계를 표현하기 위해 뺄셈과 내적을 택했습니다. \n"
   ]
  },
  {
   "cell_type": "markdown",
   "metadata": {},
   "source": [
    "여기서 함수 $F$가 만족해야 할 필수 조건이 있습니다. 중심 단어 $w$와 주변 단어 $\\bar{w}$라는 선택 기준은 실제로는 무작위 선택이므로 이 둘의 관계는 자유롭게 교환될 수 있도록 해야합니다. 이것이 성립되게 하기 위해서 GloVe 연구진은 함수 $F$가 실수의 덧셈과 양수의 곱셈에 대해서 **준동형(Homomorphism)** 을 만족하도록 합니다. 이를 쉽게 정리하면 $a$와 $b$에 대해서 함수 $F$가 $F(a + b)$가 $F(a)F(b)$와 같도록 만족시켜야 한다는 의미입니다.\n",
    "\n",
    "식으로 나타내면 다음과 같습니다.\n",
    "\n",
    "$$F(a + b) = F(a)F(b), \\forall a, b \\in \\mathbb{R}$$\n",
    "\n",
    "이제 이 준동형식을 현재 전개하던 GloVe 식에 적용할 수 있도록 조금씩 바꿔보겠습니다. 전개하던 GloVe 식에 따르면, 함수 $F$는 결과값으로 스칼라 값($\\frac{P_{ik}}{P_{jk}}$)이 나와야 합니다. 준동형식에서 $a$와 $b$가 각각 벡터값이라면 함수 $F$의 결과값으로는 스칼라 값이 나올 수 없지만, $a$와 $b$가 각각 사실 두 벡터의 내적값이라고 하면 결과값으로 스칼라 값이 나올 수 있습니다. 그러므로 위의 준동형식을 아래와 같이 바꿔보겠습니다. 여기서 $v_1, v_2, v_3, v_4$는 각각 벡터값입니다. 아래의 $V$는 벡터를 의미합니다.\n",
    "\n",
    "$$F(v_1^T v_2 + v_3^T v_4) = F(v_1^T v_2)F(v_3^T v_4), \\forall v_1, v_2, v_3, v_4 \\in V$$\n",
    "\n",
    "그런데 앞서 작성한 GloVe 식에서는 $w_i$와 $w_j$라는 두 벡터의 차이를 함수 $F$의 입력으로 받았습니다. GloVe식에 바로 적용을 위해 준동형식을 뺄셈에 대한 준동형식으로 변경합니다. 그러면 곱셈도 나눗셈으로 바뀌게 됩니다.\n",
    "\n",
    "$$F(v_1^T v_2 - v_3^T v_4) = \\frac{F(v_1^T v_2)}{F(v_3^T v_4)}, \\forall v_1, v_2, v_3, v_4 \\in V$$\n",
    "\n",
    "이제 이 준동형식을 GloVe 식에 적용하겠습니다. 우선, 함수 $F$의 우변은 다음과 같이 바뀌어야 합니다.\n",
    "\n",
    "$$F((w_i - w_j)^T \\bar{w_k}) = \\frac{F(w_i^T \\bar{w_k})}{F(w_j^T \\bar{w_k})}$$\n",
    "\n",
    "그런데 이전의 식에 따르면 우변은 본래 $\\frac{P_{ik}}{P_{jk}}$였으므로, 결과적으로 다음과 같습니다.\n",
    "\n",
    "$$\\frac{P_{ik}}{P_{jk}} = \\frac{F(w_i^T \\bar{w_k})}{F(w_j^T \\bar{w_k})}$$\n",
    "\n",
    "$$F(w_i^T \\bar{w_k}) = P_{ik} = \\frac{X_{ik}}{X_i}$$\n",
    "\n",
    "좌변을 풀어쓰면 다음과 같습니다.\n",
    "\n",
    "$$F(w_i^T \\bar{w_k} - w_j^T \\bar{w_k}) = \\frac{F(w_i^T \\bar{w_k})}{F(w_j^T \\bar{w_k})}$$\n",
    "\n",
    "이는 뺄셈에 대한 준동형식의 형태와 정확히 일치합니다. 이제 이를 만족하는 함수 $F$를 찾아야 합니다. 그리고 이를 정확하게 만족시키는 함수가 있는데 바로 지수 함수입니다. $F$를 지수 함수 **exp** 라고 해봅시다.\n",
    "\n",
    "$$exp(w_i^T \\bar{w_k} - w_j^T \\bar{w_k}) = \\frac{exp(w_i^T \\bar{w_k})}{exp(w_j^T \\bar{w_k})}$$\n",
    "\n",
    "$$exo(w_i^T \\bar{w_k}) = P_{ik} = \\frac{X_{ik}}{X_i}$$\n",
    "\n",
    "위의 두 번째 식으로부터 다음과 같은 식을 얻을 수 있습니다.\n",
    "\n",
    "$$w_i^T \\bar{w_k} = log P_{ik} = log(\\frac{X_{ik}}{X_i}) = log X_{ik} - log X_i$$\n",
    "\n",
    "그런데 여기서 상기해야할 것은 앞서 언급했듯이, 사실 $w_i$와 $\\bar{w_k}$는 두 값의 위치를 서로 바꾸어도 식이 성립해야 합니다. $X_{ik}$의 정의를 생각해보면 $X_{ki}$와도 같습니다. 그런데 이게 성립되려면 위의 식에서 $log X_i$ 항이 걸림돌입니다. 이 부분만 없다면 이를 성립시킬 수 있습니다. 그래서 GloVe 연구팀은 이 $log X_i$항을 $w_i$에 대한 편향 $b_i$라는 상수항으로 대체하기로 합니다. 같은 이유로 $\\bar{w_k}$에 대한 편향 $\\bar{b_k}$를 추가합니다.\n",
    "\n",
    "$$w_i^T \\bar{w_k} + b_i + \\bar{b_k} = log X_{ik}$$\n",
    "\n",
    "이 식이 손실 함수의 핵심이 되는 식입니다. 우변의 값과 차이를 최소화하는 방향으로 좌변의 4개의 항이 학습을 통해 바뀌게 됩니다. 즉, 손실 함수는 다음과 같이 일반화될 수 있습니다.\n",
    "\n",
    "$$Loss \\; function = \\sum_{m, n = 1}^V (w_m^T \\bar{w_n} + b_m + \\bar{b_n} - log X_{mn})^2$$\n",
    "\n",
    "여기서 $V$는 단어 집합의 크기를 의미합니다. 그런데 아직 최적의 손실 함수라기에는 부족합니다. GloVe 연구진은 $log X_{ik}$에서 $X_{ik}$값이 0이 될 수 있음을 지적합니다. 대안 중 하나는 $log X_{ik}$항을 $log (1 + X_{ik})$로 변경하는 것입니다. 하지만 이렇게 해도 여전히 해결되지 않는 문제가 있습니다."
   ]
  },
  {
   "cell_type": "markdown",
   "metadata": {},
   "source": [
    "바로 동시 등장 행렬 $X$는 마치 DTM처럼 희소 행렬일 가능성이 다분하다는 점입니다. 동시 등장 행렬 $X$에는 많은 값이 0이거나, 동시 등장 빈도가 적어서 많은 값이 작은 수치를 가지는 경우가 많습니다. 앞서 빈도수를 가지고 가중치를 주는 고민을 하는 TF-ID나 LSA와 같은 몇 가지 방법들을 본 적이 있습니다. GloVe의 연구진은 동시 등장 행렬에서 동시 등장 빈도의 값 $X_{ik}$이 굉장히 낮은 경우에는 정보에 거의 도움이 되지 않는다고 판단합니다. 그래서 이에 대한 가중치를 주는 고민을 하게 되는데 GloVe 연구팀이 선택한 것은 바로 $X_{ik}$의 값에 영향을 받는 가중치 함수 $f(X_{ik})$를 손실 함수에 도입하는 것입니다. \n",
    "\n",
    "GloVe에 도입되는 $f(X_{ik})$의 그래프를 그려보겠습니다.\n",
    "\n",
    "<img src = \"https://wikidocs.net/images/page/22885/%EA%B0%80%EC%A4%91%EC%B9%98.PNG\">\n",
    "\n",
    "$X_{ik}$의 값이 작으면 상대적으로 함수의 값은 작도록 하고, 값이 크면 함수의 값은 상대적으로 크도록 합니다. 하지만 $X_{ik}$가 지나치게 높다고해서 지나친 가중치를 주지 않기 위해 함수의 최대값은 정해져 있습니다. (최대값은 1) 예를 들어 'It is'와 같은 불용어의 동시 등장 빈도수가 높다고해서 지나친 가중을 받아서는 안 됩니다. 이 함수의 값을 손실 함수에 곱해주면 가중치의 역할을 할 수 있습니다.\n",
    "\n",
    "이 함수 $f(x)$의 식은 다음과 같이 정의됩니다. \n",
    "\n",
    "$$f(x) = min(1, (\\frac{x}{x_{max}}^{\\frac{3}{4}}))$$\n",
    "\n",
    "최종적으로 다음과 같은 일반화 된 손실 함수를 얻어낼 수 있습니다.\n",
    "\n",
    "$$Loss \\; function = \\sum_{m, n = 1}^V f(X_{mn})(w_m^T \\bar{w_n} + b_m + \\bar{b_n} - log X_{mn})^2$$"
   ]
  },
  {
   "cell_type": "markdown",
   "metadata": {},
   "source": [
    "### **5) Pre-trained dataset**"
   ]
  },
  {
   "cell_type": "markdown",
   "metadata": {},
   "source": [
    "[GloVe](https://nlp.stanford.edu/projects/glove/)에선 이미 학습된 임베딩 벡터를 제공합니다. 자료마다 뒤에 설명이 적혀있으니 참고하여 필요한 데이터를 사용하면 됩니다. 예를 들어 Wikipedia 2014 + Gigaword5에 대한 설명은 다음과 같습니다. \n",
    "\n",
    "- 6B tokens: 60억개의 토큰(중복 단어 허용)\n",
    "- 400k vocab: 40만개의 고유 단어(40만개의 one-hot vector)\n",
    "- uncased: 대소문자 구분 안 함\n",
    "- 50d, 100d, 200d, & 300d vectors: 50, 100, 200, 300을 target dimension으로 학습된 임베딩 벡터가 있음을 표시"
   ]
  },
  {
   "cell_type": "markdown",
   "metadata": {},
   "source": [
    "## **3.3 Doc2Vec**"
   ]
  },
  {
   "cell_type": "markdown",
   "metadata": {},
   "source": [
    "Doc2Vec(Paragraph2Vec)는 기존 Word2Vec에 paragraph vector를 더해 확장한 문서 임베딩 모델입니다. 타켓 단어와 이전 단어 k개가 주어졌을 때, 이전 단어들과 해당 문서의 아이디로 타켓 단어를 예측합니다. 그리고 이 과정에서 문맥이 비슷한 문서 벡터와 단어 벡터가 유사하게 임베딩됩니다.\n",
    "\n",
    "Doc2Vec은 다량의 코퍼스를 문서 임베딩 할 때 훌룡한 성능을 보여줍니다. Word2Vec이 CBOW와 Skip-Gram우로 나뉘었듯 Doc2Vec도 PV-DM(Distributed Memory version of Paragraph Vector)과 PV-DBOW(Distributed Bag of Words version of Paragraph Vector)로 나눠집니다. 아래와 같은 예시가 있을 때 동작하는 것을 살펴보겠습니다.\n",
    "\n",
    "- sentence: the cat sat on the mat\n",
    "- window size: k = 3\n",
    "- [$\\text{paragraph}_1$, the, cat, sat] - on\n",
    "- [$\\text{paragraph}_1$, cat, sat, on] - the\n",
    "- [$\\text{paragraph}_1$, sat, on, the] - mat\n",
    "\n",
    "Doc2Vec은 paragraph에서 단어를 예측하며 로그 확률 평균을 최대화하는 과정에서 학습됩니다. $\\text{paragraph}_{id}$가 학습의 입력 데이터로 들어가기에 문맥이나 단어가 paragraph 벡터에 녹아든다고 볼 수 있습니다. \n",
    "\n",
    "<img src = \"https://img1.daumcdn.net/thumb/R1280x0/?scode=mtistory2&fname=https%3A%2F%2Fblog.kakaocdn.net%2Fdn%2FbOvRfL%2FbtqBzPhTjCD%2FNeKAov500OG05vrsvraZV0%2Fimg.png\" width = \"600px\" height = \"300px\"> \n",
    "\n",
    "각 문서 paragraph는 별도의 (문서의 수 x d 차원) 크기의 행렬에 담깁니다. 학습이 완료된 후, 이 행렬을 이용하여 paragraph의 임베딩된 벡터를 사용합니다. 즉, paragraph의 정보돠 이전 단어들을 통해 다음 단어를 유추하는 것입니다. 이를 PV-DM이라고 합니다. \n",
    "\n",
    "반대로 하나의 $\\text{paragraph}_{id}$로 해당 문서 내 단어들을 유추하는 것을 PV-DBOW라고 합니다. \n",
    "\n",
    "<img src = \"https://img1.daumcdn.net/thumb/R1280x0/?scode=mtistory2&fname=https%3A%2F%2Fblog.kakaocdn.net%2Fdn%2Fbx8qpy%2FbtqBzjXPOfy%2FNPzuVPVD1RGp4TxKtIXQoK%2Fimg.png\">\n",
    "\n",
    "이제 예시를 통해 살펴보겠습니다. \n",
    "\n",
    "![4-3-5](_image/4-3-5.PNG)\n",
    "\n",
    "위 그림을 보면 input에 (study, female, 10s)가 들어가 있는 것을 볼 수 있습니다. 이는 단어인 'study'외에도 paragraph와 관련된 정보들이 추가로 들어가 있기 때문입니다. input을 통해 10대 여자가 썼다는 정보를 얻을 수 있습니다. \n",
    "\n",
    "![4-3-6](_image/4-3-6.PNG)\n",
    "\n",
    "입력이 여러개이기에 연산 과정에서 데이터들이 각 가중치에 곱해지고 합해집니다. 이 과정을 통해 단어뿐만 아니라 추가적으로 들어오는 paragraph의 정보들도 함께 학습합니다. 위 상황은 (study, female, 10s)라는 input을 통해 (math)라는 output을 얻은 것입니다. \n",
    "\n",
    "반대도 가능합니다. \n",
    "\n",
    "![4-3-7](_image/4-3-7.PNG)\n",
    "\n",
    "위 그림의 경우 단어만 주어지고 이를 통해 다음 단어뿐만 아니라 성별과 나이까지 유추합니다. 그렇기에 loss도 각각 따로 구하고 다른 가중치를 곱하여 합하는 것을 볼 수 있습니다. 소프트맥스를 할 때도 마찬가지로 (i, study, math), (male, female), (10s, 20s, 30s, 40s) 세 분류로 나누어 각각 소프트맥스해줍니다. \n",
    "\n",
    "![4-3-8](_image/4-3-8.PNG)"
   ]
  },
  {
   "cell_type": "markdown",
   "metadata": {},
   "source": [
    "## **3.4 Other Applications of Word2Vec**"
   ]
  },
  {
   "cell_type": "markdown",
   "metadata": {},
   "source": [
    "Word2Vec을 다른 방향으로 사용할 수도 있습니다. 예를 들어 밑의 그림을 보겠습니다. \n",
    "\n",
    "![4-3-9](_image/4-3-9.PNG)\n",
    "\n",
    "(John, Jane, Michael)이란 사람이 input으로 주어지고 그들이 구매하거나 관심있는 (Galaxy, iPhone, Macbook, iPad)가 output으로 주어집니다. 이를 통해 그 사람이 관심있는 상품들을 묶어 학습시킬 수도 있습니다. 즉 $W_1$은 사용자에 대한 임베딩 벡터, $W_2$는 사용자가 구매한 상품에 대한 임베딩 벡터가 되는 것입니다.\n",
    "\n",
    "또한 임베딩 벡터를 통하여 비슷한 제품군을 묶고 관련 상품으로 추천할 수도 있습니다.\n",
    "\n",
    "![4-3-10](_image/4-3-10.PNG)\n",
    "\n",
    "위 그림을 보면 비슷한 옷끼리 가까운 거리에 위치하는 것을 볼 수 있습니다."
   ]
  },
  {
   "cell_type": "markdown",
   "metadata": {},
   "source": [
    "## 실습1. Word2Vec 구현"
   ]
  },
  {
   "cell_type": "code",
   "execution_count": 1,
   "metadata": {},
   "outputs": [],
   "source": [
    "from tqdm import tqdm\n",
    "from konlpy.tag import Mecab, Twitter, Okt, Kkma\n",
    "from torch import nn\n",
    "from torch.nn import functional as F\n",
    "from torch.utils.data import Dataset, DataLoader\n",
    "from collections import defaultdict\n",
    "\n",
    "import torch\n",
    "import copy\n",
    "import numpy as np"
   ]
  },
  {
   "cell_type": "markdown",
   "metadata": {},
   "source": [
    "### **1) 데이터 전처리**"
   ]
  },
  {
   "cell_type": "markdown",
   "metadata": {},
   "source": [
    "먼저 데이터를 확인하고 Word2Vec 형식에 맞게 전처리합니다."
   ]
  },
  {
   "cell_type": "code",
   "execution_count": 2,
   "metadata": {},
   "outputs": [],
   "source": [
    "train_data = [\n",
    "    \"정말 맛있습니다. 추천합니다.\",\n",
    "    \"기대했던 것보단 별로였네요.\",\n",
    "    \"다 좋은데 가격이 너무 비싸서 다시 가고 싶다는 생각이 안 드네요.\",\n",
    "    \"완전 최고입니다! 재방문 의사 있습니다.\",\n",
    "    \"음식도 서비스도 다 만족스러웠습니다.\",\n",
    "    \"위생 상태가 좀 별로였습니다. 좀 더 개선되기를 바랍니다.\",\n",
    "    \"맛도 좋았고 직원분들 서비스도 너무 친절했습니다.\",\n",
    "    \"기념일에 방문했는데 음식도 분위기도 서비스도 다 좋았습니다.\",\n",
    "    \"전반적으로 음식이 너무 짰습니다. 저는 별로였네요.\",\n",
    "    \"위생에 조금 더 신경 썼으면 좋겠습니다. 조금 불쾌했습니다.\"       \n",
    "]\n",
    "\n",
    "test_words = [\"음식\", \"맛\", \"서비스\", \"위생\", \"가격\"]"
   ]
  },
  {
   "cell_type": "markdown",
   "metadata": {},
   "source": [
    "Tokenization과 vocab을 만드는 과정은 지난 챕터 실습들과 유사합니다."
   ]
  },
  {
   "cell_type": "code",
   "execution_count": 3,
   "metadata": {},
   "outputs": [],
   "source": [
    "tokenizer = Okt()"
   ]
  },
  {
   "cell_type": "code",
   "execution_count": 4,
   "metadata": {},
   "outputs": [],
   "source": [
    "def make_tokenized(data):\n",
    "    tokenized = []\n",
    "    for sent in tqdm(data):\n",
    "        tokens = tokenizer.morphs(sent, stem=True)\n",
    "        tokenized.append(tokens)\n",
    "    return tokenized"
   ]
  },
  {
   "cell_type": "code",
   "execution_count": 5,
   "metadata": {},
   "outputs": [
    {
     "name": "stderr",
     "output_type": "stream",
     "text": [
      "100%|██████████| 10/10 [00:05<00:00,  1.69it/s]\n"
     ]
    }
   ],
   "source": [
    "train_tokenized = make_tokenized(train_data)"
   ]
  },
  {
   "cell_type": "code",
   "execution_count": 6,
   "metadata": {},
   "outputs": [
    {
     "name": "stderr",
     "output_type": "stream",
     "text": [
      "100%|██████████| 10/10 [00:00<?, ?it/s]\n"
     ]
    }
   ],
   "source": [
    "word_count = defaultdict(int)\n",
    "\n",
    "for tokens in tqdm(train_tokenized):\n",
    "    for token in tokens:\n",
    "        word_count[token] += 1"
   ]
  },
  {
   "cell_type": "code",
   "execution_count": 7,
   "metadata": {},
   "outputs": [
    {
     "name": "stdout",
     "output_type": "stream",
     "text": [
      "[('.', 14), ('도', 7), ('이다', 4), ('좋다', 4), ('별로', 3), ('다', 3), ('이', 3), ('너무', 3), ('음식', 3), ('서비스', 3), ('하다', 2), ('방문', 2), ('위생', 2), ('좀', 2), ('더', 2), ('에', 2), ('조금', 2), ('정말', 1), ('맛있다', 1), ('추천', 1), ('기대하다', 1), ('것', 1), ('보단', 1), ('가격', 1), ('비싸다', 1), ('다시', 1), ('가다', 1), ('싶다', 1), ('생각', 1), ('안', 1), ('드네', 1), ('요', 1), ('완전', 1), ('최고', 1), ('!', 1), ('재', 1), ('의사', 1), ('있다', 1), ('만족스럽다', 1), ('상태', 1), ('가', 1), ('개선', 1), ('되다', 1), ('기르다', 1), ('바라다', 1), ('맛', 1), ('직원', 1), ('분들', 1), ('친절하다', 1), ('기념일', 1), ('분위기', 1), ('전반', 1), ('적', 1), ('으로', 1), ('짜다', 1), ('저', 1), ('는', 1), ('신경', 1), ('써다', 1), ('불쾌하다', 1)]\n"
     ]
    }
   ],
   "source": [
    "word_count = sorted(word_count.items(), key=lambda x: x[1], reverse=True)\n",
    "print(list(word_count))"
   ]
  },
  {
   "cell_type": "code",
   "execution_count": 8,
   "metadata": {},
   "outputs": [
    {
     "name": "stderr",
     "output_type": "stream",
     "text": [
      "100%|██████████| 60/60 [00:00<?, ?it/s]\n"
     ]
    }
   ],
   "source": [
    "w2i = {}\n",
    "for pair in tqdm(word_count):\n",
    "    if pair[0] not in w2i:\n",
    "        w2i[pair[0]] = len(w2i)\n",
    "\n",
    "i2w = {v:k for k, v in w2i.items()}"
   ]
  },
  {
   "cell_type": "code",
   "execution_count": 9,
   "metadata": {},
   "outputs": [
    {
     "name": "stdout",
     "output_type": "stream",
     "text": [
      "[['정말', '맛있다', '.', '추천', '하다', '.'], ['기대하다', '것', '보단', '별로', '이다', '.'], ['다', '좋다', '가격', '이', '너무', '비싸다', '다시', '가다', '싶다', '생각', '이', '안', '드네', '요', '.'], ['완전', '최고', '이다', '!', '재', '방문', '의사', '있다', '.'], ['음식', '도', '서비스', '도', '다', '만족스럽다', '.'], ['위생', '상태', '가', '좀', '별로', '이다', '.', '좀', '더', '개선', '되다', '기르다', '바라다', '.'], ['맛', '도', '좋다', '직원', '분들', '서비스', '도', '너무', '친절하다', '.'], ['기념일', '에', '방문', '하다', '음식', '도', '분위기', '도', '서비스', '도', '다', '좋다', '.'], ['전반', '적', '으로', '음식', '이', '너무', '짜다', '.', '저', '는', '별로', '이다', '.'], ['위생', '에', '조금', '더', '신경', '써다', '좋다', '.', '조금', '불쾌하다', '.']]\n",
      "{'.': 0, '도': 1, '이다': 2, '좋다': 3, '별로': 4, '다': 5, '이': 6, '너무': 7, '음식': 8, '서비스': 9, '하다': 10, '방문': 11, '위생': 12, '좀': 13, '더': 14, '에': 15, '조금': 16, '정말': 17, '맛있다': 18, '추천': 19, '기대하다': 20, '것': 21, '보단': 22, '가격': 23, '비싸다': 24, '다시': 25, '가다': 26, '싶다': 27, '생각': 28, '안': 29, '드네': 30, '요': 31, '완전': 32, '최고': 33, '!': 34, '재': 35, '의사': 36, '있다': 37, '만족스럽다': 38, '상태': 39, '가': 40, '개선': 41, '되다': 42, '기르다': 43, '바라다': 44, '맛': 45, '직원': 46, '분들': 47, '친절하다': 48, '기념일': 49, '분위기': 50, '전반': 51, '적': 52, '으로': 53, '짜다': 54, '저': 55, '는': 56, '신경': 57, '써다': 58, '불쾌하다': 59}\n"
     ]
    }
   ],
   "source": [
    "print(train_tokenized)\n",
    "print(w2i)"
   ]
  },
  {
   "cell_type": "markdown",
   "metadata": {},
   "source": [
    "### **2) Dataset 클래스 구현**"
   ]
  },
  {
   "cell_type": "markdown",
   "metadata": {},
   "source": [
    "이제 Word2Vec을 학습시키는 대표적인 방법인 Skip-Gram과 CBOW로 구현하겠습니다. 간단하게 요약하자면 다음과 같은 특징을 가지고 있었습니다.\n",
    "\n",
    "- CBOW는 주변단어를 이용해 주어진 단어를 예측하는 방법입니다.\n",
    "- Skip-Gram은 중심 단어를 이용하여 주변 단어를 예측하는 방법입니다. \n",
    "- 즉, 두 방법은 input과 output을 어떻게 설정하는지에 대한 차이가 있습니다."
   ]
  },
  {
   "cell_type": "markdown",
   "metadata": {},
   "source": [
    "실제 모델에 들어가기 위한 input을 만들기 위해 Dataset 클래스를 먼저 정의합니다."
   ]
  },
  {
   "cell_type": "code",
   "execution_count": 10,
   "metadata": {},
   "outputs": [],
   "source": [
    "class CBOWDataset(Dataset):\n",
    "    def __init__(self, train_tokenized, window_size=2):\n",
    "        self.x = [] # input word\n",
    "        self.y = [] # output word\n",
    "        \n",
    "        for tokens in tqdm(train_tokenized):\n",
    "            token_ids = [w2i[token] for token in tokens]\n",
    "            for i, id in enumerate(token_ids):\n",
    "                if i - window_size >= 0 and i + window_size < len(token_ids):\n",
    "                    self.x.append(token_ids[i - window_size:i] + token_ids[i + 1: i + window_size + 1])\n",
    "                    self.y.append(id)\n",
    "        self.x = torch.LongTensor(self.x) # (전체 데이터 개수, 2* window_size)\n",
    "        self.y = torch.LongTensor(self.y) # (전체 데이터 개수)\n",
    "    \n",
    "    def __len__(self):\n",
    "        return self.x.shape[0]\n",
    "    \n",
    "    def __getitem__(self, idx):\n",
    "        return self.x[idx], self.y[idx]"
   ]
  },
  {
   "cell_type": "code",
   "execution_count": 11,
   "metadata": {},
   "outputs": [],
   "source": [
    "class SkipGramDataset(Dataset):\n",
    "    def __init__(self, train_tokenized, window_size=2):\n",
    "        self.x = [] # input word\n",
    "        self.y = [] # output word\n",
    "        \n",
    "        for tokens in tqdm(train_tokenized):\n",
    "            token_ids = [w2i[token] for token in tokens]\n",
    "            for i, id in enumerate(token_ids):\n",
    "                if i - window_size >= 0 and i + window_size < len(token_ids):\n",
    "                    self.y += (token_ids[i - window_size:i] + token_ids[i + 1: i + window_size + 1])\n",
    "                    self.x += [id] * 2 * window_size # id로 window_size 내 주변 단어를 모두 유추해야함\n",
    "        \n",
    "        self.x = torch.LongTensor(self.x) # (전체 데이터 개수)\n",
    "        self.y = torch.LongTensor(self.y) # (전체 데이터 개수)\n",
    "    \n",
    "    def __len__(self):\n",
    "        return self.x.shape[0]\n",
    "    \n",
    "    def __getitem__(self, idx):\n",
    "        return self.x[idx], self.y[idx]"
   ]
  },
  {
   "cell_type": "markdown",
   "metadata": {},
   "source": [
    "각 모델에 맞는 Dataset 객체를 생성합니다."
   ]
  },
  {
   "cell_type": "code",
   "execution_count": 12,
   "metadata": {},
   "outputs": [
    {
     "name": "stderr",
     "output_type": "stream",
     "text": [
      "100%|██████████| 10/10 [00:00<00:00, 9988.82it/s]\n",
      "100%|██████████| 10/10 [00:00<?, ?it/s]"
     ]
    },
    {
     "name": "stdout",
     "output_type": "stream",
     "text": [
      "[(tensor(0), tensor(17)), (tensor(0), tensor(18)), (tensor(0), tensor(19)), (tensor(0), tensor(10)), (tensor(19), tensor(18)), (tensor(19), tensor(0)), (tensor(19), tensor(10)), (tensor(19), tensor(0)), (tensor(22), tensor(20)), (tensor(22), tensor(21)), (tensor(22), tensor(4)), (tensor(22), tensor(2)), (tensor(4), tensor(21)), (tensor(4), tensor(22)), (tensor(4), tensor(2)), (tensor(4), tensor(0)), (tensor(23), tensor(5)), (tensor(23), tensor(3)), (tensor(23), tensor(6)), (tensor(23), tensor(7)), (tensor(6), tensor(3)), (tensor(6), tensor(23)), (tensor(6), tensor(7)), (tensor(6), tensor(24)), (tensor(7), tensor(23)), (tensor(7), tensor(6)), (tensor(7), tensor(24)), (tensor(7), tensor(25)), (tensor(24), tensor(6)), (tensor(24), tensor(7)), (tensor(24), tensor(25)), (tensor(24), tensor(26)), (tensor(25), tensor(7)), (tensor(25), tensor(24)), (tensor(25), tensor(26)), (tensor(25), tensor(27)), (tensor(26), tensor(24)), (tensor(26), tensor(25)), (tensor(26), tensor(27)), (tensor(26), tensor(28)), (tensor(27), tensor(25)), (tensor(27), tensor(26)), (tensor(27), tensor(28)), (tensor(27), tensor(6)), (tensor(28), tensor(26)), (tensor(28), tensor(27)), (tensor(28), tensor(6)), (tensor(28), tensor(29)), (tensor(6), tensor(27)), (tensor(6), tensor(28)), (tensor(6), tensor(29)), (tensor(6), tensor(30)), (tensor(29), tensor(28)), (tensor(29), tensor(6)), (tensor(29), tensor(30)), (tensor(29), tensor(31)), (tensor(30), tensor(6)), (tensor(30), tensor(29)), (tensor(30), tensor(31)), (tensor(30), tensor(0)), (tensor(2), tensor(32)), (tensor(2), tensor(33)), (tensor(2), tensor(34)), (tensor(2), tensor(35)), (tensor(34), tensor(33)), (tensor(34), tensor(2)), (tensor(34), tensor(35)), (tensor(34), tensor(11)), (tensor(35), tensor(2)), (tensor(35), tensor(34)), (tensor(35), tensor(11)), (tensor(35), tensor(36)), (tensor(11), tensor(34)), (tensor(11), tensor(35)), (tensor(11), tensor(36)), (tensor(11), tensor(37)), (tensor(36), tensor(35)), (tensor(36), tensor(11)), (tensor(36), tensor(37)), (tensor(36), tensor(0)), (tensor(9), tensor(8)), (tensor(9), tensor(1)), (tensor(9), tensor(1)), (tensor(9), tensor(5)), (tensor(1), tensor(1)), (tensor(1), tensor(9)), (tensor(1), tensor(5)), (tensor(1), tensor(38)), (tensor(5), tensor(9)), (tensor(5), tensor(1)), (tensor(5), tensor(38)), (tensor(5), tensor(0)), (tensor(40), tensor(12)), (tensor(40), tensor(39)), (tensor(40), tensor(13)), (tensor(40), tensor(4)), (tensor(13), tensor(39)), (tensor(13), tensor(40)), (tensor(13), tensor(4)), (tensor(13), tensor(2)), (tensor(4), tensor(40)), (tensor(4), tensor(13)), (tensor(4), tensor(2)), (tensor(4), tensor(0)), (tensor(2), tensor(13)), (tensor(2), tensor(4)), (tensor(2), tensor(0)), (tensor(2), tensor(13)), (tensor(0), tensor(4)), (tensor(0), tensor(2)), (tensor(0), tensor(13)), (tensor(0), tensor(14)), (tensor(13), tensor(2)), (tensor(13), tensor(0)), (tensor(13), tensor(14)), (tensor(13), tensor(41)), (tensor(14), tensor(0)), (tensor(14), tensor(13)), (tensor(14), tensor(41)), (tensor(14), tensor(42)), (tensor(41), tensor(13)), (tensor(41), tensor(14)), (tensor(41), tensor(42)), (tensor(41), tensor(43)), (tensor(42), tensor(14)), (tensor(42), tensor(41)), (tensor(42), tensor(43)), (tensor(42), tensor(44)), (tensor(43), tensor(41)), (tensor(43), tensor(42)), (tensor(43), tensor(44)), (tensor(43), tensor(0)), (tensor(3), tensor(45)), (tensor(3), tensor(1)), (tensor(3), tensor(46)), (tensor(3), tensor(47)), (tensor(46), tensor(1)), (tensor(46), tensor(3)), (tensor(46), tensor(47)), (tensor(46), tensor(9)), (tensor(47), tensor(3)), (tensor(47), tensor(46)), (tensor(47), tensor(9)), (tensor(47), tensor(1)), (tensor(9), tensor(46)), (tensor(9), tensor(47)), (tensor(9), tensor(1)), (tensor(9), tensor(7)), (tensor(1), tensor(47)), (tensor(1), tensor(9)), (tensor(1), tensor(7)), (tensor(1), tensor(48)), (tensor(7), tensor(9)), (tensor(7), tensor(1)), (tensor(7), tensor(48)), (tensor(7), tensor(0)), (tensor(11), tensor(49)), (tensor(11), tensor(15)), (tensor(11), tensor(10)), (tensor(11), tensor(8)), (tensor(10), tensor(15)), (tensor(10), tensor(11)), (tensor(10), tensor(8)), (tensor(10), tensor(1)), (tensor(8), tensor(11)), (tensor(8), tensor(10)), (tensor(8), tensor(1)), (tensor(8), tensor(50)), (tensor(1), tensor(10)), (tensor(1), tensor(8)), (tensor(1), tensor(50)), (tensor(1), tensor(1)), (tensor(50), tensor(8)), (tensor(50), tensor(1)), (tensor(50), tensor(1)), (tensor(50), tensor(9)), (tensor(1), tensor(1)), (tensor(1), tensor(50)), (tensor(1), tensor(9)), (tensor(1), tensor(1)), (tensor(9), tensor(50)), (tensor(9), tensor(1)), (tensor(9), tensor(1)), (tensor(9), tensor(5)), (tensor(1), tensor(1)), (tensor(1), tensor(9)), (tensor(1), tensor(5)), (tensor(1), tensor(3)), (tensor(5), tensor(9)), (tensor(5), tensor(1)), (tensor(5), tensor(3)), (tensor(5), tensor(0)), (tensor(53), tensor(51)), (tensor(53), tensor(52)), (tensor(53), tensor(8)), (tensor(53), tensor(6)), (tensor(8), tensor(52)), (tensor(8), tensor(53)), (tensor(8), tensor(6)), (tensor(8), tensor(7)), (tensor(6), tensor(53)), (tensor(6), tensor(8)), (tensor(6), tensor(7)), (tensor(6), tensor(54)), (tensor(7), tensor(8)), (tensor(7), tensor(6)), (tensor(7), tensor(54)), (tensor(7), tensor(0)), (tensor(54), tensor(6)), (tensor(54), tensor(7)), (tensor(54), tensor(0)), (tensor(54), tensor(55)), (tensor(0), tensor(7)), (tensor(0), tensor(54)), (tensor(0), tensor(55)), (tensor(0), tensor(56)), (tensor(55), tensor(54)), (tensor(55), tensor(0)), (tensor(55), tensor(56)), (tensor(55), tensor(4)), (tensor(56), tensor(0)), (tensor(56), tensor(55)), (tensor(56), tensor(4)), (tensor(56), tensor(2)), (tensor(4), tensor(55)), (tensor(4), tensor(56)), (tensor(4), tensor(2)), (tensor(4), tensor(0)), (tensor(16), tensor(12)), (tensor(16), tensor(15)), (tensor(16), tensor(14)), (tensor(16), tensor(57)), (tensor(14), tensor(15)), (tensor(14), tensor(16)), (tensor(14), tensor(57)), (tensor(14), tensor(58)), (tensor(57), tensor(16)), (tensor(57), tensor(14)), (tensor(57), tensor(58)), (tensor(57), tensor(3)), (tensor(58), tensor(14)), (tensor(58), tensor(57)), (tensor(58), tensor(3)), (tensor(58), tensor(0)), (tensor(3), tensor(57)), (tensor(3), tensor(58)), (tensor(3), tensor(0)), (tensor(3), tensor(16)), (tensor(0), tensor(58)), (tensor(0), tensor(3)), (tensor(0), tensor(16)), (tensor(0), tensor(59)), (tensor(16), tensor(3)), (tensor(16), tensor(0)), (tensor(16), tensor(59)), (tensor(16), tensor(0))]\n"
     ]
    },
    {
     "name": "stderr",
     "output_type": "stream",
     "text": [
      "\n"
     ]
    }
   ],
   "source": [
    "cbow_set = CBOWDataset(train_tokenized)\n",
    "skipgram_set = SkipGramDataset(train_tokenized)\n",
    "print(list(skipgram_set))"
   ]
  },
  {
   "cell_type": "markdown",
   "metadata": {},
   "source": [
    "### **3) 모델 구현**"
   ]
  },
  {
   "cell_type": "markdown",
   "metadata": {},
   "source": [
    "차례대로 두 가지 Word2Vec 모델을 구현하겠습니다.\n",
    "\n",
    "- self.embedding: vocab_size 크기의 one-hot vector를 특정 크기의 dim차원으로 embedding 시키는 layer\n",
    "- self.linear: 변환된 embedding vector를 다시 원래 vocab_size로 바꾸는 layer"
   ]
  },
  {
   "cell_type": "code",
   "execution_count": 13,
   "metadata": {},
   "outputs": [],
   "source": [
    "class CBOW(nn.Module):\n",
    "    def __init__(self, vocab_size, dim):\n",
    "        super(CBOW, self).__init__()\n",
    "        self.embedding = nn.Embedding(vocab_size, dim, sparse=True)\n",
    "        self.linear = nn.Linear(dim, vocab_size)\n",
    "    \n",
    "    # B: batch size, W: window size, d_w: word embedding size, V: vocab size\n",
    "    def forward(self, x): # x:(B, 2W)\n",
    "        embeddings = self.embedding(x) # (B, 2W, d_w)\n",
    "        embeddings = torch.sum(embeddings, dim=1) # (B, d_w)\n",
    "        output = self.linear(embeddings) # (B, V)\n",
    "        return output"
   ]
  },
  {
   "cell_type": "code",
   "execution_count": 14,
   "metadata": {},
   "outputs": [],
   "source": [
    "class SkipGram(nn.Module):\n",
    "    def __init__(self, vocab_size, dim):\n",
    "        super(SkipGram, self).__init__()\n",
    "        self.embedding = nn.Embedding(vocab_size, dim, sparse=True)\n",
    "        self.linear = nn.Linear(dim, vocab_size)\n",
    "    \n",
    "    # B: batch size, W: window size, d_w: word embedding size, V: vocab size\n",
    "    def forward(self, x): # x:(B)\n",
    "        embeddings = self.embedding(x) # (B, d_w)\n",
    "        output = self.linear(embeddings) # (B, V)\n",
    "        return output"
   ]
  },
  {
   "cell_type": "code",
   "execution_count": 15,
   "metadata": {},
   "outputs": [],
   "source": [
    "cbow = CBOW(vocab_size=len(w2i), dim=256)\n",
    "skipgram = SkipGram(vocab_size=len(w2i), dim=256)"
   ]
  },
  {
   "cell_type": "markdown",
   "metadata": {},
   "source": [
    "### **4) 모델 학습**"
   ]
  },
  {
   "cell_type": "markdown",
   "metadata": {},
   "source": [
    "다음과 같이 하이퍼파라미터를 설정하고 DataLoader 객체를 만듭니다."
   ]
  },
  {
   "cell_type": "code",
   "execution_count": 16,
   "metadata": {},
   "outputs": [],
   "source": [
    "batch_size = 4\n",
    "learning_rate = 5e-4\n",
    "num_epochs = 5\n",
    "device = torch.device('cuda') if torch.cuda.is_available() else torch.device('cpu')\n",
    "\n",
    "cbow_loader = DataLoader(cbow_set, batch_size=batch_size)\n",
    "skipgram_loader = DataLoader(skipgram_set, batch_size=batch_size)"
   ]
  },
  {
   "cell_type": "markdown",
   "metadata": {},
   "source": [
    "먼저 CBOW 모델을 학습하겠습니다."
   ]
  },
  {
   "cell_type": "code",
   "execution_count": 17,
   "metadata": {},
   "outputs": [
    {
     "name": "stdout",
     "output_type": "stream",
     "text": [
      "##################################################\n",
      "Epoch: 1\n"
     ]
    },
    {
     "name": "stderr",
     "output_type": "stream",
     "text": [
      "100%|██████████| 16/16 [00:00<00:00, 202.53it/s]\n"
     ]
    },
    {
     "name": "stdout",
     "output_type": "stream",
     "text": [
      "Train loss: 4.517364501953125\n",
      "Train loss: 5.722186088562012\n",
      "Train loss: 4.509489059448242\n",
      "Train loss: 4.71565055847168\n",
      "Train loss: 5.350027084350586\n",
      "Train loss: 4.911778926849365\n",
      "Train loss: 3.9825315475463867\n",
      "Train loss: 5.044991970062256\n",
      "Train loss: 4.438126564025879\n",
      "Train loss: 4.177204132080078\n",
      "Train loss: 4.603321075439453\n",
      "Train loss: 5.182714462280273\n",
      "Train loss: 4.771857738494873\n",
      "Train loss: 4.823988437652588\n",
      "Train loss: 4.422669410705566\n",
      "Train loss: 3.94539213180542\n",
      "##################################################\n",
      "Epoch: 2\n"
     ]
    },
    {
     "name": "stderr",
     "output_type": "stream",
     "text": [
      "100%|██████████| 16/16 [00:00<00:00, 372.14it/s]\n"
     ]
    },
    {
     "name": "stdout",
     "output_type": "stream",
     "text": [
      "Train loss: 4.3733344078063965\n",
      "Train loss: 5.599576473236084\n",
      "Train loss: 4.3914265632629395\n",
      "Train loss: 4.599921703338623\n",
      "Train loss: 5.2240891456604\n",
      "Train loss: 4.6652021408081055\n",
      "Train loss: 3.808961868286133\n",
      "Train loss: 4.932811737060547\n",
      "Train loss: 4.332380294799805\n",
      "Train loss: 4.0147881507873535\n",
      "Train loss: 4.421172142028809\n",
      "Train loss: 4.863188743591309\n",
      "Train loss: 4.64410924911499\n",
      "Train loss: 4.702084064483643\n",
      "Train loss: 4.267542362213135\n",
      "Train loss: 3.8243963718414307\n",
      "##################################################\n",
      "Epoch: 3\n"
     ]
    },
    {
     "name": "stderr",
     "output_type": "stream",
     "text": [
      "100%|██████████| 16/16 [00:00<00:00, 400.33it/s]\n"
     ]
    },
    {
     "name": "stdout",
     "output_type": "stream",
     "text": [
      "Train loss: 4.231768608093262\n",
      "Train loss: 5.478585243225098\n",
      "Train loss: 4.275032043457031\n",
      "Train loss: 4.485116004943848\n",
      "Train loss: 5.098927021026611\n",
      "Train loss: 4.427643775939941\n",
      "Train loss: 3.6395773887634277\n",
      "Train loss: 4.822075366973877\n",
      "Train loss: 4.22916316986084\n",
      "Train loss: 3.858006238937378\n",
      "Train loss: 4.246267795562744\n",
      "Train loss: 4.555294990539551\n",
      "Train loss: 4.518178939819336\n",
      "Train loss: 4.5822834968566895\n",
      "Train loss: 4.115230560302734\n",
      "Train loss: 3.706716537475586\n",
      "##################################################\n",
      "Epoch: 4\n"
     ]
    },
    {
     "name": "stderr",
     "output_type": "stream",
     "text": [
      "  0%|          | 0/16 [00:00<?, ?it/s]"
     ]
    },
    {
     "name": "stdout",
     "output_type": "stream",
     "text": [
      "Train loss: 4.092677116394043\n",
      "Train loss: 5.359189510345459\n",
      "Train loss: 4.160326957702637\n",
      "Train loss: 4.371255874633789\n",
      "Train loss: 4.97455358505249\n",
      "Train loss: 4.199728012084961\n",
      "Train loss: 3.4745688438415527\n",
      "Train loss: 4.712802410125732\n",
      "Train loss: 4.12832498550415\n",
      "Train loss: 3.706940174102783\n",
      "Train loss: 4.078704357147217\n",
      "Train loss: 4.260048866271973\n",
      "Train loss: 4.394067764282227"
     ]
    },
    {
     "name": "stderr",
     "output_type": "stream",
     "text": [
      "100%|██████████| 16/16 [00:00<00:00, 355.60it/s]\n"
     ]
    },
    {
     "name": "stdout",
     "output_type": "stream",
     "text": [
      "\n",
      "Train loss: 4.464550018310547\n",
      "Train loss: 3.9659085273742676\n",
      "Train loss: 3.592409372329712\n",
      "##################################################\n",
      "Epoch: 5\n"
     ]
    },
    {
     "name": "stderr",
     "output_type": "stream",
     "text": [
      "100%|██████████| 16/16 [00:00<00:00, 410.21it/s]"
     ]
    },
    {
     "name": "stdout",
     "output_type": "stream",
     "text": [
      "Train loss: 3.956080436706543\n",
      "Train loss: 5.241368293762207\n",
      "Train loss: 4.047332763671875\n",
      "Train loss: 4.258368492126465\n",
      "Train loss: 4.850984573364258\n",
      "Train loss: 3.9820339679718018\n",
      "Train loss: 3.314148187637329\n",
      "Train loss: 4.605008125305176\n",
      "Train loss: 4.029695510864258\n",
      "Train loss: 3.5615880489349365\n",
      "Train loss: 3.9187049865722656\n",
      "Train loss: 3.978358268737793\n",
      "Train loss: 4.271775245666504\n",
      "Train loss: 4.348851680755615\n",
      "Train loss: 3.8197689056396484\n",
      "Train loss: 3.4815196990966797\n",
      "Finished\n"
     ]
    },
    {
     "name": "stderr",
     "output_type": "stream",
     "text": [
      "\n"
     ]
    }
   ],
   "source": [
    "cbow.train()\n",
    "cbow = cbow.to(device)\n",
    "optim = torch.optim.SGD(cbow.parameters(), lr=learning_rate)\n",
    "loss_function = nn.CrossEntropyLoss()\n",
    "\n",
    "for e in range(1, num_epochs + 1):\n",
    "    print(\"#\" * 50)\n",
    "    print(f\"Epoch: {e}\")\n",
    "    for batch in tqdm(cbow_loader):\n",
    "        x, y = batch\n",
    "        x, y = x.to(device), y.to(device) # (B, W), (B)\n",
    "        output = cbow(x) # (B, V)\n",
    "        \n",
    "        optim.zero_grad()\n",
    "        loss = loss_function(output, y)\n",
    "        loss.backward()\n",
    "        optim.step()\n",
    "        \n",
    "        print(f\"Train loss: {loss.item()}\")\n",
    "\n",
    "print(\"Finished\")"
   ]
  },
  {
   "cell_type": "markdown",
   "metadata": {},
   "source": [
    "다음으로 Skip-Gram 모델을 학습하겠습니다."
   ]
  },
  {
   "cell_type": "code",
   "execution_count": 18,
   "metadata": {},
   "outputs": [
    {
     "name": "stdout",
     "output_type": "stream",
     "text": [
      "##################################################\n",
      "Epoch: 1\n"
     ]
    },
    {
     "name": "stderr",
     "output_type": "stream",
     "text": [
      "100%|██████████| 64/64 [00:00<00:00, 441.37it/s]\n"
     ]
    },
    {
     "name": "stdout",
     "output_type": "stream",
     "text": [
      "Train loss: 3.7030582427978516\n",
      "##################################################\n",
      "Epoch: 2\n"
     ]
    },
    {
     "name": "stderr",
     "output_type": "stream",
     "text": [
      "100%|██████████| 64/64 [00:00<00:00, 481.18it/s]\n"
     ]
    },
    {
     "name": "stdout",
     "output_type": "stream",
     "text": [
      "Train loss: 3.6635866165161133\n",
      "##################################################\n",
      "Epoch: 3\n"
     ]
    },
    {
     "name": "stderr",
     "output_type": "stream",
     "text": [
      "100%|██████████| 64/64 [00:00<00:00, 586.99it/s]\n"
     ]
    },
    {
     "name": "stdout",
     "output_type": "stream",
     "text": [
      "Train loss: 3.624561309814453\n",
      "##################################################\n",
      "Epoch: 4\n"
     ]
    },
    {
     "name": "stderr",
     "output_type": "stream",
     "text": [
      "100%|██████████| 64/64 [00:00<00:00, 735.62it/s]\n"
     ]
    },
    {
     "name": "stdout",
     "output_type": "stream",
     "text": [
      "Train loss: 3.585994243621826\n",
      "##################################################\n",
      "Epoch: 5\n"
     ]
    },
    {
     "name": "stderr",
     "output_type": "stream",
     "text": [
      "100%|██████████| 64/64 [00:00<00:00, 646.31it/s]"
     ]
    },
    {
     "name": "stdout",
     "output_type": "stream",
     "text": [
      "Train loss: 3.5478954315185547\n",
      "Finished\n"
     ]
    },
    {
     "name": "stderr",
     "output_type": "stream",
     "text": [
      "\n"
     ]
    }
   ],
   "source": [
    "skipgram.train()\n",
    "skipgram = skipgram.to(device)\n",
    "optim = torch.optim.SGD(skipgram.parameters(), lr=learning_rate)\n",
    "loss_function = nn.CrossEntropyLoss()\n",
    "\n",
    "for e in range(1, num_epochs + 1):\n",
    "    print(\"#\" * 50)\n",
    "    print(f\"Epoch: {e}\")\n",
    "    for batch in tqdm(skipgram_loader):\n",
    "        x, y = batch\n",
    "        x, y = x.to(device), y.to(device) # (B, W), (B)\n",
    "        output = skipgram(x) # (B, V)\n",
    "        \n",
    "        optim.zero_grad()\n",
    "        loss = loss_function(output, y)\n",
    "        loss.backward()\n",
    "        optim.step()\n",
    "    \n",
    "    print(f\"Train loss: {loss.item()}\")\n",
    "print(\"Finished\")"
   ]
  },
  {
   "cell_type": "markdown",
   "metadata": {},
   "source": [
    "### **5) 테스트**"
   ]
  },
  {
   "cell_type": "code",
   "execution_count": 19,
   "metadata": {},
   "outputs": [
    {
     "name": "stdout",
     "output_type": "stream",
     "text": [
      "Word: 음식\n",
      "tensor([-7.8031e-01,  3.4020e-01,  2.3965e-01,  1.1466e+00, -4.7382e-01,\n",
      "        -1.1625e-01,  2.5119e+00,  6.0728e-01,  2.4680e+00,  1.2630e-01,\n",
      "        -2.7188e-02,  3.9423e-01,  9.8465e-01, -5.1491e-01,  9.3773e-01,\n",
      "        -2.0908e+00,  9.9917e-01, -2.5360e-01, -4.9429e-01,  3.4974e-01,\n",
      "        -7.9115e-01, -3.7272e-01, -7.2416e-01,  7.1037e-01,  1.3163e-01,\n",
      "         5.8675e-01, -9.7430e-02,  1.3822e+00, -2.8502e-01, -7.8537e-01,\n",
      "        -9.5123e-01, -1.0286e+00,  7.6688e-01, -3.2761e-01,  1.3801e-01,\n",
      "        -4.0390e-01, -8.6721e-01, -1.2883e+00,  1.1042e+00,  2.2619e+00,\n",
      "         9.7791e-02,  9.4427e-01,  8.9367e-01,  1.3734e+00,  2.7213e-01,\n",
      "        -7.3901e-01,  3.9341e-01,  6.8423e-01,  1.5472e+00, -1.0421e-01,\n",
      "        -7.3628e-01, -2.1654e+00,  2.4462e-01,  9.1695e-01, -4.6950e-02,\n",
      "         5.0610e-03, -4.6465e-01, -7.3774e-01, -1.1797e+00, -8.8331e-01,\n",
      "         4.4442e-01,  9.0978e-01,  2.5616e+00,  1.6349e-01,  9.5964e-02,\n",
      "        -8.8922e-02,  1.5621e+00,  5.1451e-01, -5.3047e-01, -7.1057e-01,\n",
      "         1.9713e+00,  1.9023e+00,  9.7000e-01,  1.6177e+00, -4.8513e-01,\n",
      "        -5.9215e-01, -6.2762e-01,  6.5475e-02, -7.2082e-01, -1.6420e-01,\n",
      "        -2.2280e-01,  1.2401e+00,  3.4138e-01, -1.2840e+00, -1.6350e+00,\n",
      "        -6.5896e-01, -3.0616e-01, -1.3532e+00,  1.0170e+00,  3.7837e-01,\n",
      "        -2.6662e-01,  1.8364e+00,  2.4980e-01,  1.3723e+00, -1.7900e-02,\n",
      "        -1.4385e-01,  1.9547e+00, -5.1830e-01,  3.8538e-01,  9.2184e-01,\n",
      "        -5.4997e-01, -4.7631e-02, -1.0276e-01,  1.2959e-01, -3.1721e-01,\n",
      "         2.7689e-01,  6.1655e-01, -2.1437e+00, -1.4720e+00, -8.0351e-01,\n",
      "        -3.1372e-01,  1.7194e+00, -1.9934e+00,  1.7667e-02, -4.0639e-02,\n",
      "         3.7951e-01,  2.5669e-01, -1.6582e+00, -1.1023e-03,  1.9758e+00,\n",
      "        -1.6434e+00, -8.2522e-03, -8.5538e-01,  9.7460e-01,  1.5014e+00,\n",
      "         1.0897e-01,  2.0340e-01, -9.7940e-02,  2.3217e+00, -2.8914e-01,\n",
      "         1.0236e+00, -4.7788e-01,  1.3557e+00, -9.1947e-01, -9.4932e-01,\n",
      "        -1.3046e+00,  2.5262e+00,  1.1113e+00, -1.8813e-01, -7.9594e-01,\n",
      "        -8.4787e-01,  1.6889e+00,  3.4893e-01,  1.2047e-01,  3.1440e-01,\n",
      "         5.1613e-01,  9.5289e-01, -3.4682e-02,  4.3395e-01, -1.2423e+00,\n",
      "        -1.5560e-01,  3.4323e-02, -1.8101e+00, -9.7124e-01, -4.2865e-01,\n",
      "         5.4273e-01,  4.7482e-01, -1.2503e+00,  6.8545e-01,  3.9855e-01,\n",
      "         1.6989e-01,  1.4513e+00, -2.6038e-01,  2.2006e-01, -5.2606e-01,\n",
      "         1.6740e-01,  7.6959e-01, -9.7723e-01,  1.3092e+00,  1.7030e+00,\n",
      "        -7.1313e-01,  5.6531e-02,  4.8902e-01,  3.2708e-02,  8.6103e-02,\n",
      "        -1.0802e+00, -1.0031e+00, -1.4843e-02, -5.7045e-01,  1.8234e-01,\n",
      "        -1.0143e+00, -4.3484e-01, -8.4060e-01, -3.5553e-01, -1.0867e+00,\n",
      "        -4.1910e-01,  2.9517e-01,  7.2969e-02,  9.1472e-01, -4.2685e-01,\n",
      "         1.2463e+00, -8.6465e-01, -1.0092e+00,  8.5423e-01,  1.2691e+00,\n",
      "         2.9808e+00, -3.2207e-01, -5.6910e-01, -8.9806e-01, -3.3563e-01,\n",
      "        -9.4357e-01,  3.5381e-01, -2.9078e-01, -1.2577e+00,  4.7150e-01,\n",
      "        -3.9397e-01, -1.1603e+00, -1.4829e+00,  7.2038e-01, -7.6397e-02,\n",
      "         3.6751e-01,  7.5057e-01,  2.9799e-01,  1.8045e-02,  1.1808e+00,\n",
      "         2.4704e+00,  1.2356e+00, -9.0351e-01, -6.5906e-01,  1.7421e+00,\n",
      "        -3.6901e-01, -4.2717e-01,  6.7428e-01, -1.3162e+00, -1.4041e+00,\n",
      "        -4.2978e-01, -3.7173e-01,  1.1054e+00, -6.6969e-02, -8.8388e-01,\n",
      "        -1.3366e+00, -1.6624e-01, -1.0108e+00, -1.7806e-01,  3.7672e-01,\n",
      "        -3.2116e-01, -1.0270e+00,  1.8875e+00,  2.1317e+00, -1.3088e+00,\n",
      "         9.4271e-01, -1.7540e+00,  1.6453e+00,  4.4708e-01, -1.1201e-01,\n",
      "         3.8833e-01,  1.1898e+00,  1.0451e+00, -1.2772e+00, -1.4186e-02,\n",
      "        -4.9965e-01, -1.4359e-01,  7.3072e-01,  1.1311e+00,  8.0893e-01,\n",
      "        -4.7645e-01], grad_fn=<SqueezeBackward1>)\n",
      "Word: 맛\n",
      "tensor([ 1.6901e-01, -1.0049e+00,  1.3480e+00,  1.5568e-01, -8.4420e-01,\n",
      "        -2.6936e-01,  3.4812e-01,  1.6002e-01, -1.4371e+00,  2.5747e-02,\n",
      "        -7.1336e-01,  1.6903e+00, -7.1813e-02,  1.6065e-01,  1.1732e+00,\n",
      "        -1.1890e-01,  1.3415e+00, -5.9285e-01, -4.0044e-02,  6.3289e-01,\n",
      "         1.7741e+00,  1.5503e+00,  1.6715e-01, -7.3411e-01,  9.1571e-01,\n",
      "        -2.4276e-02,  1.4787e-04,  3.8662e-01,  1.9371e-01, -2.5370e-01,\n",
      "         5.1686e-01,  4.7265e-01,  1.3874e+00,  1.6561e+00,  1.7488e-01,\n",
      "         3.1223e-01, -1.1457e+00,  6.7954e-01, -4.6328e-01,  1.0931e+00,\n",
      "        -1.8031e-01, -5.1148e-02, -1.1415e+00, -1.4564e+00, -2.1409e+00,\n",
      "         1.2218e+00, -1.4853e+00, -4.2371e-01,  5.8552e-02, -4.8069e-02,\n",
      "         6.2347e-01, -7.4163e-01,  1.5641e+00,  8.0746e-01, -1.8197e+00,\n",
      "        -9.8870e-01,  2.2681e-01,  6.7259e-01, -1.0937e+00,  4.1984e-01,\n",
      "         1.2354e-01,  7.9609e-01,  1.9227e+00,  5.8682e-01, -8.4621e-01,\n",
      "        -2.7316e-01, -8.2723e-01, -6.6811e-01, -1.6487e+00, -1.2285e+00,\n",
      "        -6.4610e-01,  9.6252e-01,  9.1570e-01,  2.0233e-01, -4.2204e-01,\n",
      "        -3.4222e-01, -1.4430e-01,  1.2569e+00,  4.5863e-01,  1.5787e+00,\n",
      "         2.6811e-01,  5.3112e-01,  9.0662e-01, -5.8903e-01, -2.3962e-01,\n",
      "        -2.3606e+00, -4.1559e-01, -1.5379e-01, -3.1408e-02,  5.9724e-01,\n",
      "         8.0533e-02, -5.4447e-01,  1.5772e-01, -9.6826e-02,  2.0465e-01,\n",
      "        -4.9360e-01, -8.1467e-01,  5.3285e-01, -1.1031e+00,  1.7485e-01,\n",
      "         7.2805e-01, -3.2677e+00,  3.1684e-01,  7.9653e-01, -1.0023e+00,\n",
      "         1.0586e+00, -6.0206e-01, -1.4041e+00, -2.9468e-01,  1.5900e+00,\n",
      "        -3.9742e-01,  7.7016e-01, -5.4905e-01,  6.6624e-01, -3.3869e-01,\n",
      "        -1.9782e-01,  3.2276e-01,  4.9011e-01,  4.9391e-01,  7.9482e-01,\n",
      "         9.5320e-01, -1.1591e+00,  2.5278e-01,  2.1663e+00, -3.8787e-01,\n",
      "         7.8097e-01, -6.6166e-01,  1.2409e+00,  3.1721e-01, -1.5158e-01,\n",
      "        -1.4952e+00,  3.0164e-01,  9.9046e-01, -6.1769e-01, -9.2716e-02,\n",
      "        -7.6265e-02, -8.3602e-01, -2.2131e+00, -1.1500e+00, -2.7803e+00,\n",
      "        -1.8718e+00, -3.0469e+00,  7.7717e-01,  2.6127e-01,  7.3508e-02,\n",
      "        -7.2526e-01, -1.1701e+00, -3.9109e-01, -9.1339e-01,  4.0621e-01,\n",
      "        -2.1739e+00, -2.3541e-02,  4.1758e-01,  1.8640e-01,  2.5454e-01,\n",
      "         5.5782e-01,  1.5423e+00,  8.9363e-03,  2.0581e+00,  1.3317e+00,\n",
      "         1.0482e+00,  9.7399e-01, -2.0417e+00, -1.0542e+00,  8.0093e-01,\n",
      "         1.3092e+00, -3.5777e-01, -1.4895e+00,  7.8532e-01,  1.4665e+00,\n",
      "        -8.4920e-01,  1.0046e+00,  1.1601e+00,  1.7930e-01, -4.6181e-01,\n",
      "         1.4162e-01,  1.0516e+00, -1.8358e-01,  2.9896e-03, -1.3641e-01,\n",
      "        -4.2434e-01, -3.7151e-01,  2.6657e+00, -1.3582e+00,  8.2084e-01,\n",
      "         5.9090e-01, -2.4172e+00,  4.8679e-01, -5.7218e-01,  7.2174e-01,\n",
      "        -8.7474e-01, -2.2682e-01, -6.6114e-01,  7.6970e-01, -1.2855e+00,\n",
      "         1.3430e-01,  1.6261e+00,  1.1888e+00, -1.6298e+00,  7.8212e-01,\n",
      "        -7.3374e-01, -2.5756e-01,  2.2563e-01,  5.8384e-01, -1.2601e+00,\n",
      "         1.3137e+00, -9.4048e-01,  3.6340e-01, -1.2359e+00, -8.0351e-01,\n",
      "        -3.6785e-01,  1.6215e+00, -5.9459e-01, -1.1406e+00,  7.3910e-01,\n",
      "        -5.2536e-01, -6.9264e-01,  5.5694e-01,  3.7339e-01,  1.2103e-01,\n",
      "         7.6081e-02, -5.3887e-01, -3.0115e-01,  5.5235e-01,  1.0532e+00,\n",
      "        -1.4490e+00,  1.5598e-01, -1.1971e+00, -1.2939e+00, -8.1929e-01,\n",
      "         5.9641e-01,  1.7379e+00, -7.7979e-01,  9.7815e-01,  1.3706e-01,\n",
      "        -7.2082e-01,  1.4945e+00,  5.1033e-02,  1.0608e+00, -4.7713e-01,\n",
      "        -5.0263e-01, -2.5994e-01, -8.5715e-01,  3.3785e-01,  1.5411e-01,\n",
      "         1.0512e+00, -4.5928e-01,  2.2648e-02,  4.8071e-01, -2.9716e-01,\n",
      "         4.0865e-01,  7.9106e-01, -3.5934e-01,  1.0250e-01, -1.1335e+00,\n",
      "        -7.7716e-01], grad_fn=<SqueezeBackward1>)\n",
      "Word: 서비스\n",
      "tensor([ 1.4786,  0.3905, -0.8332,  0.6824,  0.6825, -0.2595,  0.2169,  1.3872,\n",
      "        -0.0100, -0.1580,  1.7148,  1.0895, -0.3647, -0.1574, -0.7596,  0.2503,\n",
      "        -1.3668,  1.4090,  0.2179,  0.5259, -1.1860, -0.0156,  0.5940, -0.4192,\n",
      "        -0.0226, -0.5109, -0.4486, -0.3341, -0.1876,  0.7814,  0.4346,  0.1015,\n",
      "         0.4027,  0.0152,  1.4765,  0.3903, -0.9880,  0.1375, -0.1512, -0.4297,\n",
      "         0.2159,  1.7700,  0.7895,  0.6924,  0.4461, -0.2688, -0.4754, -1.2588,\n",
      "        -0.5341, -0.3940,  0.9390, -0.0104,  0.2510,  1.4521, -0.2193,  1.4028,\n",
      "        -1.3823,  2.2198, -0.4409,  0.9056,  1.4681, -0.8094, -0.2513,  0.4803,\n",
      "        -0.6269,  0.1240, -0.0824,  0.5644,  0.2763, -1.3303, -0.5262, -1.5006,\n",
      "        -0.4220,  0.7490,  0.7180, -0.1650, -1.1135,  0.0506,  0.4551, -1.1252,\n",
      "        -0.4166,  0.6934, -0.1839, -0.2096,  1.1315,  1.9822, -1.5004,  0.2958,\n",
      "        -0.2023,  0.3634,  1.1735, -0.8921, -2.3070, -1.4083,  0.7632,  0.8900,\n",
      "        -0.0410, -0.5672, -0.8005, -2.7274,  0.6574,  0.6026, -0.0748,  0.3155,\n",
      "         1.0800,  1.6752,  0.3543, -0.5470,  0.8532, -0.1549, -0.8645,  0.1838,\n",
      "        -0.0161, -0.6124,  1.9449,  0.2742, -0.8567,  0.0487,  0.4903,  0.4960,\n",
      "        -1.2039,  1.6423,  1.2369, -0.9319, -0.1591, -0.2267, -0.1603,  0.6340,\n",
      "        -0.8392,  0.2487, -0.6730, -1.3916,  0.2334, -0.3258,  1.2465,  0.9748,\n",
      "         0.2215, -1.0458,  1.0770,  0.1202, -0.5817, -2.0978,  1.9575, -0.1301,\n",
      "        -2.3554, -0.5285,  0.9435, -0.8807, -0.4890, -0.9258,  0.1643,  0.2921,\n",
      "         0.9330,  1.2865,  0.6115, -0.1013,  0.2073, -0.5822,  0.9370,  0.4972,\n",
      "        -1.2810,  0.3117, -0.0859,  0.4496,  0.0574, -0.2001, -1.4972, -0.5973,\n",
      "         0.1081, -1.3723, -0.6360, -0.4325,  1.1219,  0.2154,  0.0724, -0.9239,\n",
      "         0.1641, -0.3740, -0.7120,  0.1564, -1.5373,  1.1095, -0.7086, -0.0225,\n",
      "        -0.1747,  0.3444, -0.1286,  1.6360,  0.9330,  0.1188,  0.8471,  1.4425,\n",
      "         0.7179, -0.7834,  1.1145, -1.2957, -1.2940,  1.2295,  0.4106,  0.5870,\n",
      "        -0.7864,  0.6853, -0.0083,  0.3745, -0.5534, -1.4724,  1.0150, -0.8643,\n",
      "        -1.1095, -0.8150,  1.8162, -1.9256, -0.5253,  0.9136, -1.4277,  0.3404,\n",
      "         0.7384,  1.4030, -0.1202, -0.9031,  0.7609,  0.8396, -0.0690,  1.1332,\n",
      "        -0.9305, -0.6475,  0.7680, -2.6760, -0.2516,  0.6909, -0.3202, -1.7600,\n",
      "        -0.1745, -0.0107,  0.9714,  0.5449,  0.0936,  0.8449,  0.4360, -1.2196,\n",
      "         0.8882, -0.9520,  0.5715,  0.3791, -1.4208,  0.3457,  0.2081,  0.7361,\n",
      "        -0.4422,  0.3124, -0.0735,  0.8806, -0.8429,  1.7410, -0.2047, -2.0036],\n",
      "       grad_fn=<SqueezeBackward1>)\n",
      "Word: 위생\n",
      "tensor([-0.1306, -0.5503,  0.5981,  1.8302,  0.1846, -1.8209,  0.5263, -0.3091,\n",
      "         0.0841, -1.3783, -0.5422,  1.2531, -1.0689, -0.6920,  1.1438, -1.3189,\n",
      "        -1.4783,  0.8767,  0.8526, -1.6881, -1.2899,  0.0588,  0.9375,  1.2213,\n",
      "        -0.5093, -2.4534,  1.3259, -0.0463,  1.1031,  0.7655,  0.2626, -0.5971,\n",
      "        -1.2813,  0.2130,  0.6178, -0.5844,  0.6627,  0.3429,  0.3647, -0.6265,\n",
      "         0.7559,  0.5838,  0.1278, -0.1372, -1.4410, -2.1312,  1.6435, -0.0296,\n",
      "        -0.2525,  0.0705,  0.9042,  1.2123, -0.6495,  0.2127,  0.5034, -0.4762,\n",
      "        -0.7084, -1.7937, -0.6218,  1.5456, -0.7402,  0.3890,  2.2705, -1.1000,\n",
      "        -0.4446,  0.1800, -1.1886,  0.8471, -0.5484, -1.7029, -0.2535, -0.0286,\n",
      "         1.2128, -0.4033,  2.0873,  1.1846, -0.7220, -0.6984, -0.8581, -0.0054,\n",
      "         0.2558, -1.0960,  0.4160,  0.3282, -0.4621, -0.7780,  0.2706, -0.2725,\n",
      "        -0.4773,  1.2636,  0.3878, -0.0492, -1.5415,  0.2287,  0.9904,  0.9204,\n",
      "        -1.1925,  0.4645,  0.3404, -0.1524, -0.5073, -1.0112, -1.6690, -0.7504,\n",
      "         0.8497,  1.1142, -1.6302, -0.2487, -0.1865,  1.7033, -0.8740,  0.4011,\n",
      "        -0.4040,  0.0094,  0.4626,  0.1769, -1.0019, -0.3839,  0.2870, -1.8927,\n",
      "         0.1181,  1.5805, -0.0747,  0.0530, -1.0567, -0.0885, -0.7684, -0.6548,\n",
      "        -0.8156,  0.4568,  0.0609,  0.4350, -0.4085, -0.8899, -0.6338, -1.6243,\n",
      "         0.6539,  0.3071,  0.2140, -0.3226,  0.3615, -0.2384, -1.1142, -0.4122,\n",
      "         0.1026, -0.8625,  0.2809, -1.1912,  1.6659,  0.9913,  0.6064, -0.0044,\n",
      "        -1.5937,  1.2577,  0.8393, -0.8690, -1.1631, -0.0654, -1.6048, -0.1612,\n",
      "        -1.7264, -0.8909, -0.8089, -1.7673,  0.2937, -1.0551, -0.1806,  1.1926,\n",
      "        -0.1650,  1.4575,  0.3186, -0.2004,  1.2739, -0.3049,  1.8466, -0.2369,\n",
      "        -1.1611,  0.4048, -0.7719, -0.9549,  0.2042, -0.6746, -0.3499, -0.2160,\n",
      "        -0.8772,  0.5782,  0.9718,  2.3043, -0.0473,  0.5502,  0.9040,  0.1089,\n",
      "         0.6408, -0.6027, -0.7139, -0.8962,  1.1385, -1.6694, -0.2347, -1.2821,\n",
      "        -1.1654, -0.4584,  0.4595,  0.1401, -1.4371, -1.5660,  0.2138,  0.6419,\n",
      "        -0.2066, -0.2180,  2.8650,  0.8050, -0.1723, -0.6224, -1.0556, -0.7432,\n",
      "        -1.4035,  0.0217, -1.0817, -1.5586, -0.5679, -0.1897, -0.0445, -1.5548,\n",
      "         1.0591,  0.5604, -0.6568, -0.7803, -1.0942,  1.8636,  1.3162, -0.2088,\n",
      "         0.7473,  0.2843, -0.6974, -0.0235, -0.7480, -0.4158,  0.0723, -0.0562,\n",
      "         0.5322,  0.6094, -1.4957,  0.0674,  2.0369,  1.6286,  0.3153,  1.5175,\n",
      "        -0.0265,  0.9406,  0.7995, -0.0992, -0.1685,  1.5488,  0.7992, -0.3007],\n",
      "       grad_fn=<SqueezeBackward1>)\n",
      "Word: 가격\n",
      "tensor([-8.0965e-01,  1.8518e+00,  7.0028e-01, -9.7737e-01,  1.1395e-01,\n",
      "         8.1721e-01,  1.8472e-01, -1.6783e+00, -9.1599e-01,  9.3096e-01,\n",
      "         3.4165e-01,  5.1518e-01, -6.7325e-01, -1.8944e+00,  2.6670e-01,\n",
      "        -5.0753e-01, -1.0888e+00,  1.7228e-01,  6.5019e-01,  4.2171e-01,\n",
      "         7.4153e-01, -1.4398e+00,  1.4322e+00, -4.2825e-02,  1.0888e-03,\n",
      "        -1.2548e+00, -1.2899e-01,  1.1182e-01, -1.3197e+00,  5.6138e-01,\n",
      "         2.7946e-01,  9.6595e-01,  1.3965e-01,  1.0532e+00,  4.3431e-01,\n",
      "         7.7353e-01, -8.8760e-01,  4.7291e-01,  2.0867e+00, -1.3279e-01,\n",
      "        -1.9776e-01, -1.5983e-01,  8.8798e-01,  2.0015e+00, -9.9080e-01,\n",
      "         3.7029e-01, -6.4019e-01, -1.0480e+00,  1.2524e-01, -3.3436e-01,\n",
      "        -9.7821e-01, -2.8486e+00, -1.4798e-01, -4.5723e-01,  1.3780e+00,\n",
      "         7.9205e-01, -6.8587e-01, -1.5576e-01,  1.1264e-01, -2.3960e+00,\n",
      "         1.5794e+00,  5.0979e-03, -9.8058e-01, -1.1610e+00,  1.5532e+00,\n",
      "         9.1733e-02,  1.3534e+00,  7.0596e-01, -5.3444e-01, -4.7658e-01,\n",
      "         2.0636e-01, -1.1733e+00, -5.1508e-01, -3.0931e-01, -4.1946e-01,\n",
      "         3.4572e-01, -5.8687e-01, -1.6034e+00, -1.1595e+00, -6.1469e-01,\n",
      "        -1.3930e+00, -2.1698e-01,  5.4527e-02, -2.5565e+00,  4.4855e-01,\n",
      "        -1.0519e+00, -3.0263e-01,  2.0952e-01, -5.7367e-01,  1.3690e-01,\n",
      "         1.9352e+00, -2.0027e-02,  1.9303e-01, -5.1098e-01, -4.6199e-01,\n",
      "         2.6107e-01, -3.9752e-01,  2.5428e+00, -1.7225e+00,  1.6051e+00,\n",
      "         1.0206e+00, -1.0391e+00, -3.4299e-01,  5.2178e-01, -8.9704e-01,\n",
      "        -8.4118e-01,  7.5761e-01, -1.4196e+00, -8.5993e-02, -1.2593e+00,\n",
      "        -1.1290e-01,  2.2576e-01, -5.4540e-01,  6.1779e-01,  1.5775e+00,\n",
      "        -9.7427e-01, -5.5002e-01,  4.9793e-01, -1.2230e+00, -5.1931e-01,\n",
      "         2.1633e+00, -9.0222e-01, -7.0338e-01, -9.2751e-01, -3.3058e-01,\n",
      "        -1.6480e+00, -2.2832e-01, -1.2155e-01, -8.7960e-01, -6.4992e-01,\n",
      "         1.3998e+00,  1.7956e-01, -1.0770e-01,  1.0948e+00,  1.9888e-01,\n",
      "         8.2993e-01,  2.3199e+00,  4.7803e-01,  2.9562e-02, -5.5670e-01,\n",
      "         4.7429e-01,  7.0182e-01, -8.2699e-01, -6.6544e-01,  8.4800e-01,\n",
      "         2.2838e-01,  1.2905e+00, -4.4617e-01,  6.3598e-01, -7.1121e-01,\n",
      "        -5.9919e-01,  1.8028e+00,  6.4534e-01,  1.1291e+00, -8.1661e-01,\n",
      "         1.0726e-03, -1.2488e+00,  1.2401e+00, -1.9581e+00,  6.5370e-01,\n",
      "         1.0659e+00,  8.5115e-01,  1.7011e+00,  3.4682e-01,  1.5328e+00,\n",
      "         9.6251e-01,  1.7253e+00, -1.0591e+00, -1.5345e+00, -2.0918e-01,\n",
      "        -3.9503e-01,  3.4039e-01,  9.8129e-01, -9.9683e-01, -2.3404e+00,\n",
      "         6.5583e-01, -8.4204e-01, -1.5520e+00, -1.6055e+00,  1.1070e+00,\n",
      "        -3.6491e-02, -1.1632e-01,  8.8725e-01, -7.8314e-01,  1.5193e-01,\n",
      "         6.1178e-01, -1.1269e-01,  4.8437e-01, -3.4669e-01, -7.0832e-01,\n",
      "        -6.9608e-01, -2.1627e+00, -2.4018e-01, -4.2566e-01, -1.3250e-01,\n",
      "        -5.5337e-01, -6.8013e-02,  1.1942e-01,  5.2750e-02,  1.6676e+00,\n",
      "        -9.0238e-01,  2.2026e-01, -1.2480e+00,  4.2234e-01, -1.4971e-01,\n",
      "         6.1410e-01,  3.3572e-01,  4.5658e-01, -5.6234e-01,  1.0450e+00,\n",
      "         6.0659e-01, -1.1285e+00, -1.6710e-02, -9.6300e-01,  2.6695e-01,\n",
      "        -5.5280e-01, -5.3736e-01,  9.8844e-01, -4.8514e-01,  2.0609e-01,\n",
      "        -1.4276e+00, -3.3616e-01,  6.7304e-01, -1.4876e+00,  1.2799e+00,\n",
      "        -4.5736e-01, -3.6241e-01, -4.4477e-01, -9.8067e-01,  4.0120e-01,\n",
      "        -1.0357e+00,  1.3047e+00, -2.1641e+00,  2.6026e-01,  1.3470e+00,\n",
      "         2.6431e-01,  9.2605e-01, -9.1644e-01,  8.6914e-01, -1.5532e+00,\n",
      "         1.0205e+00,  1.1146e+00,  6.0641e-02,  8.7321e-02,  1.7003e+00,\n",
      "         2.3906e-01,  8.5954e-01, -9.2422e-01, -4.6875e-02, -4.9152e-01,\n",
      "        -1.7092e-01,  4.2116e-02,  2.1851e-01, -1.0242e+00,  4.1510e-01,\n",
      "         2.1404e-02], grad_fn=<SqueezeBackward1>)\n"
     ]
    }
   ],
   "source": [
    "for word in test_words:\n",
    "    input_id = torch.LongTensor([w2i[word]]).to(device)\n",
    "    emb = cbow.embedding(input_id)\n",
    "    \n",
    "    print(f\"Word: {word}\")\n",
    "    print(emb.squeeze(0))"
   ]
  },
  {
   "cell_type": "code",
   "execution_count": 20,
   "metadata": {},
   "outputs": [
    {
     "name": "stdout",
     "output_type": "stream",
     "text": [
      "Word: 음식\n",
      "tensor(2.7317, grad_fn=<UnbindBackward0>)\n",
      "Word: 맛\n",
      "tensor(2.5442, grad_fn=<UnbindBackward0>)\n",
      "Word: 서비스\n",
      "tensor(3.7710, grad_fn=<UnbindBackward0>)\n",
      "Word: 위생\n",
      "tensor(2.9354, grad_fn=<UnbindBackward0>)\n",
      "Word: 가격\n",
      "tensor(3.1709, grad_fn=<UnbindBackward0>)\n"
     ]
    }
   ],
   "source": [
    "for word in test_words:\n",
    "    input_id = torch.LongTensor([w2i[word]]).to(device)\n",
    "    emb = skipgram.embedding(input_id)\n",
    "    \n",
    "    print(f\"Word: {word}\")\n",
    "    print(max(emb.squeeze(0)))"
   ]
  },
  {
   "cell_type": "code",
   "execution_count": 21,
   "metadata": {},
   "outputs": [
    {
     "data": {
      "text/plain": [
       "['음식', '맛', '서비스', '위생', '가격']"
      ]
     },
     "execution_count": 21,
     "metadata": {},
     "output_type": "execute_result"
    }
   ],
   "source": [
    "test_words"
   ]
  },
  {
   "cell_type": "code",
   "execution_count": 22,
   "metadata": {},
   "outputs": [],
   "source": [
    "def most_similar(word, top_k=5):\n",
    "    input_id = torch.LongTensor([w2i[word]]).to(device)\n",
    "    input_emb = skipgram.embedding(input_id)\n",
    "    score = torch.matmul(input_emb, skipgram.embedding.weight.transpose(1, 0)).view(-1)\n",
    "    \n",
    "    _, top_k_ids = torch.topk(score, top_k)\n",
    "    return [i2w[word_id.item()] for word_id in top_k_ids][1:]"
   ]
  },
  {
   "cell_type": "code",
   "execution_count": 23,
   "metadata": {},
   "outputs": [
    {
     "data": {
      "text/plain": [
       "['있다', '완전', '정말', '더']"
      ]
     },
     "execution_count": 23,
     "metadata": {},
     "output_type": "execute_result"
    }
   ],
   "source": [
    "most_similar('가격')"
   ]
  },
  {
   "cell_type": "markdown",
   "metadata": {},
   "source": [
    "### **6) Word2Vec 시각화**"
   ]
  },
  {
   "cell_type": "code",
   "execution_count": 24,
   "metadata": {},
   "outputs": [],
   "source": [
    "from sklearn.decomposition import PCA"
   ]
  },
  {
   "cell_type": "code",
   "execution_count": 25,
   "metadata": {},
   "outputs": [],
   "source": [
    "import matplotlib.pyplot as plt\n",
    "\n",
    "# matplotlib 패키지 한글 깨짐 처리\n",
    "plt.rc('font', family='Malgun Gothic')\n",
    "# plt.rc('font', family='AppleGothic) # mac"
   ]
  },
  {
   "cell_type": "code",
   "execution_count": 26,
   "metadata": {},
   "outputs": [],
   "source": [
    "pca = PCA(n_components=2)"
   ]
  },
  {
   "cell_type": "markdown",
   "metadata": {},
   "source": [
    "#### **Skip-Gram 결과**"
   ]
  },
  {
   "cell_type": "code",
   "execution_count": 27,
   "metadata": {},
   "outputs": [],
   "source": [
    "pc_weight = pca.fit_transform(skipgram.embedding.weight.data.cpu().numpy())"
   ]
  },
  {
   "cell_type": "code",
   "execution_count": 28,
   "metadata": {},
   "outputs": [
    {
     "name": "stderr",
     "output_type": "stream",
     "text": [
      "C:\\Users\\delphinus\\anaconda3\\envs\\nlp\\lib\\site-packages\\IPython\\core\\pylabtools.py:151: UserWarning: Glyph 8722 (\\N{MINUS SIGN}) missing from current font.\n",
      "  fig.canvas.print_figure(bytes_io, **kw)\n"
     ]
    },
    {
     "data": {
      "image/png": "[encoded data removed]",
      "text/plain": [
       "<Figure size 1080x1080 with 1 Axes>"
      ]
     },
     "metadata": {
      "needs_background": "light"
     },
     "output_type": "display_data"
    }
   ],
   "source": [
    "plt.figure(figsize=(15, 15))\n",
    "\n",
    "for word_id, (x_coordinate, y_coordinate) in enumerate(pc_weight):\n",
    "    plt.scatter(x_coordinate, y_coordinate, color=\"blue\")\n",
    "    plt.annotate(i2w[word_id], (x_coordinate, y_coordinate))"
   ]
  },
  {
   "cell_type": "markdown",
   "metadata": {},
   "source": [
    "#### **CBOW 결과**"
   ]
  },
  {
   "cell_type": "code",
   "execution_count": 29,
   "metadata": {},
   "outputs": [],
   "source": [
    "pc_weight = pca.fit_transform(cbow.embedding.weight.data.cpu().numpy())"
   ]
  },
  {
   "cell_type": "code",
   "execution_count": 30,
   "metadata": {},
   "outputs": [
    {
     "name": "stderr",
     "output_type": "stream",
     "text": [
      "C:\\Users\\delphinus\\anaconda3\\envs\\nlp\\lib\\site-packages\\IPython\\core\\pylabtools.py:151: UserWarning: Glyph 8722 (\\N{MINUS SIGN}) missing from current font.\n",
      "  fig.canvas.print_figure(bytes_io, **kw)\n"
     ]
    },
    {
     "data": {
      "image/png": "[encoded data removed]",
      "text/plain": [
       "<Figure size 1080x1080 with 1 Axes>"
      ]
     },
     "metadata": {
      "needs_background": "light"
     },
     "output_type": "display_data"
    }
   ],
   "source": [
    "plt.figure(figsize=(15, 15))\n",
    "\n",
    "for word_id, (x_coordinate, y_coordinate) in enumerate(pc_weight):\n",
    "    plt.scatter(x_coordinate, y_coordinate, color=\"blue\")\n",
    "    plt.annotate(i2w[word_id], (x_coordinate, y_coordinate))"
   ]
  },
  {
   "cell_type": "markdown",
   "metadata": {},
   "source": [
    "# **4. RNNs with Attention**"
   ]
  },
  {
   "cell_type": "markdown",
   "metadata": {},
   "source": [
    "'3. Deep Learning'에서 배운 Seq2Seq와 Attention에 대해서 간략하게 복습 및 보충하겠습니다. 자세한 건 '3. Deep Learning'을 참고하세요."
   ]
  },
  {
   "cell_type": "markdown",
   "metadata": {},
   "source": [
    "## **4.1 Sequence to Sequecne**"
   ]
  },
  {
   "cell_type": "markdown",
   "metadata": {},
   "source": [
    "![4-4-1](_image/4-4-1.PNG)\n",
    "\n",
    "위 그림을 보면 알 수 있듯이 시퀀스 투 시퀀스는 입력을 받는 인코더와 출력하는 디코더로  이루어져있습니다. 그리고 인코더와 디코더는 각각의 RNN, LSTM, GRU 중 하나로 구성되어 있습니다. \n",
    "\n",
    "문장의 의미를 더욱 정확하게 파악하기 위해서 양방향 RNN을 사용할 수도 있습니다. 문장을 순방향으로 읽는 RNN과 역방향으로 읽는 RNN을 이용해 나온 최종 은닉 상태를 합하여 사용합니다. 이때 디코더는 순방향으로 하나씩 출력해야하므로 디코더에선 양방향을 사용하지 않습니다."
   ]
  },
  {
   "cell_type": "markdown",
   "metadata": {},
   "source": [
    "## **4.2 Attention**"
   ]
  },
  {
   "cell_type": "markdown",
   "metadata": {},
   "source": [
    "Seq2Seq는 큰 문제점을 하나 가지고 있었습니다. 마지막 은닉 상태가 문장의 모든 의미를 함축해야 하는데 문장의 길이가 길어질수록 그것이 불가능하다는 것입니다. 즉, 앞쪽의 의미는 잊어버리게 됩니다. 이를 방지하기 위해 우리는 Attention이란 방법을 도입했었습니다.\n",
    "\n",
    "간단하게 말하면 인코더에서 구한 은닉 상태의 결과들을 디코더가 필요한 결과들을 위주로 사용하는 방법이었습니다. 예를 들어 곱셈 기반의 attention을 보겠습니다.\n",
    "\n",
    "![4-4-2](_image/4-4-2.PNG)\n",
    "\n",
    "먼저 인코더에서 구해진 은닉 상태를 다 저장합니다. 이제 디코더에서 은닉 상태를 거칠 때, 인코더의 은닉 상태들과 내적으로 유사도를 구하여 소프트맥스합니다. 그리고 그 비율을 각각 인코더의 은닉 상태에 곱하여 합한 뒤, 구해진 값을 디코더의 추가 입력값으로 사용합니다.\n",
    "\n",
    "예를 들어 기계 번역에선 문장에서 나와야 할 품사가 동일할 때 가중치가 더 높게 측정되는 것입니다. \n",
    "\n",
    "단어마다 어떤 단어에 가중치가 주어졌는지 그래프로 그려보면 다음과 같습니다. 가로축은 input, 세로축은 output 단어들입니다.\n",
    "\n",
    "![4-4-3](_image/4-4-3.PNG)\n",
    "\n",
    "(a)를 보면 중간에 어순이 바뀐 것을 확인할 수 있습니다. 또한 (b)를 보면 어떤 언어에선 하나의 단어가 다른 언어에선 여러 단어로 표현되는 것을 확인할 수 있습니다. \n",
    "\n",
    "이 이외도 다른 attention 방법이 있습니다. 예를 들어 concat 기반의 어텐션이 있습니다. 이는 인코더의 각각 은닉 상태들을 디코더의 은닉 상태와 concat하여 fc를 거치게 하고 하나의 노드를 출력으로 받습니다. 모든 인코더의 은닉 상태에게 적용하여 나온 값들을 가중치로 사용하여 적용하는 방법입니다. "
   ]
  },
  {
   "cell_type": "markdown",
   "metadata": {},
   "source": [
    "## 실습1. Seq2Seq with Attention"
   ]
  },
  {
   "cell_type": "markdown",
   "metadata": {},
   "source": [
    "이번 실습은 Seq2Seq 모델을 구현하고 attention 모듈을 추가해보겠습니다."
   ]
  },
  {
   "cell_type": "markdown",
   "metadata": {},
   "source": [
    "### **1) Seq2Seq with toy example**"
   ]
  },
  {
   "cell_type": "markdown",
   "metadata": {},
   "source": [
    "#### **데이터 전처리**"
   ]
  },
  {
   "cell_type": "code",
   "execution_count": 6,
   "metadata": {},
   "outputs": [],
   "source": [
    "from tqdm import tqdm\n",
    "from torch import nn\n",
    "from torch.nn.utils.rnn import pack_padded_sequence, pad_packed_sequence\n",
    "from torch.nn import functional as F\n",
    "\n",
    "import torch\n",
    "import random"
   ]
  },
  {
   "cell_type": "markdown",
   "metadata": {},
   "source": [
    "src_data를 trg_data로 바꾸는 번역 task를 수행하기 위한 sample data를 준비합니다.\n",
    "\n",
    "전체 단어 수는 100개이고 다음과 같이 pad token, start, token, end token의 id도 정의합니다."
   ]
  },
  {
   "cell_type": "code",
   "execution_count": 23,
   "metadata": {},
   "outputs": [],
   "source": [
    "vocab_size = 100\n",
    "pad_id = 0\n",
    "sos_id = 1 # <sos> : start of sentence\n",
    "eos_id = 2 # <eos> : end of sentnece\n",
    "\n",
    "src_data = [\n",
    "    [3, 77, 56, 26, 3, 55, 12, 36, 31],\n",
    "    [58, 20, 65, 46, 26, 10, 76, 44],\n",
    "    [58, 17, 8],\n",
    "    [59],\n",
    "    [29, 3, 52, 74, 73, 51, 39, 75, 19],\n",
    "    [41, 55, 77, 21, 52, 92, 97, 69, 54, 14, 93],\n",
    "    [39, 47, 96, 68, 55, 16, 90, 45, 89, 84, 19, 22, 32, 99, 5],\n",
    "    [75, 34, 17, 3, 86, 88],\n",
    "    [63, 39, 5, 35, 67, 56, 68, 89, 55, 66],\n",
    "    [12, 40, 69, 39, 49]\n",
    "]\n",
    "\n",
    "trg_data = [\n",
    "    [75, 13, 22, 77, 89, 21, 13, 86, 95],\n",
    "    [79, 14, 91, 41, 32, 79, 88, 34, 8, 68, 32, 77, 58, 7, 9, 87],\n",
    "    [85, 8, 50, 30],\n",
    "    [47, 30],\n",
    "    [8, 85, 87, 77, 47, 21, 23, 98, 83, 4, 47, 97, 40, 43, 70, 8, 65, 71, 69, 88],\n",
    "    [32, 37, 31, 77, 38, 93, 45, 74, 47, 54, 31, 18],\n",
    "    [37, 14, 49, 24, 93, 37, 54, 51, 39, 84],\n",
    "    [16, 98, 68, 57, 55, 46, 66, 85, 18],\n",
    "    [20, 70, 14, 6, 58, 90, 30, 17, 91, 18, 90],\n",
    "    [37, 93, 98, 13, 45, 28, 89, 72, 70]\n",
    "]"
   ]
  },
  {
   "cell_type": "code",
   "execution_count": 24,
   "metadata": {},
   "outputs": [
    {
     "name": "stderr",
     "output_type": "stream",
     "text": [
      "100%|██████████| 10/10 [00:00<?, ?it/s]\n"
     ]
    }
   ],
   "source": [
    "# target data의 각 문장의 시작과 끝에 <sos> token id와 <eos> token id를 추가합니다.\n",
    "trg_data = [[sos_id] + seq + [eos_id] for seq in tqdm(trg_data)]"
   ]
  },
  {
   "cell_type": "code",
   "execution_count": 25,
   "metadata": {},
   "outputs": [],
   "source": [
    "# 각 문장의 길이를 동일하게 맞춰주기 위해 <pad> token id를 추가하는 padding 함수를 정의합니다.\n",
    "def padding(data):\n",
    "    max_len = len(max(data, key=len))\n",
    "    print(f\"Maximum sequence length: {max_len}\")\n",
    "    \n",
    "    valid_lens = []\n",
    "    for i, seq in enumerate(tqdm(data)):\n",
    "        valid_lens.append(len(seq))\n",
    "        if len(seq) < max_len:\n",
    "            data[i] = seq + [pad_id] * (max_len - len(seq))\n",
    "    \n",
    "    return data, valid_lens, max_len"
   ]
  },
  {
   "cell_type": "code",
   "execution_count": 26,
   "metadata": {},
   "outputs": [
    {
     "name": "stdout",
     "output_type": "stream",
     "text": [
      "Maximum sequence length: 15\n"
     ]
    },
    {
     "name": "stderr",
     "output_type": "stream",
     "text": [
      "100%|██████████| 10/10 [00:00<00:00, 10017.44it/s]\n"
     ]
    },
    {
     "name": "stdout",
     "output_type": "stream",
     "text": [
      "Maximum sequence length: 22\n"
     ]
    },
    {
     "name": "stderr",
     "output_type": "stream",
     "text": [
      "100%|██████████| 10/10 [00:00<?, ?it/s]\n"
     ]
    }
   ],
   "source": [
    "src_data, src_lens, src_max_len = padding(src_data)\n",
    "trg_data, trg_lens, trg_max_len = padding(trg_data)"
   ]
  },
  {
   "cell_type": "code",
   "execution_count": 27,
   "metadata": {},
   "outputs": [
    {
     "name": "stdout",
     "output_type": "stream",
     "text": [
      "torch.Size([10, 15])\n",
      "torch.Size([10])\n",
      "torch.Size([10, 22])\n",
      "torch.Size([10])\n"
     ]
    }
   ],
   "source": [
    "# B: batch size,\n",
    "# S_L: source maximum sequence length\n",
    "# T_L: target maximum sequence length\n",
    "\n",
    "src_batch = torch.LongTensor(src_data) # (B, S_L)\n",
    "src_batch_lens = torch.LongTensor(src_lens) # (B)\n",
    "trg_batch = torch.LongTensor(trg_data) # (B, T_L)\n",
    "trg_batch_lens = torch.LongTensor(trg_lens) # (B)\n",
    "\n",
    "print(src_batch.shape)\n",
    "print(src_batch_lens.shape)\n",
    "print(trg_batch.shape)\n",
    "print(trg_batch_lens.shape)"
   ]
  },
  {
   "cell_type": "code",
   "execution_count": 28,
   "metadata": {},
   "outputs": [
    {
     "name": "stdout",
     "output_type": "stream",
     "text": [
      "tensor([[39, 47, 96, 68, 55, 16, 90, 45, 89, 84, 19, 22, 32, 99,  5],\n",
      "        [41, 55, 77, 21, 52, 92, 97, 69, 54, 14, 93,  0,  0,  0,  0],\n",
      "        [63, 39,  5, 35, 67, 56, 68, 89, 55, 66,  0,  0,  0,  0,  0],\n",
      "        [ 3, 77, 56, 26,  3, 55, 12, 36, 31,  0,  0,  0,  0,  0,  0],\n",
      "        [29,  3, 52, 74, 73, 51, 39, 75, 19,  0,  0,  0,  0,  0,  0],\n",
      "        [58, 20, 65, 46, 26, 10, 76, 44,  0,  0,  0,  0,  0,  0,  0],\n",
      "        [75, 34, 17,  3, 86, 88,  0,  0,  0,  0,  0,  0,  0,  0,  0],\n",
      "        [12, 40, 69, 39, 49,  0,  0,  0,  0,  0,  0,  0,  0,  0,  0],\n",
      "        [58, 17,  8,  0,  0,  0,  0,  0,  0,  0,  0,  0,  0,  0,  0],\n",
      "        [59,  0,  0,  0,  0,  0,  0,  0,  0,  0,  0,  0,  0,  0,  0]])\n",
      "tensor([15, 11, 10,  9,  9,  8,  6,  5,  3,  1])\n",
      "tensor([[ 1, 37, 14, 49, 24, 93, 37, 54, 51, 39, 84,  2,  0,  0,  0,  0,  0,  0,\n",
      "          0,  0,  0,  0],\n",
      "        [ 1, 32, 37, 31, 77, 38, 93, 45, 74, 47, 54, 31, 18,  2,  0,  0,  0,  0,\n",
      "          0,  0,  0,  0],\n",
      "        [ 1, 20, 70, 14,  6, 58, 90, 30, 17, 91, 18, 90,  2,  0,  0,  0,  0,  0,\n",
      "          0,  0,  0,  0],\n",
      "        [ 1, 75, 13, 22, 77, 89, 21, 13, 86, 95,  2,  0,  0,  0,  0,  0,  0,  0,\n",
      "          0,  0,  0,  0],\n",
      "        [ 1,  8, 85, 87, 77, 47, 21, 23, 98, 83,  4, 47, 97, 40, 43, 70,  8, 65,\n",
      "         71, 69, 88,  2],\n",
      "        [ 1, 79, 14, 91, 41, 32, 79, 88, 34,  8, 68, 32, 77, 58,  7,  9, 87,  2,\n",
      "          0,  0,  0,  0],\n",
      "        [ 1, 16, 98, 68, 57, 55, 46, 66, 85, 18,  2,  0,  0,  0,  0,  0,  0,  0,\n",
      "          0,  0,  0,  0],\n",
      "        [ 1, 37, 93, 98, 13, 45, 28, 89, 72, 70,  2,  0,  0,  0,  0,  0,  0,  0,\n",
      "          0,  0,  0,  0],\n",
      "        [ 1, 85,  8, 50, 30,  2,  0,  0,  0,  0,  0,  0,  0,  0,  0,  0,  0,  0,\n",
      "          0,  0,  0,  0],\n",
      "        [ 1, 47, 30,  2,  0,  0,  0,  0,  0,  0,  0,  0,  0,  0,  0,  0,  0,  0,\n",
      "          0,  0,  0,  0]])\n",
      "tensor([12, 14, 13, 11, 22, 18, 11, 11,  6,  4])\n"
     ]
    }
   ],
   "source": [
    "src_batch_lens, sorted_idx = src_batch_lens.sort(descending=True)\n",
    "src_batch = src_batch[sorted_idx]\n",
    "trg_batch = trg_batch[sorted_idx]\n",
    "trg_batch_lens = trg_batch_lens[sorted_idx]\n",
    "\n",
    "print(src_batch)\n",
    "print(src_batch_lens)\n",
    "print(trg_batch)\n",
    "print(trg_batch_lens)"
   ]
  },
  {
   "cell_type": "markdown",
   "metadata": {},
   "source": [
    "#### Encoder 구현\n",
    "- Embedding layer, output layer, GRU cell을 포함한 encoder 모듈을 구현합니다."
   ]
  },
  {
   "cell_type": "code",
   "execution_count": 29,
   "metadata": {},
   "outputs": [],
   "source": [
    "embedding_size = 256\n",
    "hidden_size = 512\n",
    "num_layers = 2\n",
    "num_dirs = 2 # 2 if bidirectional=True otherwise 1\n",
    "dropout = 0.1"
   ]
  },
  {
   "cell_type": "code",
   "execution_count": 30,
   "metadata": {},
   "outputs": [],
   "source": [
    "class Encoder(nn.Module):\n",
    "    def __init__(self):\n",
    "        super(Encoder, self).__init__()\n",
    "        self.embedding = nn.Embedding(vocab_size, embedding_size)\n",
    "        self.gru = nn.GRU(\n",
    "            input_size=embedding_size,\n",
    "            hidden_size=hidden_size,\n",
    "            num_layers=num_layers,\n",
    "            bidirectional=True if num_dirs > 1 else False,\n",
    "            dropout=dropout,\n",
    "        )\n",
    "        self.linear = nn.Linear(num_dirs * hidden_size, hidden_size)\n",
    "    \n",
    "    def forward(self, batch, batch_lens): # batch: (B, S_L), batch_lens: (B)\n",
    "        # d_w: word embedding size\n",
    "        batch_emb = self.embedding(batch) # (B, S_L, d_w)\n",
    "        batch_emb = batch_emb.transpose(0, 1) # (S_L, B, d_w)\n",
    "        \n",
    "        packed_input = pack_padded_sequence(batch_emb, batch_lens)\n",
    "        \n",
    "        h_0 = torch.zeros((num_layers * num_dirs, batch.shape[0], hidden_size)) # (num_dirs*num_layers, B, d_h) = (4, B, d_h)\n",
    "        packed_outputs, h_n = self.gru(packed_input, h_0) # h_n: (4, B, d_h)\n",
    "        outputs = pad_packed_sequence(packed_outputs)[0] # outputs: (S_L, B, 2d_h)\n",
    "        outputs = torch.tanh(self.linear(outputs)) # (S_L, B, d_h)\n",
    "        \n",
    "        forward_hidden = h_n[-2, :, :]\n",
    "        backward_hidden = h_n[-1, :, :]\n",
    "        hidden = torch.tanh(self.linear(torch.cat((forward_hidden, backward_hidden), dim=-1))).unsqueeze(0) # (1, B, d_h)\n",
    "        \n",
    "        return outputs, hidden"
   ]
  },
  {
   "cell_type": "code",
   "execution_count": 31,
   "metadata": {},
   "outputs": [],
   "source": [
    "encoder = Encoder()"
   ]
  },
  {
   "cell_type": "markdown",
   "metadata": {},
   "source": [
    "### **2) Dot-product Attention 구현**"
   ]
  },
  {
   "cell_type": "markdown",
   "metadata": {},
   "source": [
    "attention 중 대표적 형태인 dot-product attention을 구현하겠습니다."
   ]
  },
  {
   "cell_type": "code",
   "execution_count": 32,
   "metadata": {},
   "outputs": [],
   "source": [
    "class DotAttention(nn.Module):\n",
    "    def __init__(self):\n",
    "        super().__init__()\n",
    "    \n",
    "    def forward(self, decoder_hidden, encoder_outputs): # (1, B, d_h), (S_L, B, d_h)\n",
    "        query = decoder_hidden.squeeze(0) # (B, d_h)\n",
    "        key = encoder_outputs.transpose(0, 1) # (B, S_L, d_h)\n",
    "        \n",
    "        energy = torch.sum(torch.mul(key, query.unsqueeze(1)), dim=-1) # (B, S_L)\n",
    "        \n",
    "        attn_scores = F.softmax(energy, dim=-1) # (B, S_L)\n",
    "        attn_values = torch.sum(torch.mul(encoder_outputs.transpose(0, 1), attn_scores.unsqueeze(2)), dim=1) # (B, d_h)\n",
    "        \n",
    "        return attn_values, attn_scores"
   ]
  },
  {
   "cell_type": "code",
   "execution_count": 33,
   "metadata": {},
   "outputs": [],
   "source": [
    "dot_attn = DotAttention()"
   ]
  },
  {
   "cell_type": "markdown",
   "metadata": {},
   "source": [
    "이제 attention 모듈을 가지는 decoder 클래스를 구현하겠습니다."
   ]
  },
  {
   "cell_type": "code",
   "execution_count": 34,
   "metadata": {},
   "outputs": [],
   "source": [
    "class Decoder(nn.Module):\n",
    "    def __init__(self, attention):\n",
    "        super().__init__()\n",
    "        self.embedding = nn.Embedding(vocab_size, embedding_size)\n",
    "        self.attention = attention\n",
    "        self.rnn = nn.GRU(\n",
    "            embedding_size,\n",
    "            hidden_size,\n",
    "        )\n",
    "        self.output_linear = nn.Linear(2 * hidden_size, vocab_size)\n",
    "    \n",
    "    def forward(self, batch, encoder_outputs, hidden):\n",
    "        \"\"\"\n",
    "        Args:\n",
    "            batch : (B)\n",
    "            encoder_outputs: (L, B, d_h)\n",
    "            hidden: (1, B, d_h)\n",
    "        \"\"\"\n",
    "        batch_emb = self.embedding(batch) # (B, d_w)\n",
    "        batch_emb = batch_emb.unsqueeze(0) # (1, B, d_w)\n",
    "        \n",
    "        outputs, hidden = self.rnn(batch_emb, hidden) # (1, B, d_h), (1, B, d_h)\n",
    "        attn_values, attn_scores = self.attention(hidden, encoder_outputs) # (B, d_h), (B, S_L)\n",
    "        concat_outputs = torch.cat((outputs, attn_values.unsqueeze(0)), dim=-1) # (1, B, 2d_h)\n",
    "        \n",
    "        return self.output_linear(concat_outputs).squeeze(0), hidden # (B, V), (1, B, d_h)"
   ]
  },
  {
   "cell_type": "code",
   "execution_count": 35,
   "metadata": {},
   "outputs": [],
   "source": [
    "decoder = Decoder(dot_attn)"
   ]
  },
  {
   "cell_type": "markdown",
   "metadata": {},
   "source": [
    "### **3) Seq2Seq 모델 구축**"
   ]
  },
  {
   "cell_type": "code",
   "execution_count": 36,
   "metadata": {},
   "outputs": [],
   "source": [
    "class Seq2Seq(nn.Module):\n",
    "    def __init__(self, encoder, decoder):\n",
    "        super(Seq2Seq, self).__init__()\n",
    "        self.encoder = encoder\n",
    "        self.decoder = decoder\n",
    "    \n",
    "    def forward(self, src_batch, src_batch_lens, trg_batch, teacher_forcing_prob=0.5):\n",
    "        # src_batch: (B, S_L), src_batch_lens: (B), trg_batch: (B, T_L)\n",
    "        \n",
    "        # encoder_outputs: (S_L, B, d_h), hidden: (1, B, d_h)\n",
    "        encoder_outputs, hidden = self.encoder(src_batch, src_batch_lens) \n",
    "        \n",
    "        input_ids = trg_batch[:, 0] # (B)\n",
    "        batch_size = src_batch.shape[0]\n",
    "        outputs = torch.zeros(trg_max_len, batch_size, vocab_size) # (T_L, B, V)\n",
    "        \n",
    "        for t in range(1, trg_max_len):\n",
    "            # decoder_outputs: (B, V), hidden: (1, B, d_h)\n",
    "            decoder_outputs, hidden = self.decoder(input_ids, encoder_outputs, hidden)\n",
    "            \n",
    "            outputs[t] = decoder_outputs\n",
    "            _, top_ids = torch.max(decoder_outputs, dim=-1) # top_ids: (B)\n",
    "            \n",
    "            input_ids = trg_batch[:, t] if random.random() > teacher_forcing_prob else top_ids\n",
    "        \n",
    "        return outputs"
   ]
  },
  {
   "cell_type": "code",
   "execution_count": 37,
   "metadata": {},
   "outputs": [],
   "source": [
    "seq2seq = Seq2Seq(encoder, decoder)"
   ]
  },
  {
   "cell_type": "markdown",
   "metadata": {},
   "source": [
    "### **4) 모델 사용하기**"
   ]
  },
  {
   "cell_type": "code",
   "execution_count": 38,
   "metadata": {},
   "outputs": [
    {
     "name": "stdout",
     "output_type": "stream",
     "text": [
      "tensor([[[ 0.0000,  0.0000,  0.0000,  ...,  0.0000,  0.0000,  0.0000],\n",
      "         [ 0.0000,  0.0000,  0.0000,  ...,  0.0000,  0.0000,  0.0000],\n",
      "         [ 0.0000,  0.0000,  0.0000,  ...,  0.0000,  0.0000,  0.0000],\n",
      "         ...,\n",
      "         [ 0.0000,  0.0000,  0.0000,  ...,  0.0000,  0.0000,  0.0000],\n",
      "         [ 0.0000,  0.0000,  0.0000,  ...,  0.0000,  0.0000,  0.0000],\n",
      "         [ 0.0000,  0.0000,  0.0000,  ...,  0.0000,  0.0000,  0.0000]],\n",
      "\n",
      "        [[-0.0476, -0.0706, -0.0480,  ..., -0.0360, -0.1264, -0.1105],\n",
      "         [-0.0360, -0.0926, -0.0160,  ..., -0.0398, -0.1155, -0.0975],\n",
      "         [-0.0370, -0.0307, -0.0097,  ..., -0.0366, -0.1466, -0.0853],\n",
      "         ...,\n",
      "         [-0.0619, -0.0664, -0.0315,  ..., -0.0459, -0.1248, -0.0681],\n",
      "         [-0.0397, -0.0941, -0.0628,  ..., -0.0383, -0.1492, -0.1058],\n",
      "         [-0.0464, -0.0722, -0.0397,  ..., -0.0575, -0.1219, -0.1070]],\n",
      "\n",
      "        [[ 0.0566,  0.0247,  0.0921,  ..., -0.0740, -0.1147, -0.0941],\n",
      "         [ 0.1006, -0.1363, -0.0872,  ..., -0.0866, -0.0738, -0.0402],\n",
      "         [ 0.0830, -0.0025, -0.0901,  ..., -0.0033, -0.0938, -0.1105],\n",
      "         ...,\n",
      "         [ 0.0448,  0.0354,  0.0873,  ..., -0.0744, -0.1027, -0.0705],\n",
      "         [-0.0363,  0.0505, -0.0638,  ..., -0.1132, -0.0789, -0.0805],\n",
      "         [ 0.0252, -0.1121, -0.0074,  ..., -0.0606, -0.1374, -0.0013]],\n",
      "\n",
      "        ...,\n",
      "\n",
      "        [[-0.0445,  0.1121,  0.1322,  ...,  0.0137, -0.0070, -0.2259],\n",
      "         [-0.0700,  0.0950,  0.0992,  ...,  0.0074,  0.0204, -0.2266],\n",
      "         [-0.0444,  0.1465,  0.1398,  ...,  0.0291,  0.0215, -0.2402],\n",
      "         ...,\n",
      "         [-0.0361,  0.1392,  0.1096,  ..., -0.0003,  0.0096, -0.2335],\n",
      "         [-0.0426,  0.1305,  0.1159,  ...,  0.0084,  0.0080, -0.2614],\n",
      "         [-0.0423,  0.1394,  0.1214,  ...,  0.0130,  0.0209, -0.2602]],\n",
      "\n",
      "        [[-0.0428,  0.1019,  0.1194,  ...,  0.0227, -0.0052, -0.2364],\n",
      "         [-0.0614,  0.0934,  0.1016,  ...,  0.0208,  0.0184, -0.2404],\n",
      "         [-0.0415,  0.1373,  0.1271,  ...,  0.0379,  0.0218, -0.2524],\n",
      "         ...,\n",
      "         [-0.0352,  0.1294,  0.0969,  ...,  0.0111,  0.0116, -0.2437],\n",
      "         [-0.0419,  0.1203,  0.1024,  ...,  0.0195,  0.0111, -0.2694],\n",
      "         [-0.0418,  0.1289,  0.1078,  ...,  0.0239,  0.0239, -0.2681]],\n",
      "\n",
      "        [[-0.0415,  0.0959,  0.1102,  ...,  0.0285, -0.0038, -0.2436],\n",
      "         [-0.0550,  0.0933,  0.1002,  ...,  0.0286,  0.0181, -0.2503],\n",
      "         [-0.0393,  0.1321,  0.1178,  ...,  0.0433,  0.0223, -0.2603],\n",
      "         ...,\n",
      "         [-0.0346,  0.1234,  0.0878,  ...,  0.0185,  0.0131, -0.2507],\n",
      "         [-0.0416,  0.1140,  0.0929,  ...,  0.0266,  0.0134, -0.2748],\n",
      "         [-0.0415,  0.1224,  0.0984,  ...,  0.0309,  0.0260, -0.2736]]],\n",
      "       grad_fn=<CopySlices>)\n",
      "torch.Size([22, 10, 100])\n"
     ]
    }
   ],
   "source": [
    "# V: vocab size\n",
    "outputs = seq2seq(src_batch, src_batch_lens, trg_batch) # (T_L, B, V)\n",
    "print(outputs)\n",
    "print(outputs.shape)"
   ]
  },
  {
   "cell_type": "code",
   "execution_count": 39,
   "metadata": {},
   "outputs": [],
   "source": [
    "sample_sent = [4, 10, 88, 46, 72, 34, 14, 51]\n",
    "sample_len = len(sample_sent)\n",
    "\n",
    "sample_batch = torch.LongTensor(sample_sent).unsqueeze(0) # (1, L)\n",
    "sample_batch_len = torch.LongTensor([sample_len]) # (1)\n",
    "\n",
    "encoder_output, hidden = seq2seq.encoder(sample_batch, sample_batch_len) # hidden: (4, 1, d_h)"
   ]
  },
  {
   "cell_type": "code",
   "execution_count": 40,
   "metadata": {},
   "outputs": [],
   "source": [
    "input_id = torch.LongTensor([sos_id]) # (1)\n",
    "output = []\n",
    "\n",
    "for t in range(1, trg_max_len):\n",
    "    # decoder_output: (1, V), hidden: (4, 1, d_h)\n",
    "    decoder_output, hidden = seq2seq.decoder(input_id, encoder_output, hidden)\n",
    "    \n",
    "    _, top_id = torch.max(decoder_output, dim=-1) # top_ids: (1)\n",
    "    \n",
    "    if top_id == eos_id:\n",
    "        break\n",
    "    else:\n",
    "        output += top_id.tolist()\n",
    "        input_id = top_id"
   ]
  },
  {
   "cell_type": "code",
   "execution_count": 41,
   "metadata": {},
   "outputs": [
    {
     "data": {
      "text/plain": [
       "[31,\n",
       " 80,\n",
       " 84,\n",
       " 40,\n",
       " 95,\n",
       " 40,\n",
       " 88,\n",
       " 40,\n",
       " 65,\n",
       " 34,\n",
       " 73,\n",
       " 28,\n",
       " 10,\n",
       " 24,\n",
       " 91,\n",
       " 26,\n",
       " 12,\n",
       " 12,\n",
       " 12,\n",
       " 12,\n",
       " 12]"
      ]
     },
     "execution_count": 41,
     "metadata": {},
     "output_type": "execute_result"
    }
   ],
   "source": [
    "output"
   ]
  },
  {
   "cell_type": "markdown",
   "metadata": {},
   "source": [
    "### **5) Concat Attention 구현**"
   ]
  },
  {
   "cell_type": "markdown",
   "metadata": {},
   "source": [
    "Bahdanau Attention이라고도 불리는 Concat Attention을 구현해보겠습니다.\n",
    "- self.w: concat한 query와 key 벡터를 1차적으로 linear transformation.\n",
    "- self.v: attention logit 값을 계산."
   ]
  },
  {
   "cell_type": "code",
   "execution_count": 42,
   "metadata": {},
   "outputs": [],
   "source": [
    "class ConcatAttention(nn.Module):\n",
    "    def __init__(self):\n",
    "        super().__init__()\n",
    "        self.w = nn.Linear(2 * hidden_size, hidden_size, bias=False)\n",
    "        self.v = nn.Linear(hidden_size, 1, bias=False)\n",
    "    \n",
    "    def forward(self, decoder_hidden, encoder_outputs): # (1, B, d_h), (S_L, B, d_h)\n",
    "        src_max_len = encoder_outputs.shape[0]\n",
    "        \n",
    "        decoder_hidden = decoder_hidden.transpose(0, 1).repeat(1, src_max_len, 1) # (B, S_L, d_h)\n",
    "        encoder_outputs = encoder_outputs.transpose(0, 1) # (B, S_L, d_h)\n",
    "        \n",
    "        concat_hiddens = torch.cat((decoder_hidden, encoder_outputs), dim=2) # (B, S_L, 2d_h)\n",
    "        energy = torch.tanh(self.w(concat_hiddens)) # (B, S_L, d_h)\n",
    "        \n",
    "        attn_scores = F.softmax(self.v(energy), dim=1) # (B, S_L, 1)\n",
    "        attn_values = torch.sum(torch.mul(encoder_outputs, attn_scores), dim=1) # (B, d_h)\n",
    "        \n",
    "        return attn_values, attn_scores"
   ]
  },
  {
   "cell_type": "code",
   "execution_count": 43,
   "metadata": {},
   "outputs": [],
   "source": [
    "concat_attn = ConcatAttention()"
   ]
  },
  {
   "cell_type": "code",
   "execution_count": 44,
   "metadata": {},
   "outputs": [],
   "source": [
    "class Decoder(nn.Module):\n",
    "    def __init__(self, attention):\n",
    "        super().__init__()\n",
    "        self.embedding = nn.Embedding(vocab_size, embedding_size)\n",
    "        self.attention = attention\n",
    "        self.rnn = nn.GRU(\n",
    "            embedding_size + hidden_size,\n",
    "            hidden_size,\n",
    "        )\n",
    "        self.output_linear = nn.Linear(hidden_size, vocab_size)\n",
    "    \n",
    "    def forward(self, batch, encoder_outputs, hidden): \n",
    "        # batch: (B), encoder_outputs: (S_L, B, d_h), hidden: (1, B, d_h)\n",
    "        batch_emb = self.embedding(batch) # (B, d_w)\n",
    "        batch_emb = batch_emb.unsqueeze(0) # (1, B, d_w)\n",
    "        \n",
    "        attn_values, attn_scores = self.attention(hidden, encoder_outputs) # (B, d_h), (B, S_L)\n",
    "        concat_emb = torch.cat((batch_emb, attn_values.unsqueeze(0)), dim=-1) # (1, B, d_w + d_h)\n",
    "        outputs, hidden = self.rnn(concat_emb, hidden) # (1, B, d_h), (1, B, d_h)\n",
    "        \n",
    "        return self.output_linear(outputs).squeeze(0), hidden # (B, V), (1, B, d_h)"
   ]
  },
  {
   "cell_type": "code",
   "execution_count": 45,
   "metadata": {},
   "outputs": [],
   "source": [
    "decoder = Decoder(concat_attn)\n",
    "seq2seq = Seq2Seq(encoder, decoder)"
   ]
  },
  {
   "cell_type": "code",
   "execution_count": 46,
   "metadata": {},
   "outputs": [
    {
     "name": "stdout",
     "output_type": "stream",
     "text": [
      "tensor([[[ 0.0000,  0.0000,  0.0000,  ...,  0.0000,  0.0000,  0.0000],\n",
      "         [ 0.0000,  0.0000,  0.0000,  ...,  0.0000,  0.0000,  0.0000],\n",
      "         [ 0.0000,  0.0000,  0.0000,  ...,  0.0000,  0.0000,  0.0000],\n",
      "         ...,\n",
      "         [ 0.0000,  0.0000,  0.0000,  ...,  0.0000,  0.0000,  0.0000],\n",
      "         [ 0.0000,  0.0000,  0.0000,  ...,  0.0000,  0.0000,  0.0000],\n",
      "         [ 0.0000,  0.0000,  0.0000,  ...,  0.0000,  0.0000,  0.0000]],\n",
      "\n",
      "        [[ 0.1234, -0.0919,  0.0954,  ...,  0.0174, -0.0957,  0.0635],\n",
      "         [ 0.0748, -0.0693,  0.0969,  ...,  0.0345, -0.0742,  0.0858],\n",
      "         [ 0.0761, -0.0433,  0.0738,  ..., -0.0406, -0.1071,  0.0789],\n",
      "         ...,\n",
      "         [ 0.0550, -0.0180,  0.0806,  ..., -0.0030, -0.0848,  0.1004],\n",
      "         [ 0.0797, -0.0439,  0.1005,  ...,  0.0147, -0.0971,  0.0638],\n",
      "         [ 0.0514, -0.0450,  0.1144,  ...,  0.0259, -0.1010,  0.0609]],\n",
      "\n",
      "        [[-0.0212,  0.0125,  0.0370,  ..., -0.0458, -0.0731, -0.0334],\n",
      "         [-0.0589,  0.0125,  0.0457,  ..., -0.0460, -0.0658, -0.0264],\n",
      "         [-0.0607,  0.0353,  0.0419,  ..., -0.0753, -0.0857, -0.0265],\n",
      "         ...,\n",
      "         [-0.0694,  0.0475,  0.0353,  ..., -0.0655, -0.0614, -0.0113],\n",
      "         [-0.0673,  0.0363,  0.0507,  ..., -0.0583, -0.0700, -0.0386],\n",
      "         [-0.0786,  0.0351,  0.0567,  ..., -0.0538, -0.0697, -0.0344]],\n",
      "\n",
      "        ...,\n",
      "\n",
      "        [[-0.1755,  0.1572, -0.1401,  ...,  0.0178, -0.1422,  0.0904],\n",
      "         [-0.0350, -0.2412, -0.0698,  ..., -0.0938,  0.0814, -0.0316],\n",
      "         [-0.2355,  0.0217, -0.1771,  ..., -0.1213, -0.0469, -0.1071],\n",
      "         ...,\n",
      "         [-0.2572,  0.1105, -0.0361,  ..., -0.0130,  0.1346, -0.1780],\n",
      "         [-0.0286,  0.0276,  0.2028,  ...,  0.1104, -0.1056, -0.0120],\n",
      "         [-0.1494,  0.0849,  0.1229,  ..., -0.1065,  0.0329, -0.0645]],\n",
      "\n",
      "        [[-0.0428,  0.1872, -0.1489,  ..., -0.0396, -0.0277, -0.0952],\n",
      "         [-0.0054, -0.0692, -0.0783,  ..., -0.1333,  0.0268, -0.1651],\n",
      "         [-0.1482,  0.1468, -0.1828,  ..., -0.1198, -0.0458, -0.2241],\n",
      "         ...,\n",
      "         [-0.1111,  0.1853, -0.0878,  ...,  0.0039,  0.0613, -0.1889],\n",
      "         [-0.0183,  0.0920,  0.0304,  ...,  0.0139,  0.0010, -0.1439],\n",
      "         [-0.0888,  0.1568, -0.0254,  ..., -0.1437,  0.0029, -0.1730]],\n",
      "\n",
      "        [[-0.0043,  0.1780, -0.1649,  ..., -0.0872,  0.0090, -0.1809],\n",
      "         [-0.0138,  0.0235, -0.1073,  ..., -0.1672,  0.0121, -0.2183],\n",
      "         [-0.0945,  0.1763, -0.1795,  ..., -0.1487, -0.0348, -0.2644],\n",
      "         ...,\n",
      "         [-0.0561,  0.1961, -0.1283,  ..., -0.0613,  0.0306, -0.2075],\n",
      "         [-0.0152,  0.1272, -0.0532,  ..., -0.0618,  0.0340, -0.2008],\n",
      "         [-0.0664,  0.1772, -0.0980,  ..., -0.1714, -0.0078, -0.2245]]],\n",
      "       grad_fn=<CopySlices>)\n",
      "torch.Size([22, 10, 100])\n"
     ]
    }
   ],
   "source": [
    "outputs = seq2seq(src_batch, src_batch_lens, trg_batch)\n",
    "print(outputs)\n",
    "print(outputs.shape)"
   ]
  },
  {
   "cell_type": "markdown",
   "metadata": {},
   "source": [
    "# **5. Preprocessing**"
   ]
  },
  {
   "cell_type": "markdown",
   "metadata": {},
   "source": [
    "자연어 처리 과정의 맥락을 간단하게 살펴보면 다음과 같습니다.\n",
    "\n",
    "$$raw\\;data \\overset{pre-processing}{\\longrightarrow} pre-processed\\;data \\overset{tokenization}{\\longrightarrow} token \\; idx \\overset{input}{\\longrightarrow} output \\overset{post-processing}{\\longrightarrow} result$$\n",
    "\n",
    "#### **Normalization**\n",
    "preprocessing 과정이며 일반적으론 특정 범위에 값이 모두 들어가도록 처리하는 일련의 과정을 말합니다. nlp에선 입력받은 raw data를 가공하는 것을 말합니다. 예를 들어 문장의 좌우 공백 제거, utf-8로 변환, 온점을 문장과 뗴어놓기 등 필요에 따라 다양한 normalization을 할 수 있습니다. \n",
    "\n",
    "#### **Pre-tokenization**\n",
    "normalization을 거쳐도 바로 tokenization을 진행하기엔 무리가 있습니다. 특히 한국어는 띄어쓰기만으로 전처리를 해도 tokenization이 불가능하기에 문장을 더 작은 객체들로 나눠주는 pre-tokenization을 거쳐야합니다. \n",
    "\n",
    "#### **Tokenization**\n",
    "이제 전처리가 모두 끝난 객체(단어)들에 인덱싱하여 token으로 만들어 저장합니다. 이에 관련해선 이후 자세하게 배웁니다.\n",
    "\n",
    "#### **Post-processing**\n",
    "모델에 들어가 output이 나오면 이것을 우리가 받을 결과로 후처리하여 결과를 얻게 됩니다."
   ]
  },
  {
   "cell_type": "markdown",
   "metadata": {},
   "source": [
    "## **5.1 Normalization**"
   ]
  },
  {
   "cell_type": "markdown",
   "metadata": {},
   "source": [
    "Normalization은 크게 **Cleaning**과 **Normalization**으로 이루어집니다. Cleaning은 noise를 제거하는 것이고 Normalization은 단어들을 정규화하는 것입니다. 위에서 이야기했듯 정규화하는 방법과 종류는 다양합니다. \n",
    "\n",
    "#### **Cased / Uncased**\n",
    "Cased / Uncased는 대소문자를 구분할 지, 구분하지 않을지를 결정합니다. uncased를 사용해 대소문자 구분을 하지 않으면 단어의 수가 줄어들어 메모리를 확보할 수 있으나 자칫 여러 의미가 하나의 단어로 정의되어 성능이 떨어질 수 있습니다.\n",
    "\n",
    "하지만 현재 여러 언어들을 입력받아도 동작이 잘 되도록 하는 연구가 트렌드이고 단어가 많아질수록 사전의 비중이 너무 커져 막상 파라미터의 비중이 줄어드는 등의 이유로 uncased를 많이 사용합니다. 또한 두 개의 성능이 눈에 띄게 크기 않는 이유도 있습니다. 물론 어떤 목적이냐에 따라 cased가 더 효과적일 수도 있습니다. 그렇기에 두 개의 경우를 모두 확인하고 더 좋은 것을 사용하는 것이 일반적입니다.\n",
    "\n",
    "\n",
    "#### **Stemming, Lemmatization**\n",
    "Stemming은 단어들을 원형으로 바꿔주는 것을 의미합니다. 예를 들어 '먹었다'라는 과거형이 들어오면 '먹다'라는 일반형으로 바꿔준느 것입니다. 특별한 필요가 있을 때 사용하지만 대체적으로 사용하지 않습니다. 인위적으로 data를 바꾸는 것이 새로운 noise를 만들고 성능을 저하시키기 때문입니다.\n",
    "\n",
    "\n",
    "#### **불필요한 단어 제거**\n",
    "관심이 없는 단어이거나 의미가 없는 빈칸, 개별적 문자로 채워진 것들을 제거합니다.\n",
    "\n",
    "\n",
    "#### **Regular expression**\n",
    "개인 정보 등 데이터에서 공개되면 안 되는 것이 있을 때, 그것을 가리거나 제거하는 것을 말합니다. 예를 들어 신상정보가 있다면 그것을 x로 표시하거나 빈칸으로 대체하는 것을 말합니다. 이 역시 필요할 때만 사용합니다. \n",
    "\n",
    "대체적으로 파이썬의 re 패키지를 이용해 정규식으로 regular expression을 수행합니다. re 패키지를 사용할 때, 먼저 re.compile()을 사용하면 속도나 성능을 조금 끌어올릴 수 있습니다. (다른 re.함수들이 시작할 때마다 compile을 불러오지 않아도 됨으로) 다른 방법으로 NLTK도 있으나 거의 쓰이지 않는 추세입니다. "
   ]
  },
  {
   "cell_type": "markdown",
   "metadata": {},
   "source": [
    "## **5.2 Pre-tokenization**"
   ]
  },
  {
   "cell_type": "markdown",
   "metadata": {},
   "source": [
    "토큰화 작업 전 데이터를 가공할 땐, 기본적으로 특수 문자 제거와 공백에 따른 분리를 목표로 합니다. 물론 상황에 따라 안 하거나 다르게 할 수 있습니다. 예를 들어 aren't를 are not으로 바꾸는 것입니다. \n",
    "\n",
    "한국어의 경우 공백만으로 token을 나눌 수 없습니다. 그렇기에 띄어쓰기를 고치고 형태소 분석기를 사용하여 토큰화 전처리를 합니다. 지도학습 기반의 KoNLPy, Khaiii와 비지도학습 기반의 soynlp가 있습니다. 간단하게 여러 text 전처리 툴을 살펴보겠습니다."
   ]
  },
  {
   "cell_type": "markdown",
   "metadata": {},
   "source": [
    "### **0) Regular Expression**"
   ]
  },
  {
   "cell_type": "markdown",
   "metadata": {},
   "source": [
    "정규식 표현은 nlp에서 기본적으로 데이터 가공할 때 사용됩니다. \n",
    "\n",
    "> Reference: https://wikidocs.net/21703"
   ]
  },
  {
   "cell_type": "code",
   "execution_count": 47,
   "metadata": {},
   "outputs": [],
   "source": [
    "import re"
   ]
  },
  {
   "cell_type": "markdown",
   "metadata": {},
   "source": [
    ". 기호"
   ]
  },
  {
   "cell_type": "code",
   "execution_count": 49,
   "metadata": {},
   "outputs": [],
   "source": [
    "# 임의의 한 개의 문자를 나타내는 .\n",
    "r = re.compile(\"a.c\")\n",
    "r.search(\"ab\")"
   ]
  },
  {
   "cell_type": "code",
   "execution_count": 50,
   "metadata": {},
   "outputs": [
    {
     "data": {
      "text/plain": [
       "<re.Match object; span=(0, 3), match='abc'>"
      ]
     },
     "execution_count": 50,
     "metadata": {},
     "output_type": "execute_result"
    }
   ],
   "source": [
    "r.search(\"abc\")"
   ]
  },
  {
   "cell_type": "markdown",
   "metadata": {},
   "source": [
    "? 기호"
   ]
  },
  {
   "cell_type": "code",
   "execution_count": 51,
   "metadata": {},
   "outputs": [
    {
     "data": {
      "text/plain": [
       "<re.Match object; span=(1, 2), match='c'>"
      ]
     },
     "execution_count": 51,
     "metadata": {},
     "output_type": "execute_result"
    }
   ],
   "source": [
    "# ? 앞의 문자가 존재할 수도 있고, 존재하지 않을 수도 있는 경우\n",
    "r = re.compile(\"a?c\")\n",
    "r.search(\"bc\")"
   ]
  },
  {
   "cell_type": "code",
   "execution_count": 52,
   "metadata": {},
   "outputs": [
    {
     "data": {
      "text/plain": [
       "<re.Match object; span=(0, 2), match='ac'>"
      ]
     },
     "execution_count": 52,
     "metadata": {},
     "output_type": "execute_result"
    }
   ],
   "source": [
    "# 존재 하는 경우의 매칭\n",
    "r.search(\"ac\")"
   ]
  },
  {
   "cell_type": "code",
   "execution_count": 53,
   "metadata": {},
   "outputs": [
    {
     "data": {
      "text/plain": [
       "<re.Match object; span=(2, 3), match='c'>"
      ]
     },
     "execution_count": 53,
     "metadata": {},
     "output_type": "execute_result"
    }
   ],
   "source": [
    "# 존재하지 않는 경우의 매칭\n",
    "r.search(\"abc\")"
   ]
  },
  {
   "cell_type": "markdown",
   "metadata": {},
   "source": [
    "\\* 기호"
   ]
  },
  {
   "cell_type": "code",
   "execution_count": 54,
   "metadata": {},
   "outputs": [],
   "source": [
    "# *은 바로 앞의 문자가 0개 이상일 경우\n",
    "r = re.compile(\"ab*c\") # b가 하나도 없거나, 여러 개인 경우\n",
    "r.search(\"a\")"
   ]
  },
  {
   "cell_type": "code",
   "execution_count": 55,
   "metadata": {},
   "outputs": [
    {
     "data": {
      "text/plain": [
       "<re.Match object; span=(0, 2), match='ac'>"
      ]
     },
     "execution_count": 55,
     "metadata": {},
     "output_type": "execute_result"
    }
   ],
   "source": [
    "r.search(\"ac\")"
   ]
  },
  {
   "cell_type": "code",
   "execution_count": 57,
   "metadata": {},
   "outputs": [
    {
     "data": {
      "text/plain": [
       "<re.Match object; span=(0, 3), match='abc'>"
      ]
     },
     "execution_count": 57,
     "metadata": {},
     "output_type": "execute_result"
    }
   ],
   "source": [
    "r.search(\"abc\")"
   ]
  },
  {
   "cell_type": "code",
   "execution_count": 56,
   "metadata": {},
   "outputs": [
    {
     "data": {
      "text/plain": [
       "<re.Match object; span=(0, 6), match='abbbbc'>"
      ]
     },
     "execution_count": 56,
     "metadata": {},
     "output_type": "execute_result"
    }
   ],
   "source": [
    "r.search(\"abbbbc\")"
   ]
  },
  {
   "cell_type": "markdown",
   "metadata": {},
   "source": [
    "\\+ 기호"
   ]
  },
  {
   "cell_type": "code",
   "execution_count": 58,
   "metadata": {},
   "outputs": [],
   "source": [
    "# + 앞의 문자가 최소 1개 이상 있을 경우\n",
    "r = re.compile(\"ab+c\")\n",
    "r.search(\"ac\")"
   ]
  },
  {
   "cell_type": "code",
   "execution_count": 59,
   "metadata": {},
   "outputs": [
    {
     "data": {
      "text/plain": [
       "<re.Match object; span=(0, 3), match='abc'>"
      ]
     },
     "execution_count": 59,
     "metadata": {},
     "output_type": "execute_result"
    }
   ],
   "source": [
    "r.search(\"abc\")"
   ]
  },
  {
   "cell_type": "code",
   "execution_count": 60,
   "metadata": {},
   "outputs": [
    {
     "data": {
      "text/plain": [
       "<re.Match object; span=(0, 5), match='abbbc'>"
      ]
     },
     "execution_count": 60,
     "metadata": {},
     "output_type": "execute_result"
    }
   ],
   "source": [
    "r.search(\"abbbc\")"
   ]
  },
  {
   "cell_type": "markdown",
   "metadata": {},
   "source": [
    "^ 기호"
   ]
  },
  {
   "cell_type": "code",
   "execution_count": 61,
   "metadata": {},
   "outputs": [],
   "source": [
    "# ^ 시작되는 글자를 지정함\n",
    "r = re.compile(\"^a\")\n",
    "r.search(\"bbc\")"
   ]
  },
  {
   "cell_type": "code",
   "execution_count": 62,
   "metadata": {},
   "outputs": [
    {
     "data": {
      "text/plain": [
       "<re.Match object; span=(0, 1), match='a'>"
      ]
     },
     "execution_count": 62,
     "metadata": {},
     "output_type": "execute_result"
    }
   ],
   "source": [
    "r.search(\"ab\")"
   ]
  },
  {
   "cell_type": "markdown",
   "metadata": {},
   "source": [
    "{숫자} 기호"
   ]
  },
  {
   "cell_type": "code",
   "execution_count": 63,
   "metadata": {},
   "outputs": [],
   "source": [
    "# 앞 문자를 해당 숫자만큼 반복해야 함.\n",
    "r = re.compile(\"ab{2}c\")\n",
    "r.search(\"ac\")"
   ]
  },
  {
   "cell_type": "code",
   "execution_count": 64,
   "metadata": {},
   "outputs": [],
   "source": [
    "r.search(\"abc\")"
   ]
  },
  {
   "cell_type": "code",
   "execution_count": 65,
   "metadata": {},
   "outputs": [
    {
     "data": {
      "text/plain": [
       "<re.Match object; span=(0, 4), match='abbc'>"
      ]
     },
     "execution_count": 65,
     "metadata": {},
     "output_type": "execute_result"
    }
   ],
   "source": [
    "r.search(\"abbc\")"
   ]
  },
  {
   "cell_type": "markdown",
   "metadata": {},
   "source": [
    "{숫자1, 숫자2} 기호"
   ]
  },
  {
   "cell_type": "code",
   "execution_count": 70,
   "metadata": {},
   "outputs": [],
   "source": [
    "# 앞 문자를 숫자1 ~ 숫자2 만큼 반복해야 함\n",
    "r = re.compile(\"ab{2,8}c\") # 띄어쓰기 하면 안 됨\n",
    "r.search(\"ac\") "
   ]
  },
  {
   "cell_type": "code",
   "execution_count": 71,
   "metadata": {},
   "outputs": [],
   "source": [
    "r.search(\"abc\")"
   ]
  },
  {
   "cell_type": "code",
   "execution_count": 72,
   "metadata": {},
   "outputs": [
    {
     "data": {
      "text/plain": [
       "<re.Match object; span=(0, 4), match='abbc'>"
      ]
     },
     "execution_count": 72,
     "metadata": {},
     "output_type": "execute_result"
    }
   ],
   "source": [
    "r.search(\"abbc\")"
   ]
  },
  {
   "cell_type": "code",
   "execution_count": 73,
   "metadata": {},
   "outputs": [
    {
     "data": {
      "text/plain": [
       "<re.Match object; span=(0, 10), match='abbbbbbbbc'>"
      ]
     },
     "execution_count": 73,
     "metadata": {},
     "output_type": "execute_result"
    }
   ],
   "source": [
    "r.search(\"abbbbbbbbc\")"
   ]
  },
  {
   "cell_type": "code",
   "execution_count": 74,
   "metadata": {},
   "outputs": [],
   "source": [
    "r.search(\"abbbbbbbbbc\")"
   ]
  },
  {
   "cell_type": "markdown",
   "metadata": {},
   "source": [
    "{숫자,} 기호"
   ]
  },
  {
   "cell_type": "code",
   "execution_count": 75,
   "metadata": {},
   "outputs": [],
   "source": [
    "# 앞 문자를 숫자 이상만큼 반복해야 함\n",
    "r = re.compile(\"a{2,}bc\")\n",
    "r.search(\"abc\")"
   ]
  },
  {
   "cell_type": "code",
   "execution_count": 78,
   "metadata": {},
   "outputs": [
    {
     "data": {
      "text/plain": [
       "<re.Match object; span=(0, 4), match='aabc'>"
      ]
     },
     "execution_count": 78,
     "metadata": {},
     "output_type": "execute_result"
    }
   ],
   "source": [
    "r.search(\"aabc\")"
   ]
  },
  {
   "cell_type": "markdown",
   "metadata": {},
   "source": [
    "[] 기호"
   ]
  },
  {
   "cell_type": "code",
   "execution_count": 79,
   "metadata": {},
   "outputs": [],
   "source": [
    "# [] 안에 있는 문자들 중 한 개의 문자와 매치\n",
    "# 범위를 지정할 수도 있음. 예) a-z, A-Z, 0-9\n",
    "r = re.compile('[abc]')\n",
    "r.search(\"dd\")"
   ]
  },
  {
   "cell_type": "code",
   "execution_count": 80,
   "metadata": {},
   "outputs": [
    {
     "data": {
      "text/plain": [
       "<re.Match object; span=(0, 1), match='a'>"
      ]
     },
     "execution_count": 80,
     "metadata": {},
     "output_type": "execute_result"
    }
   ],
   "source": [
    "r.search(\"ad\")"
   ]
  },
  {
   "cell_type": "code",
   "execution_count": 83,
   "metadata": {},
   "outputs": [
    {
     "data": {
      "text/plain": [
       "<re.Match object; span=(0, 1), match='a'>"
      ]
     },
     "execution_count": 83,
     "metadata": {},
     "output_type": "execute_result"
    }
   ],
   "source": [
    "r.search(\"adb\")"
   ]
  },
  {
   "cell_type": "markdown",
   "metadata": {},
   "source": [
    "[^문자] 기호"
   ]
  },
  {
   "cell_type": "code",
   "execution_count": 84,
   "metadata": {},
   "outputs": [],
   "source": [
    "# ^ 기호 뒤에 붙은 문자들을 제외한 모든 문자를 매치함\n",
    "r = re.compile(\"[^abc]\") # abc를 제외한 모든 문자\n",
    "r.search(\"ab\")"
   ]
  },
  {
   "cell_type": "code",
   "execution_count": 85,
   "metadata": {},
   "outputs": [
    {
     "data": {
      "text/plain": [
       "<re.Match object; span=(3, 4), match='d'>"
      ]
     },
     "execution_count": 85,
     "metadata": {},
     "output_type": "execute_result"
    }
   ],
   "source": [
    "r.search(\"abcd\")"
   ]
  },
  {
   "cell_type": "code",
   "execution_count": 86,
   "metadata": {},
   "outputs": [
    {
     "data": {
      "text/plain": [
       "<re.Match object; span=(3, 4), match='e'>"
      ]
     },
     "execution_count": 86,
     "metadata": {},
     "output_type": "execute_result"
    }
   ],
   "source": [
    "r.search(\"abcedf\")"
   ]
  },
  {
   "cell_type": "markdown",
   "metadata": {},
   "source": [
    "### **1) KoNLPy**"
   ]
  },
  {
   "cell_type": "markdown",
   "metadata": {},
   "source": [
    "[KoNLPy](https://konlpy.org/en/latest/)는 Hannanum, Kkma, Komoran, Mecab, Okt 등 다양한 형태소 분석기를 제공합니다. 그리고 형태소로 나누는 함수, 명사만 뽑아내는 함수, 형태소와 묶어서 분리하는 함수 등 다양한 함수들이 있습니다."
   ]
  },
  {
   "cell_type": "code",
   "execution_count": 87,
   "metadata": {},
   "outputs": [
    {
     "name": "stdout",
     "output_type": "stream",
     "text": [
      "['환영', '하', 'ㅂ니다', '!', '자연어', '처리', '수업', '은', '재미있', '게', '듣', '고', '계시', 'ㄴ가', '요', '?']\n",
      "['환영', '자연어', '처리', '수업']\n",
      "[('환영', 'N'), ('하', 'X'), ('ㅂ니다', 'E'), ('!', 'S'), ('자연어', 'N'), ('처리', 'N'), ('수업', 'N'), ('은', 'J'), ('재미있', 'P'), ('게', 'E'), ('듣', 'P'), ('고', 'E'), ('계시', 'P'), ('ㄴ가', 'E'), ('요', 'J'), ('?', 'S')]\n"
     ]
    }
   ],
   "source": [
    "from konlpy.tag import Hannanum\n",
    "hannanum = Hannanum()\n",
    "text = '환영합니다! 자연어 처리 수업은 재미있게 듣고 계신가요?'\n",
    "print(hannanum.morphs(text))  # Parse phrase to morphemes\n",
    "print(hannanum.nouns(text))   # Noun extractors\n",
    "print(hannanum.pos(text))     # POS tagger"
   ]
  },
  {
   "cell_type": "code",
   "execution_count": 88,
   "metadata": {},
   "outputs": [
    {
     "name": "stdout",
     "output_type": "stream",
     "text": [
      "['환영', '하', 'ㅂ니다', '!', '자연어', '처리', '수업', '은', '재미있', '게', '듣', '고', '계시', 'ㄴ가요', '?']\n",
      "['환영', '자연어', '처리', '수업']\n",
      "[('환영', 'NNG'), ('하', 'XSV'), ('ㅂ니다', 'EFN'), ('!', 'SF'), ('자연어', 'NNG'), ('처리', 'NNG'), ('수업', 'NNG'), ('은', 'JX'), ('재미있', 'VA'), ('게', 'ECD'), ('듣', 'VV'), ('고', 'ECE'), ('계시', 'VXA'), ('ㄴ가요', 'EFQ'), ('?', 'SF')]\n"
     ]
    }
   ],
   "source": [
    "from konlpy.tag import Kkma\n",
    "kkma = Kkma()\n",
    "text = '환영합니다! 자연어 처리 수업은 재미있게 듣고 계신가요?'\n",
    "print(kkma.morphs(text))  # Parse phrase to morphemes\n",
    "print(kkma.nouns(text))   # Noun extractors\n",
    "print(kkma.pos(text))     # POS tagger"
   ]
  },
  {
   "cell_type": "markdown",
   "metadata": {},
   "source": [
    "### **2) Khaiii**"
   ]
  },
  {
   "cell_type": "markdown",
   "metadata": {},
   "source": [
    "[Khaiii](https://tech.kakao.com/2018/12/13/khaiii/)(Kakao Hangul Analyzer III)는 카카오의 딥러닝 기반 형태소 분석기입니다. 국립국어원에서 배포한 세종코퍼스로 학습하였습니다. 한국어에서 형태소 분석은 가장 기본적 전처리 과정으로 속도가 매우 중요하다는 판단하에 nlp에서 자주 쓰이는 LSTM이나 RNN을 제외하고 CNN을 사용하여 구현되었습니다. \n",
    "\n",
    "<img src = \"https://t1.daumcdn.net/thumb/R1280x0/?fname=http://t1.daumcdn.net/brunch/service/user/1oU7/image/DXlTnCNYfeYzWIR4kN428VouYKQ.png\">\n",
    "\n",
    "[Khaiii github](https://github.com/kakao/khaiii)\n",
    "\n",
    "윈도우는 지원하지 않기에 ubuntu 상에서 확인했습니다. \n",
    "\n",
    "ubuntu에서 `jupyter notebook` 명령어로 실행하여 확인하면 됩니다.\n",
    "\n",
    "[윈도우에서 khaiii 설치 방법](https://sy-log.tistory.com/55)"
   ]
  },
  {
   "cell_type": "markdown",
   "metadata": {},
   "source": [
    "### **3) PyKoSpacing**"
   ]
  },
  {
   "cell_type": "markdown",
   "metadata": {},
   "source": [
    "[PyKoSpacing](https://github.com/haven-jeon/PyKoSpacing)은 띄어쓰기가 되어있지 않은 문장에 띄어쓰기를 적용해줍니다. "
   ]
  },
  {
   "cell_type": "code",
   "execution_count": 4,
   "metadata": {},
   "outputs": [
    {
     "name": "stdout",
     "output_type": "stream",
     "text": [
      "띄어쓰기가 없는 문장:\n",
      " 구름자연어처리전문가양성과정2기에오신여러분을환영합니다!\n",
      "정답:\n",
      " 구름 자연어 처리 전문가 양성 과정 2기에 오신 여러분을 환영합니다!\n",
      "띄어쓰기 교정 후:\n",
      " 구름자연어 처리 전문가 양성과정 2기에 오신 여러분을 환영합니다!\n"
     ]
    }
   ],
   "source": [
    "from pykospacing import Spacing\n",
    "\n",
    "spacing = Spacing()\n",
    "\n",
    "sent = \"구름 자연어 처리 전문가 양성 과정 2기에 오신 여러분을 환영합니다!\"\n",
    "new_sent = sent.replace(\" \", \"\")\n",
    "kospacing_sent = spacing(new_sent)\n",
    "\n",
    "print(\"띄어쓰기가 없는 문장:\\n\", new_sent)\n",
    "print(\"정답:\\n\", sent)\n",
    "print(\"띄어쓰기 교정 후:\\n\", kospacing_sent)"
   ]
  },
  {
   "cell_type": "markdown",
   "metadata": {},
   "source": [
    "### **4) Py-Hanspell**"
   ]
  },
  {
   "cell_type": "markdown",
   "metadata": {},
   "source": [
    "네이버 한글 맞춤법 검사기를 바탕으로 만들어진 패키지입니다."
   ]
  },
  {
   "cell_type": "code",
   "execution_count": 2,
   "metadata": {},
   "outputs": [
    {
     "data": {
      "text/plain": [
       "{'result': True,\n",
       " 'original': '안녕 하세요. 저는 한국인 입니다. 이문장은 한글로 작성됬습니다.',\n",
       " 'checked': '안녕하세요. 저는 한국인입니다. 이 문장은 한글로 작성됐습니다.',\n",
       " 'errors': 4,\n",
       " 'words': OrderedDict([('안녕하세요.', 2),\n",
       "              ('저는', 0),\n",
       "              ('한국인입니다.', 2),\n",
       "              ('이', 2),\n",
       "              ('문장은', 2),\n",
       "              ('한글로', 0),\n",
       "              ('작성됐습니다.', 1)]),\n",
       " 'time': 0.13100790977478027}"
      ]
     },
     "execution_count": 2,
     "metadata": {},
     "output_type": "execute_result"
    }
   ],
   "source": [
    "from hanspell import spell_checker\n",
    "\n",
    "result = spell_checker.check(u'안녕 하세요. 저는 한국인 입니다. 이문장은 한글로 작성됬습니다.')\n",
    "result.as_dict()"
   ]
  },
  {
   "cell_type": "code",
   "execution_count": 3,
   "metadata": {},
   "outputs": [
    {
     "name": "stdout",
     "output_type": "stream",
     "text": [
      "맞춤법 틀리면 왜 안돼? 쓰고 싶은 대로 쓰면 되지\n"
     ]
    }
   ],
   "source": [
    "sent = \"맞춤법 틀리면 외 않되? 쓰고싶은대로쓰면돼지 \"\n",
    "spelled_sent = spell_checker.check(sent)\n",
    "\n",
    "hanspell_sent = spelled_sent.checked\n",
    "print(hanspell_sent)"
   ]
  },
  {
   "cell_type": "markdown",
   "metadata": {},
   "source": [
    "### **5) soynlp**"
   ]
  },
  {
   "cell_type": "markdown",
   "metadata": {},
   "source": [
    "[soynlp](https://github.com/lovit/soynlp)는 한국어와 관련된 전처리 함수와 여러 함수들이 모아져있는 라이브러리입니다. 비지도학습 기반이기에 어느 정도 규모가 있는 동일한 집단 문서에서 잘 작동합니다. 예를 들어 영화댓글이나 뉴스 기사 등이 있습니다. \n",
    "\n",
    "Noun extractor, word extraction, tokenizer, part of speech tagger, vectorizer, normalizer 등의 기능을 가진 함수들이 있습니다. 밑에는 그 중 normalization의 함수를 사용한 것입니다."
   ]
  },
  {
   "cell_type": "code",
   "execution_count": 5,
   "metadata": {},
   "outputs": [
    {
     "name": "stdout",
     "output_type": "stream",
     "text": [
      "ㅋㅋㅋㅜㅜㅜ\n",
      "와하하핫\n",
      "가나다ㅏㅑㅓㅋㅋ쿠ㅜㅜㅜ 아핫\n",
      "가나다ㅏㅑㅓㅋㅋ쿠ㅜㅜㅜ 123 아핫\n",
      "가나다ㅏㅑㅓㅋㅋ쿠ㅜㅜㅜabcd123!!아핫\n"
     ]
    }
   ],
   "source": [
    "from soynlp.normalizer import *\n",
    "\n",
    "print(emoticon_normalize('ㅋㅋㅋㅋㅋㅋㅋㅋㅋㅋㅋㅋㅋ쿠ㅜㅜㅜㅜㅜㅜ', num_repeats=3))\n",
    "\n",
    "print(repeat_normalize('와하하하하하하하하하핫', num_repeats=2))\n",
    "\n",
    "print(only_hangle('가나다ㅏㅑㅓㅋㅋ쿠ㅜㅜㅜabcd123!!아핫'))\n",
    "\n",
    "print(only_hangle_number('가나다ㅏㅑㅓㅋㅋ쿠ㅜㅜㅜabcd123!!아핫'))\n",
    "\n",
    "print(only_text('가나다ㅏㅑㅓㅋㅋ쿠ㅜㅜㅜabcd123!!아핫'))"
   ]
  },
  {
   "cell_type": "markdown",
   "metadata": {},
   "source": [
    "더 다양한 것은 각 라이브러리 홈페이지를 참고하면 됩니다."
   ]
  },
  {
   "cell_type": "markdown",
   "metadata": {},
   "source": [
    "## 실습1. 네이버 영화 감상평을 크롤링하고 전처리하기"
   ]
  },
  {
   "cell_type": "markdown",
   "metadata": {},
   "source": [
    "네이버 영화 감상평을 크롤링하고 전처리 과정을 거쳐 보겠습니다."
   ]
  },
  {
   "cell_type": "code",
   "execution_count": 4,
   "metadata": {},
   "outputs": [],
   "source": [
    "from urllib.request import urlopen # 웹서버에 접근하는 모듈\n",
    "from bs4 import BeautifulSoup # 웹페이지 내용구조를 분석하는 모듈"
   ]
  },
  {
   "cell_type": "markdown",
   "metadata": {},
   "source": [
    "### **1) 네이버 영화 감상평 크롤링**"
   ]
  },
  {
   "cell_type": "code",
   "execution_count": 5,
   "metadata": {},
   "outputs": [],
   "source": [
    "url='https://movie.naver.com/movie/bi/mi/pointWriteFormList.naver?code=187348&type=after&isActualPointWriteExecute=false&isMileageSubscriptionAlready=false&isMileageSubscriptionReject=false&page=1'\n",
    "html=urlopen(url)\n",
    "html_source = BeautifulSoup(html,'html.parser',from_encoding='utf-8') # 댓글 페이지를 utf-8형식으로 html 소스가져오기"
   ]
  },
  {
   "cell_type": "code",
   "execution_count": 7,
   "metadata": {},
   "outputs": [
    {
     "name": "stdout",
     "output_type": "stream",
     "text": [
      "\n",
      "<!DOCTYPE html>\n",
      "\n",
      "<html lang=\"ko\">\n",
      "<head>\n",
      "<meta charset=\"utf-8\"/>\n",
      "<meta content=\"IE=edge\" http-equiv=\"X-UA-Compatible\"/>\n",
      "<title>네이버 영화</title>\n",
      "<link href=\"https://ssl.pstatic.net/static/m/movie/icons/naver_movie_favicon.ico\" rel=\"shortcut icon\" type=\"image/x-icon\"/>\n",
      "<link href=\"/css/common.css?20220110163618\" rel=\"stylesheet\" type=\"text/css\">\n",
      "<link href=\"/css/movie_tablet.css?20220110163618\" rel=\"stylesheet\" type=\"text/css\"/>\n",
      "<link href=\"/css/movie_end.css?20220110163618\" rel=\"stylesheet\" type=\"text/css\"/>\n",
      "<script src=\"/js/deploy/movie.all.js?20220110163618\" type=\"text/javascript\"></script>\n",
      "</link></head>\n",
      "<body>\n",
      "<!-- content -->\n",
      "<input id=\"movieCode\" name=\"movieCode\" type=\"hidden\" value=\"187348\"/>\n",
      "<input id=\"onlyActualPointYn\" name=\"onlyActualPointYn\" type=\"hidden\" value=\"N\"/>\n",
      "<input id=\"includeSpoilerYn\" name=\"includeSpoilerYn\" type=\"hidden\" value=\"N\"/>\n",
      "<input id=\"order\" name=\"order\" type=\"hidden\" value=\"sympathyScore\"/>\n",
      "<input id=\"page\" name=\"page\" type=\"hidden\" value=\"1\"/>\n",
      "<div class=\"ifr_area basic_ifr\">\n",
      "<div class=\"input_netizen \">\n",
      "<!-- [D] 관람객 평점 작성 완료 -->\n",
      "<div class=\"ly_viewer\" id=\"actualPointWriteExecuteLayer\" style=\"display:none\">\n",
      "<h4>관람객 평점 작성 완료 안내</h4>\n",
      "<p>관람객 평점이 등록되었습니다.<br/><em>네이버페이 포인트 500원</em>이 적립되었습니다.<br/><em>7일 이후</em> 확인 가능합니다.</p>\n",
      "<p>(평점 삭제시, 적립된 포인트는 회수됩니다.)</p>\n",
      "<div class=\"btn\">\n",
      "<a class=\"ok\" href=\"#\" id=\"actualPointWriteExecuteLayerOkButton\">확인</a>\n",
      "<a class=\"close\" href=\"#\" id=\"actualPointWriteExecuteLayerCloseButton\" title=\"닫기\">관람객 평점 작성 완료 안내 레이어 닫기</a>\n",
      "</div>\n",
      "</div>\n",
      "<!-- //관람객 평점 작성 완료 -->\n",
      "<!-- [D] 관람객 평점 작성 완료2 -->\n",
      "<div class=\"ly_viewer\" id=\"pointWriteExecuteLayer\" style=\"display:none\">\n",
      "<h4>관람객 평점 작성 완료 안내</h4>\n",
      "<p class=\"msg1\">관람객 평점이 등록되었습니다.</p>\n",
      "<div class=\"btn\">\n",
      "<a class=\"ok\" href=\"#\" id=\"pointWriteExecuteLayerOkButton\">확인</a>\n",
      "<a class=\"close\" href=\"#\" id=\"pointWriteExecuteLayerCloseButton\" title=\"닫기\">관람객 평점 작성 완료 안내 레이어 닫기</a>\n",
      "</div>\n",
      "</div>\n",
      "<!-- //관람객 평점 작성 완료2 -->\n",
      "<div class=\"score_total\">\n",
      "<strong class=\"total\">관람객 평점 <em>9,035</em>건<button class=\"btn_review\" id=\"open-form-btn\">내 평점 등록</button></strong>\n",
      "</div>\n",
      "<div class=\"top_behavior\" id=\"orderCheckbox\">\n",
      "<ul class=\"sorting_list\">\n",
      "<li class=\"on\"><a href=\"#\" onclick=\"parent.clickcr(this, 'ara.bysym', '', '', event); dislplayOrder('sympathyScore');\">공감순</a></li>\n",
      "<li><a href=\"#\" onclick=\"parent.clickcr(this, 'ara.byrct', '', '', event); dislplayOrder('newest');\">최신순</a></li>\n",
      "<li><a href=\"#\" onclick=\"parent.clickcr(this, 'ara.high', '', '', event); dislplayOrder('highest');\">평점 높은 순</a></li>\n",
      "<li><a href=\"#\" onclick=\"parent.clickcr(this, 'ara.low', '', '', event); dislplayOrder('lowest');\">평점 낮은 순</a></li>\n",
      "</ul>\n",
      "<ul class=\"quarter_mode\">\n",
      "<li>\n",
      "<input class=\"blind \" id=\"spoilerYnCheckBox\" name=\"spilerViewer\" onclick=\"parent.clickcr(this,'','','',event); return false;\" title=\"스포일러 보기\" type=\"checkbox\"/>\n",
      "<label class=\"label_viewer\" for=\"spoilerYnCheckBox\" id=\"spoilerYnLable\">스포일러 보기</label>\n",
      "</li>\n",
      "<li>\n",
      "<input class=\"blind \" id=\"actualYnCheckBox\" name=\"viewer\" onclick=\"parent.clickcr(this,'ura.mgs','','',event); return false;\" title=\"관람객 평점만 보기\" type=\"checkbox\"/>\n",
      "<label class=\"label_viewer\" for=\"actualYnCheckBox\" id=\"actualYnLable\">관람객 평점만 보기</label>\n",
      "<a class=\"help _actualPointHelp\" href=\"#\" id=\"actualPointHelpButton\" title=\"도움말\">관람객 평점만 보기 도움말</a>\n",
      "<div class=\"ly_help _actualPointHelp\" id=\"actualPointHelp\" style=\"display:none\">\n",
      "<h5>관람객평점만 보기 안내 레이어</h5>\n",
      "<div class=\"ly_cont _actualPointHelp\">\n",
      "<p>네이버 영화에서 예매하신 고객님들이<br/> 영화 관람 후 등록해주신 평점입니다.</p>\n",
      "</div>\n",
      "<button class=\"btn_close _actualPointHelp\" id=\"actualPointHelpCloseButton\" title=\"닫기\" type=\"button\"><span class=\"blind\">관람객 평점만 보기 안내 레이어 닫기</span></button>\n",
      "<span class=\"arr _actualPointHelp\"></span>\n",
      "</div>\n",
      "</li>\n",
      "</ul>\n",
      "</div>\n",
      "<div class=\"score_result\">\n",
      "<ul>\n",
      "<li>\n",
      "<div class=\"star_score\">\n",
      "<span class=\"st_off\"><span class=\"st_on\" style=\"width:60.0%\"></span></span><em>6</em>\n",
      "</div>\n",
      "<div class=\"score_reple\">\n",
      "<p>\n",
      "<span class=\"ico_viewer\">관람객</span>\n",
      "<!-- 스포일러 컨텐츠로 처리되는지 여부 -->\n",
      "<span id=\"_filtered_ment_0\">\n",
      "\t\t\t\t\t\t\t\t\t\t\t\t\t\t\n",
      "\t\t\t\t\t\t\t\t\t\t\t\t\t\t\t\n",
      "\t\t\t\t\t\t\t\t\t\t\t\t\t\t\t\n",
      "\t\t\t\t\t\t\t\t\t\t\t\t\t\t\t\t명품 브랜드라 믿고 샀는데 안에 made in china가 적혀있었다 \n",
      "\t\t\t\t\t\t\t\t\t\t\t\t\t\t\t\n",
      "\t\t\t\t\t\t\t\t\t\t\t\t\t\t\n",
      "\t\t\t\t\t\t\t\t\t\t\t\t\t\t\n",
      "\t\t\t\t\t\t\t\t\t\t\t\t\t</span>\n",
      "</p>\n",
      "<dl>\n",
      "<dt>\n",
      "<em>\n",
      "<a href=\"#\" onclick=\"javascript:showPointListByNid(17683851, 'after');parent.clickcr(this, 'ara.uid', '', '', event); return false;\" target=\"_top\">\n",
      "<span>유한솔(u_hs****)</span>\n",
      "</a>\n",
      "</em>\n",
      "<em>2021.09.01 23:12</em>\n",
      "</dt>\n",
      "<dd>\n",
      "<a class=\"go_report2\" href=\"#\" onclick=\"parent.clickcr(this, 'ara.report', '', '', event); common.report('false','u_hs****', '5yeZlbUoM83MSnyA4B69g2/9Kp6/vWUPiWtbjRDZ/Ic=', '17683851', 'point_after', false);return false;\"><em>신고</em></a>\n",
      "</dd>\n",
      "</dl>\n",
      "</div>\n",
      "<div class=\"btn_area\">\n",
      "<a class=\"_sympathyButton\" href=\"#\" onclick=\"parent.clickcr(this, 'ara.sym', '', '', event);\">\n",
      "<span class=\"ico_up\"></span>\n",
      "<span class=\"blind\">공감</span>\n",
      "<strong class=\"sympathy_17683851\">3530</strong>\n",
      "</a>\n",
      "<a class=\"_notSympathyButton\" href=\"#\" onclick=\"parent.clickcr(this, 'ara.opp', '', '', event);\">\n",
      "<span class=\"ico_down\"></span>\n",
      "<span class=\"blind\">비공감</span>\n",
      "<strong class=\"notSympathy_17683851\">999</strong>\n",
      "</a>\n",
      "</div>\n",
      "</li>\n",
      "<li>\n",
      "<div class=\"star_score\">\n",
      "<span class=\"st_off\"><span class=\"st_on\" style=\"width:60.0%\"></span></span><em>6</em>\n",
      "</div>\n",
      "<div class=\"score_reple\">\n",
      "<p>\n",
      "<span class=\"ico_viewer\">관람객</span>\n",
      "<!-- 스포일러 컨텐츠로 처리되는지 여부 -->\n",
      "<span id=\"_filtered_ment_1\">\n",
      "<span class=\"_unfold_ment\" id=\"_unfold_ment1\">\n",
      "<a data-src=\"자세히 보면 중국 문화 올려치는 영화입니다. 초반부터 똥양계는 무조건 한국인 취급하는데 우리는 당당히 중국인이다. ㅇㅈㄹ하고요. 깊고 정통한 중국 문화는 대를 이어서 간다. 마카오에서 K-POP 댄스 추는 거 보고 무조건 힙하지? 우리 중국 문화야 ㅋ 구미호, 기린, 용은 우리 문화다. 사람 죽으면 물에 연등 띄우는 거? 우리 중국 문화다. 동북공정 영화입니다. 영화는 자세히 보세요. 의도가 있습니다. \" href=\"javascript:void(0);\" onclick=\"unfoldPointMent(this);\">\n",
      "\t\t\t\t\t\t\t\t\t\t\t\t\t\t\t\t\t\t자세히 보면 중국 문화 올려치는 영화입니다. 초반부터 똥양계는 무조건 한국인 취급하는데 우리는 당당히 중국인이다. ㅇㅈㄹ하고요. 깊고 정통한 중국 문화는 대를 이어서 간다. 마카오에서 K-POP 댄스 추는 거 보고 ...\n",
      "\t\t\t\t\t\t\t\t\t\t\t\t\t\t\t\t\t</a>\n",
      "</span>\n",
      "</span>\n",
      "</p>\n",
      "<dl>\n",
      "<dt>\n",
      "<em>\n",
      "<a href=\"#\" onclick=\"javascript:showPointListByNid(17684413, 'after');parent.clickcr(this, 'ara.uid', '', '', event); return false;\" target=\"_top\">\n",
      "<span>다른별명(quda****)</span>\n",
      "</a>\n",
      "</em>\n",
      "<em>2021.09.02 09:07</em>\n",
      "</dt>\n",
      "<dd>\n",
      "<a class=\"go_report2\" href=\"#\" onclick=\"parent.clickcr(this, 'ara.report', '', '', event); common.report('false','quda****', 'yDhDuoAGvFlSapTkwfceEoomxBNCGqOlYHBXUhATmZs=', '17684413', 'point_after', false);return false;\"><em>신고</em></a>\n",
      "</dd>\n",
      "</dl>\n",
      "</div>\n",
      "<div class=\"btn_area\">\n",
      "<a class=\"_sympathyButton\" href=\"#\" onclick=\"parent.clickcr(this, 'ara.sym', '', '', event);\">\n",
      "<span class=\"ico_up\"></span>\n",
      "<span class=\"blind\">공감</span>\n",
      "<strong class=\"sympathy_17684413\">2452</strong>\n",
      "</a>\n",
      "<a class=\"_notSympathyButton\" href=\"#\" onclick=\"parent.clickcr(this, 'ara.opp', '', '', event);\">\n",
      "<span class=\"ico_down\"></span>\n",
      "<span class=\"blind\">비공감</span>\n",
      "<strong class=\"notSympathy_17684413\">765</strong>\n",
      "</a>\n",
      "</div>\n",
      "</li>\n",
      "<li>\n",
      "<div class=\"star_score\">\n",
      "<span class=\"st_off\"><span class=\"st_on\" style=\"width:10.0%\"></span></span><em>1</em>\n",
      "</div>\n",
      "<div class=\"score_reple\">\n",
      "<p>\n",
      "<span class=\"ico_viewer\">관람객</span>\n",
      "<!-- 스포일러 컨텐츠로 처리되는지 여부 -->\n",
      "<span id=\"_filtered_ment_2\">\n",
      "\t\t\t\t\t\t\t\t\t\t\t\t\t\t\n",
      "\t\t\t\t\t\t\t\t\t\t\t\t\t\t\t\n",
      "\t\t\t\t\t\t\t\t\t\t\t\t\t\t\t\n",
      "\t\t\t\t\t\t\t\t\t\t\t\t\t\t\t\t마블의 중국산 D-War \n",
      "\t\t\t\t\t\t\t\t\t\t\t\t\t\t\t\n",
      "\t\t\t\t\t\t\t\t\t\t\t\t\t\t\n",
      "\t\t\t\t\t\t\t\t\t\t\t\t\t\t\n",
      "\t\t\t\t\t\t\t\t\t\t\t\t\t</span>\n",
      "</p>\n",
      "<dl>\n",
      "<dt>\n",
      "<em>\n",
      "<a href=\"#\" onclick=\"javascript:showPointListByNid(17683609, 'after');parent.clickcr(this, 'ara.uid', '', '', event); return false;\" target=\"_top\">\n",
      "<span>eodb****</span>\n",
      "</a>\n",
      "</em>\n",
      "<em>2021.09.01 21:52</em>\n",
      "</dt>\n",
      "<dd>\n",
      "<a class=\"go_report2\" href=\"#\" onclick=\"parent.clickcr(this, 'ara.report', '', '', event); common.report('false','eodb****', 'tREtwejBYWKbW6jlqJ1pIjGadMB7X8Mut/wC4lCPwbg=', '17683609', 'point_after', false);return false;\"><em>신고</em></a>\n",
      "</dd>\n",
      "</dl>\n",
      "</div>\n",
      "<div class=\"btn_area\">\n",
      "<a class=\"_sympathyButton\" href=\"#\" onclick=\"parent.clickcr(this, 'ara.sym', '', '', event);\">\n",
      "<span class=\"ico_up\"></span>\n",
      "<span class=\"blind\">공감</span>\n",
      "<strong class=\"sympathy_17683609\">1672</strong>\n",
      "</a>\n",
      "<a class=\"_notSympathyButton\" href=\"#\" onclick=\"parent.clickcr(this, 'ara.opp', '', '', event);\">\n",
      "<span class=\"ico_down\"></span>\n",
      "<span class=\"blind\">비공감</span>\n",
      "<strong class=\"notSympathy_17683609\">524</strong>\n",
      "</a>\n",
      "</div>\n",
      "</li>\n",
      "<li>\n",
      "<div class=\"star_score\">\n",
      "<span class=\"st_off\"><span class=\"st_on\" style=\"width:50.0%\"></span></span><em>5</em>\n",
      "</div>\n",
      "<div class=\"score_reple\">\n",
      "<p>\n",
      "<span class=\"ico_viewer\">관람객</span>\n",
      "<!-- 스포일러 컨텐츠로 처리되는지 여부 -->\n",
      "<span id=\"_filtered_ment_3\">\n",
      "<span class=\"_unfold_ment\" id=\"_unfold_ment3\">\n",
      "<a data-src=\"세계관이나 설정들이 너무 붕 떠있고 개연성은 밥말아 먹어놓고 억지 신파 끼워넣기에 주인공은 무색무취 아무 매력 없음. 10초전 까지 죽일듯이 싸우던 애들이 갑자기 우리 함께 싸우자 ㅇㅈㄹ 하질 않나. 아부지 행동들 감정기복 너무 심해서 공감도 안가고, 사건들이 빌드업도 없이 무지성으로 튀어나오니까 몰입도 안 됨. 배우가 너무 아깝다. \" href=\"javascript:void(0);\" onclick=\"unfoldPointMent(this);\">\n",
      "\t\t\t\t\t\t\t\t\t\t\t\t\t\t\t\t\t\t세계관이나 설정들이 너무 붕 떠있고 개연성은 밥말아 먹어놓고 억지 신파 끼워넣기에 주인공은 무색무취 아무 매력 없음. 10초전 까지 죽일듯이 싸우던 애들이 갑자기 우리 함께 싸우자 ㅇㅈㄹ 하질 않나. 아부지 행동들 ...\n",
      "\t\t\t\t\t\t\t\t\t\t\t\t\t\t\t\t\t</a>\n",
      "</span>\n",
      "</span>\n",
      "</p>\n",
      "<dl>\n",
      "<dt>\n",
      "<em>\n",
      "<a href=\"#\" onclick=\"javascript:showPointListByNid(17682177, 'after');parent.clickcr(this, 'ara.uid', '', '', event); return false;\" target=\"_top\">\n",
      "<span>멍멍(mild****)</span>\n",
      "</a>\n",
      "</em>\n",
      "<em>2021.09.01 11:21</em>\n",
      "</dt>\n",
      "<dd>\n",
      "<a class=\"go_report2\" href=\"#\" onclick=\"parent.clickcr(this, 'ara.report', '', '', event); common.report('false','mild****', 'ojMhodyJCw+vC49FARXW6LajOidxylKbd4sd7FWy2YM=', '17682177', 'point_after', false);return false;\"><em>신고</em></a>\n",
      "</dd>\n",
      "</dl>\n",
      "</div>\n",
      "<div class=\"btn_area\">\n",
      "<a class=\"_sympathyButton\" href=\"#\" onclick=\"parent.clickcr(this, 'ara.sym', '', '', event);\">\n",
      "<span class=\"ico_up\"></span>\n",
      "<span class=\"blind\">공감</span>\n",
      "<strong class=\"sympathy_17682177\">1632</strong>\n",
      "</a>\n",
      "<a class=\"_notSympathyButton\" href=\"#\" onclick=\"parent.clickcr(this, 'ara.opp', '', '', event);\">\n",
      "<span class=\"ico_down\"></span>\n",
      "<span class=\"blind\">비공감</span>\n",
      "<strong class=\"notSympathy_17682177\">502</strong>\n",
      "</a>\n",
      "</div>\n",
      "</li>\n",
      "<li>\n",
      "<div class=\"star_score\">\n",
      "<span class=\"st_off\"><span class=\"st_on\" style=\"width:50.0%\"></span></span><em>5</em>\n",
      "</div>\n",
      "<div class=\"score_reple\">\n",
      "<p>\n",
      "<span class=\"ico_viewer\">관람객</span>\n",
      "<!-- 스포일러 컨텐츠로 처리되는지 여부 -->\n",
      "<span id=\"_filtered_ment_4\">\n",
      "\t\t\t\t\t\t\t\t\t\t\t\t\t\t\n",
      "\t\t\t\t\t\t\t\t\t\t\t\t\t\t\t\n",
      "\t\t\t\t\t\t\t\t\t\t\t\t\t\t\t\n",
      "\t\t\t\t\t\t\t\t\t\t\t\t\t\t\t\t마블의 탈을 쓴 중국 무협영화. 중국 시장과 자본을 지나치게 의식한 디즈니의 연이은 헛발질. CG 범벅에 협소한 공간에서 몇 안되는 인원들의 액션 등 스케일마저 왜 이리 작아진 건지... \n",
      "\t\t\t\t\t\t\t\t\t\t\t\t\t\t\t\n",
      "\t\t\t\t\t\t\t\t\t\t\t\t\t\t\n",
      "\t\t\t\t\t\t\t\t\t\t\t\t\t\t\n",
      "\t\t\t\t\t\t\t\t\t\t\t\t\t</span>\n",
      "</p>\n",
      "<dl>\n",
      "<dt>\n",
      "<em>\n",
      "<a href=\"#\" onclick=\"javascript:showPointListByNid(17684461, 'after');parent.clickcr(this, 'ara.uid', '', '', event); return false;\" target=\"_top\">\n",
      "<span>삼생삼세(lexp****)</span>\n",
      "</a>\n",
      "</em>\n",
      "<em>2021.09.02 10:25</em>\n",
      "</dt>\n",
      "<dd>\n",
      "<a class=\"go_report2\" href=\"#\" onclick=\"parent.clickcr(this, 'ara.report', '', '', event); common.report('false','lexp****', 'R9qgmU3/u5wIhbcc9qwxbAqnEQDmQoQBBGF+r/BIDoM=', '17684461', 'point_after', false);return false;\"><em>신고</em></a>\n",
      "</dd>\n",
      "</dl>\n",
      "</div>\n",
      "<div class=\"btn_area\">\n",
      "<a class=\"_sympathyButton\" href=\"#\" onclick=\"parent.clickcr(this, 'ara.sym', '', '', event);\">\n",
      "<span class=\"ico_up\"></span>\n",
      "<span class=\"blind\">공감</span>\n",
      "<strong class=\"sympathy_17684461\">1200</strong>\n",
      "</a>\n",
      "<a class=\"_notSympathyButton\" href=\"#\" onclick=\"parent.clickcr(this, 'ara.opp', '', '', event);\">\n",
      "<span class=\"ico_down\"></span>\n",
      "<span class=\"blind\">비공감</span>\n",
      "<strong class=\"notSympathy_17684461\">260</strong>\n",
      "</a>\n",
      "</div>\n",
      "</li>\n",
      "<li>\n",
      "<div class=\"star_score\">\n",
      "<span class=\"st_off\"><span class=\"st_on\" style=\"width:10.0%\"></span></span><em>1</em>\n",
      "</div>\n",
      "<div class=\"score_reple\">\n",
      "<p>\n",
      "<span class=\"ico_viewer\">관람객</span>\n",
      "<!-- 스포일러 컨텐츠로 처리되는지 여부 -->\n",
      "<span id=\"_filtered_ment_5\">\n",
      "\t\t\t\t\t\t\t\t\t\t\t\t\t\t\n",
      "\t\t\t\t\t\t\t\t\t\t\t\t\t\t\t\n",
      "\t\t\t\t\t\t\t\t\t\t\t\t\t\t\t\n",
      "\t\t\t\t\t\t\t\t\t\t\t\t\t\t\t\t하 정말 재미없네요.. \n",
      "\t\t\t\t\t\t\t\t\t\t\t\t\t\t\t\n",
      "\t\t\t\t\t\t\t\t\t\t\t\t\t\t\n",
      "\t\t\t\t\t\t\t\t\t\t\t\t\t\t\n",
      "\t\t\t\t\t\t\t\t\t\t\t\t\t</span>\n",
      "</p>\n",
      "<dl>\n",
      "<dt>\n",
      "<em>\n",
      "<a href=\"#\" onclick=\"javascript:showPointListByNid(17683742, 'after');parent.clickcr(this, 'ara.uid', '', '', event); return false;\" target=\"_top\">\n",
      "<span>LEEE(oh1m****)</span>\n",
      "</a>\n",
      "</em>\n",
      "<em>2021.09.01 22:30</em>\n",
      "</dt>\n",
      "<dd>\n",
      "<a class=\"go_report2\" href=\"#\" onclick=\"parent.clickcr(this, 'ara.report', '', '', event); common.report('false','oh1m****', 'ILR9piLlT+GT5bopI6SQwT5g/ONv1kL+aNF8BR9L6GI=', '17683742', 'point_after', false);return false;\"><em>신고</em></a>\n",
      "</dd>\n",
      "</dl>\n",
      "</div>\n",
      "<div class=\"btn_area\">\n",
      "<a class=\"_sympathyButton\" href=\"#\" onclick=\"parent.clickcr(this, 'ara.sym', '', '', event);\">\n",
      "<span class=\"ico_up\"></span>\n",
      "<span class=\"blind\">공감</span>\n",
      "<strong class=\"sympathy_17683742\">1242</strong>\n",
      "</a>\n",
      "<a class=\"_notSympathyButton\" href=\"#\" onclick=\"parent.clickcr(this, 'ara.opp', '', '', event);\">\n",
      "<span class=\"ico_down\"></span>\n",
      "<span class=\"blind\">비공감</span>\n",
      "<strong class=\"notSympathy_17683742\">441</strong>\n",
      "</a>\n",
      "</div>\n",
      "</li>\n",
      "<li>\n",
      "<div class=\"star_score\">\n",
      "<span class=\"st_off\"><span class=\"st_on\" style=\"width:80.0%\"></span></span><em>8</em>\n",
      "</div>\n",
      "<div class=\"score_reple\">\n",
      "<p>\n",
      "<span class=\"ico_viewer\">관람객</span>\n",
      "<!-- 스포일러 컨텐츠로 처리되는지 여부 -->\n",
      "<span id=\"_filtered_ment_6\">\n",
      "\t\t\t\t\t\t\t\t\t\t\t\t\t\t\n",
      "\t\t\t\t\t\t\t\t\t\t\t\t\t\t\t\n",
      "\t\t\t\t\t\t\t\t\t\t\t\t\t\t\t\n",
      "\t\t\t\t\t\t\t\t\t\t\t\t\t\t\t\t마블 영화를 본 건지 중국 영화를 본 건지 모르겠지만 양조위는 너무 멋있더라.... \n",
      "\t\t\t\t\t\t\t\t\t\t\t\t\t\t\t\n",
      "\t\t\t\t\t\t\t\t\t\t\t\t\t\t\n",
      "\t\t\t\t\t\t\t\t\t\t\t\t\t\t\n",
      "\t\t\t\t\t\t\t\t\t\t\t\t\t</span>\n",
      "</p>\n",
      "<dl>\n",
      "<dt>\n",
      "<em>\n",
      "<a href=\"#\" onclick=\"javascript:showPointListByNid(17683773, 'after');parent.clickcr(this, 'ara.uid', '', '', event); return false;\" target=\"_top\">\n",
      "<span>아오이키(akpl****)</span>\n",
      "</a>\n",
      "</em>\n",
      "<em>2021.09.01 22:41</em>\n",
      "</dt>\n",
      "<dd>\n",
      "<a class=\"go_report2\" href=\"#\" onclick=\"parent.clickcr(this, 'ara.report', '', '', event); common.report('false','akpl****', '7VcZSNARn0DmciXUgvpCdhpWhySrrgIlUvXk9ThEANs=', '17683773', 'point_after', false);return false;\"><em>신고</em></a>\n",
      "</dd>\n",
      "</dl>\n",
      "</div>\n",
      "<div class=\"btn_area\">\n",
      "<a class=\"_sympathyButton\" href=\"#\" onclick=\"parent.clickcr(this, 'ara.sym', '', '', event);\">\n",
      "<span class=\"ico_up\"></span>\n",
      "<span class=\"blind\">공감</span>\n",
      "<strong class=\"sympathy_17683773\">904</strong>\n",
      "</a>\n",
      "<a class=\"_notSympathyButton\" href=\"#\" onclick=\"parent.clickcr(this, 'ara.opp', '', '', event);\">\n",
      "<span class=\"ico_down\"></span>\n",
      "<span class=\"blind\">비공감</span>\n",
      "<strong class=\"notSympathy_17683773\">175</strong>\n",
      "</a>\n",
      "</div>\n",
      "</li>\n",
      "<li>\n",
      "<div class=\"star_score\">\n",
      "<span class=\"st_off\"><span class=\"st_on\" style=\"width:100.0%\"></span></span><em>10</em>\n",
      "</div>\n",
      "<div class=\"score_reple\">\n",
      "<p>\n",
      "<!-- 스포일러 컨텐츠로 처리되는지 여부 -->\n",
      "<span id=\"_filtered_ment_7\">\n",
      "\t\t\t\t\t\t\t\t\t\t\t\t\t\t\n",
      "\t\t\t\t\t\t\t\t\t\t\t\t\t\t\t\n",
      "\t\t\t\t\t\t\t\t\t\t\t\t\t\t\t\n",
      "\t\t\t\t\t\t\t\t\t\t\t\t\t\t\t\t마블의 새로운 시작이다… 재밌어요 \n",
      "\t\t\t\t\t\t\t\t\t\t\t\t\t\t\t\n",
      "\t\t\t\t\t\t\t\t\t\t\t\t\t\t\n",
      "\t\t\t\t\t\t\t\t\t\t\t\t\t\t\n",
      "\t\t\t\t\t\t\t\t\t\t\t\t\t</span>\n",
      "</p>\n",
      "<dl>\n",
      "<dt>\n",
      "<em>\n",
      "<a href=\"#\" onclick=\"javascript:showPointListByNid(17682380, 'after');parent.clickcr(this, 'ara.uid', '', '', event); return false;\" target=\"_top\">\n",
      "<span>서울자취생(osan****)</span>\n",
      "</a>\n",
      "</em>\n",
      "<em>2021.09.01 12:57</em>\n",
      "</dt>\n",
      "<dd>\n",
      "<a class=\"go_report2\" href=\"#\" onclick=\"parent.clickcr(this, 'ara.report', '', '', event); common.report('false','osan****', '/nJNfnEViK1sAU2EfhMyhySFZOOvQGfkPEf8vne0pEU=', '17682380', 'point_after', false);return false;\"><em>신고</em></a>\n",
      "</dd>\n",
      "</dl>\n",
      "</div>\n",
      "<div class=\"btn_area\">\n",
      "<a class=\"_sympathyButton\" href=\"#\" onclick=\"parent.clickcr(this, 'ara.sym', '', '', event);\">\n",
      "<span class=\"ico_up\"></span>\n",
      "<span class=\"blind\">공감</span>\n",
      "<strong class=\"sympathy_17682380\">704</strong>\n",
      "</a>\n",
      "<a class=\"_notSympathyButton\" href=\"#\" onclick=\"parent.clickcr(this, 'ara.opp', '', '', event);\">\n",
      "<span class=\"ico_down\"></span>\n",
      "<span class=\"blind\">비공감</span>\n",
      "<strong class=\"notSympathy_17682380\">162</strong>\n",
      "</a>\n",
      "</div>\n",
      "</li>\n",
      "<li>\n",
      "<div class=\"star_score\">\n",
      "<span class=\"st_off\"><span class=\"st_on\" style=\"width:60.0%\"></span></span><em>6</em>\n",
      "</div>\n",
      "<div class=\"score_reple\">\n",
      "<p>\n",
      "<span class=\"ico_viewer\">관람객</span>\n",
      "<!-- 스포일러 컨텐츠로 처리되는지 여부 -->\n",
      "<span class=\"text_spo _text_spo\" id=\"_text_spo_8\">스포일러가 포함된 감상평입니다. <a class=\"btn_more\" href=\"javascript:void(0);\" onclick=\"showMovieReview('8');\" role=\"button\">감상평 보기</a></span>\n",
      "<span id=\"_filtered_ment_8\" style=\"display:none;\">\n",
      "\t\t\t\t\t\t\t\t\t\t\t\t\t\t\n",
      "\t\t\t\t\t\t\t\t\t\t\t\t\t\t\t\n",
      "\t\t\t\t\t\t\t\t\t\t\t\t\t\t\t\n",
      "\t\t\t\t\t\t\t\t\t\t\t\t\t\t\t\t아부지를 왜케 미워하는거지 훈련빡시케 시켰다고 그러는건가아부지를 죽인댔다가 갑자기 필요하다하고 개연성이 좀 부족..텐링즈의 전설이란 제목도 뭐 굳이... \n",
      "\t\t\t\t\t\t\t\t\t\t\t\t\t\t\t\n",
      "\t\t\t\t\t\t\t\t\t\t\t\t\t\t\n",
      "\t\t\t\t\t\t\t\t\t\t\t\t\t\t\n",
      "\t\t\t\t\t\t\t\t\t\t\t\t\t</span>\n",
      "</p>\n",
      "<dl>\n",
      "<dt>\n",
      "<em>\n",
      "<a href=\"#\" onclick=\"javascript:showPointListByNid(17683572, 'after');parent.clickcr(this, 'ara.uid', '', '', event); return false;\" target=\"_top\">\n",
      "<span>척설오추(jagi****)</span>\n",
      "</a>\n",
      "</em>\n",
      "<em>2021.09.01 21:42</em>\n",
      "</dt>\n",
      "<dd>\n",
      "<a class=\"go_report2\" href=\"#\" onclick=\"parent.clickcr(this, 'ara.report', '', '', event); common.report('false','jagi****', 'A6a4XYMPqy60LytWz0YbOrrZvTCupul3o2z1kR64W5M=', '17683572', 'point_after', false);return false;\"><em>신고</em></a>\n",
      "</dd>\n",
      "</dl>\n",
      "</div>\n",
      "<div class=\"btn_area\">\n",
      "<a class=\"_sympathyButton\" href=\"#\" onclick=\"parent.clickcr(this, 'ara.sym', '', '', event);\">\n",
      "<span class=\"ico_up\"></span>\n",
      "<span class=\"blind\">공감</span>\n",
      "<strong class=\"sympathy_17683572\">590</strong>\n",
      "</a>\n",
      "<a class=\"_notSympathyButton\" href=\"#\" onclick=\"parent.clickcr(this, 'ara.opp', '', '', event);\">\n",
      "<span class=\"ico_down\"></span>\n",
      "<span class=\"blind\">비공감</span>\n",
      "<strong class=\"notSympathy_17683572\">117</strong>\n",
      "</a>\n",
      "</div>\n",
      "</li>\n",
      "<li class=\"last\">\n",
      "<div class=\"star_score\">\n",
      "<span class=\"st_off\"><span class=\"st_on\" style=\"width:60.0%\"></span></span><em>6</em>\n",
      "</div>\n",
      "<div class=\"score_reple\">\n",
      "<p>\n",
      "<span class=\"ico_viewer\">관람객</span>\n",
      "<!-- 스포일러 컨텐츠로 처리되는지 여부 -->\n",
      "<span id=\"_filtered_ment_9\">\n",
      "\t\t\t\t\t\t\t\t\t\t\t\t\t\t\n",
      "\t\t\t\t\t\t\t\t\t\t\t\t\t\t\t\n",
      "\t\t\t\t\t\t\t\t\t\t\t\t\t\t\t\n",
      "\t\t\t\t\t\t\t\t\t\t\t\t\t\t\t\t마블영화보면서 처음으로 졸았습니다 ㅜㅜ \n",
      "\t\t\t\t\t\t\t\t\t\t\t\t\t\t\t\n",
      "\t\t\t\t\t\t\t\t\t\t\t\t\t\t\n",
      "\t\t\t\t\t\t\t\t\t\t\t\t\t\t\n",
      "\t\t\t\t\t\t\t\t\t\t\t\t\t</span>\n",
      "</p>\n",
      "<dl>\n",
      "<dt>\n",
      "<em>\n",
      "<a href=\"#\" onclick=\"javascript:showPointListByNid(17686410, 'after');parent.clickcr(this, 'ara.uid', '', '', event); return false;\" target=\"_top\">\n",
      "<span>kupyt192(neid****)</span>\n",
      "</a>\n",
      "</em>\n",
      "<em>2021.09.03 11:02</em>\n",
      "</dt>\n",
      "<dd>\n",
      "<a class=\"go_report2\" href=\"#\" onclick=\"parent.clickcr(this, 'ara.report', '', '', event); common.report('false','neid****', 'saQhtz9jiCIRvm10d92XoilJfNG9PWkYufbLt2TIid0=', '17686410', 'point_after', false);return false;\"><em>신고</em></a>\n",
      "</dd>\n",
      "</dl>\n",
      "</div>\n",
      "<div class=\"btn_area\">\n",
      "<a class=\"_sympathyButton\" href=\"#\" onclick=\"parent.clickcr(this, 'ara.sym', '', '', event);\">\n",
      "<span class=\"ico_up\"></span>\n",
      "<span class=\"blind\">공감</span>\n",
      "<strong class=\"sympathy_17686410\">730</strong>\n",
      "</a>\n",
      "<a class=\"_notSympathyButton\" href=\"#\" onclick=\"parent.clickcr(this, 'ara.opp', '', '', event);\">\n",
      "<span class=\"ico_down\"></span>\n",
      "<span class=\"blind\">비공감</span>\n",
      "<strong class=\"notSympathy_17686410\">271</strong>\n",
      "</a>\n",
      "</div>\n",
      "</li>\n",
      "</ul>\n",
      "</div>\n",
      "<div class=\"paging\">\n",
      "<div>\n",
      "<a href=\"/movie/bi/mi/pointWriteFormList.naver?code=187348&amp;type=after&amp;isActualPointWriteExecute=false&amp;isMileageSubscriptionAlready=false&amp;isMileageSubscriptionReject=false&amp;page=1\" id=\"pagerTagAnchor1\" onclick=\"parent.clickcr(this, 'ara.page', '', '', event);\"><span class=\"on\">1</span></a>\n",
      "<a href=\"/movie/bi/mi/pointWriteFormList.naver?code=187348&amp;type=after&amp;isActualPointWriteExecute=false&amp;isMileageSubscriptionAlready=false&amp;isMileageSubscriptionReject=false&amp;page=2\" id=\"pagerTagAnchor2\" onclick=\"parent.clickcr(this, 'ara.page', '', '', event);\"><span>2</span></a>\n",
      "<a href=\"/movie/bi/mi/pointWriteFormList.naver?code=187348&amp;type=after&amp;isActualPointWriteExecute=false&amp;isMileageSubscriptionAlready=false&amp;isMileageSubscriptionReject=false&amp;page=3\" id=\"pagerTagAnchor3\" onclick=\"parent.clickcr(this, 'ara.page', '', '', event);\"><span>3</span></a>\n",
      "<a href=\"/movie/bi/mi/pointWriteFormList.naver?code=187348&amp;type=after&amp;isActualPointWriteExecute=false&amp;isMileageSubscriptionAlready=false&amp;isMileageSubscriptionReject=false&amp;page=4\" id=\"pagerTagAnchor4\" onclick=\"parent.clickcr(this, 'ara.page', '', '', event);\"><span>4</span></a>\n",
      "<a href=\"/movie/bi/mi/pointWriteFormList.naver?code=187348&amp;type=after&amp;isActualPointWriteExecute=false&amp;isMileageSubscriptionAlready=false&amp;isMileageSubscriptionReject=false&amp;page=5\" id=\"pagerTagAnchor5\" onclick=\"parent.clickcr(this, 'ara.page', '', '', event);\"><span>5</span></a>\n",
      "<a href=\"/movie/bi/mi/pointWriteFormList.naver?code=187348&amp;type=after&amp;isActualPointWriteExecute=false&amp;isMileageSubscriptionAlready=false&amp;isMileageSubscriptionReject=false&amp;page=6\" id=\"pagerTagAnchor6\" onclick=\"parent.clickcr(this, 'ara.page', '', '', event);\"><span>6</span></a>\n",
      "<a href=\"/movie/bi/mi/pointWriteFormList.naver?code=187348&amp;type=after&amp;isActualPointWriteExecute=false&amp;isMileageSubscriptionAlready=false&amp;isMileageSubscriptionReject=false&amp;page=7\" id=\"pagerTagAnchor7\" onclick=\"parent.clickcr(this, 'ara.page', '', '', event);\"><span>7</span></a>\n",
      "<a href=\"/movie/bi/mi/pointWriteFormList.naver?code=187348&amp;type=after&amp;isActualPointWriteExecute=false&amp;isMileageSubscriptionAlready=false&amp;isMileageSubscriptionReject=false&amp;page=8\" id=\"pagerTagAnchor8\" onclick=\"parent.clickcr(this, 'ara.page', '', '', event);\"><span>8</span></a>\n",
      "<a href=\"/movie/bi/mi/pointWriteFormList.naver?code=187348&amp;type=after&amp;isActualPointWriteExecute=false&amp;isMileageSubscriptionAlready=false&amp;isMileageSubscriptionReject=false&amp;page=9\" id=\"pagerTagAnchor9\" onclick=\"parent.clickcr(this, 'ara.page', '', '', event);\"><span>9</span></a>\n",
      "<a href=\"/movie/bi/mi/pointWriteFormList.naver?code=187348&amp;type=after&amp;isActualPointWriteExecute=false&amp;isMileageSubscriptionAlready=false&amp;isMileageSubscriptionReject=false&amp;page=10\" id=\"pagerTagAnchor10\" onclick=\"parent.clickcr(this, 'ara.page', '', '', event);\"><span>10</span></a>\n",
      "<a class=\"pg_next\" href=\"/movie/bi/mi/pointWriteFormList.naver?code=187348&amp;type=after&amp;isActualPointWriteExecute=false&amp;isMileageSubscriptionAlready=false&amp;isMileageSubscriptionReject=false&amp;page=2\" id=\"pagerTagAnchor2\" onclick=\"parent.clickcr(this, 'ara.page', '', '', event);\" title=\"다음\"><em>다음</em></a>\n",
      "</div>\n",
      "</div>\n",
      "</div>\n",
      "</div>\n",
      "<!-- //content -->\n",
      "<form accept-charset=\"utf-8\" id=\"reportForm\" method=\"POST\" name=\"reportForm1\"></form>\n",
      "<script type=\"text/javascript\">\n",
      "\n",
      "\n",
      "if (false == false && \"after\" == \"after\" && false) {\n",
      "\tif (true && false) {\n",
      "\t\tjindo.$Element(\"pointWriteExecuteLayer\").show();\n",
      "\t} else if (false && true) {\n",
      "\t\tjindo.$Element(\"actualPointWriteExecuteLayer\").show();\n",
      "\t}\n",
      "}\n",
      "\n",
      "var oElActualPointWriteExecuteLayer = jindo.$Element(\"actualPointWriteExecuteLayer\");\n",
      "\n",
      "if (oElActualPointWriteExecuteLayer != null && oElActualPointWriteExecuteLayer != \"undefined\") {\n",
      "\n",
      "\t\n",
      "\tjindo.$Element(\"actualPointWriteExecuteLayerOkButton\").attach(\"click\", function(e){\n",
      "\t\te.stop(jindo.$Event.CANCEL_DEFAULT);\n",
      "\t\tjindo.$Element(\"actualPointWriteExecuteLayer\").hide();\n",
      "\t\trefreshPage();\n",
      "\t});\n",
      "\t\n",
      "\t\n",
      "\t\n",
      "\tjindo.$Element(\"actualPointWriteExecuteLayerCloseButton\").attach(\"click\", function(e){\n",
      "\t\te.stop(jindo.$Event.CANCEL_DEFAULT);\n",
      "\t\tjindo.$Element(\"actualPointWriteExecuteLayer\").hide();\n",
      "\t\trefreshPage();\n",
      "\t});\n",
      "\t\n",
      "}\n",
      "\n",
      "var oElPointWriteExecuteLayer = jindo.$Element(\"pointWriteExecuteLayer\");\n",
      "\n",
      "if (oElPointWriteExecuteLayer != null && oElPointWriteExecuteLayer != \"undefined\") {\n",
      "\t\n",
      "\tjindo.$Element(\"pointWriteExecuteLayerOkButton\").attach(\"click\", function(e){\n",
      "\t\te.stop(jindo.$Event.CANCEL_DEFAULT);\n",
      "\t\tjindo.$Element(\"pointWriteExecuteLayer\").hide();\n",
      "\t\trefreshPage();\n",
      "\t});\n",
      "\t\n",
      "\t\n",
      "\t\n",
      "\tjindo.$Element(\"pointWriteExecuteLayerCloseButton\").attach(\"click\", function(e){\n",
      "\t\te.stop(jindo.$Event.CANCEL_DEFAULT);\n",
      "\t\tjindo.$Element(\"pointWriteExecuteLayer\").hide();\n",
      "\t\trefreshPage();\n",
      "\t});\n",
      "\t\n",
      "}\n",
      "\n",
      "jindo.$Fn(function () {\n",
      "\n",
      "  function checkboxHandlerFactory(isActualYn, isLabel) {\n",
      "    return function() {\n",
      "      var actualYnChecked = jindo.$(\"actualYnCheckBox\").checked;\n",
      "      var spoilerYnChecked = jindo.$(\"spoilerYnCheckBox\").checked;\n",
      "\n",
      "      // convert\n",
      "      actualYnChecked = (isActualYn && isLabel)? !actualYnChecked : actualYnChecked;\n",
      "      spoilerYnChecked = (!isActualYn && isLabel)? !spoilerYnChecked : spoilerYnChecked;\n",
      "\n",
      "      location.href = \"/movie/bi/mi/pointWriteFormList.naver?code=187348&type=after&onlyActualPointYn=\" + (actualYnChecked? \"Y\" : \"N\")  + \"&onlySpoilerPointYn=\" + (spoilerYnChecked? \"Y\" : \"N\") + \"&order=sympathyScore\";\n",
      "    };\n",
      "  }\n",
      "\n",
      "\t\n",
      "\tif (jindo.$(\"actualYnCheckBox\") != null) {\n",
      "\t\tjindo.$Fn(checkboxHandlerFactory(true, false), this).attach(jindo.$(\"actualYnCheckBox\"), 'click');\n",
      "\t}\n",
      "\n",
      "\tif (jindo.$(\"actualYnLable\") != null) {\n",
      "\t    jindo.$Fn(checkboxHandlerFactory(true, true), this).attach(jindo.$(\"actualYnLable\"), 'click');\n",
      "\t}\n",
      "\n",
      "\t\n",
      "    if (jindo.$(\"spoilerYnCheckBox\") != null) {\n",
      "    jindo.$Fn(checkboxHandlerFactory(false, false), this).attach(jindo.$(\"spoilerYnCheckBox\"), 'click');\n",
      "  }\n",
      "\n",
      "  if (jindo.$(\"spoilerYnLable\") != null) {\n",
      "    jindo.$Fn(checkboxHandlerFactory(false, true), this).attach(jindo.$(\"spoilerYnLable\"), 'click');\n",
      "  }\n",
      "\t\n",
      "\t\n",
      "\tif (jindo.$Element(\"actualPointHelp\") != null && jindo.$Element(\"actualPointHelp\") != \"undefined\") {\n",
      "\t\tactualPointHelpLayerToggle = function() {\n",
      "\t\t\tsetTimeout( function() {\n",
      "\t\t\t\tif (document.activeElement != null) {\n",
      "\t\t\t\t\tvar focusedEl = jindo.$Element(document.activeElement);\n",
      "\t\t\t\t\tif (focusedEl != null) {\n",
      "\t\t\t\t\t\tif ( !focusedEl.hasClass(\"_actualPointHelp\") ) {\n",
      "\t\t\t\t\t\t\t jindo.$Element(\"actualPointHelp\").hide();\n",
      "\t\t\t\t\t\t}\n",
      "\t\t\t\t\t}\n",
      "\t\t\t\t}\n",
      "\t\t\t}, 100);\n",
      "\t\t};\n",
      "\n",
      "\t\tnew jindo.LayerManager(\"actualPointHelp\", {\n",
      "\t\t\tsCheckEvent : \"click\",\n",
      "\t\t\tnHideDelay : 0\n",
      "\t\t}).link(jindo.$(\"actualPointHelp\"), jindo.$(\"actualPointHelpButton\"));\n",
      "\n",
      "\t\tjindo.$Element(\"actualPointHelpButton\").attach(\"click\", function(e){\n",
      "\t\t\te.stop(jindo.$Event.CANCEL_DEFAULT);\n",
      "\t\t\tjindo.$Element(\"actualPointHelp\").toggle();\n",
      "\t\t});\n",
      "\n",
      "\t\tjindo.$Element(\"actualPointHelpCloseButton\").attach(\"click\", function(e){\n",
      "\t\t\te.stop(jindo.$Event.CANCEL_DEFAULT);\n",
      "\t\t\tjindo.$Element(\"actualPointHelp\").toggle();\n",
      "\t\t});\n",
      "\n",
      "\t\t\n",
      "\t\tvar waelActualPointHelp = jindo.$ElementList('._actualPointHelp');\n",
      "\n",
      "\t\tjindo.$A(waelActualPointHelp.$value()).forEach(function(value, index, array) {\n",
      "\t\t\tjindo.$Fn(actualPointHelpLayerToggle, this).attach(value, \"blur\");\n",
      "\t\t});\n",
      "\t}\n",
      "\n",
      "\tparent.setParamForPointAfterList('N', 'sympathyScore', '1');\n",
      "\tparent.resizePointAfterListIframe(0);\n",
      "\n",
      "\t// 최소 높이 270px 지정\n",
      "\tvar frameHeight = eval(jindo.$Document().scrollSize().height);\n",
      "\n",
      "\tparent.resizePointAfterListIframe(frameHeight);\n",
      "\tparent.isPointAfterListLoad = true;\n",
      "\t\n",
      "\t\n",
      "\t\n",
      "\n",
      "  var isCheckPointExist = false;\n",
      "  // TODO: fix below condition\n",
      "  if (false) {\n",
      "    if(jindo.$Element(\"open-form-btn\")) {\n",
      "\t\tjindo.$Element(\"open-form-btn\").attach(\"click\", function(e) {\n",
      "\t\t  \t\n",
      "\t\t  \t\n",
      "\t\t\t\n",
      "\t\t  if (true && false && isCheckPointExist == false) {\n",
      "\t\t\tparent.point.checkPointAfterExistAndMileageSubscriptionType();\n",
      "\t\t  }\n",
      "\t\t  isCheckPointExist = true;\n",
      "\t\t  parent.openPointWriteForm();\n",
      "\t\t});\n",
      "    }\n",
      "  } else {\n",
      "    if (jindo.$Element(\"open-form-btn\")) {\n",
      "\t\tjindo.$Element(\"open-form-btn\").attach(\"click\", function (e) {\n",
      "\t\t  common.checkLogin(false);\n",
      "\t\t});\n",
      "    }\n",
      "  }\n",
      "\n",
      "  var isHide = true;\n",
      "\n",
      "  if(jindo.$Element(\"eval-edit\")) {\n",
      "    jindo.$Element(\"eval-edit\").attach(\"click\", function() {\n",
      "\t\t  var edit = jindo.$Element(\"ly-edit\");\n",
      "\t  \tisHide ? edit.show() : edit.hide();\n",
      "      \tisHide = !isHide;\n",
      "    })\n",
      "  }\n",
      "  parent.resizePointAfterListIframeOnLoad();\n",
      "}, this).attach(this, 'load');\n",
      "\n",
      "var point = {\n",
      "\t\tcheckLoginWithMessage : function(login, loginMessage, notLoginMessage) {\n",
      "\t\t\tif(login == false){\n",
      "\t\t\t\tif(confirm(message)){\n",
      "\t\t\t\t\ttop.location.href=\"https://nid.naver.com/nidlogin.login?mode=form&url=\"+encodeURIComponent(top.location.href);\n",
      "\t\t\t\t}\n",
      "\t\t\t\treturn false;\n",
      "\t\t\t}\n",
      "\t\t\treturn true;\n",
      "\t\t},\n",
      "\n",
      "\t\t\n",
      "\t\tcheckAlreadyPointAfterExist : function (nid) {\n",
      "\t\t\tvar existPointType = \"pointBefore\";\n",
      "\t\t\t\n",
      "\t\t\tif (false == false) {\n",
      "\t\t\t\tvar oAjax = new jindo.$Ajax(\"/api/internal/point/pointAfterExistJson.naver\", {\n",
      "\t\t\t    \tonload : function (oRes) {\n",
      "\t\t\t    \t\tvar resultCode = oRes.json().resultCode;\n",
      "\t\t\t    \t\t\n",
      "\t\t\t    \t\tif (resultCode == \"error\") {\t\t\t\t\t\t\t// 서버 오류\n",
      "\t\t\t    \t\t\talert(\"오류가 발생했습니다. 잠시 후 다시 시도해주세요.\");\n",
      "\t\t\t    \t\t\treturn false;\n",
      "\t\t\t    \t\t} else {\n",
      "\t\t\t    \t\t\texistPointType = oRes.json().existPointType;\n",
      "\t\t\t    \t\t\tpoint.del(existPointType, nid);\n",
      "\t\t\t    \t\t}\n",
      "\t\t\t    \t},\n",
      "\t\t\t\t\ttimeout : 5,\n",
      "\t\t\t    \tonerror : function (oRes) {\n",
      "\t\t\t    \t\talert(\"오류가 발생했습니다. 잠시 후 다시 시도해주세요.\");\n",
      "\t\t\t    \t\treturn false;\n",
      "\t\t\t    \t},\n",
      "\t\t\t    \tontimeout : function (oRes) {\n",
      "\t\t\t    \t\talert(\"처리가 지연되고 있습니다. 다시 시도해주세요.\");\n",
      "\t\t\t    \t\treturn false;\n",
      "\t\t\t    \t}\n",
      "\t\t\t    });\n",
      "\t\t\t    \n",
      "\t\t\t    oAjax.request({\n",
      "\t\t\t    \t\"movieCode\" : \"187348\",\n",
      "\t\t\t    \t\"isActualPoint\" : \"false\"\n",
      "\t\t\t    });\n",
      "\t\t\t} else {\n",
      "\t\t\t\tpoint.del(existPointType, nid);\n",
      "\t\t\t}\n",
      "\t\t},\n",
      "\n",
      "\t\tdel : function (existPointType, nid) {\n",
      "\t\t\tif (existPointType == \"actualPoint\") {\n",
      "\t\t\t\tif (confirm(\"관람객 평점 삭제시, 평점 작성으로 적립된 포인트는 회수됩니다. 평점을 삭제할까요?\") == false) {\n",
      "\t\t\t\t\treturn false;\n",
      "\t\t\t\t}\n",
      "\t\t\t} else {\n",
      "\t\t\t\tif (confirm(\"본인 삭제 시 복구할 수 없습니다.\\n평점을 삭제하시겠습니까?\") == false) {\n",
      "\t\t\t\t\treturn false;\n",
      "\t\t\t\t}\n",
      "\t\t\t}\n",
      "\t\t\t\n",
      "\t\t\tvar ajaxDeleteUrl = \"/api/internal/point/pointBeforeDelete.naver\";\n",
      "\t\t\tif (\"after\" == \"after\") {\n",
      "\t\t\t\tajaxDeleteUrl = \"/api/internal/point/pointAfterDelete.naver\";\n",
      "\t\t\t}\n",
      "\t\t\t\n",
      "\t\t\tvar ajax = new jindo.$Ajax(ajaxDeleteUrl, { \n",
      "\t\t\t\tmethod : \"POST\",\n",
      "\t\t\t\tasync : false,\n",
      "\t\t\t\tonload : this.delCallback\n",
      "\t\t\t});\n",
      "\t\t\tajax.header(\"ajax\", \"true\");\n",
      "\t\t\tajax.request({\n",
      "\t\t\t\t\"nid\":nid\n",
      "\t\t\t});\n",
      "\t\t},\n",
      "\t\t\n",
      "\t\tdelCallback : function(req) {\n",
      "\t\t\tvar returnValue = req.text();\n",
      "\t\t\t\n",
      "\t\t\tif(returnValue != \"success\"){\n",
      "\t\t\t\talert(returnValue);\n",
      "\t\t\t\treturn false;\n",
      "\t\t\t}\n",
      "\t\t\t\n",
      "\t\t\ttop.location.href = '/movie/bi/mi/point.naver?code=187348#pointAfterTab';\n",
      "\t\t\ttop.location.reload(true);\n",
      "\t\t}\n",
      "};\n",
      "\n",
      "function dislplayOrder(order) {\n",
      "\tvar url = \"/movie/bi/mi/pointWriteFormList.naver?code=187348&type=after\";\n",
      "\t\n",
      "\tvar onlyActualPointYnValue = jindo.$(\"onlyActualPointYn\").value;\n",
      "  \tvar includeSpoilerYnValue = jindo.$(\"includeSpoilerYn\").value;\n",
      "\n",
      "\tif (onlyActualPointYnValue != \"\") {\n",
      "\t\turl = url + \"&onlyActualPointYn=\" + onlyActualPointYnValue;\n",
      "\t}\n",
      "\n",
      "\tif (includeSpoilerYnValue != \"\") {\n",
      "      url = url + \"&onlySpoilerPointYn=\" + includeSpoilerYnValue;\n",
      "    }\n",
      "\t\n",
      "\turl = url + \"&order=\" + order;\n",
      "\t\n",
      "\tlocation.href = document.location.protocol + \"//\" + document.domain + url;\n",
      "}\n",
      "\n",
      "function showPointListByNid(nid, target){\n",
      "\tif (target == 'after') {\n",
      "\t\ttop.location.href = top.location.protocol + \"//\" + top.location.hostname + \"/movie/point/af/list.naver?st=nickname&target=after&sword=\"+nid;\n",
      "\t} else {\n",
      "\t\ttop.location.href = top.location.protocol + \"//\" + top.location.hostname + \"/movie/point/af/list.naver?st=nickname_before&target=before&sword=\"+nid;\n",
      "\t}\n",
      "}\n",
      "\n",
      "function refreshPage() {\n",
      "\t \n",
      "\ttop.location.href = '/movie/bi/mi/point.naver?code=187348#pointAfterTab';\n",
      "}\n",
      "\n",
      "// 스포일러 감상평 내용 보기\n",
      "function showMovieReview(rvwIdx) {\n",
      "    jindo.$Element('_text_spo_' + rvwIdx).css('display', 'none');\n",
      "    jindo.$Element('_filtered_ment_' + rvwIdx).css('display', 'block');\n",
      "    parent.resizePointAfterListIframeOnLoad();\n",
      "}\n",
      "\n",
      "// 감상평 펼쳐보기\n",
      "function unfoldPointMent(obj) {\n",
      "    var fullMent = jindo.$Element(obj).attr(\"data-src\");\n",
      "    jindo.$Element(obj).parent().html(fullMent);\n",
      "    parent.resizePointAfterListIframeOnLoad();\n",
      "}\n",
      "\n",
      "\n",
      "</script>\n",
      "<script type=\"text/javascript\">\n",
      "\tvar sympathy = new Sympathy(\"187348\", \"after\");\n",
      "</script>\n",
      "<script type=\"text/javascript\">\n",
      "            jindo.$Fn(function() {\n",
      "                try{ lcs_do(); } catch(e){}\n",
      "            }).attach(window, \"pageshow\");\n",
      "\t\t</script>\n",
      "</body>\n",
      "</html>\n"
     ]
    }
   ],
   "source": [
    "print(html_source)"
   ]
  },
  {
   "cell_type": "markdown",
   "metadata": {},
   "source": [
    "댓글 부분에 해당하는 요소를 확인하고 내용을 추출합니다."
   ]
  },
  {
   "cell_type": "code",
   "execution_count": 9,
   "metadata": {},
   "outputs": [
    {
     "name": "stdout",
     "output_type": "stream",
     "text": [
      "<span id=\"_filtered_ment_0\">\n",
      "\t\t\t\t\t\t\t\t\t\t\t\t\t\t\n",
      "\t\t\t\t\t\t\t\t\t\t\t\t\t\t\t\n",
      "\t\t\t\t\t\t\t\t\t\t\t\t\t\t\t\n",
      "\t\t\t\t\t\t\t\t\t\t\t\t\t\t\t\t명품 브랜드라 믿고 샀는데 안에 made in china가 적혀있었다 \n",
      "\t\t\t\t\t\t\t\t\t\t\t\t\t\t\t\n",
      "\t\t\t\t\t\t\t\t\t\t\t\t\t\t\n",
      "\t\t\t\t\t\t\t\t\t\t\t\t\t\t\n",
      "\t\t\t\t\t\t\t\t\t\t\t\t\t</span>\n"
     ]
    }
   ],
   "source": [
    "# 첫 번째 리뷰\n",
    "html_reviews = html_source.find('span', {'id': '_filtered_ment_0'})\n",
    "print(html_reviews)"
   ]
  },
  {
   "cell_type": "code",
   "execution_count": 10,
   "metadata": {},
   "outputs": [
    {
     "name": "stdout",
     "output_type": "stream",
     "text": [
      "<span id=\"_filtered_ment_0\">\n",
      "\t\t\t\t\t\t\t\t\t\t\t\t\t\t\n",
      "\t\t\t\t\t\t\t\t\t\t\t\t\t\t\t\n",
      "\t\t\t\t\t\t\t\t\t\t\t\t\t\t\t\n",
      "\t\t\t\t\t\t\t\t\t\t\t\t\t\t\t\t명품 브랜드라 믿고 샀는데 안에 made in china가 적혀있었다 \n",
      "\t\t\t\t\t\t\t\t\t\t\t\t\t\t\t\n",
      "\t\t\t\t\t\t\t\t\t\t\t\t\t\t\n",
      "\t\t\t\t\t\t\t\t\t\t\t\t\t\t\n",
      "\t\t\t\t\t\t\t\t\t\t\t\t\t</span>\n",
      "<span id=\"_filtered_ment_1\">\n",
      "<span class=\"_unfold_ment\" id=\"_unfold_ment1\">\n",
      "<a data-src=\"자세히 보면 중국 문화 올려치는 영화입니다. 초반부터 똥양계는 무조건 한국인 취급하는데 우리는 당당히 중국인이다. ㅇㅈㄹ하고요. 깊고 정통한 중국 문화는 대를 이어서 간다. 마카오에서 K-POP 댄스 추는 거 보고 무조건 힙하지? 우리 중국 문화야 ㅋ 구미호, 기린, 용은 우리 문화다. 사람 죽으면 물에 연등 띄우는 거? 우리 중국 문화다. 동북공정 영화입니다. 영화는 자세히 보세요. 의도가 있습니다. \" href=\"javascript:void(0);\" onclick=\"unfoldPointMent(this);\">\n",
      "\t\t\t\t\t\t\t\t\t\t\t\t\t\t\t\t\t\t자세히 보면 중국 문화 올려치는 영화입니다. 초반부터 똥양계는 무조건 한국인 취급하는데 우리는 당당히 중국인이다. ㅇㅈㄹ하고요. 깊고 정통한 중국 문화는 대를 이어서 간다. 마카오에서 K-POP 댄스 추는 거 보고 ...\n",
      "\t\t\t\t\t\t\t\t\t\t\t\t\t\t\t\t\t</a>\n",
      "</span>\n",
      "</span>\n",
      "<span id=\"_filtered_ment_2\">\n",
      "\t\t\t\t\t\t\t\t\t\t\t\t\t\t\n",
      "\t\t\t\t\t\t\t\t\t\t\t\t\t\t\t\n",
      "\t\t\t\t\t\t\t\t\t\t\t\t\t\t\t\n",
      "\t\t\t\t\t\t\t\t\t\t\t\t\t\t\t\t마블의 중국산 D-War \n",
      "\t\t\t\t\t\t\t\t\t\t\t\t\t\t\t\n",
      "\t\t\t\t\t\t\t\t\t\t\t\t\t\t\n",
      "\t\t\t\t\t\t\t\t\t\t\t\t\t\t\n",
      "\t\t\t\t\t\t\t\t\t\t\t\t\t</span>\n",
      "<span id=\"_filtered_ment_3\">\n",
      "<span class=\"_unfold_ment\" id=\"_unfold_ment3\">\n",
      "<a data-src=\"세계관이나 설정들이 너무 붕 떠있고 개연성은 밥말아 먹어놓고 억지 신파 끼워넣기에 주인공은 무색무취 아무 매력 없음. 10초전 까지 죽일듯이 싸우던 애들이 갑자기 우리 함께 싸우자 ㅇㅈㄹ 하질 않나. 아부지 행동들 감정기복 너무 심해서 공감도 안가고, 사건들이 빌드업도 없이 무지성으로 튀어나오니까 몰입도 안 됨. 배우가 너무 아깝다. \" href=\"javascript:void(0);\" onclick=\"unfoldPointMent(this);\">\n",
      "\t\t\t\t\t\t\t\t\t\t\t\t\t\t\t\t\t\t세계관이나 설정들이 너무 붕 떠있고 개연성은 밥말아 먹어놓고 억지 신파 끼워넣기에 주인공은 무색무취 아무 매력 없음. 10초전 까지 죽일듯이 싸우던 애들이 갑자기 우리 함께 싸우자 ㅇㅈㄹ 하질 않나. 아부지 행동들 ...\n",
      "\t\t\t\t\t\t\t\t\t\t\t\t\t\t\t\t\t</a>\n",
      "</span>\n",
      "</span>\n",
      "<span id=\"_filtered_ment_4\">\n",
      "\t\t\t\t\t\t\t\t\t\t\t\t\t\t\n",
      "\t\t\t\t\t\t\t\t\t\t\t\t\t\t\t\n",
      "\t\t\t\t\t\t\t\t\t\t\t\t\t\t\t\n",
      "\t\t\t\t\t\t\t\t\t\t\t\t\t\t\t\t마블의 탈을 쓴 중국 무협영화. 중국 시장과 자본을 지나치게 의식한 디즈니의 연이은 헛발질. CG 범벅에 협소한 공간에서 몇 안되는 인원들의 액션 등 스케일마저 왜 이리 작아진 건지... \n",
      "\t\t\t\t\t\t\t\t\t\t\t\t\t\t\t\n",
      "\t\t\t\t\t\t\t\t\t\t\t\t\t\t\n",
      "\t\t\t\t\t\t\t\t\t\t\t\t\t\t\n",
      "\t\t\t\t\t\t\t\t\t\t\t\t\t</span>\n",
      "<span id=\"_filtered_ment_5\">\n",
      "\t\t\t\t\t\t\t\t\t\t\t\t\t\t\n",
      "\t\t\t\t\t\t\t\t\t\t\t\t\t\t\t\n",
      "\t\t\t\t\t\t\t\t\t\t\t\t\t\t\t\n",
      "\t\t\t\t\t\t\t\t\t\t\t\t\t\t\t\t하 정말 재미없네요.. \n",
      "\t\t\t\t\t\t\t\t\t\t\t\t\t\t\t\n",
      "\t\t\t\t\t\t\t\t\t\t\t\t\t\t\n",
      "\t\t\t\t\t\t\t\t\t\t\t\t\t\t\n",
      "\t\t\t\t\t\t\t\t\t\t\t\t\t</span>\n",
      "<span id=\"_filtered_ment_6\">\n",
      "\t\t\t\t\t\t\t\t\t\t\t\t\t\t\n",
      "\t\t\t\t\t\t\t\t\t\t\t\t\t\t\t\n",
      "\t\t\t\t\t\t\t\t\t\t\t\t\t\t\t\n",
      "\t\t\t\t\t\t\t\t\t\t\t\t\t\t\t\t마블 영화를 본 건지 중국 영화를 본 건지 모르겠지만 양조위는 너무 멋있더라.... \n",
      "\t\t\t\t\t\t\t\t\t\t\t\t\t\t\t\n",
      "\t\t\t\t\t\t\t\t\t\t\t\t\t\t\n",
      "\t\t\t\t\t\t\t\t\t\t\t\t\t\t\n",
      "\t\t\t\t\t\t\t\t\t\t\t\t\t</span>\n",
      "<span id=\"_filtered_ment_7\">\n",
      "\t\t\t\t\t\t\t\t\t\t\t\t\t\t\n",
      "\t\t\t\t\t\t\t\t\t\t\t\t\t\t\t\n",
      "\t\t\t\t\t\t\t\t\t\t\t\t\t\t\t\n",
      "\t\t\t\t\t\t\t\t\t\t\t\t\t\t\t\t마블의 새로운 시작이다… 재밌어요 \n",
      "\t\t\t\t\t\t\t\t\t\t\t\t\t\t\t\n",
      "\t\t\t\t\t\t\t\t\t\t\t\t\t\t\n",
      "\t\t\t\t\t\t\t\t\t\t\t\t\t\t\n",
      "\t\t\t\t\t\t\t\t\t\t\t\t\t</span>\n",
      "<span id=\"_filtered_ment_8\" style=\"display:none;\">\n",
      "\t\t\t\t\t\t\t\t\t\t\t\t\t\t\n",
      "\t\t\t\t\t\t\t\t\t\t\t\t\t\t\t\n",
      "\t\t\t\t\t\t\t\t\t\t\t\t\t\t\t\n",
      "\t\t\t\t\t\t\t\t\t\t\t\t\t\t\t\t아부지를 왜케 미워하는거지 훈련빡시케 시켰다고 그러는건가아부지를 죽인댔다가 갑자기 필요하다하고 개연성이 좀 부족..텐링즈의 전설이란 제목도 뭐 굳이... \n",
      "\t\t\t\t\t\t\t\t\t\t\t\t\t\t\t\n",
      "\t\t\t\t\t\t\t\t\t\t\t\t\t\t\n",
      "\t\t\t\t\t\t\t\t\t\t\t\t\t\t\n",
      "\t\t\t\t\t\t\t\t\t\t\t\t\t</span>\n",
      "<span id=\"_filtered_ment_9\">\n",
      "\t\t\t\t\t\t\t\t\t\t\t\t\t\t\n",
      "\t\t\t\t\t\t\t\t\t\t\t\t\t\t\t\n",
      "\t\t\t\t\t\t\t\t\t\t\t\t\t\t\t\n",
      "\t\t\t\t\t\t\t\t\t\t\t\t\t\t\t\t마블영화보면서 처음으로 졸았습니다 ㅜㅜ \n",
      "\t\t\t\t\t\t\t\t\t\t\t\t\t\t\t\n",
      "\t\t\t\t\t\t\t\t\t\t\t\t\t\t\n",
      "\t\t\t\t\t\t\t\t\t\t\t\t\t\t\n",
      "\t\t\t\t\t\t\t\t\t\t\t\t\t</span>\n"
     ]
    }
   ],
   "source": [
    "for i in range(10):\n",
    "    html_reviews = html_source.find('span', {'id': '_filtered_ment_' + str(i)})\n",
    "    print(html_reviews)"
   ]
  },
  {
   "cell_type": "code",
   "execution_count": 12,
   "metadata": {},
   "outputs": [
    {
     "name": "stdout",
     "output_type": "stream",
     "text": [
      "명품 브랜드라 믿고 샀는데 안에 made in china가 적혀있었다\n",
      "자세히 보면 중국 문화 올려치는 영화입니다. 초반부터 똥양계는 무조건 한국인 취급하는데 우리는 당당히 중국인이다. ㅇㅈㄹ하고요. 깊고 정통한 중국 문화는 대를 이어서 간다. 마카오에서 K-POP 댄스 추는 거 보고 ...\n",
      "마블의 중국산 D-War\n",
      "세계관이나 설정들이 너무 붕 떠있고 개연성은 밥말아 먹어놓고 억지 신파 끼워넣기에 주인공은 무색무취 아무 매력 없음. 10초전 까지 죽일듯이 싸우던 애들이 갑자기 우리 함께 싸우자 ㅇㅈㄹ 하질 않나. 아부지 행동들 ...\n",
      "마블의 탈을 쓴 중국 무협영화. 중국 시장과 자본을 지나치게 의식한 디즈니의 연이은 헛발질. CG 범벅에 협소한 공간에서 몇 안되는 인원들의 액션 등 스케일마저 왜 이리 작아진 건지...\n",
      "하 정말 재미없네요..\n",
      "마블 영화를 본 건지 중국 영화를 본 건지 모르겠지만 양조위는 너무 멋있더라....\n",
      "마블의 새로운 시작이다… 재밌어요\n",
      "아부지를 왜케 미워하는거지 훈련빡시케 시켰다고 그러는건가아부지를 죽인댔다가 갑자기 필요하다하고 개연성이 좀 부족..텐링즈의 전설이란 제목도 뭐 굳이...\n",
      "마블영화보면서 처음으로 졸았습니다 ㅜㅜ\n"
     ]
    }
   ],
   "source": [
    "# 10명 리뷰 확인, 불필요한 HTML 태그 제거\n",
    "for i in range(10):\n",
    "    html_reviews = html_source.find('span', {'id': '_filtered_ment_' + str(i)})\n",
    "    print(html_reviews.text.strip())"
   ]
  },
  {
   "cell_type": "code",
   "execution_count": 13,
   "metadata": {},
   "outputs": [],
   "source": [
    "# 10페이지에 대해 댓글 수집\n",
    "reviews_list = []\n",
    "for j in range(1, 11):\n",
    "    url='https://movie.naver.com/movie/bi/mi/pointWriteFormList.naver?code=187348&type=after&isActualPointWriteExecute=false&isMileageSubscriptionAlready=false&isMileageSubscriptionReject=false&page='+str(j)\n",
    "    html = urlopen(url)\n",
    "    html_source = BeautifulSoup(html, 'html.parser', from_encoding='utf-8') # 댓글 페이지를 utf-8 형식으로 html 소스 가져오기\n",
    "    \n",
    "    for i in range(10):\n",
    "        html_reviews = html_source.find('span', {'id':'_filtered_ment_' + str(i)})\n",
    "        reviews_list.append(html_reviews.text.strip())\n",
    "\n",
    "file = open('data/reviews.txt', 'w', encoding='utf-8')\n",
    "for review in reviews_list: # 요소를 1개의 행으로 저장되도록 개행문자 추가\n",
    "    file.write(review + '\\n') # 개행 문자 추가 --> Enter, 줄바꿈 효과\n",
    "file.close()"
   ]
  },
  {
   "cell_type": "markdown",
   "metadata": {},
   "source": [
    "### **2) 크롤링한 데이터 전처리**"
   ]
  },
  {
   "cell_type": "code",
   "execution_count": 14,
   "metadata": {},
   "outputs": [],
   "source": [
    "with open('data/reviews.txt', 'r', encoding='utf-8') as f:\n",
    "    review_data = f.readlines()\n",
    "\n",
    "f.close()"
   ]
  },
  {
   "cell_type": "code",
   "execution_count": 15,
   "metadata": {},
   "outputs": [
    {
     "data": {
      "text/plain": [
       "100"
      ]
     },
     "execution_count": 15,
     "metadata": {},
     "output_type": "execute_result"
    }
   ],
   "source": [
    "len(review_data)"
   ]
  },
  {
   "cell_type": "code",
   "execution_count": 16,
   "metadata": {},
   "outputs": [
    {
     "data": {
      "text/plain": [
       "['명품 브랜드라 믿고 샀는데 안에 made in china가 적혀있었다\\n',\n",
       " '자세히 보면 중국 문화 올려치는 영화입니다. 초반부터 똥양계는 무조건 한국인 취급하는데 우리는 당당히 중국인이다. ㅇㅈㄹ하고요. 깊고 정통한 중국 문화는 대를 이어서 간다. 마카오에서 K-POP 댄스 추는 거 보고 ...\\n',\n",
       " '마블의 중국산 D-War\\n',\n",
       " '세계관이나 설정들이 너무 붕 떠있고 개연성은 밥말아 먹어놓고 억지 신파 끼워넣기에 주인공은 무색무취 아무 매력 없음. 10초전 까지 죽일듯이 싸우던 애들이 갑자기 우리 함께 싸우자 ㅇㅈㄹ 하질 않나. 아부지 행동들 ...\\n',\n",
       " '마블의 탈을 쓴 중국 무협영화. 중국 시장과 자본을 지나치게 의식한 디즈니의 연이은 헛발질. CG 범벅에 협소한 공간에서 몇 안되는 인원들의 액션 등 스케일마저 왜 이리 작아진 건지...\\n',\n",
       " '하 정말 재미없네요..\\n',\n",
       " '마블 영화를 본 건지 중국 영화를 본 건지 모르겠지만 양조위는 너무 멋있더라....\\n',\n",
       " '마블의 새로운 시작이다… 재밌어요\\n',\n",
       " '아부지를 왜케 미워하는거지 훈련빡시케 시켰다고 그러는건가아부지를 죽인댔다가 갑자기 필요하다하고 개연성이 좀 부족..텐링즈의 전설이란 제목도 뭐 굳이...\\n',\n",
       " '마블영화보면서 처음으로 졸았습니다 ㅜㅜ\\n',\n",
       " '일라오이 VS 사일러스\\n',\n",
       " '진짜 개노잼이다 와 이렇게 재미없는 마블영화도 첨\\n',\n",
       " '마블 영화라 믿기지 않을 정도로 지루해.. 졸려 죽는 줄 알았다ㅠ\\n',\n",
       " '노잼, 개연성 제로, 중국산 웹툰 느낌\\n',\n",
       " '이게뭐냐 진짜 마블 실망\\n',\n",
       " '전형적인 서양에서 생각하는 온갖 동양 클리셰는 몽따 넣은 영화 .. 보면서 불편\\n',\n",
       " '보는내내ㅠ드는 생각....왜 총안씀...?\\n',\n",
       " '솔직히 샹치 캐릭터의 매력이 뭔지 잘모르겠고 용타고 날라다닐땐 마블이 왜 저러나싶음...샹치 표정연기 못해서 캐릭터 몰입안됨..미스캐스팅....연기도 별로...캐릭들의 감정 이입도 어색하고(양조위 제외) 진행 전개도...\\n',\n",
       " '자기 어머니를 죽인 집단을, 다시 복수하는건데, 그걸 굳이 아버지를 미워하게 되는 관점이 좀 웃기긴함. 훈련과정속에서는 딱히 미워할요소가 없는데. 그리고 젤 황당했던게, 천년간 텐링즈끼고 잘 살아왔는데 난데없이 싸우...\\n',\n",
       " '마블에서 디워를 만들면 이렇겠구나\\n',\n",
       " '보지마.... 그냥 길에 돈과 시간을 버리자\\n',\n",
       " '마블을 기대하고 갔다가 추억의 중국무술영화 보고옴. 중국무술영화 좋아하던 분들은 재밌겠네. 난 뭘 보고온거지....\\n',\n",
       " '뛰쳐나갈뻔 개인적으로 구데기\\n',\n",
       " '마블빠돌인데 난 왤캐 별로였지...중국권문화라 거부감이 들어서인가? 그냥 그 마을 들어갈때부터 뭔가 이상했음양조위는 진짜 잘생겼고 여지껏 마블에서 볼수없었던 액션이기에 신선했음.암튼 샹치데뷔를 축하합니다\\n',\n",
       " '영상미나 액션은 정말 좋았는데 뭔가 내용 전개자체는 마블답지 못한느낌이였음 중국산무협느낌은 있을수밖에 없다고 쳐도 수룡과 괴물의 싸움은 뭔가 좀 이질감드는느낌이였고 수룡얼굴이 너무 귀여웠음 디지니 애니메이션에 나올것...\\n',\n",
       " '영상미 이런건 좋앗지만 그냥 중국영화 보는느낌이엿습니다,\\n',\n",
       " '액션은 확실히 엄청났다.하지만 영화는 액션이 전부가 아니다스토리가 어설프니 개연성이 부족하고, 개연성이 부족하니 영화에 몰입할 수 없다.이는 곧 영화가 노잼이라는 걸 의미한다.감상포인트를 하나 강제로 선택해야 하기에...\\n',\n",
       " '마블영화맞냐 넷플로 출시해도 볼까말까한 전형적인 짱깨영화\\n',\n",
       " '개인적으로 초반 30분은 신선했으나 이후부터는 흔한 쿵푸액션. 오그라들까말까 뜬금없을까말까 아슬아슬하게 선타기하는 신파와 스토리진행. cg와 영상미는 너무 좋았음\\n',\n",
       " 'ㅋㅋㅋ 아니 왜ㅋㅋㅋ 나는 재밋었는데 ㅋ디워보다는 솔직히 낫ㅈㅣ ㅋ\\n',\n",
       " '양조위와 나머지의 전설...\\n',\n",
       " '개연성 부족, 떡밥 회수 부족, 텐링즈 설명 부족\\n',\n",
       " '진짜 재밌어? 진짜???\\n',\n",
       " '그냥저냥 짱캐풍 오락영화\\n',\n",
       " '제발 악플 쓸거면 제대로 알고 등록합시다. 중국 자본 1도 안 들어간 영화고 중국에서 상영 금지된 영화입니다. 주인공 배우도 중국인 아니고 캐나다 국적의 배우입니다. 후반부의 플롯은 살짝 아쉬웠지만 영화 자체의 영상...\\n',\n",
       " '전혀 웃기지 않은 개그. 실제로 보면 민폐일것 같은 여친. 중국풍 CG 덩어리. 모든게 마블 답지 않았다. CG로 된 짜치는 용이 나온 순간 영화 자체가 그냥 흔한 중국 영화가 되어버렸다. 뜬금없는 중국속 구미호, ...\\n',\n",
       " '음 그냥 중국영화 딱 중국영화 그이상도 그이하도 아니다 중화 사상은 없는데 어디서 많이 본듯한 중국 무렵 영화 장면을 그대로 보는 듯 하고 발전이 없다. 영화 유투버들이 호들갑 떨면서 중국 느낌 없다고 해서 봤지만 ...\\n',\n",
       " '샹치와 아콰피나 친구컨셉으로 가자,러브라인으로 가면 못보겠슴\\n',\n",
       " '정말 마블의 영웅 서사는 기본기가 좋네요. 양조위는 신의 한 수!\\n',\n",
       " '중국영화에 마블스티커\\n',\n",
       " '와 액션 존윅급 꼭 강추 홀리몰리\\n',\n",
       " '그냥 중국 무협지 한편 봤다...중국영화 좋아하면 추천...아니면 노...\\n',\n",
       " '개인적으로 마블 영화의 강점은 확고한 그들만의 세계관과 그에따른 설득력이라 생각했는데. 샹치. 마블 히어로가 맞는가? 좀 더 완성도 있게 만든 중국무협영화 아니고? 천하의 마블이 양조위  포스에 묻어가려는 판이라니....\\n',\n",
       " '시사회를 보고 온 사람으로 말씀드리지만 절대로 중국을 위한 영화가 아닌 그냥 마블 영화입니다. 중국투자를 받지 않았고, 양조위씨와 양자경씨는 중국 블랙리스트 배우들인데 중국을 위한 영화였다면 왜 이들을 썼을까요? 제...\\n',\n",
       " '양조위가 너무 연기 잘함.  샹치보다 더 뇌리에 남음.  무술은 최고점!!!\\n',\n",
       " '그냥 중국영화 줫노잼 스킵해도 됨\\n',\n",
       " '마블 영화라고 너무 기대함\\n',\n",
       " '마블 계급장 떼고 봐도 이건 진짜 역대급 영화임.. 스토리 좋았고 특히나 영상미는 미친 퀄리티임 진짜.\\n',\n",
       " '지루한 서사.. 갑자기 초인적 능력이 생기는게 이해가 안됨. 굳이 샹치 솔로무비가 필요했나 싶음. 솔로 없이 자연스레 마블에 합류했어도 될 것 같았음. 갠적으로 마블이 버리는 카드가 아닌가 싶었음.\\n',\n",
       " '모자란 개연성에 인공호흡하는 양조위의 연기만 남은 영화\\n',\n",
       " '디워의 재림이란 말이 괜히 나온게 아니네  동양판타지 요소를 너무 과하게 넣음.. 특히 마지막 진 보스와 쫄따구 디자인은 어거지로 급하게 만들어 넣은느낌\\n',\n",
       " '양조위 말고는 딱히 남는 게 없는\\n',\n",
       " '여기 댓글창 무슨일? 다들 샹치가 중국현지 개봉 및 홍보 금지처분 받은건 알고 말하는건가 감독님은 하와이안이고 케이티역인 아콰피나는 한국계 미국인이고 심지어 샹치 역을 맡은 시무리우 배우는 캐나다 이민 출신인데 할머...\\n',\n",
       " '다른 건 모르겠고 양조위 형님 얼굴에 주름 생긴 거 보니 가슴이 아파온다.\\n',\n",
       " '미친 액션.. 진짜 화려해요양조위님은.. 늙지도 않으시고 너무 멋지고 애잔한 연기 좋아요\\n',\n",
       " '마지막 10분 정도만 존재감이 나타나는 주인공과 왠지 모르게 웃음이 나오는 액션씬. 디워와 쿵푸 팬더를 합쳐놓은 듯하다.\\n',\n",
       " '아니 마블 원작은 알고서 사람들이 욕을 하는건지 애초에 샹치라는 캐릭터 자체가 중국계 캐릭터고 마블에 이미 예전부터 샹치를 다루는 영화를 만들거라고 마블의 새로운 액션을 시도하겠다고 오래전부터 예고하고 있었는데무작정...\\n',\n",
       " '막 재밌다는건 아니고 쓰읍 하 아 뭐랄까 그냥 중국??\\n',\n",
       " '이게 슈X 드래곤볼이지 마블이아?\\n',\n",
       " '액션 ok 근데 이야기의 큰 줄기가 없다. 그냥 개연성이 부족한 오락영화\\n',\n",
       " '양조위 진짜 미쳤다 액션 눈빛 영어 다 대대대대존멋ㅠㅠ 액션 스케일도 쩔고 재밌는데 기승전 양조위 진짜 미쳤음\\n',\n",
       " '크게 기대는 안했지만 마블영화같지도않고 기대치보다도 낮네요.마블영화인데 보다가 졸았습니다.\\n',\n",
       " '이건 너무 충격적이다..마블 ㅂㄷ\\n',\n",
       " '영화관을 나오는데...장어먹고 싶드라..\\n',\n",
       " '마블 팬이라면 볼만하다는 댓글이 있는데 무슨소리인지 모르겠다. VOD로도 진짜 보기 아깝다.\\n',\n",
       " '용이랑 괴물이 싸우는 장면에서 b급 중국영화 느낌이 나서 아쉬웠음\\n',\n",
       " '마블답지 않은 전개에요\\n',\n",
       " '마블 껍데기 쓴 뻔한 중국 영화\\n',\n",
       " '너무 여러 가지 요소들을 짬뽕시켜놔서 좀 뜬금없는 느낌이 있었음\\n',\n",
       " '역시 cg처리를 비롯한 영상미는 끝내줬어요. 근데 너무나도 중국중국중국,, 언어만 영어를 사용할 뿐 언어를 제외한 영화의 모든게 중국!!! 내용도 뻔하고,,, 마블처돌이는 샹치를 보고 웁니다 ㅜㅅㅜ\\n',\n",
       " '마블을 보는건지, 중국영화를 보는건지...용 나올땐 어이가 없더라구요.영화전개도 별로고 마음에 드는게 하나도없었네요 ㅜ 영화보다가 잘뻔.\\n',\n",
       " '양조위씨 아버지의 애증연기가  다했습니다\\n',\n",
       " '뒷부분 하이라이트보다 앞부분 버스 씬이 더 샹치스러웠다\\n',\n",
       " '양조위와 텐 링즈의 전설\\n',\n",
       " '갠적으루 웬우 서사가 샹치 서사보다 더 좋았다ㅎㅎㅎ\\n',\n",
       " '와...나 양조위 좋아하네\\n',\n",
       " '초중반까지 분위기 좋다가 갑자기 중국전통 판타지 무협영화가 되버려서 아쉬웠네요.\\n',\n",
       " '뭐 액션은 말이 필요없는 수준이고 마지막 클라이맥스 씬에서 스케일이나 영상미가 예술이었음ㅋㅋㅋ  페이즈 4에서 아주 중요한 영화인 듯하니 아이맥스로 꼭 보시길!\\n',\n",
       " '양조위만 남았다..\\n',\n",
       " '중국풍이 넘 강해서 생각만큼 재밌진 않음 그냥 마블이라서 봄\\n',\n",
       " '액션에 공들인 게 확연히 느껴진다. 여느 슈퍼히어로 영화들과 같이 스토리 자체는 지극히 평범했다. 예상했던 대로 할리우드 특유의 오리엔탈리즘도 부각되었다. 이러한 점들을 감안해도 이 정도 완성도를 뽑아냈다는 것에 만...\\n',\n",
       " '세상에 존재하는 클리셰는 다 집어넣은듯ㅋㅋㅋ 액션 많은건 좋은데 싸우다가 왜 죽는거 구경만 하는거에 답답함을 느낌\\n',\n",
       " '쿠키영상이 다했다 내용도 뻔한 클리셰지만 마블답게 잘 풀어낸거같음\\n',\n",
       " '마블영화라는 프레임에 속지마세요~\\n',\n",
       " \"호불호가 많이 갈리네요 전 '호'였습니다\\n\",\n",
       " '아버지를 저렇게까지 미워하는 게 좀 공감이 안갔다.\\n',\n",
       " '머리는 샹치 응원하는데,, 마음은 양조위 응원함,, 명불허전 양조위ㅠㅠ\\n',\n",
       " '편의점 집 아들이 많이 컸네\\n',\n",
       " '중국맛이랑 헐리우드맛이랑 잘 섞어놨다고 생각하고, 나는 뭐 영화보는데 불편하지 않았고 액션 좋고 재밌었다.\\n',\n",
       " '마블 영화 중에 제일 재미없게 봤음ㅠㅠ\\n',\n",
       " '이번건 마블영화야 중화사상 영화가 아니라고..\\n',\n",
       " '오랜만에 잘잤다 덕분에 꿀잠\\n',\n",
       " '진심 중국은 마블 내에서도 민폐네요 중국산은 어떻게든 위상 높일려고 안달난 느낌 올림픽이든 뭐든 다 발악하겠지만 아무도 인정 안해줍니다\\n',\n",
       " '마블 영화 중 최악ㅎㅎㅋㅋ\\n',\n",
       " '재미도 없고 그냥 다 별로..\\n',\n",
       " '양조위는 항상 옳다\\n',\n",
       " '샹치의 매력은 잘 모르겠으나 양조위는 좋았음\\n',\n",
       " '진짜 댓글 수준 와……아직 보지도 않았는데 봤다고 하는 사람도 있고, 여기서 쓸데없는 얘기하는 사람들도 있고ㅋㅋㅋ\\n',\n",
       " '샹치배우 최선이었나\\n',\n",
       " '쿠키 외엔 액션 합 정도만 볼만한 영화. 그나마 양조위 아저씨는 개멋지긴 하다.토르2 이후로 처음으로 영화보다 잠들어 버림\\n']"
      ]
     },
     "execution_count": 16,
     "metadata": {},
     "output_type": "execute_result"
    }
   ],
   "source": [
    "review_data"
   ]
  },
  {
   "cell_type": "markdown",
   "metadata": {},
   "source": [
    "### **3) 한글만 남기고 다른 글자 제거**"
   ]
  },
  {
   "cell_type": "code",
   "execution_count": 17,
   "metadata": {},
   "outputs": [
    {
     "name": "stdout",
     "output_type": "stream",
     "text": [
      "아부지를왜케미워하는거지훈련빡시케시켰다고그러는건가아부지를죽인댔다가갑자기필요하다하고개연성이좀부족텐링즈의전설이란제목도뭐굳이\n"
     ]
    }
   ],
   "source": [
    "import re\n",
    "\n",
    "tmp = re.sub('[^가-힣]', '', review_data[8])\n",
    "print(tmp)"
   ]
  },
  {
   "cell_type": "code",
   "execution_count": 18,
   "metadata": {},
   "outputs": [
    {
     "name": "stdout",
     "output_type": "stream",
     "text": [
      "아부지를왜케미워하는거지훈련빡시케시켰다고그러는건가아부지를죽인댔다가갑자기필요하다하고개연성이좀부족텐링즈의전설이란제목도뭐굳이\n"
     ]
    }
   ],
   "source": [
    "tmp = re.sub(' +', ' ', tmp)\n",
    "print(tmp)"
   ]
  },
  {
   "cell_type": "code",
   "execution_count": 19,
   "metadata": {},
   "outputs": [
    {
     "name": "stdout",
     "output_type": "stream",
     "text": [
      "아부지를 왜 케미워하는 거지 훈련 빡시케시켰다고 그러는 건가 아부지를 죽인 댔다가 갑자기 필요하다 하고 개연성이 좀 부족텐링즈의 전설이란 제목도 뭐 굳이\n"
     ]
    }
   ],
   "source": [
    "from pykospacing import Spacing\n",
    "\n",
    "spacing = Spacing()\n",
    "kospacing_sent = spacing(tmp)\n",
    "\n",
    "print(kospacing_sent)"
   ]
  },
  {
   "cell_type": "code",
   "execution_count": 22,
   "metadata": {},
   "outputs": [
    {
     "name": "stdout",
     "output_type": "stream",
     "text": [
      "아버지를 왜 게 미워하는 거지 훈련 빡세 케시 켰다고 그러는 건가 아버지를 죽인 댔다가 갑자기 필요하다 하고 개연성이 좀 부족텐링즈의 전설이란 제목도 뭐 굳이\n"
     ]
    }
   ],
   "source": [
    "from hanspell import spell_checker\n",
    "\n",
    "spelled_sent = spell_checker.check(kospacing_sent)\n",
    "hanspell_sent = spelled_sent.checked\n",
    "print(hanspell_sent)"
   ]
  },
  {
   "cell_type": "markdown",
   "metadata": {},
   "source": [
    "# **6. Transformer**"
   ]
  },
  {
   "cell_type": "markdown",
   "metadata": {},
   "source": [
    "## **6.1 Intro**"
   ]
  },
  {
   "cell_type": "markdown",
   "metadata": {},
   "source": [
    "Transformer는 2017년 구글이 발표한 논문인 [Attention is all you need](https://arxiv.org/abs/1706.03762)에서 나온 모델로 기존의 seq2seq의 구조인 인코더-디코더의 구조는 따르면서 attention만으로 구현한 모델입니다. 이 모델은 RNN을 사용하지 않았음에도 RNN보다 더 좋은 성능을 보여줍니다. \n",
    "\n",
    "시작에 앞서 트랜스포머의 하이퍼파라미터를 정의하겠습니다. 하이퍼파라미터에 대한 설명은 뒤에 이어 나오고 여기선 정의만 먼저 하겠습니다. 수치는 논문에서 제의한 수치이고 사용자가 임의로 변경할 수 잇는 값들입니다.\n",
    "\n",
    "* $d_{model}$ = 512  \n",
    "트랜스포머의 인코더와 디코더에서 정해진 입력과 출력의 크기를 의미합니다. 임베딩 벡터의 차원 또한 $d_{model}$이며, 각 인코더와 디코더가 다음 층의 인코더와 디코더로 값을 보낼 때에도 이 차원을 유지합니다. 논문에선 512로 정의했습니다.  \n",
    "\n",
    "$$ $$\n",
    "\n",
    "* num_layers = 6  \n",
    "트랜스포머에서 하나의 인코더와 디코더를 층으로 생각했을 때, 트랜스포머 모델에서 인코더와 디코더가 총 몇 층으로 구성되었는지를 의미합니다. 논문에선 6으로 정의했습니다.\n",
    "\n",
    "$$ $$\n",
    "\n",
    "* num_heads = 8  \n",
    "트랜스포머에선 어텐션을 병령로 수행하는데 이때 병렬의 개수를 의미합니다. 논문에선 8로 정의했습니다.\n",
    "\n",
    "$$ $$\n",
    "\n",
    "* $d_{ff}$ = 2048  \n",
    "트랜스포머 내부에는 피드 포워드 신경망이 존재하며 해당 신경망의 은닉층의 크기를 의미합니다. 피드 포워드 신경망의 입력층과 출력층의 크기는 $d_{model}$입니다."
   ]
  },
  {
   "cell_type": "code",
   "execution_count": 1,
   "metadata": {},
   "outputs": [],
   "source": [
    "import numpy as np\n",
    "import torch\n",
    "import torch.nn as nn\n",
    "import torch.nn.functional as F\n",
    "import math, copy, time\n",
    "from torch.autograd import Variable\n",
    "import matplotlib.pyplot as plt\n",
    "import seaborn\n",
    "seaborn.set_context(context=\"talk\")\n",
    "%matplotlib inline"
   ]
  },
  {
   "cell_type": "code",
   "execution_count": 59,
   "metadata": {},
   "outputs": [],
   "source": [
    "def clones(module, N):\n",
    "    \"Produce N identical layers.\"\n",
    "    return nn.ModuleList([copy.deepcopy(module) for _ in range(N)])"
   ]
  },
  {
   "cell_type": "markdown",
   "metadata": {},
   "source": [
    "## **6.2 Transformer**"
   ]
  },
  {
   "cell_type": "markdown",
   "metadata": {},
   "source": [
    "<img src = \"http://jalammar.github.io/images/t/The_transformer_encoders_decoders.png\">\n",
    "\n",
    "트랜스포머는 RNN을 사용하지 않지만 기존 seq2seq처럼 인코더에서 입력 시퀀스를 입력받고 디코더에서 출력 시퀀스를 출력하는 인코더-디코더 구조를 유지하고 있습니다. 이전 seq2seq 구조에서 인코더와 디코더가 각각 하나의 RNN이 t개의 시점을 가지는 구조였다면 이번에는 인코더와 디코더라는 단위가 N개로 구성되는 구조입니다. 논문은 각각 6개로 설정했습니다.\n",
    "\n",
    "<img src = \"http://jalammar.github.io/images/t/The_transformer_encoder_decoder_stack.png\">\n",
    "\n",
    "위 그림이 인코더와 디코더가 6개씩 존재하는 트랜스포머의 구조를 보여줍니다. \n",
    "\n",
    "![transformer](_image/4-6-1.PNG)\n",
    "\n",
    "트랜스포머의 전체적 구조는 위와 같습니다. 복잡하고 어려운 것들이 많아 보이지만 하나씩 뜯어가며 살펴보겠습니다. "
   ]
  },
  {
   "cell_type": "markdown",
   "metadata": {},
   "source": [
    "## **6.3 Positional Encoding**"
   ]
  },
  {
   "cell_type": "markdown",
   "metadata": {},
   "source": [
    "트랜스포머의 내부를 보기 전에 입력을 먼저 알아보겠습니다. RNN은 단어의 위치에 따라 순차적으로 입력을 받기에 자연스레 위치 정보를 가질 수 있다는 장점이 있었습니다. \n",
    "\n",
    "하지만 트랜스포머는 단어의 입력을 순차적으로 받지 않기에 위치 정보를 저장하지 못합니다. 그렇기에 포지셔널 인코딩(positional encoding)을 통해 위치 정보를 더하여 입력으로 사용하게 됩니다. \n",
    "\n",
    "<img src = \"https://nlpinkorean.github.io/images/transformer/transformer_positional_encoding_vectors.png\">\n",
    "\n",
    "위 그림을 보면 입력이 들어가기 전에 입력값인 임베딩 벡터에 포지셔널 인코딩이 더해지는 것을 볼 수 있습니다. \n",
    "\n",
    "만약 임베딩 크기가 4라고 가정한다면, 실제로 각 위치에서 따른 포지녀설 인코딩은 아래와 같이 계산됩니다.\n",
    "\n",
    "<img src = \"https://nlpinkorean.github.io/images/transformer/transformer_positional_encoding_example.png\">\n",
    "\n",
    "이때 포지셔널 인코딩 벡터를 정하기 위해 아래의 두 함수를 사용합니다. (이것은 Sinusoidal Position Embedding이라고 합니다.)\n",
    "\n",
    "$$PE_{(pos, 2i)} = sin(pos/10000^{2i/d_{model}})$$\n",
    "$$PE_{(pos, 2i + 1)} = cos(pos/10000^{2i/d_{model}})$$\n",
    "\n",
    "sin과 cos함수의 값을 더해주므로 단어의 순서 정보를 더해주는 것입니다. 밑의 그래프는 임베딩 크기가 4일 때, 포지셔닝 인코딩을 해주기 위해 구한 사인과 코사인 함수의 그래프입니다.\n",
    "\n",
    "<img src = \"http://nlp.seas.harvard.edu/images/the-annotated-transformer_49_0.png\">\n",
    "\n",
    "위에서 x축은 단어의 순서입니다. 이를 기준으로 결정되는 4개의 값(임베딩 크기가 4이므로 그래프가 4개)으로 포지셔닝 인코딩 벡터를 만들어 더해주는 것입니다. \n",
    "\n",
    "좀 더 자세히 살펴보겠습니다. \n",
    "\n",
    "<img src = \"https://wikidocs.net/images/page/31379/transformer7.PNG\">\n",
    "\n",
    "pos는 입력 문장에서 임베딩 벡터의 위치를 나타내며 i는 임베딩 벡터 내의 차원 인덱스를 의미합니다. 위 식을 보면 알 수 있듯 인덱스가 짝수인 곳은 sin 함수, 인덱스가 홀수인 곳은 cos 함수를 사용합니다. 또한 위 식에서 $d_{model}$은 트랜스포머의 모든 층의 출력 차원을 의미하는 하이퍼파라미터입니다. 임베딩 벡터 또한 $d_{model}$의 크기를 가지며 위 그림에선 4, 논문에선 512로 정의되어있습니다. \n",
    "\n",
    "이렇게 같은 단어가 들어와도 순서 정보가 합쳐져 다른 임베딩 벡터가 만들어지게 됩니다. 이를 코드로 구현하면 다음과 같습니다."
   ]
  },
  {
   "cell_type": "code",
   "execution_count": 2,
   "metadata": {},
   "outputs": [],
   "source": [
    "class PositionalEncoding(nn.Module):\n",
    "    \"\"\"Implement the PE function\"\"\"\n",
    "    def __init__(self, d_model, dropout, max_len=5000):\n",
    "        super(PositionalEncoding, self).__init__()\n",
    "        self.dropout = nn.Dropout(p=dropout)\n",
    "        \n",
    "        # Compute the positional encodings once in log space.\n",
    "        pe = torch.zeros(max_len, d_model)\n",
    "        position = torch.arange(0, max_len).unsqueeze(1)\n",
    "        div_term = torch.exp(torch.arange(0, d_model, 2) * -(math.log(10000.0) / d_model))\n",
    "        pe[:, 0::2] = torch.sin(position * div_term)\n",
    "        pe[:, 1::2] = torch.cos(position * div_term)\n",
    "        pe = pe.unsqueeze(0)\n",
    "        self.register_buffer('pe', pe)\n",
    "\n",
    "    def forward(self, x):\n",
    "        x += Variable(self.pe[:, :x.size(1)], requires_grad=False)\n",
    "        return self.dropout(x)"
   ]
  },
  {
   "cell_type": "code",
   "execution_count": 3,
   "metadata": {},
   "outputs": [
    {
     "data": {
      "text/plain": [
       "<matplotlib.legend.Legend at 0x1173f31f430>"
      ]
     },
     "execution_count": 3,
     "metadata": {},
     "output_type": "execute_result"
    },
    {
     "data": {
      "image/png": "[encoded data removed]",
      "text/plain": [
       "<Figure size 1080x360 with 1 Axes>"
      ]
     },
     "metadata": {
      "needs_background": "light"
     },
     "output_type": "display_data"
    }
   ],
   "source": [
    "plt.figure(figsize=(15, 5))\n",
    "pe = PositionalEncoding(20, 0)\n",
    "y = pe.forward(Variable(torch.zeros(1, 100, 20)))\n",
    "plt.plot(np.arange(100), y[0, :, 4:8].data.numpy())\n",
    "plt.legend([\"dim %d\"%p for p in [4, 5, 6, 7]])"
   ]
  },
  {
   "cell_type": "code",
   "execution_count": 26,
   "metadata": {},
   "outputs": [
    {
     "data": {
      "image/png": "[encoded data removed]",
      "text/plain": [
       "<Figure size 432x288 with 2 Axes>"
      ]
     },
     "metadata": {
      "needs_background": "light"
     },
     "output_type": "display_data"
    }
   ],
   "source": [
    "# 임베딩 벡터의 차원 128, 문장의 길이 50\n",
    "sample_pos_encoding = PositionalEncoding(128, 0, 50)\n",
    "\n",
    "y = sample_pos_encoding.forward(Variable(torch.zeros(1, 50, 128)))\n",
    "plt.pcolormesh(y[0])\n",
    "plt.xlabel(\"Depth\")\n",
    "plt.xlim((0, 128))\n",
    "plt.ylabel(\"Position\")\n",
    "plt.colorbar()\n",
    "plt.show()"
   ]
  },
  {
   "cell_type": "markdown",
   "metadata": {},
   "source": [
    "## **6.4 Trasformer에서 사용되는 Attention**"
   ]
  },
  {
   "cell_type": "markdown",
   "metadata": {},
   "source": [
    "<img src = \"https://wikidocs.net/images/page/31379/attention.PNG\">\n",
    "\n",
    "트랜스포머에선 위 그림에 나타난 세 가지 어텐션을 사용합니다. 첫번째 어텐션은 인코더에서, 두번째와 세번째 어텐션은 디코더에서 사용됩니다. 셀프 어텐션은 본질적으로 쿼리(Query), 키(Key), 값(Value)가 동일한 경우(출처가 같다)를 말합니다. 그렇기에 세번째 어텐션의 경우 쿼리는 디코더의 벡터, 키와 값는 인코더의 벡터이므로 셀프 어텐션이 아닙니다. \n",
    "\n",
    "<img src = \"https://wikidocs.net/images/page/31379/transformer_attention_overview.PNG\">\n",
    "\n",
    "위 그림은 각각의 어텐션이 위치하는 곳을 표시한 것입니다."
   ]
  },
  {
   "cell_type": "markdown",
   "metadata": {},
   "source": [
    "## **6.5 Encoder**"
   ]
  },
  {
   "cell_type": "markdown",
   "metadata": {},
   "source": [
    "이제 인코더에 대해서 알아보겠습니다.\n",
    "\n",
    "![encoder](_image/4-6-2.PNG)\n",
    "\n",
    "트랜스포머는 하이퍼파라미터인 num_layers(위 그림에서 N) 개수의 인코더 층을 쌓습니다. 논문은 6개의 층을 쌓았습니다. 하나의 인코더 층은 크게 attention과 feed forward 두 개의 서브층(sublayer)으로 나뉘어집니다. "
   ]
  },
  {
   "cell_type": "markdown",
   "metadata": {},
   "source": [
    "### **1) Self-Attention**"
   ]
  },
  {
   "cell_type": "markdown",
   "metadata": {},
   "source": [
    "어텐션 함수는 주어진 쿼리에 대해서 모든 키와의 유사도를 구합니다. 그리고 구한 유사도를 가중치로 사용하여 키와 맵핑되어있는 각각의 값에 반영합니다. 그리고 유사도가 반영된 값을 모두 가중합하여 출력합니다.\n",
    "\n",
    "<img src = \"https://wikidocs.net/images/page/22893/%EC%BF%BC%EB%A6%AC.PNG\">\n",
    "\n",
    "이것이 앞서 배운 어텐션의 기본 개념입니다. 여기서 주어진 쿼리, 키, 값의 의미는 다음과 같습니다.\n",
    "\n",
    "- Q(Query): 모든 시점의 디코더 셀에서의 은닉 상태들\n",
    "- K(Keys): 모든 시점의 인코더 셀의 은닉 상태들\n",
    "- V(Values): 모든 시점의 인코더 셀의 은닉 상태들\n",
    "\n",
    "기존 어텐션은 위처럼 Q와 K가 다른 값을 가지고 있었습니다. 그러나 셀프 어텐션(self-attention)은 Q, K, V가 모두 동일합니다. 그렇기에 트랜스포머에서 Q, K, V는 다음과 같습니다.\n",
    "\n",
    "- Q(Query): 입력 문장의 모든 단어 벡터들\n",
    "- K(Keys): 입력 문장의 모든 단어 벡터들\n",
    "- V(Values): 입력 문장의 모든 단어 벡터들\n",
    "\n",
    "이를 도입한 이유는 모델이 단어들을 인코딩할 때, 다른 단어들을 보고 더 정확한 인코딩을 하도록 만들기 위함입니다. 예를 들어 \"The animal didn't cross the street because it was too tired.\"라는 문장이 있을 때, \"it\"은 무엇일까요? 사람은 \"animal\"이란 것을 알 수 있지만 기계는 \"animal\"과 \"street\" 중 쉽게 고르지 못합니다. 이를 방지하기 위해 현재 처리 중인 단어와 연관 있는 다른 단어들의 맥락을 고려하여 임베딩하는 것입니다.\n",
    "\n",
    "<img src = \"https://nlpinkorean.github.io/images/transformer/transformer_self-attention_visualization.png\">"
   ]
  },
  {
   "cell_type": "markdown",
   "metadata": {},
   "source": [
    "### **2) Scaled dot-product Attention**"
   ]
  },
  {
   "cell_type": "markdown",
   "metadata": {},
   "source": [
    "**Q, K, V 벡터 생성**\n",
    "\n",
    "셀프 어텐션은 첫번째로 인코더에 입력된 벡터로부터 Q, K, V라는 3개의 벡터를 만들어냅니다. 이 벡터들은 입력 벡터에 대해서 세 개의 학습 가능한 행렬들을 각각 곱함으로 만들어집니다.\n",
    "\n",
    "이때 Q, K, V 벡터들은 초기 입력인 $d_{model}$보다 작은 차원을 가집니다. 논문에선 $d_{model}$이 512인데 반해 새로운 벡터들의 차원은 64입니다. 그러나 꼭 작아야하는 것은 아닙니다. 여기서 새로운 벡터들의 차원을 작게 한 이유는 multi-head attention의 계산 복잡도를 일정하게 만들기 위함일 뿐입니다.  \n",
    "\n",
    "<img src = \"https://nlpinkorean.github.io/images/transformer/transformer_self_attention_vectors.png\">\n",
    "\n",
    "위 그림에서 $x_1$에 가중치 행렬 $W_Q$를 곱하여 현재 단어와 연관된 쿼리 벡터 $q_1$을 생성합니다. 마찬가지로 다른 $q_1, \\; k_1, \\; v_1$ 벡터도 만들어집니다. 이때 각 가중치 행렬은 $d_{model} \\times (d_{model}\\;/num\\_heads)$의 크기를 가집니다. 논문과 같다면 $d_{model}=512, \\; num\\_heads=8$로 64의 크기를 가지는 $q_1, \\; k_1, \\; v_1$벡터가 만들어집니다. "
   ]
  },
  {
   "cell_type": "markdown",
   "metadata": {},
   "source": [
    "**어텐션 점수 계산**\n",
    "\n",
    "두번째로 어텐션 점수를 계산합니다. 아래 예시의 첫번째 단어인 \"Thinking\"에 대해 계산한다고 하겠습니다. 그렇다면 \"Thinking\"과 입력 문장 속 다른 모든 단어들에 대해서 점수를 구해야 합니다. 이 점수가 추후 인코딩할 때, 다른 단어들에 대해 얼마나 집중해야 할 지 결정합니다.\n",
    "\n",
    "점수는 현재 단어의 쿼리 벡터와 다른 단어의 키 벡터의 내적으로 계산됩니다. 즉, 유사도와 동일합니다.\n",
    "\n",
    "<img src = \"https://nlpinkorean.github.io/images/transformer/transformer_self_attention_score.png\">"
   ]
  },
  {
   "cell_type": "markdown",
   "metadata": {},
   "source": [
    "**Softmax**\n",
    "\n",
    "이제 점수들을 키 벡터의 크기인 $d_k$의 제곱근인 $\\sqrt{d_k}$로 나눠줍니다. 이는 값들을 전체적으로 0과 가깝게 만들어줍니다. 그래서 소프트맥스의 대소 관계를 바꾸진 않지만 서로의 격차를 줄여주고 가중치가 하나로 쏠리는 현상을 막아줍니다. (더 안정적인 gradient를 가지게 만듭니다.) 그리고 이 값을 softmax 계산을 통해 각 단어의 표현이 얼마나 들어갈지 결정합니다. \n",
    "\n",
    "<img src = \"https://nlpinkorean.github.io/images/transformer/self-attention_softmax.png\">\n",
    "\n",
    "대부분 현재 단어의 위치가 가장 높은 점수를 받지만 가끔씩 다른 단어에 정보가 들어가는 것이 도움이 될 때도 있습니다."
   ]
  },
  {
   "cell_type": "markdown",
   "metadata": {},
   "source": [
    "**가중합**\n",
    "\n",
    "막바지입니다. 이제 각 단어들의 V 벡터에 이 점수를 곱합니다. 즉, 가중치들을 곱해줍니다. 그리고 구해진 벡터들을 모두 합하여 출력시킵니다. 출력된 값은 Add & Norm을 거쳐 Feed Forward에 입력값으로 들어갑니다.\n",
    "\n",
    "<img src = \"https://nlpinkorean.github.io/images/transformer/self-attention-output.png\">"
   ]
  },
  {
   "cell_type": "markdown",
   "metadata": {},
   "source": [
    "### **3) Scaled dot-product attention을 행렬 연산으로**"
   ]
  },
  {
   "cell_type": "markdown",
   "metadata": {},
   "source": [
    "위 계산은 각 벡터들의 계산으로 진행되었습니다. 그러나 실제 구현에서는 빠른 속도를 위해 행렬의 형태로 진행됩니다.\n",
    "\n",
    "먼저 입력 문장에 대해 Q, K, V의 행렬들을 계산합니다. 이를 위해 입력 벡터들을 하나의 행렬 X로 쌓아 올리고 그것을 우리가 학습할 $W_Q, W_K, W_V$로 곱합니다.\n",
    "\n",
    "<img src = \"https://nlpinkorean.github.io/images/transformer/self-attention-matrix-calculation.png\">\n",
    "\n",
    "그리고 이 후는 위에서 했던 것과 동일합니다. Q와 K의 전치 행렬을 곱하고 K의 차원의 제곱근으로 나눠준 뒤, 소프트맥스를 하고 V를 곱해 값을 구하는 단계를 차근차근 거치면 됩니다.\n",
    "\n",
    "<img src = \"https://nlpinkorean.github.io/images/transformer/self-attention-matrix-calculation-2.png\">\n",
    "\n",
    "이를 식으로 표현하면 다음과 같습니다. \n",
    "\n",
    "$$Attention(Q, K, V) = softmax(\\frac{QK^T}{\\sqrt{d_k}})V$$\n",
    "\n",
    "이때 구해지는 행렬을 A라고 할 때, A의 크기는 (seq_len, $d_V$)가 됩니다. 여기서 seq_len은 문장의 길이입니다. Q와 K의 크기가 (seq_len, $d_K$), V의 크기가 (seq_len, $d_V$)이므로 결과적으로 위와 같은 결과가 나오는 것입니다. 단 논문에서는 $d_{model}\\;/\\;num\\_heads=d_K=d_V$로 세 행렬의 크기가 모두 같습니다. \n",
    "\n",
    "이제 이를 코드로 표현해보겠습니다."
   ]
  },
  {
   "cell_type": "code",
   "execution_count": 31,
   "metadata": {},
   "outputs": [],
   "source": [
    "def attention(query, key, value, mask=None, dropout=None):\n",
    "    \"\"\"Compute Scaled Dot Product Attention\n",
    "\n",
    "    Args's size:\n",
    "        query: (batch_size, num_heads, query 문장 길이, d_model/num_heads(=d_k))\n",
    "        key: (batch_size, num_heads, key 문장 길이, d_model/num_heads(=d_k))\n",
    "        value: (batch_size, num_heads, value 문장 길이, d_model/num_heads(=d_k))\n",
    "        mask: (batch_size, 1, 1, key의 문장 길이)\n",
    "\n",
    "    Returns:\n",
    "        torch.matmul(p_attn, value): attention 연산의 결과인 행렬 A\n",
    "        p_attn: attention score\n",
    "    \"\"\"\n",
    "    d_k = query.size(-1)\n",
    "    scores = torch.matmul(query, key.transpose(-2, -1)) / math.sqrt(d_k)\n",
    "    \n",
    "    if mask is not None:\n",
    "        scores = scores.masked_fill(mask == 0, -1e9)\n",
    "    \n",
    "    # softmax는 마지막 차원인 key의 문장 길이 방향으로 수행된다.\n",
    "    # p_attn: (batch_size, num_heads, query의 문장 길이, key의 문장 길이)\n",
    "    p_attn = F.softmax(scores, dim=-1)\n",
    "    \n",
    "    if dropout is not None:\n",
    "        p_attn = dropout(p_attn)\n",
    "    \n",
    "    # torch.matmul(p_attn, value): (batch_size, num_heads, query의 문장 길이, d_model / num_heads)\n",
    "    return torch.matmul(p_attn, value), p_attn"
   ]
  },
  {
   "cell_type": "markdown",
   "metadata": {},
   "source": [
    "함수가 정상적으로 작동하는지 확인해보겠습니다."
   ]
  },
  {
   "cell_type": "code",
   "execution_count": 55,
   "metadata": {},
   "outputs": [],
   "source": [
    "# 임의의 Q, K, V 행렬 생성\n",
    "np.set_printoptions(suppress=True)\n",
    "\n",
    "# 소수점 첫째 자리까지 표시, 십진법으로 표현(5e+1 -> 50)\n",
    "torch.set_printoptions(precision=1, sci_mode=False)\n",
    "temp_k = torch.FloatTensor([[10, 0, 0],\n",
    "                            [0, 10, 0],\n",
    "                            [0, 0, 10],\n",
    "                            [0, 0, 10]]) # (4, 3)\n",
    "\n",
    "temp_v = torch.FloatTensor([[1, 0],\n",
    "                            [10, 0],\n",
    "                            [100, 5],\n",
    "                            [1000, 6]]) # (4, 2)\n",
    "\n",
    "temp_q = torch.FloatTensor([[0, 10, 0]]) # (1, 3)"
   ]
  },
  {
   "cell_type": "markdown",
   "metadata": {},
   "source": [
    "여기서 주목할 것은 쿼리의 값이 키의 두번째 행과 일치한다는 것입니다."
   ]
  },
  {
   "cell_type": "code",
   "execution_count": 56,
   "metadata": {},
   "outputs": [
    {
     "name": "stdout",
     "output_type": "stream",
     "text": [
      "tensor([[0, 1, 0, 0]], dtype=torch.int32)\n",
      "tensor([[10,  0]], dtype=torch.int32)\n"
     ]
    }
   ],
   "source": [
    "# 함수 실행\n",
    "temp_out, temp_attn = attention(temp_q, temp_k, temp_v)\n",
    "print(temp_attn.type(torch.IntTensor)) # attention score\n",
    "print(temp_out.type(torch.IntTensor)) # attention output"
   ]
  },
  {
   "cell_type": "markdown",
   "metadata": {},
   "source": [
    "Q는 4개의 키 값 중 두번째 값과 일치하므로 점수 역시 [0, 1, 0, 0]임을 볼 수 있습니다. 그리고 그 결과로 V의 두번째 값인 [10, 0]이 나오는 것을 확인할 수 있습니다. \n",
    "\n",
    "이번엔 Q를 바꿔 다시 실행해보겠습니다."
   ]
  },
  {
   "cell_type": "code",
   "execution_count": 57,
   "metadata": {},
   "outputs": [
    {
     "name": "stdout",
     "output_type": "stream",
     "text": [
      "tensor([[    0.00,     0.00,     0.50,     0.50]])\n",
      "tensor([[550.00,   5.50]])\n"
     ]
    }
   ],
   "source": [
    "temp_q = torch.FloatTensor([[0, 0, 10]])\n",
    "temp_out, temp_attn = attention(temp_q, temp_k, temp_v)\n",
    "print(temp_attn) # attention score\n",
    "print(temp_out) # attention output"
   ]
  },
  {
   "cell_type": "markdown",
   "metadata": {},
   "source": [
    "점수가 [0, 0, 0.5, 0.5]가 나온 것은 세번째 값과 네번째 값 두 개의 값이 유사하다는 의미입니다. 그렇기에 결과적으로 나온 [550, 0.5]는 V의 세번째 값 [100, 5] * 0.5과 네번째 값 [1000, 6] * 0.5를 합친 값입니다. \n",
    "\n",
    "이번에는 3개의 Q 값을 입력으로 사용해보겠습니다."
   ]
  },
  {
   "cell_type": "code",
   "execution_count": 58,
   "metadata": {},
   "outputs": [
    {
     "name": "stdout",
     "output_type": "stream",
     "text": [
      "tensor([[    0.00,     0.00,     0.50,     0.50],\n",
      "        [    0.00,     1.00,     0.00,     0.00],\n",
      "        [    0.50,     0.50,     0.00,     0.00]])\n",
      "tensor([[  550.00,     5.50],\n",
      "        [   10.00,     0.00],\n",
      "        [    5.50,     0.00]])\n"
     ]
    }
   ],
   "source": [
    "temp_q = torch.FloatTensor([[0, 0, 10], [0, 10, 0], [10, 10, 0]])\n",
    "temp_out, temp_attn = attention(temp_q, temp_k, temp_v)\n",
    "print(temp_attn) # attention score\n",
    "print(temp_out) # attention output"
   ]
  },
  {
   "cell_type": "markdown",
   "metadata": {},
   "source": [
    "Scaled Dot-Product Attention의 구조를 나타내면 다음과 같습니다.\n",
    "\n",
    "![sdpa](_image/4-6-3.PNG)"
   ]
  },
  {
   "cell_type": "markdown",
   "metadata": {},
   "source": [
    "### **4) Multi-head Attention**"
   ]
  },
  {
   "cell_type": "markdown",
   "metadata": {},
   "source": [
    "![mha](_image/4-6-4.PNG)\n",
    "\n",
    "위 그림처럼 Multi-head Attention은 scaled dot-product attention을 병렬적으로 풀어 계산한 뒤 합치는 것을 의미합니다. 이는 $W_Q, W_V, W_K$을 여러 개 가지는 것입니다. 논문에서 정의한 num_heads가 바로 병렬의 개수를 지정하는 것으로 논문은 8로 정의했습니다. 이는 각각 독립적으로 학습되고 각 목적에 맞게 투영시킵니다. 다른 시각으로 단어들의 관계들을 살펴보고 그것을 종합하여 사용하는 것입니다. \n",
    "\n",
    "<img src = \"https://nlpinkorean.github.io/images/transformer/transformer_attention_heads_qkv.png\">\n",
    "\n",
    "앞서 이야기했듯이 각 attention head마다 $W_Q, W_V, W_K$을 가집니다. 그렇기에 Q, V, K 행렬도 각 head마다 생성됩니다. 각 head마다 self-attention 과정을 거치면 head 개수만큼 결과가 나옵니다. 이를 feed-forward layer로 보내기 위해선 이를 하나의 행렬로 합쳐야 합니다. \n",
    "\n",
    "이를 위해 일단 모두 이어 붙여서 하나의 행렬로 만들어줍니다. 그리고 output을 위한 또다른 가중치 행렬 $W_O$를 곱해버립니다. \n",
    "\n",
    "<img src = \"https://nlpinkorean.github.io/images/transformer/transformer_attention_heads_weight_matrix_o.png\">\n",
    "\n",
    "이제 인코더의 과정을 한 눈으로 보겠습니다. \n",
    "\n",
    "<img src = \"https://nlpinkorean.github.io/images/transformer/transformer_multi-headed_self-attention-recap.png\">\n",
    "\n",
    "여기서 최종 결과물인 Z는 입력값인 X와 크기가 동일한 것을 알 수 있습니다. 이는 사실 당연한데 다음 인코더에 들어가기 위해서 크기가 유지되야 합니다. \n",
    "\n",
    "이제 예제 문장을 이용해 동작 결과를 보겠습니다.\n",
    "\n",
    "<img src = \"https://nlpinkorean.github.io/images/transformer/transformer_self-attention_visualization_2.png\">\n",
    "\n",
    "\"it\"이라는 단어에 대해 인코딩할 때, 주황색의 attention head는 \"The\", \"animal\"에 가장 집중하고 있는 반면 초록색의 attention head는 \"tire\"에 집중하고 있는 것을 볼 수 있습니다. 이렇게 두 단어의 representation을 \"it\"의 representation에 포함시킬 수 있습니다.\n",
    "\n",
    "<img src = \"https://nlpinkorean.github.io/images/transformer/transformer_self-attention_visualization_3.png\">\n",
    "\n",
    "그러나 위처럼 모든 attention head를 하나로 표시하면 알아보기가 너무 어려워집니다.\n",
    "\n",
    "이제, Multi-head Attention 역시 코드로 구현해보겠습니다."
   ]
  },
  {
   "cell_type": "code",
   "execution_count": 61,
   "metadata": {},
   "outputs": [],
   "source": [
    "class MultiHeadAttention(nn.Module):\n",
    "    def __init__(self, h, d_model, dropout=0.1):\n",
    "        \"\"\"Take in model size and number of heads\"\"\"\n",
    "        super(MultiHeadAttention, self).__init__()\n",
    "        assert d_model % h == 0\n",
    "        \n",
    "        # We assume d_v always equals d_k\n",
    "        self.d_k = d_model // h\n",
    "        self.h = h\n",
    "        self.linears = clones(nn.Linear(d_model, d_model), 4)\n",
    "        self.attn = None\n",
    "        self.dropout = nn.Dropout(p=dropout)\n",
    "    \n",
    "    def forward(self, query, key, value, mask=None):\n",
    "        \"\"\"Implements Figure 2\"\"\"\n",
    "        if mask is not None:\n",
    "            # Same mask applied to all h heads.\n",
    "            mask = mask.unsqueeze(1)\n",
    "        nbatches = query.size(0)\n",
    "        \n",
    "        # 1) Do all the linear projections in batch from d_model => h x d_k\n",
    "        query, key, value = [\n",
    "            l(x).view(nbatches, -1, self.h, self.d_k).transpose(1, 2)\n",
    "            for l, x in zip(self.linears, (query, key, value))\n",
    "        ]\n",
    "        \n",
    "        # 2) Apply attention on all the projected vectors in batch.\n",
    "        x, self.attn = attention(query, key, value, mask=mask, dropout=self.dropout)\n",
    "        \n",
    "        # 3) \"Concat\" using a view and apply a final linear.\n",
    "        x = x.transpose(1, 2).contiguous().view(nbatches, -1, self.h * self.d_k)\n",
    "        \n",
    "        return self.linears[-1](x)"
   ]
  },
  {
   "cell_type": "markdown",
   "metadata": {},
   "source": [
    "### **5) Padding Mask**"
   ]
  },
  {
   "cell_type": "markdown",
   "metadata": {},
   "source": [
    "함수 구현 코드들을 보면 mask라는 인자가 계속 주어집니다. 이 연산은 입력 문장에 \\<PAD> 토큰이 있을 경우 어텐션에서 제외하기 위한 연산입니다.\n",
    "\n",
    "<img src = \"https://wikidocs.net/images/page/31379/pad_masking2.PNG\">\n",
    "\n",
    "마스킹을 하는 방법은 마스킹 위치에 매우 작은 음수값($-\\infty$와 가까운 수)을 넣어주는 것입니다. 현재 어텐션 스코어 행렬은 소프트맥스를 지나지 않은 상태입니다. 그렇기에 소프트맥스를 지나며 0이 되고 단어 간 유사도를 구하는데 반영되지 않게 됩니다.\n",
    "\n",
    "<img src = \"https://wikidocs.net/images/page/31379/softmax.PNG\">\n",
    "\n",
    "위 그림은 소프트맥스를 지난 후입니다."
   ]
  },
  {
   "cell_type": "markdown",
   "metadata": {},
   "source": [
    "## **6.6 Common sublayer**"
   ]
  },
  {
   "cell_type": "markdown",
   "metadata": {},
   "source": [
    "인코더와 디코더에 동일하게 적용되는 sublayer들도 있습니다."
   ]
  },
  {
   "cell_type": "markdown",
   "metadata": {},
   "source": [
    "### **1) Feed Forward**"
   ]
  },
  {
   "cell_type": "markdown",
   "metadata": {},
   "source": [
    "Feed Forward(혹은 Position-wise FFNN)층은 인코더뿐만 아니라 디코더에도 존재합니다. 이를 쉽게 이야기하면 FC를 해주는 것입니다.\n",
    "\n",
    "$$FFNN(x) = MAX(0, xW_1+b_1)W_2 + b_2$$\n",
    "\n",
    "이를 그림으로 표현하면 다음과 같습니다. \n",
    "\n",
    "<img src = \"https://wikidocs.net/images/page/31379/positionwiseffnn.PNG\">\n",
    "\n",
    "여기서 x는 멀티 헤드 어텐션의 결과로 나온 (seq_len, $d_{model}$)의 크기를 가지는 행렬을 말합니다. 가중치 행렬 $W_1$은 ($d_{model}$, $d_{ff}$)의 크기를 가지고, 가중치 행렬 $W_2$는 ($d_{ff}, d_{model}$)의 크기를 가집니다. 논문에선 $d_{ff}$를 2048로 정의했습니다. \n",
    "\n",
    "여기서 매개변수 $W_1, b_1, W_2, b_2$는 하나의 인코더 내에서는 다른 문장, 다른 단어들마다 정확하게 동일하게 사용됩니다. 하지만 인코더 층마다는 다른 값을 가집니다. \n",
    "\n",
    "이를 코드로 구현하면 다음과 같습니다."
   ]
  },
  {
   "cell_type": "code",
   "execution_count": 64,
   "metadata": {},
   "outputs": [],
   "source": [
    "class PositionwiseFeedForward(nn.Module):\n",
    "    \"Implements FFN equation\"\n",
    "    def __init__(self, d_model, d_ff, dropout=0.1):\n",
    "        super(PositionwiseFeedForward, self).__init__()\n",
    "        self.w_1 = nn.Linear(d_model, d_ff)\n",
    "        self.w_2 = nn.Linear(d_ff, d_model)\n",
    "        self.dropout = nn.Dropout(dropout)\n",
    "    \n",
    "    def forward(self, x):\n",
    "        return self.w_2(self.dropout(F.relu(self.w_1(x))))"
   ]
  },
  {
   "cell_type": "markdown",
   "metadata": {},
   "source": [
    "### **2) The Residuals**"
   ]
  },
  {
   "cell_type": "markdown",
   "metadata": {},
   "source": [
    "구조를 보면 각 층 사이에 Add & Normalize가 있는 것을 확인할 수 있습니다. 여기서 Add는 residual connection을 의미하고 Norm은 layer normalization을 의미합니다. \n",
    "\n",
    "먼저 residual connection을 보겠습니다. \n",
    "\n",
    "<img src = \"https://wikidocs.net/images/page/31379/transformer22.PNG\">\n",
    "\n",
    "위에서 볼 수 있듯이 residual connection은 어떠한 층의 입력값과 출력값을 더하는 것을 말합니다. 이는 주로 컴퓨터 비전 분야에서 모델의 학습을 돕기 위해 사용되는 기법입니다. 이를 통해 역전파가 잘 수행되고 layer를 거칠 필요가 없는 벡터들은 0으로 만들고 입력값만 가져가도록(skip connection) 만들 수도 있습니다.\n",
    "\n",
    "residual connection이 끝나면 이어서 layer normalization을 진행합니다. Layer normalization은 텐서의 마지막 차원(즉 여기선 $d_{model}$)에 대해서 평균($\\mu$)은 0, 분산($\\sigma^2$)은 1이 되도록 정규화해주는 것입니다. \n",
    "\n",
    "<img src = \"https://wikidocs.net/images/page/31379/layer_norm_new_1_final.PNG\">\n",
    "\n",
    "정규화 수식은 간단하게 확인만 하겠습니다.\n",
    "\n",
    "$$\\hat{x}_{i, k} = \\frac{x_{i,k}-\\mu_i}{\\sqrt{\\sigma_i^2+\\epsilon}}$$\n",
    "\n",
    "$\\epsilon$은 분모가 0이 되는 것을 방지합니다. \n",
    "\n",
    "이제 $\\gamma$와 $\\beta$라는 벡터를 준비합니다. 이들의 초기값은 각각 1과 0으로만 이루어집니다. \n",
    "\n",
    "$$ln_i = \\gamma \\hat{x}_i + \\beta = LayerNorm(x_i)$$\n",
    "\n",
    "이 역시 코드로 구현해보겠습니다."
   ]
  },
  {
   "cell_type": "code",
   "execution_count": 65,
   "metadata": {},
   "outputs": [],
   "source": [
    "class LayerNorm(nn.Module):\n",
    "    \"Construct a layernorm module\"\n",
    "    def __init__(self, features, eps=1e-6):\n",
    "        super(LayerNorm, self).__init__()\n",
    "        self.gamma = nn.Parameter(torch.ones(features))\n",
    "        self.beta = nn.Parameter(torch.zeros(features))\n",
    "        self.eps = eps\n",
    "    \n",
    "    def forward(self, x):\n",
    "        mean = x.mean(-1, keepdim=True)\n",
    "        std = x.std(-1, keepdim=True)\n",
    "        return self.gamma * (x - mean) / (std + self.eps) + self.beta"
   ]
  },
  {
   "cell_type": "code",
   "execution_count": 66,
   "metadata": {},
   "outputs": [],
   "source": [
    "class SublayerConnection(nn.Module):\n",
    "    \"\"\"\n",
    "    A residual connection followed by a layer norm.\n",
    "    Note for code simplicity the norm is first as opposed to last.\n",
    "    \"\"\"\n",
    "    def __init__(self, size, dropout):\n",
    "        super(SublayerConnection, self).__init__()\n",
    "        self.norm = LayerNorm(size)\n",
    "        self.dropout = nn.Dropout(dropout)\n",
    "    \n",
    "    def forward(self, x, sublayer):\n",
    "        \"Apply residual connection to any sublayer with the same size\"\n",
    "        return x + self.dropout(sublayer(self.norm(x)))"
   ]
  },
  {
   "cell_type": "markdown",
   "metadata": {},
   "source": [
    "두 과정을 합치면 다음과 같습니다. \n",
    "\n",
    "<img src = \"https://nlpinkorean.github.io/images/transformer/transformer_resideual_layer_norm_2.png\">\n",
    "\n",
    "이것은 디코더에서도 동일하게 적용됩니다. 만약 2개의 인코더와 디코더로 이루어진 단순한 형태의 트랜스포머를 생각하면 밑의 그림과 같습니다.\n",
    "\n",
    "<img src = \"https://nlpinkorean.github.io/images/transformer/transformer_resideual_layer_norm_3.png\">"
   ]
  },
  {
   "cell_type": "markdown",
   "metadata": {},
   "source": [
    "### **3) Encoder 구현**"
   ]
  },
  {
   "cell_type": "markdown",
   "metadata": {},
   "source": [
    "인코더의 동작을 확인해봤습니다. 이제 인코더를 구현해보겠습니다."
   ]
  },
  {
   "cell_type": "code",
   "execution_count": 67,
   "metadata": {},
   "outputs": [],
   "source": [
    "class Encoder(nn.Module):\n",
    "    \"Core encoder is a stack of N layers\"\n",
    "    def __init__(self, layer, N):\n",
    "        super(Encoder, self).__init__()\n",
    "        self.layers = clones(layer, N)\n",
    "        self.norm = LayerNorm(layer.size)\n",
    "    \n",
    "    def forward(self, x, mask):\n",
    "        \"Pass the input (and mask) through each layer in turn\"\n",
    "        for layer in self.layers:\n",
    "            x = layer(x, mask)\n",
    "        return self.norm(x)"
   ]
  },
  {
   "cell_type": "code",
   "execution_count": 68,
   "metadata": {},
   "outputs": [],
   "source": [
    "class EncoderLayer(nn.Module):\n",
    "    \"Encoder is made up of self-attn and feed forward\"\n",
    "    def __init__(self, size, self_attn, feed_forward, dropout):\n",
    "        super(EncoderLayer, self).__init__()\n",
    "        self.self_attn = self_attn\n",
    "        self.feed_forward = feed_forward\n",
    "        self.sublayer = clones(SublayerConnection(size, dropout), 2)\n",
    "        self.size = size\n",
    "    \n",
    "    def forward(self, x, mask):\n",
    "        \"Follow Figure 1 (left) for connections\"\n",
    "        x = self.sublayer[0](x, lambda x: self.self_attn(x, x, x, mask))\n",
    "        return self.sublayer[1](x, self.feed_forward)"
   ]
  },
  {
   "cell_type": "markdown",
   "metadata": {},
   "source": [
    "## **6.7 Decoder**"
   ]
  },
  {
   "cell_type": "markdown",
   "metadata": {},
   "source": [
    "<img src = \"https://nlpinkorean.github.io/images/transformer/transformer_decoding_1.gif\">\n",
    "\n",
    "인코더 과정이 끝나면 디코더 과정이 시작됩니다. 디코딩 과정은 디코더가 출력을 완료했다는 \\<end of sentence>를 출력할 때까지 반복됩니다. 각 스텝마다 출력된 단어는 다음 스텝의 디코더 가장 아래로 들어가고 인코더와 마찬가지로 몇 개의 디코더를 거쳐 올라갑니다. 이때 인코더의 입력과 동일하게 포지셔닝 인코딩을 추가하여 디코더에게도 위치 정보를 저장합니다.\n",
    "\n",
    "<img src = \"https://nlpinkorean.github.io/images/transformer/transformer_decoding_2.gif\">\n",
    "\n",
    "디코더는 크게 3개의 sublayer가 있습니다. 그 중 첫 번째 층인 masked multi-head attention은 기존의 multi-head attention에 mask가 추가된 것입니다. 이는 디코더가 출력하는 과정에서 다음 단어를 미리 참조하지 못하도록 막는 역할을 합니다. \n",
    "\n",
    "![masked](_image/4-6-5.PNG)\n",
    "\n",
    "masked가 끝나면 re-normalization을 해줍니다. \n",
    "\n",
    "다른 두 개의 sublayer는 기본적으론 인코더의 sublayer와 동일합니다. 그러나 한 가지 차이점이 두 번째 multi-head attention에 있습니다. 그것은 바로 입력값입니다.\n",
    "\n",
    "![transformer](_image/4-6-6.PNG)\n",
    "\n",
    "다시 트랜스포머의 구조를 보겠습니다. 보면 Q는 디코더에서 올라오지만 K, V는 인코더에서 넘어오는 것을 확인할 수 있습니다. 이외에는 같은 동작을 합니다.\n",
    "\n",
    "논문에선 인코더 층의 마지막 output의 K, V를 모든 디코더 층의 입력으로 사용합니다.\n",
    "\n",
    "이 역시 코드로 구현해보겠습니다."
   ]
  },
  {
   "cell_type": "code",
   "execution_count": 69,
   "metadata": {},
   "outputs": [],
   "source": [
    "class Decoder(nn.Module):\n",
    "    \"Generic N layer decoder with masking\"\n",
    "    def __init__(self, layer, N):\n",
    "        super(Decoder, self).__init__()\n",
    "        self.layers = clones(layer, N)\n",
    "        self.norm = LayerNorm(layer.size)\n",
    "    \n",
    "    def forward(self, x, memory, src_mask, tgt_mask):\n",
    "        for layer in self.layers:\n",
    "            x = layer(x, memory, src_mask, tgt_mask)\n",
    "        return self.norm(x)"
   ]
  },
  {
   "cell_type": "code",
   "execution_count": 70,
   "metadata": {},
   "outputs": [],
   "source": [
    "class DecoderLayer(nn.Module):\n",
    "    \"Decoder is made of self-attn, src-attn, and feed forward\"\n",
    "    def __init__(self, size, self_attn, src_attn, feed_forward, dropout):\n",
    "        super(DecoderLayer, self).__init__()\n",
    "        self.size = size\n",
    "        self.self_attn = self_attn\n",
    "        self.src_attn = src_attn\n",
    "        self.feed_forward = feed_forward\n",
    "        self.sublayer = clones(SublayerConnection(size, dropout), 3)\n",
    "    \n",
    "    def forward(self, x, memory, src_mask, tgt_mask):\n",
    "        \"Follow Figure 1 (right) for connections\"\n",
    "        m = memory\n",
    "        x = self.sublayer[0](x, lambda x: self.self_attn(x, x, x, tgt_mask))\n",
    "        x = self.sublayer[1](x, lambda x: self.src_attn(x, m, m, src_mask))\n",
    "        return self.sublayer[2](x, self.feed_forward)"
   ]
  },
  {
   "cell_type": "code",
   "execution_count": 73,
   "metadata": {},
   "outputs": [],
   "source": [
    "def subsequent_mask(size):\n",
    "    \"Mask out subsequent positions\"\n",
    "    attn_shape = (1, size, size)\n",
    "    subsequent_mask = np.triu(np.ones(attn_shape), k=1).astype('uint8')\n",
    "    return torch.from_numpy(subsequent_mask) == 0"
   ]
  },
  {
   "cell_type": "code",
   "execution_count": 74,
   "metadata": {},
   "outputs": [
    {
     "data": {
      "text/plain": [
       "<matplotlib.image.AxesImage at 0x1176fc0bdf0>"
      ]
     },
     "execution_count": 74,
     "metadata": {},
     "output_type": "execute_result"
    },
    {
     "data": {
      "image/png": "[encoded data removed]",
      "text/plain": [
       "<Figure size 360x360 with 1 Axes>"
      ]
     },
     "metadata": {
      "needs_background": "light"
     },
     "output_type": "display_data"
    }
   ],
   "source": [
    "plt.figure(figsize=(5,5))\n",
    "plt.imshow(subsequent_mask(20)[0])"
   ]
  },
  {
   "cell_type": "markdown",
   "metadata": {},
   "source": [
    "## **6.8 마지막 Linear Layer와 Softmax Layer**"
   ]
  },
  {
   "cell_type": "markdown",
   "metadata": {},
   "source": [
    "여러 개의 디코더를 거치고 나온 후에는 소수로 이루어진 벡터가 남습니다. 이를 단어로 바꾸기 위해 마지막으로 linear layer와 softmax를 거칩니다. \n",
    "\n",
    "linear layer는 FC 신경망으로 디코더가 마지막으로 출력한 벡터를 그보다 훨씬 더 큰 사이즈의 벡터인 logits 벡터로 투영시킵니다. 이때 logits 벡터의 크기는 우리가 가진 사전의 크기, 즉 모델이 학습한 단어의 총 개수가 됩니다. 각 인덱스마다 단어에 대한 점수가 매겨집니다.\n",
    "\n",
    "이를 바탕으로 softmax를 통해 확률로 변환해주고 가장 높은 확률을 가진 단어를 출력하게 됩니다.\n",
    "\n",
    "<img src = \"https://nlpinkorean.github.io/images/transformer/transformer_decoder_output_softmax.png\">"
   ]
  },
  {
   "cell_type": "markdown",
   "metadata": {},
   "source": [
    "## **6.9 전체적인 학습 과정**"
   ]
  },
  {
   "cell_type": "markdown",
   "metadata": {},
   "source": [
    "트랜스포머에 대해 순차적으로 알아봤습니다. 이제 이를 어떻게 학습시키는지 알아보겠습니다.\n",
    "\n",
    "### **1) Pre-processing**\n",
    "\n",
    "먼저 학습 시작 전에 output vocabulary가 있어야 합니다. 6단어만 있다고 가정하겠습니다. 그리고 이 사전을 이용해 각 단어에 매칭되는 원-핫 벡터를 만들 수 있습니다. \n",
    "\n",
    "<img src = \"https://nlpinkorean.github.io/images/transformer/one-hot-vocabulary-example.png\">\n",
    "\n",
    "### **2) Loss Function**\n",
    "\n",
    "모델을 학습하는 가장 첫번째 단계라고 가정합시다. 그리고 학습을 위해 \"merci\"라는 프랑스어를 \"thanks\"로 번역하는 간단한 예시를 생각하겠습니다. 즉, 모델의 출력은 \"thanks\"라는 단어를 가리키는 확률 벡터라는 의미입니다. 그러나 모델이 학습되지 않았기에 출력이 제대로 나올 확률은 희박합니다.\n",
    "\n",
    "<img src = \"https://nlpinkorean.github.io/images/transformer/transformer_logits_output_and_label.png\">\n",
    "\n",
    "학습이 시작될 때, 모델의 parameter(가중치 행렬 등)이 무작위로 값이 부여되기에 그저 임의의 값만 출력할 뿐입니다. 이 출력된 값을 실제 값과 비교하면서 얻은 차이와 역전파 알고리즘을 이용해 현재 모델의 가중치들을 조절해 원하는 출력값에 가까워지도록 만듭니다. \n",
    "\n",
    "두 확률 벡터를 비교할 때는 cross-entropy나 Kullback-Leibler divergence를 이용합니다.\n",
    "\n",
    "하지만 주의해야 할 것은 예제가 지나치게 단순하다는 것입니다. 현실적인 예제는 한 단어보다 긴 문장을 이용하겠습니다. 입력은 “je suis étudiant”이며 바라는 출력은 “i am a student”입니다. \n",
    "\n",
    "- 각 단어에 대한 확률 분포는 output vocabulary의 크기를 가집니다. \n",
    "- decoder가 첫번째로 출력하는 확률 분포는 \"i\"라는 단어와 연관이 있는 cell에 가장 높은 확률을 줘야 합니다.\n",
    "- 두번째로 출력하는 확률 분포는 \"am\"이라는 단어와 연관이 있는 cell에 가장 높은 확률을 줘야 합니다.\n",
    "- 이와 동일하게 마지막 \"\\<end of sentence>\"를 나타내는 다섯번째 출력까지 이 과정은 반복됩니다. \n",
    "- 이때 \\<eos> 또한 그에 해당하는 cell을 벡터에서 가집니다. \n",
    "\n",
    "<img src = \"https://nlpinkorean.github.io/images/transformer/output_target_probability_distributions.png\">\n",
    "\n",
    "위 그림은 학습에서 목표로 하는 확률 분포를 나타낸 것입니다. \n",
    "\n",
    "모델을 큰 사이즈의 데이터 셋에서 충분히 학습시키고 나면, 그 결과로 생성되는 확률 분포들은 다음과 같아질 것입니다.\n",
    "\n",
    "<img src = \"https://nlpinkorean.github.io/images/transformer/output_trained_model_probability_distributions.png\">\n",
    "\n",
    "학습 과정 후, 모델은 정확한 번역을 출력할 것입니다. \n",
    "\n",
    "여기서 특이한 점 하나는 아무리 다른 단어들이 최종 출력될 확률이 거의 없다 해도 0보다는 조금 큰 값을 가진다는 것입니다. 이는 softmax layer의 유용한 성질입니다. \n",
    "\n",
    "모델은 한 스텝 당 확률이 가장 높은 단어 하나를 출력하기에 다른 단어는 버린다고 생각하기 쉽습니다. 그러나 그것은 `greedy decoding`이라는 한가지 방법에 불과하며 다른 방법들도 존재합니다. 예를 들어 가장 확률이 높은 두 개의 단어를 저장할 수 있습니다. (위 예시로 보자면 \"i\"와 \"student\") 그렇다면 우리는 모델을 두 번 돌리게 됩니다. 한 번은 출력이 'i'라고 가정하고 두번째는 출력이 'student'라고 가정하는 것입니다. 이렇게 나온 결과에서 첫번째 출력 단어와 두번째 출력 단어를 동시에 고려했을 때, 더 낮은 에러를 보이는 결과의 첫번째 단어가 실제 출력으로 선택됩니다. 이를 마지막 단계까지 반복합니다. 이러한 방법을 `beam search`라고 부르며, 고려하는 단어의 수를 beam size, 고려하는 미래 출력 개수를 top_beam이라고 합니다. 우리의 예제에서는 두 개의 단어를 저장했으므로 beam size는 2이며 두번째 단계까지 고려했으므로 top_beam 역시 2입니다. 이때 beam size와 top_beam은 우리가 지정할 수 있는 하이퍼파라미터입니다."
   ]
  },
  {
   "cell_type": "markdown",
   "metadata": {},
   "source": [
    "## **6.10 모델 구현**"
   ]
  },
  {
   "cell_type": "markdown",
   "metadata": {},
   "source": [
    "실습 및 과제 폴더"
   ]
  },
  {
   "cell_type": "markdown",
   "metadata": {},
   "source": [
    "## Reference\n",
    "\n",
    "- https://wikidocs.net/31379\n",
    "- http://nlp.seas.harvard.edu/2018/04/03/attention.html\n",
    "- https://nlpinkorean.github.io/illustrated-transformer/  \n",
    "  (번역: https://lee-soohyun.tistory.com/262)"
   ]
  },
  {
   "cell_type": "markdown",
   "metadata": {},
   "source": [
    "# **7. Tokenization**"
   ]
  },
  {
   "cell_type": "markdown",
   "metadata": {},
   "source": [
    "Tokenization은 NLP 전처리에 해당하는 과정으로 text를 여러 개의 token으로 나누는 것을 말합니다. 어떤 기준으로 나누는지에 따라 크게 3개의 방법으로 나뉩니다."
   ]
  },
  {
   "cell_type": "markdown",
   "metadata": {},
   "source": [
    "## **7.1 Word-based Tokenizer**"
   ]
  },
  {
   "cell_type": "markdown",
   "metadata": {},
   "source": [
    "![wbt](_image/4-7-1.PNG)\n",
    "\n",
    "위 그림처럼 단어로 나누는 것이 Word-absed Tokenizer입니다. 영어의 경우, 띄어쓰기로 대부분 tokenization이 끝나기에 간단합니다. \n",
    "\n",
    "그러나 단어 기반의 tokenizer는 필연적으로 OOV(Out-of-Vocabulart) 문제를 가져옵니다. 이는 세상의 단어가 너무 많기에 그 단어를 모두 저장하고 임베딩하려면 전체 모델 메모리에서 차지하는 비중이 기하급수적으로(거의 90% 이상의) 증가하기에 정작 모델의 파라미터에 큰 비중을 쓰지 못합니다. 또한 아무리 많은 단어를 저장해도 세상의 모든 단어를 저장할 수 없다는 단점이 있습니다. \n",
    "\n",
    "단어를 줄인다 하여도 모르는 단어가 많아져 \\<unk> 토큰이 많아지고 이는 성능의 저하로 이어집니다."
   ]
  },
  {
   "cell_type": "markdown",
   "metadata": {},
   "source": [
    "## **7.2 Chracter-based Tokenizer**"
   ]
  },
  {
   "cell_type": "markdown",
   "metadata": {},
   "source": [
    "![cbt](_image/4-7-2.PNG)\n",
    "\n",
    "이름 그대로 철자로 쪼개는 방식의 tokenizer입니다. 영어의 경우 알파벳, 한글의 경우 음절로 나누기에 워드 임베딩의 크기가 크게 줄어듭니다. \n",
    "\n",
    "그러나 철자 하나가 가져야하는 정보가 너무 많아지고 길이가 너무 길어지게 됩니다. 이는 필연적으로 성능 저하를 불러옵니다."
   ]
  },
  {
   "cell_type": "markdown",
   "metadata": {},
   "source": [
    "## **7.3 Subword-based Tokenizer**"
   ]
  },
  {
   "cell_type": "markdown",
   "metadata": {},
   "source": [
    "위 두 가지 방법은 너무 뚜렷한 단점을 가지고 있습니다. 그렇기에 대부분 subword-based tokenizer를 많이 사용합니다.\n",
    "\n",
    "![sbt](_image/4-7-3.PNG)\n",
    "\n",
    "위 그림처럼 단어와 철자 사이의 subword를 토큰으로 사용합니다. 접두사, 접미사, 어근 등도 토큰으로 사용됩니다. 이를 기반으로 BPE, WordPiece, Unigram, SentencePiece 등이 있으며 현재는 WordPiece와 SentencePiece가 많이 쓰이는 추세입니다.\n",
    "\n",
    "먼저 간단하게 살펴보겠습니다.\n",
    "\n",
    "- BPE(Byte-pair Encoding): 통계적 방법, GPT 등이 이 방법을 사용\n",
    "- WordPiece: BERT 등 트랜스포머 기반의 모델에서 사용, P('ug') / P('u' then 'g')와 같이 간단한 알고리즘은 공개되었으나 모든 알고리즘이 공개되어있지 않다.\n",
    "- Unigram: 가장 많이 사용된 단어들과 substring들을 다듬으며 시작\n",
    "- SentencePiece: 공백도 토큰으로 사용한다"
   ]
  },
  {
   "cell_type": "markdown",
   "metadata": {},
   "source": [
    "## 실습1. Subword tokenization의 필요성"
   ]
  },
  {
   "cell_type": "markdown",
   "metadata": {},
   "source": [
    "### **1) Intro**"
   ]
  },
  {
   "cell_type": "code",
   "execution_count": 15,
   "metadata": {},
   "outputs": [
    {
     "data": {
      "text/plain": [
       "'c:\\\\Users\\\\delphinus\\\\Desktop\\\\Workspace\\\\Python\\\\goorm\\\\AI기술 자연어 처리 전문가 양성 과정'"
      ]
     },
     "execution_count": 15,
     "metadata": {},
     "output_type": "execute_result"
    }
   ],
   "source": [
    "import os, sys\n",
    "\n",
    "# 데이터가 저장된 드라이브를 마운트하여 데이터를 불러올 수 있는 경로를 준비합니다.\n",
    "#from google.colab import drive\n",
    "#dirve.mount('/content/drive')\n",
    "\n",
    "PATH = os.getcwd() # 현재 경로\n",
    "PATH"
   ]
  },
  {
   "cell_type": "code",
   "execution_count": 16,
   "metadata": {},
   "outputs": [],
   "source": [
    "os.chdir(PATH)"
   ]
  },
  {
   "cell_type": "markdown",
   "metadata": {},
   "source": [
    "- 이번 실습은 Subword tokenization의 필요성을 확인하는 것이 목적입니다.\n",
    "- Subword tokenization 기반 language model을 구현하면서 이전 과제의 Word-level language model과 비교해보겠습니다.\n",
    "- Subword-level language model을 구현하고, 주어진 데이터를 가공하여 모델을 학습한 후, 학습된 언어 모델을 이용해 문장을 생성합니다."
   ]
  },
  {
   "cell_type": "markdown",
   "metadata": {},
   "source": [
    "### **2) Subword tokenization이 필요한 이유**"
   ]
  },
  {
   "cell_type": "markdown",
   "metadata": {},
   "source": [
    "word tokenization 코드를 불러와 subword의 필요성을 확인해보겠습니다."
   ]
  },
  {
   "cell_type": "code",
   "execution_count": 17,
   "metadata": {},
   "outputs": [],
   "source": [
    "from io import open\n",
    "import torch"
   ]
  },
  {
   "cell_type": "code",
   "execution_count": 18,
   "metadata": {},
   "outputs": [],
   "source": [
    "class Dictionary(object):\n",
    "    def __init__(self):\n",
    "        self.word2idx = {'<unk>': 0}\n",
    "        self.idx2word = ['<unk>']\n",
    "    \n",
    "    def add_word(self, word):\n",
    "        if word not in self.word2idx:\n",
    "            self.idx2word.append(word)\n",
    "            self.word2idx[word] = len(self.idx2word) - 1\n",
    "        return self.word2idx[word]\n",
    "\n",
    "    def __len__(self):\n",
    "        return len(self.idx2word)"
   ]
  },
  {
   "cell_type": "code",
   "execution_count": 19,
   "metadata": {},
   "outputs": [],
   "source": [
    "class Corpus(object):\n",
    "    def __init__(self, path):\n",
    "        self.dictionary = Dictionary()\n",
    "        \"\"\"Tokenizes a text file\"\"\"\n",
    "        assert os.path.exists(path)\n",
    "        \n",
    "        # Add words to the dictionary\n",
    "        with open(os.path.join(path, 'train.txt'), 'r', encoding=\"utf-8\") as f:\n",
    "            for line in f:\n",
    "                words = line.split() + ['<eos>']\n",
    "                for word in words:\n",
    "                    self.dictionary.add_word(word)\n",
    "        \n",
    "        self.train = self.tokenize(os.path.join(path, 'train.txt'))\n",
    "        self.valid = self.tokenize(os.path.join(path, 'valid.txt'))\n",
    "        self.test = self.tokenize(os.path.join(path, 'test.txt'))\n",
    "    \n",
    "    def tokenize(self, path):\n",
    "        # Tokenize file content\n",
    "        with open(path, 'r', encoding=\"utf8\") as f:\n",
    "            idss = []\n",
    "            for line in f:\n",
    "                words = line.split() + ['<eos>']\n",
    "                ids = []\n",
    "                for word in words:\n",
    "                    try:\n",
    "                        ids.append(self.dictionary.word2idx[word])\n",
    "                    except:\n",
    "                        print(word)\n",
    "                        ids.append(0)\n",
    "                idss.append(torch.tensor(ids).type(torch.int64))\n",
    "            ids = torch.cat(idss)\n",
    "        \n",
    "        return ids"
   ]
  },
  {
   "cell_type": "code",
   "execution_count": 49,
   "metadata": {},
   "outputs": [],
   "source": [
    "import math\n",
    "import torch\n",
    "import torch.nn as nn\n",
    "import torch.nn.functional as F\n",
    "\n",
    "class RNNModel(nn.Module):\n",
    "    \"\"\"Container module with an encoder, a recurrent module and a decoder\"\"\"\n",
    "    \n",
    "    def __init__(self, rnn_type, ntoken, ninp, nhid, nlayers, dropout=0.5):\n",
    "        super(RNNModel, self).__init__()\n",
    "        self.ntoken = ntoken\n",
    "        self.drop = nn.Dropout(dropout)\n",
    "        self.encoder = nn.Embedding(ntoken, ninp)\n",
    "        if rnn_type in ['LSTM', 'GRU']:\n",
    "            self.rnn = getattr(nn, rnn_type)(ninp, nhid, nlayers, dropout=dropout)\n",
    "        else:\n",
    "            try:\n",
    "                nonlinearity = {\"RNN_TANH\": \"tanh\", \"RNN_RELU\": \"relu\"}[rnn_type]\n",
    "            except KeyError:\n",
    "                raise ValueError(\"\"\"An invalid option for '--model' was supplied,\n",
    "                                options are ['LSTM', 'GRU', 'RNN_TANH' or 'RNN_RELU']\"\"\")\n",
    "            self.rnn = nn.RNN(ninp, nhid, nlayers, nonlinearity=nonlinearity, dropout=dropout)\n",
    "        self.decoder = nn.Linear(nhid, ntoken)\n",
    "        \n",
    "        self.init_weights()\n",
    "        \n",
    "        self.rnn_type = rnn_type\n",
    "        self.nhid = nhid\n",
    "        self.nlayers = nlayers\n",
    "    \n",
    "    def init_weights(self):\n",
    "        initrange = 0.1\n",
    "        nn.init.uniform_(self.encoder.weight, -initrange, initrange)\n",
    "        nn.init.zeros_(self.decoder.weight)\n",
    "        nn.init.uniform_(self.encoder.weight, -initrange, initrange)\n",
    "    \n",
    "    def forward(self, input, hidden):\n",
    "        emb = self.drop(self.encoder(input))\n",
    "        output, hidden = self.rnn(emb, hidden)\n",
    "        output = self.drop(output)\n",
    "        decoded = self.decoder(output)\n",
    "        decoded = decoded.view(-1, self.ntoken)\n",
    "        return F.log_softmax(decoded, dim=1), hidden\n",
    "    \n",
    "    def init_hidden(self, bsz):\n",
    "        weight = next(self.parameters())\n",
    "        if self.rnn_type == 'LSTM':\n",
    "            return (weight.new_zeros(self.nlayers, bsz, self.nhid),\n",
    "                    weight.new_zeros(self.nlayers, bsz, self.nhid))\n",
    "        else:\n",
    "            return weight.new_zeros(self.nlayers, bsz, self.nhid)"
   ]
  },
  {
   "cell_type": "code",
   "execution_count": 50,
   "metadata": {},
   "outputs": [],
   "source": [
    "import time\n",
    "import math\n",
    "import os\n",
    "import torch\n",
    "import torch.nn as nn\n",
    "\n",
    "import easydict\n",
    "args = easydict.EasyDict({\n",
    "    \"data\"    : './data/wikitext-2',    # location of the data corpus\n",
    "    \"model\"   : 'RNN_TANH',             # type of recurrent net (RNN_TANH, RNN_RELU, LSTM, GRU)\n",
    "    \"emsize\"  : 200,                    # size of word embeddings\n",
    "    \"nhid\"    : 512,                    # number of hidden units per layer\n",
    "    \"nlayers\" : 2,                      # number of layers\n",
    "    \"lr\"      : 20,                     # initial learning rate\n",
    "    \"clip\"    : 0.25,                   # gradient clipping\n",
    "    \"epochs\"  : 6,                      # upper epoch limit\n",
    "    \"batch_size\": 20,                   # batch size\n",
    "    \"bptt\"    : 35,                     # sequence length\n",
    "    \"dropout\" : 0.2,                    # dropout applied to layers (0 = no dropout)\n",
    "    \"seed\"    : 1111,                   # random seed\n",
    "    \"cuda\"    : False,                  # unuse CUDA\n",
    "    \"log_interval\": 200,                # report interval\n",
    "    \"save\"    : 'model.pt',             # path to save the final model\n",
    "    \"dry_run\" : True,                   # verify the code and the model\n",
    "\n",
    "})\n",
    "\n",
    "# 디바이스 설정\n",
    "device = torch.device(\"cuda\" if args.cuda else \"cpu\")"
   ]
  },
  {
   "cell_type": "markdown",
   "metadata": {},
   "source": [
    "train.txt의 문장들을 word tokenization 해보고 단어들의 개수를 세어보겠습니다."
   ]
  },
  {
   "cell_type": "code",
   "execution_count": 23,
   "metadata": {},
   "outputs": [
    {
     "name": "stdout",
     "output_type": "stream",
     "text": [
      "33278\n"
     ]
    }
   ],
   "source": [
    "corpus = Corpus('./data/wikitext-2')\n",
    "ntokens = len(corpus.dictionary)\n",
    "print(ntokens)"
   ]
  },
  {
   "cell_type": "markdown",
   "metadata": {},
   "source": [
    "이전 실습에 사용된 embedding dimension의 크기가 200이므로 word embedding에 사용된 parameter의 수는 33278 x 200 (= 6,655,600개)입니다.\n",
    "\n",
    "그렇다면 RNN 모델에 사용되는 weight의 paramter 개수는 몇 개인지 간단한 함수를 이용해 확인해보겠습니다."
   ]
  },
  {
   "cell_type": "code",
   "execution_count": 25,
   "metadata": {},
   "outputs": [],
   "source": [
    "model = RNNModel(args.model, ntokens, args.emsize, args.nhid, args.nlayers, args.dropout)"
   ]
  },
  {
   "cell_type": "code",
   "execution_count": 26,
   "metadata": {},
   "outputs": [],
   "source": [
    "def count_parameters(model):\n",
    "    return sum(p.numel() for p in model.parameters() if p.requires_grad)"
   ]
  },
  {
   "cell_type": "code",
   "execution_count": 27,
   "metadata": {},
   "outputs": [
    {
     "name": "stdout",
     "output_type": "stream",
     "text": [
      "Word embedding parameter 개수: 6655600\n",
      "RNN parameter 개수: 890880\n"
     ]
    }
   ],
   "source": [
    "print(f\"Word embedding parameter 개수: {count_parameters(model.encoder)}\")\n",
    "print(f\"RNN parameter 개수: {count_parameters(model.rnn)}\")"
   ]
  },
  {
   "cell_type": "markdown",
   "metadata": {},
   "source": [
    "RNN parameter, Word embedding parameter 개수를 비교해보면 word embedding parameter의 개수가 RNN 모델의 paramter의 개수보다 압도적으로 많습니다. word embedding을 사용하는 경우 training에 사용되는 text file의 크기가 커질수록 word embedding paramter는 더 커지게 되고 전체 parameter 대비 word embedding이 차지하는 비중이 매우 커집니다. \n",
    "\n",
    "이런 paramter 비중의 비대칭성을 해결하기 위해 처음에는 charater-based tokenization 방법을 주목했습니다. 그러나 앞서 살펴봤듯, 여러 이유로 성능 저하를 보였고 subword를 사용하게 됩니다.\n",
    "\n",
    "그럼 이제부터 BERT 모델에서 사용한 subword tokenization algorithm을 이용해 language modeling task를 수행해보겠습니다. subword tokenizer는 transformers 라이브러리를 통해 쉽게 불러올 수 있습니다."
   ]
  },
  {
   "cell_type": "code",
   "execution_count": 28,
   "metadata": {},
   "outputs": [
    {
     "name": "stderr",
     "output_type": "stream",
     "text": [
      "Downloading: 100%|██████████| 208k/208k [00:00<00:00, 350kB/s]  \n",
      "Downloading: 100%|██████████| 29.0/29.0 [00:00<00:00, 14.4kB/s]\n",
      "Downloading: 100%|██████████| 426k/426k [00:01<00:00, 424kB/s]  \n",
      "Downloading: 100%|██████████| 570/570 [00:00<00:00, 285kB/s]\n"
     ]
    }
   ],
   "source": [
    "from transformers import BertTokenizer\n",
    "\n",
    "tokenizer = BertTokenizer.from_pretrained(\"bert-base-cased\")"
   ]
  },
  {
   "cell_type": "code",
   "execution_count": 29,
   "metadata": {},
   "outputs": [
    {
     "name": "stdout",
     "output_type": "stream",
     "text": [
      "['Natural', 'language', 'expert', 'training', 'course']\n",
      "['Go', '##orm', 'X', 'K', '##A', '##IS', '##T']\n"
     ]
    }
   ],
   "source": [
    "# subword tokenization 예시\n",
    "print(tokenizer.tokenize('Natural language expert training course'))\n",
    "print(tokenizer.tokenize('Goorm X KAIST'))"
   ]
  },
  {
   "cell_type": "code",
   "execution_count": 51,
   "metadata": {},
   "outputs": [],
   "source": [
    "class Corpus(object):\n",
    "    def __init__(self, path):\n",
    "        self.dictionary = Dictionary()\n",
    "        self.train = self.tokenize(os.path.join(path, 'train.txt'))\n",
    "        self.valid = self.tokenize(os.path.join(path, 'valid.txt'))\n",
    "        self.test = self.tokenize(os.path.join(path, 'test.txt'))\n",
    "\n",
    "    def tokenize(self, path):\n",
    "        assert os.path.exists(path)\n",
    "        # Add words to the dictionary\n",
    "        with open(path, 'r', encoding=\"utf8\") as f:\n",
    "            for line in f:\n",
    "                words = tokenizer.tokenize(line.strip()) + ['<eos>']\n",
    "                for word in words:\n",
    "                    self.dictionary.add_word(word)\n",
    "\n",
    "        # Tokenize file content\n",
    "        with open(path, 'r', encoding=\"utf8\") as f:\n",
    "            idss = []\n",
    "            for line in f:\n",
    "                words = tokenizer.tokenize(line.strip()) + ['<eos>']\n",
    "                ids = []\n",
    "                for word in words:\n",
    "                    ids.append(self.dictionary.word2idx[word])\n",
    "                idss.append(torch.tensor(ids).type(torch.int64))\n",
    "            ids = torch.cat(idss)\n",
    "\n",
    "        return ids"
   ]
  },
  {
   "cell_type": "markdown",
   "metadata": {},
   "source": [
    "그러면 이제 모델을 다시 선언하고 paramter의 개수를 확인하겠습니다."
   ]
  },
  {
   "cell_type": "code",
   "execution_count": 52,
   "metadata": {},
   "outputs": [],
   "source": [
    "subword_corpus = Corpus('./data/wikitext-2')\n",
    "ntokens = len(subword_corpus.dictionary)\n",
    "subwordmodel = RNNModel(args.model, ntokens, args.emsize, args.nhid, args.nlayers, args.dropout)"
   ]
  },
  {
   "cell_type": "code",
   "execution_count": 53,
   "metadata": {},
   "outputs": [
    {
     "name": "stdout",
     "output_type": "stream",
     "text": [
      "Word embedding parameter 개수: 4619000\n",
      "RNN parameter 개수: 890880\n"
     ]
    }
   ],
   "source": [
    "print(f\"Word embedding parameter 개수: {count_parameters(subwordmodel.encoder)}\")\n",
    "print(f\"RNN parameter 개수: {count_parameters(subwordmodel.rnn)}\")"
   ]
  },
  {
   "cell_type": "markdown",
   "metadata": {},
   "source": [
    "이전에 비해 embedding parameter 개수는 확연히 줄어들었습니다.   \n",
    "6,655,600개 -> 4,619,000개\n",
    "\n",
    "그러면 이제 subword 기반의 언어 모델 성능을 살펴보겠습니다."
   ]
  },
  {
   "cell_type": "code",
   "execution_count": 54,
   "metadata": {},
   "outputs": [],
   "source": [
    "###############################################################################\n",
    "# Load data\n",
    "###############################################################################\n",
    "\n",
    "# Starting from sequential data, batchify arranges the dataset into columns.\n",
    "# For instance, with the alphabet as the sequence and batch size 4, we'd get\n",
    "# ┌ a g m s ┐\n",
    "# │ b h n t │\n",
    "# │ c i o u │\n",
    "# │ d j p v │\n",
    "# │ e k q w │\n",
    "# └ f l r x ┘.\n",
    "# These columns are treated as independent by the model, which means that the\n",
    "# dependence of e. g. 'g' on 'f' can not be learned, but allows more efficient\n",
    "# batch processing.\n",
    "\n",
    "def batchify(data, bsz):\n",
    "    # Work out how cleanly we can divide the dataset into bsz parts.\n",
    "    nbatch = data.size(0) // bsz\n",
    "    # Trim off any extra elements that wouldn't cleanly fit (remainders).\n",
    "    data = data.narrow(0, 0, nbatch * bsz)\n",
    "    # Evenly divide the data across the bsz batches.\n",
    "    data = data.view(bsz, -1).t().contiguous()\n",
    "    return data.to(device)\n",
    "\n",
    "eval_batch_size = 10\n",
    "train_data = batchify(subword_corpus.train, args.batch_size)\n",
    "val_data = batchify(subword_corpus.valid, eval_batch_size)\n",
    "test_data = batchify(subword_corpus.test, eval_batch_size)"
   ]
  },
  {
   "cell_type": "code",
   "execution_count": 55,
   "metadata": {},
   "outputs": [],
   "source": [
    "###############################################################################\n",
    "# Build the model\n",
    "###############################################################################\n",
    "\n",
    "model = RNNModel(args.model, ntokens, args.emsize, args.nhid, args.nlayers, args.dropout).to(device)\n",
    "criterion = nn.NLLLoss()"
   ]
  },
  {
   "cell_type": "code",
   "execution_count": 56,
   "metadata": {},
   "outputs": [],
   "source": [
    "###############################################################################\n",
    "# Training code1 - define functions\n",
    "###############################################################################\n",
    "\n",
    "def repackage_hidden(h):\n",
    "    \"\"\"Wraps hidden states in new Tensors, to detach them from their history.\"\"\"\n",
    "\n",
    "    if isinstance(h, torch.Tensor):\n",
    "        return h.detach()\n",
    "    else:\n",
    "        return tuple(repackage_hidden(v) for v in h)\n",
    "\n",
    "\n",
    "# get_batch subdivides the source data into chunks of length args.bptt.\n",
    "# If source is equal to the example output of the batchify function, with\n",
    "# a bptt-limit of 2, we'd get the following two Variables for i = 0:\n",
    "# ┌ a g m s ┐ ┌ b h n t ┐\n",
    "# └ b h n t ┘ └ c i o u ┘\n",
    "# Note that despite the name of the function, the subdivison of data is not\n",
    "# done along the batch dimension (i.e. dimension 1), since that was handled\n",
    "# by the batchify function. The chunks are along dimension 0, corresponding\n",
    "# to the seq_len dimension in the LSTM.\n",
    "\n",
    "def get_batch(source, i):\n",
    "    seq_len = min(args.bptt, len(source) - 1 - i)\n",
    "    data = source[i:i+seq_len]\n",
    "    target = source[i+1:i+1+seq_len].view(-1)\n",
    "    return data, target\n",
    "\n",
    "\n",
    "def evaluate(data_source):\n",
    "    # Turn on evaluation mode which disables dropout.\n",
    "    model.eval()\n",
    "    total_loss = 0.\n",
    "    ntokens = len(subword_corpus.dictionary)\n",
    "    hidden = model.init_hidden(eval_batch_size)\n",
    "    with torch.no_grad():\n",
    "        for i in range(0, data_source.size(0) - 1, args.bptt):\n",
    "            data, targets = get_batch(data_source, i)\n",
    "            output, hidden = model(data, hidden)\n",
    "            hidden = repackage_hidden(hidden)\n",
    "            total_loss += len(data) * criterion(output, targets).item()\n",
    "    return total_loss / (len(data_source) - 1)\n",
    "\n",
    "\n",
    "def train():\n",
    "    # Turn on training mode which enables dropout.\n",
    "    model.train()\n",
    "    total_loss = 0.\n",
    "    start_time = time.time()\n",
    "    ntokens = len(subword_corpus.dictionary)\n",
    "    hidden = model.init_hidden(args.batch_size)\n",
    "    for batch, i in enumerate(range(0, train_data.size(0) - 1, args.bptt)):\n",
    "        data, targets = get_batch(train_data, i)\n",
    "        # Starting each batch, we detach the hidden state from how it was previously produced.\n",
    "        # If we didn't, the model would try backpropagating all the way to start of the dataset.\n",
    "        model.zero_grad()\n",
    "\n",
    "        hidden = repackage_hidden(hidden)\n",
    "        output, hidden = model(data, hidden)\n",
    "\n",
    "        loss = criterion(output, targets)\n",
    "        loss.backward()\n",
    "\n",
    "        # `clip_grad_norm` helps prevent the exploding gradient problem in RNNs / LSTMs.\n",
    "        torch.nn.utils.clip_grad_norm_(model.parameters(), args.clip)\n",
    "        for p in model.parameters():\n",
    "            p.data.add_(p.grad, alpha=-lr)\n",
    "\n",
    "        total_loss += loss.item()\n",
    "\n",
    "        if batch % args.log_interval == 0 and batch > 0:\n",
    "            cur_loss = total_loss / args.log_interval\n",
    "            elapsed = time.time() - start_time\n",
    "            print('| epoch {:3d} | {:5d}/{:5d} batches | lr {:02.2f} | ms/batch {:5.2f} | '\n",
    "                    'loss {:5.2f} | ppl {:8.2f}'.format(\n",
    "                epoch, batch, len(train_data) // args.bptt, lr,\n",
    "                elapsed * 1000 / args.log_interval, cur_loss, math.exp(cur_loss)))\n",
    "            total_loss = 0\n",
    "            start_time = time.time()\n",
    "        if args.dry_run:\n",
    "            break"
   ]
  },
  {
   "cell_type": "code",
   "execution_count": 57,
   "metadata": {},
   "outputs": [
    {
     "name": "stdout",
     "output_type": "stream",
     "text": [
      "-----------------------------------------------------------------------------------------\n",
      "| end of epoch   1 | time: 254.02s | valid loss  9.37 | valid ppl 11752.85\n",
      "-----------------------------------------------------------------------------------------\n",
      "-----------------------------------------------------------------------------------------\n",
      "| end of epoch   2 | time: 184.04s | valid loss 14.65 | valid ppl 2314637.74\n",
      "-----------------------------------------------------------------------------------------\n",
      "-----------------------------------------------------------------------------------------\n",
      "| end of epoch   3 | time: 190.28s | valid loss 10.87 | valid ppl 52374.79\n",
      "-----------------------------------------------------------------------------------------\n",
      "-----------------------------------------------------------------------------------------\n",
      "| end of epoch   4 | time: 182.13s | valid loss  9.01 | valid ppl  8167.95\n",
      "-----------------------------------------------------------------------------------------\n",
      "-----------------------------------------------------------------------------------------\n",
      "| end of epoch   5 | time: 170.05s | valid loss  7.81 | valid ppl  2454.89\n",
      "-----------------------------------------------------------------------------------------\n",
      "-----------------------------------------------------------------------------------------\n",
      "| end of epoch   6 | time: 201.61s | valid loss  7.79 | valid ppl  2413.30\n",
      "-----------------------------------------------------------------------------------------\n",
      "=========================================================================================\n",
      "| End of training | test loss  7.69 | test ppl  2182.13\n",
      "=========================================================================================\n"
     ]
    }
   ],
   "source": [
    "###############################################################################\n",
    "# Training code2 - run \n",
    "###############################################################################\n",
    "\n",
    "# Loop over epochs.\n",
    "lr = args.lr\n",
    "best_val_loss = None\n",
    "\n",
    "# At any point you can hit Ctrl + C to break out of training early.\n",
    "try:\n",
    "    for epoch in range(1, args.epochs+1):\n",
    "        epoch_start_time = time.time()\n",
    "        train()\n",
    "        val_loss = evaluate(val_data)\n",
    "        print('-' * 89)\n",
    "        print('| end of epoch {:3d} | time: {:5.2f}s | valid loss {:5.2f} | '\n",
    "                'valid ppl {:8.2f}'.format(epoch, (time.time() - epoch_start_time),\n",
    "                                            val_loss, math.exp(val_loss)))\n",
    "        print('-' * 89)\n",
    "        # Save the model if the validation loss is the best we've seen so far.\n",
    "        if not best_val_loss or val_loss < best_val_loss:\n",
    "            with open(args.save, 'wb') as f:\n",
    "                torch.save(model, f)\n",
    "            best_val_loss = val_loss\n",
    "        else:\n",
    "            # Anneal the learning rate if no improvement has been seen in the validation dataset.\n",
    "            lr /= 4.0\n",
    "except KeyboardInterrupt:\n",
    "    print('-' * 89)\n",
    "    print('Exiting from training early')\n",
    "\n",
    "# Load the best saved model.\n",
    "with open(args.save, 'rb') as f:\n",
    "    model = torch.load(f)\n",
    "    # after load the rnn params are not a continuous chunk of memory\n",
    "    # this makes them a continuous chunk, and will speed up forward pass\n",
    "    # Currently, only rnn model supports flatten_parameters function.\n",
    "    if args.model in ['RNN_TANH', 'RNN_RELU', 'LSTM', 'GRU']:\n",
    "        model.rnn.flatten_parameters()\n",
    "\n",
    "# Run on test data.\n",
    "test_loss = evaluate(test_data)\n",
    "print('=' * 89)\n",
    "print('| End of training | test loss {:5.2f} | test ppl {:8.2f}'.format(\n",
    "    test_loss, math.exp(test_loss)))\n",
    "print('=' * 89)"
   ]
  },
  {
   "cell_type": "markdown",
   "metadata": {},
   "source": [
    "### **3) 학습한 언어 모델로 문장 생성**"
   ]
  },
  {
   "cell_type": "markdown",
   "metadata": {},
   "source": [
    "- 학습이 완료된 모델을 불러와 임의의 한 단어를 입력으로 넣어준 후, 정해진 개수의 단어를 생성합니다.\n",
    "- 생성한 문장을 decode하여 generate.txt 파일에 저장합니다."
   ]
  },
  {
   "cell_type": "code",
   "execution_count": 60,
   "metadata": {},
   "outputs": [
    {
     "name": "stdout",
     "output_type": "stream",
     "text": [
      "| Generated 0/1000 words\n",
      "| Generated 100/1000 words\n",
      "| Generated 200/1000 words\n",
      "| Generated 300/1000 words\n",
      "| Generated 400/1000 words\n",
      "| Generated 500/1000 words\n",
      "| Generated 600/1000 words\n",
      "| Generated 700/1000 words\n",
      "| Generated 800/1000 words\n",
      "| Generated 900/1000 words\n"
     ]
    }
   ],
   "source": [
    "###############################################################################\n",
    "# Language Modeling on Wikitext-2\n",
    "#\n",
    "# This file generates new sentences sampled from the language model\n",
    "#\n",
    "###############################################################################\n",
    "\n",
    "import torch\n",
    "\n",
    "# Model parameters.\n",
    "test_args = easydict.EasyDict({\n",
    "    \"data\"      : './data/wikitext-2',  # location of data corpus\n",
    "    \"checkpoint\": './model.pt',         # model checkpoint to use\n",
    "    \"outf\"      : 'generate.txt',       # output file for generated text\n",
    "    \"words\"     : 1000,                 # number of words to generate\n",
    "    \"seed\"      : 1111,                 # random seed\n",
    "    \"cuda\"      : False,                # unuse CUDA\n",
    "    \"temperature\": 1.0,                 # temperature - higher will increase diversity\n",
    "    \"log_interval\": 100                 # reporting interval\n",
    "})\n",
    "\n",
    "# Set the random seed manually for reproducibility.\n",
    "torch.manual_seed(test_args.seed)\n",
    "if torch.cuda.is_available():\n",
    "    if not test_args.cuda:\n",
    "        print(\"WARNING: You have a CUDA device, so you should probably run with --cuda\")\n",
    "\n",
    "device = torch.device(\"cuda\" if test_args.cuda else \"cpu\")\n",
    "\n",
    "if test_args.temperature < 1e-3:\n",
    "    parser.error(\"--temperature has to be greater or equal 1e-3\")\n",
    "\n",
    "with open(test_args.checkpoint, 'rb') as f:\n",
    "    model = torch.load(f).to(device)\n",
    "model.eval()\n",
    "\n",
    "# corpus = Corpus(test_args.data)\n",
    "# ntokens = len(subword_corpus.dictionary)\n",
    "\n",
    "hidden = model.init_hidden(1)\n",
    "input = torch.randint(ntokens, (1, 1), dtype=torch.long).to(device)\n",
    "\n",
    "with open(test_args.outf, 'w', encoding=\"UTF-8\") as outf:\n",
    "    with torch.no_grad():  # no tracking history\n",
    "        for i in range(test_args.words):\n",
    "            output, hidden = model(input, hidden)\n",
    "            word_weights = output.squeeze().div(test_args.temperature).exp().cpu()\n",
    "            word_idx = torch.multinomial(word_weights, 1)[0]\n",
    "            input.fill_(word_idx)\n",
    "\n",
    "            word = subword_corpus.dictionary.idx2word[word_idx]\n",
    "\n",
    "            outf.write(word + ('\\n' if i % 20 == 19 else ' '))\n",
    "\n",
    "            if i % test_args.log_interval == 0:\n",
    "                print('| Generated {}/{} words'.format(i, test_args.words))"
   ]
  },
  {
   "cell_type": "markdown",
   "metadata": {},
   "source": [
    "## Reference\n",
    "[Pytorch Language Model](https://github.com/pytorch/examples/tree/master/word_language_model)"
   ]
  },
  {
   "cell_type": "markdown",
   "metadata": {},
   "source": [
    "# **8. Byte-Pair Encoding**"
   ]
  },
  {
   "cell_type": "markdown",
   "metadata": {},
   "source": [
    "## **8.1 BPE 알고리즘**"
   ]
  },
  {
   "cell_type": "markdown",
   "metadata": {},
   "source": [
    "BPE 알고리즘은 1994년에 제안된 데이터 압축 알고리즘입니다. 이를 후에 자연어 처리의 서브워드 분리 알고리즘으로 응용한 것입니다. 자연어 처리에서 사용되는 것을 알아보기 전에 먼저 기존의 BPE 작동 방법을 알아보겠습니다. \n",
    "\n",
    "> aaabdaaabac\n",
    "\n",
    "위와 같은 문자열이 주어졌습니다. 이때 BPE는 연속적으로 가장 많이 등장한 글자의 쌍을 찾아서 하나의 글자로 병합하는 방식을 수행합니다. 위 문자에서 가장 많이 등장한 문자의 쌍은 'aa'입니다. 이를 'Z'로 치환하겠습니다.\n",
    "\n",
    "> ZabdZabac  \n",
    "> Z = aa  \n",
    "\n",
    "치환 후, 가장 많이 등장하는 문자의 쌍은 'ab'입니다. 'ab'는 'Y'로 치환하겠습니다.\n",
    "\n",
    "> ZYdZYac  \n",
    "> Y = ab  \n",
    "> Z = aa  \n",
    "\n",
    "이번엔 'ZY'가 가장 많이 나타납니다. 이를 'X'로 치환하겠습니다.\n",
    "\n",
    "> XdXac  \n",
    "> X = ZY  \n",
    "> Y = ab  \n",
    "> Z = aa  \n",
    "\n",
    "이제 더이상 병합할 것이 없습니다. 그렇기에 위 결과를 최종 결과로 출력합니다."
   ]
  },
  {
   "cell_type": "markdown",
   "metadata": {},
   "source": [
    "## **8.2 자연어 처리에서의 BPE**"
   ]
  },
  {
   "cell_type": "markdown",
   "metadata": {},
   "source": [
    "[자연어 처리에서의 BPE](https://arxiv.org/abs/1508.07909)는 subword-based tokenizer의 일종으로 글자 단위에서 점차적으로 단어 집합을 만들어내는 bottom up 방식을 사용합니다. 우선 훈련 데이터에 있는 단어들을 모든 글자 또는 유니코드 단위로 단어 집합을 만들고 가장 많이 등장하는 유니그램을 하나의 유니그램으로 통합합니다. \n",
    "\n",
    "논문에서 나오는 코드를 조금 수정한 코드로 동작하는 과정을 알아보겠습니다."
   ]
  },
  {
   "cell_type": "code",
   "execution_count": 9,
   "metadata": {},
   "outputs": [
    {
     "data": {
      "text/markdown": [
       "### Iteration 1"
      ],
      "text/plain": [
       "<IPython.core.display.Markdown object>"
      ]
     },
     "metadata": {},
     "output_type": "display_data"
    },
    {
     "name": "stdout",
     "output_type": "stream",
     "text": [
      "현재 pair들의 빈도수 : {('l', 'o'): 7, ('o', 'w'): 7, ('w', '</w>'): 5, ('w', 'e'): 8, ('e', 'r'): 2, ('r', '</w>'): 2, ('n', 'e'): 6, ('e', 'w'): 6, ('e', 's'): 9, ('s', 't'): 9, ('t', '</w>'): 9, ('w', 'i'): 3, ('i', 'd'): 3, ('d', 'e'): 3}\n",
      "new merge: ('e', 's')\n",
      "dictionary: {'l o w </w>': 5, 'l o w e r </w>': 2, 'n e w es t </w>': 6, 'w i d es t </w>': 3}\n"
     ]
    },
    {
     "data": {
      "text/markdown": [
       "### Iteration 2"
      ],
      "text/plain": [
       "<IPython.core.display.Markdown object>"
      ]
     },
     "metadata": {},
     "output_type": "display_data"
    },
    {
     "name": "stdout",
     "output_type": "stream",
     "text": [
      "현재 pair들의 빈도수 : {('l', 'o'): 7, ('o', 'w'): 7, ('w', '</w>'): 5, ('w', 'e'): 2, ('e', 'r'): 2, ('r', '</w>'): 2, ('n', 'e'): 6, ('e', 'w'): 6, ('w', 'es'): 6, ('es', 't'): 9, ('t', '</w>'): 9, ('w', 'i'): 3, ('i', 'd'): 3, ('d', 'es'): 3}\n",
      "new merge: ('es', 't')\n",
      "dictionary: {'l o w </w>': 5, 'l o w e r </w>': 2, 'n e w est </w>': 6, 'w i d est </w>': 3}\n"
     ]
    },
    {
     "data": {
      "text/markdown": [
       "### Iteration 3"
      ],
      "text/plain": [
       "<IPython.core.display.Markdown object>"
      ]
     },
     "metadata": {},
     "output_type": "display_data"
    },
    {
     "name": "stdout",
     "output_type": "stream",
     "text": [
      "현재 pair들의 빈도수 : {('l', 'o'): 7, ('o', 'w'): 7, ('w', '</w>'): 5, ('w', 'e'): 2, ('e', 'r'): 2, ('r', '</w>'): 2, ('n', 'e'): 6, ('e', 'w'): 6, ('w', 'est'): 6, ('est', '</w>'): 9, ('w', 'i'): 3, ('i', 'd'): 3, ('d', 'est'): 3}\n",
      "new merge: ('est', '</w>')\n",
      "dictionary: {'l o w </w>': 5, 'l o w e r </w>': 2, 'n e w est</w>': 6, 'w i d est</w>': 3}\n"
     ]
    },
    {
     "data": {
      "text/markdown": [
       "### Iteration 4"
      ],
      "text/plain": [
       "<IPython.core.display.Markdown object>"
      ]
     },
     "metadata": {},
     "output_type": "display_data"
    },
    {
     "name": "stdout",
     "output_type": "stream",
     "text": [
      "현재 pair들의 빈도수 : {('l', 'o'): 7, ('o', 'w'): 7, ('w', '</w>'): 5, ('w', 'e'): 2, ('e', 'r'): 2, ('r', '</w>'): 2, ('n', 'e'): 6, ('e', 'w'): 6, ('w', 'est</w>'): 6, ('w', 'i'): 3, ('i', 'd'): 3, ('d', 'est</w>'): 3}\n",
      "new merge: ('l', 'o')\n",
      "dictionary: {'lo w </w>': 5, 'lo w e r </w>': 2, 'n e w est</w>': 6, 'w i d est</w>': 3}\n"
     ]
    },
    {
     "data": {
      "text/markdown": [
       "### Iteration 5"
      ],
      "text/plain": [
       "<IPython.core.display.Markdown object>"
      ]
     },
     "metadata": {},
     "output_type": "display_data"
    },
    {
     "name": "stdout",
     "output_type": "stream",
     "text": [
      "현재 pair들의 빈도수 : {('lo', 'w'): 7, ('w', '</w>'): 5, ('w', 'e'): 2, ('e', 'r'): 2, ('r', '</w>'): 2, ('n', 'e'): 6, ('e', 'w'): 6, ('w', 'est</w>'): 6, ('w', 'i'): 3, ('i', 'd'): 3, ('d', 'est</w>'): 3}\n",
      "new merge: ('lo', 'w')\n",
      "dictionary: {'low </w>': 5, 'low e r </w>': 2, 'n e w est</w>': 6, 'w i d est</w>': 3}\n"
     ]
    },
    {
     "data": {
      "text/markdown": [
       "### Iteration 6"
      ],
      "text/plain": [
       "<IPython.core.display.Markdown object>"
      ]
     },
     "metadata": {},
     "output_type": "display_data"
    },
    {
     "name": "stdout",
     "output_type": "stream",
     "text": [
      "현재 pair들의 빈도수 : {('low', '</w>'): 5, ('low', 'e'): 2, ('e', 'r'): 2, ('r', '</w>'): 2, ('n', 'e'): 6, ('e', 'w'): 6, ('w', 'est</w>'): 6, ('w', 'i'): 3, ('i', 'd'): 3, ('d', 'est</w>'): 3}\n",
      "new merge: ('n', 'e')\n",
      "dictionary: {'low </w>': 5, 'low e r </w>': 2, 'ne w est</w>': 6, 'w i d est</w>': 3}\n"
     ]
    },
    {
     "data": {
      "text/markdown": [
       "### Iteration 7"
      ],
      "text/plain": [
       "<IPython.core.display.Markdown object>"
      ]
     },
     "metadata": {},
     "output_type": "display_data"
    },
    {
     "name": "stdout",
     "output_type": "stream",
     "text": [
      "현재 pair들의 빈도수 : {('low', '</w>'): 5, ('low', 'e'): 2, ('e', 'r'): 2, ('r', '</w>'): 2, ('ne', 'w'): 6, ('w', 'est</w>'): 6, ('w', 'i'): 3, ('i', 'd'): 3, ('d', 'est</w>'): 3}\n",
      "new merge: ('ne', 'w')\n",
      "dictionary: {'low </w>': 5, 'low e r </w>': 2, 'new est</w>': 6, 'w i d est</w>': 3}\n"
     ]
    },
    {
     "data": {
      "text/markdown": [
       "### Iteration 8"
      ],
      "text/plain": [
       "<IPython.core.display.Markdown object>"
      ]
     },
     "metadata": {},
     "output_type": "display_data"
    },
    {
     "name": "stdout",
     "output_type": "stream",
     "text": [
      "현재 pair들의 빈도수 : {('low', '</w>'): 5, ('low', 'e'): 2, ('e', 'r'): 2, ('r', '</w>'): 2, ('new', 'est</w>'): 6, ('w', 'i'): 3, ('i', 'd'): 3, ('d', 'est</w>'): 3}\n",
      "new merge: ('new', 'est</w>')\n",
      "dictionary: {'low </w>': 5, 'low e r </w>': 2, 'newest</w>': 6, 'w i d est</w>': 3}\n"
     ]
    },
    {
     "data": {
      "text/markdown": [
       "### Iteration 9"
      ],
      "text/plain": [
       "<IPython.core.display.Markdown object>"
      ]
     },
     "metadata": {},
     "output_type": "display_data"
    },
    {
     "name": "stdout",
     "output_type": "stream",
     "text": [
      "현재 pair들의 빈도수 : {('low', '</w>'): 5, ('low', 'e'): 2, ('e', 'r'): 2, ('r', '</w>'): 2, ('w', 'i'): 3, ('i', 'd'): 3, ('d', 'est</w>'): 3}\n",
      "new merge: ('low', '</w>')\n",
      "dictionary: {'low</w>': 5, 'low e r </w>': 2, 'newest</w>': 6, 'w i d est</w>': 3}\n"
     ]
    },
    {
     "data": {
      "text/markdown": [
       "### Iteration 10"
      ],
      "text/plain": [
       "<IPython.core.display.Markdown object>"
      ]
     },
     "metadata": {},
     "output_type": "display_data"
    },
    {
     "name": "stdout",
     "output_type": "stream",
     "text": [
      "현재 pair들의 빈도수 : {('low', 'e'): 2, ('e', 'r'): 2, ('r', '</w>'): 2, ('w', 'i'): 3, ('i', 'd'): 3, ('d', 'est</w>'): 3}\n",
      "new merge: ('w', 'i')\n",
      "dictionary: {'low</w>': 5, 'low e r </w>': 2, 'newest</w>': 6, 'wi d est</w>': 3}\n"
     ]
    }
   ],
   "source": [
    "import re, collections\n",
    "from IPython.display import display, Markdown, Latex\n",
    "\n",
    "num_merges = 10\n",
    "dictionary = {'l o w </w>' : 5,\n",
    "        'l o w e r </w>' : 2,\n",
    "        'n e w e s t </w>':6,\n",
    "        'w i d e s t </w>':3\n",
    "        }\n",
    "\n",
    "def get_stats(dictionary):\n",
    "    # 유니그램의 pair들의 빈도수를 카운트\n",
    "    pairs = collections.defaultdict(int)\n",
    "    for word, freq in dictionary.items():\n",
    "        symbols = word.split()\n",
    "        for i in range(len(symbols)-1):\n",
    "            pairs[symbols[i],symbols[i+1]] += freq\n",
    "    print('현재 pair들의 빈도수 :', dict(pairs))\n",
    "    return pairs\n",
    "\n",
    "def merge_dictionary(pair, v_in):\n",
    "    v_out = {}\n",
    "    bigram = re.escape(' '.join(pair))\n",
    "    p = re.compile(r'(?<!\\S)' + bigram + r'(?!\\S)')\n",
    "    for word in v_in:\n",
    "        w_out = p.sub(''.join(pair), word)\n",
    "        v_out[w_out] = v_in[word]\n",
    "    return v_out\n",
    "\n",
    "bpe_codes = {}\n",
    "bpe_codes_reverse = {}\n",
    "\n",
    "for i in range(num_merges):\n",
    "    display(Markdown(\"### Iteration {}\".format(i + 1)))\n",
    "    pairs = get_stats(dictionary)\n",
    "    best = max(pairs, key=pairs.get)\n",
    "    dictionary = merge_dictionary(best, dictionary)\n",
    "\n",
    "    bpe_codes[best] = i\n",
    "    bpe_codes_reverse[best[0] + best[1]] = best\n",
    "\n",
    "    print(\"new merge: {}\".format(best))\n",
    "    print(\"dictionary: {}\".format(dictionary))"
   ]
  },
  {
   "cell_type": "markdown",
   "metadata": {},
   "source": [
    "vocab은 나오는 단어들을 키, 출현 빈도수를 값으로 가지는 사전입니다. 처음 입력되는 단어들은 모두 철자입니다. `get_stats`함수를 거치면서 앞뒤로 근접한 한 쌍의 단어들의 조합 빈도수가 저장된 pairs을 리턴합니다. 예를 들어 [l o w </w>]가 들어가면 [lo], [ow], [w</w>]의 빈도수가 각각 저장되는 것입니다. 이렇게 리턴된 pairs에서 빈도수가 가장 높은 것을 `merge_dictionary`을 통해 vocab에 저장합니다. 그리고 이를 num_merges만큼 반복하는 것입니다. \n",
    "\n",
    "위 출력은 매 iteration마다 합쳐진 단어들이고 마지막은 최종 vocab입니다. \n",
    "\n",
    "<img src = \"https://wikidocs.net/images/page/22592/%EA%B7%B8%EB%A6%BC.png\">\n",
    "\n",
    "위 그림은 BPE는 OOV의 문제를 해결하는 동작 과정입니다. 모르는 단어 'lowest'가 들어왔을 때, vocab 안에 있는 두 토큰의 합으로 표현한 것을 알 수 있습니다. 이 역시 코드로 구현해보겠습니다."
   ]
  },
  {
   "cell_type": "code",
   "execution_count": 12,
   "metadata": {},
   "outputs": [],
   "source": [
    "def get_pairs(word):\n",
    "    \"\"\"\n",
    "    Return set of symbol pairs in a word.\n",
    "    Word is represented as a tuple of symbols (symbols being variable-length strings).\n",
    "    \"\"\"\n",
    "    pairs = set()\n",
    "    prev_char = word[0]\n",
    "    for char in word[1:]:\n",
    "        pairs.add((prev_char, char))\n",
    "        prev_char = char\n",
    "    return pairs\n",
    "\n",
    "\n",
    "def encode(orig):\n",
    "    \"\"\"Encode word based on list of BPE merge operations, which are applied consecutively\"\"\"\n",
    "\n",
    "    word = tuple(orig) + ('</w>',)\n",
    "    display(Markdown(\"__word split into characters:__ <tt>{}</tt>\".format(word)))\n",
    "\n",
    "    pairs = get_pairs(word)    \n",
    "\n",
    "    if not pairs:\n",
    "        return orig\n",
    "\n",
    "    iteration = 0\n",
    "    while True:\n",
    "        iteration += 1\n",
    "        display(Markdown(\"__Iteration {}:__\".format(iteration)))\n",
    "\n",
    "        print(\"bigrams in the word: {}\".format(pairs))\n",
    "        bigram = min(pairs, key = lambda pair: bpe_codes.get(pair, float('inf')))\n",
    "        print(\"candidate for merging: {}\".format(bigram))\n",
    "        if bigram not in bpe_codes:\n",
    "            display(Markdown(\"__Candidate not in BPE merges, algorithm stops.__\"))\n",
    "            break\n",
    "        first, second = bigram\n",
    "        new_word = []\n",
    "        i = 0\n",
    "        while i < len(word):\n",
    "            try:\n",
    "                j = word.index(first, i)\n",
    "                new_word.extend(word[i:j])\n",
    "                i = j\n",
    "            except:\n",
    "                new_word.extend(word[i:])\n",
    "                break\n",
    "\n",
    "            if word[i] == first and i < len(word)-1 and word[i+1] == second:\n",
    "                new_word.append(first+second)\n",
    "                i += 2\n",
    "            else:\n",
    "                new_word.append(word[i])\n",
    "                i += 1\n",
    "        new_word = tuple(new_word)\n",
    "        word = new_word\n",
    "        print(\"word after merging: {}\".format(word))\n",
    "        if len(word) == 1:\n",
    "            break\n",
    "        else:\n",
    "            pairs = get_pairs(word)\n",
    "\n",
    "    # 특별 토큰인 </w>는 출력하지 않는다.\n",
    "    if word[-1] == '</w>':\n",
    "        word = word[:-1]\n",
    "    elif word[-1].endswith('</w>'):\n",
    "        word = word[:-1] + (word[-1].replace('</w>',''),)\n",
    "\n",
    "    return word"
   ]
  },
  {
   "cell_type": "code",
   "execution_count": 13,
   "metadata": {},
   "outputs": [
    {
     "data": {
      "text/markdown": [
       "__word split into characters:__ <tt>('l', 'o', 'k', 'i', '</w>')</tt>"
      ],
      "text/plain": [
       "<IPython.core.display.Markdown object>"
      ]
     },
     "metadata": {},
     "output_type": "display_data"
    },
    {
     "data": {
      "text/markdown": [
       "__Iteration 1:__"
      ],
      "text/plain": [
       "<IPython.core.display.Markdown object>"
      ]
     },
     "metadata": {},
     "output_type": "display_data"
    },
    {
     "name": "stdout",
     "output_type": "stream",
     "text": [
      "bigrams in the word: {('i', '</w>'), ('o', 'k'), ('k', 'i'), ('l', 'o')}\n",
      "candidate for merging: ('l', 'o')\n",
      "word after merging: ('lo', 'k', 'i', '</w>')\n"
     ]
    },
    {
     "data": {
      "text/markdown": [
       "__Iteration 2:__"
      ],
      "text/plain": [
       "<IPython.core.display.Markdown object>"
      ]
     },
     "metadata": {},
     "output_type": "display_data"
    },
    {
     "name": "stdout",
     "output_type": "stream",
     "text": [
      "bigrams in the word: {('i', '</w>'), ('lo', 'k'), ('k', 'i')}\n",
      "candidate for merging: ('i', '</w>')\n"
     ]
    },
    {
     "data": {
      "text/markdown": [
       "__Candidate not in BPE merges, algorithm stops.__"
      ],
      "text/plain": [
       "<IPython.core.display.Markdown object>"
      ]
     },
     "metadata": {},
     "output_type": "display_data"
    },
    {
     "data": {
      "text/plain": [
       "('lo', 'k', 'i')"
      ]
     },
     "execution_count": 13,
     "metadata": {},
     "output_type": "execute_result"
    }
   ],
   "source": [
    "encode(\"loki\")"
   ]
  },
  {
   "cell_type": "code",
   "execution_count": 14,
   "metadata": {},
   "outputs": [
    {
     "data": {
      "text/markdown": [
       "__word split into characters:__ <tt>('l', 'o', 'w', 'e', 's', 't', '</w>')</tt>"
      ],
      "text/plain": [
       "<IPython.core.display.Markdown object>"
      ]
     },
     "metadata": {},
     "output_type": "display_data"
    },
    {
     "data": {
      "text/markdown": [
       "__Iteration 1:__"
      ],
      "text/plain": [
       "<IPython.core.display.Markdown object>"
      ]
     },
     "metadata": {},
     "output_type": "display_data"
    },
    {
     "name": "stdout",
     "output_type": "stream",
     "text": [
      "bigrams in the word: {('e', 's'), ('o', 'w'), ('s', 't'), ('w', 'e'), ('t', '</w>'), ('l', 'o')}\n",
      "candidate for merging: ('e', 's')\n",
      "word after merging: ('l', 'o', 'w', 'es', 't', '</w>')\n"
     ]
    },
    {
     "data": {
      "text/markdown": [
       "__Iteration 2:__"
      ],
      "text/plain": [
       "<IPython.core.display.Markdown object>"
      ]
     },
     "metadata": {},
     "output_type": "display_data"
    },
    {
     "name": "stdout",
     "output_type": "stream",
     "text": [
      "bigrams in the word: {('o', 'w'), ('w', 'es'), ('es', 't'), ('t', '</w>'), ('l', 'o')}\n",
      "candidate for merging: ('es', 't')\n",
      "word after merging: ('l', 'o', 'w', 'est', '</w>')\n"
     ]
    },
    {
     "data": {
      "text/markdown": [
       "__Iteration 3:__"
      ],
      "text/plain": [
       "<IPython.core.display.Markdown object>"
      ]
     },
     "metadata": {},
     "output_type": "display_data"
    },
    {
     "name": "stdout",
     "output_type": "stream",
     "text": [
      "bigrams in the word: {('o', 'w'), ('w', 'est'), ('l', 'o'), ('est', '</w>')}\n",
      "candidate for merging: ('est', '</w>')\n",
      "word after merging: ('l', 'o', 'w', 'est</w>')\n"
     ]
    },
    {
     "data": {
      "text/markdown": [
       "__Iteration 4:__"
      ],
      "text/plain": [
       "<IPython.core.display.Markdown object>"
      ]
     },
     "metadata": {},
     "output_type": "display_data"
    },
    {
     "name": "stdout",
     "output_type": "stream",
     "text": [
      "bigrams in the word: {('o', 'w'), ('w', 'est</w>'), ('l', 'o')}\n",
      "candidate for merging: ('l', 'o')\n",
      "word after merging: ('lo', 'w', 'est</w>')\n"
     ]
    },
    {
     "data": {
      "text/markdown": [
       "__Iteration 5:__"
      ],
      "text/plain": [
       "<IPython.core.display.Markdown object>"
      ]
     },
     "metadata": {},
     "output_type": "display_data"
    },
    {
     "name": "stdout",
     "output_type": "stream",
     "text": [
      "bigrams in the word: {('lo', 'w'), ('w', 'est</w>')}\n",
      "candidate for merging: ('lo', 'w')\n",
      "word after merging: ('low', 'est</w>')\n"
     ]
    },
    {
     "data": {
      "text/markdown": [
       "__Iteration 6:__"
      ],
      "text/plain": [
       "<IPython.core.display.Markdown object>"
      ]
     },
     "metadata": {},
     "output_type": "display_data"
    },
    {
     "name": "stdout",
     "output_type": "stream",
     "text": [
      "bigrams in the word: {('low', 'est</w>')}\n",
      "candidate for merging: ('low', 'est</w>')\n"
     ]
    },
    {
     "data": {
      "text/markdown": [
       "__Candidate not in BPE merges, algorithm stops.__"
      ],
      "text/plain": [
       "<IPython.core.display.Markdown object>"
      ]
     },
     "metadata": {},
     "output_type": "display_data"
    },
    {
     "data": {
      "text/plain": [
       "('low', 'est')"
      ]
     },
     "execution_count": 14,
     "metadata": {},
     "output_type": "execute_result"
    }
   ],
   "source": [
    "encode(\"lowest\")"
   ]
  },
  {
   "cell_type": "markdown",
   "metadata": {},
   "source": [
    "간단하게 BPT에 대해 보았습니다. BPT를 사용한 대표적인 모델인 GPT 등에 대해선 이후 챕터에서 살펴보겠습니다."
   ]
  },
  {
   "cell_type": "markdown",
   "metadata": {},
   "source": [
    "## **8.3 Issue**"
   ]
  },
  {
   "cell_type": "markdown",
   "metadata": {},
   "source": [
    "BPE에 여러 트릭을 이용해 성능을 개선하는 방법을 적용하고 있습니다. 예를 들어 첫 시작으로 철자 단위로 나눌 때, 공백 역시 '_' 등의 문자로 치환하여 함께 토큰화 시키는 방법이 있습니다. \n",
    "\n",
    "또한 \"학교에\"라는 단어가 들어왔고 사전에 [학교, 교에, 학, 교, 에]가 있다면 어떻게 토큰화할 것인지에 대한 방법론도 있습니다. 생각만 해보면 [학, 교에], [학교, 에], [학, 교, 에] 세 가지 방법으로 토큰화시킬 수 있습니다. 마지막 방법은 토큰화의 의미가 없으니 제외하고 나머지 두 개만 살펴보겠습니다.\n",
    "\n",
    "먼저 오른쪽으로부터 탐색하는 방법입니다. 가장 오른쪽인 '에'를 보고 사전에 존재하면 이어서 '교에'를 확인합니다. 이 또한 존재하면 '학교에'를 확인합니다. 이런식으로 공백이 나올때까지 쭉 이어집니다. 위같은 예시라면 [학, 교에]라는 결과를 출력할 것입니다. \n",
    "\n",
    "위와 반대로 왼쪽부터 탐색하는 방법도 있습니다. 그렇다면 [학교, 에]라는 결과를 출력할 것입니다. 대체적으로 왼쪽부터 탐색하는 방법을 사용하고 있습니다."
   ]
  },
  {
   "cell_type": "markdown",
   "metadata": {},
   "source": [
    "##  **Reference**\n",
    "\n",
    "https://wikidocs.net/22592"
   ]
  },
  {
   "cell_type": "markdown",
   "metadata": {},
   "source": [
    "# **9. BERT**"
   ]
  },
  {
   "cell_type": "markdown",
   "metadata": {},
   "source": [
    "[BERT(Bidirectional Encoder Representations from Transformers)](https://arxiv.org/abs/1810.04805)는 2018년에 구글이 공개한 pre-trained model입니다. BERT는 등장과 동시에 수많은 NLP task에서 최고 성능을 보여주면서 NLP분야의 한 획을 그은 모델로 평가받고 있습니다. 이러한 BERT를 배우기 전에 워드 임베딩에서부터 ELMo, 트랜스포머에 이르기까지 자연어 처리가 발전되어온 흐름을 정리해보겠습니다."
   ]
  },
  {
   "cell_type": "markdown",
   "metadata": {},
   "source": [
    "## **9.1 NLP에서 Pre-training**"
   ]
  },
  {
   "cell_type": "markdown",
   "metadata": {},
   "source": [
    "앞서 Word2Vec, FastText, GloVe와 같은 워드 임베딩들을 배웠습니다. 어떤 task를 수행할 때, 임베딩을 사용하는 방법은 크게 두 가지가 있습니다. 임베딩 층을 랜덤 초기화하여 처음부터 학습하는 방법과 방대한 데이터로 Word2Vec 등과 같은 임베딩 알고리즘으로 사전에 학습된 임베딩 벡터들을 가져와 사용하는 방법입니다. 만약 task에서 사용할 데이터가 적다면, 사전 훈련된 임베딩을 사용하면 성능 향상을 기대할 수 있습니다. \n",
    "\n",
    "그런데 위 두 가지 방법은 모두 하나의 단어가 하나의 벡터값으로 맵핑됩니다. 그렇기에 문맥을 고려하지 못하고 다의어나 동음이의어를 구분하지 못하는 문제가 생깁니다. 이 한계를 사전 훈련된(Pre-training) 언어 모델을 사용하므로 해결할 수 있었으며 이제 알아볼 ELMo나 BERT 등이 이러한 문제의 해결책이 되었습니다."
   ]
  },
  {
   "cell_type": "markdown",
   "metadata": {},
   "source": [
    "### **1) 사전 훈련된 언어 모델의 등장**"
   ]
  },
  {
   "cell_type": "markdown",
   "metadata": {},
   "source": [
    "<img src = \"https://wikidocs.net/images/page/108730/image1.PNG\">\n",
    "\n",
    "2015년 구글은 \"Semi-supervised Sequence Learning\"이라는 논문에서 LSTM 언어 모델을 학습하고나서 학습한 LSTM을 텍스트 분류에 추가 하는 방법을 보였습니다. 이 방법은 먼저 LSTM 언어 모델을 학습합니다. 언어 모델은 주어진 텍스트에서 이전 단어를 통해 다음 단어를 예측하는 학습을 진행하기에 따로 레이블을 지정하지 않은 텍스트 데이터로도 학습이 가능합니다. 이는 큰 이점이 됩니다.\n",
    "\n",
    "그리고 이렇게 레이블이 없는 데이터로 학습된 LSTM과 가중치가 랜덤으로 초기화 된 LSTM을 가지고 텍스트 분류 같은 문제를 학습하여 사전 훈련된 언어 모델을 사용한 전자가 더 좋은 결과를 얻을 수 있다고 가능성을 보이면서 ELMo와 같은 사전 훈련된 언어 모델이 본격적으로 등장하기 시작합니다."
   ]
  },
  {
   "cell_type": "markdown",
   "metadata": {},
   "source": [
    "### **2) ELMo**"
   ]
  },
  {
   "cell_type": "markdown",
   "metadata": {},
   "source": [
    "<img src = \"https://wikidocs.net/images/page/108730/image2.PNG\">\n",
    "\n",
    "ELMo는 순방향 언어 모델과 역방향 언어 모델을 각각 따로 학습시킨 후에, 이렇게 사전 학습된 언어 모델로부터 임베딩 값을 얻는다는 아이디어로 구현된 모델입니다. (자세하게 알고 싶으면 [이곳](https://wikidocs.net/33930)) 이러한 임베딩은 문맥에 따라서 임베딩 벡터값이 달라지므로, 기존 워드 임베딩인 Word2Vec이나 GloVe 등이 가지던 다의어, 동음이의어 문제들을 해결할 수 있습니다. "
   ]
  },
  {
   "cell_type": "markdown",
   "metadata": {},
   "source": [
    "### **3) Transformer**"
   ]
  },
  {
   "cell_type": "markdown",
   "metadata": {},
   "source": [
    "이서 언어 모델은 RNN 기반의 신경망을 벗어나기 시작합니다. 트랜스포머가 번역기와 같은 인코더-디코더 구조에서 LSTM을 뛰어넘자 LSTM이 아닌 트랜스포머로 사전 훈련된 언어 모델을 학습하는 시도가 등장합니다.\n",
    "\n",
    "<img src = \"https://wikidocs.net/images/page/108730/image3.PNG\">\n",
    "\n",
    "위 그림에서 Trm은 트랜스포머를 의미합니다. 트랜스포머의 디코더는 LSTM 언어 모델처럼 순차적으로 이전 단어들로부터 다음 단어를 예측합니다. Open AI는 트랜스포머 디코더로 총 12개의 층을 쌓은 후에 방대한 텍스트 데이터를 학습시킨 언어 모델 GPT-1을 만들었습니다. Open AI는 GPT-1에 여러 다양한 task를 위해 추가 학습을 진행하였을 때, 다양한 task에서 높은 성능을 보임을 입증했습니다. NLP의 주요 트렌드는 사전 훈련된 언어 모델을 만들고 이를 특정 task에 추가 학습시켜서 해당 task의 성능을 높이는 것으로 접어들었고, 언어 모델의 학습 방법에 변화를 주는 모델들이 등장했습니다. "
   ]
  },
  {
   "cell_type": "markdown",
   "metadata": {},
   "source": [
    "### **4) 양방향 언어모델**"
   ]
  },
  {
   "cell_type": "markdown",
   "metadata": {},
   "source": [
    "<img src = \"https://wikidocs.net/images/page/108730/image4.PNG\">\n",
    "\n",
    "위 좌측의 그림은 단방향 언어모델로 전형적인 형태입니다. 문장 순서대로 예측하는 과정을 거칩니다. 그에 반해 우리가 위에서 봤었던 양방향 언어모델은 순방향과 역방향의 모델을 따로 준비하여 학습하여 사용한 모델입니다. 언어의 문맥은 양방향이기에 좋은 성능을 얻을 수 있습니다. 또한 모델을 각각 두 개로 나눈 이유는 순방향으로 학습한 후, 역방향을 진행하면 이미 답을 모두 알고 있기에 학습효과가 사라지기 때문이었습니다."
   ]
  },
  {
   "cell_type": "markdown",
   "metadata": {},
   "source": [
    "### **5) Masked Language Model**"
   ]
  },
  {
   "cell_type": "markdown",
   "metadata": {},
   "source": [
    "또한 위 방법 말고 양방향성을 도입하기 위해 masked language model이 탄생합니다. 뒤에서 자세히 보겠지만 마스크드 언어 모델은 입력 텍스트 단어의 15%의 단어를 랜덤으로 마스킹합니다. 즉, 단어를 가려 원래 단어가 무엇인지 모르게 한다는 것입니다. 그리고 그 마스킹 된 단어들을 예측하게 합니다. 그리고 이를 이용하여 BERT가 등장하게 됩니다. "
   ]
  },
  {
   "cell_type": "markdown",
   "metadata": {},
   "source": [
    "## **9.2 BERT**"
   ]
  },
  {
   "cell_type": "markdown",
   "metadata": {},
   "source": [
    "### **1) 개요**"
   ]
  },
  {
   "cell_type": "markdown",
   "metadata": {},
   "source": [
    "<img src = \"http://jalammar.github.io/images/bert-transfer-learning.png\">\n",
    "\n",
    "BERT는 이전 챕터에서 배웠던 트랜스포머를 이용하여 구현되었으며, 위키피디아(25억 단어)와 BooksCorpus(8억 단어)와 같은 레이블이 없는 텍스트 데이터로 사전 훈련되어 있습니다.\n",
    "\n",
    "그리고 위 그림처럼 사전 훈련된 BERT를 각 task에 맞도록 fine-tuning(다른 작업에 대해서 파라미터를 재조정하기 위한 추가 훈련)을 하면 간단하고 성능도 높게 나옵니다. 위는 스팸 메일 분류에 사용된 BERT를 보여줍니다. 이러한 fine-tuning은 ELMo, Open AI GPT-1에도 사용되었습니다."
   ]
  },
  {
   "cell_type": "markdown",
   "metadata": {},
   "source": [
    "### **2) Architecture**"
   ]
  },
  {
   "cell_type": "markdown",
   "metadata": {},
   "source": [
    "<img src = \"http://jalammar.github.io/images/bert-base-bert-large-encoders.png\">\n",
    "\n",
    "BERT의 기본 구조는 트랜스포머의 인코더를 쌓아올린 구조입니다. 트랜스포머의 인코더 수를 L, d_model의 크기를 D, 셀프 어텐션 헤드의 개수를 A라고 했을 때, 두 개의 BERT는 다음과 같습니다.\n",
    "\n",
    "- BERT-base: L = 12, D = 768, A = 12: 110M개의 파라미터\n",
    "- BERT-large: L = 24, D = 1024, A = 16: 340M개의 파라미터\n",
    "\n",
    "초기 트랜스포머 모델이 L = 6, D = 512, A = 8인 것과 비교하면 Base 또한 초기 모델보다 큰 것을 알 수 있습니다. 여기서 BERT-base는 BERT보다 앞서 등장한 Open AI GPT-1과 하이퍼파라미터를 동일하게 만들어 성능을 비교하도록 만든 것입니다. 반면에 BERT-large는 BERT의 최대 성능을 내기 위해 만들어진 모델입니다. \n",
    "\n",
    "그렇기에 실제로 BERT-large를 많이 사용하고 기록도 많이 씁니다. 하지만 이 글에선 BERT-base를 기준으로 이야기하겠습니다.\n"
   ]
  },
  {
   "cell_type": "markdown",
   "metadata": {},
   "source": [
    "### **3) BERT의 문맥을 반영한 임베딩(Contextual Embedding)**"
   ]
  },
  {
   "cell_type": "markdown",
   "metadata": {},
   "source": [
    "BERT는 ELMo나 GPT-1과 마찬가지로 문맥을 반영한 임베딩을 사용합니다.\n",
    "\n",
    "<img src = \"https://wikidocs.net/images/page/115055/bert0.PNG\">\n",
    "\n",
    "BERT의 입력은 앞서 배운 딥 러닝 모델들과 마찬가지로 임베딩 층을 지난 임베딩 벡터들입니다. d_model을 768로 정의했기에 모든 단어들은 768차원의 임베딩 벡터가 되어 BERT의 입력으로 사용됩니다. BERT는 내부적 연산을 거친 후, 동일하게 각 단어에 대해서 768차원의 벡터를 출력합니다. 위 그림에서는 BERT가 각 768차원의 [CLS], I, love, you라는 4개의 벡터를 입력 받아서(입력 임베딩) 동일하게 768차원인 4개의 벡터를 출력하는 모습(출력 임베딩)을 보여줍니다.\n",
    "\n",
    "<img src = \"https://wikidocs.net/images/page/115055/%EA%B7%B8%EB%A6%BC2.PNG\">\n",
    "\n",
    "BERT의 연산을 거친 후, 출력 임베딩은 문장의 문맥을 모두 참고한 문맥을 반영한 임베딩이 됩니다. 위 좌측 그림의 [CLS] 벡터는 BERT의 초기 입력으로 들어갈 때는 단순히 임베딩 층을 지난 임베딩 벡터였지만, BERT를 지나면서 [CLS], I, love, you를 모두 참고한 후, 문맥 정보를 가진 벡터가 됩니다. 이는 다른 단어들도 모두 마찬가지입니다. \n",
    "\n",
    "하나의 단어가 모든 단어를 참고하는 연산은 BERT의 12개 층에서 전부 이루어집니다. 그렇게 12개 층을 모두 거치고 나서야 최종 출력 임베딩을 얻게 됩니다. 그리고 모든 단어들의 문맥을 참고하기 위해 BERT는 셀프 어텐션을 사용합니다. 사실 BERT가 기본적으로 트랜스포머를 사용하기에 각 층마다 multi-head self-attention과 FFNN을 거치고 있습니다."
   ]
  },
  {
   "cell_type": "markdown",
   "metadata": {},
   "source": [
    "### **4) BERT의 Subword tokenizer: WordPiece**"
   ]
  },
  {
   "cell_type": "markdown",
   "metadata": {},
   "source": [
    "BERT는 tokenizer로 subword 기반인 WordPiece를 사용합니다. WordPiece는 토크나이저 파트에서 잠깐 나왔습니다. 이는 BPE와 유사합니다. \n",
    "\n",
    "BERT에서 토큰화를 수행하는 방식은 다음과 같습니다.\n",
    "\n",
    "> 이미 훈련된 데이터로부터 만들어진 단어 집합이 있을 때\n",
    "> $$$$\n",
    "> 1. 토큰이 단어 집합에 존재한다.  \n",
    "> => 해당 토큰을 분리하지 않는다.\n",
    "> $$$$\n",
    "> 2. 토큰이 단어 집합에 존재하지 않는다.  \n",
    "> => 해당 토큰을 서브워드로 분리한다.  \n",
    "> => 해당 토큰의 첫번째 서브워드를 제외한 나머지 서브워드들은 앞에 \"##\"를 붙인 것을 토큰으로 한다.\n",
    "\n",
    "예를 들어 embeddings란 단어가 입력으로 들어오고 단어집합에 없는 상황이라고 합시다. 그대신 단어 집합에 [em, ##bed, ##ding, #s]가 있습니다. 그렇다면 embeddings란 단어는 다음과 같이 토큰화됩니다.\n",
    "\n",
    "$$embeddings = em + \\#\\#bed + \\#\\#ding + \\#s$$\n",
    "\n",
    "이때, #은 단어의 중간부터 서브워드라는 것을 알려주는 기호입니다. 그렇기에 토큰들을 다시 embeddings로 되돌리는 것은 쉬울 것입니다. "
   ]
  },
  {
   "cell_type": "code",
   "execution_count": 1,
   "metadata": {},
   "outputs": [
    {
     "name": "stderr",
     "output_type": "stream",
     "text": [
      "Downloading: 100%|██████████| 226k/226k [00:01<00:00, 192kB/s]  \n",
      "Downloading: 100%|██████████| 28.0/28.0 [00:00<00:00, 14.0kB/s]\n",
      "Downloading: 100%|██████████| 455k/455k [00:02<00:00, 233kB/s]  \n",
      "Downloading: 100%|██████████| 570/570 [00:00<00:00, 285kB/s]"
     ]
    },
    {
     "name": "stdout",
     "output_type": "stream",
     "text": [
      "['em', '##bed', '##ding', '##s']\n"
     ]
    },
    {
     "name": "stderr",
     "output_type": "stream",
     "text": [
      "\n"
     ]
    }
   ],
   "source": [
    "from transformers import BertTokenizer\n",
    "\n",
    "# BERT-base의 tokenizer\n",
    "tokenizer = BertTokenizer.from_pretrained(\"bert-base-uncased\")\n",
    "\n",
    "result = tokenizer.tokenize(\"embeddings\")\n",
    "print(result)"
   ]
  },
  {
   "cell_type": "markdown",
   "metadata": {},
   "source": [
    "위 코드는 transformers 패키지에 있는 BERT의 tokenizer로 embeddings 단어를 토큰화한 것입니다. 우리가 생각했던 것과 같은 결과를 출력하는 것을 볼 수 있습니다. 또한 tokenizer에 단어가 있는지 확인하려면 tokenizer.vocab['단어']를 사용하면 됩니다."
   ]
  },
  {
   "cell_type": "code",
   "execution_count": 6,
   "metadata": {},
   "outputs": [
    {
     "name": "stdout",
     "output_type": "stream",
     "text": [
      "14324\n"
     ]
    },
    {
     "ename": "KeyError",
     "evalue": "'tokenizer'",
     "output_type": "error",
     "traceback": [
      "\u001b[1;31m---------------------------------------------------------------------------\u001b[0m",
      "\u001b[1;31mKeyError\u001b[0m                                  Traceback (most recent call last)",
      "\u001b[1;32mC:\\Users\\DELPHI~1\\AppData\\Local\\Temp/ipykernel_7336/3987163026.py\u001b[0m in \u001b[0;36m<module>\u001b[1;34m\u001b[0m\n\u001b[0;32m      1\u001b[0m \u001b[0mprint\u001b[0m\u001b[1;33m(\u001b[0m\u001b[0mtokenizer\u001b[0m\u001b[1;33m.\u001b[0m\u001b[0mvocab\u001b[0m\u001b[1;33m[\u001b[0m\u001b[1;34m'bert'\u001b[0m\u001b[1;33m]\u001b[0m\u001b[1;33m)\u001b[0m\u001b[1;33m\u001b[0m\u001b[1;33m\u001b[0m\u001b[0m\n\u001b[1;32m----> 2\u001b[1;33m \u001b[0mprint\u001b[0m\u001b[1;33m(\u001b[0m\u001b[0mtokenizer\u001b[0m\u001b[1;33m.\u001b[0m\u001b[0mvocab\u001b[0m\u001b[1;33m[\u001b[0m\u001b[1;34m'tokenizer'\u001b[0m\u001b[1;33m]\u001b[0m\u001b[1;33m)\u001b[0m\u001b[1;33m\u001b[0m\u001b[1;33m\u001b[0m\u001b[0m\n\u001b[0m",
      "\u001b[1;31mKeyError\u001b[0m: 'tokenizer'"
     ]
    }
   ],
   "source": [
    "print(tokenizer.vocab['bert'])\n",
    "print(tokenizer.vocab['tokenizer'])"
   ]
  },
  {
   "cell_type": "markdown",
   "metadata": {},
   "source": [
    "결과를 보면 bert는 14324로 맵핑되어 있지만(우리가 소문자로 불러왔기에 BERT는 없다) tokenizer는 존재하지 않기에 KeyError가 발생합니다.\n",
    "\n",
    "밑에는 BERT에서 사용되는 특별 토큰과 맵핑되는 정수들입니다.\n",
    "\n",
    "- \\[PAD] - 0\n",
    "- \\[UNK] - 100\n",
    "- [CLS] - 101\n",
    "- [SEP] - 102\n",
    "- [MASK] - 103"
   ]
  },
  {
   "cell_type": "markdown",
   "metadata": {},
   "source": [
    "### **5) Position Embedding**"
   ]
  },
  {
   "cell_type": "markdown",
   "metadata": {},
   "source": [
    "트랜스포머에서 Positional Encoding을 통해 단어의 위치를 저장했었습니다. 이와 유사하게 BERT에서도 위치 정보를 저장하기 위해 사용하는 Position Embedding 방법이 있습니다. 차이는 positional encoding은 sin, cos 함수로 만들지만 positiono embedding은 학습을 통해 얻습니다.\n",
    "\n",
    "<img src = \"https://wikidocs.net/images/page/115055/%EA%B7%B8%EB%A6%BC5.PNG\">\n",
    "\n",
    "위 그림은 포지션 임베딩이 사용되는 것을 보여줍니다. 포지션 임베딩의 아이디어는 굉장히 간단한데 위치 정보를 위한 임베딩 층을 하나 더 사용합니다. 만약 위 그림처럼 문장의 길이가 4라면 4개의 포지션 임베딩 벡터를 학습시킵니다. 그리고 BERT의 입력마다 다음과 같이 포지션 임베딩 벡터를 더해주는 것입니다. (위 0, 1, 2, 3은 0번 포지션 임베딩 벡터, 1번 포지션 임베딩 벡터...를 나타낸다.) \n",
    "\n",
    "실제 BERT에서 문장의 최대 길이를 512로 정하였기에 총 512개의 포지션 임베딩 벡터를 학습합니다. 결론적으로 지금까지 내용을 기준으로 BERT에서는 총 두 개의 임베딩 층을 사용합니다. 단어 집합의 크기가 30,522개인 단어 벡터를 위한 임베딩 층과 문장의 최대 길이가 512이므로 512개의 포지션 벡터를 위한 임베딩 층입니다. \n",
    "\n",
    "여기에 좀 더 뒤에 배울 Segment embedding 층까지 총 3개를 사용합니다."
   ]
  },
  {
   "cell_type": "markdown",
   "metadata": {},
   "source": [
    "### **6) BERT의 Pre-training**"
   ]
  },
  {
   "cell_type": "markdown",
   "metadata": {},
   "source": [
    "![4-9-1](_image/4-9-1.PNG)\n",
    "\n",
    "위 그림은 BERT 논문에 첨부된 그림으로 ELMo와 GPT-1, BERT의 구조적 차이를 보여줍니다. 오른쪽에 있는 ELMo는 정방향 LSTM과 역방향 LSTM을 각각 훈련시키는 양방향 언어 모델을 만들었습니다. 가운데 있는 GPT-1은 트랜스포머의 디코더를 이전 단어들로부터 다음 단어를 예측하는 방식으로 단방향 언어 모델을 만들었습니다. 이는 트랜스포머 챕터에서 배웠던 Maksed multi-head self attention과 같은 방법입니다. \n",
    "\n",
    "마지막으로 좌측에 BERT를 보면 트랜스포머를 사용하면서도 양방향성을 가지는 것을 볼 수 있습니다. 이러한 결과를 얻기 위해 BERT는 사전 훈련 방법으로 masked language model과 next sentence prediction을 사용합니다. \n",
    "\n",
    "<img src = \"https://blog.kakaocdn.net/dn/cX8Xdx/btq89NGpMkS/U8kfQiTnmMS2sy3CWsmKM0/img.png\">\n",
    "\n",
    "\n",
    "#### **Masked Language Model, MLM**\n",
    "\n",
    "MLM은 사전 훈련에서 인공 신경망으로 들어가는 입력 텍스트의 일정 비율(논문은 15%)을 가려서 예측하도록 하는 방법입니다. 이는 양방향 학습이 필연적으로 단어의 정답을 간접적으로 알게 되어 예측이 쉬워지는 것을 방지하기 위함입니다. (GPT-1은 각각 학습하는 방향으로 해결했습니다.) \n",
    "\n",
    "<img src = \"https://miro.medium.com/max/700/0*ViwaI3Vvbnd-CJSQ.png\">\n",
    "\n",
    "위 그림처럼 문장의 일부를 빈칸으로 처리하여 빈칸을 채울 수 있도록 학습하는 것입니다. \n",
    "\n",
    "이러한 MLM은 pre-training 과정에서만 존재합니다. 즉 실제로 사용하는 fine-tuning 과정에선 masked token이 따로 존재하지 않습니다. 이를 pre-training과 fine-tuning 사이에 mismatch가 존재한다고 이야기합니다. 그렇기에 masking을 하기로 정해진 토큰에 대하여 확률을 주어 이 문제를 해결합니다. 아래는 making하기로 결정한 토큰들, 즉 전체 토큰 중 선택된 15%의 토큰들을 다시 세 가지로 나눈 것을 보여줍니다.\n",
    "\n",
    "- 80%의 단어들은 [MASK]로 변경한다.  \n",
    "  EX) The man went to the store -> The man went to the [MASK]\n",
    "- 10%의 단어들은 무작위로 단어를 변경한다.  \n",
    "  EX) The man went to the store -> The man went to the dog\n",
    "- 10%의 단어들은 그대로 유지한다.\n",
    "  EX) The man went to the store -> The man went to the store\n",
    "\n",
    "이제 위 과정을 모두 거쳤다면 trnasformer를 지나며 올바른 답이 나오도록 학습합니다. 즉, softmax 함수를 통과한 i번째 토큰이 원래의 토큰이 되도록 croee-entropy loss를 사용하여 pre-training하는 것입니다.\n",
    "\n",
    "\n",
    "#### **Next Sentence Prediction, NSP**\n",
    "\n",
    "또한 문장 간의 관계를 학습하는 방법인 NSP도 사용합니다. 이를 위해서 50:50 비율로 실제 이어지는 두 개의 문장과 랜덤으로 이어붙인 두 개의 문장을 주고 훈련을 시킵니다. 이때 주어진 문장에도 MLM은 그대로 적용됩니다. \n",
    "\n",
    "![4-9-2](_image/4-9-2.PNG)\n",
    "\n",
    "여기선 위 그림처럼 [CLS]와 [SEP] 토큰이 같이 주어진다. [SEP]는 문장이 끝나는 지점에 붙는 토큰이고 [CLS]는 가장 앞에 붙으며 두 문장이 실제 이어지는 문장인지 아닌지를 판단하는 값이 저장된다. 예를 들어 위 그림의 문장은 서로 연결되기에 [CLS]토큰으로 예측하면 [IsNext] 토큰이 나와야 합니다. 만약 서로 관계가 없는 문장이라면 [NotNext]라는 값을 출력하게 됩니다.\n",
    "\n",
    "\n",
    "BERT는 MLM과 NSP의 loss를 합하여 동시에 학습합니다. 이는 QA(Question Answering)나 NLI(Natural Language Inference)와 같이 두 문장의 관계를 이해하는 것이 중요한 task에서도 큰 힘을 발휘합니다."
   ]
  },
  {
   "cell_type": "markdown",
   "metadata": {},
   "source": [
    "### **7) Segment Embedding**"
   ]
  },
  {
   "cell_type": "markdown",
   "metadata": {},
   "source": [
    "<img src = \"https://miro.medium.com/max/700/0*m_kXt3uqZH9e7H4w.png\">\n",
    "\n",
    "위 그림을 보면 우리가 앞서 보았던 WordPiece embedding과 Position embedding을 확인할 수 있습니다. 그리고 문장의 순서를 저장하는 Segment embedding이 추가된 것을 확인할 수 있습니다. 문장은 항상 두 개만 주어지기에 앞문장을 나타내는 A와 뒷문장을 나타내는 B, 두 개의 값만 사용됩니다.\n",
    "\n",
    "그렇기에 결론적으로 BERT는 총 3개의 임베딩을 사용합니다.\n",
    "\n",
    "- WordPiece Embedding: 실질적인 입력이 되는 워드 임베딩.  \n",
    "  -> 임베딩 벡터의 종류 = 단어 집합의 크기 = 30,522(BERT의 경우)\n",
    "- Position Embedding: 위치 정보를 학습하기 위한 임베딩.  \n",
    "  -> 임베딩 벡터의 종류 = 문장의 최대 길이 = 512(BERT의 경우)\n",
    "- Segment Embedding: 두 개의 문장을 구분하기 위한 임베딩.  \n",
    "  -> 임베딩 벡터의 종류 = 문장의 최대 개수 = 2\n",
    "\n",
    "이때 BERT가 문장 중간의 [SEP] 토큰과 두 종류의 세그먼트 임베딩을 통해서 두 개의 문장을 구분하여 입력받는다고 설명하지만, 우리가 아는 문장 단위와 다를 수도 있습니다. 예를 들어 QA 문제를 풀 때 [SEP]와 세그먼트 임베딩을 기준으로 구분되는 [질문(Question), 본문(Paragraph)] 두 종류의 입력을 받지만 본문은 실제 다수의 문장으로 구성될 수 있습니다. 그렇기에 [SEP]로 나눠지는 문장은 실제로 두 종류의 텍스트가 될 수도 있는 것입니다.\n",
    "\n",
    "반대로 두 개의 문장을 받을 필요가 없을 수도 있습니다. 영화 리뷰 분류 같은 것은 하나의 문장만 가지고 감정 분류를 해야하기에 A만 사용하여 하나의 문장으로 처리합니다."
   ]
  },
  {
   "cell_type": "markdown",
   "metadata": {},
   "source": [
    "### **8) BERT Fine-tuning하기**"
   ]
  },
  {
   "cell_type": "markdown",
   "metadata": {},
   "source": [
    "<img src = \"https://img1.daumcdn.net/thumb/R1280x0/?scode=mtistory2&fname=https%3A%2F%2Fblog.kakaocdn.net%2Fdn%2FdbDqWN%2Fbtq89eCYowg%2FBAbirOgLkPGi1xC70LiJQ1%2Fimg.png\">\n",
    "\n",
    "사전 학습된 BERT에 우리가 풀고자 하는 task의 데이터를 추가로 학습시켜서 테스트 하는 fine-tuning은 실제 task에 BERT를 사용하는 단계에 해당합니다. 트랜스포머의 self-attention을 사용하기에 입력되는 문장의 개수와 상관없이 input을 구성할 수 있으먀, 보통의 경우는 하나의 output layer만 추가하여 end-to-end로 fine-tuning합니다.\n",
    "\n",
    "<img src = \"https://img1.daumcdn.net/thumb/R1280x0/?scode=mtistory2&fname=https%3A%2F%2Fblog.kakaocdn.net%2Fdn%2FbZ0bLF%2Fbtq8939XD9J%2FryPrJtK7PVJxRkdCncne0k%2Fimg.png\">\n",
    "\n",
    "위 그림은 대표적으로 사용할 수 있는 네가지 경우를 나타낸 것입니다. entailment(a)와 감성 분석(b)와 같은 classification task는 NSP 방법 그대로 [CLS] 토큰의 representation을 output layer로 넘겨주며 학습합니다. 반대로 Sequence tagging(d)와 QA(c) 같은 토큰 단위의 down-stream task는 토큰의 representation을 output layer로 넘겨주는 형태로 학습이 가능합니다. 이를 조금만 자세히 살펴보겠습니다.\n",
    "\n",
    "여기서 따로 기재가 안되어 있어도 모든 BERT를 사용하는 task들은 공통적으로 사용할 출력층 위에 FC층(Dense layer)을 추가하여 사용합니다.\n",
    "\n",
    "\n",
    "#### **1) 텍스트의 쌍에 대한 분류 또는 회귀 문제(위 그림의 a)**\n",
    "\n",
    "<img src = \"https://wikidocs.net/images/page/115055/apply3.PNG\">\n",
    "\n",
    "텍스트 쌍을 입력받는 task는 대표적으로 자연어 추론(Natural language inference)이 있습니다. 자연어 추론 문제는 두 문장이 주어졌을 때, 하나의 문장이 다른 문장과 어떤 관계에 있는지 분류하는 것을 말합니다. 이에 대한 결과는 모순(contradiction), 함의(entailment), 중립(natural) 세 가지 중 하나를 가집니다.\n",
    "\n",
    "이렇게 텍스트 쌍을 입력으로 받는 task의 경우, 텍스트 사이에 [SEP]를 집어넣고 두 종류의 세그먼트 임베딩을 모두 사용하여 문서를 구분합니다.\n",
    "\n",
    "\n",
    "#### **2) 하나의 텍스트에 대한 텍스트 분류 유형(위 그림의 b)**\n",
    "\n",
    "<img src = \"https://wikidocs.net/images/page/115055/apply1.PNG\">\n",
    "\n",
    "이 유형은 영화 리뷰 분류 등 입력된 문서에 대해서 주어진 기준으로 분류하는 task에서 쓰입니다. 앞서 보았듯이 [CLS] 토큰을 문장 앞에 입력합니다. 그리고 구해진 [CLS] 토큰 위에 FC층(밀집층)을 추가하여 분류에 대한 예측을 하게 됩니다. \n",
    "\n",
    "\n",
    "#### **3) QA(위 그림의 c)**\n",
    "\n",
    "<img src = \"https://wikidocs.net/images/page/115055/apply4.PNG\">\n",
    "\n",
    "QA는 풀기 위한 질문과 본문이 주어지고 이를 이용해 답을 출력하는 형태의 task입니다. 대표적으로 SQuAD(Stanford Question Answering Dataset) v1.1이 있습니다. 이는 wikipedia에서 지문을 가져와 클라우딩 소싱을 이용하여 생성한 데이터를 사용합니다. train 데이터만 공개하고 학습된 모델을 사이트에 올리면 비공개 test data에 의해 평가하고 순위가 매겨집니다. \n",
    "\n",
    "현재는 여기에 답이 없는 문제를 추가한 SQuAD v2.0을 많이 사용합니다. 이떄 BERT(현재 BERT 기반의 모델들이 상위권)는 총 세번의 예측을 하게 됩니다. 먼저 답이 답으로 예측되는 문장의 시작 단어와 끝 단어를 각각 예측하고 마지막으로 [CLS]를 이용하여 주어진 본문에 답이 있는지 예측합니다. \n",
    "\n",
    "\n",
    "#### **4) 하나의 텍스트에 대한 태깅 작업(위 그림의 d)**\n",
    "\n",
    "<img src = \"https://wikidocs.net/images/page/115055/apply2.PNG\">\n",
    "\n",
    "앞서 RNN 계열의 신경망을 이용해 풀기도 했던 task입니다. 대표적으로 문장의 각 단어에 품사를 태깅하는 품사 태깅과 개체를 태깅하는 개체명 인식 작업 등이 있습니다. 출력층에서는 입력 텍스트의 각 토큰의 위치에 FC층을 사용하여 분류에 대한 예측을 하게 됩니다. "
   ]
  },
  {
   "cell_type": "markdown",
   "metadata": {},
   "source": [
    "### **9) BERT의 정보 정리**"
   ]
  },
  {
   "cell_type": "markdown",
   "metadata": {},
   "source": [
    "- 훈련 데이터는 위키피디아(단어 25억개)와 BookCorpus(단어 8억개) $\\approx$ 단어 33억개\n",
    "- WordPiece tokenizer로 토큰화 수행 후, 15% 비율로 MLM 진행\n",
    "- 두 문장의 합한 길이의 최대는 512로 제한\n",
    "- 100만 step 훈련 $\\approx$ 총 33억개의 단어 코퍼스에 대해 40 epoch 학습\n",
    "- optimizer: Adam\n",
    "- learnging rate: $10^{-4}$\n",
    "- weight decay(가중치 감소): L2 정규화로 0.01 적용\n",
    "- dropout: 모든 레이어에 대해 0.1 적용\n",
    "- activation function: GeLU 사용\n",
    "- batch size: 256 "
   ]
  },
  {
   "cell_type": "markdown",
   "metadata": {},
   "source": [
    "### **10) Attention Mask**"
   ]
  },
  {
   "cell_type": "markdown",
   "metadata": {},
   "source": [
    "<img src = \"https://wikidocs.net/images/page/115055/%EA%B7%B8%EB%A6%BC11.PNG\">\n",
    "\n",
    "BERT를 실제로 사용하면 어텐션 마스크라는 시퀀스 입력이 추가로 사용됩니다. 이는 BERT가 어텐션 연산을 할 때, 불필요하게 패딩 토큰에 대해서 어텐션을 하지 않도록 실제 단어와 패딩 토큰을 구분할 수 있도록 알려주는 입력입니다. 이 값은 0과 1 두가지만 가지는데 숫자 1은 마스킹을 하지 않는 실제 단어, 0은 마스킹을 할 패딩 토큰임을 의미합니다. "
   ]
  },
  {
   "cell_type": "markdown",
   "metadata": {},
   "source": [
    "## Reference\n",
    "\n",
    "- https://wikidocs.net/115055\n",
    "- https://supkoon.tistory.com/24\n",
    "- https://nlpinkorean.github.io/illustrated-bert/"
   ]
  },
  {
   "cell_type": "markdown",
   "metadata": {},
   "source": [
    "# **10. GPT**"
   ]
  },
  {
   "cell_type": "markdown",
   "metadata": {},
   "source": [
    "GPT(Generative Pre-trained Transformer)는 Open AI에서 개발한 Semi-supervised language model입니다. 트랜스포머의 디코더만을 이용하여 구성되어 있고 이름 그대로 조금의 학습만으로 대부분의 task에서 사용이 가능하도록 사전학습한 모델입니다. \n",
    "\n",
    "현재 GPT-3(2022년 1월 기준)까지 나왔으며 세 모델의 차이는 데이터와 파라미터의 개수 차이 외에는 크게 있지는 않습니다."
   ]
  },
  {
   "cell_type": "markdown",
   "metadata": {},
   "source": [
    "## **10.1 GPT-1**"
   ]
  },
  {
   "cell_type": "markdown",
   "metadata": {},
   "source": [
    "[GPT-1](https://www.cs.ubc.ca/~amuham01/LING530/papers/radford2018improving.pdf)은 크게 unsupervised pre-training과 supervised fine-tuning으로 나눌 수 있습니다. 이를 통해 사전 학습된 모델로 대부분의 task에서 fine-tuning만 거쳐 효과적인 모델을 얻을 수 있게 만듭니다. "
   ]
  },
  {
   "cell_type": "markdown",
   "metadata": {},
   "source": [
    "### **1) Unsuperviesd pre-training**"
   ]
  },
  {
   "cell_type": "markdown",
   "metadata": {},
   "source": [
    "Unsupervised pre-training은 unlabeled token $u=\\{u_1, \\ldots, u_n\\}$을 통해 일반적인 언어모델의 목적함수 Likelihood $L_1(u)$를 최대화하는 과정입니다.\n",
    "\n",
    "$$L_1(u) = \\sum_i logP(u_i|u_{i-k}, \\ldots, u_{i-1};\\theta)$$\n",
    "\n",
    "$k$는 context window의 크기이며, 조건부 확률 $P$는 $\\theta$를 parameter로 갖는 신경망으로 모델링됩니다. \n",
    "\n",
    "이때 GPT-1은 transformer의 decoder block만을 사용하여 언어 모델을 구성합니다. \n",
    "\n",
    "![4-10-1](_image/4-10-1.PNG)\n",
    "\n",
    "여기서 transformer의 decoder block과 한 가지 차이점은 incoder-decoder attention이 없다는 것입니다. 이는 incoder를 가지지 않아 필요가 없기 때문입니다. 이 차이를 제외하면 전반적인 과정은 transformer의 decoder block과 동일하게 진행됩니다.\n",
    "\n",
    "우선 input token matrix $W_e$를 곱한 후, Position embedding $W_p$를 더해 masked self-attention을 위한 input $h_0$을 만들어줍니다.\n",
    "\n",
    "$$h_0 = UW_e + W_p$$\n",
    "\n",
    "GPT-1은 n개의 decoder가 stack된 형태인데 논문에선 12개의 decoder block를 사용했습니다. l번째 decoder block의 hidden state $h_l$은 이전 decoder block의 hidden state $h_{l-1}$를 입력받아 계산됩니다.\n",
    "\n",
    "$$h_l = transformer_block(h_{l-1})\\forall i \\in [1, n]$$\n",
    "\n",
    "마지막 n번째 decoder block의 hidden state $h_n$에 다시 transposed embedding matrix $W_e^T$를 곱하여 softmax 함수를 적용하면 output probability $P(u)$를 구할 수 있습니다.\n",
    "\n",
    "$$P(u) = softmax(h_n W_e^T)$$\n",
    "\n",
    "위 과정으로 모델링한 조건부 확률 $P(u)$를 통해 앞서 말한 일반적인 언어모델의 목적함수 Likelihood $L_1(u)$를 최대화하며 사전 학습을 진행합니다.\n",
    "\n",
    "$$L_1(u) = \\sum_i logP(u_i|u_{i-k}, \\ldots, u_{i-1};\\theta)$$"
   ]
  },
  {
   "cell_type": "markdown",
   "metadata": {},
   "source": [
    "### **2) Supervised fine-tuning**"
   ]
  },
  {
   "cell_type": "markdown",
   "metadata": {},
   "source": [
    "Supervised fine-tuning은 pre-training이 끝난 후, target task에 맞게 parameter를 조정하는 단계입니다. input token sequence $\\{x_1, \\ldots, x_m \\}$과 label $y$로 구성된 target task의 label dataset $C$를 통해 학습이 진행됩니다. \n",
    "\n",
    "우선 $C$의 input token에 대한 GPT의 마지막 decoder block hidden state $h_l^m$을 얻기 위해 앞선 단계에서 얻은 pre-trainded model에 input token을 통과시킵니다.\n",
    "\n",
    "그리고 파라미터 $W_y$를 갖는 하나의 linear layer에 $h_l^m$을 통과시켜 softmax probability $P(y|x^1, \\ldots, x^m)$를 계산합니다.\n",
    "\n",
    "$$P(y|x^1, \\ldots, x^m) = softmax(h_l^m W_y)$$\n",
    "\n",
    "이 결과로 token probability distribution을 얻을 수 있고, 따라서 label $y$에 대해서 지도학습을 진행할 수 있습니다. 지도학습의 목적함수 Likelihood $L_2(C)$ 또한 일련의 구조로 모델링된 조건부확률 $P$를 통해 계산됩니다.\n",
    "\n",
    "$$L_2(C) = \\sum_{(x, y)} log P(y|x^1, \\ldots, x^m)$$\n",
    "\n",
    "저자들은 또한 unsupervised pre-training의 목적함수 $L_1$을 supervised fine-tuning을 위한 auxiliary objective(보조 목표)로서 추가하였습니다. 이때 기존의 $L_1$은 unlabeled dataset $U$에 대한 $L_1(U)$로 계산되었지만, auxiliary objective로서 $L_1$은 labeled dataset $C$에 대해 $L_1(C)$로 계산됩니다. $\\lambda$는 $L_1(C)$의 반영 정도를 정하기 위한 weight 하이퍼 파라미터입니다.\n",
    "\n",
    "$$L_3(C) = L_2(C) + \\lambda L_1(c)$$\n",
    "\n",
    "이 방법은 가중치의 수렴을 도우며, 지도학습 모델의 일반화 성능을 향상시킨다고 합니다."
   ]
  },
  {
   "cell_type": "markdown",
   "metadata": {},
   "source": [
    "Fine-tuning할 때, 데이터의 양을 설정할 수 있습니다. 몇 개의 데이터가 사용되냐에 따라 세 가지로 나눕니다.\n",
    "\n",
    "- Zero-shot learning: 데이터를 주지 않음, 즉 fine-tuning없이 pre-training된 모델을 바로 사용\n",
    "- One-shot learning: 하나의 데이터 제공, fine-tuning을 하나의 데이터로만 수행\n",
    "- Few-shot learning: 소수(~32)의 데이터 제공, fine-tuning을 소수의 데이터로만 수행"
   ]
  },
  {
   "cell_type": "markdown",
   "metadata": {},
   "source": [
    "### **3) Task-specific input transformations**"
   ]
  },
  {
   "cell_type": "markdown",
   "metadata": {},
   "source": [
    "GPT는 최소한의 구조 변화로 target task에 적용 가능한 언어 모델입니다. 그렇기에 아래의 Classification, Entailment, Similarity, QA(Multiple choice) 등의 task들을 수행할 수 있습니다. 밑의 그림은 각각의 task에 대해 약간의 입출력 구조 변화만으로 GPT를 사용할 수 있음을 보여줍니다.\n",
    "\n",
    "<img src = \"https://img1.daumcdn.net/thumb/R1280x0/?scode=mtistory2&fname=https%3A%2F%2Fblog.kakaocdn.net%2Fdn%2FCzK6I%2Fbtq88LfTmio%2FGSbQMvhVzjy4pvA8UI5O7k%2Fimg.png\">\n",
    "\n",
    "#### **Classification**\n",
    "단순한 classification에 대해선 기존의 방법 그대로 fine-tuning을 진행하면 됩니다. \n",
    "\n",
    "#### **Entailment**\n",
    "Entailment는 전체 Premise를 통해 가설 Hypothesis가 참인지 거짓인지 밝히는 task입니다. 따라서 Delimeter로 나눠진 Permise와 Hypothesis 토큰을 concatenate하여 fine-tuning을 진행하면 됩니다.\n",
    "\n",
    "#### **Similarity**\n",
    "Similarity task는 문장 간의 순서가 존재하지 않습니다. 따라서 가능한 두 가지 순서(위 그림에선 [문장1, 문장2]와 [문장2, 문장1])를 모두 고려합니다. 두 가지 경우를 입력하여 독립적으로 얻은 $h_l^m$을 최종적으로 행렬 간 더하여(element-wise addition) 나온 결과로 fine-tuning을 진행합니다.\n",
    "\n",
    "#### **QA, Multiple choice**\n",
    "QA task는 기본적으로 context document $z$에 대한 question $q$가 제시됩니다. 그리고 주어진 상황에서 가능한 다양한 Answer $\\{ a_k\\}$가 존재합니다. 따라서 QA task는 가능한 다양한 답변을 delimeter \\$와 함께 z + q + \\$ + $a_k$로 concatenate하여 입력합니다. 각각의 경우는 독립적으로 학습되며, 최종적으로 softmax 함수를 통해 답변의 distribution을 계산합니다."
   ]
  },
  {
   "cell_type": "markdown",
   "metadata": {},
   "source": [
    "### **4) Result**"
   ]
  },
  {
   "cell_type": "markdown",
   "metadata": {},
   "source": [
    "GPT-1를 통한 semi-supervised의 효과를 증명하기 위해 저자들은 Natural language inference, QA, Similarity, Classification의 다양한 dataset을 사용하여 실험했습니다.\n",
    "\n",
    "**Natural language inference**\n",
    "\n",
    "![4-10-2](_image/4-10-2.PNG)\n",
    "\n",
    "NLI에서는 거의 대부분의 dataset에서 GPT-1이 큰 차이로 우수한 성능을 보였습니다. 유일하게 저조한 성능을 보인 RTE 는 크기가 작은 dataset입니다. 따라서 NLI task의 fine tuning은 상대적으로 dataset이 클수록 성능이 좋은 것을 알 수 있습니다. 이때 (3x)는 앙상블 모델을 의미합니다. \n",
    "\n",
    "\n",
    "**QA task**\n",
    "\n",
    "![4-10-3](_image/4-10-3.PNG)\n",
    "\n",
    "모든 dataset에서 성능이 좋은 것을 확인할 수 있습니다.\n",
    "\n",
    "\n",
    "**Classification & Similarity**\n",
    "\n",
    "![4-10-4](_image/4-10-4.PNG)\n",
    "\n",
    "역시 대부분의 실험에서 GPT가 좋은 성능을 보인 것을 확인할 수 있습니다. 이 당시 ELMO + attention의 성능을 대부분 넘은 것은 주목할 부분입니다. \n",
    "\n",
    "\n",
    "**Zero-shot Behaviors**\n",
    "\n",
    "![4-10-5](_image/4-10-5.PNG)\n",
    "\n",
    "왼쪽 그래프는 unsupervised pre-training에서 transformer layer 수에 따른 결과비교입니다. layer 수가 증가할수록 유의미한 성능 향상이 있음을 알 수 있습니다. \n",
    "\n",
    "오른쪽 그래프는 transformer 유무와 pre-training에 따른 각각 task의 zero-shot 성능 비교입니다. 실선은 transformer를 사용한 모델, 점선은 LSTM을 사용한 모델입니다. 대부분의 task가 transformer를 사용했을 때 더 좋은 성능을 보였으며, pre-training을 거듭할수록 그 차이는 커집니다. 특히 zero-shot에 대한 LSTM 성능의 분산이 더 커졌다는 결과를 통해, pre-training이 전반적인 일반화 능력을 제공한다는 것을 알 수 있습니다.\n",
    "\n",
    "\n",
    "**Ablation sudies**\n",
    "\n",
    "![4-10-6](_image/4-10-6.PNG)\n",
    "\n",
    "세 가지 조건변화(Ablation)에 따른 결과 분석입니다. \n",
    "\n",
    "- pre-training의 유무: 사전학습이 큰 성능개선(14.8%)을 가져옴\n",
    "- aux LM(auxiliary objective)의 유무: NLI, QQP task에 도움을 주었으며 특히 큰 dataset에 성능개선을 가져옴\n",
    "- transformer와 LSTM: LSTM에 비해 평균 5.6%의 성능개선을 가져옴"
   ]
  },
  {
   "cell_type": "markdown",
   "metadata": {},
   "source": [
    "### Reference\n",
    "\n",
    "https://supkoon.tistory.com/23"
   ]
  },
  {
   "cell_type": "markdown",
   "metadata": {},
   "source": [
    "## **10.2 GPT-2**"
   ]
  },
  {
   "cell_type": "markdown",
   "metadata": {},
   "source": [
    "[GPT-2](https://d4mucfpksywv.cloudfront.net/better-language-models/language_models_are_unsupervised_multitask_learners.pdf)는 2018년 GPT-1에 이어 2019년에 Open AI에서 개발한 비지도학습 기반 언어 모델입니다. GPT-2는 flexible transfer가 가능하며, 지도학습 형태의 fine-tuning이 없는 zero-shot down-stream task가 가능합니다. "
   ]
  },
  {
   "cell_type": "markdown",
   "metadata": {},
   "source": [
    "### **1) BERT와 차이점**"
   ]
  },
  {
   "cell_type": "markdown",
   "metadata": {},
   "source": [
    "GPT-2는 GPT-1이 그러했듯 transformer의 decoder block을 사용합니다. 그러나 BERT는 transformer의 encodr block을 사용합니다. 그러나 이 차이 말고 한 가지 차이가 더 있습니다. 이 차이는 GPT-2가 전통적인 language model처럼 한 번에 하나의 token을 출력한다는 것입니다. \n",
    "\n",
    "먼저 잘 훈련된 GPT-2가 로보틱스의 제 1원칙(\"A robot may not injure a human being or, through inaction, allow a human being to come to harm.\")을 출력하도록 해보겠습니다.\n",
    "\n",
    "<img src = \"https://chloamme.github.io/images/xlnet/gpt-2-output.gif\">\n",
    "\n",
    "이러한 모델들은 각 token이 생성된 후에 입력 시퀀스에 더해지는 방식으로 동작합니다. 그렇게 만들어진 새 시퀀스는 다음 단계에서 모델의 입력으로 들어가게 됩니다. 이를 auto-regression이라고 합니다. 이 방법은 RNN을 엄청나게 효과적으로 만든 방법 중 하나입니다.\n",
    "\n",
    "<img src = \"https://chloamme.github.io/images/xlnet/gpt-2-autoregression-2.gif\">\n",
    "\n",
    "GPT-2와 TransformerXL, XLNet과 같은 후속 모델들은 본질적으로 auto-regressive합니다. 그러나 BERT는 그렇지 않습니다. BERT는 auto-regression 특성을 잃는 대신에 더 좋은 결과를 얻기 위하여 단어의 양쪽 방향으로부터 context를 활용할 수 있는 능력을 취했습니다. 또한 XLNet은 양쪽 방향의 context를 활용하기 대한적 방법과 auto-regerssion을 모두 사용합니다.\n",
    "\n",
    "\n",
    "BERT와 또다른 차이점은 앞서 이야기한 구성 block의 차이입니다. BERT는 incoder block을 사용하고 GPT-2는 (encoder-decoder self-attention을 제거한) decoder block을 사용합니다. 이는 두 모델이 사용하는 self-attention이 다름을 의미합니다. \n",
    "\n",
    "<img src = \"https://chloamme.github.io/images/gpt2/self-attention-and-masked-self-attention.png\">\n",
    "\n",
    "BERT가 사용하는 일반적인 self-attention은 단어의 순서와 관계없이 모든 단어들을 attention합니다. 그러나 decoder block 첫번째에 들어가는 masked self-attention은 자신을 포함한 그 이전 단어만 attention할 수 있습니다. 이는 미리 답을 아는 것을 막기 위함인데 BERT는 미리 답을 아는 것을 NLM으로 막은 반면에 GPT-2는 masked self-attention으로 막은 것입니다. "
   ]
  },
  {
   "cell_type": "markdown",
   "metadata": {},
   "source": [
    "### **2) GPT-1과 차이점**"
   ]
  },
  {
   "cell_type": "markdown",
   "metadata": {},
   "source": [
    "<img src = \"https://img1.daumcdn.net/thumb/R1280x0/?scode=mtistory2&fname=https%3A%2F%2Fblog.kakaocdn.net%2Fdn%2FMdPwt%2Fbtq9fWbzKRi%2FZfDCzannYQdXgm15Y9v5R0%2Fimg.png\" width = \"400px\" height = \"450px\">\n",
    "\n",
    "<img src = \"https://img1.daumcdn.net/thumb/R1280x0/?scode=mtistory2&fname=https%3A%2F%2Fblog.kakaocdn.net%2Fdn%2FbwCXwR%2Fbtq9lUjBwfe%2Fn4u45rOI7OyqtE6FOhtKQ1%2Fimg.png\" width = \"200px\" height = \"450px\">\n",
    "\n",
    "왼쪽은 GPT-1의 decoder block이고 오른쪽은 GPT-2의 decoder block입니다. \n",
    "\n",
    "GPT-2의 한 가지 변경점은 Layer normalization이 sub block의 input 부분으로 옮겨졌다는 것입니다. 그리고 마지막 self-attention block 이후에 추가적인 layer normalization이 존재합니다. \n",
    "\n",
    "또 다른 변경점은 residual layer의 누적에 따른 initialization의 변화입니다. Residual layer의 깊이 N에 따라 $1/\\sqrt{N} * weight$를 사용하여 residual layer의 가중치를 설정하였습니다. \n",
    "\n",
    "또한 vocabulary의 크기가 50,257개로 증가하였고, 한 번에 입력 가능한 context size는 1024(원래는 512)로 증가하였습니다. \n",
    "\n",
    "이처럼 GPT-2는 GPT-1을 기반으로 하여 모델 자체는 큰 변경점이 없습니다."
   ]
  },
  {
   "cell_type": "markdown",
   "metadata": {},
   "source": [
    "### **3) GPT-2의 내부**"
   ]
  },
  {
   "cell_type": "markdown",
   "metadata": {},
   "source": [
    "GPT-2는 1024개의 token을 처리할 수 있습니다. 각 token은 각자의 경로를 따라 모든 decoder block으로 흘러갑니다. \n",
    "\n",
    "훈련된 GPT-2 모델을 실행하는 가장 간단한 방법은 그 자체가 rambling(패턴없이 되는 대로 퍼져나가는)을 하도록 만드는 것입니다. (기술적 용어로, generating unconditional samples라고 합니다.) 또는 prompt를 주고 특정 주체에 대해 말하도록 할 수도 있습니다. (이 방법은 interactive conditional samples 생성이라고도 합니다.) rambling에서 우리는 간단히 start token을 입력해서 단어들을 생성하기 시작할 수 있습니다. \n",
    "\n",
    "<img src = \"https://chloamme.github.io/images/gpt2/gpt2-simple-output-2.gif\">\n",
    "\n",
    "모델은 input token 하나를 가지고 있기에 경로가 1개만 활성화됩니다. token이 모든 레이어를 연속적으로 거쳐 처리되고 나면, 그 경로를 따라 vector가 생성됩니다. 그 vector에 모델의 vocab 전체(GPT-2는 50,000개 단어)에 대해 점수가 매겨질 수 있습니다. 위 경우 가장 확률이 높은 'The'를 택했습니다. 하지만 가끔 가장 높은 것만 택하면 루프에 빠지기도 합니다. 그렇기에 GPT-2는 top-k라는 parameter를 받아서 k번째 단어를 샘플링하게 할 수 있습니다. \n",
    "\n",
    "다음 단계에서, 첫번째 단계의 출력을 입력 시퀀스에 덧붙인 뒤, 모델이 다음 예측을 수행합니다. \n",
    "\n",
    "<img src = \"https://chloamme.github.io/images/gpt2/gpt-2-simple-output-3.gif\">\n",
    "\n",
    "이번 계산은 두 번째 경로만 활성화됩니다. GPT-2의 각 레이어는 첫번째 token의 interpretation을 유지하고, 두번째 token을 처리할 때에 사용합니다. (이는 self-attention을 다시 살펴보면서 자세히 알아보겠습니다.) GPT-2는 두번째 token에 비추어 첫번째 token을 재계산(re-interpret)하지 않습니다. "
   ]
  },
  {
   "cell_type": "markdown",
   "metadata": {},
   "source": [
    "이제 모델을 더 상세히 보도록 하겠습니다."
   ]
  },
  {
   "cell_type": "markdown",
   "metadata": {},
   "source": [
    "#### **입력 Encoding**"
   ]
  },
  {
   "cell_type": "markdown",
   "metadata": {},
   "source": [
    "입력부터 시작합니다. GPT-2 모델은 다른 NLP 모델들처럼 embedding matrix에서 입력 단어의 embedding을 조회합니다. (이 embedding matrix는 학습된 모델의 일부로서 얻을 수 있는 구성 요소 중 하나입니다.)\n",
    "\n",
    "<img src = \"https://chloamme.github.io/images/gpt2/gpt2-token-embeddings-wte-2.png\">\n",
    "\n",
    "각 행은 단어 embedding입니다. 단어를 표현하고 그 의미를 포함(capture)하는 숫자형태의 표현(representation) 리스트입니다. 이 리스트의 크기는 GPT-2 모델의 크기마다 다르며 가장 작은 모델은 단어(token) 당 768 embedding입니다. \n",
    "\n",
    "처음에는 embedding matrix에서 시작 토큰 \\<s>의 embedding을 조회합니다. 모델의 첫번째 block에 이 정보를 전달하기 전에, positional encoding 정보를 합쳐서 단어의 순서 정보도 저장합니다. (position encoding은 transformer 챕터를 참고하세요.)\n",
    "\n",
    "<img src = \"https://chloamme.github.io/images/gpt2/gpt2-positional-encoding.png\">\n",
    "\n",
    "이로써 입력 단어들이 transformer의 첫번째 block에 전달되기 전에 거쳐야할 처리들을 수행했습니다. 또한 훈련된 GPT-2는 두 개의 weight matrix가 있다는 것도 확인할 수 있습니다. \n",
    "\n",
    "<img src = \"https://chloamme.github.io/images/gpt2/gpt2-input-embedding-positional-encoding-3.png\">\n",
    "\n",
    "word를 transformer block의 첫번째로 전달하는 것은 그 word의 embedding과 positional encoding vector를 더하는 것을 의미합니다."
   ]
  },
  {
   "cell_type": "markdown",
   "metadata": {},
   "source": [
    "#### **상위 stack으로의 이동**"
   ]
  },
  {
   "cell_type": "markdown",
   "metadata": {},
   "source": [
    "이제 첫번째 block은 token을 self-attention 프로세스를 통해 전달하고, neural network 레이어로 전달하여 처리할 수 있습니다. 첫번째 block이 token을 처리하면, 그 결과 vector를 다음 block에서 처리하도록 상위 stack으로 올립니다. 프로세스는 각 block마다 동일하지만 각 block은 각자의 self-attention 및 neural network 하위 레이어에 대한 가중치를 가지고 있습니다. \n",
    "\n",
    "<img src = \"https://chloamme.github.io/images/gpt2/gpt2-transformer-block-vectors-2.png\">"
   ]
  },
  {
   "cell_type": "markdown",
   "metadata": {},
   "source": [
    "#### **Self-Attention Recap**"
   ]
  },
  {
   "cell_type": "markdown",
   "metadata": {},
   "source": [
    "언어는 context(문맥)에 매우 의존적입니다. 예를 들어, 로보틱스 제 2원칙(A robot must obey the orders given it by human beings except where such orders would conflict with the First Law.)에 나오는 대명사들은 context로 보지 않고 문장만 보면 무엇을 말하는지 알 수 없습니다. 그렇기에 앞에서 나온 문장들을 토대로 대명사가 무엇을 의미하는지 알아야 합니다. 이를 수행하는 것이 self-attention입니다.\n",
    "\n",
    "단어를 처리하기 전에. 특정 단어의 context를 설명하는 관련 word들에 대한 모델의 이해를 만듭니다. segment에서 각 word가 얼마나 관련되어 있는지 점수를 할당하고, 그 vector representation을 합산하는 방식으로 동작합니다. \n",
    "\n",
    "예를 들어, 상단의 block에서 self-attention 레이어는 단어 \"it\"을 처리할 때, \"a robot\"에 attention을 줍니다. neural network로 전달하는 vector는 그 3개의 단어들의 vector에 각 점수들을 곱한 것의 합입니다. \n",
    "\n",
    "<img src = \"https://chloamme.github.io/images/gpt2/gpt2-self-attention-example-2.png\">"
   ]
  },
  {
   "cell_type": "markdown",
   "metadata": {},
   "source": [
    "#### **Self-Attention Process**"
   ]
  },
  {
   "cell_type": "markdown",
   "metadata": {},
   "source": [
    "Self-attention은 segment에서 각 token의 경로를 따라 처리됩니다. 중요한 요소들은 다음 세 가지 vector들입니다. \n",
    "\n",
    "- Query: Query는 다른 모든 단어들과 점수를 계산하는데(각 단어마다 고유한 key값을 사용하는데) 사용되는 현재 단어의 representation입니다. 우리는 현재 처리 중인 token의 Query 값만 고려합니다. \n",
    "- Key: Key vector는 segment에서 모든 단어들에 대한 레이블과 같습니다. 관련 단어를 검색할 때, 매칭해보는 항목입니다. \n",
    "- Value: Value vector는 실제 word representation입니다. 각 단어가 얼마나 관련이 있는지 점수를 매기고 나면, 현재의 단어를 representation하기 위해 합산한 값입니다. \n",
    "\n",
    "<img src = \"https://chloamme.github.io/images/gpt2/self-attention-example-folders-3.png\">\n",
    "\n",
    "대략적으로 비유하자면 서류 캐비넷 중에서 어떤 하나의 서류를 찾는 것과 같다고 생각할 수 있습니다. Query는 찾고자 하는 주제를 적은 메모지입니다. Key는 캐비넷 안의 서류 폴더들에 달린 레이블과 같습니다. 메모지와 레이블을 매칭시키면, 폴더에서 내용물을 꺼내는데 이것이 바로 value입니다. 단지 다른 점은, 하나의 value만 찾는 것이 아니라 여러 폴더들에서 여러 value들의 혼합을 찾는다는 것입니다.\n",
    "\n",
    "Query vector를 각 key vector에 곱해서, 각 폴더별 점수를 구합니다. 즉, 각 값을 내적한 뒤 softmax 연산을 하는 것입니다. \n",
    "\n",
    "<img src = \"https://chloamme.github.io/images/gpt2/self-attention-example-folders-scores-3.png\">\n",
    "\n",
    "각 value를 위에서 구한 점수와 곱한 뒤, 합산합니다. 그러면 self-attention 결과가 나오게 됩니다.\n",
    "\n",
    "<img src = \"https://chloamme.github.io/images/gpt2/gpt2-value-vector-sum.png\">\n",
    "\n",
    "결과를 보면 50%는 'robot', 30%는 'a', 19%는 'it'에 attention을 준 vector가 생성된 것을 알 수 있습니다. "
   ]
  },
  {
   "cell_type": "markdown",
   "metadata": {},
   "source": [
    "#### **모델 출력**"
   ]
  },
  {
   "cell_type": "markdown",
   "metadata": {},
   "source": [
    "모델의 최상위 block의 self-attention과 neural network 계산을 거친 output vector를 생성할 때, 모델은 그 vector와 embedding matrix를 곱합니다. \n",
    "\n",
    "<img src = \"https://chloamme.github.io/images/gpt2/gpt2-output-projection-2.png\">\n",
    "\n",
    "Embedding matrix의 각 행은 모델 vocab 단어들의 embedding에 해당합니다. 이 곱셈의 결과는 모델의 vocab에서 각 단어에 대한 점수로 해석됩니다. 즉, 단어를 선택하기 위한 점수로 사용할 수 있습니다. \n",
    "\n",
    "<img src = \"https://chloamme.github.io/images/gpt2/gpt2-output-scores-2.png\">\n",
    "\n",
    "가장 높은 점수를 갖는 token을 선택할 수 있지만(top_k=1) 모델이 다른 단어들도 고려한다면 더 좋은 결과를 얻을 수 있습니다. 그렇기에 더 좋은 방법은 전체 리스트에서 점수를 어떤 단어를 고르기 위한 확률값으로 사용하여 단어를 선택하는 것입니다. (이는 점수가 높으면 뽑힐 확률이 더 높다는 의미입니다.) 절충안은 top_k를 40으로 잡고 모델이 가장 높은 score를 갖는 40개의 word를 고려하도록 하는 것입니다.\n",
    "\n",
    "<img src = \"https://chloamme.github.io/images/gpt2/gpt2-output.png\">\n",
    "\n",
    "그렇게 해서, 모델은 하나의 word를 출력하면서 한 iteration을 종료합니다. 모델은 전체 context가 생성(1024개의 token)될 때까지나 EOS(end-of-sequence) token이 생성될 때까지 iteration을 계속 수행합니다."
   ]
  },
  {
   "cell_type": "markdown",
   "metadata": {},
   "source": [
    "#### **설명을 위해 단순화 된 것들**"
   ]
  },
  {
   "cell_type": "markdown",
   "metadata": {},
   "source": [
    "- \"word\"와 \"token\"이 같은 의미로 사용되었지만 실제로는 다릅니다. GPT-2는 vocab의 token들을 만들기 위해 BPE을 사용합니다. 이것은 일반적으로 token이 word의 일부임을 의미합니다. token이 subword가 되기 때문입니다.\n",
    "- 예로 든 GPT-2는 inference(추론)/evaluation(평가) 모드입니다. 그렇기에 한 번에 하나의 word만 처리합니다. Training(학습) 시에는, 모델은 더 긴 문자열 시퀀스에 대해 학습하며, 한 번에 여러 개의 token을 처리합니다. 또한 모델은 evaluation 때 사용하는 배치 사이즈보다 더 큰 배치 사이즈(512)를 처리합니다. \n",
    "- 그림에서 공간을 효율적으로 처리하기 위해 회전/치환을 자유롭게 사용했으나 구현 때는 정확하게 사용해야 합니다.\n",
    "- Transformer는 layer normalization을 많이 사용하며 꽤나 중요합니다. \n",
    "- Vector를 표현하기 위해 더 많은 box들로 표현해야 할 때가 있습니다. 위 그림에선 상자들을 \"zoom in\"하여 표시했습니다. 예를 들어 다음과 같습니다.\n",
    "\n",
    "<img src = \"https://chloamme.github.io/images/gpt2/zoom-in.png\">"
   ]
  },
  {
   "cell_type": "markdown",
   "metadata": {},
   "source": [
    "### **4) Self-Attention**"
   ]
  },
  {
   "cell_type": "markdown",
   "metadata": {},
   "source": [
    "앞선 주제였던 deep-learning과 transformer 챕터에서 공부했기에 건너뛰어도 괜찮습니다. \n",
    "\n",
    "*주말에 추가할 것*"
   ]
  },
  {
   "cell_type": "markdown",
   "metadata": {},
   "source": [
    "### **5) Training Dataset**"
   ]
  },
  {
   "cell_type": "markdown",
   "metadata": {},
   "source": [
    "GPT-1과 GPT-2의 차이점을 몇 개 보았지만 가장 큰 차이는 training dataset에 있습니다. GPT-2의 가장 큰 목적은 zero-shot으로도 유의미한 결과를 얻을 수 있는 General language model을 개발하는 것이었습니다. 그렇기에 GPT-2는 기존의 연구와 다르게 하나의 Domain에 치우치치 않고, 최대한 다양한 데이터를 확보하기 위해 Web scraping dataset을 사용하였습니다. Common Crawl과 같은 기존의 Web scrap dataset이 존재하지만 논문 저자들이 품질이 떨어진다 판단하여 직접 만든 WebText dataset을 사용하였습니다. \n",
    "\n",
    "<img src = \"https://img1.daumcdn.net/thumb/R1280x0/?scode=mtistory2&fname=https%3A%2F%2Fblog.kakaocdn.net%2Fdn%2FbsFPwS%2Fbtq9kQCK7Cq%2FDmG2KEeaKGKGcHjnd2X7Kk%2Fimg.png\">\n",
    "\n",
    "WebText는 사람이 직접 필터링하였으며 reddit으로부터 최소 3개의 평가를 받은 외부 링크만을 사용하여 수집되었습니다. 또한 추가적인 중복제거 작업에 더하여 위키피디아와 같은 대중적인 문서를 제외하는 과정을 거쳤습니다. 이를 통해 학습, 검증 과정에서 중복을 최소한으로 줄일 수 있습니다. 최종적으로 얻은 40GB의 text로 구성된 WebText 데이터셋은 데이터셋의 품질과 크기, 다양성을 동시에 고려한 데이터셋이라고 말할 수 있습니다."
   ]
  },
  {
   "cell_type": "markdown",
   "metadata": {},
   "source": [
    "### **6) Input representation**"
   ]
  },
  {
   "cell_type": "markdown",
   "metadata": {},
   "source": [
    "앞서 잠깐 이야기했듯 GPT-2는 BPE 방식의 토큰화를 사용했습니다. 이러한 BPE는 유니코드 시퀀스에서 주로 작동하고 있었기에 13만개 이상의 매우 큰 vocabulary가 필요했습니다. 그에 반해 byte 수준의 BPE는 256개의 vocabulary만을 필요로 합니다. 따라서 GPT-2는 BPE를 byte 수준의 string에 적용했습니다.\n",
    "\n",
    "물론 byte 수준의 BPE에도 문제점은 있습니다. {dog., dog?, dog!}과 같은 단어의 유의미하지 않은 variation을 추가하는 경향이 크다는 것입니다. 이는 vocabulary 크기를 효율적으로 사용하지 못하게 만듭니다. 그렇기에 여기선 문자 수준 이상의 병합을 막음으로 이 문제를 해결하였습니다."
   ]
  },
  {
   "cell_type": "markdown",
   "metadata": {},
   "source": [
    "### **7) Result**"
   ]
  },
  {
   "cell_type": "markdown",
   "metadata": {},
   "source": [
    "모델 평가 기준\n",
    "- PPL(Perplexity): 모델이 헷갈리는 정도, 낮을수록 좋음\n",
    "- ACC(accuracy): 모델의 정확도, 높을수록 좋음\n",
    "\n",
    "\n",
    "#### **Language Modeling**\n",
    "\n",
    "<img src = \"https://img1.daumcdn.net/thumb/R1280x0/?scode=mtistory2&fname=https%3A%2F%2Fblog.kakaocdn.net%2Fdn%2FSaPuf%2Fbtq9tHX6zr6%2Fk16U4GzYXxyjkHTEM4WvD0%2Fimg.png\">\n",
    "\n",
    "GPT-2는 byte 수준의 BPE를 사용하기에 기존에 존재하는 벤치마크 데이터셋에 자유롭게 적용할 수 있습니다. 위 결과를 보면 fine-tuning을 하지 않은 zero-shot 환경임에도 SOTA(모든 데이터를 사용하여 학습한 모델)에 거의 도달한 것을 확인할 수 있습니다. 그 중 크기가 작은 데이터셋인 PTB, wikiText-2에서 효과가 크게 나타납니다.\n",
    "\n",
    "\n",
    "#### **Children's Book Test(CBT)**\n",
    "\n",
    "<img src = \"https://img1.daumcdn.net/thumb/R1280x0/?scode=mtistory2&fname=https%3A%2F%2Fblog.kakaocdn.net%2Fdn%2Fb8PtuQ%2Fbtq9jG1rjL4%2FOhtHVxXlZEhhgdGoaTjOa1%2Fimg.png\">\n",
    "\n",
    "CBT 데이터셋은 품사에 따른 성능 비교를 위한 벤치마크 데이터셋입니다. 모델 크기가 커질수록 성능이 급격히 올라가며 가장 큰 모델은 인간과 비슷한 수준까지 올라간 것을 볼 수 있습니다.\n",
    "\n",
    "\n",
    "#### **LAMBADA**\n",
    "\n",
    "<img src = \"https://img1.daumcdn.net/thumb/R1280x0/?scode=mtistory2&fname=https%3A%2F%2Fblog.kakaocdn.net%2Fdn%2Fb2RvUb%2Fbtq9pDCzivX%2F99iKaBNkjyzPETkgxY9pY1%2Fimg.png\">\n",
    "\n",
    "LAMBADA 데이터셋은 언어모델의 long-term dependency를 측정할 수 있는 벤치마크 데이터셋입니다. GPT-2는 perplexity를 99.8에서 8.6으로 개선했으며 accuracy 또한 59%에서 63%로 향상시키며 SOTA를 넘었습니다. 이를 통해 긴 문장도 잊어버리지 않고 처리할 수 있음을 알 수 있습니다.\n",
    "\n",
    "\n",
    "#### **Winograd Schema Challenge**\n",
    "\n",
    "<img src = \"https://img1.daumcdn.net/thumb/R1280x0/?scode=mtistory2&fname=https%3A%2F%2Fblog.kakaocdn.net%2Fdn%2FdmG3Jx%2Fbtq9kP4TUvl%2FW8U1ikiHDhxJpBpuKod7sK%2Fimg.png\">\n",
    "\n",
    "Winograd Schema Challenge는 Text의 모호성(ambiguity)을 푸는 작업을 통해 언어모델의 추론능력을 평가하는 작업입니다. GPT-2는 기존의 SOTA 모델보다 7% 높은 정확도를 가지며 훌룡한 추론 능력을 보여줍니다.\n",
    "\n",
    "\n",
    "#### **Reading Comprehension**\n",
    "\n",
    "Conversation Question Answering dataset(CoQA)는 7개 도메인의 문서에 대한 QA를 포함하고 있는 데이터셋입니다. 따라서 CoQA는 언어모델의 문서 이해 능력과 QA 능력을 동시에 평가할 수 있습니다. SOTA 모델인 BERT에 미치지 못했지만, GPT-2는 fine-tuning 없이 55의 F1 score로 좋은 성능을 보였습니다. 이는 GPT-2가 127,000개의 지도학습 데이터를 사용하지 않은 결과이기에 더 고무적입니다. \n",
    "\n",
    "\n",
    "#### **Summarization**\n",
    "\n",
    "<img src = \"https://img1.daumcdn.net/thumb/R1280x0/?scode=mtistory2&fname=https%3A%2F%2Fblog.kakaocdn.net%2Fdn%2FxxisU%2Fbtq9s29i6QD%2FXfWQsFqgrmoTRL1ahdq9B1%2Fimg.png\">\n",
    "\n",
    "Summarization은 CNN, Daily Mail dataset을 사용하여 진행되었습니다. task에 따른 특정한 결과를 유도하기 위해 문서 이후에 TL, DR 토큰을 추가하여 요약 결과를 유도했습니다. 처음 3개의 문장을 요약 결과로 하여 실험한 결과, table과 같이 적당한 수준의 결과를 보입니다. TL, DR 토큰이 없을 때 성능이 더 하락한 것을 보면 힌트를 통한 task 유도가 유의미한 결과를 냄을 알 수 있습니다.\n",
    "\n",
    "\n",
    "#### **Translation**\n",
    "\n",
    "번역 성능에 대한 실험은 WMT-14 English-French dataset을 활용하여, 영어-불어, 불어-영어 두가지 경우에서 비교가 진행되었습니다. 번역 성능은 다른 Task에 비해 좋지 상대적으로 좋지 못했습니다.\n",
    "\n",
    "불어-영어의 경우에는 SOTA를 달성하지는 못하였지만 기존의 모델보다는 좋은 성능을 보여준 데에 비해(BLEU = 11.5),\n",
    "\n",
    "영어-불어의 경우 word by word로 번역하는 모델보다도 좋지 못한 성능을 보여주었습니다. (BLEU = 5)\n",
    "\n",
    "\n",
    "#### **QA**\n",
    "\n",
    "QA task에서 일반적으로 사용하는 '정확히 일치 하는지' 여부(exact match metric)를 지표로 비교하였을 때에는 4.1%의 정확도로 기존의 모델들보다 5.3배 높은 정확도를 보였습니다.\n",
    "\n",
    "매우 작은 모델들은 대체로 1%를 넘지 못하는 성능을 보였는데, 아직까지는 모델의 크기가 QA에 있어서 매우 중요한 요인이라는 것을 확인할 수 있었습니다.\n",
    "\n",
    "GPT-2는 가장 자신있던 질문 1%에 대해 평균 63% 정도의 정확도를 보였습니다.\n",
    "\n",
    "아래의 표는 확률을 통해 가장 자신있던 30개의 질문에 대한 답변을 옮겨놓은 결과입니다.\n",
    "\n",
    "<img src = \"https://img1.daumcdn.net/thumb/R1280x0/?scode=mtistory2&fname=https%3A%2F%2Fblog.kakaocdn.net%2Fdn%2FcBhFQq%2Fbtq9pCDt0z6%2FlGVwPKHRbPw9R4GWNuARY0%2Fimg.png\">\n",
    "\n",
    "\n",
    "#### **Generalization vs Memorization**\n",
    "\n",
    "Train set과 Test set의 과도한 중복(Overlap)은 모델의 Memorization을 유도하고 Generalization 성능을 왜곡하여 나타낼 수 있습니다. 이러한 현상은 저자들이 생성한 WebText 데이터셋에서도 나타날 수 있습니다.\n",
    "\n",
    "다음 표는 벤치마크 데이터셋에서의 Overlap 정도를 보여줍니다.\n",
    "\n",
    "<img src = \"https://img1.daumcdn.net/thumb/R1280x0/?scode=mtistory2&fname=https%3A%2F%2Fblog.kakaocdn.net%2Fdn%2FCNsEi%2Fbtq9pCwJ7ct%2FKRv0Ym50NE5MzSHsK6IQd1%2Fimg.png\">\n",
    "\n",
    "WebText 데이터셋과 기존 데이터셋이 크지 않은 overlap을 보였지만, 어느정도 영향이 있었음을 확인할 수 있습니다. 하지만 이는 기존 데이터셋이 Train,Test set 간에 가지고 있던 overlap에 비해서는 특별히 크지 않았다고 합니다.\n",
    "\n",
    "Memorization의 정도는 hold-out set과의 성능비교를 통해서도 확인해 볼 수 있습니다. 아래의 그래프에서 Test set과 Train set의 성능은 거의 비슷하며, 또한 모델 크기에 따라서 동시에 성능이 증가하고 있습니다. 이는 Memorization이 모델 성능개선에 큰 요인이 아니었으며, 모델이 아직 underfitting 되어 더 개선될 여지가 있음을 보여줍니다.\n",
    "\n",
    "<img src = \"https://img1.daumcdn.net/thumb/R1280x0/?scode=mtistory2&fname=https%3A%2F%2Fblog.kakaocdn.net%2Fdn%2Fk3iR9%2Fbtq9gqddVdF%2FgbQkriqHTVV2MbdgKWHR91%2Fimg.png\">"
   ]
  },
  {
   "cell_type": "markdown",
   "metadata": {},
   "source": [
    "### Reference \n",
    "\n",
    "https://supkoon.tistory.com/25?category=871653  \n",
    "https://chloamme.github.io/translation/2021/12/08/illustrated-gpt2-korean.html"
   ]
  },
  {
   "cell_type": "markdown",
   "metadata": {},
   "source": [
    "## **10.3 GPT-3**"
   ]
  },
  {
   "cell_type": "markdown",
   "metadata": {},
   "source": [
    "### **1) Intro**"
   ]
  },
  {
   "cell_type": "markdown",
   "metadata": {},
   "source": [
    "Attention과 Transformer가 등장하고 pre-training과 fine-tuning으로 근래의 언어모델은 대부분의 NLP task를 급격히 성장시켰습니다. 이러한 모델들을 대부분의 task에서 잘 작동하는 **task-agnostic** 모델이라고 합니다. 그러나 이 역시 한계점은 존재합니다. 바로 fine-tuning 과정에서 아직은 작게는 수천, 많게는 수만의 labeled supervised dataset을 필요로 한다는 것입니다. 이 한계점은 세 가지 관점에서 굉장히 중요합니다.\n",
    "\n",
    "1) 매번 새로운 target task에 대하여 **대용량의 labeled dataset을 확보하는 것** 은 실용적인 관점에서 **매우 비효율적** 이다. 특히 몇몇 고수준 NLP task는 labeling 비용이 매우 높습니다.  \n",
    "2) 매우 큰 모델에서 좁은 분포의 데이터를 학습하는 것은 **가짜 상관관계(spurious correlations)** 를 만들 가능성을 키웁니다. Pre-training을 위해 크게 설계된 모델을 좁은 task distribution에 fine-tuning하는 과정은 매우 큰 모델에 좁은 분포의 데이터를 학습하는 것과 같습니다. 더 큰 모델이라고 해서 작은 모델에 비해 Out-of-distribution에 대한 generalization 성능이 높은 것은 아니라는 연구가 존재합니다. 따라서 사전 학습에 적합한 모델을 다른 분포의 데이터에서 fine-tuning한 이전의 결과들은 과장되어 있을 가능성이 큽니다.\n",
    "3) **인간** 은 새로운 language task를 배우는데 많은 예시가 필요하지 않습니다. 즉, 실제 인간의 언어능력은 adaptability, fluidity, generality를 갖추고 있어 여러가지 작업을 자유자제로 합치며 바꿀 수도 있습니다.\n",
    "\n",
    "이러한 이슈들은 다룰 수 있는 한 가지 방법은 바로 **Meta-learning** 입니다. Meta-learning은 학습 과정에서 다양한 스킬과 패턴인식 능력을 동시에 키워, inference 단계에서 원하는 task에 빠르게 적응할 수 있도록 모델을 학습시키는 방법입니다. \n",
    "\n",
    "<img src = \"https://img1.daumcdn.net/thumb/R1280x0/?scode=mtistory2&fname=https%3A%2F%2Fblog.kakaocdn.net%2Fdn%2FrhU45%2Fbtq9zE2Qkp5%2F64PdfSKcmJBTCbnu6VdJsK%2Fimg.png\">\n",
    "\n",
    "GPT-2는 Meta-learning의 한 가지 방법인 in-context learning을 통하여 학습되었습니다. in-context learning은 원하는 task에 대한 간단한 설명을 함께 input하여 주는 방법입니다. 하지만 GPT-2가 모든 task에서 잘 작동하지는 않았습니다. 특히 QA와 Reading Comprehension 등의 task에서 기존의 SOTA 모델에 비해 큰 차이로 한계를 보이며 fine-tuning이 아직 한계가 많음을 드러냈습니다. \n",
    "\n",
    "한편 최근 언어 모델의 트렌드는 Transformer를 기반으로 하여 모델의 크기를 아주 크게 늘리는 것이었습니다. 모델의 크기 증가가 down-stream task의 성능을 증가시킨다는 것은 어느정도 검증된 사실입니다. 그렇기에 in-context learning 또한 모델의 크기 증가에 따라 일반화 능력도 커질 것으로 생각하고 총 1,750억개의 파라미터로 만들어진 autoregressive language model **GPT-3** 를 만들었습니다. 이는 기존 15억개의 파라미터를 가지는 GPT-2의 100배가 넘는 파라미터 수를 가집니다. \n",
    "\n",
    "**In-context learning** 은 모델의 context window에 주어지는 예시의 개수에 따라 **One-shot, Zero-shot, Few-shot** 환경으로 구분할 수 있습니다. 본 논문에선 Meta-learner로서의 성능을 검증하기 위해 24개 이상의 데이터셋 환경에서 앞선 세 가지 조건으로 GPT-3를 검증했습니다. 다음의 그래프가 크기에 따른 다른 3개의 GPT 모델을 예시의 수에 따라 비교한 결과입니다. \n",
    "\n",
    "<img src = \"https://img1.daumcdn.net/thumb/R1280x0/?scode=mtistory2&fname=https%3A%2F%2Fblog.kakaocdn.net%2Fdn%2FbZxe7j%2Fbtq9BZsNM5c%2FTN7iO6n8P8Gx5jWamwOm2K%2Fimg.png\">\n",
    "\n",
    "Fine-tuning없이 pre-training만으로 진행된 다음의 실험은 모델의 크기와 예시의 수(K)에 따른 성능변화가 명확함을 보여줍니다. GPT-3는 zero-shot과 few-shot 환경에서도 매우 우수한 성능을 보여줍니다. 특히 few-shot의 경우 기존 SOTA 모델들보다 우수한 성능을 보이는 경우도 있습니다. 반대로, GPT-3의 크기에도 불구하고 few-shot 환경에서도 매우 고전하는 task 또한 존재합니다. \n",
    "\n",
    "[Language Models are Few-Shot Learners](https://arxiv.org/pdf/2005.14165.pdf)은 2020년 Open AI팀에서 발표한 논문으로, GPT-3의 장단점와 한계, 그리고 언어모델의 few-shot learning에 대한 전반적 연구를 다룹니다."
   ]
  },
  {
   "cell_type": "markdown",
   "metadata": {},
   "source": [
    "### **2) Model Architecture**"
   ]
  },
  {
   "cell_type": "markdown",
   "metadata": {},
   "source": [
    "GPT-3는 GPT-2와 거의 유사합니다. 왜냐하면 GPT-2에서 모델의 크기, 데이터셋의 크기, 다양성, 학습 횟수를 전반적으로 늘린 모델에 불과하기 때문입니다. 한 가지 다른 점은 일정한 패턴을 두고 attention을 적용하는 sparse transformer를 사용했다는 정도입니다. \n",
    "\n",
    "<img src = \"https://img1.daumcdn.net/thumb/R1280x0/?scode=mtistory2&fname=https%3A%2F%2Fblog.kakaocdn.net%2Fdn%2FbDS5ie%2Fbtq9EiejAo6%2FPGhwqU20IvxpqNep14d5Y0%2Fimg.png\">\n",
    "\n",
    "개발자들은 모델 크기에 따른 성능 의존도를 확인하기 위해 1억 2,500만 ~ 1,750억 개의 파라미터에 이르기까지 3,000배에 이르는 8가지 크기의 모델을 훈련하였습니다. 마지막 1,750억개의 파라미터를 갖는 모델이 최종적인 GPT-3입니다. \n",
    "\n",
    "<img src = \"https://img1.daumcdn.net/thumb/R1280x0/?scode=mtistory2&fname=https%3A%2F%2Fblog.kakaocdn.net%2Fdn%2FJsEtb%2Fbtq9HK8WEXA%2FMmZ416Sd2Th9GxECiNiFHk%2Fimg.png\">"
   ]
  },
  {
   "cell_type": "markdown",
   "metadata": {},
   "source": [
    "### **3) Approach**"
   ]
  },
  {
   "cell_type": "markdown",
   "metadata": {},
   "source": [
    "GPT-3가 사용하는 in-context learning의 방법은 GPT-2와 비슷하지만, GPT-3는 zero-shot, one-shot, few-shot의 조건으로 in-context learning을 세분화합니다. In-context learning을 보기 전에 먼저 fine-tuning부터 살펴보겠습니다.\n",
    "\n",
    "#### **Fine-tuning**\n",
    "\n",
    "<img src = \"https://img1.daumcdn.net/thumb/R1280x0/?scode=mtistory2&fname=https%3A%2F%2Fblog.kakaocdn.net%2Fdn%2FnUlbU%2Fbtq9GsHrfS0%2Fw27MyTin9LzeJ3lpyDYYJK%2Fimg.png\">\n",
    "\n",
    "Fine-tuning은 앞서 봤듯이 최근 가장 많이 사용되는 방법입니다. 이미 학습된 pre-trained language model에 labeled dataset을 사용하여 특정 task에 잘 맞도록 추가적으로 가중치를 조정합니다. 그러나 이 과정에서 수 천개 이상의 task-specific한 labeled dataset이 필요합니다. 이는 앞서 이야기한 3가지 문제점을 야기합니다.\n",
    "\n",
    "1) 매번 새로운 target task에 대하여 **대용량의 labeled dataset을 확보하는 것** 은 실용적인 관점에서 **매우 비효율적** 이다. 특히 몇몇 고수준 NLP task는 labeling 비용이 매우 높습니다.  \n",
    "2) 매우 큰 모델에서 좁은 분포의 데이터를 학습하는 것은 **가짜 상관관계(spurious correlations)** 를 만들 가능성을 키웁니다. Pre-training을 위해 크게 설계된 모델을 좁은 task distribution에 fine-tuning하는 과정은 매우 큰 모델에 좁은 분포의 데이터를 학습하는 것과 같습니다. 더 큰 모델이라고 해서 작은 모델에 비해 Out-of-distribution에 대한 generalization 성능이 높은 것은 아니라는 연구가 존재합니다. 따라서 사전 학습에 적합한 모델을 다른 분포의 데이터에서 fine-tuning한 이전의 결과들은 과장되어 있을 가능성이 큽니다.\n",
    "3) **인간** 은 새로운 language task를 배우는데 많은 예시가 필요하지 않습니다. 즉, 실제 인간의 언어능력은 adaptability, fluidity, generality를 갖추고 있어 여러가지 작업을 자유자제로 합치며 바꿀 수도 있습니다.\n",
    "\n",
    "\n",
    "#### **Few-shot learning**\n",
    "\n",
    "<img srg = \"https://img1.daumcdn.net/thumb/R1280x0/?scode=mtistory2&fname=https%3A%2F%2Fblog.kakaocdn.net%2Fdn%2FbWRvec%2Fbtq9DvLtl4i%2FezHeyYGGVLUhIbYuCfiXD1%2Fimg.png\">\n",
    "\n",
    "task description과 함께 모델의 context window에 K개의 예시를 보여줍니다. 하지만 예시를 사용하여 가중치를 업데이트하지는 않습니다. 보통 10~100개 사이의 예시를 이용하는 경우가 이에 해당합니다. \n",
    "\n",
    "Few-shot 환경은 labeled data 확보에 대한 부담이 감소한다는 거소가 fine-tuning dataset에서 지나치게 좁은 분포를 학습할 가능성이 줄어든다는 이점이 있습니다. 하지만 여전히 소량의 labeled data가 필요하다는 것과 최신 fine-tuning 방법들의 성능에 미치지 못한다는 단점이 존재합니다.\n",
    "\n",
    "\n",
    "#### **One-shot learning**\n",
    "\n",
    "<img src = \"https://img1.daumcdn.net/thumb/R1280x0/?scode=mtistory2&fname=https%3A%2F%2Fblog.kakaocdn.net%2Fdn%2FXIT51%2Fbtq9E4T65qq%2FGKe4ZqKHN56lzZeQ5Ukw9k%2Fimg.png\">\n",
    "\n",
    "모델의 context window에 1개의 예시만을 사용한다는 것을 제외하고는 few-shot과 동일한 특징을 가지고 있습니다. 하지만 fine-tuning의 세번째 단점인 \"인간은 실제로 새로운 language task를 배우는데 많은 예시가 필요하지 않다.\"를 고려할 때, 인간의 학습 방법과 가장 흡사한 in-context learning 방법일 것입니다.\n",
    "\n",
    "\n",
    "#### **Zero-shot learning**\n",
    "\n",
    "<img src = \"https://img1.daumcdn.net/thumb/R1280x0/?scode=mtistory2&fname=https%3A%2F%2Fblog.kakaocdn.net%2Fdn%2FbSKMtR%2Fbtq9IDOZXHn%2FsKZBcU85Hgw42OsV6Ox5s0%2Fimg.png\">\n",
    "\n",
    "모델의 context window에 예시를 보여주지 않고, task에 대한 설명만을 넣어줍니다. 이 외에 특징은 one-shot learning과 동일합니다. Zero-shot learning은 극도의 편의성을 제공하는 동시에 robustness 능력을 제공하고, spurious correlation을 피할 수 있게 합니다.\n",
    "\n",
    "하지만 zero-shot 환경은 예시 없이 설명만으로 이루어지기에 성능을 내기 가장 어려운 조건입니다. 어떤 경우에는 인간에게 마저 어려운 작업이 됩니다. Fine-tuning에 비해서 성능은 저조할 수 있지만, 인간 능력과의 비교를 위해서 향후 one-shot이나 zero-shot에 대한 결과는 중요도가 높습니다."
   ]
  },
  {
   "cell_type": "markdown",
   "metadata": {},
   "source": [
    "### **4) Training dataset**"
   ]
  },
  {
   "cell_type": "markdown",
   "metadata": {},
   "source": [
    "언어 모델을 학습하기 위한 데이터셋은 web scrapping을 통해 급속도로 확장되어 1조개의 단어로 구성된 Common Crawl dataset에 이르렀습니다. 이는 GPT-3를 학습하기에 충분한 양입니다. 하지만 필터링되지 않은 Common Crawl dataset의 품질은 일반 데이터셋에 비해 현저히 떨어집니다. 따라서 개발자들은 3가지 단계를 거쳐 데이터셋의 평균 품질을 향상시켰습니다.\n",
    "\n",
    "1) 다양한 고품질 corpora와의 유사성을 고려하여 Common Crawl을 다운로드받고 필터링했습니다.\n",
    "2) 문서 수준에서 fuzzy deduplication을 진행하여 중복을 방지했습니다.\n",
    "3) GPT-2를 위해 생성한 web scrap 기반 고품질 데이터셋인 WebText dataset을 포함하여, 추가적인 dataset을 Common Crawl에 더하는 augmentation 방법으로 데이터셋의 다양성을 증가시켰습니다.\n",
    "\n",
    "<img src = \"https://img1.daumcdn.net/thumb/R1280x0/?scode=mtistory2&fname=https%3A%2F%2Fblog.kakaocdn.net%2Fdn%2FZUrwd%2Fbtq9EgOkTw3%2F7VNSsZoSqKIO3WzfA9uqpk%2Fimg.png\">\n",
    "\n",
    "위 테이블은 GPT-3의 학습을 위해 사용된 최종 dataset의 구성 비율입니다. \n",
    "\n",
    "또한 학습과정에서는 구성 비율이 아닌 데이터셋의 품질에 비례한 확률로 샘플링을 진행하였습니다. table의 \"Weight in training mix\"가 바로 이 샘플링 가중치를 의미합니다. 가중치를 이용하여 샘플링한 결과, Common Crawl이 가장 큰 비율을 차지하고 있음에도 상대적으로 품질에 따른 가중치가 높지 않아 평균적으로 1회보다 적게 샘플링 외었습니다. 반면에 다른 데이터셋들은 상대적으로 작은 비율에도 2~3회 샘플링되었습니다. 이는 본질적으로 더 높은 품질의 훈련 데이터에 대한 대가로 소량의 과적합을 허용했음을 의미합니다.\n",
    "\n",
    "만약 학습데이터와 검증데이터 사이에 중복이 생긴다면 GPT-3와 같이 매우 큰 모델은 그것을 외워버립니다. 따라서 개발자들은 본 논문에 포함된 모든 벤치마크 데이터셋의 검증, 테스트셋 사이의 중복(overlap)을 고려하고 해소하려 했습니다. 하지만 학습이 한참 진행되던 와중에 버그가 발생하였고, 다시 학습하는 경제적 비용이 너무 크다고 판단하여 다시 학습을 진행하지는 않았다고 합니다."
   ]
  },
  {
   "cell_type": "markdown",
   "metadata": {},
   "source": [
    "### **5) Results**"
   ]
  },
  {
   "cell_type": "markdown",
   "metadata": {},
   "source": [
    "본 논문의 절반 이상(그러니 최소 37.5페이지 이상)은 다양한 검증 과정에 대한 내용이 주를 이룹니다. 따라서 각 task에 대한 결과가 매우 많습니다. 각 task의 결과는 [논문을 리뷰한 블로그](https://supkoon.tistory.com/27)와 [논문](https://arxiv.org/pdf/2005.14165.pdf)을 참고하시기 바랍니다."
   ]
  },
  {
   "cell_type": "markdown",
   "metadata": {},
   "source": [
    "### **6) Limitations**"
   ]
  },
  {
   "cell_type": "markdown",
   "metadata": {},
   "source": [
    "GPT-3가 마주한 한계점들 또한 여러 개가 존재합니다.\n",
    "\n",
    "\n",
    "#### **성능적 한계**\n",
    "\n",
    "GPT-3는 양적, 질적으로 매우 큰 성능 향상을 보였지만, GPT-2와 비교하여 여전히 몇몇의 NLP task에선 성능적 한계를 보였습니다. 또한 텍스트 생성 시, 문단 수준에서 동일한 내용을 반복하는 경우도 있었습니다. \n",
    "\n",
    "또한 \"치즈가 냉장고에 있으면 녹을까?\"와 같은 간단한 물리학 상식 분야를 잘 풀지 못했습니다. (이는 글로만 세상을 배운 한계로 볼 수도 있을 것입니다.) 독해능력을 테스트하는 경우에도 in-context learning이 큰 효과를 가져오진 못한 것으로 보입니다. \n",
    "\n",
    "이러한 성능 저하는 다른 분야에서 GPT-3가 보여주는 few-shot in-context learning의 뛰어난 효과와 비교되며 더욱 두드러집니다. \n",
    "\n",
    "\n",
    "#### **구조와 알고리즘의 한계**\n",
    "\n",
    "GPT-3는 Auto-regressive 언어 모델입니다. 또한 GPT-3의 구조는 transformer의 decoder block으로 구성되기에, masked self-attention에 기반하고 있습니다. Maksed self-attention은 엄밀히 따지면 bi-directional한 구조가 아닙니다. 또한 본 모델은 de-noising을 고려하는 목적함수를 설정하지도 않았습니다.\n",
    "\n",
    "이러한 구조, 알고리즘적 문제가 일부 분야에서 성능적 한계를 크게 불러왔을 가능성이 있습니다. 기존의 연구들을 보면, 먄약 GPT-3와 비슷한 크기의 bi-directional 모델이 있다면 GPT-3보다 뛰어난 fine-tuning 성능을 보일 것으로 예상됩니다. 따라서 GPT-3 규모의 양방향 모델이나 few-shot, zero-shot 기반의 양방향 모델에 대한 향후 연구 가치가 존재한다고 저자들은 말합니다.\n",
    "\n",
    "\n",
    "#### **근본적인 한계**\n",
    "\n",
    "언어모델의 최근 트렌드는 Scaling up입니다. 언어모델 자체의 근본적 문제가 아닌, 모델과 데이터의 크기에 이목이 집중되고 있습니다. 하지만 pre-training 과정에서 기존의 목적함수는 본질적인 한계가 존재합니다. 현재의 목적함수는 모든 토큰에 동일한 가중치를 부여하며, 어떠한 토큰이 덜 중요하거나 더 중요한지 고려하지 못하고 있습니다. \n",
    "\n",
    "또한 현재의 pre-training 목적함수는 단순히 self-supervised 기반의 prediction에 불과합니다. 현실의 대부분의 문제들은 단순 예측과는 거리가 멉니다. 따라서 실제 상황에서 대규모의 언어모델을 적용하기 위해서는 언어모델이 단순한 예측보다는 조금 더 목적 지향적인 행동을 할 수 있어야 합니다.\n",
    "\n",
    "\n",
    "#### **훈련의 비 효율성**\n",
    "\n",
    "GPT-3는 pre-training동안 인간이 한 평생 보는 것보다 더 많은 양의 텍스트를 학습합니다. 테스트 과정에서는 few-shot으로 샘플링 효율성을 인간과 가깝게 맞출 수 있지만, 추가적인 정보나 알고리즘의 개선을 통해 사전훈련 과정의 샘플링 효율성을 개선할 필요가 있습니다.\n",
    "\n",
    "\n",
    "#### **Few-shot learning의 불확실성**\n",
    "\n",
    "GPT-3가 정말 새로운 작업을 빠르게 학습하기 때문에 정말로 few-shot 환경에서 잘 작동하는지 확신할 수 없습니다. 오히려 훈련 과정에서 해당 문제를 학습했을 가능성도 존재합니다. Synthetic task는 새롭게 접했을 가능성이 크지만, 번역과 같은 작업은 학습과정에서 접하였을 가능성이 높습니다.\n",
    "\n",
    "사실 이런 불확실성은 인간에게도 존재합니다. 예시를 통해 학습하였을지, 과거에 이미 학습하였을지는 대부분의 경우 불명확합니다. 따라서 few-shot learning의 효용성을 다방면에서 증명하는 것이 향후 연구에서 필요합니다.\n",
    "\n",
    "\n",
    "#### **비용**\n",
    "\n",
    "중간에 버그가 발견되었음에도 학습을 중단하지 못했던 것처럼 GPT-3의 훈련 비용은 매우 크며, 추론 시에도 적지 않은 비용이 발생합니다. 실 사용을 위해서는 각각의 task를 위한 구조로 증류하는(distilation) 과정이 필요할 것입니다. 하지만 이 정도의 대규모 모델을 task-specific하게 distilation한 연구는 아직 존재하지 않습니다. 따라서 향후 연구가 필요합니다.\n",
    "\n",
    "\n",
    "#### **설명 가능성**\n",
    "\n",
    "마지막으로 GPT-3 역시 기존의 딥러닝 시스템과 그 한계를 같이 합니다. \n",
    "\n",
    "우선 black box로서 결정에 대한 설명력이 떨어집니다. 또한 새로운 input에 대해 인간보다 큰 variance를 보입니다. 무엇보다 가장 큰 문제는 data 자체의 bias를 해결하지 못한다는 것입니다. Data의 bias를 해결하지 못한다면 세상에 존재하는 여러 사회적 문제를 그대로 반영하여 실사용할 시, 많은 문제를 야기할 수 있습니다. (종교, 인종 등에 편향적인 학습이 이루어질 수 있습니다.) 따라서 이 파트에 대해 저자들은 한 섹션을 할애하여 상세히 다룹니다."
   ]
  },
  {
   "cell_type": "markdown",
   "metadata": {},
   "source": [
    "### **7) Broader Impacts**"
   ]
  },
  {
   "cell_type": "markdown",
   "metadata": {},
   "source": [
    "GPT-3와 같은 언어모델은 코딩, 자동완성, 번역 등 사회 전반에 많은 도움을 가져다 줍니다. 하지만 너무나도 정교해진 성능을 바탕으로 언어모델이 악용되거나 사회에 악영향을 미칠 가능성 또한 증가하고 있습니다. 효용성보다 악용가능성이 큰 것은 아니지만 악용될 가능성이 존재하기에 다음의 문제점을 분석했습니다. \n",
    "\n",
    "\n",
    "#### **악용의 가능성**\n",
    "\n",
    "언어모델은 정교한 생성능력을 바탕으로 가짜뉴스, 스팸, 피싱, 가짜 에세이 등을 인간보다 쉽게 작성할 수 있습니다. 따라서 이러한 악용사례들이 증사할 가능성이 존재합니다. 또한 사회적인 선동을 위해 사용될 수도 있으며 최악의 경우 해커들에게 악용될 수 있습니다. 따라서 향후 다양한 연구개발을 통해 이러한 가능성을 차단할 필요가 있습니다.\n",
    "\n",
    "\n",
    "#### **편견과 공정성에 대한 우려**\n",
    "\n",
    "앞서 한계로 지적했듯, GPT-3는 기존 학습데이터에 존재하는 데이터의 bias를 필터링없이 학습합니다. 저자들이 진행한 분석에 따르면 인터넷의 데이터를 통해 학습된 모델은 인터넷에 존재하는 bias를 그대로 갖고 있었다고 합니다. \n",
    "\n",
    "먼저 **성별(Gender)** 에 대한 bias를 관찰하기 위해 저자들은 성별과 직업의 상관관계를 분석했습니다. \"The {occupation} was a {Gender identifier}\" 와 같은 문장을 통해 실험한 결과, 388개의 직업 중 83%의 경우 남성에 관련된 어휘를 선택했다고 합니다. 특히 신체적인 능력을 필요로 하는 목공, 보안관 같은 직업이나 고학력을 요구하는 국회의원, 교수 등에서는 더욱 남성에 편향된 단어들을 선택했습니다. 접수원, 가사도우미와 같은 직종에서 여성과 관련된 단어가 나타나는 것과 대조적이라고 할 수 있습니다.\n",
    "\n",
    "또한 저자들은 다음과 같은 두 가지 환경에서 수식을 통해 편견의 정도를 계산해보았습니다.\n",
    "\n",
    "$$\\text{\"The \\{occupation\\} was a \\{Gender identifier\\}\"} \\\\\n",
    "\\text{\"The incompetent \\{occupation\\} was a \\{Gender identifier\\}\"} \\\\\n",
    "\\text{\"The competent \\{occupation\\} was a \\{Gender identifier\\}\"}$$\n",
    "\n",
    "$$\\frac{1}{n_{jobs}} \\sum_{jobs} (\\frac{P(female|Context)}{P(male|Context)})$$\n",
    "\n",
    "수식어가 없는 경우, competent(유능한), incompetent(무능한)의 세가지 경우에서 -1.11, -2.14, -1.15로 모두 남성 편향적인 결과가 나왔습니다. 또한 유능한 항목에서 더욱 남성 편향적 결과가 나온 점에서 gender에 대한 bias가 존재함을 알 수 있었습니다. \n",
    "\n",
    "다음의 결과는 \"He was very\", \"He would be described as\"와 \"She was very\", \"She would be described as\"를 GPT-3에 제시했을 때, 모델이 가장 많이 생성한 단어들의 예시입니다. 그 결과, 여성의 경우 \"Beautiful\", \"Gorgeous\"와 같은 외모 지향적 단어가 주로 선택되었음을 알 수 있습니다.\n",
    "\n",
    "두번째로 **인종(Race)** 에 대한 bias도 있습니다. 이 역시 아래의 문장을 통해 확인해보았습니다.\n",
    "\n",
    "$$\\text{\"the \\{race\\} women was very \\{\\}\"} \\\\\n",
    "\\text{\"the \\{race\\} man was very \\{\\}\"} \\\\\n",
    "\\text{\"People would describe the \\{race\\} person as \\{\\}\"}$$\n",
    "\n",
    "위 세가지 문장을 통해 얻은 결과는 다음과 같습니다. 각 인종에 대한 결과 단어에 sentiment score를 적용한 결과, 인종에 따른 분명한 차이가 존재함을 확인할 수 있습니다. 아시안에 대해선 일관되게 긍정적으로 평가하지만, 흑인에 대해선 상대적으로 좋지 못한 평가가 주를 이루었습니다. \n",
    "\n",
    "<img src = \"https://img1.daumcdn.net/thumb/R1280x0/?scode=mtistory2&fname=https%3A%2F%2Fblog.kakaocdn.net%2Fdn%2FcC0Z96%2Fbtq9IDbTy0K%2FpVKukmoTcUCb7OKEpkdm9K%2Fimg.png\">\n",
    "\n",
    "마지막으로 **종교(Religion)** 에 대해서도 50개의 단어를 생성하여 편향에 대한 실험을 진행했습니다. 실험 결과, 인종과 유사하게 특정 종교에 특정 단어들이 연관되어 나타남을 확인할 수 있었습니다. 특히 \"폭력적\", \"테러리스트\"와 같은 단어가 상대적으로 이슬람에서 자주 등장했습니다.\n",
    "\n",
    "<img src = \"https://img1.daumcdn.net/thumb/R1280x0/?scode=mtistory2&fname=https%3A%2F%2Fblog.kakaocdn.net%2Fdn%2FeaVTJP%2Fbtq9EOkovXv%2Fo13PrM6UmMQ41IpNAJi5L0%2Fimg.png\">\n",
    "\n",
    "\n",
    "#### **에너지 효율성 문제**\n",
    "\n",
    "일반적으로 딥러닝 모델들의 경우, 전력 소모량을 크게 고려하지 않습니다. 하지만 GPT-3의 경우, 사전학습 과정에서 하루에 GPT-2의 수백배에 해당하는 전력소비가 일어납니다. 모델의 사전학습에 따른 비용뿐만 아니라, 모델의 수명에 따른 감가상각(비용울 지출해서 구입한, 장기간 사용하는 자산의 비용화) 또한 고려한다면 엄청난 경제적 비용이 따른다고 할 수 있습니다. \n",
    "\n",
    "물론 GPT-3를 한 번 학습하면, 생성 과정에서는 큰 전력소비가 일어나지 않습니다. 하지만 추후에 모델과 알고리즘적인 개선을 통하여 보다 효율적인 모델을 만들 필요가 있다고 저자들은 말하고 있습니다."
   ]
  },
  {
   "cell_type": "markdown",
   "metadata": {},
   "source": [
    "### **8) GPT3Mix**"
   ]
  },
  {
   "cell_type": "markdown",
   "metadata": {},
   "source": [
    "[GPT3Mix](https://arxiv.org/pdf/2104.08826.pdf)는 GPT3로 task를 수행을 위한 학습에 드는 비용이 너무 비싸기에 GPT-3를 활용하여 지도학습을 위한 training data를 만들자는 아이디어를 제시합니다. 그리고 만든 데이터로 상대적으로 작은 모델을(BERT와 같은) 학습하여 task를 해결합니다"
   ]
  },
  {
   "cell_type": "markdown",
   "metadata": {},
   "source": [
    "### Reference\n",
    "\n",
    "https://supkoon.tistory.com/27  \n",
    "https://chloamme.github.io/translation/2021/12/18/how-gpt3-works-visualizations-animations-korean.html"
   ]
  },
  {
   "cell_type": "markdown",
   "metadata": {},
   "source": [
    "# **11.**"
   ]
  }
 ],
 "metadata": {
  "interpreter": {
   "hash": "168b3bbc19afd1ef550d68b948460bcb86336de7649712fa882c5012c218f57c"
  },
  "kernelspec": {
   "display_name": "Python 3 (ipykernel)",
   "language": "python",
   "name": "python3"
  },
  "language_info": {
   "codemirror_mode": {
    "name": "ipython",
    "version": 3
   },
   "file_extension": ".py",
   "mimetype": "text/x-python",
   "name": "python",
   "nbconvert_exporter": "python",
   "pygments_lexer": "ipython3",
   "version": "3.8.12"
  }
 },
 "nbformat": 4,
 "nbformat_minor": 2
}
