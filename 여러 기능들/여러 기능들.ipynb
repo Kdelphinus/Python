{
 "cells": [
  {
   "cell_type": "markdown",
   "id": "889c4c08",
   "metadata": {},
   "source": [
    "# 여러 기능들"
   ]
  },
  {
   "cell_type": "markdown",
   "id": "fd38bcf7",
   "metadata": {},
   "source": [
    "### optional parameter\n",
    "\n",
    ">optional parameter를 설정하여 기본값을 설정할 수 있다"
   ]
  },
  {
   "cell_type": "code",
   "execution_count": 1,
   "id": "e4a97fe3",
   "metadata": {},
   "outputs": [],
   "source": [
    "def tmp_fun(my_list, start = 0, end = None):\n",
    "    pass"
   ]
  },
  {
   "cell_type": "markdown",
   "id": "47e4bf9c",
   "metadata": {},
   "source": [
    "---\n",
    "## zfill\n",
    "\n",
    ">문자열의 길이가 입력된 수가 되도록 0을 추가"
   ]
  },
  {
   "cell_type": "code",
   "execution_count": 2,
   "id": "23256942",
   "metadata": {},
   "outputs": [
    {
     "name": "stdout",
     "output_type": "stream",
     "text": [
      "000001\n",
      "333\n",
      "0000000a\n",
      "000000ab\n",
      "00000abc\n"
     ]
    }
   ],
   "source": [
    "print(\"1\".zfill(6))\n",
    "print(\"333\".zfill(2))\n",
    "print(\"a\".zfill(8))\n",
    "print(\"ab\".zfill(8))\n",
    "print(\"abc\".zfill(8))"
   ]
  },
  {
   "cell_type": "markdown",
   "id": "7cf76cf2",
   "metadata": {},
   "source": [
    "---\n",
    "## random module\n",
    "\n",
    ">임의의 수와 관련된 함수들이 정의된 모듈"
   ]
  },
  {
   "cell_type": "code",
   "execution_count": 1,
   "id": "40164cbf",
   "metadata": {},
   "outputs": [
    {
     "name": "stdout",
     "output_type": "stream",
     "text": [
      "12\n",
      "0.8597108275598546\n"
     ]
    }
   ],
   "source": [
    "import random\n",
    "\n",
    "print(random.randint(1, 20)) # 1 ~ 20 사이의 임의의 정수 리턴\n",
    "print(random.uniform(0, 1)) # 0 ~ 1 사이의 임의의 소수 리턴"
   ]
  },
  {
   "cell_type": "markdown",
   "id": "b9ebc652",
   "metadata": {},
   "source": [
    "---\n",
    "## *args\n",
    "\n",
    ">*을 사용하여 입력받는 개수를 미리 설정하지 않는다.  \n",
    "이떄 *을 통해 들어온 자료들은 tuple로 저장된다."
   ]
  },
  {
   "cell_type": "code",
   "execution_count": 2,
   "metadata": {},
   "outputs": [
    {
     "name": "stdout",
     "output_type": "stream",
     "text": [
      "유재석 박명수 \n",
      "유재석 \n",
      "유재석 박명수 정준하 \n"
     ]
    }
   ],
   "source": [
    "def LastName_and_FirstName(*names):\n",
    "    for name in names:\n",
    "        print(f\"{name}\", end = \" \")\n",
    "    print()\n",
    "\n",
    "\n",
    "LastName_and_FirstName(\"유재석\", \"박명수\")\n",
    "LastName_and_FirstName(\"유재석\")\n",
    "LastName_and_FirstName(\"유재석\", \"박명수\", \"정준하\")"
   ]
  },
  {
   "cell_type": "markdown",
   "metadata": {},
   "source": [
    "---\n",
    "## **kwargs\n",
    "\n",
    ">**kwargs는 key=value 형태로 입력하면 그에 맞는 딕셔너리로 처리한다"
   ]
  },
  {
   "cell_type": "code",
   "execution_count": 4,
   "metadata": {},
   "outputs": [
    {
     "name": "stdout",
     "output_type": "stream",
     "text": [
      "고명준의 영어 이름은 Ko myoung jun이다.\n"
     ]
    }
   ],
   "source": [
    "def EnglishName(**names):\n",
    "    for key, value in names.items():\n",
    "        print(f\"{key}의 영어 이름은 {value}이다.\")\n",
    "\n",
    "\n",
    "EnglishName(고명준='Ko myoung jun')"
   ]
  },
  {
   "cell_type": "markdown",
   "metadata": {},
   "source": [
    "---\n",
    "## ASCII"
   ]
  },
  {
   "cell_type": "code",
   "execution_count": 5,
   "metadata": {},
   "outputs": [
    {
     "name": "stdout",
     "output_type": "stream",
     "text": [
      "A\n",
      "65\n"
     ]
    }
   ],
   "source": [
    "print((chr(65)))\n",
    "print(ord(\"A\"))"
   ]
  },
  {
   "cell_type": "markdown",
   "metadata": {},
   "source": [
    "---\n",
    "## base64\n",
    "\n",
    ">8비트 이진 데이터를 문자 코드에 영향을 받지 않는 공통 아스키 영역의 문자들로만 이루어진 일련의 문자열로 바꾸는 인코딩 방식"
   ]
  },
  {
   "cell_type": "code",
   "execution_count": 7,
   "metadata": {},
   "outputs": [
    {
     "name": "stdout",
     "output_type": "stream",
     "text": [
      "Life itself is a quotation.\n"
     ]
    }
   ],
   "source": [
    "from base64 import b64decode\n",
    "\n",
    "string = \"TGlmZSBpdHNlbGYgaXMgYSBxdW90YXRpb24u\"\n",
    "print(f\"{b64decode(string).decode('UTF-8')}\")"
   ]
  },
  {
   "cell_type": "markdown",
   "metadata": {},
   "source": [
    "---\n",
    "## replace\n",
    "\n",
    ">string.replace(a, b) : string안에 있는 a를 b로 대체"
   ]
  },
  {
   "cell_type": "code",
   "execution_count": 8,
   "metadata": {},
   "outputs": [],
   "source": [
    "num_dic = {\n",
    "    \"zero\": \"0\",\n",
    "    \"one\": \"1\",\n",
    "    \"two\": \"2\",\n",
    "    \"three\": \"3\",\n",
    "    \"four\": \"4\",\n",
    "    \"five\": \"5\",\n",
    "    \"six\": \"6\",\n",
    "    \"seven\": \"7\",\n",
    "    \"eight\": \"8\",\n",
    "    \"nine\": \"9\",\n",
    "}"
   ]
  },
  {
   "cell_type": "code",
   "execution_count": 9,
   "metadata": {},
   "outputs": [],
   "source": [
    "def convert(s):\n",
    "    for key, value in num_dic.items():\n",
    "        s = s.replace(key, value)\n",
    "    return int(s)"
   ]
  },
  {
   "cell_type": "code",
   "execution_count": 10,
   "metadata": {},
   "outputs": [
    {
     "name": "stdout",
     "output_type": "stream",
     "text": [
      "1478\n"
     ]
    }
   ],
   "source": [
    "print(convert(\"one4seveneight\"))"
   ]
  },
  {
   "cell_type": "markdown",
   "metadata": {},
   "source": [
    "---\n",
    "## isalpha, isdigit\n",
    "\n",
    ">주어진 문자열이 숫자인지 알파벳인지 판별해주는 함수\n"
   ]
  },
  {
   "cell_type": "code",
   "execution_count": 11,
   "metadata": {},
   "outputs": [
    {
     "name": "stdout",
     "output_type": "stream",
     "text": [
      "True\n",
      "False\n"
     ]
    }
   ],
   "source": [
    "string = \"abcdefg\"\n",
    "print(string.isalpha())\n",
    "print(string.isdigit())"
   ]
  },
  {
   "cell_type": "code",
   "execution_count": 12,
   "metadata": {},
   "outputs": [
    {
     "name": "stdout",
     "output_type": "stream",
     "text": [
      "False\n",
      "True\n"
     ]
    }
   ],
   "source": [
    "string = \"123456\"\n",
    "print(string.isalpha())\n",
    "print(string.isdigit())"
   ]
  },
  {
   "cell_type": "code",
   "execution_count": 13,
   "metadata": {},
   "outputs": [
    {
     "name": "stdout",
     "output_type": "stream",
     "text": [
      "False\n",
      "False\n"
     ]
    }
   ],
   "source": [
    "string = \"123abc\"\n",
    "print(string.isalpha())\n",
    "print(string.isdigit())"
   ]
  },
  {
   "cell_type": "markdown",
   "metadata": {},
   "source": [
    "---\n",
    "## upper, lower\n",
    "\n",
    ">대문자 -> 소문자 or 소문자 --> 대문자"
   ]
  },
  {
   "cell_type": "code",
   "execution_count": 14,
   "metadata": {},
   "outputs": [
    {
     "name": "stdout",
     "output_type": "stream",
     "text": [
      "ABC\n"
     ]
    }
   ],
   "source": [
    "string = \"abc\"\n",
    "print(string.upper())"
   ]
  },
  {
   "cell_type": "code",
   "execution_count": 15,
   "metadata": {},
   "outputs": [
    {
     "name": "stdout",
     "output_type": "stream",
     "text": [
      "abc\n"
     ]
    }
   ],
   "source": [
    "tring = \"ABC\"\n",
    "print(string.lower())"
   ]
  },
  {
   "cell_type": "markdown",
   "metadata": {},
   "source": [
    "---\n",
    "# eval\n",
    "\n",
    ">문자열로 이루어진 수식을 계산"
   ]
  },
  {
   "cell_type": "code",
   "execution_count": 17,
   "metadata": {},
   "outputs": [
    {
     "name": "stdout",
     "output_type": "stream",
     "text": [
      "-2\n",
      "7\n"
     ]
    }
   ],
   "source": [
    "print(eval(\"5 + 2 - 9\"))\n",
    "print(eval(\"5 + 2\"))"
   ]
  },
  {
   "cell_type": "markdown",
   "metadata": {},
   "source": [
    "---\n",
    "## copy\n",
    "\n",
    ">리스트를 복사하는 함수를 가진 모듈"
   ]
  },
  {
   "cell_type": "code",
   "execution_count": 18,
   "metadata": {},
   "outputs": [],
   "source": [
    "import copy"
   ]
  },
  {
   "cell_type": "markdown",
   "metadata": {},
   "source": [
    "### 얕은 복사"
   ]
  },
  {
   "cell_type": "code",
   "execution_count": 21,
   "metadata": {},
   "outputs": [
    {
     "name": "stdout",
     "output_type": "stream",
     "text": [
      "[[2, 3], [3, 4]]\n",
      "[[1, 2], [3, 4]]\n",
      "[[2, 3], [3, 4, 5]]\n",
      "[[1, 2], [3, 4, 5]]\n"
     ]
    }
   ],
   "source": [
    "# id를 새로 부여받으며 재할당하는 것은 서로 영향을 주지 않는다\n",
    "a = [[1, 2], [3, 4]]\n",
    "b = copy.copy(a)  # 얕은 복사\n",
    "# b = a[:]  # 슬라이싱도 얕은 복사\n",
    "\n",
    "a[0] = [2, 3]  # 재할당\n",
    "print(a)\n",
    "print(b)\n",
    "\n",
    "# 그러나 재할당 한 적 없는 값을 변경하면 같이 변경된다\n",
    "a[1].append(5)\n",
    "print(a)\n",
    "print(b)"
   ]
  },
  {
   "cell_type": "markdown",
   "metadata": {},
   "source": [
    "### 깊은 복사"
   ]
  },
  {
   "cell_type": "code",
   "execution_count": 23,
   "metadata": {},
   "outputs": [
    {
     "name": "stdout",
     "output_type": "stream",
     "text": [
      "[[1, 2, 5], [3, 4]]\n",
      "[[1, 2], [3, 4]]\n"
     ]
    }
   ],
   "source": [
    "# 깊은 복사는 내부 객체까지 모두 새롭게 복사\n",
    "a = [[1, 2], [3, 4]]\n",
    "b = copy.deepcopy(a)  # 깊은 복사\n",
    "a[0].append(5)  # 값을 변경해도 영향받지 않음\n",
    "print(a)\n",
    "print(b)"
   ]
  },
  {
   "cell_type": "markdown",
   "metadata": {},
   "source": [
    "---\n",
    "## INF"
   ]
  },
  {
   "cell_type": "code",
   "execution_count": 24,
   "metadata": {},
   "outputs": [],
   "source": [
    "# 무한대\n",
    "INF = float('inf')\n",
    "M_INF = float(\"-inf\")"
   ]
  },
  {
   "cell_type": "code",
   "execution_count": 25,
   "metadata": {},
   "outputs": [],
   "source": [
    "# 정수의 최댓값, 최솟값\n",
    "import sys\n",
    "\n",
    "int_max = sys.maxsize\n",
    "int_min = -(sys.maxsize + 1)"
   ]
  },
  {
   "cell_type": "markdown",
   "metadata": {},
   "source": [
    "---\n",
    "## Jaden Case\n",
    "\n",
    ">첫 알파벳만 대문자로 만들고 나머지는 소문자로 만들기"
   ]
  },
  {
   "cell_type": "code",
   "execution_count": 31,
   "metadata": {},
   "outputs": [],
   "source": [
    "text = \"i aM ko myoung jun.\""
   ]
  },
  {
   "cell_type": "code",
   "execution_count": 30,
   "metadata": {},
   "outputs": [
    {
     "name": "stdout",
     "output_type": "stream",
     "text": [
      "I am ko myoung jun.\n"
     ]
    }
   ],
   "source": [
    "# 문장의 첫 알파벳만 대문자로\n",
    "print(text.capitalize())"
   ]
  },
  {
   "cell_type": "code",
   "execution_count": 29,
   "metadata": {},
   "outputs": [
    {
     "name": "stdout",
     "output_type": "stream",
     "text": [
      "I Am Ko Myoung Jun.\n"
     ]
    }
   ],
   "source": [
    "# 단어의 첫 알파벳만 대문자로\n",
    "print(\" \".join([word.capitalize() for word in text.split(\" \")]))"
   ]
  }
 ],
 "metadata": {
  "interpreter": {
   "hash": "8017a8f48baad9eaaa44de49c397d69aa2b489b22751fa1c8d3ff674172ebdbb"
  },
  "kernelspec": {
   "display_name": "Python 3.9.7 64-bit ('sub': conda)",
   "name": "python3"
  },
  "language_info": {
   "codemirror_mode": {
    "name": "ipython",
    "version": 3
   },
   "file_extension": ".py",
   "mimetype": "text/x-python",
   "name": "python",
   "nbconvert_exporter": "python",
   "pygments_lexer": "ipython3",
   "version": "3.9.7"
  }
 },
 "nbformat": 4,
 "nbformat_minor": 5
}
