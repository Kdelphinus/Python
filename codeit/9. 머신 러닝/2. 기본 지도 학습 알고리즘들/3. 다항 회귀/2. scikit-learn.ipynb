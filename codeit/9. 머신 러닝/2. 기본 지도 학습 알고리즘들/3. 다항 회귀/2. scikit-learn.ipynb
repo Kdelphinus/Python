{
 "metadata": {
  "language_info": {
   "codemirror_mode": {
    "name": "ipython",
    "version": 3
   },
   "file_extension": ".py",
   "mimetype": "text/x-python",
   "name": "python",
   "nbconvert_exporter": "python",
   "pygments_lexer": "ipython3",
   "version": "3.8.8"
  },
  "orig_nbformat": 2,
  "kernelspec": {
   "name": "python388jvsc74a57bd08982ef49acba8bb73682744e15d1779c1b31b37f0f6a3d8343a5bde8a2886ca1",
   "display_name": "Python 3.8.8 64-bit"
  }
 },
 "nbformat": 4,
 "nbformat_minor": 2,
 "cells": [
  {
   "cell_type": "code",
   "execution_count": 30,
   "metadata": {},
   "outputs": [],
   "source": [
    "from sklearn.datasets import load_boston\n",
    "from sklearn.preprocessing import PolynomialFeatures\n",
    "from sklearn.metrics import mean_squared_error\n",
    "from sklearn.linear_model import LinearRegression\n",
    "from sklearn.model_selection import train_test_split\n",
    "\n",
    "import pandas as pd"
   ]
  },
  {
   "cell_type": "code",
   "execution_count": 9,
   "metadata": {},
   "outputs": [],
   "source": [
    "boston_dataset = load_boston()"
   ]
  },
  {
   "cell_type": "code",
   "execution_count": 11,
   "metadata": {},
   "outputs": [
    {
     "output_type": "execute_result",
     "data": {
      "text/plain": [
       "(506, 13)"
      ]
     },
     "metadata": {},
     "execution_count": 11
    }
   ],
   "source": [
    "boston_dataset.data.shape"
   ]
  },
  {
   "cell_type": "code",
   "execution_count": 12,
   "metadata": {},
   "outputs": [
    {
     "output_type": "execute_result",
     "data": {
      "text/plain": [
       "array(['CRIM', 'ZN', 'INDUS', 'CHAS', 'NOX', 'RM', 'AGE', 'DIS', 'RAD',\n",
       "       'TAX', 'PTRATIO', 'B', 'LSTAT'], dtype='<U7')"
      ]
     },
     "metadata": {},
     "execution_count": 12
    }
   ],
   "source": [
    "boston_dataset.feature_names"
   ]
  },
  {
   "cell_type": "code",
   "execution_count": 15,
   "metadata": {},
   "outputs": [],
   "source": [
    "# 다항 회귀를 2차 함수로 만듬\n",
    "polynomial_transformer = PolynomialFeatures(2)"
   ]
  },
  {
   "cell_type": "code",
   "execution_count": 16,
   "metadata": {},
   "outputs": [],
   "source": [
    "polynomial_data = polynomial_transformer.fit_transform(boston_dataset.data)"
   ]
  },
  {
   "cell_type": "code",
   "execution_count": 22,
   "metadata": {},
   "outputs": [
    {
     "output_type": "execute_result",
     "data": {
      "text/plain": [
       "(506, 105)"
      ]
     },
     "metadata": {},
     "execution_count": 22
    }
   ],
   "source": [
    "# 13개에서 105개로 열이 증가\n",
    "# 가능한 모든 이차곱을 다 열로 추가\n",
    "polynomial_data.shape"
   ]
  },
  {
   "cell_type": "code",
   "execution_count": 23,
   "metadata": {},
   "outputs": [],
   "source": [
    "# 추가된 열을 포함한 열들\n",
    "polynomial_feature_names = polynomial_transformer.get_feature_names(boston_dataset.feature_names)"
   ]
  },
  {
   "cell_type": "code",
   "execution_count": 26,
   "metadata": {},
   "outputs": [],
   "source": [
    "X = pd.DataFrame(polynomial_data, columns=polynomial_feature_names)"
   ]
  },
  {
   "cell_type": "code",
   "execution_count": 29,
   "metadata": {},
   "outputs": [
    {
     "output_type": "execute_result",
     "data": {
      "text/plain": [
       "       1     CRIM    ZN  INDUS  CHAS    NOX     RM   AGE     DIS  RAD  ...  \\\n",
       "0    1.0  0.00632  18.0   2.31   0.0  0.538  6.575  65.2  4.0900  1.0  ...   \n",
       "1    1.0  0.02731   0.0   7.07   0.0  0.469  6.421  78.9  4.9671  2.0  ...   \n",
       "2    1.0  0.02729   0.0   7.07   0.0  0.469  7.185  61.1  4.9671  2.0  ...   \n",
       "3    1.0  0.03237   0.0   2.18   0.0  0.458  6.998  45.8  6.0622  3.0  ...   \n",
       "4    1.0  0.06905   0.0   2.18   0.0  0.458  7.147  54.2  6.0622  3.0  ...   \n",
       "..   ...      ...   ...    ...   ...    ...    ...   ...     ...  ...  ...   \n",
       "501  1.0  0.06263   0.0  11.93   0.0  0.573  6.593  69.1  2.4786  1.0  ...   \n",
       "502  1.0  0.04527   0.0  11.93   0.0  0.573  6.120  76.7  2.2875  1.0  ...   \n",
       "503  1.0  0.06076   0.0  11.93   0.0  0.573  6.976  91.0  2.1675  1.0  ...   \n",
       "504  1.0  0.10959   0.0  11.93   0.0  0.573  6.794  89.3  2.3889  1.0  ...   \n",
       "505  1.0  0.04741   0.0  11.93   0.0  0.573  6.030  80.8  2.5050  1.0  ...   \n",
       "\n",
       "       TAX^2  TAX PTRATIO      TAX B  TAX LSTAT  PTRATIO^2  PTRATIO B  \\\n",
       "0    87616.0       4528.8  117482.40    1474.08     234.09   6072.570   \n",
       "1    58564.0       4307.6   96049.80    2211.88     316.84   7064.820   \n",
       "2    58564.0       4307.6   95064.86     975.26     316.84   6992.374   \n",
       "3    49284.0       4151.4   87607.86     652.68     349.69   7379.581   \n",
       "4    49284.0       4151.4   88111.80    1183.26     349.69   7422.030   \n",
       "..       ...          ...        ...        ...        ...        ...   \n",
       "501  74529.0       5733.0  107013.27    2639.91     441.00   8231.790   \n",
       "502  74529.0       5733.0  108353.70    2478.84     441.00   8334.900   \n",
       "503  74529.0       5733.0  108353.70    1539.72     441.00   8334.900   \n",
       "504  74529.0       5733.0  107411.85    1769.04     441.00   8262.450   \n",
       "505  74529.0       5733.0  108353.70    2151.24     441.00   8334.900   \n",
       "\n",
       "     PTRATIO LSTAT          B^2    B LSTAT  LSTAT^2  \n",
       "0           76.194  157529.6100  1976.5620  24.8004  \n",
       "1          162.692  157529.6100  3627.6660  83.5396  \n",
       "2           71.734  154315.4089  1583.1049  16.2409  \n",
       "3           54.978  155732.8369  1160.2122   8.6436  \n",
       "4           99.671  157529.6100  2115.4770  28.4089  \n",
       "..             ...          ...        ...      ...  \n",
       "501        203.070  153656.1601  3790.5433  93.5089  \n",
       "502        190.680  157529.6100  3603.8520  82.4464  \n",
       "503        118.440  157529.6100  2238.5160  31.8096  \n",
       "504        136.080  154802.9025  2549.5560  41.9904  \n",
       "505        165.480  157529.6100  3127.5720  62.0944  \n",
       "\n",
       "[506 rows x 105 columns]"
      ],
      "text/html": "<div>\n<style scoped>\n    .dataframe tbody tr th:only-of-type {\n        vertical-align: middle;\n    }\n\n    .dataframe tbody tr th {\n        vertical-align: top;\n    }\n\n    .dataframe thead th {\n        text-align: right;\n    }\n</style>\n<table border=\"1\" class=\"dataframe\">\n  <thead>\n    <tr style=\"text-align: right;\">\n      <th></th>\n      <th>1</th>\n      <th>CRIM</th>\n      <th>ZN</th>\n      <th>INDUS</th>\n      <th>CHAS</th>\n      <th>NOX</th>\n      <th>RM</th>\n      <th>AGE</th>\n      <th>DIS</th>\n      <th>RAD</th>\n      <th>...</th>\n      <th>TAX^2</th>\n      <th>TAX PTRATIO</th>\n      <th>TAX B</th>\n      <th>TAX LSTAT</th>\n      <th>PTRATIO^2</th>\n      <th>PTRATIO B</th>\n      <th>PTRATIO LSTAT</th>\n      <th>B^2</th>\n      <th>B LSTAT</th>\n      <th>LSTAT^2</th>\n    </tr>\n  </thead>\n  <tbody>\n    <tr>\n      <th>0</th>\n      <td>1.0</td>\n      <td>0.00632</td>\n      <td>18.0</td>\n      <td>2.31</td>\n      <td>0.0</td>\n      <td>0.538</td>\n      <td>6.575</td>\n      <td>65.2</td>\n      <td>4.0900</td>\n      <td>1.0</td>\n      <td>...</td>\n      <td>87616.0</td>\n      <td>4528.8</td>\n      <td>117482.40</td>\n      <td>1474.08</td>\n      <td>234.09</td>\n      <td>6072.570</td>\n      <td>76.194</td>\n      <td>157529.6100</td>\n      <td>1976.5620</td>\n      <td>24.8004</td>\n    </tr>\n    <tr>\n      <th>1</th>\n      <td>1.0</td>\n      <td>0.02731</td>\n      <td>0.0</td>\n      <td>7.07</td>\n      <td>0.0</td>\n      <td>0.469</td>\n      <td>6.421</td>\n      <td>78.9</td>\n      <td>4.9671</td>\n      <td>2.0</td>\n      <td>...</td>\n      <td>58564.0</td>\n      <td>4307.6</td>\n      <td>96049.80</td>\n      <td>2211.88</td>\n      <td>316.84</td>\n      <td>7064.820</td>\n      <td>162.692</td>\n      <td>157529.6100</td>\n      <td>3627.6660</td>\n      <td>83.5396</td>\n    </tr>\n    <tr>\n      <th>2</th>\n      <td>1.0</td>\n      <td>0.02729</td>\n      <td>0.0</td>\n      <td>7.07</td>\n      <td>0.0</td>\n      <td>0.469</td>\n      <td>7.185</td>\n      <td>61.1</td>\n      <td>4.9671</td>\n      <td>2.0</td>\n      <td>...</td>\n      <td>58564.0</td>\n      <td>4307.6</td>\n      <td>95064.86</td>\n      <td>975.26</td>\n      <td>316.84</td>\n      <td>6992.374</td>\n      <td>71.734</td>\n      <td>154315.4089</td>\n      <td>1583.1049</td>\n      <td>16.2409</td>\n    </tr>\n    <tr>\n      <th>3</th>\n      <td>1.0</td>\n      <td>0.03237</td>\n      <td>0.0</td>\n      <td>2.18</td>\n      <td>0.0</td>\n      <td>0.458</td>\n      <td>6.998</td>\n      <td>45.8</td>\n      <td>6.0622</td>\n      <td>3.0</td>\n      <td>...</td>\n      <td>49284.0</td>\n      <td>4151.4</td>\n      <td>87607.86</td>\n      <td>652.68</td>\n      <td>349.69</td>\n      <td>7379.581</td>\n      <td>54.978</td>\n      <td>155732.8369</td>\n      <td>1160.2122</td>\n      <td>8.6436</td>\n    </tr>\n    <tr>\n      <th>4</th>\n      <td>1.0</td>\n      <td>0.06905</td>\n      <td>0.0</td>\n      <td>2.18</td>\n      <td>0.0</td>\n      <td>0.458</td>\n      <td>7.147</td>\n      <td>54.2</td>\n      <td>6.0622</td>\n      <td>3.0</td>\n      <td>...</td>\n      <td>49284.0</td>\n      <td>4151.4</td>\n      <td>88111.80</td>\n      <td>1183.26</td>\n      <td>349.69</td>\n      <td>7422.030</td>\n      <td>99.671</td>\n      <td>157529.6100</td>\n      <td>2115.4770</td>\n      <td>28.4089</td>\n    </tr>\n    <tr>\n      <th>...</th>\n      <td>...</td>\n      <td>...</td>\n      <td>...</td>\n      <td>...</td>\n      <td>...</td>\n      <td>...</td>\n      <td>...</td>\n      <td>...</td>\n      <td>...</td>\n      <td>...</td>\n      <td>...</td>\n      <td>...</td>\n      <td>...</td>\n      <td>...</td>\n      <td>...</td>\n      <td>...</td>\n      <td>...</td>\n      <td>...</td>\n      <td>...</td>\n      <td>...</td>\n      <td>...</td>\n    </tr>\n    <tr>\n      <th>501</th>\n      <td>1.0</td>\n      <td>0.06263</td>\n      <td>0.0</td>\n      <td>11.93</td>\n      <td>0.0</td>\n      <td>0.573</td>\n      <td>6.593</td>\n      <td>69.1</td>\n      <td>2.4786</td>\n      <td>1.0</td>\n      <td>...</td>\n      <td>74529.0</td>\n      <td>5733.0</td>\n      <td>107013.27</td>\n      <td>2639.91</td>\n      <td>441.00</td>\n      <td>8231.790</td>\n      <td>203.070</td>\n      <td>153656.1601</td>\n      <td>3790.5433</td>\n      <td>93.5089</td>\n    </tr>\n    <tr>\n      <th>502</th>\n      <td>1.0</td>\n      <td>0.04527</td>\n      <td>0.0</td>\n      <td>11.93</td>\n      <td>0.0</td>\n      <td>0.573</td>\n      <td>6.120</td>\n      <td>76.7</td>\n      <td>2.2875</td>\n      <td>1.0</td>\n      <td>...</td>\n      <td>74529.0</td>\n      <td>5733.0</td>\n      <td>108353.70</td>\n      <td>2478.84</td>\n      <td>441.00</td>\n      <td>8334.900</td>\n      <td>190.680</td>\n      <td>157529.6100</td>\n      <td>3603.8520</td>\n      <td>82.4464</td>\n    </tr>\n    <tr>\n      <th>503</th>\n      <td>1.0</td>\n      <td>0.06076</td>\n      <td>0.0</td>\n      <td>11.93</td>\n      <td>0.0</td>\n      <td>0.573</td>\n      <td>6.976</td>\n      <td>91.0</td>\n      <td>2.1675</td>\n      <td>1.0</td>\n      <td>...</td>\n      <td>74529.0</td>\n      <td>5733.0</td>\n      <td>108353.70</td>\n      <td>1539.72</td>\n      <td>441.00</td>\n      <td>8334.900</td>\n      <td>118.440</td>\n      <td>157529.6100</td>\n      <td>2238.5160</td>\n      <td>31.8096</td>\n    </tr>\n    <tr>\n      <th>504</th>\n      <td>1.0</td>\n      <td>0.10959</td>\n      <td>0.0</td>\n      <td>11.93</td>\n      <td>0.0</td>\n      <td>0.573</td>\n      <td>6.794</td>\n      <td>89.3</td>\n      <td>2.3889</td>\n      <td>1.0</td>\n      <td>...</td>\n      <td>74529.0</td>\n      <td>5733.0</td>\n      <td>107411.85</td>\n      <td>1769.04</td>\n      <td>441.00</td>\n      <td>8262.450</td>\n      <td>136.080</td>\n      <td>154802.9025</td>\n      <td>2549.5560</td>\n      <td>41.9904</td>\n    </tr>\n    <tr>\n      <th>505</th>\n      <td>1.0</td>\n      <td>0.04741</td>\n      <td>0.0</td>\n      <td>11.93</td>\n      <td>0.0</td>\n      <td>0.573</td>\n      <td>6.030</td>\n      <td>80.8</td>\n      <td>2.5050</td>\n      <td>1.0</td>\n      <td>...</td>\n      <td>74529.0</td>\n      <td>5733.0</td>\n      <td>108353.70</td>\n      <td>2151.24</td>\n      <td>441.00</td>\n      <td>8334.900</td>\n      <td>165.480</td>\n      <td>157529.6100</td>\n      <td>3127.5720</td>\n      <td>62.0944</td>\n    </tr>\n  </tbody>\n</table>\n<p>506 rows × 105 columns</p>\n</div>"
     },
     "metadata": {},
     "execution_count": 29
    }
   ],
   "source": [
    "# 1은 bias라고 함\n",
    "X"
   ]
  },
  {
   "cell_type": "code",
   "execution_count": 31,
   "metadata": {},
   "outputs": [],
   "source": [
    "y = pd.DataFrame(boston_dataset.target, columns=['MEDV'])"
   ]
  },
  {
   "cell_type": "code",
   "execution_count": 33,
   "metadata": {},
   "outputs": [],
   "source": [
    "X_train, X_test, y_train, y_test = train_test_split(X, y, test_size = 0.2, random_state = 5)"
   ]
  },
  {
   "cell_type": "code",
   "execution_count": 34,
   "metadata": {},
   "outputs": [],
   "source": [
    "model = LinearRegression()"
   ]
  },
  {
   "cell_type": "code",
   "execution_count": 35,
   "metadata": {},
   "outputs": [
    {
     "output_type": "execute_result",
     "data": {
      "text/plain": [
       "LinearRegression()"
      ]
     },
     "metadata": {},
     "execution_count": 35
    }
   ],
   "source": [
    "model.fit(X_train, y_train)"
   ]
  },
  {
   "cell_type": "code",
   "execution_count": 36,
   "metadata": {},
   "outputs": [],
   "source": [
    "y_test_prediction = model.predict(X_test)"
   ]
  },
  {
   "cell_type": "code",
   "execution_count": 38,
   "metadata": {},
   "outputs": [
    {
     "output_type": "execute_result",
     "data": {
      "text/plain": [
       "3.1965276515260435"
      ]
     },
     "metadata": {},
     "execution_count": 38
    }
   ],
   "source": [
    "# 오차가 약 3천만원 정도 \n",
    "mean_squared_error(y_test, y_test_prediction) ** 0.5"
   ]
  }
 ]
}