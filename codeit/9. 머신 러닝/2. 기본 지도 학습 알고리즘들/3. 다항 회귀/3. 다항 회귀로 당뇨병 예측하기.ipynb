{
 "metadata": {
  "language_info": {
   "codemirror_mode": {
    "name": "ipython",
    "version": 3
   },
   "file_extension": ".py",
   "mimetype": "text/x-python",
   "name": "python",
   "nbconvert_exporter": "python",
   "pygments_lexer": "ipython3",
   "version": "3.8.8"
  },
  "orig_nbformat": 2,
  "kernelspec": {
   "name": "python388jvsc74a57bd08982ef49acba8bb73682744e15d1779c1b31b37f0f6a3d8343a5bde8a2886ca1",
   "display_name": "Python 3.8.8 64-bit"
  }
 },
 "nbformat": 4,
 "nbformat_minor": 2,
 "cells": [
  {
   "cell_type": "code",
   "execution_count": 1,
   "metadata": {},
   "outputs": [],
   "source": [
    "from sklearn.datasets import load_diabetes\n",
    "from sklearn.preprocessing import PolynomialFeatures\n",
    "from sklearn.model_selection import train_test_split\n",
    "from sklearn.linear_model import LinearRegression\n",
    "from sklearn.metrics import mean_squared_error\n",
    "\n",
    "import pandas as pd"
   ]
  },
  {
   "cell_type": "code",
   "execution_count": 3,
   "metadata": {},
   "outputs": [],
   "source": [
    "# 당뇨병 자료 불러오기\n",
    "diabetes_dataset = load_diabetes()"
   ]
  },
  {
   "cell_type": "code",
   "execution_count": 4,
   "metadata": {},
   "outputs": [],
   "source": [
    "# 2차식 변형기 정의\n",
    "polynomial_transformer = PolynomialFeatures(2)"
   ]
  },
  {
   "cell_type": "code",
   "execution_count": 5,
   "metadata": {},
   "outputs": [],
   "source": [
    "# 당뇨 데이터를 2차항 문제로 변환\n",
    "polynomial_dataset = polynomial_transformer.fit_transform(diabetes_dataset.data)"
   ]
  },
  {
   "cell_type": "code",
   "execution_count": 6,
   "metadata": {},
   "outputs": [],
   "source": [
    "# 입력 변수 이름들도 맞게 바꾼다\n",
    "polynomial_feature_names = polynomial_transformer.get_feature_names(diabetes_dataset.feature_names)"
   ]
  },
  {
   "cell_type": "code",
   "execution_count": 7,
   "metadata": {},
   "outputs": [],
   "source": [
    "X = pd.DataFrame(polynomial_dataset, columns = polynomial_feature_names)"
   ]
  },
  {
   "cell_type": "code",
   "execution_count": 8,
   "metadata": {},
   "outputs": [
    {
     "output_type": "execute_result",
     "data": {
      "text/plain": [
       "       1       age       sex       bmi        bp        s1        s2  \\\n",
       "0    1.0  0.038076  0.050680  0.061696  0.021872 -0.044223 -0.034821   \n",
       "1    1.0 -0.001882 -0.044642 -0.051474 -0.026328 -0.008449 -0.019163   \n",
       "2    1.0  0.085299  0.050680  0.044451 -0.005671 -0.045599 -0.034194   \n",
       "3    1.0 -0.089063 -0.044642 -0.011595 -0.036656  0.012191  0.024991   \n",
       "4    1.0  0.005383 -0.044642 -0.036385  0.021872  0.003935  0.015596   \n",
       "..   ...       ...       ...       ...       ...       ...       ...   \n",
       "437  1.0  0.041708  0.050680  0.019662  0.059744 -0.005697 -0.002566   \n",
       "438  1.0 -0.005515  0.050680 -0.015906 -0.067642  0.049341  0.079165   \n",
       "439  1.0  0.041708  0.050680 -0.015906  0.017282 -0.037344 -0.013840   \n",
       "440  1.0 -0.045472 -0.044642  0.039062  0.001215  0.016318  0.015283   \n",
       "441  1.0 -0.045472 -0.044642 -0.073030 -0.081414  0.083740  0.027809   \n",
       "\n",
       "           s3        s4        s5  ...      s3^2     s3 s4     s3 s5  \\\n",
       "0   -0.043401 -0.002592  0.019908  ...  0.001884  0.000113 -0.000864   \n",
       "1    0.074412 -0.039493 -0.068330  ...  0.005537 -0.002939 -0.005085   \n",
       "2   -0.032356 -0.002592  0.002864  ...  0.001047  0.000084 -0.000093   \n",
       "3   -0.036038  0.034309  0.022692  ...  0.001299 -0.001236 -0.000818   \n",
       "4    0.008142 -0.002592 -0.031991  ...  0.000066 -0.000021 -0.000260   \n",
       "..        ...       ...       ...  ...       ...       ...       ...   \n",
       "437 -0.028674 -0.002592  0.031193  ...  0.000822  0.000074 -0.000894   \n",
       "438 -0.028674  0.034309 -0.018118  ...  0.000822 -0.000984  0.000520   \n",
       "439 -0.024993 -0.011080 -0.046879  ...  0.000625  0.000277  0.001172   \n",
       "440 -0.028674  0.026560  0.044528  ...  0.000822 -0.000762 -0.001277   \n",
       "441  0.173816 -0.039493 -0.004220  ...  0.030212 -0.006865 -0.000733   \n",
       "\n",
       "        s3 s6      s4^2     s4 s5     s4 s6      s5^2     s5 s6      s6^2  \n",
       "0    0.000766  0.000007 -0.000052  0.000046  0.000396 -0.000351  0.000311  \n",
       "1   -0.006861  0.001560  0.002699  0.003641  0.004669  0.006300  0.008502  \n",
       "2    0.000839  0.000007 -0.000007  0.000067  0.000008 -0.000074  0.000672  \n",
       "3    0.000337  0.001177  0.000779 -0.000321  0.000515 -0.000212  0.000088  \n",
       "4   -0.000380  0.000007  0.000083  0.000121  0.001023  0.001492  0.002175  \n",
       "..        ...       ...       ...       ...       ...       ...       ...  \n",
       "437 -0.000207  0.000007 -0.000081 -0.000019  0.000973  0.000225  0.000052  \n",
       "438 -0.001276  0.001177 -0.000622  0.001526  0.000328 -0.000806  0.001979  \n",
       "439 -0.000387  0.000123  0.000519 -0.000172  0.002198 -0.000726  0.000240  \n",
       "440  0.000744  0.000705  0.001183 -0.000689  0.001983 -0.001155  0.000672  \n",
       "441  0.000533  0.001560  0.000167 -0.000121  0.000018 -0.000013  0.000009  \n",
       "\n",
       "[442 rows x 66 columns]"
      ],
      "text/html": "<div>\n<style scoped>\n    .dataframe tbody tr th:only-of-type {\n        vertical-align: middle;\n    }\n\n    .dataframe tbody tr th {\n        vertical-align: top;\n    }\n\n    .dataframe thead th {\n        text-align: right;\n    }\n</style>\n<table border=\"1\" class=\"dataframe\">\n  <thead>\n    <tr style=\"text-align: right;\">\n      <th></th>\n      <th>1</th>\n      <th>age</th>\n      <th>sex</th>\n      <th>bmi</th>\n      <th>bp</th>\n      <th>s1</th>\n      <th>s2</th>\n      <th>s3</th>\n      <th>s4</th>\n      <th>s5</th>\n      <th>...</th>\n      <th>s3^2</th>\n      <th>s3 s4</th>\n      <th>s3 s5</th>\n      <th>s3 s6</th>\n      <th>s4^2</th>\n      <th>s4 s5</th>\n      <th>s4 s6</th>\n      <th>s5^2</th>\n      <th>s5 s6</th>\n      <th>s6^2</th>\n    </tr>\n  </thead>\n  <tbody>\n    <tr>\n      <th>0</th>\n      <td>1.0</td>\n      <td>0.038076</td>\n      <td>0.050680</td>\n      <td>0.061696</td>\n      <td>0.021872</td>\n      <td>-0.044223</td>\n      <td>-0.034821</td>\n      <td>-0.043401</td>\n      <td>-0.002592</td>\n      <td>0.019908</td>\n      <td>...</td>\n      <td>0.001884</td>\n      <td>0.000113</td>\n      <td>-0.000864</td>\n      <td>0.000766</td>\n      <td>0.000007</td>\n      <td>-0.000052</td>\n      <td>0.000046</td>\n      <td>0.000396</td>\n      <td>-0.000351</td>\n      <td>0.000311</td>\n    </tr>\n    <tr>\n      <th>1</th>\n      <td>1.0</td>\n      <td>-0.001882</td>\n      <td>-0.044642</td>\n      <td>-0.051474</td>\n      <td>-0.026328</td>\n      <td>-0.008449</td>\n      <td>-0.019163</td>\n      <td>0.074412</td>\n      <td>-0.039493</td>\n      <td>-0.068330</td>\n      <td>...</td>\n      <td>0.005537</td>\n      <td>-0.002939</td>\n      <td>-0.005085</td>\n      <td>-0.006861</td>\n      <td>0.001560</td>\n      <td>0.002699</td>\n      <td>0.003641</td>\n      <td>0.004669</td>\n      <td>0.006300</td>\n      <td>0.008502</td>\n    </tr>\n    <tr>\n      <th>2</th>\n      <td>1.0</td>\n      <td>0.085299</td>\n      <td>0.050680</td>\n      <td>0.044451</td>\n      <td>-0.005671</td>\n      <td>-0.045599</td>\n      <td>-0.034194</td>\n      <td>-0.032356</td>\n      <td>-0.002592</td>\n      <td>0.002864</td>\n      <td>...</td>\n      <td>0.001047</td>\n      <td>0.000084</td>\n      <td>-0.000093</td>\n      <td>0.000839</td>\n      <td>0.000007</td>\n      <td>-0.000007</td>\n      <td>0.000067</td>\n      <td>0.000008</td>\n      <td>-0.000074</td>\n      <td>0.000672</td>\n    </tr>\n    <tr>\n      <th>3</th>\n      <td>1.0</td>\n      <td>-0.089063</td>\n      <td>-0.044642</td>\n      <td>-0.011595</td>\n      <td>-0.036656</td>\n      <td>0.012191</td>\n      <td>0.024991</td>\n      <td>-0.036038</td>\n      <td>0.034309</td>\n      <td>0.022692</td>\n      <td>...</td>\n      <td>0.001299</td>\n      <td>-0.001236</td>\n      <td>-0.000818</td>\n      <td>0.000337</td>\n      <td>0.001177</td>\n      <td>0.000779</td>\n      <td>-0.000321</td>\n      <td>0.000515</td>\n      <td>-0.000212</td>\n      <td>0.000088</td>\n    </tr>\n    <tr>\n      <th>4</th>\n      <td>1.0</td>\n      <td>0.005383</td>\n      <td>-0.044642</td>\n      <td>-0.036385</td>\n      <td>0.021872</td>\n      <td>0.003935</td>\n      <td>0.015596</td>\n      <td>0.008142</td>\n      <td>-0.002592</td>\n      <td>-0.031991</td>\n      <td>...</td>\n      <td>0.000066</td>\n      <td>-0.000021</td>\n      <td>-0.000260</td>\n      <td>-0.000380</td>\n      <td>0.000007</td>\n      <td>0.000083</td>\n      <td>0.000121</td>\n      <td>0.001023</td>\n      <td>0.001492</td>\n      <td>0.002175</td>\n    </tr>\n    <tr>\n      <th>...</th>\n      <td>...</td>\n      <td>...</td>\n      <td>...</td>\n      <td>...</td>\n      <td>...</td>\n      <td>...</td>\n      <td>...</td>\n      <td>...</td>\n      <td>...</td>\n      <td>...</td>\n      <td>...</td>\n      <td>...</td>\n      <td>...</td>\n      <td>...</td>\n      <td>...</td>\n      <td>...</td>\n      <td>...</td>\n      <td>...</td>\n      <td>...</td>\n      <td>...</td>\n      <td>...</td>\n    </tr>\n    <tr>\n      <th>437</th>\n      <td>1.0</td>\n      <td>0.041708</td>\n      <td>0.050680</td>\n      <td>0.019662</td>\n      <td>0.059744</td>\n      <td>-0.005697</td>\n      <td>-0.002566</td>\n      <td>-0.028674</td>\n      <td>-0.002592</td>\n      <td>0.031193</td>\n      <td>...</td>\n      <td>0.000822</td>\n      <td>0.000074</td>\n      <td>-0.000894</td>\n      <td>-0.000207</td>\n      <td>0.000007</td>\n      <td>-0.000081</td>\n      <td>-0.000019</td>\n      <td>0.000973</td>\n      <td>0.000225</td>\n      <td>0.000052</td>\n    </tr>\n    <tr>\n      <th>438</th>\n      <td>1.0</td>\n      <td>-0.005515</td>\n      <td>0.050680</td>\n      <td>-0.015906</td>\n      <td>-0.067642</td>\n      <td>0.049341</td>\n      <td>0.079165</td>\n      <td>-0.028674</td>\n      <td>0.034309</td>\n      <td>-0.018118</td>\n      <td>...</td>\n      <td>0.000822</td>\n      <td>-0.000984</td>\n      <td>0.000520</td>\n      <td>-0.001276</td>\n      <td>0.001177</td>\n      <td>-0.000622</td>\n      <td>0.001526</td>\n      <td>0.000328</td>\n      <td>-0.000806</td>\n      <td>0.001979</td>\n    </tr>\n    <tr>\n      <th>439</th>\n      <td>1.0</td>\n      <td>0.041708</td>\n      <td>0.050680</td>\n      <td>-0.015906</td>\n      <td>0.017282</td>\n      <td>-0.037344</td>\n      <td>-0.013840</td>\n      <td>-0.024993</td>\n      <td>-0.011080</td>\n      <td>-0.046879</td>\n      <td>...</td>\n      <td>0.000625</td>\n      <td>0.000277</td>\n      <td>0.001172</td>\n      <td>-0.000387</td>\n      <td>0.000123</td>\n      <td>0.000519</td>\n      <td>-0.000172</td>\n      <td>0.002198</td>\n      <td>-0.000726</td>\n      <td>0.000240</td>\n    </tr>\n    <tr>\n      <th>440</th>\n      <td>1.0</td>\n      <td>-0.045472</td>\n      <td>-0.044642</td>\n      <td>0.039062</td>\n      <td>0.001215</td>\n      <td>0.016318</td>\n      <td>0.015283</td>\n      <td>-0.028674</td>\n      <td>0.026560</td>\n      <td>0.044528</td>\n      <td>...</td>\n      <td>0.000822</td>\n      <td>-0.000762</td>\n      <td>-0.001277</td>\n      <td>0.000744</td>\n      <td>0.000705</td>\n      <td>0.001183</td>\n      <td>-0.000689</td>\n      <td>0.001983</td>\n      <td>-0.001155</td>\n      <td>0.000672</td>\n    </tr>\n    <tr>\n      <th>441</th>\n      <td>1.0</td>\n      <td>-0.045472</td>\n      <td>-0.044642</td>\n      <td>-0.073030</td>\n      <td>-0.081414</td>\n      <td>0.083740</td>\n      <td>0.027809</td>\n      <td>0.173816</td>\n      <td>-0.039493</td>\n      <td>-0.004220</td>\n      <td>...</td>\n      <td>0.030212</td>\n      <td>-0.006865</td>\n      <td>-0.000733</td>\n      <td>0.000533</td>\n      <td>0.001560</td>\n      <td>0.000167</td>\n      <td>-0.000121</td>\n      <td>0.000018</td>\n      <td>-0.000013</td>\n      <td>0.000009</td>\n    </tr>\n  </tbody>\n</table>\n<p>442 rows × 66 columns</p>\n</div>"
     },
     "metadata": {},
     "execution_count": 8
    }
   ],
   "source": [
    "X"
   ]
  },
  {
   "cell_type": "code",
   "execution_count": 15,
   "metadata": {},
   "outputs": [],
   "source": [
    "y = pd.DataFrame(diabetes_dataset.target, columns=['diabetes'])"
   ]
  },
  {
   "cell_type": "code",
   "execution_count": 16,
   "metadata": {},
   "outputs": [],
   "source": [
    "X_train, X_test, y_train, y_test = train_test_split(X, y, test_size = 0.2, random_state = 5)"
   ]
  },
  {
   "cell_type": "code",
   "execution_count": 17,
   "metadata": {},
   "outputs": [],
   "source": [
    "model = LinearRegression()"
   ]
  },
  {
   "cell_type": "code",
   "execution_count": 18,
   "metadata": {},
   "outputs": [
    {
     "output_type": "execute_result",
     "data": {
      "text/plain": [
       "LinearRegression()"
      ]
     },
     "metadata": {},
     "execution_count": 18
    }
   ],
   "source": [
    "model.fit(X_train, y_train)"
   ]
  },
  {
   "cell_type": "code",
   "execution_count": 19,
   "metadata": {},
   "outputs": [],
   "source": [
    "y_test_predict = model.predict(X_test)"
   ]
  },
  {
   "cell_type": "code",
   "execution_count": 20,
   "metadata": {},
   "outputs": [
    {
     "output_type": "execute_result",
     "data": {
      "text/plain": [
       "57.87704902724972"
      ]
     },
     "metadata": {},
     "execution_count": 20
    }
   ],
   "source": [
    "mean_squared_error(y_test, y_test_predict) ** 0.5"
   ]
  },
  {
   "cell_type": "code",
   "execution_count": null,
   "metadata": {},
   "outputs": [],
   "source": []
  }
 ]
}