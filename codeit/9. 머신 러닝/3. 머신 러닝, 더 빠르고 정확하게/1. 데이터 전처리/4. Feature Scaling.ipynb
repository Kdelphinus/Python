{
 "metadata": {
  "language_info": {
   "codemirror_mode": {
    "name": "ipython",
    "version": 3
   },
   "file_extension": ".py",
   "mimetype": "text/x-python",
   "name": "python",
   "nbconvert_exporter": "python",
   "pygments_lexer": "ipython3",
   "version": "3.8.8"
  },
  "orig_nbformat": 2,
  "kernelspec": {
   "name": "python388jvsc74a57bd08982ef49acba8bb73682744e15d1779c1b31b37f0f6a3d8343a5bde8a2886ca1",
   "display_name": "Python 3.8.8 64-bit ('Python_VScode': conda)"
  }
 },
 "nbformat": 4,
 "nbformat_minor": 2,
 "cells": [
  {
   "cell_type": "code",
   "execution_count": 17,
   "metadata": {},
   "outputs": [],
   "source": [
    "from sklearn import preprocessing\n",
    "import pandas as pd"
   ]
  },
  {
   "cell_type": "code",
   "execution_count": 18,
   "metadata": {},
   "outputs": [],
   "source": [
    "PATIENT_FILE_PATH = 'data/liver_patient_data.csv'\n",
    "pd.set_option('display.float_format', lambda x: '%.5f' % x)"
   ]
  },
  {
   "cell_type": "code",
   "execution_count": 19,
   "metadata": {},
   "outputs": [],
   "source": [
    "liver_patients_df = pd.read_csv(PATIENT_FILE_PATH)"
   ]
  },
  {
   "cell_type": "code",
   "execution_count": 20,
   "metadata": {},
   "outputs": [],
   "source": [
    "features_to_normalize = ['Total_Bilirubin','Direct_Bilirubin', 'Alkaline_Phosphotase', 'Alamine_Aminotransferase']\n",
    "\n",
    "features_to_normalize_df = liver_patients_df[features_to_normalize]"
   ]
  },
  {
   "cell_type": "code",
   "execution_count": 21,
   "metadata": {},
   "outputs": [],
   "source": [
    "minmaxScaler = preprocessing.MinMaxScaler()\n",
    "normalized_data = minmaxScaler.fit_transform(features_to_normalize_df)"
   ]
  },
  {
   "cell_type": "code",
   "execution_count": 29,
   "metadata": {},
   "outputs": [],
   "source": [
    "normalized_df = pd.DataFrame(normalized_data, columns = features_to_normalize)"
   ]
  },
  {
   "cell_type": "code",
   "execution_count": 30,
   "metadata": {},
   "outputs": [
    {
     "output_type": "execute_result",
     "data": {
      "text/plain": [
       "       Total_Bilirubin  Direct_Bilirubin  Alkaline_Phosphotase  \\\n",
       "count        579.00000         579.00000             579.00000   \n",
       "mean           0.03908           0.07113               0.11156   \n",
       "std            0.08348           0.14370               0.11898   \n",
       "min            0.00000           0.00000               0.00000   \n",
       "25%            0.00536           0.00510               0.05496   \n",
       "50%            0.00804           0.01020               0.07084   \n",
       "75%            0.02949           0.06122               0.11480   \n",
       "max            1.00000           1.00000               1.00000   \n",
       "\n",
       "       Alamine_Aminotransferase  \n",
       "count                 579.00000  \n",
       "mean                    0.03574  \n",
       "std                     0.09205  \n",
       "min                     0.00000  \n",
       "25%                     0.00653  \n",
       "50%                     0.01256  \n",
       "75%                     0.02563  \n",
       "max                     1.00000  "
      ],
      "text/html": "<div>\n<style scoped>\n    .dataframe tbody tr th:only-of-type {\n        vertical-align: middle;\n    }\n\n    .dataframe tbody tr th {\n        vertical-align: top;\n    }\n\n    .dataframe thead th {\n        text-align: right;\n    }\n</style>\n<table border=\"1\" class=\"dataframe\">\n  <thead>\n    <tr style=\"text-align: right;\">\n      <th></th>\n      <th>Total_Bilirubin</th>\n      <th>Direct_Bilirubin</th>\n      <th>Alkaline_Phosphotase</th>\n      <th>Alamine_Aminotransferase</th>\n    </tr>\n  </thead>\n  <tbody>\n    <tr>\n      <th>count</th>\n      <td>579.00000</td>\n      <td>579.00000</td>\n      <td>579.00000</td>\n      <td>579.00000</td>\n    </tr>\n    <tr>\n      <th>mean</th>\n      <td>0.03908</td>\n      <td>0.07113</td>\n      <td>0.11156</td>\n      <td>0.03574</td>\n    </tr>\n    <tr>\n      <th>std</th>\n      <td>0.08348</td>\n      <td>0.14370</td>\n      <td>0.11898</td>\n      <td>0.09205</td>\n    </tr>\n    <tr>\n      <th>min</th>\n      <td>0.00000</td>\n      <td>0.00000</td>\n      <td>0.00000</td>\n      <td>0.00000</td>\n    </tr>\n    <tr>\n      <th>25%</th>\n      <td>0.00536</td>\n      <td>0.00510</td>\n      <td>0.05496</td>\n      <td>0.00653</td>\n    </tr>\n    <tr>\n      <th>50%</th>\n      <td>0.00804</td>\n      <td>0.01020</td>\n      <td>0.07084</td>\n      <td>0.01256</td>\n    </tr>\n    <tr>\n      <th>75%</th>\n      <td>0.02949</td>\n      <td>0.06122</td>\n      <td>0.11480</td>\n      <td>0.02563</td>\n    </tr>\n    <tr>\n      <th>max</th>\n      <td>1.00000</td>\n      <td>1.00000</td>\n      <td>1.00000</td>\n      <td>1.00000</td>\n    </tr>\n  </tbody>\n</table>\n</div>"
     },
     "metadata": {},
     "execution_count": 30
    }
   ],
   "source": [
    "normalized_df.describe()"
   ]
  },
  {
   "cell_type": "code",
   "execution_count": null,
   "metadata": {},
   "outputs": [],
   "source": []
  }
 ]
}