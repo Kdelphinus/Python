{
 "metadata": {
  "language_info": {
   "codemirror_mode": {
    "name": "ipython",
    "version": 3
   },
   "file_extension": ".py",
   "mimetype": "text/x-python",
   "name": "python",
   "nbconvert_exporter": "python",
   "pygments_lexer": "ipython3",
   "version": "3.8.8"
  },
  "orig_nbformat": 2,
  "kernelspec": {
   "name": "python388jvsc74a57bd08982ef49acba8bb73682744e15d1779c1b31b37f0f6a3d8343a5bde8a2886ca1",
   "display_name": "Python 3.8.8 64-bit ('Python_VScode': conda)"
  }
 },
 "nbformat": 4,
 "nbformat_minor": 2,
 "cells": [
  {
   "cell_type": "code",
   "execution_count": 1,
   "metadata": {},
   "outputs": [],
   "source": [
    "from sklearn.linear_model import LogisticRegression\n",
    "from sklearn.model_selection import cross_val_score\n",
    "\n",
    "import numpy as np\n",
    "import pandas as pd"
   ]
  },
  {
   "cell_type": "code",
   "execution_count": 2,
   "metadata": {},
   "outputs": [
    {
     "output_type": "execute_result",
     "data": {
      "text/plain": [
       "  Favorite Color Favorite Music Genre Favorite Beverage Favorite Soft Drink  \\\n",
       "0           Cool                 Rock             Vodka          7UP/Sprite   \n",
       "1        Neutral              Hip hop             Vodka     Coca Cola/Pepsi   \n",
       "2           Warm                 Rock              Wine     Coca Cola/Pepsi   \n",
       "3           Warm     Folk/Traditional           Whiskey               Fanta   \n",
       "4           Cool                 Rock             Vodka     Coca Cola/Pepsi   \n",
       "\n",
       "  Gender  \n",
       "0      F  \n",
       "1      F  \n",
       "2      F  \n",
       "3      F  \n",
       "4      F  "
      ],
      "text/html": "<div>\n<style scoped>\n    .dataframe tbody tr th:only-of-type {\n        vertical-align: middle;\n    }\n\n    .dataframe tbody tr th {\n        vertical-align: top;\n    }\n\n    .dataframe thead th {\n        text-align: right;\n    }\n</style>\n<table border=\"1\" class=\"dataframe\">\n  <thead>\n    <tr style=\"text-align: right;\">\n      <th></th>\n      <th>Favorite Color</th>\n      <th>Favorite Music Genre</th>\n      <th>Favorite Beverage</th>\n      <th>Favorite Soft Drink</th>\n      <th>Gender</th>\n    </tr>\n  </thead>\n  <tbody>\n    <tr>\n      <th>0</th>\n      <td>Cool</td>\n      <td>Rock</td>\n      <td>Vodka</td>\n      <td>7UP/Sprite</td>\n      <td>F</td>\n    </tr>\n    <tr>\n      <th>1</th>\n      <td>Neutral</td>\n      <td>Hip hop</td>\n      <td>Vodka</td>\n      <td>Coca Cola/Pepsi</td>\n      <td>F</td>\n    </tr>\n    <tr>\n      <th>2</th>\n      <td>Warm</td>\n      <td>Rock</td>\n      <td>Wine</td>\n      <td>Coca Cola/Pepsi</td>\n      <td>F</td>\n    </tr>\n    <tr>\n      <th>3</th>\n      <td>Warm</td>\n      <td>Folk/Traditional</td>\n      <td>Whiskey</td>\n      <td>Fanta</td>\n      <td>F</td>\n    </tr>\n    <tr>\n      <th>4</th>\n      <td>Cool</td>\n      <td>Rock</td>\n      <td>Vodka</td>\n      <td>Coca Cola/Pepsi</td>\n      <td>F</td>\n    </tr>\n  </tbody>\n</table>\n</div>"
     },
     "metadata": {},
     "execution_count": 2
    }
   ],
   "source": [
    "GENDER_FILE_PATH = 'data/gender.csv'\n",
    "gender_df = pd.read_csv(GENDER_FILE_PATH)\n",
    "gender_df.head()"
   ]
  },
  {
   "cell_type": "code",
   "execution_count": 3,
   "metadata": {},
   "outputs": [],
   "source": [
    "X = pd.get_dummies(gender_df.drop(['Gender'], axis=1))  # 입력 변수를 one-hot encoding\n",
    "y = gender_df[['Gender']].values.ravel()  # 목표 변수를 numpy array로 바꿈"
   ]
  },
  {
   "cell_type": "code",
   "execution_count": 5,
   "metadata": {},
   "outputs": [
    {
     "output_type": "execute_result",
     "data": {
      "text/plain": [
       "0.531868131868132"
      ]
     },
     "metadata": {},
     "execution_count": 5
    }
   ],
   "source": [
    "logistic_model = LogisticRegression(solver='saga', max_iter=2000)\n",
    "\n",
    "k_fold_score = np.average(cross_val_score(logistic_model, X, y, cv=5))\n",
    "k_fold_score"
   ]
  },
  {
   "cell_type": "code",
   "execution_count": null,
   "metadata": {},
   "outputs": [],
   "source": []
  }
 ]
}