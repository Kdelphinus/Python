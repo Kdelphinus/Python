{
 "metadata": {
  "language_info": {
   "codemirror_mode": {
    "name": "ipython",
    "version": 3
   },
   "file_extension": ".py",
   "mimetype": "text/x-python",
   "name": "python",
   "nbconvert_exporter": "python",
   "pygments_lexer": "ipython3",
   "version": "3.8.8"
  },
  "orig_nbformat": 2,
  "kernelspec": {
   "name": "python388jvsc74a57bd08982ef49acba8bb73682744e15d1779c1b31b37f0f6a3d8343a5bde8a2886ca1",
   "display_name": "Python 3.8.8 64-bit ('Python_VScode': conda)"
  }
 },
 "nbformat": 4,
 "nbformat_minor": 2,
 "cells": [
  {
   "cell_type": "code",
   "execution_count": 1,
   "metadata": {},
   "outputs": [],
   "source": [
    "import pandas as pd"
   ]
  },
  {
   "cell_type": "code",
   "execution_count": 2,
   "metadata": {},
   "outputs": [],
   "source": [
    "df = pd.read_csv('data/attendance.csv', index_col = 0)"
   ]
  },
  {
   "cell_type": "code",
   "execution_count": 3,
   "metadata": {},
   "outputs": [
    {
     "output_type": "execute_result",
     "data": {
      "text/plain": [
       "         야구     축구      배구  남자농구  여자농구\n",
       "연도                                    \n",
       "2008  10881  11642  1253.0  4208  1329\n",
       "2009  11562  10983  1471.0  4152  1206\n",
       "2010  11402  12873     NaN  3870   705\n",
       "2011  13055  10709  1774.0  3955  1445\n",
       "2012  13747   7157     NaN  4537  1150\n",
       "2013  11373   7656     NaN  4092  1237\n",
       "2014  11429   8115  1967.0  4458  1417\n",
       "2015  10357   7720  2311.0  3953  1480\n",
       "2016  11583   7854  2336.0  3543  1425\n",
       "2017  11668   6502  2425.0  3188  1097"
      ],
      "text/html": "<div>\n<style scoped>\n    .dataframe tbody tr th:only-of-type {\n        vertical-align: middle;\n    }\n\n    .dataframe tbody tr th {\n        vertical-align: top;\n    }\n\n    .dataframe thead th {\n        text-align: right;\n    }\n</style>\n<table border=\"1\" class=\"dataframe\">\n  <thead>\n    <tr style=\"text-align: right;\">\n      <th></th>\n      <th>야구</th>\n      <th>축구</th>\n      <th>배구</th>\n      <th>남자농구</th>\n      <th>여자농구</th>\n    </tr>\n    <tr>\n      <th>연도</th>\n      <th></th>\n      <th></th>\n      <th></th>\n      <th></th>\n      <th></th>\n    </tr>\n  </thead>\n  <tbody>\n    <tr>\n      <th>2008</th>\n      <td>10881</td>\n      <td>11642</td>\n      <td>1253.0</td>\n      <td>4208</td>\n      <td>1329</td>\n    </tr>\n    <tr>\n      <th>2009</th>\n      <td>11562</td>\n      <td>10983</td>\n      <td>1471.0</td>\n      <td>4152</td>\n      <td>1206</td>\n    </tr>\n    <tr>\n      <th>2010</th>\n      <td>11402</td>\n      <td>12873</td>\n      <td>NaN</td>\n      <td>3870</td>\n      <td>705</td>\n    </tr>\n    <tr>\n      <th>2011</th>\n      <td>13055</td>\n      <td>10709</td>\n      <td>1774.0</td>\n      <td>3955</td>\n      <td>1445</td>\n    </tr>\n    <tr>\n      <th>2012</th>\n      <td>13747</td>\n      <td>7157</td>\n      <td>NaN</td>\n      <td>4537</td>\n      <td>1150</td>\n    </tr>\n    <tr>\n      <th>2013</th>\n      <td>11373</td>\n      <td>7656</td>\n      <td>NaN</td>\n      <td>4092</td>\n      <td>1237</td>\n    </tr>\n    <tr>\n      <th>2014</th>\n      <td>11429</td>\n      <td>8115</td>\n      <td>1967.0</td>\n      <td>4458</td>\n      <td>1417</td>\n    </tr>\n    <tr>\n      <th>2015</th>\n      <td>10357</td>\n      <td>7720</td>\n      <td>2311.0</td>\n      <td>3953</td>\n      <td>1480</td>\n    </tr>\n    <tr>\n      <th>2016</th>\n      <td>11583</td>\n      <td>7854</td>\n      <td>2336.0</td>\n      <td>3543</td>\n      <td>1425</td>\n    </tr>\n    <tr>\n      <th>2017</th>\n      <td>11668</td>\n      <td>6502</td>\n      <td>2425.0</td>\n      <td>3188</td>\n      <td>1097</td>\n    </tr>\n  </tbody>\n</table>\n</div>"
     },
     "metadata": {},
     "execution_count": 3
    }
   ],
   "source": [
    "df"
   ]
  },
  {
   "cell_type": "code",
   "execution_count": 6,
   "metadata": {},
   "outputs": [],
   "source": [
    "# 결측값이 있는 부분만 True\n",
    "# df.isnull()"
   ]
  },
  {
   "cell_type": "code",
   "execution_count": 5,
   "metadata": {},
   "outputs": [
    {
     "output_type": "execute_result",
     "data": {
      "text/plain": [
       "야구      0\n",
       "축구      0\n",
       "배구      3\n",
       "남자농구    0\n",
       "여자농구    0\n",
       "dtype: int64"
      ]
     },
     "metadata": {},
     "execution_count": 5
    }
   ],
   "source": [
    "# 결측값의 개수를 보여줌\n",
    "df.isnull().sum()"
   ]
  },
  {
   "cell_type": "code",
   "execution_count": 9,
   "metadata": {},
   "outputs": [
    {
     "output_type": "execute_result",
     "data": {
      "text/plain": [
       "         야구     축구      배구  남자농구  여자농구\n",
       "연도                                    \n",
       "2008  10881  11642  1253.0  4208  1329\n",
       "2009  11562  10983  1471.0  4152  1206\n",
       "2011  13055  10709  1774.0  3955  1445\n",
       "2014  11429   8115  1967.0  4458  1417\n",
       "2015  10357   7720  2311.0  3953  1480\n",
       "2016  11583   7854  2336.0  3543  1425\n",
       "2017  11668   6502  2425.0  3188  1097"
      ],
      "text/html": "<div>\n<style scoped>\n    .dataframe tbody tr th:only-of-type {\n        vertical-align: middle;\n    }\n\n    .dataframe tbody tr th {\n        vertical-align: top;\n    }\n\n    .dataframe thead th {\n        text-align: right;\n    }\n</style>\n<table border=\"1\" class=\"dataframe\">\n  <thead>\n    <tr style=\"text-align: right;\">\n      <th></th>\n      <th>야구</th>\n      <th>축구</th>\n      <th>배구</th>\n      <th>남자농구</th>\n      <th>여자농구</th>\n    </tr>\n    <tr>\n      <th>연도</th>\n      <th></th>\n      <th></th>\n      <th></th>\n      <th></th>\n      <th></th>\n    </tr>\n  </thead>\n  <tbody>\n    <tr>\n      <th>2008</th>\n      <td>10881</td>\n      <td>11642</td>\n      <td>1253.0</td>\n      <td>4208</td>\n      <td>1329</td>\n    </tr>\n    <tr>\n      <th>2009</th>\n      <td>11562</td>\n      <td>10983</td>\n      <td>1471.0</td>\n      <td>4152</td>\n      <td>1206</td>\n    </tr>\n    <tr>\n      <th>2011</th>\n      <td>13055</td>\n      <td>10709</td>\n      <td>1774.0</td>\n      <td>3955</td>\n      <td>1445</td>\n    </tr>\n    <tr>\n      <th>2014</th>\n      <td>11429</td>\n      <td>8115</td>\n      <td>1967.0</td>\n      <td>4458</td>\n      <td>1417</td>\n    </tr>\n    <tr>\n      <th>2015</th>\n      <td>10357</td>\n      <td>7720</td>\n      <td>2311.0</td>\n      <td>3953</td>\n      <td>1480</td>\n    </tr>\n    <tr>\n      <th>2016</th>\n      <td>11583</td>\n      <td>7854</td>\n      <td>2336.0</td>\n      <td>3543</td>\n      <td>1425</td>\n    </tr>\n    <tr>\n      <th>2017</th>\n      <td>11668</td>\n      <td>6502</td>\n      <td>2425.0</td>\n      <td>3188</td>\n      <td>1097</td>\n    </tr>\n  </tbody>\n</table>\n</div>"
     },
     "metadata": {},
     "execution_count": 9
    }
   ],
   "source": [
    "# NaN이 들어간 인덱스를 지운 새로운 데이터프레임을 만듬(즉, 원본 수정 안됨)\n",
    "df.dropna()\n",
    "#df.dropna(inplace=True) # 원본 데이터도 변경"
   ]
  },
  {
   "cell_type": "code",
   "execution_count": 17,
   "metadata": {},
   "outputs": [
    {
     "output_type": "execute_result",
     "data": {
      "text/plain": [
       "         야구     축구  남자농구  여자농구\n",
       "연도                            \n",
       "2008  10881  11642  4208  1329\n",
       "2009  11562  10983  4152  1206\n",
       "2010  11402  12873  3870   705\n",
       "2011  13055  10709  3955  1445\n",
       "2012  13747   7157  4537  1150\n",
       "2013  11373   7656  4092  1237\n",
       "2014  11429   8115  4458  1417\n",
       "2015  10357   7720  3953  1480\n",
       "2016  11583   7854  3543  1425\n",
       "2017  11668   6502  3188  1097"
      ],
      "text/html": "<div>\n<style scoped>\n    .dataframe tbody tr th:only-of-type {\n        vertical-align: middle;\n    }\n\n    .dataframe tbody tr th {\n        vertical-align: top;\n    }\n\n    .dataframe thead th {\n        text-align: right;\n    }\n</style>\n<table border=\"1\" class=\"dataframe\">\n  <thead>\n    <tr style=\"text-align: right;\">\n      <th></th>\n      <th>야구</th>\n      <th>축구</th>\n      <th>남자농구</th>\n      <th>여자농구</th>\n    </tr>\n    <tr>\n      <th>연도</th>\n      <th></th>\n      <th></th>\n      <th></th>\n      <th></th>\n    </tr>\n  </thead>\n  <tbody>\n    <tr>\n      <th>2008</th>\n      <td>10881</td>\n      <td>11642</td>\n      <td>4208</td>\n      <td>1329</td>\n    </tr>\n    <tr>\n      <th>2009</th>\n      <td>11562</td>\n      <td>10983</td>\n      <td>4152</td>\n      <td>1206</td>\n    </tr>\n    <tr>\n      <th>2010</th>\n      <td>11402</td>\n      <td>12873</td>\n      <td>3870</td>\n      <td>705</td>\n    </tr>\n    <tr>\n      <th>2011</th>\n      <td>13055</td>\n      <td>10709</td>\n      <td>3955</td>\n      <td>1445</td>\n    </tr>\n    <tr>\n      <th>2012</th>\n      <td>13747</td>\n      <td>7157</td>\n      <td>4537</td>\n      <td>1150</td>\n    </tr>\n    <tr>\n      <th>2013</th>\n      <td>11373</td>\n      <td>7656</td>\n      <td>4092</td>\n      <td>1237</td>\n    </tr>\n    <tr>\n      <th>2014</th>\n      <td>11429</td>\n      <td>8115</td>\n      <td>4458</td>\n      <td>1417</td>\n    </tr>\n    <tr>\n      <th>2015</th>\n      <td>10357</td>\n      <td>7720</td>\n      <td>3953</td>\n      <td>1480</td>\n    </tr>\n    <tr>\n      <th>2016</th>\n      <td>11583</td>\n      <td>7854</td>\n      <td>3543</td>\n      <td>1425</td>\n    </tr>\n    <tr>\n      <th>2017</th>\n      <td>11668</td>\n      <td>6502</td>\n      <td>3188</td>\n      <td>1097</td>\n    </tr>\n  </tbody>\n</table>\n</div>"
     },
     "metadata": {},
     "execution_count": 17
    }
   ],
   "source": [
    "# NaN이 들어간 컬럼을 지운 새로운 데이터프레임을 만듬\n",
    "df.dropna(axis='columns') "
   ]
  },
  {
   "cell_type": "code",
   "execution_count": 18,
   "metadata": {},
   "outputs": [
    {
     "output_type": "execute_result",
     "data": {
      "text/plain": [
       "         야구     축구      배구  남자농구  여자농구\n",
       "연도                                    \n",
       "2008  10881  11642  1253.0  4208  1329\n",
       "2009  11562  10983  1471.0  4152  1206\n",
       "2010  11402  12873     0.0  3870   705\n",
       "2011  13055  10709  1774.0  3955  1445\n",
       "2012  13747   7157     0.0  4537  1150\n",
       "2013  11373   7656     0.0  4092  1237\n",
       "2014  11429   8115  1967.0  4458  1417\n",
       "2015  10357   7720  2311.0  3953  1480\n",
       "2016  11583   7854  2336.0  3543  1425\n",
       "2017  11668   6502  2425.0  3188  1097"
      ],
      "text/html": "<div>\n<style scoped>\n    .dataframe tbody tr th:only-of-type {\n        vertical-align: middle;\n    }\n\n    .dataframe tbody tr th {\n        vertical-align: top;\n    }\n\n    .dataframe thead th {\n        text-align: right;\n    }\n</style>\n<table border=\"1\" class=\"dataframe\">\n  <thead>\n    <tr style=\"text-align: right;\">\n      <th></th>\n      <th>야구</th>\n      <th>축구</th>\n      <th>배구</th>\n      <th>남자농구</th>\n      <th>여자농구</th>\n    </tr>\n    <tr>\n      <th>연도</th>\n      <th></th>\n      <th></th>\n      <th></th>\n      <th></th>\n      <th></th>\n    </tr>\n  </thead>\n  <tbody>\n    <tr>\n      <th>2008</th>\n      <td>10881</td>\n      <td>11642</td>\n      <td>1253.0</td>\n      <td>4208</td>\n      <td>1329</td>\n    </tr>\n    <tr>\n      <th>2009</th>\n      <td>11562</td>\n      <td>10983</td>\n      <td>1471.0</td>\n      <td>4152</td>\n      <td>1206</td>\n    </tr>\n    <tr>\n      <th>2010</th>\n      <td>11402</td>\n      <td>12873</td>\n      <td>0.0</td>\n      <td>3870</td>\n      <td>705</td>\n    </tr>\n    <tr>\n      <th>2011</th>\n      <td>13055</td>\n      <td>10709</td>\n      <td>1774.0</td>\n      <td>3955</td>\n      <td>1445</td>\n    </tr>\n    <tr>\n      <th>2012</th>\n      <td>13747</td>\n      <td>7157</td>\n      <td>0.0</td>\n      <td>4537</td>\n      <td>1150</td>\n    </tr>\n    <tr>\n      <th>2013</th>\n      <td>11373</td>\n      <td>7656</td>\n      <td>0.0</td>\n      <td>4092</td>\n      <td>1237</td>\n    </tr>\n    <tr>\n      <th>2014</th>\n      <td>11429</td>\n      <td>8115</td>\n      <td>1967.0</td>\n      <td>4458</td>\n      <td>1417</td>\n    </tr>\n    <tr>\n      <th>2015</th>\n      <td>10357</td>\n      <td>7720</td>\n      <td>2311.0</td>\n      <td>3953</td>\n      <td>1480</td>\n    </tr>\n    <tr>\n      <th>2016</th>\n      <td>11583</td>\n      <td>7854</td>\n      <td>2336.0</td>\n      <td>3543</td>\n      <td>1425</td>\n    </tr>\n    <tr>\n      <th>2017</th>\n      <td>11668</td>\n      <td>6502</td>\n      <td>2425.0</td>\n      <td>3188</td>\n      <td>1097</td>\n    </tr>\n  </tbody>\n</table>\n</div>"
     },
     "metadata": {},
     "execution_count": 18
    }
   ],
   "source": [
    "# 결측값을 ()안의 값으로 대체\n",
    "df.fillna(0)"
   ]
  },
  {
   "cell_type": "code",
   "execution_count": 21,
   "metadata": {},
   "outputs": [
    {
     "output_type": "execute_result",
     "data": {
      "text/plain": [
       "         야구     축구           배구  남자농구  여자농구\n",
       "연도                                         \n",
       "2008  10881  11642  1253.000000  4208  1329\n",
       "2009  11562  10983  1471.000000  4152  1206\n",
       "2010  11402  12873  1933.857143  3870   705\n",
       "2011  13055  10709  1774.000000  3955  1445\n",
       "2012  13747   7157  1933.857143  4537  1150\n",
       "2013  11373   7656  1933.857143  4092  1237\n",
       "2014  11429   8115  1967.000000  4458  1417\n",
       "2015  10357   7720  2311.000000  3953  1480\n",
       "2016  11583   7854  2336.000000  3543  1425\n",
       "2017  11668   6502  2425.000000  3188  1097"
      ],
      "text/html": "<div>\n<style scoped>\n    .dataframe tbody tr th:only-of-type {\n        vertical-align: middle;\n    }\n\n    .dataframe tbody tr th {\n        vertical-align: top;\n    }\n\n    .dataframe thead th {\n        text-align: right;\n    }\n</style>\n<table border=\"1\" class=\"dataframe\">\n  <thead>\n    <tr style=\"text-align: right;\">\n      <th></th>\n      <th>야구</th>\n      <th>축구</th>\n      <th>배구</th>\n      <th>남자농구</th>\n      <th>여자농구</th>\n    </tr>\n    <tr>\n      <th>연도</th>\n      <th></th>\n      <th></th>\n      <th></th>\n      <th></th>\n      <th></th>\n    </tr>\n  </thead>\n  <tbody>\n    <tr>\n      <th>2008</th>\n      <td>10881</td>\n      <td>11642</td>\n      <td>1253.000000</td>\n      <td>4208</td>\n      <td>1329</td>\n    </tr>\n    <tr>\n      <th>2009</th>\n      <td>11562</td>\n      <td>10983</td>\n      <td>1471.000000</td>\n      <td>4152</td>\n      <td>1206</td>\n    </tr>\n    <tr>\n      <th>2010</th>\n      <td>11402</td>\n      <td>12873</td>\n      <td>1933.857143</td>\n      <td>3870</td>\n      <td>705</td>\n    </tr>\n    <tr>\n      <th>2011</th>\n      <td>13055</td>\n      <td>10709</td>\n      <td>1774.000000</td>\n      <td>3955</td>\n      <td>1445</td>\n    </tr>\n    <tr>\n      <th>2012</th>\n      <td>13747</td>\n      <td>7157</td>\n      <td>1933.857143</td>\n      <td>4537</td>\n      <td>1150</td>\n    </tr>\n    <tr>\n      <th>2013</th>\n      <td>11373</td>\n      <td>7656</td>\n      <td>1933.857143</td>\n      <td>4092</td>\n      <td>1237</td>\n    </tr>\n    <tr>\n      <th>2014</th>\n      <td>11429</td>\n      <td>8115</td>\n      <td>1967.000000</td>\n      <td>4458</td>\n      <td>1417</td>\n    </tr>\n    <tr>\n      <th>2015</th>\n      <td>10357</td>\n      <td>7720</td>\n      <td>2311.000000</td>\n      <td>3953</td>\n      <td>1480</td>\n    </tr>\n    <tr>\n      <th>2016</th>\n      <td>11583</td>\n      <td>7854</td>\n      <td>2336.000000</td>\n      <td>3543</td>\n      <td>1425</td>\n    </tr>\n    <tr>\n      <th>2017</th>\n      <td>11668</td>\n      <td>6502</td>\n      <td>2425.000000</td>\n      <td>3188</td>\n      <td>1097</td>\n    </tr>\n  </tbody>\n</table>\n</div>"
     },
     "metadata": {},
     "execution_count": 21
    }
   ],
   "source": [
    "# 결측값을 평균으로 대체\n",
    "df.fillna(df.mean())"
   ]
  },
  {
   "cell_type": "code",
   "execution_count": 23,
   "metadata": {},
   "outputs": [
    {
     "output_type": "execute_result",
     "data": {
      "text/plain": [
       "         야구     축구      배구  남자농구  여자농구\n",
       "연도                                    \n",
       "2008  10881  11642  1253.0  4208  1329\n",
       "2009  11562  10983  1471.0  4152  1206\n",
       "2010  11402  12873  1967.0  3870   705\n",
       "2011  13055  10709  1774.0  3955  1445\n",
       "2012  13747   7157  1967.0  4537  1150\n",
       "2013  11373   7656  1967.0  4092  1237\n",
       "2014  11429   8115  1967.0  4458  1417\n",
       "2015  10357   7720  2311.0  3953  1480\n",
       "2016  11583   7854  2336.0  3543  1425\n",
       "2017  11668   6502  2425.0  3188  1097"
      ],
      "text/html": "<div>\n<style scoped>\n    .dataframe tbody tr th:only-of-type {\n        vertical-align: middle;\n    }\n\n    .dataframe tbody tr th {\n        vertical-align: top;\n    }\n\n    .dataframe thead th {\n        text-align: right;\n    }\n</style>\n<table border=\"1\" class=\"dataframe\">\n  <thead>\n    <tr style=\"text-align: right;\">\n      <th></th>\n      <th>야구</th>\n      <th>축구</th>\n      <th>배구</th>\n      <th>남자농구</th>\n      <th>여자농구</th>\n    </tr>\n    <tr>\n      <th>연도</th>\n      <th></th>\n      <th></th>\n      <th></th>\n      <th></th>\n      <th></th>\n    </tr>\n  </thead>\n  <tbody>\n    <tr>\n      <th>2008</th>\n      <td>10881</td>\n      <td>11642</td>\n      <td>1253.0</td>\n      <td>4208</td>\n      <td>1329</td>\n    </tr>\n    <tr>\n      <th>2009</th>\n      <td>11562</td>\n      <td>10983</td>\n      <td>1471.0</td>\n      <td>4152</td>\n      <td>1206</td>\n    </tr>\n    <tr>\n      <th>2010</th>\n      <td>11402</td>\n      <td>12873</td>\n      <td>1967.0</td>\n      <td>3870</td>\n      <td>705</td>\n    </tr>\n    <tr>\n      <th>2011</th>\n      <td>13055</td>\n      <td>10709</td>\n      <td>1774.0</td>\n      <td>3955</td>\n      <td>1445</td>\n    </tr>\n    <tr>\n      <th>2012</th>\n      <td>13747</td>\n      <td>7157</td>\n      <td>1967.0</td>\n      <td>4537</td>\n      <td>1150</td>\n    </tr>\n    <tr>\n      <th>2013</th>\n      <td>11373</td>\n      <td>7656</td>\n      <td>1967.0</td>\n      <td>4092</td>\n      <td>1237</td>\n    </tr>\n    <tr>\n      <th>2014</th>\n      <td>11429</td>\n      <td>8115</td>\n      <td>1967.0</td>\n      <td>4458</td>\n      <td>1417</td>\n    </tr>\n    <tr>\n      <th>2015</th>\n      <td>10357</td>\n      <td>7720</td>\n      <td>2311.0</td>\n      <td>3953</td>\n      <td>1480</td>\n    </tr>\n    <tr>\n      <th>2016</th>\n      <td>11583</td>\n      <td>7854</td>\n      <td>2336.0</td>\n      <td>3543</td>\n      <td>1425</td>\n    </tr>\n    <tr>\n      <th>2017</th>\n      <td>11668</td>\n      <td>6502</td>\n      <td>2425.0</td>\n      <td>3188</td>\n      <td>1097</td>\n    </tr>\n  </tbody>\n</table>\n</div>"
     },
     "metadata": {},
     "execution_count": 23
    }
   ],
   "source": [
    "# 결측값을 중간값으로 대체\n",
    "df.fillna(df.median())\n",
    "# df.fillna(df.median(), inplace=True) 원본에 반영한다"
   ]
  }
 ]
}