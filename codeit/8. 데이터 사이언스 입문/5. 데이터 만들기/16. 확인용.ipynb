{
 "metadata": {
  "language_info": {
   "codemirror_mode": {
    "name": "ipython",
    "version": 3
   },
   "file_extension": ".py",
   "mimetype": "text/x-python",
   "name": "python",
   "nbconvert_exporter": "python",
   "pygments_lexer": "ipython3",
   "version": "3.8.8"
  },
  "orig_nbformat": 2,
  "kernelspec": {
   "name": "python388jvsc74a57bd08982ef49acba8bb73682744e15d1779c1b31b37f0f6a3d8343a5bde8a2886ca1",
   "display_name": "Python 3.8.8 64-bit ('Python_VScode': conda)"
  }
 },
 "nbformat": 4,
 "nbformat_minor": 2,
 "cells": [
  {
   "cell_type": "code",
   "execution_count": 1,
   "metadata": {},
   "outputs": [],
   "source": [
    "import pandas as pd\n",
    "import requests\n",
    "from bs4 import BeautifulSoup\n",
    "import time\n",
    "\n",
    "# 페이지를 담을 리스트 생성\n",
    "rating_pages = []\n",
    "\n",
    "# header 생성\n",
    "headers = {\n",
    "    \"user-agent\": \"Mozilla/5.0 (Macintosh; Intel Mac OS X 11_2_3) AppleWebKit/537.36 (KHTML, like Gecko) Chrome/89.0.4389.114 Safari/537.36\",\n",
    "}\n",
    "\n",
    "years = list(range(2010, 2019))\n",
    "months = list(range(1, 13))\n",
    "weeks = list(range(0, 5))\n",
    "\n",
    "for year in years:\n",
    "    for month in months:\n",
    "        for week in weeks:\n",
    "            response = requests.get(\n",
    "                \"https://workey.codeit.kr/ratings/index?year=\"\n",
    "                + str(year)\n",
    "                + \"&month=\"\n",
    "                + str(month)\n",
    "                + \"&weekIndex=\"\n",
    "                + str(week),\n",
    "                headers=headers,\n",
    "            )\n",
    "            soup = BeautifulSoup(response.text, \"html.parser\")\n",
    "            if len(soup.select(\".row\")) > 1:\n",
    "                period = soup.select(\"#weekSelectBox > option\")\n",
    "                rank = soup.select(\".rank\")\n",
    "                chanel = soup.select(\".channel\")\n",
    "                program = soup.select(\".program\")\n",
    "                rating = soup.select(\".percent\")\n",
    "\n",
    "                # print(f\"len(rank): {len(rank)}\")\n",
    "                # print(f\"period : {period}\")\n",
    "                # print(f\"period[week] : {period[week]}\")\n",
    "                # print(f\"week : {week}\")\n",
    "                # print(f\"rank : {rank}\")\n",
    "                # print(f\"chanel : {chanel}\")\n",
    "                # print(f\"program : {program}\")\n",
    "                # print(f\"rating : {rating}\")\n",
    "\n",
    "                for i in range(1, len(rank)):\n",
    "                    record = []\n",
    "                    record.append(period[week].text.strip())\n",
    "                    record.append(rank[i].text.strip())\n",
    "                    record.append(chanel[i].text.strip())\n",
    "                    record.append(program[i].text.strip())\n",
    "                    record.append(rating[i].text.strip())\n",
    "                    rating_pages.append(record)\n",
    "                    # print(rating_pages[i - 1])"
   ]
  },
  {
   "cell_type": "code",
   "execution_count": 2,
   "metadata": {},
   "outputs": [
    {
     "output_type": "execute_result",
     "data": {
      "text/plain": [
       "                       period rank channel                      program rating\n",
       "0     2009.12.28 ~ 2010.01.03    1    KBS2                주말연속극(수상한삼형제)   33.4\n",
       "1     2009.12.28 ~ 2010.01.03    2    KBS1                일일연속극(다함께차차차)   33.1\n",
       "2     2009.12.28 ~ 2010.01.03    3    KBS2                        해피선데이   27.1\n",
       "3     2009.12.28 ~ 2010.01.03    4     MBC                    MBC연기대상2부   24.4\n",
       "4     2009.12.28 ~ 2010.01.03    5     SBS                 주말극장(천만번사랑해)   24.2\n",
       "...                       ...  ...     ...                          ...    ...\n",
       "4697  2018.12.24 ~ 2018.12.30    6     MBC                  MBC방송연예대상2부   18.3\n",
       "4698  2018.12.24 ~ 2018.12.30    7    KBS2                 일일드라마(끝까지사랑)   15.7\n",
       "4699  2018.12.24 ~ 2018.12.30    8     SBS  드라마스페셜(황후의품격THELASTEMPRESS)   15.4\n",
       "4700  2018.12.24 ~ 2018.12.30    9    KBS1                       전국노래자랑   15.2\n",
       "4701  2018.12.24 ~ 2018.12.30   10     MBC                  MBC방송연예대상1부   14.4\n",
       "\n",
       "[4702 rows x 5 columns]"
      ],
      "text/html": "<div>\n<style scoped>\n    .dataframe tbody tr th:only-of-type {\n        vertical-align: middle;\n    }\n\n    .dataframe tbody tr th {\n        vertical-align: top;\n    }\n\n    .dataframe thead th {\n        text-align: right;\n    }\n</style>\n<table border=\"1\" class=\"dataframe\">\n  <thead>\n    <tr style=\"text-align: right;\">\n      <th></th>\n      <th>period</th>\n      <th>rank</th>\n      <th>channel</th>\n      <th>program</th>\n      <th>rating</th>\n    </tr>\n  </thead>\n  <tbody>\n    <tr>\n      <th>0</th>\n      <td>2009.12.28 ~ 2010.01.03</td>\n      <td>1</td>\n      <td>KBS2</td>\n      <td>주말연속극(수상한삼형제)</td>\n      <td>33.4</td>\n    </tr>\n    <tr>\n      <th>1</th>\n      <td>2009.12.28 ~ 2010.01.03</td>\n      <td>2</td>\n      <td>KBS1</td>\n      <td>일일연속극(다함께차차차)</td>\n      <td>33.1</td>\n    </tr>\n    <tr>\n      <th>2</th>\n      <td>2009.12.28 ~ 2010.01.03</td>\n      <td>3</td>\n      <td>KBS2</td>\n      <td>해피선데이</td>\n      <td>27.1</td>\n    </tr>\n    <tr>\n      <th>3</th>\n      <td>2009.12.28 ~ 2010.01.03</td>\n      <td>4</td>\n      <td>MBC</td>\n      <td>MBC연기대상2부</td>\n      <td>24.4</td>\n    </tr>\n    <tr>\n      <th>4</th>\n      <td>2009.12.28 ~ 2010.01.03</td>\n      <td>5</td>\n      <td>SBS</td>\n      <td>주말극장(천만번사랑해)</td>\n      <td>24.2</td>\n    </tr>\n    <tr>\n      <th>...</th>\n      <td>...</td>\n      <td>...</td>\n      <td>...</td>\n      <td>...</td>\n      <td>...</td>\n    </tr>\n    <tr>\n      <th>4697</th>\n      <td>2018.12.24 ~ 2018.12.30</td>\n      <td>6</td>\n      <td>MBC</td>\n      <td>MBC방송연예대상2부</td>\n      <td>18.3</td>\n    </tr>\n    <tr>\n      <th>4698</th>\n      <td>2018.12.24 ~ 2018.12.30</td>\n      <td>7</td>\n      <td>KBS2</td>\n      <td>일일드라마(끝까지사랑)</td>\n      <td>15.7</td>\n    </tr>\n    <tr>\n      <th>4699</th>\n      <td>2018.12.24 ~ 2018.12.30</td>\n      <td>8</td>\n      <td>SBS</td>\n      <td>드라마스페셜(황후의품격THELASTEMPRESS)</td>\n      <td>15.4</td>\n    </tr>\n    <tr>\n      <th>4700</th>\n      <td>2018.12.24 ~ 2018.12.30</td>\n      <td>9</td>\n      <td>KBS1</td>\n      <td>전국노래자랑</td>\n      <td>15.2</td>\n    </tr>\n    <tr>\n      <th>4701</th>\n      <td>2018.12.24 ~ 2018.12.30</td>\n      <td>10</td>\n      <td>MBC</td>\n      <td>MBC방송연예대상1부</td>\n      <td>14.4</td>\n    </tr>\n  </tbody>\n</table>\n<p>4702 rows × 5 columns</p>\n</div>"
     },
     "metadata": {},
     "execution_count": 2
    }
   ],
   "source": [
    "# 결과 출력\n",
    "df = pd.DataFrame(data=rating_pages, columns=[\"period\", \"rank\", \"channel\", \"program\", \"rating\"])\n",
    "df"
   ]
  }
 ]
}