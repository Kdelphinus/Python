{
 "cells": [
  {
   "cell_type": "markdown",
   "metadata": {},
   "source": [
    "제목\n",
    "- # 1단계 제목\n",
    "- ## 2단계 제목\n",
    "- ### 3단계 제목\n",
    "- #### 4단계 제목\n",
    "- 일반 글"
   ]
  },
  {
   "cell_type": "markdown",
   "metadata": {},
   "source": [
    "번호가 있는 목록  \n",
    "1. 첫 번째 할일  \n",
    "2. 두 번째 할일\n",
    "3. 세 번째 할일"
   ]
  },
  {
   "cell_type": "markdown",
   "metadata": {},
   "source": [
    "번호가 없는 목록\n",
    "* 번호가 없는 목록\n",
    "- 번호가 없는 목록"
   ]
  },
  {
   "cell_type": "markdown",
   "metadata": {},
   "source": [
    "줄 바꿈\n",
    "- 문장 끝에 스페이스 두번이 줄 바꿈  \n",
    "아아아아"
   ]
  },
  {
   "cell_type": "markdown",
   "metadata": {},
   "source": [
    "문단 바꿈  \n",
    "문장 끝에서 enter 두 번\n",
    "\n",
    "문단 바꿈"
   ]
  },
  {
   "cell_type": "markdown",
   "metadata": {},
   "source": [
    "문자 강조\n",
    "\n",
    "이탈릭체는 *별표*나 _언더바_ 로  \n",
    "볼드체는 **별표 두 개**나 __언더바 두 개__ 로  \n",
    "**별표와 _언더바_** 를 섞어서  \n",
    "취소선은 ~~물결~~로"
   ]
  },
  {
   "cell_type": "markdown",
   "metadata": {},
   "source": [
    "링크  \n",
    "https://www.codeit.kr"
   ]
  },
  {
   "cell_type": "markdown",
   "metadata": {},
   "source": [
    "이미지  \n",
    "![코드잇](https://www.codeit.kr/static/images/brand/logo_original.png)"
   ]
  },
  {
   "cell_type": "markdown",
   "metadata": {},
   "source": [
    "코드 블록으로 언어 지정(```으로 감싸서)\n",
    "\n",
    "```python\n",
    "print('hello world!')\n",
    "for i in range(10):\n",
    "    print(i)\n",
    "```"
   ]
  },
  {
   "cell_type": "markdown",
   "metadata": {},
   "source": [
    "인라인 코드(``으로 감싸서)\n",
    "값을 출력하고 싶으면 `print` 함수를 사용하면 됩니다"
   ]
  },
  {
   "cell_type": "markdown",
   "metadata": {},
   "source": [
    "구분 선 위(---으로 구분선 만들 수 있음)\n",
    "\n",
    "---\n",
    "\n",
    "구분 선 아래"
   ]
  },
  {
   "source": [
    "import pandas as pd\n",
    "\n",
    "df = pd.read_csv('liverpool.csv')"
   ],
   "cell_type": "code",
   "metadata": {},
   "execution_count": 7,
   "outputs": []
  },
  {
   "cell_type": "code",
   "execution_count": 8,
   "metadata": {},
   "outputs": [
    {
     "output_type": "stream",
     "name": "stdout",
     "text": [
      "              Name Position  Born  Number Nationality\n0  Roberto Firmino       FW  1991   no. 9      Brazil\n1       Sadio Mane       FW  1992  no. 10     Senegal\n2    Mohamed Salah       FW  1992  no. 11       Egypt\n3        Joe Gomez       DF  1997  no. 12     England\n4   Alisson Becker       GK  1992  no. 13      Brazil\n"
     ]
    }
   ],
   "source": [
    "'''print로 출력했을 때'''\n",
    "print(df)"
   ]
  },
  {
   "cell_type": "code",
   "execution_count": 10,
   "metadata": {},
   "outputs": [
    {
     "output_type": "execute_result",
     "data": {
      "text/plain": [
       "              Name Position  Born  Number Nationality\n",
       "0  Roberto Firmino       FW  1991   no. 9      Brazil\n",
       "1       Sadio Mane       FW  1992  no. 10     Senegal\n",
       "2    Mohamed Salah       FW  1992  no. 11       Egypt\n",
       "3        Joe Gomez       DF  1997  no. 12     England\n",
       "4   Alisson Becker       GK  1992  no. 13      Brazil"
      ],
      "text/html": "<div>\n<style scoped>\n    .dataframe tbody tr th:only-of-type {\n        vertical-align: middle;\n    }\n\n    .dataframe tbody tr th {\n        vertical-align: top;\n    }\n\n    .dataframe thead th {\n        text-align: right;\n    }\n</style>\n<table border=\"1\" class=\"dataframe\">\n  <thead>\n    <tr style=\"text-align: right;\">\n      <th></th>\n      <th>Name</th>\n      <th>Position</th>\n      <th>Born</th>\n      <th>Number</th>\n      <th>Nationality</th>\n    </tr>\n  </thead>\n  <tbody>\n    <tr>\n      <th>0</th>\n      <td>Roberto Firmino</td>\n      <td>FW</td>\n      <td>1991</td>\n      <td>no. 9</td>\n      <td>Brazil</td>\n    </tr>\n    <tr>\n      <th>1</th>\n      <td>Sadio Mane</td>\n      <td>FW</td>\n      <td>1992</td>\n      <td>no. 10</td>\n      <td>Senegal</td>\n    </tr>\n    <tr>\n      <th>2</th>\n      <td>Mohamed Salah</td>\n      <td>FW</td>\n      <td>1992</td>\n      <td>no. 11</td>\n      <td>Egypt</td>\n    </tr>\n    <tr>\n      <th>3</th>\n      <td>Joe Gomez</td>\n      <td>DF</td>\n      <td>1997</td>\n      <td>no. 12</td>\n      <td>England</td>\n    </tr>\n    <tr>\n      <th>4</th>\n      <td>Alisson Becker</td>\n      <td>GK</td>\n      <td>1992</td>\n      <td>no. 13</td>\n      <td>Brazil</td>\n    </tr>\n  </tbody>\n</table>\n</div>"
     },
     "metadata": {},
     "execution_count": 10
    }
   ],
   "source": [
    "'''cell 마지막 줄에 입력하여 출력했을 때'''\n",
    "df"
   ]
  }
 ],
 "metadata": {
  "kernelspec": {
   "name": "python388jvsc74a57bd08982ef49acba8bb73682744e15d1779c1b31b37f0f6a3d8343a5bde8a2886ca1",
   "display_name": "Python 3.8.8 64-bit ('Python_VScode': conda)"
  },
  "language_info": {
   "codemirror_mode": {
    "name": "ipython",
    "version": 3
   },
   "file_extension": ".py",
   "mimetype": "text/x-python",
   "name": "python",
   "nbconvert_exporter": "python",
   "pygments_lexer": "ipython3",
   "version": "3.8.8"
  }
 },
 "nbformat": 4,
 "nbformat_minor": 4
}