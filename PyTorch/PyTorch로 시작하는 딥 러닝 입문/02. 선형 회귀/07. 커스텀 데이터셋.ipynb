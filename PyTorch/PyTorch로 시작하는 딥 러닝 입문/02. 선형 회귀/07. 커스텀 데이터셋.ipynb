{
 "cells": [
  {
   "cell_type": "markdown",
   "metadata": {},
   "source": [
    "## 2.7 커스텀 데이터셋(Custom Dataset)"
   ]
  },
  {
   "cell_type": "markdown",
   "metadata": {},
   "source": [
    "특정 상황에선 torch.utils.data.Dataset(파이토치에서 데이터셋을 제공해주는 추상 클래스)을 상속받아 직접 커스텀 데이터셋을 만드는 경우도 생긴다. 밑에 있는 클래스는 Dataset을 상속받아 다음 메소드들을 오버라이드 하여 만든 커스텀 데이터셋이다."
   ]
  },
  {
   "cell_type": "code",
   "execution_count": 1,
   "metadata": {},
   "outputs": [],
   "source": [
    "import torch\n",
    "import torch.nn.functional as F\n",
    "\n",
    "from torch.utils.data import Dataset\n",
    "from torch.utils.data import DataLoader\n",
    "\n",
    "# Dataset 상속\n",
    "class CustomDataset(Dataset):\n",
    "    def __init__(self): # 데이터셋의 전처리를 해주는 부분\n",
    "        self.x_data = [[73, 80, 75],\n",
    "                       [93, 88, 93],\n",
    "                       [89, 91, 90],\n",
    "                       [96, 98, 100],\n",
    "                       [73, 66, 70]]\n",
    "        self.y_data = [[152], [185], [180], [196], [142]]\n",
    "    \n",
    "    def __len__(self): # 데이터셋의 길이(총 샘플의 수)를 리턴하는 함수\n",
    "        return len(self.x_data)\n",
    "        \n",
    "    def __getitem__(self, idx): # 데이터셋에서 특정 1개의 샘플을 파이토치의 텐서 형태로 리턴하는 함수\n",
    "        x = torch.FloatTensor(self.x_data[idx])\n",
    "        y = torch.FloatTensor(self.y_data[idx])\n",
    "        return x, y"
   ]
  },
  {
   "cell_type": "code",
   "execution_count": 2,
   "metadata": {},
   "outputs": [
    {
     "name": "stdout",
     "output_type": "stream",
     "text": [
      "Epoch    0/20 Batch 1/3 Cost: 18532.751953\n",
      "Epoch    0/20 Batch 2/3 Cost: 4823.247070\n",
      "Epoch    0/20 Batch 3/3 Cost: 2005.841431\n",
      "Epoch    1/20 Batch 1/3 Cost: 505.971497\n",
      "Epoch    1/20 Batch 2/3 Cost: 150.574097\n",
      "Epoch    1/20 Batch 3/3 Cost: 58.680798\n",
      "Epoch    2/20 Batch 1/3 Cost: 15.832735\n",
      "Epoch    2/20 Batch 2/3 Cost: 3.246438\n",
      "Epoch    2/20 Batch 3/3 Cost: 5.315524\n",
      "Epoch    3/20 Batch 1/3 Cost: 0.259685\n",
      "Epoch    3/20 Batch 2/3 Cost: 1.174735\n",
      "Epoch    3/20 Batch 3/3 Cost: 2.112637\n",
      "Epoch    4/20 Batch 1/3 Cost: 0.532106\n",
      "Epoch    4/20 Batch 2/3 Cost: 1.636675\n",
      "Epoch    4/20 Batch 3/3 Cost: 0.003406\n",
      "Epoch    5/20 Batch 1/3 Cost: 0.198555\n",
      "Epoch    5/20 Batch 2/3 Cost: 1.657443\n",
      "Epoch    5/20 Batch 3/3 Cost: 0.468741\n",
      "Epoch    6/20 Batch 1/3 Cost: 1.533099\n",
      "Epoch    6/20 Batch 2/3 Cost: 0.120440\n",
      "Epoch    6/20 Batch 3/3 Cost: 0.925396\n",
      "Epoch    7/20 Batch 1/3 Cost: 0.118780\n",
      "Epoch    7/20 Batch 2/3 Cost: 1.720117\n",
      "Epoch    7/20 Batch 3/3 Cost: 0.535414\n",
      "Epoch    8/20 Batch 1/3 Cost: 0.518353\n",
      "Epoch    8/20 Batch 2/3 Cost: 0.967502\n",
      "Epoch    8/20 Batch 3/3 Cost: 1.940124\n",
      "Epoch    9/20 Batch 1/3 Cost: 2.255606\n",
      "Epoch    9/20 Batch 2/3 Cost: 0.815722\n",
      "Epoch    9/20 Batch 3/3 Cost: 0.141450\n",
      "Epoch   10/20 Batch 1/3 Cost: 1.344626\n",
      "Epoch   10/20 Batch 2/3 Cost: 0.404914\n",
      "Epoch   10/20 Batch 3/3 Cost: 1.650176\n",
      "Epoch   11/20 Batch 1/3 Cost: 0.324244\n",
      "Epoch   11/20 Batch 2/3 Cost: 2.421183\n",
      "Epoch   11/20 Batch 3/3 Cost: 0.448264\n",
      "Epoch   12/20 Batch 1/3 Cost: 1.195943\n",
      "Epoch   12/20 Batch 2/3 Cost: 1.040911\n",
      "Epoch   12/20 Batch 3/3 Cost: 1.274636\n",
      "Epoch   13/20 Batch 1/3 Cost: 0.872919\n",
      "Epoch   13/20 Batch 2/3 Cost: 0.669295\n",
      "Epoch   13/20 Batch 3/3 Cost: 1.829197\n",
      "Epoch   14/20 Batch 1/3 Cost: 0.958474\n",
      "Epoch   14/20 Batch 2/3 Cost: 0.660578\n",
      "Epoch   14/20 Batch 3/3 Cost: 2.888900\n",
      "Epoch   15/20 Batch 1/3 Cost: 0.995213\n",
      "Epoch   15/20 Batch 2/3 Cost: 0.139695\n",
      "Epoch   15/20 Batch 3/3 Cost: 2.225394\n",
      "Epoch   16/20 Batch 1/3 Cost: 1.554611\n",
      "Epoch   16/20 Batch 2/3 Cost: 0.444837\n",
      "Epoch   16/20 Batch 3/3 Cost: 1.342283\n",
      "Epoch   17/20 Batch 1/3 Cost: 0.203742\n",
      "Epoch   17/20 Batch 2/3 Cost: 2.126484\n",
      "Epoch   17/20 Batch 3/3 Cost: 1.696083\n",
      "Epoch   18/20 Batch 1/3 Cost: 1.510678\n",
      "Epoch   18/20 Batch 2/3 Cost: 0.858276\n",
      "Epoch   18/20 Batch 3/3 Cost: 0.106279\n",
      "Epoch   19/20 Batch 1/3 Cost: 0.988365\n",
      "Epoch   19/20 Batch 2/3 Cost: 1.072523\n",
      "Epoch   19/20 Batch 3/3 Cost: 0.313324\n",
      "Epoch   20/20 Batch 1/3 Cost: 1.238053\n",
      "Epoch   20/20 Batch 2/3 Cost: 0.883008\n",
      "Epoch   20/20 Batch 3/3 Cost: 0.072212\n"
     ]
    }
   ],
   "source": [
    "dataset = CustomDataset()\n",
    "dataloader = DataLoader(dataset, batch_size=2, shuffle=True)\n",
    "\n",
    "model = torch.nn.Linear(3, 1)\n",
    "optimizer = torch.optim.SGD(model.parameters(), lr=1e-5)\n",
    "\n",
    "nb_epochs = 20\n",
    "for epoch in range(nb_epochs + 1):\n",
    "    for batch_idx, samples in enumerate(dataloader):\n",
    "        x_train, y_train = samples\n",
    "        prediction = model(x_train)\n",
    "        cost = F.mse_loss(prediction, y_train)\n",
    "        \n",
    "        optimizer.zero_grad()\n",
    "        cost.backward()\n",
    "        optimizer.step()\n",
    "        \n",
    "        print('Epoch {:4d}/{} Batch {}/{} Cost: {:.6f}'.format(\n",
    "        epoch, nb_epochs, batch_idx+1, len(dataloader),\n",
    "        cost.item()\n",
    "        ))"
   ]
  },
  {
   "cell_type": "code",
   "execution_count": 3,
   "metadata": {},
   "outputs": [
    {
     "name": "stdout",
     "output_type": "stream",
     "text": [
      "훈련 후 입력이 73, 80, 75일 때의 예측값 : tensor([[151.8246]], grad_fn=<AddmmBackward0>)\n"
     ]
    }
   ],
   "source": [
    "new_var =  torch.FloatTensor([[73, 80, 75]]) \n",
    "pred_y = model(new_var) \n",
    "print(\"훈련 후 입력이 73, 80, 75일 때의 예측값 :\", pred_y) "
   ]
  }
 ],
 "metadata": {
  "interpreter": {
   "hash": "c33b62b3c09fa157f5fdff31c4db06b5670300ba67ef90747934390b2c977575"
  },
  "kernelspec": {
   "display_name": "Python 3.9.7 64-bit ('main': conda)",
   "language": "python",
   "name": "python3"
  },
  "language_info": {
   "codemirror_mode": {
    "name": "ipython",
    "version": 3
   },
   "file_extension": ".py",
   "mimetype": "text/x-python",
   "name": "python",
   "nbconvert_exporter": "python",
   "pygments_lexer": "ipython3",
   "version": "3.9.7"
  },
  "orig_nbformat": 4
 },
 "nbformat": 4,
 "nbformat_minor": 2
}
