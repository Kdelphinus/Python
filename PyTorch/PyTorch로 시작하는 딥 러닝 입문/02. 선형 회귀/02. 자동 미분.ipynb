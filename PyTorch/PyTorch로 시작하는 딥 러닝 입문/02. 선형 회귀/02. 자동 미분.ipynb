{
 "cells": [
  {
   "cell_type": "markdown",
   "metadata": {},
   "source": [
    "## 2.2 자동 미분 (Autograd)"
   ]
  },
  {
   "cell_type": "markdown",
   "metadata": {},
   "source": [
    "---\n",
    "### 2.2.1 경사 하강법 리뷰  \n",
    "모델이 복잡해질수록 경사 하강법을 넘파이 등으로 직접 구현하는 것은 까다로운 일이다. 그렇기에 파이토치에선 자동 미분을 지원하여 경사 하강법을 손쉽게 사용하게 해준다."
   ]
  },
  {
   "cell_type": "markdown",
   "metadata": {},
   "source": [
    "---\n",
    "### 2.2.2 자동 미분 실습"
   ]
  },
  {
   "cell_type": "code",
   "execution_count": 10,
   "metadata": {},
   "outputs": [
    {
     "name": "stdout",
     "output_type": "stream",
     "text": [
      "수식을 w로 미분한 값 : 8.0\n"
     ]
    }
   ],
   "source": [
    "import torch\n",
    "\n",
    "# 값이 2인 임의의 스칼라 텐서 w선언\n",
    "w = torch.tensor(2.0, requires_grad=True) # requires_grad는 이 텐서에 대한 기울기를 저장하겠다는 의미\n",
    "\n",
    "# 수식 정의\n",
    "y = w ** 2\n",
    "z = 2 * y + 5\n",
    "\n",
    "# 해당 수식을 w에 대해 미분\n",
    "z.backward() # backward()는 해당 수식의 w에 대한 기울기를 계산\n",
    "\n",
    "print(f'수식을 w로 미분한 값 : {w.grad}')"
   ]
  }
 ],
 "metadata": {
  "interpreter": {
   "hash": "c33b62b3c09fa157f5fdff31c4db06b5670300ba67ef90747934390b2c977575"
  },
  "kernelspec": {
   "display_name": "Python 3.9.7 64-bit ('main': conda)",
   "language": "python",
   "name": "python3"
  },
  "language_info": {
   "codemirror_mode": {
    "name": "ipython",
    "version": 3
   },
   "file_extension": ".py",
   "mimetype": "text/x-python",
   "name": "python",
   "nbconvert_exporter": "python",
   "pygments_lexer": "ipython3",
   "version": "3.9.7"
  },
  "orig_nbformat": 4
 },
 "nbformat": 4,
 "nbformat_minor": 2
}
