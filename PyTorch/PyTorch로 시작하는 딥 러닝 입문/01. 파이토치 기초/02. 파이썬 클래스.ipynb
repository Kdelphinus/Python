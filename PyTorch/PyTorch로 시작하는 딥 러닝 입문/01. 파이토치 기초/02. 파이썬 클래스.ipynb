{
 "cells": [
  {
   "cell_type": "markdown",
   "id": "10c48f19",
   "metadata": {},
   "source": [
    "## 1.4. 파이썬 클래스"
   ]
  },
  {
   "cell_type": "markdown",
   "id": "4a10810d",
   "metadata": {},
   "source": [
    "### 1.4.1. 함수"
   ]
  },
  {
   "cell_type": "code",
   "execution_count": 1,
   "id": "e60f1ebf",
   "metadata": {},
   "outputs": [
    {
     "name": "stdout",
     "output_type": "stream",
     "text": [
      "3\n",
      "7\n"
     ]
    }
   ],
   "source": [
    "result = 0\n",
    "\n",
    "def add(num):\n",
    "    global result\n",
    "    result += num\n",
    "    return result\n",
    "\n",
    "print(add(3))\n",
    "print(add(4))"
   ]
  },
  {
   "cell_type": "code",
   "execution_count": 2,
   "id": "7596c24f",
   "metadata": {},
   "outputs": [
    {
     "name": "stdout",
     "output_type": "stream",
     "text": [
      "3\n",
      "7\n",
      "3\n",
      "10\n"
     ]
    }
   ],
   "source": [
    "result1 = 0\n",
    "result2 = 0\n",
    "\n",
    "def add1(num):\n",
    "    global result1\n",
    "    result1 += num\n",
    "    return result1\n",
    "\n",
    "def add2(num):\n",
    "    global result2\n",
    "    result2 += num\n",
    "    return result2\n",
    "\n",
    "print(add1(3))\n",
    "print(add1(4))\n",
    "print(add2(3))\n",
    "print(add2(7))"
   ]
  },
  {
   "cell_type": "markdown",
   "id": "1020bbdd",
   "metadata": {},
   "source": [
    "함수는 서로의 값에 영향을 주지 않고 독립적인 연산을 하려면 두 개의 함수를 만들어야 한다"
   ]
  },
  {
   "cell_type": "markdown",
   "id": "931f6fa1",
   "metadata": {},
   "source": [
    "---\n",
    "### 1.4.2. Class(클래스)"
   ]
  },
  {
   "cell_type": "code",
   "execution_count": 3,
   "id": "cdce5aae",
   "metadata": {},
   "outputs": [],
   "source": [
    "class Calculator:\n",
    "    def __init__(self): # 객체 생성 시 호출될 때 실행되는 초기화 함수. 이를 생성자라고 한다.\n",
    "        self.result = 0\n",
    "\n",
    "    def add(self, num): # 객체 생성 후 사용할 수 있는 함수.\n",
    "        self.result += num\n",
    "        return self.result"
   ]
  },
  {
   "cell_type": "code",
   "execution_count": 6,
   "id": "2b4164a2",
   "metadata": {},
   "outputs": [],
   "source": [
    "# 두 개의 독립적 객체를 생성\n",
    "cal1 = Calculator()\n",
    "cal2 = Calculator()"
   ]
  },
  {
   "cell_type": "code",
   "execution_count": 7,
   "id": "5743baa8",
   "metadata": {},
   "outputs": [
    {
     "name": "stdout",
     "output_type": "stream",
     "text": [
      "3\n",
      "7\n",
      "3\n",
      "10\n"
     ]
    }
   ],
   "source": [
    "# 두 개의 개체는 독립적으로 연산이 수행된다\n",
    "print(cal1.add(3))\n",
    "print(cal1.add(4))\n",
    "print(cal2.add(3))\n",
    "print(cal2.add(7))"
   ]
  }
 ],
 "metadata": {
  "kernelspec": {
   "display_name": "Python 3 (ipykernel)",
   "language": "python",
   "name": "python3"
  },
  "language_info": {
   "codemirror_mode": {
    "name": "ipython",
    "version": 3
   },
   "file_extension": ".py",
   "mimetype": "text/x-python",
   "name": "python",
   "nbconvert_exporter": "python",
   "pygments_lexer": "ipython3",
   "version": "3.9.7"
  }
 },
 "nbformat": 4,
 "nbformat_minor": 5
}
