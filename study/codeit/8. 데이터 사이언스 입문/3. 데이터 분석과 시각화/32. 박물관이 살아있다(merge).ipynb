{
 "metadata": {
  "language_info": {
   "codemirror_mode": {
    "name": "ipython",
    "version": 3
   },
   "file_extension": ".py",
   "mimetype": "text/x-python",
   "name": "python",
   "nbconvert_exporter": "python",
   "pygments_lexer": "ipython3",
   "version": "3.8.8"
  },
  "orig_nbformat": 2,
  "kernelspec": {
   "name": "python388jvsc74a57bd08982ef49acba8bb73682744e15d1779c1b31b37f0f6a3d8343a5bde8a2886ca1",
   "display_name": "Python 3.8.8 64-bit ('Python_VScode': conda)"
  }
 },
 "nbformat": 4,
 "nbformat_minor": 2,
 "cells": [
  {
   "cell_type": "code",
   "execution_count": 1,
   "metadata": {},
   "outputs": [],
   "source": [
    "import pandas as pd"
   ]
  },
  {
   "cell_type": "code",
   "execution_count": 2,
   "metadata": {},
   "outputs": [],
   "source": [
    "museum = pd.read_csv(\"data/museum_3.csv\", dtype={'지역번호': str})\n",
    "number = pd.read_csv(\"data/region_number.csv\", dtype={'지역번호': str})"
   ]
  },
  {
   "cell_type": "code",
   "execution_count": 6,
   "metadata": {},
   "outputs": [
    {
     "output_type": "execute_result",
     "data": {
      "text/plain": [
       "          시설명  어른관람료      운영기관전화번호  분류 지역번호\n",
       "0  필암서원 유물전시관    500  061-390-7224  일반  061\n",
       "1     원주역사박물관      0  033-737-4371  일반  033"
      ],
      "text/html": "<div>\n<style scoped>\n    .dataframe tbody tr th:only-of-type {\n        vertical-align: middle;\n    }\n\n    .dataframe tbody tr th {\n        vertical-align: top;\n    }\n\n    .dataframe thead th {\n        text-align: right;\n    }\n</style>\n<table border=\"1\" class=\"dataframe\">\n  <thead>\n    <tr style=\"text-align: right;\">\n      <th></th>\n      <th>시설명</th>\n      <th>어른관람료</th>\n      <th>운영기관전화번호</th>\n      <th>분류</th>\n      <th>지역번호</th>\n    </tr>\n  </thead>\n  <tbody>\n    <tr>\n      <th>0</th>\n      <td>필암서원 유물전시관</td>\n      <td>500</td>\n      <td>061-390-7224</td>\n      <td>일반</td>\n      <td>061</td>\n    </tr>\n    <tr>\n      <th>1</th>\n      <td>원주역사박물관</td>\n      <td>0</td>\n      <td>033-737-4371</td>\n      <td>일반</td>\n      <td>033</td>\n    </tr>\n  </tbody>\n</table>\n</div>"
     },
     "metadata": {},
     "execution_count": 6
    }
   ],
   "source": [
    "museum.head(2)"
   ]
  },
  {
   "cell_type": "code",
   "execution_count": 7,
   "metadata": {},
   "outputs": [
    {
     "output_type": "execute_result",
     "data": {
      "text/plain": [
       "  지역번호    지역명\n",
       "0   02  서울특별시\n",
       "1  031    경기도"
      ],
      "text/html": "<div>\n<style scoped>\n    .dataframe tbody tr th:only-of-type {\n        vertical-align: middle;\n    }\n\n    .dataframe tbody tr th {\n        vertical-align: top;\n    }\n\n    .dataframe thead th {\n        text-align: right;\n    }\n</style>\n<table border=\"1\" class=\"dataframe\">\n  <thead>\n    <tr style=\"text-align: right;\">\n      <th></th>\n      <th>지역번호</th>\n      <th>지역명</th>\n    </tr>\n  </thead>\n  <tbody>\n    <tr>\n      <th>0</th>\n      <td>02</td>\n      <td>서울특별시</td>\n    </tr>\n    <tr>\n      <th>1</th>\n      <td>031</td>\n      <td>경기도</td>\n    </tr>\n  </tbody>\n</table>\n</div>"
     },
     "metadata": {},
     "execution_count": 7
    }
   ],
   "source": [
    "number.head(2)"
   ]
  },
  {
   "cell_type": "code",
   "execution_count": 42,
   "metadata": {},
   "outputs": [
    {
     "output_type": "execute_result",
     "data": {
      "text/plain": [
       "             시설명  어른관람료      운영기관전화번호  분류 지역번호    지역명\n",
       "0     필암서원 유물전시관    500  061-390-7224  일반  061   전라남도\n",
       "1        원주역사박물관      0  033-737-4371  일반  033    강원도\n",
       "2        뮤지엄산미술관  15000  033-730-9000  일반  033    강원도\n",
       "3      오랜미래신화미술관      0  033-746-5256  일반  033    강원도\n",
       "4    연세대학교 원주박물관      0  033-760-2731  대학  033    강원도\n",
       "..           ...    ...           ...  ..  ...    ...\n",
       "895        함양박물관      0  055-960-5532  일반  055   경상남도\n",
       "896         박물관수   5000  053-744-5500  일반  053  대구광역시\n",
       "897    대구은행금융박물관      0  053-740-2061  일반  053  대구광역시\n",
       "898      국립대구박물관      0  053-768-6051  일반  053  대구광역시\n",
       "899    증평민속체험박물관      0  043-835-4161  일반  043   충청북도\n",
       "\n",
       "[900 rows x 6 columns]"
      ],
      "text/html": "<div>\n<style scoped>\n    .dataframe tbody tr th:only-of-type {\n        vertical-align: middle;\n    }\n\n    .dataframe tbody tr th {\n        vertical-align: top;\n    }\n\n    .dataframe thead th {\n        text-align: right;\n    }\n</style>\n<table border=\"1\" class=\"dataframe\">\n  <thead>\n    <tr style=\"text-align: right;\">\n      <th></th>\n      <th>시설명</th>\n      <th>어른관람료</th>\n      <th>운영기관전화번호</th>\n      <th>분류</th>\n      <th>지역번호</th>\n      <th>지역명</th>\n    </tr>\n  </thead>\n  <tbody>\n    <tr>\n      <th>0</th>\n      <td>필암서원 유물전시관</td>\n      <td>500</td>\n      <td>061-390-7224</td>\n      <td>일반</td>\n      <td>061</td>\n      <td>전라남도</td>\n    </tr>\n    <tr>\n      <th>1</th>\n      <td>원주역사박물관</td>\n      <td>0</td>\n      <td>033-737-4371</td>\n      <td>일반</td>\n      <td>033</td>\n      <td>강원도</td>\n    </tr>\n    <tr>\n      <th>2</th>\n      <td>뮤지엄산미술관</td>\n      <td>15000</td>\n      <td>033-730-9000</td>\n      <td>일반</td>\n      <td>033</td>\n      <td>강원도</td>\n    </tr>\n    <tr>\n      <th>3</th>\n      <td>오랜미래신화미술관</td>\n      <td>0</td>\n      <td>033-746-5256</td>\n      <td>일반</td>\n      <td>033</td>\n      <td>강원도</td>\n    </tr>\n    <tr>\n      <th>4</th>\n      <td>연세대학교 원주박물관</td>\n      <td>0</td>\n      <td>033-760-2731</td>\n      <td>대학</td>\n      <td>033</td>\n      <td>강원도</td>\n    </tr>\n    <tr>\n      <th>...</th>\n      <td>...</td>\n      <td>...</td>\n      <td>...</td>\n      <td>...</td>\n      <td>...</td>\n      <td>...</td>\n    </tr>\n    <tr>\n      <th>895</th>\n      <td>함양박물관</td>\n      <td>0</td>\n      <td>055-960-5532</td>\n      <td>일반</td>\n      <td>055</td>\n      <td>경상남도</td>\n    </tr>\n    <tr>\n      <th>896</th>\n      <td>박물관수</td>\n      <td>5000</td>\n      <td>053-744-5500</td>\n      <td>일반</td>\n      <td>053</td>\n      <td>대구광역시</td>\n    </tr>\n    <tr>\n      <th>897</th>\n      <td>대구은행금융박물관</td>\n      <td>0</td>\n      <td>053-740-2061</td>\n      <td>일반</td>\n      <td>053</td>\n      <td>대구광역시</td>\n    </tr>\n    <tr>\n      <th>898</th>\n      <td>국립대구박물관</td>\n      <td>0</td>\n      <td>053-768-6051</td>\n      <td>일반</td>\n      <td>053</td>\n      <td>대구광역시</td>\n    </tr>\n    <tr>\n      <th>899</th>\n      <td>증평민속체험박물관</td>\n      <td>0</td>\n      <td>043-835-4161</td>\n      <td>일반</td>\n      <td>043</td>\n      <td>충청북도</td>\n    </tr>\n  </tbody>\n</table>\n<p>900 rows × 6 columns</p>\n</div>"
     },
     "metadata": {},
     "execution_count": 42
    }
   ],
   "source": [
    "pd.merge(museum, number, on = '지역번호', how = 'left')"
   ]
  }
 ]
}