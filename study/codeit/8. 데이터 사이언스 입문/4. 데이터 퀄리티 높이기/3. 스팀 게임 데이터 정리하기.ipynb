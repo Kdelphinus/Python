{
 "metadata": {
  "language_info": {
   "codemirror_mode": {
    "name": "ipython",
    "version": 3
   },
   "file_extension": ".py",
   "mimetype": "text/x-python",
   "name": "python",
   "nbconvert_exporter": "python",
   "pygments_lexer": "ipython3",
   "version": "3.8.8"
  },
  "orig_nbformat": 2,
  "kernelspec": {
   "name": "python388jvsc74a57bd08982ef49acba8bb73682744e15d1779c1b31b37f0f6a3d8343a5bde8a2886ca1",
   "display_name": "Python 3.8.8 64-bit ('Python_VScode': conda)"
  }
 },
 "nbformat": 4,
 "nbformat_minor": 2,
 "cells": [
  {
   "cell_type": "code",
   "execution_count": 1,
   "metadata": {},
   "outputs": [],
   "source": [
    "import pandas as pd"
   ]
  },
  {
   "cell_type": "code",
   "execution_count": 2,
   "metadata": {},
   "outputs": [],
   "source": [
    "df = pd.read_csv('data/steam.csv')"
   ]
  },
  {
   "cell_type": "code",
   "execution_count": 5,
   "metadata": {},
   "outputs": [
    {
     "output_type": "execute_result",
     "data": {
      "text/plain": [
       "                         steam_1.csvName  Hours\n",
       "0             The Elder Scrolls V Skyrim  273.0\n",
       "1                              Fallout 4   87.0\n",
       "2                                  Spore   14.9\n",
       "3                      Fallout New Vegas   12.1\n",
       "4                          Left 4 Dead 2    8.9\n",
       "...                                  ...    ...\n",
       "20221  Nancy Drew Tomb of the Lost Queen    8.4\n",
       "20222                           Portal 2    8.3\n",
       "20223                 Farm for your Life    8.0\n",
       "20224                           PAYDAY 2    7.5\n",
       "20225         Sid Meier's Civilization V    7.5\n",
       "\n",
       "[20226 rows x 2 columns]"
      ],
      "text/html": "<div>\n<style scoped>\n    .dataframe tbody tr th:only-of-type {\n        vertical-align: middle;\n    }\n\n    .dataframe tbody tr th {\n        vertical-align: top;\n    }\n\n    .dataframe thead th {\n        text-align: right;\n    }\n</style>\n<table border=\"1\" class=\"dataframe\">\n  <thead>\n    <tr style=\"text-align: right;\">\n      <th></th>\n      <th>steam_1.csvName</th>\n      <th>Hours</th>\n    </tr>\n  </thead>\n  <tbody>\n    <tr>\n      <th>0</th>\n      <td>The Elder Scrolls V Skyrim</td>\n      <td>273.0</td>\n    </tr>\n    <tr>\n      <th>1</th>\n      <td>Fallout 4</td>\n      <td>87.0</td>\n    </tr>\n    <tr>\n      <th>2</th>\n      <td>Spore</td>\n      <td>14.9</td>\n    </tr>\n    <tr>\n      <th>3</th>\n      <td>Fallout New Vegas</td>\n      <td>12.1</td>\n    </tr>\n    <tr>\n      <th>4</th>\n      <td>Left 4 Dead 2</td>\n      <td>8.9</td>\n    </tr>\n    <tr>\n      <th>...</th>\n      <td>...</td>\n      <td>...</td>\n    </tr>\n    <tr>\n      <th>20221</th>\n      <td>Nancy Drew Tomb of the Lost Queen</td>\n      <td>8.4</td>\n    </tr>\n    <tr>\n      <th>20222</th>\n      <td>Portal 2</td>\n      <td>8.3</td>\n    </tr>\n    <tr>\n      <th>20223</th>\n      <td>Farm for your Life</td>\n      <td>8.0</td>\n    </tr>\n    <tr>\n      <th>20224</th>\n      <td>PAYDAY 2</td>\n      <td>7.5</td>\n    </tr>\n    <tr>\n      <th>20225</th>\n      <td>Sid Meier's Civilization V</td>\n      <td>7.5</td>\n    </tr>\n  </tbody>\n</table>\n<p>20226 rows × 2 columns</p>\n</div>"
     },
     "metadata": {},
     "execution_count": 5
    }
   ],
   "source": [
    "df"
   ]
  },
  {
   "cell_type": "code",
   "execution_count": 7,
   "metadata": {},
   "outputs": [],
   "source": [
    "df.dropna(inplace=True)"
   ]
  },
  {
   "cell_type": "code",
   "execution_count": 8,
   "metadata": {},
   "outputs": [
    {
     "output_type": "execute_result",
     "data": {
      "text/plain": [
       "                         steam_1.csvName  Hours\n",
       "0             The Elder Scrolls V Skyrim  273.0\n",
       "1                              Fallout 4   87.0\n",
       "2                                  Spore   14.9\n",
       "3                      Fallout New Vegas   12.1\n",
       "4                          Left 4 Dead 2    8.9\n",
       "...                                  ...    ...\n",
       "20221  Nancy Drew Tomb of the Lost Queen    8.4\n",
       "20222                           Portal 2    8.3\n",
       "20223                 Farm for your Life    8.0\n",
       "20224                           PAYDAY 2    7.5\n",
       "20225         Sid Meier's Civilization V    7.5\n",
       "\n",
       "[20216 rows x 2 columns]"
      ],
      "text/html": "<div>\n<style scoped>\n    .dataframe tbody tr th:only-of-type {\n        vertical-align: middle;\n    }\n\n    .dataframe tbody tr th {\n        vertical-align: top;\n    }\n\n    .dataframe thead th {\n        text-align: right;\n    }\n</style>\n<table border=\"1\" class=\"dataframe\">\n  <thead>\n    <tr style=\"text-align: right;\">\n      <th></th>\n      <th>steam_1.csvName</th>\n      <th>Hours</th>\n    </tr>\n  </thead>\n  <tbody>\n    <tr>\n      <th>0</th>\n      <td>The Elder Scrolls V Skyrim</td>\n      <td>273.0</td>\n    </tr>\n    <tr>\n      <th>1</th>\n      <td>Fallout 4</td>\n      <td>87.0</td>\n    </tr>\n    <tr>\n      <th>2</th>\n      <td>Spore</td>\n      <td>14.9</td>\n    </tr>\n    <tr>\n      <th>3</th>\n      <td>Fallout New Vegas</td>\n      <td>12.1</td>\n    </tr>\n    <tr>\n      <th>4</th>\n      <td>Left 4 Dead 2</td>\n      <td>8.9</td>\n    </tr>\n    <tr>\n      <th>...</th>\n      <td>...</td>\n      <td>...</td>\n    </tr>\n    <tr>\n      <th>20221</th>\n      <td>Nancy Drew Tomb of the Lost Queen</td>\n      <td>8.4</td>\n    </tr>\n    <tr>\n      <th>20222</th>\n      <td>Portal 2</td>\n      <td>8.3</td>\n    </tr>\n    <tr>\n      <th>20223</th>\n      <td>Farm for your Life</td>\n      <td>8.0</td>\n    </tr>\n    <tr>\n      <th>20224</th>\n      <td>PAYDAY 2</td>\n      <td>7.5</td>\n    </tr>\n    <tr>\n      <th>20225</th>\n      <td>Sid Meier's Civilization V</td>\n      <td>7.5</td>\n    </tr>\n  </tbody>\n</table>\n<p>20216 rows × 2 columns</p>\n</div>"
     },
     "metadata": {},
     "execution_count": 8
    }
   ],
   "source": [
    "df"
   ]
  },
  {
   "cell_type": "code",
   "execution_count": null,
   "metadata": {},
   "outputs": [],
   "source": []
  }
 ]
}