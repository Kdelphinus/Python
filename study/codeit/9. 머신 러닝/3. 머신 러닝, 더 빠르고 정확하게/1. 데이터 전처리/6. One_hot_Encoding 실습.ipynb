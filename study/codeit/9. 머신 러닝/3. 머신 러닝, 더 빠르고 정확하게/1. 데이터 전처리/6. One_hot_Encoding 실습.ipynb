{
 "metadata": {
  "language_info": {
   "codemirror_mode": {
    "name": "ipython",
    "version": 3
   },
   "file_extension": ".py",
   "mimetype": "text/x-python",
   "name": "python",
   "nbconvert_exporter": "python",
   "pygments_lexer": "ipython3",
   "version": "3.8.8"
  },
  "orig_nbformat": 2,
  "kernelspec": {
   "name": "python388jvsc74a57bd08982ef49acba8bb73682744e15d1779c1b31b37f0f6a3d8343a5bde8a2886ca1",
   "display_name": "Python 3.8.8 64-bit ('Python_VScode': conda)"
  }
 },
 "nbformat": 4,
 "nbformat_minor": 2,
 "cells": [
  {
   "cell_type": "code",
   "execution_count": 1,
   "metadata": {},
   "outputs": [],
   "source": [
    "import pandas as pd"
   ]
  },
  {
   "cell_type": "code",
   "execution_count": 2,
   "metadata": {},
   "outputs": [
    {
     "output_type": "execute_result",
     "data": {
      "text/plain": [
       "  Favorite Color Favorite Music Genre Favorite Beverage Favorite Soft Drink  \\\n",
       "0           Cool                 Rock             Vodka          7UP/Sprite   \n",
       "1        Neutral              Hip hop             Vodka     Coca Cola/Pepsi   \n",
       "2           Warm                 Rock              Wine     Coca Cola/Pepsi   \n",
       "3           Warm     Folk/Traditional           Whiskey               Fanta   \n",
       "4           Cool                 Rock             Vodka     Coca Cola/Pepsi   \n",
       "\n",
       "  Gender  \n",
       "0      F  \n",
       "1      F  \n",
       "2      F  \n",
       "3      F  \n",
       "4      F  "
      ],
      "text/html": "<div>\n<style scoped>\n    .dataframe tbody tr th:only-of-type {\n        vertical-align: middle;\n    }\n\n    .dataframe tbody tr th {\n        vertical-align: top;\n    }\n\n    .dataframe thead th {\n        text-align: right;\n    }\n</style>\n<table border=\"1\" class=\"dataframe\">\n  <thead>\n    <tr style=\"text-align: right;\">\n      <th></th>\n      <th>Favorite Color</th>\n      <th>Favorite Music Genre</th>\n      <th>Favorite Beverage</th>\n      <th>Favorite Soft Drink</th>\n      <th>Gender</th>\n    </tr>\n  </thead>\n  <tbody>\n    <tr>\n      <th>0</th>\n      <td>Cool</td>\n      <td>Rock</td>\n      <td>Vodka</td>\n      <td>7UP/Sprite</td>\n      <td>F</td>\n    </tr>\n    <tr>\n      <th>1</th>\n      <td>Neutral</td>\n      <td>Hip hop</td>\n      <td>Vodka</td>\n      <td>Coca Cola/Pepsi</td>\n      <td>F</td>\n    </tr>\n    <tr>\n      <th>2</th>\n      <td>Warm</td>\n      <td>Rock</td>\n      <td>Wine</td>\n      <td>Coca Cola/Pepsi</td>\n      <td>F</td>\n    </tr>\n    <tr>\n      <th>3</th>\n      <td>Warm</td>\n      <td>Folk/Traditional</td>\n      <td>Whiskey</td>\n      <td>Fanta</td>\n      <td>F</td>\n    </tr>\n    <tr>\n      <th>4</th>\n      <td>Cool</td>\n      <td>Rock</td>\n      <td>Vodka</td>\n      <td>Coca Cola/Pepsi</td>\n      <td>F</td>\n    </tr>\n  </tbody>\n</table>\n</div>"
     },
     "metadata": {},
     "execution_count": 2
    }
   ],
   "source": [
    "GENDER_FILE_PATH = 'data/gender.csv'\n",
    "gender_df = pd.read_csv(GENDER_FILE_PATH)\n",
    "gender_df.head()"
   ]
  },
  {
   "cell_type": "code",
   "execution_count": 4,
   "metadata": {},
   "outputs": [
    {
     "output_type": "execute_result",
     "data": {
      "text/plain": [
       "   Favorite Color Favorite Music Genre Favorite Beverage Favorite Soft Drink\n",
       "0            Cool                 Rock             Vodka          7UP/Sprite\n",
       "1         Neutral              Hip hop             Vodka     Coca Cola/Pepsi\n",
       "2            Warm                 Rock              Wine     Coca Cola/Pepsi\n",
       "3            Warm     Folk/Traditional           Whiskey               Fanta\n",
       "4            Cool                 Rock             Vodka     Coca Cola/Pepsi\n",
       "..            ...                  ...               ...                 ...\n",
       "61           Cool                 Rock             Vodka     Coca Cola/Pepsi\n",
       "62           Cool              Hip hop              Beer     Coca Cola/Pepsi\n",
       "63        Neutral              Hip hop     Doesn't drink               Fanta\n",
       "64           Cool                 Rock              Wine     Coca Cola/Pepsi\n",
       "65           Cool           Electronic              Beer     Coca Cola/Pepsi\n",
       "\n",
       "[66 rows x 4 columns]"
      ],
      "text/html": "<div>\n<style scoped>\n    .dataframe tbody tr th:only-of-type {\n        vertical-align: middle;\n    }\n\n    .dataframe tbody tr th {\n        vertical-align: top;\n    }\n\n    .dataframe thead th {\n        text-align: right;\n    }\n</style>\n<table border=\"1\" class=\"dataframe\">\n  <thead>\n    <tr style=\"text-align: right;\">\n      <th></th>\n      <th>Favorite Color</th>\n      <th>Favorite Music Genre</th>\n      <th>Favorite Beverage</th>\n      <th>Favorite Soft Drink</th>\n    </tr>\n  </thead>\n  <tbody>\n    <tr>\n      <th>0</th>\n      <td>Cool</td>\n      <td>Rock</td>\n      <td>Vodka</td>\n      <td>7UP/Sprite</td>\n    </tr>\n    <tr>\n      <th>1</th>\n      <td>Neutral</td>\n      <td>Hip hop</td>\n      <td>Vodka</td>\n      <td>Coca Cola/Pepsi</td>\n    </tr>\n    <tr>\n      <th>2</th>\n      <td>Warm</td>\n      <td>Rock</td>\n      <td>Wine</td>\n      <td>Coca Cola/Pepsi</td>\n    </tr>\n    <tr>\n      <th>3</th>\n      <td>Warm</td>\n      <td>Folk/Traditional</td>\n      <td>Whiskey</td>\n      <td>Fanta</td>\n    </tr>\n    <tr>\n      <th>4</th>\n      <td>Cool</td>\n      <td>Rock</td>\n      <td>Vodka</td>\n      <td>Coca Cola/Pepsi</td>\n    </tr>\n    <tr>\n      <th>...</th>\n      <td>...</td>\n      <td>...</td>\n      <td>...</td>\n      <td>...</td>\n    </tr>\n    <tr>\n      <th>61</th>\n      <td>Cool</td>\n      <td>Rock</td>\n      <td>Vodka</td>\n      <td>Coca Cola/Pepsi</td>\n    </tr>\n    <tr>\n      <th>62</th>\n      <td>Cool</td>\n      <td>Hip hop</td>\n      <td>Beer</td>\n      <td>Coca Cola/Pepsi</td>\n    </tr>\n    <tr>\n      <th>63</th>\n      <td>Neutral</td>\n      <td>Hip hop</td>\n      <td>Doesn't drink</td>\n      <td>Fanta</td>\n    </tr>\n    <tr>\n      <th>64</th>\n      <td>Cool</td>\n      <td>Rock</td>\n      <td>Wine</td>\n      <td>Coca Cola/Pepsi</td>\n    </tr>\n    <tr>\n      <th>65</th>\n      <td>Cool</td>\n      <td>Electronic</td>\n      <td>Beer</td>\n      <td>Coca Cola/Pepsi</td>\n    </tr>\n  </tbody>\n</table>\n<p>66 rows × 4 columns</p>\n</div>"
     },
     "metadata": {},
     "execution_count": 4
    }
   ],
   "source": [
    "# gender열을 제외한 데이터\n",
    "input_data = gender_df.drop(['Gender'], axis=1)\n",
    "input_data"
   ]
  },
  {
   "cell_type": "code",
   "execution_count": 6,
   "metadata": {},
   "outputs": [
    {
     "output_type": "execute_result",
     "data": {
      "text/plain": [
       "   Favorite Color_Cool  Favorite Color_Neutral  Favorite Color_Warm  \\\n",
       "0                    1                       0                    0   \n",
       "1                    0                       1                    0   \n",
       "2                    0                       0                    1   \n",
       "3                    0                       0                    1   \n",
       "4                    1                       0                    0   \n",
       "\n",
       "   Favorite Music Genre_Electronic  Favorite Music Genre_Folk/Traditional  \\\n",
       "0                                0                                      0   \n",
       "1                                0                                      0   \n",
       "2                                0                                      0   \n",
       "3                                0                                      1   \n",
       "4                                0                                      0   \n",
       "\n",
       "   Favorite Music Genre_Hip hop  Favorite Music Genre_Jazz/Blues  \\\n",
       "0                             0                                0   \n",
       "1                             1                                0   \n",
       "2                             0                                0   \n",
       "3                             0                                0   \n",
       "4                             0                                0   \n",
       "\n",
       "   Favorite Music Genre_Pop  Favorite Music Genre_R&B and soul  \\\n",
       "0                         0                                  0   \n",
       "1                         0                                  0   \n",
       "2                         0                                  0   \n",
       "3                         0                                  0   \n",
       "4                         0                                  0   \n",
       "\n",
       "   Favorite Music Genre_Rock  Favorite Beverage_Beer  \\\n",
       "0                          1                       0   \n",
       "1                          0                       0   \n",
       "2                          1                       0   \n",
       "3                          0                       0   \n",
       "4                          1                       0   \n",
       "\n",
       "   Favorite Beverage_Doesn't drink  Favorite Beverage_Other  \\\n",
       "0                                0                        0   \n",
       "1                                0                        0   \n",
       "2                                0                        0   \n",
       "3                                0                        0   \n",
       "4                                0                        0   \n",
       "\n",
       "   Favorite Beverage_Vodka  Favorite Beverage_Whiskey  Favorite Beverage_Wine  \\\n",
       "0                        1                          0                       0   \n",
       "1                        1                          0                       0   \n",
       "2                        0                          0                       1   \n",
       "3                        0                          1                       0   \n",
       "4                        1                          0                       0   \n",
       "\n",
       "   Favorite Soft Drink_7UP/Sprite  Favorite Soft Drink_Coca Cola/Pepsi  \\\n",
       "0                               1                                    0   \n",
       "1                               0                                    1   \n",
       "2                               0                                    1   \n",
       "3                               0                                    0   \n",
       "4                               0                                    1   \n",
       "\n",
       "   Favorite Soft Drink_Fanta  Favorite Soft Drink_Other  \n",
       "0                          0                          0  \n",
       "1                          0                          0  \n",
       "2                          0                          0  \n",
       "3                          1                          0  \n",
       "4                          0                          0  "
      ],
      "text/html": "<div>\n<style scoped>\n    .dataframe tbody tr th:only-of-type {\n        vertical-align: middle;\n    }\n\n    .dataframe tbody tr th {\n        vertical-align: top;\n    }\n\n    .dataframe thead th {\n        text-align: right;\n    }\n</style>\n<table border=\"1\" class=\"dataframe\">\n  <thead>\n    <tr style=\"text-align: right;\">\n      <th></th>\n      <th>Favorite Color_Cool</th>\n      <th>Favorite Color_Neutral</th>\n      <th>Favorite Color_Warm</th>\n      <th>Favorite Music Genre_Electronic</th>\n      <th>Favorite Music Genre_Folk/Traditional</th>\n      <th>Favorite Music Genre_Hip hop</th>\n      <th>Favorite Music Genre_Jazz/Blues</th>\n      <th>Favorite Music Genre_Pop</th>\n      <th>Favorite Music Genre_R&amp;B and soul</th>\n      <th>Favorite Music Genre_Rock</th>\n      <th>Favorite Beverage_Beer</th>\n      <th>Favorite Beverage_Doesn't drink</th>\n      <th>Favorite Beverage_Other</th>\n      <th>Favorite Beverage_Vodka</th>\n      <th>Favorite Beverage_Whiskey</th>\n      <th>Favorite Beverage_Wine</th>\n      <th>Favorite Soft Drink_7UP/Sprite</th>\n      <th>Favorite Soft Drink_Coca Cola/Pepsi</th>\n      <th>Favorite Soft Drink_Fanta</th>\n      <th>Favorite Soft Drink_Other</th>\n    </tr>\n  </thead>\n  <tbody>\n    <tr>\n      <th>0</th>\n      <td>1</td>\n      <td>0</td>\n      <td>0</td>\n      <td>0</td>\n      <td>0</td>\n      <td>0</td>\n      <td>0</td>\n      <td>0</td>\n      <td>0</td>\n      <td>1</td>\n      <td>0</td>\n      <td>0</td>\n      <td>0</td>\n      <td>1</td>\n      <td>0</td>\n      <td>0</td>\n      <td>1</td>\n      <td>0</td>\n      <td>0</td>\n      <td>0</td>\n    </tr>\n    <tr>\n      <th>1</th>\n      <td>0</td>\n      <td>1</td>\n      <td>0</td>\n      <td>0</td>\n      <td>0</td>\n      <td>1</td>\n      <td>0</td>\n      <td>0</td>\n      <td>0</td>\n      <td>0</td>\n      <td>0</td>\n      <td>0</td>\n      <td>0</td>\n      <td>1</td>\n      <td>0</td>\n      <td>0</td>\n      <td>0</td>\n      <td>1</td>\n      <td>0</td>\n      <td>0</td>\n    </tr>\n    <tr>\n      <th>2</th>\n      <td>0</td>\n      <td>0</td>\n      <td>1</td>\n      <td>0</td>\n      <td>0</td>\n      <td>0</td>\n      <td>0</td>\n      <td>0</td>\n      <td>0</td>\n      <td>1</td>\n      <td>0</td>\n      <td>0</td>\n      <td>0</td>\n      <td>0</td>\n      <td>0</td>\n      <td>1</td>\n      <td>0</td>\n      <td>1</td>\n      <td>0</td>\n      <td>0</td>\n    </tr>\n    <tr>\n      <th>3</th>\n      <td>0</td>\n      <td>0</td>\n      <td>1</td>\n      <td>0</td>\n      <td>1</td>\n      <td>0</td>\n      <td>0</td>\n      <td>0</td>\n      <td>0</td>\n      <td>0</td>\n      <td>0</td>\n      <td>0</td>\n      <td>0</td>\n      <td>0</td>\n      <td>1</td>\n      <td>0</td>\n      <td>0</td>\n      <td>0</td>\n      <td>1</td>\n      <td>0</td>\n    </tr>\n    <tr>\n      <th>4</th>\n      <td>1</td>\n      <td>0</td>\n      <td>0</td>\n      <td>0</td>\n      <td>0</td>\n      <td>0</td>\n      <td>0</td>\n      <td>0</td>\n      <td>0</td>\n      <td>1</td>\n      <td>0</td>\n      <td>0</td>\n      <td>0</td>\n      <td>1</td>\n      <td>0</td>\n      <td>0</td>\n      <td>0</td>\n      <td>1</td>\n      <td>0</td>\n      <td>0</td>\n    </tr>\n  </tbody>\n</table>\n</div>"
     },
     "metadata": {},
     "execution_count": 6
    }
   ],
   "source": [
    "X = pd.get_dummies(input_data)\n",
    "X.head()"
   ]
  },
  {
   "cell_type": "code",
   "execution_count": 8,
   "metadata": {},
   "outputs": [
    {
     "output_type": "execute_result",
     "data": {
      "text/plain": [
       "  Gender  Favorite Color_Cool  Favorite Color_Neutral  Favorite Color_Warm  \\\n",
       "0      F                    1                       0                    0   \n",
       "1      F                    0                       1                    0   \n",
       "2      F                    0                       0                    1   \n",
       "3      F                    0                       0                    1   \n",
       "4      F                    1                       0                    0   \n",
       "\n",
       "   Favorite Music Genre_Electronic  Favorite Music Genre_Folk/Traditional  \\\n",
       "0                                0                                      0   \n",
       "1                                0                                      0   \n",
       "2                                0                                      0   \n",
       "3                                0                                      1   \n",
       "4                                0                                      0   \n",
       "\n",
       "   Favorite Music Genre_Hip hop  Favorite Music Genre_Jazz/Blues  \\\n",
       "0                             0                                0   \n",
       "1                             1                                0   \n",
       "2                             0                                0   \n",
       "3                             0                                0   \n",
       "4                             0                                0   \n",
       "\n",
       "   Favorite Music Genre_Pop  Favorite Music Genre_R&B and soul  ...  \\\n",
       "0                         0                                  0  ...   \n",
       "1                         0                                  0  ...   \n",
       "2                         0                                  0  ...   \n",
       "3                         0                                  0  ...   \n",
       "4                         0                                  0  ...   \n",
       "\n",
       "   Favorite Beverage_Beer  Favorite Beverage_Doesn't drink  \\\n",
       "0                       0                                0   \n",
       "1                       0                                0   \n",
       "2                       0                                0   \n",
       "3                       0                                0   \n",
       "4                       0                                0   \n",
       "\n",
       "   Favorite Beverage_Other  Favorite Beverage_Vodka  \\\n",
       "0                        0                        1   \n",
       "1                        0                        1   \n",
       "2                        0                        0   \n",
       "3                        0                        0   \n",
       "4                        0                        1   \n",
       "\n",
       "   Favorite Beverage_Whiskey  Favorite Beverage_Wine  \\\n",
       "0                          0                       0   \n",
       "1                          0                       0   \n",
       "2                          0                       1   \n",
       "3                          1                       0   \n",
       "4                          0                       0   \n",
       "\n",
       "   Favorite Soft Drink_7UP/Sprite  Favorite Soft Drink_Coca Cola/Pepsi  \\\n",
       "0                               1                                    0   \n",
       "1                               0                                    1   \n",
       "2                               0                                    1   \n",
       "3                               0                                    0   \n",
       "4                               0                                    1   \n",
       "\n",
       "   Favorite Soft Drink_Fanta  Favorite Soft Drink_Other  \n",
       "0                          0                          0  \n",
       "1                          0                          0  \n",
       "2                          0                          0  \n",
       "3                          1                          0  \n",
       "4                          0                          0  \n",
       "\n",
       "[5 rows x 21 columns]"
      ],
      "text/html": "<div>\n<style scoped>\n    .dataframe tbody tr th:only-of-type {\n        vertical-align: middle;\n    }\n\n    .dataframe tbody tr th {\n        vertical-align: top;\n    }\n\n    .dataframe thead th {\n        text-align: right;\n    }\n</style>\n<table border=\"1\" class=\"dataframe\">\n  <thead>\n    <tr style=\"text-align: right;\">\n      <th></th>\n      <th>Gender</th>\n      <th>Favorite Color_Cool</th>\n      <th>Favorite Color_Neutral</th>\n      <th>Favorite Color_Warm</th>\n      <th>Favorite Music Genre_Electronic</th>\n      <th>Favorite Music Genre_Folk/Traditional</th>\n      <th>Favorite Music Genre_Hip hop</th>\n      <th>Favorite Music Genre_Jazz/Blues</th>\n      <th>Favorite Music Genre_Pop</th>\n      <th>Favorite Music Genre_R&amp;B and soul</th>\n      <th>...</th>\n      <th>Favorite Beverage_Beer</th>\n      <th>Favorite Beverage_Doesn't drink</th>\n      <th>Favorite Beverage_Other</th>\n      <th>Favorite Beverage_Vodka</th>\n      <th>Favorite Beverage_Whiskey</th>\n      <th>Favorite Beverage_Wine</th>\n      <th>Favorite Soft Drink_7UP/Sprite</th>\n      <th>Favorite Soft Drink_Coca Cola/Pepsi</th>\n      <th>Favorite Soft Drink_Fanta</th>\n      <th>Favorite Soft Drink_Other</th>\n    </tr>\n  </thead>\n  <tbody>\n    <tr>\n      <th>0</th>\n      <td>F</td>\n      <td>1</td>\n      <td>0</td>\n      <td>0</td>\n      <td>0</td>\n      <td>0</td>\n      <td>0</td>\n      <td>0</td>\n      <td>0</td>\n      <td>0</td>\n      <td>...</td>\n      <td>0</td>\n      <td>0</td>\n      <td>0</td>\n      <td>1</td>\n      <td>0</td>\n      <td>0</td>\n      <td>1</td>\n      <td>0</td>\n      <td>0</td>\n      <td>0</td>\n    </tr>\n    <tr>\n      <th>1</th>\n      <td>F</td>\n      <td>0</td>\n      <td>1</td>\n      <td>0</td>\n      <td>0</td>\n      <td>0</td>\n      <td>1</td>\n      <td>0</td>\n      <td>0</td>\n      <td>0</td>\n      <td>...</td>\n      <td>0</td>\n      <td>0</td>\n      <td>0</td>\n      <td>1</td>\n      <td>0</td>\n      <td>0</td>\n      <td>0</td>\n      <td>1</td>\n      <td>0</td>\n      <td>0</td>\n    </tr>\n    <tr>\n      <th>2</th>\n      <td>F</td>\n      <td>0</td>\n      <td>0</td>\n      <td>1</td>\n      <td>0</td>\n      <td>0</td>\n      <td>0</td>\n      <td>0</td>\n      <td>0</td>\n      <td>0</td>\n      <td>...</td>\n      <td>0</td>\n      <td>0</td>\n      <td>0</td>\n      <td>0</td>\n      <td>0</td>\n      <td>1</td>\n      <td>0</td>\n      <td>1</td>\n      <td>0</td>\n      <td>0</td>\n    </tr>\n    <tr>\n      <th>3</th>\n      <td>F</td>\n      <td>0</td>\n      <td>0</td>\n      <td>1</td>\n      <td>0</td>\n      <td>1</td>\n      <td>0</td>\n      <td>0</td>\n      <td>0</td>\n      <td>0</td>\n      <td>...</td>\n      <td>0</td>\n      <td>0</td>\n      <td>0</td>\n      <td>0</td>\n      <td>1</td>\n      <td>0</td>\n      <td>0</td>\n      <td>0</td>\n      <td>1</td>\n      <td>0</td>\n    </tr>\n    <tr>\n      <th>4</th>\n      <td>F</td>\n      <td>1</td>\n      <td>0</td>\n      <td>0</td>\n      <td>0</td>\n      <td>0</td>\n      <td>0</td>\n      <td>0</td>\n      <td>0</td>\n      <td>0</td>\n      <td>...</td>\n      <td>0</td>\n      <td>0</td>\n      <td>0</td>\n      <td>1</td>\n      <td>0</td>\n      <td>0</td>\n      <td>0</td>\n      <td>1</td>\n      <td>0</td>\n      <td>0</td>\n    </tr>\n  </tbody>\n</table>\n<p>5 rows × 21 columns</p>\n</div>"
     },
     "metadata": {},
     "execution_count": 8
    }
   ],
   "source": [
    "x = pd.get_dummies(data = gender_df, columns = ['Favorite Color', 'Favorite Music Genre', 'Favorite Beverage', 'Favorite Soft Drink'])\n",
    "x.head()"
   ]
  }
 ]
}