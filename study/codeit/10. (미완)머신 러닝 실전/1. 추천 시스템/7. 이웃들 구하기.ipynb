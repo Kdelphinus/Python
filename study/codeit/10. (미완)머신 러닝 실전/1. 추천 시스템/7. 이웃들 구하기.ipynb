{
 "metadata": {
  "language_info": {
   "codemirror_mode": {
    "name": "ipython",
    "version": 3
   },
   "file_extension": ".py",
   "mimetype": "text/x-python",
   "name": "python",
   "nbconvert_exporter": "python",
   "pygments_lexer": "ipython3",
   "version": "3.8.8"
  },
  "orig_nbformat": 2,
  "kernelspec": {
   "name": "python388jvsc74a57bd08982ef49acba8bb73682744e15d1779c1b31b37f0f6a3d8343a5bde8a2886ca1",
   "display_name": "Python 3.8.8 64-bit"
  }
 },
 "nbformat": 4,
 "nbformat_minor": 2,
 "cells": [
  {
   "cell_type": "code",
   "execution_count": 21,
   "metadata": {},
   "outputs": [
    {
     "output_type": "execute_result",
     "data": {
      "text/plain": [
       "           0    1    2    3    4    5    6    7    8    9   10   11   12   13  \\\n",
       "user_id                                                                         \n",
       "0        2.0  3.0  4.0  NaN  2.0  3.0  NaN  NaN  NaN  4.0  4.0  NaN  NaN  1.0   \n",
       "1        NaN  NaN  NaN  4.0  NaN  5.0  NaN  NaN  2.0  NaN  4.0  NaN  1.0  NaN   \n",
       "2        2.0  NaN  1.0  NaN  NaN  5.0  5.0  NaN  NaN  NaN  NaN  5.0  3.0  3.0   \n",
       "3        NaN  3.0  5.0  NaN  NaN  NaN  4.0  3.0  NaN  5.0  3.0  NaN  4.0  NaN   \n",
       "4        NaN  NaN  NaN  5.0  NaN  NaN  2.0  2.0  2.0  NaN  3.0  4.0  2.0  5.0   \n",
       "5        NaN  4.0  3.0  NaN  NaN  5.0  NaN  NaN  NaN  3.0  2.0  NaN  NaN  NaN   \n",
       "6        3.0  NaN  NaN  NaN  4.0  5.0  2.0  2.0  NaN  3.0  NaN  4.0  NaN  NaN   \n",
       "7        NaN  5.0  1.0  4.0  NaN  NaN  NaN  3.0  1.0  NaN  1.0  NaN  NaN  4.0   \n",
       "8        NaN  3.0  1.0  1.0  NaN  3.0  NaN  4.0  NaN  1.0  1.0  NaN  4.0  4.0   \n",
       "9        1.0  1.0  NaN  1.0  1.0  NaN  NaN  NaN  NaN  NaN  NaN  2.0  NaN  NaN   \n",
       "10       NaN  2.0  NaN  NaN  2.0  2.0  NaN  NaN  2.0  3.0  2.0  NaN  NaN  1.0   \n",
       "11       3.0  NaN  NaN  5.0  4.0  NaN  NaN  4.0  5.0  3.0  NaN  1.0  2.0  1.0   \n",
       "12       2.0  NaN  5.0  NaN  5.0  4.0  NaN  NaN  NaN  NaN  NaN  2.0  3.0  NaN   \n",
       "13       NaN  2.0  1.0  NaN  NaN  NaN  4.0  NaN  1.0  NaN  5.0  5.0  4.0  3.0   \n",
       "14       NaN  3.0  5.0  NaN  NaN  NaN  2.0  5.0  3.0  NaN  3.0  3.0  NaN  4.0   \n",
       "15       NaN  NaN  2.0  5.0  NaN  NaN  NaN  NaN  NaN  NaN  NaN  NaN  1.0  NaN   \n",
       "16       NaN  5.0  NaN  5.0  3.0  NaN  NaN  3.0  2.0  4.0  2.0  NaN  4.0  4.0   \n",
       "17       4.0  NaN  1.0  NaN  NaN  5.0  2.0  NaN  5.0  NaN  NaN  4.0  NaN  2.0   \n",
       "18       NaN  NaN  4.0  NaN  1.0  4.0  NaN  4.0  2.0  1.0  NaN  NaN  NaN  NaN   \n",
       "19       2.0  NaN  NaN  2.0  5.0  NaN  2.0  NaN  2.0  1.0  NaN  NaN  5.0  2.0   \n",
       "\n",
       "          14   15   16   17   18   19  \n",
       "user_id                                \n",
       "0        NaN  NaN  2.0  5.0  2.0  NaN  \n",
       "1        NaN  NaN  NaN  5.0  NaN  NaN  \n",
       "2        NaN  3.0  3.0  4.0  NaN  NaN  \n",
       "3        NaN  2.0  NaN  NaN  NaN  2.0  \n",
       "4        4.0  NaN  NaN  NaN  4.0  2.0  \n",
       "5        1.0  NaN  4.0  3.0  NaN  5.0  \n",
       "6        2.0  4.0  NaN  NaN  NaN  1.0  \n",
       "7        NaN  NaN  2.0  NaN  NaN  4.0  \n",
       "8        2.0  NaN  NaN  5.0  3.0  NaN  \n",
       "9        1.0  NaN  NaN  NaN  4.0  NaN  \n",
       "10       4.0  5.0  3.0  NaN  3.0  3.0  \n",
       "11       1.0  NaN  NaN  NaN  4.0  NaN  \n",
       "12       4.0  NaN  NaN  NaN  NaN  3.0  \n",
       "13       5.0  NaN  NaN  5.0  5.0  4.0  \n",
       "14       NaN  4.0  NaN  1.0  NaN  NaN  \n",
       "15       NaN  NaN  3.0  1.0  5.0  2.0  \n",
       "16       5.0  4.0  2.0  NaN  1.0  3.0  \n",
       "17       3.0  NaN  NaN  NaN  NaN  5.0  \n",
       "18       2.0  1.0  1.0  NaN  3.0  5.0  \n",
       "19       2.0  3.0  NaN  NaN  1.0  2.0  "
      ],
      "text/html": "<div>\n<style scoped>\n    .dataframe tbody tr th:only-of-type {\n        vertical-align: middle;\n    }\n\n    .dataframe tbody tr th {\n        vertical-align: top;\n    }\n\n    .dataframe thead th {\n        text-align: right;\n    }\n</style>\n<table border=\"1\" class=\"dataframe\">\n  <thead>\n    <tr style=\"text-align: right;\">\n      <th></th>\n      <th>0</th>\n      <th>1</th>\n      <th>2</th>\n      <th>3</th>\n      <th>4</th>\n      <th>5</th>\n      <th>6</th>\n      <th>7</th>\n      <th>8</th>\n      <th>9</th>\n      <th>10</th>\n      <th>11</th>\n      <th>12</th>\n      <th>13</th>\n      <th>14</th>\n      <th>15</th>\n      <th>16</th>\n      <th>17</th>\n      <th>18</th>\n      <th>19</th>\n    </tr>\n    <tr>\n      <th>user_id</th>\n      <th></th>\n      <th></th>\n      <th></th>\n      <th></th>\n      <th></th>\n      <th></th>\n      <th></th>\n      <th></th>\n      <th></th>\n      <th></th>\n      <th></th>\n      <th></th>\n      <th></th>\n      <th></th>\n      <th></th>\n      <th></th>\n      <th></th>\n      <th></th>\n      <th></th>\n      <th></th>\n    </tr>\n  </thead>\n  <tbody>\n    <tr>\n      <th>0</th>\n      <td>2.0</td>\n      <td>3.0</td>\n      <td>4.0</td>\n      <td>NaN</td>\n      <td>2.0</td>\n      <td>3.0</td>\n      <td>NaN</td>\n      <td>NaN</td>\n      <td>NaN</td>\n      <td>4.0</td>\n      <td>4.0</td>\n      <td>NaN</td>\n      <td>NaN</td>\n      <td>1.0</td>\n      <td>NaN</td>\n      <td>NaN</td>\n      <td>2.0</td>\n      <td>5.0</td>\n      <td>2.0</td>\n      <td>NaN</td>\n    </tr>\n    <tr>\n      <th>1</th>\n      <td>NaN</td>\n      <td>NaN</td>\n      <td>NaN</td>\n      <td>4.0</td>\n      <td>NaN</td>\n      <td>5.0</td>\n      <td>NaN</td>\n      <td>NaN</td>\n      <td>2.0</td>\n      <td>NaN</td>\n      <td>4.0</td>\n      <td>NaN</td>\n      <td>1.0</td>\n      <td>NaN</td>\n      <td>NaN</td>\n      <td>NaN</td>\n      <td>NaN</td>\n      <td>5.0</td>\n      <td>NaN</td>\n      <td>NaN</td>\n    </tr>\n    <tr>\n      <th>2</th>\n      <td>2.0</td>\n      <td>NaN</td>\n      <td>1.0</td>\n      <td>NaN</td>\n      <td>NaN</td>\n      <td>5.0</td>\n      <td>5.0</td>\n      <td>NaN</td>\n      <td>NaN</td>\n      <td>NaN</td>\n      <td>NaN</td>\n      <td>5.0</td>\n      <td>3.0</td>\n      <td>3.0</td>\n      <td>NaN</td>\n      <td>3.0</td>\n      <td>3.0</td>\n      <td>4.0</td>\n      <td>NaN</td>\n      <td>NaN</td>\n    </tr>\n    <tr>\n      <th>3</th>\n      <td>NaN</td>\n      <td>3.0</td>\n      <td>5.0</td>\n      <td>NaN</td>\n      <td>NaN</td>\n      <td>NaN</td>\n      <td>4.0</td>\n      <td>3.0</td>\n      <td>NaN</td>\n      <td>5.0</td>\n      <td>3.0</td>\n      <td>NaN</td>\n      <td>4.0</td>\n      <td>NaN</td>\n      <td>NaN</td>\n      <td>2.0</td>\n      <td>NaN</td>\n      <td>NaN</td>\n      <td>NaN</td>\n      <td>2.0</td>\n    </tr>\n    <tr>\n      <th>4</th>\n      <td>NaN</td>\n      <td>NaN</td>\n      <td>NaN</td>\n      <td>5.0</td>\n      <td>NaN</td>\n      <td>NaN</td>\n      <td>2.0</td>\n      <td>2.0</td>\n      <td>2.0</td>\n      <td>NaN</td>\n      <td>3.0</td>\n      <td>4.0</td>\n      <td>2.0</td>\n      <td>5.0</td>\n      <td>4.0</td>\n      <td>NaN</td>\n      <td>NaN</td>\n      <td>NaN</td>\n      <td>4.0</td>\n      <td>2.0</td>\n    </tr>\n    <tr>\n      <th>5</th>\n      <td>NaN</td>\n      <td>4.0</td>\n      <td>3.0</td>\n      <td>NaN</td>\n      <td>NaN</td>\n      <td>5.0</td>\n      <td>NaN</td>\n      <td>NaN</td>\n      <td>NaN</td>\n      <td>3.0</td>\n      <td>2.0</td>\n      <td>NaN</td>\n      <td>NaN</td>\n      <td>NaN</td>\n      <td>1.0</td>\n      <td>NaN</td>\n      <td>4.0</td>\n      <td>3.0</td>\n      <td>NaN</td>\n      <td>5.0</td>\n    </tr>\n    <tr>\n      <th>6</th>\n      <td>3.0</td>\n      <td>NaN</td>\n      <td>NaN</td>\n      <td>NaN</td>\n      <td>4.0</td>\n      <td>5.0</td>\n      <td>2.0</td>\n      <td>2.0</td>\n      <td>NaN</td>\n      <td>3.0</td>\n      <td>NaN</td>\n      <td>4.0</td>\n      <td>NaN</td>\n      <td>NaN</td>\n      <td>2.0</td>\n      <td>4.0</td>\n      <td>NaN</td>\n      <td>NaN</td>\n      <td>NaN</td>\n      <td>1.0</td>\n    </tr>\n    <tr>\n      <th>7</th>\n      <td>NaN</td>\n      <td>5.0</td>\n      <td>1.0</td>\n      <td>4.0</td>\n      <td>NaN</td>\n      <td>NaN</td>\n      <td>NaN</td>\n      <td>3.0</td>\n      <td>1.0</td>\n      <td>NaN</td>\n      <td>1.0</td>\n      <td>NaN</td>\n      <td>NaN</td>\n      <td>4.0</td>\n      <td>NaN</td>\n      <td>NaN</td>\n      <td>2.0</td>\n      <td>NaN</td>\n      <td>NaN</td>\n      <td>4.0</td>\n    </tr>\n    <tr>\n      <th>8</th>\n      <td>NaN</td>\n      <td>3.0</td>\n      <td>1.0</td>\n      <td>1.0</td>\n      <td>NaN</td>\n      <td>3.0</td>\n      <td>NaN</td>\n      <td>4.0</td>\n      <td>NaN</td>\n      <td>1.0</td>\n      <td>1.0</td>\n      <td>NaN</td>\n      <td>4.0</td>\n      <td>4.0</td>\n      <td>2.0</td>\n      <td>NaN</td>\n      <td>NaN</td>\n      <td>5.0</td>\n      <td>3.0</td>\n      <td>NaN</td>\n    </tr>\n    <tr>\n      <th>9</th>\n      <td>1.0</td>\n      <td>1.0</td>\n      <td>NaN</td>\n      <td>1.0</td>\n      <td>1.0</td>\n      <td>NaN</td>\n      <td>NaN</td>\n      <td>NaN</td>\n      <td>NaN</td>\n      <td>NaN</td>\n      <td>NaN</td>\n      <td>2.0</td>\n      <td>NaN</td>\n      <td>NaN</td>\n      <td>1.0</td>\n      <td>NaN</td>\n      <td>NaN</td>\n      <td>NaN</td>\n      <td>4.0</td>\n      <td>NaN</td>\n    </tr>\n    <tr>\n      <th>10</th>\n      <td>NaN</td>\n      <td>2.0</td>\n      <td>NaN</td>\n      <td>NaN</td>\n      <td>2.0</td>\n      <td>2.0</td>\n      <td>NaN</td>\n      <td>NaN</td>\n      <td>2.0</td>\n      <td>3.0</td>\n      <td>2.0</td>\n      <td>NaN</td>\n      <td>NaN</td>\n      <td>1.0</td>\n      <td>4.0</td>\n      <td>5.0</td>\n      <td>3.0</td>\n      <td>NaN</td>\n      <td>3.0</td>\n      <td>3.0</td>\n    </tr>\n    <tr>\n      <th>11</th>\n      <td>3.0</td>\n      <td>NaN</td>\n      <td>NaN</td>\n      <td>5.0</td>\n      <td>4.0</td>\n      <td>NaN</td>\n      <td>NaN</td>\n      <td>4.0</td>\n      <td>5.0</td>\n      <td>3.0</td>\n      <td>NaN</td>\n      <td>1.0</td>\n      <td>2.0</td>\n      <td>1.0</td>\n      <td>1.0</td>\n      <td>NaN</td>\n      <td>NaN</td>\n      <td>NaN</td>\n      <td>4.0</td>\n      <td>NaN</td>\n    </tr>\n    <tr>\n      <th>12</th>\n      <td>2.0</td>\n      <td>NaN</td>\n      <td>5.0</td>\n      <td>NaN</td>\n      <td>5.0</td>\n      <td>4.0</td>\n      <td>NaN</td>\n      <td>NaN</td>\n      <td>NaN</td>\n      <td>NaN</td>\n      <td>NaN</td>\n      <td>2.0</td>\n      <td>3.0</td>\n      <td>NaN</td>\n      <td>4.0</td>\n      <td>NaN</td>\n      <td>NaN</td>\n      <td>NaN</td>\n      <td>NaN</td>\n      <td>3.0</td>\n    </tr>\n    <tr>\n      <th>13</th>\n      <td>NaN</td>\n      <td>2.0</td>\n      <td>1.0</td>\n      <td>NaN</td>\n      <td>NaN</td>\n      <td>NaN</td>\n      <td>4.0</td>\n      <td>NaN</td>\n      <td>1.0</td>\n      <td>NaN</td>\n      <td>5.0</td>\n      <td>5.0</td>\n      <td>4.0</td>\n      <td>3.0</td>\n      <td>5.0</td>\n      <td>NaN</td>\n      <td>NaN</td>\n      <td>5.0</td>\n      <td>5.0</td>\n      <td>4.0</td>\n    </tr>\n    <tr>\n      <th>14</th>\n      <td>NaN</td>\n      <td>3.0</td>\n      <td>5.0</td>\n      <td>NaN</td>\n      <td>NaN</td>\n      <td>NaN</td>\n      <td>2.0</td>\n      <td>5.0</td>\n      <td>3.0</td>\n      <td>NaN</td>\n      <td>3.0</td>\n      <td>3.0</td>\n      <td>NaN</td>\n      <td>4.0</td>\n      <td>NaN</td>\n      <td>4.0</td>\n      <td>NaN</td>\n      <td>1.0</td>\n      <td>NaN</td>\n      <td>NaN</td>\n    </tr>\n    <tr>\n      <th>15</th>\n      <td>NaN</td>\n      <td>NaN</td>\n      <td>2.0</td>\n      <td>5.0</td>\n      <td>NaN</td>\n      <td>NaN</td>\n      <td>NaN</td>\n      <td>NaN</td>\n      <td>NaN</td>\n      <td>NaN</td>\n      <td>NaN</td>\n      <td>NaN</td>\n      <td>1.0</td>\n      <td>NaN</td>\n      <td>NaN</td>\n      <td>NaN</td>\n      <td>3.0</td>\n      <td>1.0</td>\n      <td>5.0</td>\n      <td>2.0</td>\n    </tr>\n    <tr>\n      <th>16</th>\n      <td>NaN</td>\n      <td>5.0</td>\n      <td>NaN</td>\n      <td>5.0</td>\n      <td>3.0</td>\n      <td>NaN</td>\n      <td>NaN</td>\n      <td>3.0</td>\n      <td>2.0</td>\n      <td>4.0</td>\n      <td>2.0</td>\n      <td>NaN</td>\n      <td>4.0</td>\n      <td>4.0</td>\n      <td>5.0</td>\n      <td>4.0</td>\n      <td>2.0</td>\n      <td>NaN</td>\n      <td>1.0</td>\n      <td>3.0</td>\n    </tr>\n    <tr>\n      <th>17</th>\n      <td>4.0</td>\n      <td>NaN</td>\n      <td>1.0</td>\n      <td>NaN</td>\n      <td>NaN</td>\n      <td>5.0</td>\n      <td>2.0</td>\n      <td>NaN</td>\n      <td>5.0</td>\n      <td>NaN</td>\n      <td>NaN</td>\n      <td>4.0</td>\n      <td>NaN</td>\n      <td>2.0</td>\n      <td>3.0</td>\n      <td>NaN</td>\n      <td>NaN</td>\n      <td>NaN</td>\n      <td>NaN</td>\n      <td>5.0</td>\n    </tr>\n    <tr>\n      <th>18</th>\n      <td>NaN</td>\n      <td>NaN</td>\n      <td>4.0</td>\n      <td>NaN</td>\n      <td>1.0</td>\n      <td>4.0</td>\n      <td>NaN</td>\n      <td>4.0</td>\n      <td>2.0</td>\n      <td>1.0</td>\n      <td>NaN</td>\n      <td>NaN</td>\n      <td>NaN</td>\n      <td>NaN</td>\n      <td>2.0</td>\n      <td>1.0</td>\n      <td>1.0</td>\n      <td>NaN</td>\n      <td>3.0</td>\n      <td>5.0</td>\n    </tr>\n    <tr>\n      <th>19</th>\n      <td>2.0</td>\n      <td>NaN</td>\n      <td>NaN</td>\n      <td>2.0</td>\n      <td>5.0</td>\n      <td>NaN</td>\n      <td>2.0</td>\n      <td>NaN</td>\n      <td>2.0</td>\n      <td>1.0</td>\n      <td>NaN</td>\n      <td>NaN</td>\n      <td>5.0</td>\n      <td>2.0</td>\n      <td>2.0</td>\n      <td>3.0</td>\n      <td>NaN</td>\n      <td>NaN</td>\n      <td>1.0</td>\n      <td>2.0</td>\n    </tr>\n  </tbody>\n</table>\n</div>"
     },
     "metadata": {},
     "execution_count": 21
    }
   ],
   "source": [
    "import pandas as pd\n",
    "import numpy as np\n",
    "from math import sqrt\n",
    "\n",
    "RATING_DATA_PATH = 'data/ratings.csv'\n",
    "\n",
    "np.set_printoptions(precision=2)  # 소수점 둘째 자리까지만 출력\n",
    "\n",
    "pd.read_csv(RATING_DATA_PATH, index_col='user_id')  # 데이터 확인"
   ]
  },
  {
   "cell_type": "code",
   "execution_count": 3,
   "metadata": {},
   "outputs": [],
   "source": [
    "def distance(user_1, user_2):\n",
    "    \"\"\"유클리드 거리를 계산해주는 함수\"\"\"\n",
    "    return sqrt(np.sum((user_1 - user_2) ** 2))\n",
    "\n",
    "\n",
    "def filter_user_without_movie(rating_data, movie_id):\n",
    "    \"\"\"movie_id 번째 영화를 평가하지 않은 유저들은 미리 제외해주는 함수\"\"\"\n",
    "    return rating_data[~np.isnan(rating_data[:, movie_id])]\n",
    "\n",
    "\n",
    "def fill_nan_with_user_mean(rating_data):\n",
    "    \"\"\"평점 데이터의 빈값들을 각 유저 평균 값으로 채워주는 함수\"\"\"\n",
    "    filled_data = np.copy(rating_data)  # 평점 데이터를 훼손하지 않기 위해 복사\n",
    "    row_mean = np.nanmean(filled_data, axis=0)  # 유저 평균 평점 계산\n",
    "\n",
    "    inds = np.where(np.isnan(filled_data))  # 비어 있는 인덱스들을 구한다\n",
    "    filled_data[inds] = np.take(row_mean, inds[1])  # 빈 인덱스를 유저 평점으로 채운다\n",
    "\n",
    "    return filled_data"
   ]
  },
  {
   "cell_type": "code",
   "execution_count": 13,
   "metadata": {},
   "outputs": [],
   "source": [
    "def get_k_neighbors(user_id, rating_data, k):\n",
    "    \"\"\"user_id에 해당하는 유저의 이웃들을 찾아주는 함수\"\"\"\n",
    "    distance_data = np.copy(rating_data)  # 평점 데이터를 훼손하지 않기 위해 복사\n",
    "    # 마지막에 거리 데이터를 담을 열을 추가한다\n",
    "    distance_data = np.append(distance_data, np.zeros((distance_data.shape[0], 1)), axis=1)\n",
    "\n",
    "    for i in range(len(distance_data)):\n",
    "        row = distance_data[i]  # 비교할 행\n",
    "\n",
    "        if i == user_id:  # 같은 유저면 거리를 무한대로 설정\n",
    "            row[-1] = np.inf\n",
    "        else:  # 다른 유저면 마지막 열에 거리 데이터를 저장\n",
    "            row[-1] = distance(distance_data[user_id][:-1], row[:-1])\n",
    "\n",
    "    # 데이터를 거리 열을 기준으로 정렬한다\n",
    "    distance_data = distance_data[np.argsort(distance_data[:, -1])]\n",
    "\n",
    "    # 가장 가까운 k개의 행만 리턴한다 + 마지막 열(거리)은 제외한다\n",
    "    return distance_data[:k, :-1]"
   ]
  },
  {
   "cell_type": "code",
   "execution_count": 40,
   "metadata": {},
   "outputs": [],
   "source": [
    "def predict_user_rating(rating_data, k, user_id, movie_id):\n",
    "    \"\"\"예측 행렬에 따라 유저의 영화 평점 예측 값 구하기\"\"\"\n",
    "    # movie_id 번째 영화를 보지 않은 유저를 데이터에서 미리 제외시킨다\n",
    "    filtered_data = filter_user_without_movie(rating_data, movie_id)\n",
    "    # 빈 값들이 채워진 새로운 행렬을 만든다\n",
    "    filled_data = fill_nan_with_user_mean(filtered_data)\n",
    "    # 유저 user_id와 비슷한 k개의 유저 데이터를 찾는다\n",
    "    neighbors = get_k_neighbors(user_id, filled_data, k)\n",
    "    \n",
    "    return np.mean(neighbors[:, movie_id])"
   ]
  },
  {
   "cell_type": "code",
   "execution_count": 41,
   "metadata": {},
   "outputs": [
    {
     "output_type": "execute_result",
     "data": {
      "text/plain": [
       "4.0"
      ]
     },
     "metadata": {},
     "execution_count": 41
    }
   ],
   "source": [
    "# 영화 3을 본 유저들 중, 유저 0과 비슷한 유저 5명을 찾는다(test code)\n",
    "rating_data = pd.read_csv(RATING_DATA_PATH, index_col='user_id').values  # 평점 데이터를 불러온다\n",
    "\n",
    "# 5개의 이웃들을 사용하여 유저 0의 영화 3에 대한 예측 평점 구하기\n",
    "predict_user_rating(rating_data, 5, 0, 3)"
   ]
  },
  {
   "cell_type": "code",
   "execution_count": null,
   "metadata": {},
   "outputs": [],
   "source": []
  }
 ]
}