{
 "cells": [
  {
   "cell_type": "markdown",
   "source": [
    "# Class 상속"
   ],
   "metadata": {
    "collapsed": false
   },
   "id": "4b8164af8f055a09"
  },
  {
   "cell_type": "markdown",
   "source": [
    "## 상속의 5가지 개념\n",
    "\n",
    "1. 기반 클래스가 갖는 모든 메서드와 속성이 파생 클래스에 그대로 상속된다.\n",
    "2. 파생 클래스에서 별도의 메서드나 속성을 추가할 수 있다.\n",
    "3. 메서드 오버라이딩\n",
    "4. `super()`\n",
    "5. Python의 모든 클래스는 `object` 클래스를 상속한다. -> 모든 것은 객체이다.\n",
    "\n",
    "> [Class Name].mro() : 상속 관계를 보여준다."
   ],
   "metadata": {
    "collapsed": false
   },
   "id": "6a8b93642cfe2acd"
  },
  {
   "cell_type": "code",
   "execution_count": 20,
   "outputs": [],
   "source": [
    "class Robot:\n",
    "    \"\"\"\n",
    "    Robot class\n",
    "\n",
    "    Arg:\n",
    "        name: 로봇 이름\n",
    "        code: 로봇 코드\n",
    "\n",
    "    Returns:\n",
    "        None\n",
    "    \"\"\"\n",
    "\n",
    "    # 클래스 변수: 인스턴스들이 공유하는 변수\n",
    "    population = 0\n",
    "\n",
    "    # 생성자 함수\n",
    "    def __init__(self: \"Robot\", name: str):\n",
    "        self.name = name  # 인스턴스 변수\n",
    "        Robot.population += 1\n",
    "\n",
    "    # 인스턴스 메서드\n",
    "    def say_hi(self: \"Robot\") -> None:\n",
    "        print(f\"Hi, I'm {self.name}\")\n",
    "\n",
    "    # 인스턴스 메서드\n",
    "    @staticmethod\n",
    "    def add_cal(a: int, b: int) -> int:\n",
    "        return a + b\n",
    "\n",
    "    # 인스턴스 메서드\n",
    "    def die(self: \"Robot\") -> None:\n",
    "        print(f\"{self.name} is being destroyed\")\n",
    "        Robot.population -= 1\n",
    "        if Robot.population == 0:\n",
    "            print(f\"{self.name} was the last one\")\n",
    "        else:\n",
    "            print(f\"we have {Robot.population} robots\")\n",
    "\n",
    "    @classmethod\n",
    "    def how_many(cls: \"Robot\") -> None:  # cls: 클래스 자체를 의미\n",
    "        print(f\"we have {cls.population} robots\")\n",
    "\n",
    "    def __str__(self: \"Robot\") -> str:\n",
    "        return f\"{self.name} robot!!\"\n",
    "\n",
    "    def __call__(self: \"Robot\") -> str:\n",
    "        print(\"called\")\n",
    "        return f\"{self.name} call!!\""
   ],
   "metadata": {
    "collapsed": false,
    "ExecuteTime": {
     "end_time": "2023-11-14T12:03:18.927736606Z",
     "start_time": "2023-11-14T12:03:18.911656957Z"
    }
   },
   "id": "c5eb3f53f6f44712"
  },
  {
   "cell_type": "markdown",
   "source": [
    "### 1. 기반 클래스가 갖는 모든 메서드와 속성이 파생 클래스에 그대로 상속된다."
   ],
   "metadata": {
    "collapsed": false
   },
   "id": "cd00792ab136a0e0"
  },
  {
   "cell_type": "code",
   "execution_count": 11,
   "outputs": [
    {
     "name": "stdout",
     "output_type": "stream",
     "text": [
      "siri robot!!\n",
      "we have 2 robots\n",
      "Hi, I'm siri\n",
      "siri is being destroyed\n",
      "we have 1 robots\n"
     ]
    }
   ],
   "source": [
    "class Siri(Robot):\n",
    "    pass\n",
    "\n",
    "\n",
    "siri = Siri(\"siri\")\n",
    "\n",
    "# 기반 클래스의 모든 메소드와 속성을 사용할 수 있다.\n",
    "print(siri)\n",
    "siri.how_many()\n",
    "siri.say_hi()\n",
    "siri.die()"
   ],
   "metadata": {
    "collapsed": false,
    "ExecuteTime": {
     "end_time": "2023-11-14T11:40:38.529692394Z",
     "start_time": "2023-11-14T11:40:38.514711824Z"
    }
   },
   "id": "d0d5f575858fec4d"
  },
  {
   "cell_type": "markdown",
   "source": [
    "### 2. 파생 클래스에서 별도의 메소드나 속성을 추가할 수 있다."
   ],
   "metadata": {
    "collapsed": false
   },
   "id": "fc2ef994b8f24f79"
  },
  {
   "cell_type": "code",
   "execution_count": 19,
   "outputs": [
    {
     "name": "stdout",
     "output_type": "stream",
     "text": [
      "네?\n",
      "8\n",
      "<class '__main__.Bixby'> hello samsung\n"
     ]
    }
   ],
   "source": [
    "class Bixby(Robot):\n",
    "    @staticmethod\n",
    "    def call_me():\n",
    "        print(\"네?\")\n",
    "\n",
    "    @staticmethod\n",
    "    def cal_mul(a: int, b: int):\n",
    "        return a * b\n",
    "\n",
    "    @classmethod\n",
    "    def hello_samsung(cls):\n",
    "        print(f\"{cls} hello samsung\")\n",
    "\n",
    "\n",
    "bixby = Bixby(\"bixby\")\n",
    "\n",
    "bixby.call_me()\n",
    "print(bixby.cal_mul(2, 4))\n",
    "Bixby.hello_samsung()"
   ],
   "metadata": {
    "collapsed": false,
    "ExecuteTime": {
     "end_time": "2023-11-14T11:58:30.932654359Z",
     "start_time": "2023-11-14T11:58:30.885439338Z"
    }
   },
   "id": "9266c87166c75cfb"
  },
  {
   "cell_type": "markdown",
   "source": [
    "### 3. 메소드 오버라이딩\n",
    "\n",
    "- 함수를 덮어씌어 새로운 동작을 하게 만드는 "
   ],
   "metadata": {
    "collapsed": false
   },
   "id": "55ffb4084a3a4ec5"
  },
  {
   "cell_type": "code",
   "execution_count": 30,
   "outputs": [
    {
     "name": "stdout",
     "output_type": "stream",
     "text": [
      "Greetings, my masters call me bixby. by samsung.\n",
      "We have 9 robots. by samsung\n"
     ]
    }
   ],
   "source": [
    "class Bixby(Robot):\n",
    "    def __init__(self: \"Bixby\", name: str, age: int):\n",
    "        self.name = name\n",
    "        self.age = age\n",
    "        Bixby.population += 1\n",
    "\n",
    "    @staticmethod\n",
    "    def call_me() -> None:\n",
    "        print(\"네?\")\n",
    "\n",
    "    @staticmethod\n",
    "    def cal_mul(a: int, b: int) -> int:\n",
    "        return a * b\n",
    "\n",
    "    @classmethod\n",
    "    def hello_samsung(cls: \"Robot\") -> None:\n",
    "        print(f\"{cls} hello samsung\")\n",
    "\n",
    "    def say_hi(self: \"Bixby\") -> None:\n",
    "        print(f\"Greetings, my masters call me {self.name}. by samsung.\")\n",
    "\n",
    "    @classmethod\n",
    "    def how_many(cls: \"Robot\") -> str:\n",
    "        return f\"We have {cls.population} robots. by samsung\"\n",
    "\n",
    "\n",
    "bixby = Bixby(\"bixby\", 30)\n",
    "bixby.say_hi()\n",
    "print(bixby.how_many())"
   ],
   "metadata": {
    "collapsed": false,
    "ExecuteTime": {
     "end_time": "2023-11-14T12:08:36.390949023Z",
     "start_time": "2023-11-14T12:08:36.382733763Z"
    }
   },
   "id": "81f5992a31f30b4e"
  },
  {
   "cell_type": "markdown",
   "source": [
    "### 4. super()"
   ],
   "metadata": {
    "collapsed": false
   },
   "id": "b2558ce8a8b1a55e"
  },
  {
   "cell_type": "code",
   "execution_count": 49,
   "outputs": [
    {
     "name": "stdout",
     "output_type": "stream",
     "text": [
      "30\n",
      "Hi, I'm bixby\n",
      "Greetings, my masters call me bixby. by samsung.\n"
     ]
    }
   ],
   "source": [
    "class Bixby(Robot):\n",
    "    def __init__(self: \"Bixby\", name: str, age: int):\n",
    "        super().__init__(name)\n",
    "        self.age = age\n",
    "\n",
    "    @staticmethod\n",
    "    def call_me() -> None:\n",
    "        print(\"네?\")\n",
    "\n",
    "    @staticmethod\n",
    "    def cal_mul(a: int, b: int) -> int:\n",
    "        return a * b\n",
    "\n",
    "    def cal_comb(self: \"Bixby\", a: int, b: int) -> int:\n",
    "        return self.cal_mul(a, b) + self.add_cal(a, b)\n",
    "\n",
    "    @classmethod\n",
    "    def hello_samsung(cls: \"Bixby\") -> None:\n",
    "        print(f\"{cls} hello samsung\")\n",
    "\n",
    "    def say_hi(self: \"Bixby\") -> None:\n",
    "        super().say_hi()  # 기반 클래스의 멤버 함수 호출\n",
    "        print(f\"Greetings, my masters call me {self.name}. by samsung.\")\n",
    "\n",
    "    @classmethod\n",
    "    def how_many(cls: \"Bixby\") -> str:\n",
    "        return f\"We have {cls.population} robots. by samsung\"\n",
    "\n",
    "\n",
    "bixby = Bixby(\"bixby\", 30)\n",
    "print(bixby.age)\n",
    "bixby.say_hi()"
   ],
   "metadata": {
    "collapsed": false,
    "ExecuteTime": {
     "end_time": "2023-11-14T12:14:07.343946754Z",
     "start_time": "2023-11-14T12:14:07.338810759Z"
    }
   },
   "id": "4350377c02f42d72"
  },
  {
   "cell_type": "markdown",
   "source": [
    "### 5. Python의 모든 클래스는 `object` 클래스를 상속한다."
   ],
   "metadata": {
    "collapsed": false
   },
   "id": "959e1ec4681a7755"
  },
  {
   "cell_type": "code",
   "execution_count": 51,
   "outputs": [
    {
     "name": "stdout",
     "output_type": "stream",
     "text": [
      "[<class '__main__.Bixby'>, <class '__main__.Robot'>, <class 'object'>]\n"
     ]
    }
   ],
   "source": [
    "print(Bixby.mro())"
   ],
   "metadata": {
    "collapsed": false,
    "ExecuteTime": {
     "end_time": "2023-11-14T12:17:44.387811294Z",
     "start_time": "2023-11-14T12:17:44.331118349Z"
    }
   },
   "id": "fab48f6250cef24c"
  },
  {
   "cell_type": "code",
   "execution_count": 52,
   "outputs": [
    {
     "name": "stdout",
     "output_type": "stream",
     "text": [
      "[<class '__main__.Robot'>, <class 'object'>]\n"
     ]
    }
   ],
   "source": [
    "print(Robot.mro())"
   ],
   "metadata": {
    "collapsed": false,
    "ExecuteTime": {
     "end_time": "2023-11-14T12:18:12.301382416Z",
     "start_time": "2023-11-14T12:18:12.271071363Z"
    }
   },
   "id": "407d9a06575b49e8"
  },
  {
   "cell_type": "code",
   "execution_count": 56,
   "outputs": [
    {
     "name": "stdout",
     "output_type": "stream",
     "text": [
      "<class 'object'>\n",
      "\n",
      "['__class__', '__delattr__', '__dir__', '__doc__', '__eq__', '__format__', '__ge__', '__getattribute__', '__getstate__', '__gt__', '__hash__', '__init__', '__init_subclass__', '__le__', '__lt__', '__ne__', '__new__', '__reduce__', '__reduce_ex__', '__repr__', '__setattr__', '__sizeof__', '__str__', '__subclasshook__']\n",
      "\n",
      "object\n",
      "\n",
      "The base class of the class hierarchy.\n",
      "\n",
      "When called, it accepts no arguments and returns a new featureless\n",
      "instance that has no instance attributes and cannot be given any.\n"
     ]
    }
   ],
   "source": [
    "print(object)\n",
    "print()\n",
    "print(dir(object))\n",
    "print()\n",
    "print(object.__name__)\n",
    "print()\n",
    "print(object.__doc__)"
   ],
   "metadata": {
    "collapsed": false,
    "ExecuteTime": {
     "end_time": "2023-11-14T12:19:22.821969017Z",
     "start_time": "2023-11-14T12:19:22.809862013Z"
    }
   },
   "id": "6b25b3f6cd22d984"
  },
  {
   "cell_type": "code",
   "execution_count": 57,
   "outputs": [
    {
     "name": "stdout",
     "output_type": "stream",
     "text": [
      "[<class 'int'>, <class 'object'>]\n"
     ]
    }
   ],
   "source": [
    "print(int.mro())"
   ],
   "metadata": {
    "collapsed": false,
    "ExecuteTime": {
     "end_time": "2023-11-14T12:19:30.369417525Z",
     "start_time": "2023-11-14T12:19:30.339123510Z"
    }
   },
   "id": "ae8df3cf82526427"
  },
  {
   "cell_type": "code",
   "execution_count": 58,
   "outputs": [
    {
     "name": "stdout",
     "output_type": "stream",
     "text": [
      "None\n",
      "8\n"
     ]
    }
   ],
   "source": [
    "print(int.__init__(8.9))\n",
    "print(int(8.9))"
   ],
   "metadata": {
    "collapsed": false,
    "ExecuteTime": {
     "end_time": "2023-11-14T12:20:49.190097871Z",
     "start_time": "2023-11-14T12:20:49.117484545Z"
    }
   },
   "id": "41a003c055cad44f"
  },
  {
   "cell_type": "markdown",
   "source": [
    "### 다중 상속\n",
    "\n",
    "- 부품을 조합하는 느낌으로만 사용\n",
    "- 즉, 막 가져오는 행위는 효율을 극히 낮춘다."
   ],
   "metadata": {
    "collapsed": false
   },
   "id": "ea951ca26d7152e2"
  },
  {
   "cell_type": "code",
   "execution_count": 59,
   "outputs": [
    {
     "name": "stdout",
     "output_type": "stream",
     "text": [
      "[<class '__main__.D'>, <class '__main__.A'>, <class '__main__.B'>, <class '__main__.C'>, <class 'object'>]\n"
     ]
    }
   ],
   "source": [
    "class A:\n",
    "    pass\n",
    "\n",
    "\n",
    "class B:\n",
    "    pass\n",
    "\n",
    "\n",
    "class C:\n",
    "    pass\n",
    "\n",
    "\n",
    "class D(A, B, C):\n",
    "    pass\n",
    "\n",
    "\n",
    "print(D.mro())"
   ],
   "metadata": {
    "collapsed": false,
    "ExecuteTime": {
     "end_time": "2023-11-14T12:22:27.496842396Z",
     "start_time": "2023-11-14T12:22:27.471025356Z"
    }
   },
   "id": "6a856faa94c96d95"
  }
 ],
 "metadata": {
  "kernelspec": {
   "display_name": "Python 3",
   "language": "python",
   "name": "python3"
  },
  "language_info": {
   "codemirror_mode": {
    "name": "ipython",
    "version": 2
   },
   "file_extension": ".py",
   "mimetype": "text/x-python",
   "name": "python",
   "nbconvert_exporter": "python",
   "pygments_lexer": "ipython2",
   "version": "2.7.6"
  }
 },
 "nbformat": 4,
 "nbformat_minor": 5
}
