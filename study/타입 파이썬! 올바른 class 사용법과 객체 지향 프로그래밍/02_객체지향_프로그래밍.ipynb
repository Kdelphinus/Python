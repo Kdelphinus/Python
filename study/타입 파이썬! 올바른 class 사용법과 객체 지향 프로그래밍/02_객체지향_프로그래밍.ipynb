{
 "cells": [
  {
   "cell_type": "markdown",
   "source": [
    "## 추상화 & 로봇 설계도 제작\n",
    "\n",
    "추상화: 불필요한 정보는 숨기고 중요한 정보만 표현함으로써 공통의 속성 값이나 행위(method)를 하나로 묶어 이름을 붙이는 것"
   ],
   "metadata": {
    "collapsed": false
   },
   "id": "1bdc7feb49755041"
  },
  {
   "cell_type": "code",
   "execution_count": 1,
   "outputs": [],
   "source": [
    "siri_name = \"siri\"\n",
    "siri_code = 20231106\n",
    "\n",
    "\n",
    "def siri_say_hi():\n",
    "    print(\"Hi, I'm Siri\")\n",
    "\n",
    "\n",
    "def siri_add_cal(a, b):\n",
    "    return a + b\n",
    "\n",
    "\n",
    "def siri_die():\n",
    "    print(\"Good bye\")"
   ],
   "metadata": {
    "collapsed": false,
    "ExecuteTime": {
     "end_time": "2023-11-08T09:29:31.088895645Z",
     "start_time": "2023-11-08T09:29:31.075829379Z"
    }
   },
   "id": "6deab4e51c2fc069"
  },
  {
   "cell_type": "markdown",
   "source": [
    "만약 siri, bixby가 겹치는 동작을 수행한다면 이를 추상화를 통해 하나의 `Robot` 이란 클래스를 만들고 각각 인스턴스화 시킬 수 있다. "
   ],
   "metadata": {
    "collapsed": false
   },
   "id": "313c5395a94a6a52"
  },
  {
   "cell_type": "code",
   "execution_count": 38,
   "outputs": [
    {
     "name": "stdout",
     "output_type": "stream",
     "text": [
      "we have 2 robots\n"
     ]
    }
   ],
   "source": [
    "class Robot:\n",
    "    \"\"\"\n",
    "    Robot class\n",
    "\n",
    "    Arg:\n",
    "        name: 로봇 이름\n",
    "        code: 로봇 코드\n",
    "\n",
    "    Returns:\n",
    "        None\n",
    "    \"\"\"\n",
    "\n",
    "    # 클래스 변수: 인스턴스들이 공유하는 변수\n",
    "    population = 0\n",
    "\n",
    "    # 생성자 함수\n",
    "    def __init__(self, name: str, code: int):\n",
    "        self.name = name  # 인스턴스 변수\n",
    "        self.code = code  # 인스턴스 변수\n",
    "        Robot.population += 1\n",
    "\n",
    "    # 인스턴스 메서드\n",
    "    def say_hi(self):\n",
    "        print(f\"Hi, I'm {self.name}\")\n",
    "\n",
    "    # 인스턴스 메서드\n",
    "    @staticmethod\n",
    "    def add_cal(a: int, b: int):\n",
    "        return a + b\n",
    "\n",
    "    # 인스턴스 메서드\n",
    "    def die(self):\n",
    "        print(f\"{self.name} is being destroyed\")\n",
    "        Robot.population -= 1\n",
    "        if Robot.population == 0:\n",
    "            print(f\"{self.name} was the last one\")\n",
    "        else:\n",
    "            print(f\"we have {Robot.population} robots\")\n",
    "\n",
    "    @classmethod\n",
    "    def how_many(cls: \"Robot\"):  # cls: 클래스 자체를 의미\n",
    "        print(f\"we have {cls.population} robots\")\n",
    "\n",
    "\n",
    "siri = Robot(\"siri\", 20231106)\n",
    "bixby = Robot(\"bixby\", 20231107)\n",
    "Robot.how_many()"
   ],
   "metadata": {
    "collapsed": false,
    "ExecuteTime": {
     "end_time": "2023-11-08T10:04:44.299628985Z",
     "start_time": "2023-11-08T10:04:44.256794019Z"
    }
   },
   "id": "8e47a5248fe28061"
  },
  {
   "cell_type": "markdown",
   "source": [
    "## Namespace\n",
    "\n",
    "- namespace : 개체를 구분할 수 있는 범위\n",
    "- `__dict__` : 네임스페이스를 확인할 수 있다.\n",
    "- `dir()` : 네임스페이스의 key를 확인할 수 있다.\n",
    "- `__doc__` : 클래스의 독스트링을 확인할 수 있다.\n",
    "- `__class__` : 어떤 클래스로 만들어진 인스턴스인지 확인할 수 있다."
   ],
   "metadata": {
    "collapsed": false
   },
   "id": "bb80641548a3b609"
  },
  {
   "cell_type": "markdown",
   "source": [
    "### \\_\\_dict\\_\\_\n",
    "\n",
    "네임스페이스를 확인할 수 있다."
   ],
   "metadata": {
    "collapsed": false
   },
   "id": "8be3b240455ea8b1"
  },
  {
   "cell_type": "code",
   "execution_count": 18,
   "outputs": [
    {
     "data": {
      "text/plain": "mappingproxy({'__module__': '__main__',\n              '__doc__': '\\n    Robot class\\n\\n    Arg:\\n        name: 로봇 이름\\n        code: 로봇 코드\\n\\n    Returns:\\n        None\\n    ',\n              'population': 2,\n              '__init__': <function __main__.Robot.__init__(self, name: str, code: int)>,\n              'say_hi': <function __main__.Robot.say_hi(self)>,\n              'add_cal': <staticmethod(<function Robot.add_cal at 0x7f0ef03e23e0>)>,\n              'die': <function __main__.Robot.die(self)>,\n              'how_many': <classmethod(<function Robot.how_many at 0x7f0ef03e2200>)>,\n              '__dict__': <attribute '__dict__' of 'Robot' objects>,\n              '__weakref__': <attribute '__weakref__' of 'Robot' objects>})"
     },
     "execution_count": 18,
     "metadata": {},
     "output_type": "execute_result"
    }
   ],
   "source": [
    "Robot.__dict__"
   ],
   "metadata": {
    "collapsed": false,
    "ExecuteTime": {
     "end_time": "2023-11-08T09:48:25.774285995Z",
     "start_time": "2023-11-08T09:48:25.768684258Z"
    }
   },
   "id": "83478f409f874c50"
  },
  {
   "cell_type": "code",
   "execution_count": 20,
   "outputs": [
    {
     "data": {
      "text/plain": "{'name': 'siri', 'code': 20231106}"
     },
     "execution_count": 20,
     "metadata": {},
     "output_type": "execute_result"
    }
   ],
   "source": [
    "siri.__dict__"
   ],
   "metadata": {
    "collapsed": false,
    "ExecuteTime": {
     "end_time": "2023-11-08T09:48:55.388484001Z",
     "start_time": "2023-11-08T09:48:55.345670476Z"
    }
   },
   "id": "308465ec7ef9e9ef"
  },
  {
   "cell_type": "markdown",
   "source": [
    "위를 보면 `siri` 의 namespace에선 메소드가 없다.\n",
    "python은 이때, 클래스의 namespace를 참조한다.\n",
    "\n",
    "그렇기에 아래와 같이 클래스 변수에 직접 접근해도 된다."
   ],
   "metadata": {
    "collapsed": false
   },
   "id": "5a30690e4d2fd8c9"
  },
  {
   "cell_type": "code",
   "execution_count": 21,
   "outputs": [
    {
     "data": {
      "text/plain": "2"
     },
     "execution_count": 21,
     "metadata": {},
     "output_type": "execute_result"
    }
   ],
   "source": [
    "siri.population"
   ],
   "metadata": {
    "collapsed": false,
    "ExecuteTime": {
     "end_time": "2023-11-08T09:51:19.050144296Z",
     "start_time": "2023-11-08T09:51:19.002982108Z"
    }
   },
   "id": "febb507af9351077"
  },
  {
   "cell_type": "markdown",
   "source": [
    "하지만 클래스가 `self` 를 필요로 하는 함수를 직접 실행할 수는 없다."
   ],
   "metadata": {
    "collapsed": false
   },
   "id": "ce0efc86d6bf210f"
  },
  {
   "cell_type": "code",
   "execution_count": 22,
   "outputs": [
    {
     "ename": "TypeError",
     "evalue": "Robot.say_hi() missing 1 required positional argument: 'self'",
     "output_type": "error",
     "traceback": [
      "\u001B[0;31m---------------------------------------------------------------------------\u001B[0m",
      "\u001B[0;31mTypeError\u001B[0m                                 Traceback (most recent call last)",
      "Cell \u001B[0;32mIn[22], line 1\u001B[0m\n\u001B[0;32m----> 1\u001B[0m \u001B[43mRobot\u001B[49m\u001B[38;5;241;43m.\u001B[39;49m\u001B[43msay_hi\u001B[49m\u001B[43m(\u001B[49m\u001B[43m)\u001B[49m\n",
      "\u001B[0;31mTypeError\u001B[0m: Robot.say_hi() missing 1 required positional argument: 'self'"
     ]
    }
   ],
   "source": [
    "Robot.say_hi()"
   ],
   "metadata": {
    "collapsed": false,
    "ExecuteTime": {
     "end_time": "2023-11-08T09:52:13.979058370Z",
     "start_time": "2023-11-08T09:52:13.931169468Z"
    }
   },
   "id": "dc46ac96396191c4"
  },
  {
   "cell_type": "markdown",
   "source": [
    "### dir()\n",
    "\n",
    "네임스페이스의 key를 확인할 수 있다."
   ],
   "metadata": {
    "collapsed": false
   },
   "id": "1d2ca952056d0117"
  },
  {
   "cell_type": "code",
   "execution_count": 23,
   "outputs": [
    {
     "data": {
      "text/plain": "['__class__',\n '__delattr__',\n '__dict__',\n '__dir__',\n '__doc__',\n '__eq__',\n '__format__',\n '__ge__',\n '__getattribute__',\n '__getstate__',\n '__gt__',\n '__hash__',\n '__init__',\n '__init_subclass__',\n '__le__',\n '__lt__',\n '__module__',\n '__ne__',\n '__new__',\n '__reduce__',\n '__reduce_ex__',\n '__repr__',\n '__setattr__',\n '__sizeof__',\n '__str__',\n '__subclasshook__',\n '__weakref__',\n 'add_cal',\n 'die',\n 'how_many',\n 'population',\n 'say_hi']"
     },
     "execution_count": 23,
     "metadata": {},
     "output_type": "execute_result"
    }
   ],
   "source": [
    "dir(Robot)"
   ],
   "metadata": {
    "collapsed": false,
    "ExecuteTime": {
     "end_time": "2023-11-08T09:54:37.062875871Z",
     "start_time": "2023-11-08T09:54:37.011582820Z"
    }
   },
   "id": "389e1b207fafcf21"
  },
  {
   "cell_type": "code",
   "execution_count": 24,
   "outputs": [
    {
     "data": {
      "text/plain": "['__class__',\n '__delattr__',\n '__dict__',\n '__dir__',\n '__doc__',\n '__eq__',\n '__format__',\n '__ge__',\n '__getattribute__',\n '__getstate__',\n '__gt__',\n '__hash__',\n '__init__',\n '__init_subclass__',\n '__le__',\n '__lt__',\n '__module__',\n '__ne__',\n '__new__',\n '__reduce__',\n '__reduce_ex__',\n '__repr__',\n '__setattr__',\n '__sizeof__',\n '__str__',\n '__subclasshook__',\n '__weakref__',\n 'add_cal',\n 'code',\n 'die',\n 'how_many',\n 'name',\n 'population',\n 'say_hi']"
     },
     "execution_count": 24,
     "metadata": {},
     "output_type": "execute_result"
    }
   ],
   "source": [
    "dir(siri)"
   ],
   "metadata": {
    "collapsed": false,
    "ExecuteTime": {
     "end_time": "2023-11-08T09:54:41.861329702Z",
     "start_time": "2023-11-08T09:54:41.826537420Z"
    }
   },
   "id": "15eea76473751950"
  },
  {
   "cell_type": "markdown",
   "source": [
    "접근할 수 있는 key를 확인할 수 있다. 그렇기에 가지고 있지 않는 멤버 함수들도 확인할 수 있다."
   ],
   "metadata": {
    "collapsed": false
   },
   "id": "d251bbc34c4a7d82"
  },
  {
   "cell_type": "markdown",
   "source": [
    "### \\_\\_doc\\_\\_"
   ],
   "metadata": {
    "collapsed": false
   },
   "id": "9a8625028f763f09"
  },
  {
   "cell_type": "code",
   "execution_count": 25,
   "outputs": [
    {
     "name": "stdout",
     "output_type": "stream",
     "text": [
      "\n",
      "    Robot class\n",
      "\n",
      "    Arg:\n",
      "        name: 로봇 이름\n",
      "        code: 로봇 코드\n",
      "\n",
      "    Returns:\n",
      "        None\n",
      "    \n"
     ]
    }
   ],
   "source": [
    "print(Robot.__doc__)"
   ],
   "metadata": {
    "collapsed": false,
    "ExecuteTime": {
     "end_time": "2023-11-08T09:56:16.649146371Z",
     "start_time": "2023-11-08T09:56:16.600303411Z"
    }
   },
   "id": "aa3b944f2e152d69"
  },
  {
   "cell_type": "markdown",
   "source": [
    "### \\_\\_class\\_\\_"
   ],
   "metadata": {
    "collapsed": false
   },
   "id": "2932485deb50256f"
  },
  {
   "cell_type": "code",
   "execution_count": 26,
   "outputs": [
    {
     "data": {
      "text/plain": "__main__.Robot"
     },
     "execution_count": 26,
     "metadata": {},
     "output_type": "execute_result"
    }
   ],
   "source": [
    "siri.__class__"
   ],
   "metadata": {
    "collapsed": false,
    "ExecuteTime": {
     "end_time": "2023-11-08T09:56:29.142076781Z",
     "start_time": "2023-11-08T09:56:29.095849436Z"
    }
   },
   "id": "a3f1870b28307cbb"
  },
  {
   "cell_type": "markdown",
   "source": [
    "## @staticmethod & @classmethod\n",
    "\n",
    "- `@staticmethod`\n",
    "    - self를 호출하지 않아 인스턴스뿐만 아니라 클래스에서 직접 접근할 수 있는 메소드\n",
    "- `@classmethod`\n",
    "    - 인스턴스가 아닌 클래스에서 직접 접근할 수 있는 메소드.\n",
    "    - 첫번째 인자로 클래스 자체를 받는다."
   ],
   "metadata": {
    "collapsed": false
   },
   "id": "81e876f731186be5"
  },
  {
   "cell_type": "code",
   "execution_count": 33,
   "outputs": [
    {
     "data": {
      "text/plain": "3"
     },
     "execution_count": 33,
     "metadata": {},
     "output_type": "execute_result"
    }
   ],
   "source": [
    "Robot.add_cal(1, 2)"
   ],
   "metadata": {
    "collapsed": false,
    "ExecuteTime": {
     "end_time": "2023-11-08T10:04:03.827517829Z",
     "start_time": "2023-11-08T10:04:03.786641375Z"
    }
   },
   "id": "be00e69c09167663"
  },
  {
   "cell_type": "code",
   "execution_count": 34,
   "outputs": [
    {
     "data": {
      "text/plain": "3"
     },
     "execution_count": 34,
     "metadata": {},
     "output_type": "execute_result"
    }
   ],
   "source": [
    "siri.add_cal(1, 2)"
   ],
   "metadata": {
    "collapsed": false,
    "ExecuteTime": {
     "end_time": "2023-11-08T10:04:04.682774238Z",
     "start_time": "2023-11-08T10:04:04.669660667Z"
    }
   },
   "id": "11d38f889dfdd4d0"
  },
  {
   "cell_type": "markdown",
   "source": [
    "## self vs cls"
   ],
   "metadata": {
    "collapsed": false
   },
   "id": "ba5575084451d5ba"
  },
  {
   "cell_type": "markdown",
   "source": [
    "### self\n",
    "\n",
    "- 인스턴스 자신을 가리키는 키워드\n",
    "- self는 인스턴스 객체\n",
    "- 클래스 안에 있는 self의 주소와 만들어진 인스턴스의 주소는 같다.\n",
    "- 즉, self는 인스턴스 그 자체이다."
   ],
   "metadata": {
    "collapsed": false
   },
   "id": "a1e50838402234a1"
  },
  {
   "cell_type": "code",
   "execution_count": 41,
   "outputs": [
    {
     "name": "stdout",
     "output_type": "stream",
     "text": [
      "cls: <class '__main__.SelfTest'>\n",
      "\n",
      "self: <__main__.SelfTest object at 0x7f0ef05957c0>\n",
      "class 안의 self 주소: 139702138656704\n",
      "\n",
      "인스턴스의 주소: 139702138656704\n"
     ]
    }
   ],
   "source": [
    "class SelfTest:\n",
    "    name = \"aaa\"\n",
    "\n",
    "    def __init__(self, x):\n",
    "        self.x = x\n",
    "\n",
    "    @classmethod\n",
    "    def func1(cls):\n",
    "        print(f\"cls: {cls}\")\n",
    "        print(\"\")\n",
    "\n",
    "    def func2(self):\n",
    "        print(f\"self: {self}\")\n",
    "        print(f\"class 안의 self 주소: {id(self)}\")\n",
    "        print(\"\")\n",
    "\n",
    "\n",
    "self_test = SelfTest(1)\n",
    "SelfTest.func1()\n",
    "self_test.func2()\n",
    "print(f\"인스턴스의 주소: {id(self_test)}\")"
   ],
   "metadata": {
    "collapsed": false,
    "ExecuteTime": {
     "end_time": "2023-11-08T10:21:46.071848256Z",
     "start_time": "2023-11-08T10:21:46.021469026Z"
    }
   },
   "id": "6e7ad743770fc608"
  },
  {
   "cell_type": "markdown",
   "source": [
    "### cls\n",
    "\n",
    "- 클래스 자체를 가리키는 키워드"
   ],
   "metadata": {
    "collapsed": false
   },
   "id": "721dc9b15baddd9"
  },
  {
   "cell_type": "code",
   "execution_count": 42,
   "outputs": [
    {
     "name": "stdout",
     "output_type": "stream",
     "text": [
      "cls: <class '__main__.SelfTest'>\n"
     ]
    }
   ],
   "source": [
    "self_test.func1()"
   ],
   "metadata": {
    "collapsed": false,
    "ExecuteTime": {
     "end_time": "2023-11-08T10:25:57.110491579Z",
     "start_time": "2023-11-08T10:25:57.032714672Z"
    }
   },
   "id": "4d9b13efe20acb52"
  },
  {
   "cell_type": "markdown",
   "source": [
    "- 인스턴스에서 classmethod를 호출해도 인스턴스를 통해서 클래스를 호출한다."
   ],
   "metadata": {
    "collapsed": false
   },
   "id": "9e2c44679bf09547"
  },
  {
   "cell_type": "code",
   "execution_count": null,
   "outputs": [],
   "source": [],
   "metadata": {
    "collapsed": false
   },
   "id": "bff383310ffdb176"
  }
 ],
 "metadata": {
  "kernelspec": {
   "display_name": "Python 3",
   "language": "python",
   "name": "python3"
  },
  "language_info": {
   "codemirror_mode": {
    "name": "ipython",
    "version": 2
   },
   "file_extension": ".py",
   "mimetype": "text/x-python",
   "name": "python",
   "nbconvert_exporter": "python",
   "pygments_lexer": "ipython2",
   "version": "2.7.6"
  }
 },
 "nbformat": 4,
 "nbformat_minor": 5
}
