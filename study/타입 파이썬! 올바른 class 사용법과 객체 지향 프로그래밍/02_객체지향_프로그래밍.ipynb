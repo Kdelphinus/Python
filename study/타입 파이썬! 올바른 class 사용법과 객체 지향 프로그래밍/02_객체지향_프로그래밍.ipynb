{
 "cells": [
  {
   "cell_type": "markdown",
   "source": [
    "## 추상화 & 로봇 설계도 제작\n",
    "\n",
    "추상화: 불필요한 정보는 숨기고 중요한 정보만 표현함으로써 공통의 속성 값이나 행위(method)를 하나로 묶어 이름을 붙이는 것"
   ],
   "metadata": {
    "collapsed": false
   },
   "id": "1bdc7feb49755041"
  },
  {
   "cell_type": "code",
   "execution_count": 1,
   "outputs": [],
   "source": [
    "siri_name = \"siri\"\n",
    "siri_code = 20231106\n",
    "\n",
    "\n",
    "def siri_say_hi():\n",
    "    print(\"Hi, I'm Siri\")\n",
    "\n",
    "\n",
    "def siri_add_cal(a, b):\n",
    "    return a + b\n",
    "\n",
    "\n",
    "def siri_die():\n",
    "    print(\"Good bye\")"
   ],
   "metadata": {
    "collapsed": false,
    "ExecuteTime": {
     "end_time": "2023-11-14T11:11:58.589504750Z",
     "start_time": "2023-11-14T11:11:58.520916828Z"
    }
   },
   "id": "6deab4e51c2fc069"
  },
  {
   "cell_type": "markdown",
   "source": [
    "만약 siri, bixby가 겹치는 동작을 수행한다면 이를 추상화를 통해 하나의 `Robot` 이란 클래스를 만들고 각각 인스턴스화 시킬 수 있다. "
   ],
   "metadata": {
    "collapsed": false
   },
   "id": "313c5395a94a6a52"
  },
  {
   "cell_type": "code",
   "execution_count": 19,
   "outputs": [
    {
     "name": "stdout",
     "output_type": "stream",
     "text": [
      "we have 2 robots\n"
     ]
    }
   ],
   "source": [
    "class Robot:\n",
    "    \"\"\"\n",
    "    Robot class\n",
    "\n",
    "    Arg:\n",
    "        name: 로봇 이름\n",
    "        code: 로봇 코드\n",
    "\n",
    "    Returns:\n",
    "        None\n",
    "    \"\"\"\n",
    "\n",
    "    # 클래스 변수: 인스턴스들이 공유하는 변수\n",
    "    population = 0\n",
    "\n",
    "    # 생성자 함수\n",
    "    def __init__(self, name: str, code: int):\n",
    "        self.name = name  # 인스턴스 변수\n",
    "        self.code = code  # 인스턴스 변수\n",
    "        Robot.population += 1\n",
    "\n",
    "    # 인스턴스 메서드\n",
    "    def say_hi(self):\n",
    "        print(f\"Hi, I'm {self.name}\")\n",
    "\n",
    "    # 인스턴스 메서드\n",
    "    @staticmethod\n",
    "    def add_cal(a: int, b: int):\n",
    "        return a + b\n",
    "\n",
    "    # 인스턴스 메서드\n",
    "    def die(self):\n",
    "        print(f\"{self.name} is being destroyed\")\n",
    "        Robot.population -= 1\n",
    "        if Robot.population == 0:\n",
    "            print(f\"{self.name} was the last one\")\n",
    "        else:\n",
    "            print(f\"we have {Robot.population} robots\")\n",
    "\n",
    "    @classmethod\n",
    "    def how_many(cls: \"Robot\"):  # cls: 클래스 자체를 의미\n",
    "        print(f\"we have {cls.population} robots\")\n",
    "\n",
    "    def __str__(self):\n",
    "        return f\"{self.name} robot!!\"\n",
    "\n",
    "    def __call__(self):\n",
    "        print(\"called\")\n",
    "        return f\"{self.name} call!!\"\n",
    "\n",
    "\n",
    "siri = Robot(\"siri\", 20231106)\n",
    "bixby = Robot(\"bixby\", 20231107)\n",
    "Robot.how_many()"
   ],
   "metadata": {
    "collapsed": false,
    "ExecuteTime": {
     "end_time": "2023-11-14T11:31:07.568697449Z",
     "start_time": "2023-11-14T11:31:07.523779498Z"
    }
   },
   "id": "8e47a5248fe28061"
  },
  {
   "cell_type": "markdown",
   "source": [
    "## Namespace\n",
    "\n",
    "- namespace : 개체를 구분할 수 있는 범위\n",
    "- `__dict__` : 네임스페이스를 확인할 수 있다.\n",
    "- `dir()` : 네임스페이스의 key를 확인할 수 있다.\n",
    "- `__doc__` : 클래스의 독스트링을 확인할 수 있다.\n",
    "- `__class__` : 어떤 클래스로 만들어진 인스턴스인지 확인할 수 있다."
   ],
   "metadata": {
    "collapsed": false
   },
   "id": "bb80641548a3b609"
  },
  {
   "cell_type": "markdown",
   "source": [
    "### \\_\\_dict\\_\\_\n",
    "\n",
    "네임스페이스를 확인할 수 있다."
   ],
   "metadata": {
    "collapsed": false
   },
   "id": "8be3b240455ea8b1"
  },
  {
   "cell_type": "code",
   "execution_count": 3,
   "outputs": [
    {
     "data": {
      "text/plain": "mappingproxy({'__module__': '__main__',\n              '__doc__': '\\n    Robot class\\n\\n    Arg:\\n        name: 로봇 이름\\n        code: 로봇 코드\\n\\n    Returns:\\n        None\\n    ',\n              'population': 2,\n              '__init__': <function __main__.Robot.__init__(self, name: str, code: int)>,\n              'say_hi': <function __main__.Robot.say_hi(self)>,\n              'add_cal': <staticmethod(<function Robot.add_cal at 0x7fa33c04b740>)>,\n              'die': <function __main__.Robot.die(self)>,\n              'how_many': <classmethod(<function Robot.how_many at 0x7fa33c04b880>)>,\n              '__dict__': <attribute '__dict__' of 'Robot' objects>,\n              '__weakref__': <attribute '__weakref__' of 'Robot' objects>})"
     },
     "execution_count": 3,
     "metadata": {},
     "output_type": "execute_result"
    }
   ],
   "source": [
    "Robot.__dict__"
   ],
   "metadata": {
    "collapsed": false,
    "ExecuteTime": {
     "end_time": "2023-11-14T11:11:58.706508233Z",
     "start_time": "2023-11-14T11:11:58.570316264Z"
    }
   },
   "id": "83478f409f874c50"
  },
  {
   "cell_type": "code",
   "execution_count": 4,
   "outputs": [
    {
     "data": {
      "text/plain": "{'name': 'siri', 'code': 20231106}"
     },
     "execution_count": 4,
     "metadata": {},
     "output_type": "execute_result"
    }
   ],
   "source": [
    "siri.__dict__"
   ],
   "metadata": {
    "collapsed": false,
    "ExecuteTime": {
     "end_time": "2023-11-14T11:11:58.707524823Z",
     "start_time": "2023-11-14T11:11:58.570708215Z"
    }
   },
   "id": "308465ec7ef9e9ef"
  },
  {
   "cell_type": "markdown",
   "source": [
    "위를 보면 `siri` 의 namespace에선 메소드가 없다.\n",
    "python은 이때, 클래스의 namespace를 참조한다.\n",
    "\n",
    "그렇기에 아래와 같이 클래스 변수에 직접 접근해도 된다."
   ],
   "metadata": {
    "collapsed": false
   },
   "id": "5a30690e4d2fd8c9"
  },
  {
   "cell_type": "code",
   "execution_count": 5,
   "outputs": [
    {
     "data": {
      "text/plain": "2"
     },
     "execution_count": 5,
     "metadata": {},
     "output_type": "execute_result"
    }
   ],
   "source": [
    "siri.population"
   ],
   "metadata": {
    "collapsed": false,
    "ExecuteTime": {
     "end_time": "2023-11-14T11:11:58.708833209Z",
     "start_time": "2023-11-14T11:11:58.571136762Z"
    }
   },
   "id": "febb507af9351077"
  },
  {
   "cell_type": "markdown",
   "source": [
    "하지만 클래스가 `self` 를 필요로 하는 함수를 직접 실행할 수는 없다."
   ],
   "metadata": {
    "collapsed": false
   },
   "id": "ce0efc86d6bf210f"
  },
  {
   "cell_type": "code",
   "execution_count": 6,
   "outputs": [
    {
     "ename": "TypeError",
     "evalue": "Robot.say_hi() missing 1 required positional argument: 'self'",
     "output_type": "error",
     "traceback": [
      "\u001B[0;31m---------------------------------------------------------------------------\u001B[0m",
      "\u001B[0;31mTypeError\u001B[0m                                 Traceback (most recent call last)",
      "Cell \u001B[0;32mIn[6], line 1\u001B[0m\n\u001B[0;32m----> 1\u001B[0m \u001B[43mRobot\u001B[49m\u001B[38;5;241;43m.\u001B[39;49m\u001B[43msay_hi\u001B[49m\u001B[43m(\u001B[49m\u001B[43m)\u001B[49m\n",
      "\u001B[0;31mTypeError\u001B[0m: Robot.say_hi() missing 1 required positional argument: 'self'"
     ]
    }
   ],
   "source": [
    "Robot.say_hi()"
   ],
   "metadata": {
    "collapsed": false,
    "ExecuteTime": {
     "end_time": "2023-11-14T11:11:58.837716965Z",
     "start_time": "2023-11-14T11:11:58.571472349Z"
    }
   },
   "id": "dc46ac96396191c4"
  },
  {
   "cell_type": "markdown",
   "source": [
    "### dir()\n",
    "\n",
    "네임스페이스의 key를 확인할 수 있다."
   ],
   "metadata": {
    "collapsed": false
   },
   "id": "1d2ca952056d0117"
  },
  {
   "cell_type": "code",
   "execution_count": 7,
   "outputs": [
    {
     "data": {
      "text/plain": "['__class__',\n '__delattr__',\n '__dict__',\n '__dir__',\n '__doc__',\n '__eq__',\n '__format__',\n '__ge__',\n '__getattribute__',\n '__getstate__',\n '__gt__',\n '__hash__',\n '__init__',\n '__init_subclass__',\n '__le__',\n '__lt__',\n '__module__',\n '__ne__',\n '__new__',\n '__reduce__',\n '__reduce_ex__',\n '__repr__',\n '__setattr__',\n '__sizeof__',\n '__str__',\n '__subclasshook__',\n '__weakref__',\n 'add_cal',\n 'die',\n 'how_many',\n 'population',\n 'say_hi']"
     },
     "execution_count": 7,
     "metadata": {},
     "output_type": "execute_result"
    }
   ],
   "source": [
    "dir(Robot)"
   ],
   "metadata": {
    "collapsed": false,
    "ExecuteTime": {
     "end_time": "2023-11-14T11:12:28.874135256Z",
     "start_time": "2023-11-14T11:12:28.792751004Z"
    }
   },
   "id": "389e1b207fafcf21"
  },
  {
   "cell_type": "code",
   "execution_count": 8,
   "outputs": [
    {
     "data": {
      "text/plain": "['__class__',\n '__delattr__',\n '__dict__',\n '__dir__',\n '__doc__',\n '__eq__',\n '__format__',\n '__ge__',\n '__getattribute__',\n '__getstate__',\n '__gt__',\n '__hash__',\n '__init__',\n '__init_subclass__',\n '__le__',\n '__lt__',\n '__module__',\n '__ne__',\n '__new__',\n '__reduce__',\n '__reduce_ex__',\n '__repr__',\n '__setattr__',\n '__sizeof__',\n '__str__',\n '__subclasshook__',\n '__weakref__',\n 'add_cal',\n 'code',\n 'die',\n 'how_many',\n 'name',\n 'population',\n 'say_hi']"
     },
     "execution_count": 8,
     "metadata": {},
     "output_type": "execute_result"
    }
   ],
   "source": [
    "dir(siri)"
   ],
   "metadata": {
    "collapsed": false,
    "ExecuteTime": {
     "end_time": "2023-11-14T11:12:29.857779238Z",
     "start_time": "2023-11-14T11:12:29.841862559Z"
    }
   },
   "id": "15eea76473751950"
  },
  {
   "cell_type": "markdown",
   "source": [
    "접근할 수 있는 key를 확인할 수 있다. 그렇기에 가지고 있지 않는 멤버 함수들도 확인할 수 있다."
   ],
   "metadata": {
    "collapsed": false
   },
   "id": "d251bbc34c4a7d82"
  },
  {
   "cell_type": "markdown",
   "source": [
    "### \\_\\_doc\\_\\_"
   ],
   "metadata": {
    "collapsed": false
   },
   "id": "9a8625028f763f09"
  },
  {
   "cell_type": "code",
   "execution_count": 9,
   "outputs": [
    {
     "name": "stdout",
     "output_type": "stream",
     "text": [
      "\n",
      "    Robot class\n",
      "\n",
      "    Arg:\n",
      "        name: 로봇 이름\n",
      "        code: 로봇 코드\n",
      "\n",
      "    Returns:\n",
      "        None\n",
      "    \n"
     ]
    }
   ],
   "source": [
    "print(Robot.__doc__)"
   ],
   "metadata": {
    "collapsed": false,
    "ExecuteTime": {
     "end_time": "2023-11-14T11:12:31.746779024Z",
     "start_time": "2023-11-14T11:12:31.739458617Z"
    }
   },
   "id": "aa3b944f2e152d69"
  },
  {
   "cell_type": "markdown",
   "source": [
    "### \\_\\_class\\_\\_"
   ],
   "metadata": {
    "collapsed": false
   },
   "id": "2932485deb50256f"
  },
  {
   "cell_type": "code",
   "execution_count": 10,
   "outputs": [
    {
     "data": {
      "text/plain": "__main__.Robot"
     },
     "execution_count": 10,
     "metadata": {},
     "output_type": "execute_result"
    }
   ],
   "source": [
    "siri.__class__"
   ],
   "metadata": {
    "collapsed": false,
    "ExecuteTime": {
     "end_time": "2023-11-14T11:12:32.825120134Z",
     "start_time": "2023-11-14T11:12:32.815666089Z"
    }
   },
   "id": "a3f1870b28307cbb"
  },
  {
   "cell_type": "markdown",
   "source": [
    "## @staticmethod & @classmethod\n",
    "\n",
    "- `@staticmethod`\n",
    "    - self를 호출하지 않아 인스턴스뿐만 아니라 클래스에서 직접 접근할 수 있는 메소드\n",
    "- `@classmethod`\n",
    "    - 인스턴스가 아닌 클래스에서 직접 접근할 수 있는 메소드.\n",
    "    - 첫번째 인자로 클래스 자체를 받는다."
   ],
   "metadata": {
    "collapsed": false
   },
   "id": "81e876f731186be5"
  },
  {
   "cell_type": "code",
   "execution_count": 11,
   "outputs": [
    {
     "data": {
      "text/plain": "3"
     },
     "execution_count": 11,
     "metadata": {},
     "output_type": "execute_result"
    }
   ],
   "source": [
    "Robot.add_cal(1, 2)"
   ],
   "metadata": {
    "collapsed": false,
    "ExecuteTime": {
     "end_time": "2023-11-14T11:12:33.655143943Z",
     "start_time": "2023-11-14T11:12:33.623536972Z"
    }
   },
   "id": "be00e69c09167663"
  },
  {
   "cell_type": "code",
   "execution_count": 12,
   "outputs": [
    {
     "data": {
      "text/plain": "3"
     },
     "execution_count": 12,
     "metadata": {},
     "output_type": "execute_result"
    }
   ],
   "source": [
    "siri.add_cal(1, 2)"
   ],
   "metadata": {
    "collapsed": false,
    "ExecuteTime": {
     "end_time": "2023-11-14T11:12:34.206464115Z",
     "start_time": "2023-11-14T11:12:34.195322645Z"
    }
   },
   "id": "11d38f889dfdd4d0"
  },
  {
   "cell_type": "markdown",
   "source": [
    "## self vs cls"
   ],
   "metadata": {
    "collapsed": false
   },
   "id": "ba5575084451d5ba"
  },
  {
   "cell_type": "markdown",
   "source": [
    "### self\n",
    "\n",
    "- 인스턴스 자신을 가리키는 키워드\n",
    "- self는 인스턴스 객체\n",
    "- 클래스 안에 있는 self의 주소와 만들어진 인스턴스의 주소는 같다.\n",
    "- 즉, self는 인스턴스 그 자체이다."
   ],
   "metadata": {
    "collapsed": false
   },
   "id": "a1e50838402234a1"
  },
  {
   "cell_type": "code",
   "execution_count": 16,
   "outputs": [
    {
     "name": "stdout",
     "output_type": "stream",
     "text": [
      "cls: <class '__main__.SelfTest'>\n",
      "\n",
      "self: <__main__.SelfTest object at 0x7fa33861dbe0>\n",
      "class 안의 self 주소: 140339002334176\n",
      "\n",
      "인스턴스의 주소: 140339002334176\n"
     ]
    }
   ],
   "source": [
    "class SelfTest:\n",
    "    name = \"aaa\"\n",
    "\n",
    "    def __init__(self, x):\n",
    "        self.x = x\n",
    "\n",
    "    @classmethod\n",
    "    def func1(cls):\n",
    "        print(f\"cls: {cls}\")\n",
    "        print(\"\")\n",
    "\n",
    "    def func2(self):\n",
    "        print(f\"self: {self}\")\n",
    "        print(f\"class 안의 self 주소: {id(self)}\")\n",
    "        print(\"\")\n",
    "\n",
    "\n",
    "self_test = SelfTest(1)\n",
    "SelfTest.func1()\n",
    "self_test.func2()\n",
    "print(f\"인스턴스의 주소: {id(self_test)}\")"
   ],
   "metadata": {
    "collapsed": false,
    "ExecuteTime": {
     "end_time": "2023-11-14T11:29:57.459204214Z",
     "start_time": "2023-11-14T11:29:57.447669995Z"
    }
   },
   "id": "6e7ad743770fc608"
  },
  {
   "cell_type": "markdown",
   "source": [
    "### cls\n",
    "\n",
    "- 클래스 자체를 가리키는 키워드"
   ],
   "metadata": {
    "collapsed": false
   },
   "id": "721dc9b15baddd9"
  },
  {
   "cell_type": "code",
   "execution_count": 17,
   "outputs": [
    {
     "name": "stdout",
     "output_type": "stream",
     "text": [
      "cls: <class '__main__.SelfTest'>\n"
     ]
    }
   ],
   "source": [
    "self_test.func1()"
   ],
   "metadata": {
    "collapsed": false,
    "ExecuteTime": {
     "end_time": "2023-11-14T11:29:58.192359779Z",
     "start_time": "2023-11-14T11:29:58.180098520Z"
    }
   },
   "id": "4d9b13efe20acb52"
  },
  {
   "cell_type": "markdown",
   "source": [
    "- 인스턴스에서 classmethod를 호출해도 인스턴스를 통해서 클래스를 호출한다."
   ],
   "metadata": {
    "collapsed": false
   },
   "id": "9e2c44679bf09547"
  },
  {
   "cell_type": "markdown",
   "source": [
    "## Magic Method\n",
    "\n",
    "- 파이썬 내부에 이미 정의되어 있는 메소드\n",
    "- 아래 예시 외에도 `__` 로 감싸져 있는 메소드들은 모두 magic method이다."
   ],
   "metadata": {
    "collapsed": false
   },
   "id": "c0468745fb13dec8"
  },
  {
   "cell_type": "markdown",
   "source": [
    "### \\_\\_init\\_\\_\n",
    "\n",
    "- 생성자 함수\n",
    "\n",
    "\n",
    "### \\_\\_str\\_\\_\n",
    "\n",
    "- 인스턴스 자체를 출력할 때의 형식을 지정해주는 함수\n",
    "- `__str__` 함수를 오버라이딩해서 재정의할 수 있다.\n",
    "\n",
    "### \\_\\_call\\_\\_\n",
    "\n",
    "- 인스턴스를 함수처럼 호출할 수 있게 해주는 함수"
   ],
   "metadata": {
    "collapsed": false
   },
   "id": "dd03e1e4aec5aea5"
  },
  {
   "cell_type": "code",
   "execution_count": 23,
   "outputs": [
    {
     "name": "stdout",
     "output_type": "stream",
     "text": [
      "siri robot!!\n"
     ]
    }
   ],
   "source": [
    "# __str__ 오버라이딩\n",
    "print(siri)"
   ],
   "metadata": {
    "collapsed": false,
    "ExecuteTime": {
     "end_time": "2023-11-14T11:32:23.441520313Z",
     "start_time": "2023-11-14T11:32:23.417843826Z"
    }
   },
   "id": "b2522c9f18816196"
  },
  {
   "cell_type": "code",
   "execution_count": 24,
   "outputs": [
    {
     "name": "stdout",
     "output_type": "stream",
     "text": [
      "called\n"
     ]
    },
    {
     "data": {
      "text/plain": "'siri call!!'"
     },
     "execution_count": 24,
     "metadata": {},
     "output_type": "execute_result"
    }
   ],
   "source": [
    "# __call__ 정의\n",
    "siri()"
   ],
   "metadata": {
    "collapsed": false,
    "ExecuteTime": {
     "end_time": "2023-11-14T11:32:32.145980202Z",
     "start_time": "2023-11-14T11:32:32.083420996Z"
    }
   },
   "id": "2f17122652377ebb"
  }
 ],
 "metadata": {
  "kernelspec": {
   "display_name": "Python 3",
   "language": "python",
   "name": "python3"
  },
  "language_info": {
   "codemirror_mode": {
    "name": "ipython",
    "version": 2
   },
   "file_extension": ".py",
   "mimetype": "text/x-python",
   "name": "python",
   "nbconvert_exporter": "python",
   "pygments_lexer": "ipython2",
   "version": "2.7.6"
  }
 },
 "nbformat": 4,
 "nbformat_minor": 5
}
