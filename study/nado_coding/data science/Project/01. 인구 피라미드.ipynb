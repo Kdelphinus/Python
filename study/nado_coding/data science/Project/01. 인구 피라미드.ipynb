{
 "cells": [
  {
   "cell_type": "markdown",
   "id": "9a15b179",
   "metadata": {},
   "source": [
    "# 1. 인구 피라미드"
   ]
  },
  {
   "cell_type": "markdown",
   "id": "fa180f66",
   "metadata": {},
   "source": [
    "## 남자 데이터 정의"
   ]
  },
  {
   "cell_type": "code",
   "execution_count": 1,
   "id": "992339da",
   "metadata": {},
   "outputs": [
    {
     "name": "stderr",
     "output_type": "stream",
     "text": [
      "C:\\Users\\delphinus\\anaconda3\\lib\\site-packages\\openpyxl\\styles\\stylesheet.py:226: UserWarning: Workbook contains no default style, apply openpyxl's default\n",
      "  warn(\"Workbook contains no default style, apply openpyxl's default\")\n"
     ]
    },
    {
     "data": {
      "text/html": [
       "<div>\n",
       "<style scoped>\n",
       "    .dataframe tbody tr th:only-of-type {\n",
       "        vertical-align: middle;\n",
       "    }\n",
       "\n",
       "    .dataframe tbody tr th {\n",
       "        vertical-align: top;\n",
       "    }\n",
       "\n",
       "    .dataframe thead th {\n",
       "        text-align: right;\n",
       "    }\n",
       "</style>\n",
       "<table border=\"1\" class=\"dataframe\">\n",
       "  <thead>\n",
       "    <tr style=\"text-align: right;\">\n",
       "      <th></th>\n",
       "      <th>0~4세</th>\n",
       "      <th>5~9세</th>\n",
       "      <th>10~14세</th>\n",
       "      <th>15~19세</th>\n",
       "      <th>20~24세</th>\n",
       "      <th>25~29세</th>\n",
       "      <th>30~34세</th>\n",
       "      <th>35~39세</th>\n",
       "      <th>40~44세</th>\n",
       "      <th>45~49세</th>\n",
       "      <th>...</th>\n",
       "      <th>55~59세</th>\n",
       "      <th>60~64세</th>\n",
       "      <th>65~69세</th>\n",
       "      <th>70~74세</th>\n",
       "      <th>75~79세</th>\n",
       "      <th>80~84세</th>\n",
       "      <th>85~89세</th>\n",
       "      <th>90~94세</th>\n",
       "      <th>95~99세</th>\n",
       "      <th>100세 이상</th>\n",
       "    </tr>\n",
       "    <tr>\n",
       "      <th>행정기관</th>\n",
       "      <th></th>\n",
       "      <th></th>\n",
       "      <th></th>\n",
       "      <th></th>\n",
       "      <th></th>\n",
       "      <th></th>\n",
       "      <th></th>\n",
       "      <th></th>\n",
       "      <th></th>\n",
       "      <th></th>\n",
       "      <th></th>\n",
       "      <th></th>\n",
       "      <th></th>\n",
       "      <th></th>\n",
       "      <th></th>\n",
       "      <th></th>\n",
       "      <th></th>\n",
       "      <th></th>\n",
       "      <th></th>\n",
       "      <th></th>\n",
       "      <th></th>\n",
       "    </tr>\n",
       "  </thead>\n",
       "  <tbody>\n",
       "    <tr>\n",
       "      <th>전국</th>\n",
       "      <td>1,196,139</td>\n",
       "      <td>1,225,881</td>\n",
       "      <td>1,648,904</td>\n",
       "      <td>1,888,952</td>\n",
       "      <td>1,677,605</td>\n",
       "      <td>1,828,951</td>\n",
       "      <td>2,054,005</td>\n",
       "      <td>2,160,252</td>\n",
       "      <td>2,343,831</td>\n",
       "      <td>2,168,318</td>\n",
       "      <td>...</td>\n",
       "      <td>1,580,490</td>\n",
       "      <td>1,129,685</td>\n",
       "      <td>886,723</td>\n",
       "      <td>707,748</td>\n",
       "      <td>426,171</td>\n",
       "      <td>189,073</td>\n",
       "      <td>76,316</td>\n",
       "      <td>22,288</td>\n",
       "      <td>4,688</td>\n",
       "      <td>2,625</td>\n",
       "    </tr>\n",
       "    <tr>\n",
       "      <th>서울특별시</th>\n",
       "      <td>217,165</td>\n",
       "      <td>214,745</td>\n",
       "      <td>287,058</td>\n",
       "      <td>348,118</td>\n",
       "      <td>336,285</td>\n",
       "      <td>430,450</td>\n",
       "      <td>475,134</td>\n",
       "      <td>456,434</td>\n",
       "      <td>461,809</td>\n",
       "      <td>413,152</td>\n",
       "      <td>...</td>\n",
       "      <td>330,258</td>\n",
       "      <td>240,320</td>\n",
       "      <td>190,963</td>\n",
       "      <td>135,900</td>\n",
       "      <td>71,721</td>\n",
       "      <td>31,325</td>\n",
       "      <td>13,089</td>\n",
       "      <td>4,575</td>\n",
       "      <td>1,166</td>\n",
       "      <td>889</td>\n",
       "    </tr>\n",
       "    <tr>\n",
       "      <th>부산광역시</th>\n",
       "      <td>67,274</td>\n",
       "      <td>69,876</td>\n",
       "      <td>101,889</td>\n",
       "      <td>130,246</td>\n",
       "      <td>122,636</td>\n",
       "      <td>129,227</td>\n",
       "      <td>138,295</td>\n",
       "      <td>135,183</td>\n",
       "      <td>148,781</td>\n",
       "      <td>146,064</td>\n",
       "      <td>...</td>\n",
       "      <td>135,682</td>\n",
       "      <td>99,391</td>\n",
       "      <td>73,861</td>\n",
       "      <td>53,977</td>\n",
       "      <td>28,857</td>\n",
       "      <td>11,835</td>\n",
       "      <td>4,193</td>\n",
       "      <td>1,099</td>\n",
       "      <td>248</td>\n",
       "      <td>222</td>\n",
       "    </tr>\n",
       "  </tbody>\n",
       "</table>\n",
       "<p>3 rows × 21 columns</p>\n",
       "</div>"
      ],
      "text/plain": [
       "              0~4세       5~9세     10~14세     15~19세     20~24세     25~29세  \\\n",
       "행정기관                                                                        \n",
       "전국       1,196,139  1,225,881  1,648,904  1,888,952  1,677,605  1,828,951   \n",
       "서울특별시      217,165    214,745    287,058    348,118    336,285    430,450   \n",
       "부산광역시       67,274     69,876    101,889    130,246    122,636    129,227   \n",
       "\n",
       "            30~34세     35~39세     40~44세     45~49세  ...     55~59세  \\\n",
       "행정기관                                                 ...              \n",
       "전국       2,054,005  2,160,252  2,343,831  2,168,318  ...  1,580,490   \n",
       "서울특별시      475,134    456,434    461,809    413,152  ...    330,258   \n",
       "부산광역시      138,295    135,183    148,781    146,064  ...    135,682   \n",
       "\n",
       "            60~64세   65~69세   70~74세   75~79세   80~84세  85~89세  90~94세 95~99세  \\\n",
       "행정기관                                                                            \n",
       "전국       1,129,685  886,723  707,748  426,171  189,073  76,316  22,288  4,688   \n",
       "서울특별시      240,320  190,963  135,900   71,721   31,325  13,089   4,575  1,166   \n",
       "부산광역시       99,391   73,861   53,977   28,857   11,835   4,193   1,099    248   \n",
       "\n",
       "        100세 이상  \n",
       "행정기관             \n",
       "전국        2,625  \n",
       "서울특별시       889  \n",
       "부산광역시       222  \n",
       "\n",
       "[3 rows x 21 columns]"
      ]
     },
     "execution_count": 1,
     "metadata": {},
     "output_type": "execute_result"
    }
   ],
   "source": [
    "import pandas as pd\n",
    "file_name = '201110_201110_연령별인구현황_월간.xlsx'\n",
    "# 위에 세 줄은 불필요하므로 생략 / 행정기관을 index로 / 엑셀의 B열과 E~Y열을 불러옴\n",
    "df_m = pd.read_excel(file_name, skiprows=3, index_col='행정기관', usecols='B, E:Y')\n",
    "df_m.head(3)"
   ]
  },
  {
   "cell_type": "code",
   "execution_count": 2,
   "id": "1f976c72",
   "metadata": {},
   "outputs": [],
   "source": [
    "# ','를 제거하고 int로 변환\n",
    "df_m.iloc[0] = df_m.iloc[0].str.replace(',', '').astype(int)"
   ]
  },
  {
   "cell_type": "code",
   "execution_count": 3,
   "id": "2189f992",
   "metadata": {},
   "outputs": [
    {
     "data": {
      "text/plain": [
       "0~4세       1196139\n",
       "5~9세       1225881\n",
       "10~14세     1648904\n",
       "15~19세     1888952\n",
       "20~24세     1677605\n",
       "25~29세     1828951\n",
       "30~34세     2054005\n",
       "35~39세     2160252\n",
       "40~44세     2343831\n",
       "45~49세     2168318\n",
       "50~54세     2173255\n",
       "55~59세     1580490\n",
       "60~64세     1129685\n",
       "65~69세      886723\n",
       "70~74세      707748\n",
       "75~79세      426171\n",
       "80~84세      189073\n",
       "85~89세       76316\n",
       "90~94세       22288\n",
       "95~99세        4688\n",
       "100세 이상       2625\n",
       "Name: 전국  , dtype: object"
      ]
     },
     "execution_count": 3,
     "metadata": {},
     "output_type": "execute_result"
    }
   ],
   "source": [
    "df_m.iloc[0]"
   ]
  },
  {
   "cell_type": "markdown",
   "id": "ff4df705",
   "metadata": {},
   "source": [
    "## 여자 데이터 정의"
   ]
  },
  {
   "cell_type": "code",
   "execution_count": 4,
   "id": "2ac52a63",
   "metadata": {},
   "outputs": [
    {
     "name": "stderr",
     "output_type": "stream",
     "text": [
      "C:\\Users\\delphinus\\anaconda3\\lib\\site-packages\\openpyxl\\styles\\stylesheet.py:226: UserWarning: Workbook contains no default style, apply openpyxl's default\n",
      "  warn(\"Workbook contains no default style, apply openpyxl's default\")\n"
     ]
    },
    {
     "data": {
      "text/html": [
       "<div>\n",
       "<style scoped>\n",
       "    .dataframe tbody tr th:only-of-type {\n",
       "        vertical-align: middle;\n",
       "    }\n",
       "\n",
       "    .dataframe tbody tr th {\n",
       "        vertical-align: top;\n",
       "    }\n",
       "\n",
       "    .dataframe thead th {\n",
       "        text-align: right;\n",
       "    }\n",
       "</style>\n",
       "<table border=\"1\" class=\"dataframe\">\n",
       "  <thead>\n",
       "    <tr style=\"text-align: right;\">\n",
       "      <th></th>\n",
       "      <th>0~4세.1</th>\n",
       "      <th>5~9세.1</th>\n",
       "      <th>10~14세.1</th>\n",
       "      <th>15~19세.1</th>\n",
       "      <th>20~24세.1</th>\n",
       "      <th>25~29세.1</th>\n",
       "      <th>30~34세.1</th>\n",
       "      <th>35~39세.1</th>\n",
       "      <th>40~44세.1</th>\n",
       "      <th>45~49세.1</th>\n",
       "      <th>...</th>\n",
       "      <th>55~59세.1</th>\n",
       "      <th>60~64세.1</th>\n",
       "      <th>65~69세.1</th>\n",
       "      <th>70~74세.1</th>\n",
       "      <th>75~79세.1</th>\n",
       "      <th>80~84세.1</th>\n",
       "      <th>85~89세.1</th>\n",
       "      <th>90~94세.1</th>\n",
       "      <th>95~99세.1</th>\n",
       "      <th>100세 이상.1</th>\n",
       "    </tr>\n",
       "    <tr>\n",
       "      <th>행정기관</th>\n",
       "      <th></th>\n",
       "      <th></th>\n",
       "      <th></th>\n",
       "      <th></th>\n",
       "      <th></th>\n",
       "      <th></th>\n",
       "      <th></th>\n",
       "      <th></th>\n",
       "      <th></th>\n",
       "      <th></th>\n",
       "      <th></th>\n",
       "      <th></th>\n",
       "      <th></th>\n",
       "      <th></th>\n",
       "      <th></th>\n",
       "      <th></th>\n",
       "      <th></th>\n",
       "      <th></th>\n",
       "      <th></th>\n",
       "      <th></th>\n",
       "      <th></th>\n",
       "    </tr>\n",
       "  </thead>\n",
       "  <tbody>\n",
       "    <tr>\n",
       "      <th>전국</th>\n",
       "      <td>1,126,532</td>\n",
       "      <td>1,134,864</td>\n",
       "      <td>1,511,249</td>\n",
       "      <td>1,667,888</td>\n",
       "      <td>1,514,748</td>\n",
       "      <td>1,722,353</td>\n",
       "      <td>1,971,053</td>\n",
       "      <td>2,072,858</td>\n",
       "      <td>2,270,185</td>\n",
       "      <td>2,051,419</td>\n",
       "      <td>...</td>\n",
       "      <td>1,597,370</td>\n",
       "      <td>1,181,853</td>\n",
       "      <td>1,015,345</td>\n",
       "      <td>920,742</td>\n",
       "      <td>690,102</td>\n",
       "      <td>420,612</td>\n",
       "      <td>204,346</td>\n",
       "      <td>71,444</td>\n",
       "      <td>18,865</td>\n",
       "      <td>8,867</td>\n",
       "    </tr>\n",
       "    <tr>\n",
       "      <th>서울특별시</th>\n",
       "      <td>206,100</td>\n",
       "      <td>201,492</td>\n",
       "      <td>264,925</td>\n",
       "      <td>312,478</td>\n",
       "      <td>332,681</td>\n",
       "      <td>439,748</td>\n",
       "      <td>466,672</td>\n",
       "      <td>439,137</td>\n",
       "      <td>458,972</td>\n",
       "      <td>410,260</td>\n",
       "      <td>...</td>\n",
       "      <td>356,313</td>\n",
       "      <td>258,859</td>\n",
       "      <td>204,935</td>\n",
       "      <td>156,808</td>\n",
       "      <td>106,328</td>\n",
       "      <td>66,398</td>\n",
       "      <td>34,093</td>\n",
       "      <td>12,798</td>\n",
       "      <td>3,879</td>\n",
       "      <td>2,665</td>\n",
       "    </tr>\n",
       "    <tr>\n",
       "      <th>부산광역시</th>\n",
       "      <td>63,850</td>\n",
       "      <td>64,877</td>\n",
       "      <td>90,804</td>\n",
       "      <td>110,418</td>\n",
       "      <td>109,772</td>\n",
       "      <td>121,800</td>\n",
       "      <td>132,206</td>\n",
       "      <td>131,205</td>\n",
       "      <td>152,200</td>\n",
       "      <td>149,839</td>\n",
       "      <td>...</td>\n",
       "      <td>141,339</td>\n",
       "      <td>104,535</td>\n",
       "      <td>79,917</td>\n",
       "      <td>67,470</td>\n",
       "      <td>46,327</td>\n",
       "      <td>28,180</td>\n",
       "      <td>12,919</td>\n",
       "      <td>4,014</td>\n",
       "      <td>1,157</td>\n",
       "      <td>838</td>\n",
       "    </tr>\n",
       "  </tbody>\n",
       "</table>\n",
       "<p>3 rows × 21 columns</p>\n",
       "</div>"
      ],
      "text/plain": [
       "            0~4세.1     5~9세.1   10~14세.1   15~19세.1   20~24세.1   25~29세.1  \\\n",
       "행정기관                                                                        \n",
       "전국       1,126,532  1,134,864  1,511,249  1,667,888  1,514,748  1,722,353   \n",
       "서울특별시      206,100    201,492    264,925    312,478    332,681    439,748   \n",
       "부산광역시       63,850     64,877     90,804    110,418    109,772    121,800   \n",
       "\n",
       "          30~34세.1   35~39세.1   40~44세.1   45~49세.1  ...   55~59세.1  \\\n",
       "행정기관                                                 ...              \n",
       "전국       1,971,053  2,072,858  2,270,185  2,051,419  ...  1,597,370   \n",
       "서울특별시      466,672    439,137    458,972    410,260  ...    356,313   \n",
       "부산광역시      132,206    131,205    152,200    149,839  ...    141,339   \n",
       "\n",
       "          60~64세.1   65~69세.1 70~74세.1 75~79세.1 80~84세.1 85~89세.1 90~94세.1  \\\n",
       "행정기관                                                                         \n",
       "전국       1,181,853  1,015,345  920,742  690,102  420,612  204,346   71,444   \n",
       "서울특별시      258,859    204,935  156,808  106,328   66,398   34,093   12,798   \n",
       "부산광역시      104,535     79,917   67,470   46,327   28,180   12,919    4,014   \n",
       "\n",
       "        95~99세.1 100세 이상.1  \n",
       "행정기관                        \n",
       "전국        18,865     8,867  \n",
       "서울특별시      3,879     2,665  \n",
       "부산광역시      1,157       838  \n",
       "\n",
       "[3 rows x 21 columns]"
      ]
     },
     "execution_count": 4,
     "metadata": {},
     "output_type": "execute_result"
    }
   ],
   "source": [
    "# 위에 세 줄은 불필요하므로 생략 / 행정기관을 index로 / 엑셀의 B열과 AB~AV열을 불러옴\n",
    "df_w = pd.read_excel(file_name, skiprows=3, index_col='행정기관', usecols='B, AB:AV')\n",
    "df_w.head(3)\n",
    "\n",
    "# 0~4세가 앞에(남자 데이터)도 있기에 .1로 구분하여 표시됨"
   ]
  },
  {
   "cell_type": "code",
   "execution_count": 5,
   "id": "597af544",
   "metadata": {},
   "outputs": [
    {
     "data": {
      "text/plain": [
       "Index(['0~4세', '5~9세', '10~14세', '15~19세', '20~24세', '25~29세', '30~34세',\n",
       "       '35~39세', '40~44세', '45~49세', '50~54세', '55~59세', '60~64세', '65~69세',\n",
       "       '70~74세', '75~79세', '80~84세', '85~89세', '90~94세', '95~99세', '100세 이상'],\n",
       "      dtype='object')"
      ]
     },
     "execution_count": 5,
     "metadata": {},
     "output_type": "execute_result"
    }
   ],
   "source": [
    "df_m.columns"
   ]
  },
  {
   "cell_type": "code",
   "execution_count": 6,
   "id": "14817947",
   "metadata": {},
   "outputs": [
    {
     "data": {
      "text/plain": [
       "Index(['0~4세.1', '5~9세.1', '10~14세.1', '15~19세.1', '20~24세.1', '25~29세.1',\n",
       "       '30~34세.1', '35~39세.1', '40~44세.1', '45~49세.1', '50~54세.1', '55~59세.1',\n",
       "       '60~64세.1', '65~69세.1', '70~74세.1', '75~79세.1', '80~84세.1', '85~89세.1',\n",
       "       '90~94세.1', '95~99세.1', '100세 이상.1'],\n",
       "      dtype='object')"
      ]
     },
     "execution_count": 6,
     "metadata": {},
     "output_type": "execute_result"
    }
   ],
   "source": [
    "df_w.columns"
   ]
  },
  {
   "cell_type": "code",
   "execution_count": 7,
   "id": "673cfd02",
   "metadata": {},
   "outputs": [
    {
     "data": {
      "text/plain": [
       "Index(['0~4세', '5~9세', '10~14세', '15~19세', '20~24세', '25~29세', '30~34세',\n",
       "       '35~39세', '40~44세', '45~49세', '50~54세', '55~59세', '60~64세', '65~69세',\n",
       "       '70~74세', '75~79세', '80~84세', '85~89세', '90~94세', '95~99세', '100세 이상'],\n",
       "      dtype='object')"
      ]
     },
     "execution_count": 7,
     "metadata": {},
     "output_type": "execute_result"
    }
   ],
   "source": [
    "# 컬럼명 통일\n",
    "df_w.columns = df_m.columns\n",
    "df_w.columns"
   ]
  },
  {
   "cell_type": "code",
   "execution_count": 8,
   "id": "7ce910ca",
   "metadata": {},
   "outputs": [],
   "source": [
    "# ','를 제거하고 int로 변환\n",
    "df_w.iloc[0] = df_w.iloc[0].str.replace(',', '').astype(int)"
   ]
  },
  {
   "cell_type": "code",
   "execution_count": 9,
   "id": "e9785ecd",
   "metadata": {},
   "outputs": [
    {
     "data": {
      "text/plain": [
       "0~4세       1126532\n",
       "5~9세       1134864\n",
       "10~14세     1511249\n",
       "15~19세     1667888\n",
       "20~24세     1514748\n",
       "25~29세     1722353\n",
       "30~34세     1971053\n",
       "35~39세     2072858\n",
       "40~44세     2270185\n",
       "45~49세     2051419\n",
       "50~54세     2134883\n",
       "55~59세     1597370\n",
       "60~64세     1181853\n",
       "65~69세     1015345\n",
       "70~74세      920742\n",
       "75~79세      690102\n",
       "80~84세      420612\n",
       "85~89세      204346\n",
       "90~94세       71444\n",
       "95~99세       18865\n",
       "100세 이상       8867\n",
       "Name: 전국  , dtype: object"
      ]
     },
     "execution_count": 9,
     "metadata": {},
     "output_type": "execute_result"
    }
   ],
   "source": [
    "df_w.iloc[0]"
   ]
  },
  {
   "cell_type": "markdown",
   "id": "b7dda6de",
   "metadata": {},
   "source": [
    "## 데이터 시각화"
   ]
  },
  {
   "cell_type": "code",
   "execution_count": 10,
   "id": "886fe606",
   "metadata": {},
   "outputs": [],
   "source": [
    "import pandas as pd\n",
    "import matplotlib.pyplot as plt\n",
    "import matplotlib\n",
    "matplotlib.rcParams['font.family'] = 'Malgun Gothic' # Windows\n",
    "# matplotlib.rcParams['font.family'] = 'AppleGothic' # Mac\n",
    "matplotlib.rcParams['font.size'] = 15\n",
    "matplotlib.rcParams['axes.unicode_minus'] = False"
   ]
  },
  {
   "cell_type": "code",
   "execution_count": 11,
   "id": "91bb8016",
   "metadata": {
    "scrolled": true
   },
   "outputs": [
    {
     "data": {
      "image/png": "[encoded data removed]",
      "text/plain": [
       "<Figure size 720x504 with 1 Axes>"
      ]
     },
     "metadata": {
      "needs_background": "light"
     },
     "output_type": "display_data"
    }
   ],
   "source": [
    "plt.figure(figsize=(10, 7))\n",
    "plt.barh(df_m.columns, -df_m.iloc[0] // 1000) # 단위 : 천 명\n",
    "plt.barh(df_w.columns, df_w.iloc[0] // 1000) # 단위 : 천 명\n",
    "plt.title('2011 대한민국 인구 피라미드')\n",
    "plt.savefig('2011_인구피라미드.png', dpi=100)\n",
    "plt.show()"
   ]
  }
 ],
 "metadata": {
  "kernelspec": {
   "display_name": "Python 3 (ipykernel)",
   "language": "python",
   "name": "python3"
  },
  "language_info": {
   "codemirror_mode": {
    "name": "ipython",
    "version": 3
   },
   "file_extension": ".py",
   "mimetype": "text/x-python",
   "name": "python",
   "nbconvert_exporter": "python",
   "pygments_lexer": "ipython3",
   "version": "3.8.12"
  }
 },
 "nbformat": 4,
 "nbformat_minor": 5
}
